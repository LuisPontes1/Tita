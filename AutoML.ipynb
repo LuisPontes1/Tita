{
 "cells": [
  {
   "cell_type": "code",
   "execution_count": 10,
   "metadata": {},
   "outputs": [
    {
     "name": "stderr",
     "output_type": "stream",
     "text": [
      "2020-08-06 21:32:57,959 [INFO]  NumExpr defaulting to 4 threads.\n",
      "C:\\Users\\alexa\\AppData\\Roaming\\Python\\Python37\\site-packages\\tpot\\builtins\\__init__.py:36: UserWarning: Warning: optional dependency `torch` is not available. - skipping import of NN models.\n",
      "  warnings.warn(\"Warning: optional dependency `torch` is not available. - skipping import of NN models.\")\n"
     ]
    }
   ],
   "source": [
    "import pandas as pd\n",
    "import numpy as np\n",
    "\n",
    "#Minhas Bibliotecas\n",
    "import DatasetAnalise as faa\n",
    "import CreateVariables as facv\n",
    "import SolveNullsAndPreparationData as fanp\n",
    "import ModelsAdvancedAnalysis as fam\n",
    "\n",
    "#pip install autokeras\n",
    "#pip install git+https://github.com/keras-team/keras-tuner.git@1.0.2rc0#egg=keras-tuner-1.0.2rc0\n",
    "import autokeras as ak\n",
    "#https://medium.com/ensina-ai/auto-machine-learning-o-que-%C3%A9-aplica%C3%A7%C3%B5es-e-desafios-21a5c3acb0a0"
   ]
  },
  {
   "cell_type": "code",
   "execution_count": 8,
   "metadata": {},
   "outputs": [],
   "source": [
    "versao = '_v1'\n",
    "pre_tratamento = '_processado'\n",
    "nome_alvo = 'Survived'\n",
    "\n",
    "#Dados de entradas de treino\n",
    "arquivo_treino = 'bases/train' + pre_tratamento + versao + '.csv'\n",
    "df = pd.read_csv(arquivo_treino)\n",
    "\n",
    "#Dados de entrada de teste\n",
    "df_test = pd.read_csv('bases/test' + pre_tratamento + versao + '.csv')\n",
    "\n",
    "#Dados das soluções dos dados de teste (modelo de submissão)\n",
    "df_gender = pd.read_csv('submissoes/gender_submission.csv')"
   ]
  },
  {
   "cell_type": "code",
   "execution_count": 7,
   "metadata": {},
   "outputs": [],
   "source": [
    "clf = ak.StructuredDataClassifier(max_trials = 30)"
   ]
  },
  {
   "cell_type": "code",
   "execution_count": 9,
   "metadata": {},
   "outputs": [
    {
     "data": {
      "text/html": [
       "<span style=\"color:#4527A0\"><h1 style=\"font-size:18px\">Starting new trial</h1></span>"
      ],
      "text/plain": [
       "<IPython.core.display.HTML object>"
      ]
     },
     "metadata": {},
     "output_type": "display_data"
    },
    {
     "name": "stdout",
     "output_type": "stream",
     "text": [
      "Epoch 1/1000\n",
      "23/23 [==============================] - ETA: 0s - loss: 44189.0352 - accuracy: 0.50 - ETA: 0s - loss: 27841.6543 - accuracy: 0.49 - 1s 35ms/step - loss: 23199.3730 - accuracy: 0.5068 - val_loss: 1654.4203 - val_accuracy: 0.6387\n",
      "Epoch 2/1000\n",
      "23/23 [==============================] - ETA: 0s - loss: 12601.1562 - accuracy: 0.43 - ETA: 0s - loss: 13343.3164 - accuracy: 0.50 - 0s 9ms/step - loss: 10833.8564 - accuracy: 0.5367 - val_loss: 1738.0947 - val_accuracy: 0.6323\n",
      "Epoch 3/1000\n",
      "23/23 [==============================] - ETA: 0s - loss: 21272.7227 - accuracy: 0.53 - ETA: 0s - loss: 10389.0762 - accuracy: 0.55 - ETA: 0s - loss: 8852.2959 - accuracy: 0.5584 - 0s 10ms/step - loss: 8852.2959 - accuracy: 0.5584 - val_loss: 1533.2073 - val_accuracy: 0.6452\n",
      "Epoch 4/1000\n",
      "23/23 [==============================] - ETA: 0s - loss: 14687.4473 - accuracy: 0.40 - ETA: 0s - loss: 12362.3438 - accuracy: 0.48 - 0s 7ms/step - loss: 10993.1465 - accuracy: 0.5231 - val_loss: 1926.8099 - val_accuracy: 0.6452\n",
      "Epoch 5/1000\n",
      "23/23 [==============================] - ETA: 0s - loss: 8411.0391 - accuracy: 0.437 - ETA: 0s - loss: 10118.7959 - accuracy: 0.50 - 0s 11ms/step - loss: 8496.1748 - accuracy: 0.5245 - val_loss: 2080.4067 - val_accuracy: 0.6516\n",
      "Epoch 6/1000\n",
      "23/23 [==============================] - ETA: 0s - loss: 7856.4780 - accuracy: 0.531 - ETA: 0s - loss: 7053.9810 - accuracy: 0.525 - ETA: 0s - loss: 6013.9199 - accuracy: 0.537 - 0s 12ms/step - loss: 5931.5923 - accuracy: 0.5476 - val_loss: 2114.4988 - val_accuracy: 0.6387\n",
      "Epoch 7/1000\n",
      "23/23 [==============================] - ETA: 0s - loss: 20216.6309 - accuracy: 0.50 - ETA: 0s - loss: 8258.2627 - accuracy: 0.5290 - 0s 9ms/step - loss: 6901.0229 - accuracy: 0.5571 - val_loss: 1836.9551 - val_accuracy: 0.6387\n",
      "Epoch 8/1000\n",
      "23/23 [==============================] - ETA: 0s - loss: 5491.8882 - accuracy: 0.500 - ETA: 0s - loss: 5179.2217 - accuracy: 0.539 - 0s 11ms/step - loss: 5576.5195 - accuracy: 0.5489 - val_loss: 1458.0718 - val_accuracy: 0.6452\n",
      "Epoch 9/1000\n",
      "23/23 [==============================] - ETA: 0s - loss: 11585.6230 - accuracy: 0.40 - ETA: 1s - loss: 6326.8750 - accuracy: 0.5156 - ETA: 0s - loss: 5392.8901 - accuracy: 0.531 - ETA: 0s - loss: 5220.1450 - accuracy: 0.538 - 0s 18ms/step - loss: 4679.6201 - accuracy: 0.5543 - val_loss: 1045.3802 - val_accuracy: 0.6516\n",
      "Epoch 10/1000\n",
      "23/23 [==============================] - ETA: 0s - loss: 7595.7832 - accuracy: 0.375 - ETA: 0s - loss: 4926.8423 - accuracy: 0.520 - 0s 10ms/step - loss: 4412.4497 - accuracy: 0.5326 - val_loss: 701.6628 - val_accuracy: 0.6452\n",
      "Epoch 11/1000\n",
      "23/23 [==============================] - ETA: 0s - loss: 10809.4648 - accuracy: 0.46 - ETA: 0s - loss: 4453.6704 - accuracy: 0.5647 - 0s 10ms/step - loss: 3938.6213 - accuracy: 0.5639 - val_loss: 503.3248 - val_accuracy: 0.6387\n",
      "Epoch 12/1000\n",
      "23/23 [==============================] - ETA: 0s - loss: 4047.4751 - accuracy: 0.656 - ETA: 0s - loss: 3785.9763 - accuracy: 0.553 - 0s 14ms/step - loss: 3591.6360 - accuracy: 0.5666 - val_loss: 288.2441 - val_accuracy: 0.6774\n",
      "Epoch 13/1000\n",
      "23/23 [==============================] - ETA: 0s - loss: 1677.8274 - accuracy: 0.468 - ETA: 0s - loss: 3218.2734 - accuracy: 0.500 - ETA: 0s - loss: 2848.4136 - accuracy: 0.535 - 0s 13ms/step - loss: 2772.3931 - accuracy: 0.5476 - val_loss: 240.9202 - val_accuracy: 0.6516\n",
      "Epoch 14/1000\n",
      "23/23 [==============================] - ETA: 0s - loss: 2773.3420 - accuracy: 0.500 - ETA: 0s - loss: 4813.3071 - accuracy: 0.528 - 0s 11ms/step - loss: 3303.7202 - accuracy: 0.5611 - val_loss: 137.4826 - val_accuracy: 0.6452\n",
      "Epoch 15/1000\n",
      "23/23 [==============================] - ETA: 0s - loss: 1551.2445 - accuracy: 0.625 - ETA: 0s - loss: 2751.2412 - accuracy: 0.568 - 0s 9ms/step - loss: 2663.6880 - accuracy: 0.5761 - val_loss: 85.1249 - val_accuracy: 0.6516\n",
      "Epoch 16/1000\n",
      "23/23 [==============================] - ETA: 0s - loss: 2014.0853 - accuracy: 0.562 - ETA: 0s - loss: 2843.8218 - accuracy: 0.528 - ETA: 0s - loss: 2263.4358 - accuracy: 0.553 - ETA: 0s - loss: 2221.8921 - accuracy: 0.555 - 1s 22ms/step - loss: 2144.0596 - accuracy: 0.5571 - val_loss: 43.7622 - val_accuracy: 0.6194\n",
      "Epoch 17/1000\n",
      "23/23 [==============================] - ETA: 0s - loss: 5493.5596 - accuracy: 0.437 - ETA: 0s - loss: 1545.5046 - accuracy: 0.556 - 0s 10ms/step - loss: 2029.5032 - accuracy: 0.5666 - val_loss: 19.5923 - val_accuracy: 0.6194\n",
      "Epoch 18/1000\n",
      "23/23 [==============================] - ETA: 0s - loss: 1863.0033 - accuracy: 0.500 - ETA: 0s - loss: 1894.1920 - accuracy: 0.571 - 0s 10ms/step - loss: 1581.9623 - accuracy: 0.6033 - val_loss: 3.1758 - val_accuracy: 0.6387\n",
      "Epoch 19/1000\n",
      "23/23 [==============================] - ETA: 0s - loss: 1196.0598 - accuracy: 0.531 - ETA: 0s - loss: 870.9926 - accuracy: 0.572 - 0s 10ms/step - loss: 1043.1082 - accuracy: 0.5707 - val_loss: 2.0429 - val_accuracy: 0.6387\n",
      "Epoch 20/1000\n",
      "23/23 [==============================] - ETA: 0s - loss: 1907.6790 - accuracy: 0.500 - ETA: 0s - loss: 1122.5173 - accuracy: 0.500 - ETA: 0s - loss: 903.7108 - accuracy: 0.531 - 0s 17ms/step - loss: 1225.4419 - accuracy: 0.5720 - val_loss: 0.8868 - val_accuracy: 0.6387\n",
      "Epoch 21/1000\n",
      "23/23 [==============================] - ETA: 0s - loss: 3156.1982 - accuracy: 0.656 - ETA: 0s - loss: 972.1928 - accuracy: 0.589 - 0s 10ms/step - loss: 877.4901 - accuracy: 0.5910 - val_loss: 0.6739 - val_accuracy: 0.6645\n",
      "Epoch 22/1000\n",
      "23/23 [==============================] - ETA: 0s - loss: 1632.7985 - accuracy: 0.437 - ETA: 0s - loss: 1251.7772 - accuracy: 0.497 - ETA: 0s - loss: 1017.0842 - accuracy: 0.543 - 0s 13ms/step - loss: 1019.7502 - accuracy: 0.5543 - val_loss: 0.7250 - val_accuracy: 0.6387\n",
      "Epoch 23/1000\n",
      "23/23 [==============================] - ETA: 0s - loss: 3132.9424 - accuracy: 0.500 - ETA: 0s - loss: 987.5112 - accuracy: 0.575 - 0s 14ms/step - loss: 843.7333 - accuracy: 0.5815 - val_loss: 0.6677 - val_accuracy: 0.6839\n",
      "Epoch 24/1000\n",
      "23/23 [==============================] - ETA: 0s - loss: 556.5123 - accuracy: 0.46 - ETA: 0s - loss: 1044.1580 - accuracy: 0.538 - 0s 12ms/step - loss: 823.0565 - accuracy: 0.5571 - val_loss: 0.6664 - val_accuracy: 0.6839\n",
      "Epoch 25/1000\n",
      "23/23 [==============================] - ETA: 0s - loss: 1802.7775 - accuracy: 0.468 - ETA: 0s - loss: 718.4769 - accuracy: 0.562 - ETA: 0s - loss: 708.3035 - accuracy: 0.57 - 0s 12ms/step - loss: 708.3035 - accuracy: 0.5707 - val_loss: 0.6747 - val_accuracy: 0.6387\n",
      "Epoch 26/1000\n",
      "23/23 [==============================] - ETA: 0s - loss: 307.5742 - accuracy: 0.56 - ETA: 0s - loss: 694.9318 - accuracy: 0.58 - 0s 9ms/step - loss: 722.4017 - accuracy: 0.5856 - val_loss: 0.6740 - val_accuracy: 0.6387\n",
      "Epoch 27/1000\n",
      "23/23 [==============================] - ETA: 0s - loss: 1746.6143 - accuracy: 0.406 - ETA: 0s - loss: 480.1398 - accuracy: 0.560 - 0s 9ms/step - loss: 561.5498 - accuracy: 0.5625 - val_loss: 0.6728 - val_accuracy: 0.6387\n",
      "Epoch 28/1000\n",
      "23/23 [==============================] - ETA: 0s - loss: 561.2769 - accuracy: 0.46 - ETA: 0s - loss: 570.4313 - accuracy: 0.56 - 0s 15ms/step - loss: 564.4376 - accuracy: 0.5883 - val_loss: 0.6722 - val_accuracy: 0.6387\n",
      "Epoch 29/1000\n",
      "23/23 [==============================] - ETA: 0s - loss: 460.2402 - accuracy: 0.50 - ETA: 0s - loss: 586.9208 - accuracy: 0.58 - 0s 11ms/step - loss: 544.5039 - accuracy: 0.5788 - val_loss: 0.6710 - val_accuracy: 0.6387\n",
      "Epoch 30/1000\n",
      "23/23 [==============================] - ETA: 0s - loss: 512.1083 - accuracy: 0.46 - ETA: 0s - loss: 599.5327 - accuracy: 0.55 - 0s 10ms/step - loss: 476.3222 - accuracy: 0.5652 - val_loss: 0.6701 - val_accuracy: 0.6387\n",
      "Epoch 31/1000\n",
      "23/23 [==============================] - ETA: 0s - loss: 262.3535 - accuracy: 0.50 - ETA: 0s - loss: 489.1530 - accuracy: 0.59 - 0s 10ms/step - loss: 421.6627 - accuracy: 0.6019 - val_loss: 0.6695 - val_accuracy: 0.6387\n",
      "Epoch 32/1000\n",
      "23/23 [==============================] - ETA: 0s - loss: 851.4127 - accuracy: 0.62 - ETA: 0s - loss: 470.8168 - accuracy: 0.59 - ETA: 0s - loss: 242.4536 - accuracy: 0.56 - ETA: 0s - loss: 247.7898 - accuracy: 0.57 - 1s 24ms/step - loss: 248.9750 - accuracy: 0.5788 - val_loss: 0.6686 - val_accuracy: 0.6387\n"
     ]
    },
    {
     "name": "stdout",
     "output_type": "stream",
     "text": [
      "Epoch 33/1000\n",
      "23/23 [==============================] - ETA: 0s - loss: 175.3225 - accuracy: 0.56 - ETA: 0s - loss: 527.8936 - accuracy: 0.56 - 0s 12ms/step - loss: 393.9909 - accuracy: 0.5734 - val_loss: 0.6682 - val_accuracy: 0.6387\n",
      "Epoch 34/1000\n",
      "23/23 [==============================] - ETA: 0s - loss: 238.3729 - accuracy: 0.53 - ETA: 0s - loss: 163.8558 - accuracy: 0.56 - 0s 11ms/step - loss: 153.8669 - accuracy: 0.5815 - val_loss: 0.6679 - val_accuracy: 0.6387\n"
     ]
    },
    {
     "data": {
      "text/html": [
       "<span style=\"color:#4527A0\"><h1 style=\"font-size:18px\">Trial complete</h1></span>"
      ],
      "text/plain": [
       "<IPython.core.display.HTML object>"
      ]
     },
     "metadata": {},
     "output_type": "display_data"
    },
    {
     "data": {
      "text/html": [
       "<span style=\"color:#4527A0\"><h1 style=\"font-size:18px\">Trial summary</h1></span>"
      ],
      "text/plain": [
       "<IPython.core.display.HTML object>"
      ]
     },
     "metadata": {},
     "output_type": "display_data"
    },
    {
     "data": {
      "text/html": [
       "<span style=\"color:cyan\"> |-Trial ID: 29879cf1a08b8acc441fa72171e29023</span>"
      ],
      "text/plain": [
       "<IPython.core.display.HTML object>"
      ]
     },
     "metadata": {},
     "output_type": "display_data"
    },
    {
     "data": {
      "text/html": [
       "<span style=\"color:cyan\"> |-Score: 0.6838709712028503</span>"
      ],
      "text/plain": [
       "<IPython.core.display.HTML object>"
      ]
     },
     "metadata": {},
     "output_type": "display_data"
    },
    {
     "data": {
      "text/html": [
       "<span style=\"color:cyan\"> |-Best step: 22</span>"
      ],
      "text/plain": [
       "<IPython.core.display.HTML object>"
      ]
     },
     "metadata": {},
     "output_type": "display_data"
    },
    {
     "data": {
      "text/html": [
       "<span style=\"color:#7E57C2\"><h2 style=\"font-size:16px\">Hyperparameters:</h2></span>"
      ],
      "text/plain": [
       "<IPython.core.display.HTML object>"
      ]
     },
     "metadata": {},
     "output_type": "display_data"
    },
    {
     "data": {
      "text/html": [
       "<span style=\"color:cyan\"> |-classification_head_2/dropout: 0</span>"
      ],
      "text/plain": [
       "<IPython.core.display.HTML object>"
      ]
     },
     "metadata": {},
     "output_type": "display_data"
    },
    {
     "data": {
      "text/html": [
       "<span style=\"color:blue\"> |-learning_rate: 0.001</span>"
      ],
      "text/plain": [
       "<IPython.core.display.HTML object>"
      ]
     },
     "metadata": {},
     "output_type": "display_data"
    },
    {
     "data": {
      "text/html": [
       "<span style=\"color:cyan\"> |-optimizer: adam</span>"
      ],
      "text/plain": [
       "<IPython.core.display.HTML object>"
      ]
     },
     "metadata": {},
     "output_type": "display_data"
    },
    {
     "data": {
      "text/html": [
       "<span style=\"color:blue\"> |-structured_data_block_2/dense_block_1/dropout: 0.5</span>"
      ],
      "text/plain": [
       "<IPython.core.display.HTML object>"
      ]
     },
     "metadata": {},
     "output_type": "display_data"
    },
    {
     "data": {
      "text/html": [
       "<span style=\"color:cyan\"> |-structured_data_block_2/dense_block_1/num_layers: 2</span>"
      ],
      "text/plain": [
       "<IPython.core.display.HTML object>"
      ]
     },
     "metadata": {},
     "output_type": "display_data"
    },
    {
     "data": {
      "text/html": [
       "<span style=\"color:blue\"> |-structured_data_block_2/dense_block_1/units_0: 64</span>"
      ],
      "text/plain": [
       "<IPython.core.display.HTML object>"
      ]
     },
     "metadata": {},
     "output_type": "display_data"
    },
    {
     "data": {
      "text/html": [
       "<span style=\"color:cyan\"> |-structured_data_block_2/dense_block_1/units_1: 32</span>"
      ],
      "text/plain": [
       "<IPython.core.display.HTML object>"
      ]
     },
     "metadata": {},
     "output_type": "display_data"
    },
    {
     "data": {
      "text/html": [
       "<span style=\"color:blue\"> |-structured_data_block_2/dense_block_1/use_batchnorm: False</span>"
      ],
      "text/plain": [
       "<IPython.core.display.HTML object>"
      ]
     },
     "metadata": {},
     "output_type": "display_data"
    },
    {
     "data": {
      "text/html": [
       "<span style=\"color:#4527A0\"><h1 style=\"font-size:18px\">Starting new trial</h1></span>"
      ],
      "text/plain": [
       "<IPython.core.display.HTML object>"
      ]
     },
     "metadata": {},
     "output_type": "display_data"
    },
    {
     "name": "stdout",
     "output_type": "stream",
     "text": [
      "Epoch 1/1000\n",
      "23/23 [==============================] - ETA: 0s - loss: 8574.6963 - accuracy: 0.500 - ETA: 0s - loss: 5491.1802 - accuracy: 0.601 - 1s 39ms/step - loss: 4514.9287 - accuracy: 0.5938 - val_loss: 3404.8162 - val_accuracy: 0.6839\n",
      "Epoch 2/1000\n",
      "23/23 [==============================] - ETA: 0s - loss: 9364.1963 - accuracy: 0.562 - ETA: 0s - loss: 4599.6553 - accuracy: 0.478 - ETA: 0s - loss: 3904.6326 - accuracy: 0.549 - 0s 9ms/step - loss: 3785.6929 - accuracy: 0.5530 - val_loss: 1284.9604 - val_accuracy: 0.6710\n",
      "Epoch 3/1000\n",
      "23/23 [==============================] - ETA: 0s - loss: 4344.3867 - accuracy: 0.437 - ETA: 0s - loss: 2713.3447 - accuracy: 0.507 - 0s 8ms/step - loss: 3119.6687 - accuracy: 0.5462 - val_loss: 1265.4733 - val_accuracy: 0.7161\n",
      "Epoch 4/1000\n",
      "23/23 [==============================] - ETA: 0s - loss: 2876.5273 - accuracy: 0.500 - ETA: 0s - loss: 2696.8589 - accuracy: 0.531 - 0s 8ms/step - loss: 2713.0903 - accuracy: 0.5421 - val_loss: 2388.1448 - val_accuracy: 0.6387\n",
      "Epoch 5/1000\n",
      "23/23 [==============================] - ETA: 0s - loss: 6015.9834 - accuracy: 0.437 - ETA: 0s - loss: 3562.5459 - accuracy: 0.560 - ETA: 0s - loss: 3873.1960 - accuracy: 0.592 - 0s 10ms/step - loss: 3873.1960 - accuracy: 0.5924 - val_loss: 2721.5459 - val_accuracy: 0.7226\n",
      "Epoch 6/1000\n",
      "23/23 [==============================] - ETA: 0s - loss: 6307.6460 - accuracy: 0.531 - ETA: 0s - loss: 3927.9480 - accuracy: 0.519 - 0s 10ms/step - loss: 3559.8682 - accuracy: 0.5326 - val_loss: 1333.5502 - val_accuracy: 0.7097\n",
      "Epoch 7/1000\n",
      "23/23 [==============================] - ETA: 0s - loss: 3649.2083 - accuracy: 0.625 - ETA: 0s - loss: 3395.6104 - accuracy: 0.582 - ETA: 0s - loss: 3549.1377 - accuracy: 0.568 - 0s 11ms/step - loss: 3294.7603 - accuracy: 0.5815 - val_loss: 2617.3303 - val_accuracy: 0.6516\n",
      "Epoch 8/1000\n",
      "23/23 [==============================] - ETA: 0s - loss: 8401.2227 - accuracy: 0.500 - ETA: 0s - loss: 5221.8823 - accuracy: 0.572 - ETA: 0s - loss: 3493.3132 - accuracy: 0.602 - ETA: 0s - loss: 3500.8164 - accuracy: 0.560 - ETA: 0s - loss: 3131.3862 - accuracy: 0.591 - 0s 19ms/step - loss: 3131.3862 - accuracy: 0.5910 - val_loss: 2520.2146 - val_accuracy: 0.7290\n",
      "Epoch 9/1000\n",
      "23/23 [==============================] - ETA: 0s - loss: 6306.1704 - accuracy: 0.500 - ETA: 0s - loss: 3237.3633 - accuracy: 0.511 - ETA: 0s - loss: 3099.5940 - accuracy: 0.544 - 0s 12ms/step - loss: 2900.1604 - accuracy: 0.5571 - val_loss: 1643.1707 - val_accuracy: 0.6710\n",
      "Epoch 10/1000\n",
      "23/23 [==============================] - ETA: 0s - loss: 8500.0000 - accuracy: 0.531 - ETA: 0s - loss: 3244.7512 - accuracy: 0.541 - ETA: 0s - loss: 3389.4097 - accuracy: 0.533 - ETA: 0s - loss: 3325.5669 - accuracy: 0.573 - 0s 20ms/step - loss: 3194.2007 - accuracy: 0.5842 - val_loss: 2024.4738 - val_accuracy: 0.7290\n",
      "Epoch 11/1000\n",
      "23/23 [==============================] - ETA: 0s - loss: 4761.4570 - accuracy: 0.531 - ETA: 0s - loss: 3148.4746 - accuracy: 0.513 - ETA: 0s - loss: 3532.0603 - accuracy: 0.541 - ETA: 0s - loss: 3217.1570 - accuracy: 0.575 - 0s 15ms/step - loss: 3099.8999 - accuracy: 0.5788 - val_loss: 799.5399 - val_accuracy: 0.5871\n",
      "Epoch 12/1000\n",
      "23/23 [==============================] - ETA: 0s - loss: 3462.4565 - accuracy: 0.468 - ETA: 0s - loss: 2172.3364 - accuracy: 0.555 - ETA: 0s - loss: 2232.0427 - accuracy: 0.539 - 0s 14ms/step - loss: 2197.4885 - accuracy: 0.5625 - val_loss: 1258.4326 - val_accuracy: 0.7355\n",
      "Epoch 13/1000\n",
      "23/23 [==============================] - ETA: 0s - loss: 3118.9182 - accuracy: 0.437 - ETA: 0s - loss: 3050.9895 - accuracy: 0.597 - ETA: 0s - loss: 2995.4509 - accuracy: 0.582 - ETA: 0s - loss: 2828.4802 - accuracy: 0.583 - ETA: 0s - loss: 2502.3250 - accuracy: 0.585 - 1s 29ms/step - loss: 2441.6211 - accuracy: 0.5639 - val_loss: 2501.8713 - val_accuracy: 0.6581\n",
      "Epoch 14/1000\n",
      "23/23 [==============================] - ETA: 0s - loss: 4480.6748 - accuracy: 0.468 - ETA: 0s - loss: 3473.1765 - accuracy: 0.629 - ETA: 0s - loss: 2878.8826 - accuracy: 0.593 - ETA: 0s - loss: 3715.9961 - accuracy: 0.575 - 0s 17ms/step - loss: 3503.6343 - accuracy: 0.6087 - val_loss: 4197.7935 - val_accuracy: 0.7161\n",
      "Epoch 15/1000\n",
      "23/23 [==============================] - ETA: 0s - loss: 9592.5137 - accuracy: 0.500 - ETA: 0s - loss: 4480.6523 - accuracy: 0.559 - ETA: 0s - loss: 3626.7666 - accuracy: 0.560 - 0s 13ms/step - loss: 2790.0869 - accuracy: 0.5897 - val_loss: 1001.2673 - val_accuracy: 0.7097\n",
      "Epoch 16/1000\n",
      "23/23 [==============================] - ETA: 0s - loss: 4695.7651 - accuracy: 0.468 - ETA: 0s - loss: 3040.7393 - accuracy: 0.513 - ETA: 0s - loss: 2838.2234 - accuracy: 0.564 - 0s 14ms/step - loss: 2601.5510 - accuracy: 0.5693 - val_loss: 1752.9843 - val_accuracy: 0.6839\n",
      "Epoch 17/1000\n",
      "23/23 [==============================] - ETA: 0s - loss: 3742.7007 - accuracy: 0.500 - ETA: 0s - loss: 2636.4292 - accuracy: 0.575 - ETA: 0s - loss: 2530.9482 - accuracy: 0.556 - 0s 18ms/step - loss: 2382.5598 - accuracy: 0.5666 - val_loss: 1982.6569 - val_accuracy: 0.6645\n",
      "Epoch 18/1000\n",
      "23/23 [==============================] - ETA: 0s - loss: 4085.4761 - accuracy: 0.468 - ETA: 0s - loss: 2320.7991 - accuracy: 0.556 - ETA: 0s - loss: 2280.3970 - accuracy: 0.583 - 0s 13ms/step - loss: 2113.0269 - accuracy: 0.5883 - val_loss: 1289.9915 - val_accuracy: 0.7484\n",
      "Epoch 19/1000\n",
      "23/23 [==============================] - ETA: 0s - loss: 4522.2700 - accuracy: 0.468 - ETA: 0s - loss: 3089.4519 - accuracy: 0.497 - ETA: 0s - loss: 2864.0334 - accuracy: 0.565 - 0s 13ms/step - loss: 2684.6379 - accuracy: 0.5584 - val_loss: 557.5297 - val_accuracy: 0.4710\n",
      "Epoch 20/1000\n",
      "23/23 [==============================] - ETA: 0s - loss: 5219.3120 - accuracy: 0.500 - ETA: 0s - loss: 2190.6858 - accuracy: 0.531 - ETA: 0s - loss: 2191.0430 - accuracy: 0.557 - 0s 12ms/step - loss: 2142.7417 - accuracy: 0.5666 - val_loss: 1173.3921 - val_accuracy: 0.6581\n",
      "Epoch 21/1000\n",
      "23/23 [==============================] - ETA: 0s - loss: 5601.4268 - accuracy: 0.562 - ETA: 0s - loss: 2513.5190 - accuracy: 0.558 - 0s 21ms/step - loss: 2126.2600 - accuracy: 0.5897 - val_loss: 877.9839 - val_accuracy: 0.7548\n",
      "Epoch 22/1000\n",
      "23/23 [==============================] - ETA: 0s - loss: 2648.0381 - accuracy: 0.500 - ETA: 0s - loss: 2031.5380 - accuracy: 0.548 - ETA: 0s - loss: 2094.4683 - accuracy: 0.572 - 0s 14ms/step - loss: 2025.3979 - accuracy: 0.5897 - val_loss: 1237.7671 - val_accuracy: 0.7290\n",
      "Epoch 23/1000\n",
      "23/23 [==============================] - ETA: 0s - loss: 6378.7349 - accuracy: 0.656 - ETA: 0s - loss: 2737.3350 - accuracy: 0.521 - ETA: 0s - loss: 2646.5913 - accuracy: 0.557 - 0s 12ms/step - loss: 2461.7280 - accuracy: 0.5666 - val_loss: 1397.5062 - val_accuracy: 0.6903\n",
      "Epoch 24/1000\n",
      "23/23 [==============================] - ETA: 0s - loss: 4273.6416 - accuracy: 0.500 - ETA: 0s - loss: 2347.2083 - accuracy: 0.557 - 0s 9ms/step - loss: 1888.7855 - accuracy: 0.5761 - val_loss: 1218.8052 - val_accuracy: 0.7419\n",
      "Epoch 25/1000\n",
      "23/23 [==============================] - ETA: 0s - loss: 1440.5486 - accuracy: 0.593 - ETA: 0s - loss: 2078.1401 - accuracy: 0.588 - ETA: 0s - loss: 2160.4302 - accuracy: 0.591 - ETA: 0s - loss: 2147.7366 - accuracy: 0.596 - 0s 16ms/step - loss: 1813.9832 - accuracy: 0.6060 - val_loss: 989.9884 - val_accuracy: 0.7161\n",
      "Epoch 26/1000\n",
      "23/23 [==============================] - ETA: 0s - loss: 2503.3691 - accuracy: 0.562 - ETA: 0s - loss: 1904.8738 - accuracy: 0.538 - 0s 10ms/step - loss: 1544.5364 - accuracy: 0.5774 - val_loss: 774.2300 - val_accuracy: 0.6903\n",
      "Epoch 27/1000\n",
      "23/23 [==============================] - ETA: 0s - loss: 2096.3008 - accuracy: 0.531 - ETA: 0s - loss: 1872.7351 - accuracy: 0.605 - ETA: 0s - loss: 1605.2815 - accuracy: 0.595 - 0s 11ms/step - loss: 1520.5183 - accuracy: 0.5842 - val_loss: 700.5648 - val_accuracy: 0.7548\n",
      "Epoch 28/1000\n",
      "23/23 [==============================] - ETA: 0s - loss: 2232.9861 - accuracy: 0.500 - ETA: 0s - loss: 1944.0652 - accuracy: 0.570 - ETA: 0s - loss: 1623.5461 - accuracy: 0.584 - 0s 15ms/step - loss: 1540.5881 - accuracy: 0.5856 - val_loss: 611.7510 - val_accuracy: 0.7419\n",
      "Epoch 29/1000\n"
     ]
    },
    {
     "name": "stdout",
     "output_type": "stream",
     "text": [
      "23/23 [==============================] - ETA: 0s - loss: 919.1843 - accuracy: 0.62 - ETA: 0s - loss: 1208.4114 - accuracy: 0.593 - ETA: 0s - loss: 1424.4359 - accuracy: 0.575 - 1s 23ms/step - loss: 1404.6353 - accuracy: 0.5910 - val_loss: 1658.4330 - val_accuracy: 0.7161\n"
     ]
    },
    {
     "data": {
      "text/html": [
       "<span style=\"color:#4527A0\"><h1 style=\"font-size:18px\">Trial complete</h1></span>"
      ],
      "text/plain": [
       "<IPython.core.display.HTML object>"
      ]
     },
     "metadata": {},
     "output_type": "display_data"
    },
    {
     "data": {
      "text/html": [
       "<span style=\"color:#4527A0\"><h1 style=\"font-size:18px\">Trial summary</h1></span>"
      ],
      "text/plain": [
       "<IPython.core.display.HTML object>"
      ]
     },
     "metadata": {},
     "output_type": "display_data"
    },
    {
     "data": {
      "text/html": [
       "<span style=\"color:cyan\"> |-Trial ID: 2113845a7ce8d2496da37a6dd0df49ba</span>"
      ],
      "text/plain": [
       "<IPython.core.display.HTML object>"
      ]
     },
     "metadata": {},
     "output_type": "display_data"
    },
    {
     "data": {
      "text/html": [
       "<span style=\"color:cyan\"> |-Score: 0.7548387050628662</span>"
      ],
      "text/plain": [
       "<IPython.core.display.HTML object>"
      ]
     },
     "metadata": {},
     "output_type": "display_data"
    },
    {
     "data": {
      "text/html": [
       "<span style=\"color:cyan\"> |-Best step: 20</span>"
      ],
      "text/plain": [
       "<IPython.core.display.HTML object>"
      ]
     },
     "metadata": {},
     "output_type": "display_data"
    },
    {
     "data": {
      "text/html": [
       "<span style=\"color:#7E57C2\"><h2 style=\"font-size:16px\">Hyperparameters:</h2></span>"
      ],
      "text/plain": [
       "<IPython.core.display.HTML object>"
      ]
     },
     "metadata": {},
     "output_type": "display_data"
    },
    {
     "data": {
      "text/html": [
       "<span style=\"color:cyan\"> |-classification_head_2/dropout: 0</span>"
      ],
      "text/plain": [
       "<IPython.core.display.HTML object>"
      ]
     },
     "metadata": {},
     "output_type": "display_data"
    },
    {
     "data": {
      "text/html": [
       "<span style=\"color:blue\"> |-learning_rate: 0.001</span>"
      ],
      "text/plain": [
       "<IPython.core.display.HTML object>"
      ]
     },
     "metadata": {},
     "output_type": "display_data"
    },
    {
     "data": {
      "text/html": [
       "<span style=\"color:cyan\"> |-optimizer: adam</span>"
      ],
      "text/plain": [
       "<IPython.core.display.HTML object>"
      ]
     },
     "metadata": {},
     "output_type": "display_data"
    },
    {
     "data": {
      "text/html": [
       "<span style=\"color:blue\"> |-structured_data_block_2/dense_block_1/dropout: 0.25</span>"
      ],
      "text/plain": [
       "<IPython.core.display.HTML object>"
      ]
     },
     "metadata": {},
     "output_type": "display_data"
    },
    {
     "data": {
      "text/html": [
       "<span style=\"color:cyan\"> |-structured_data_block_2/dense_block_1/num_layers: 1</span>"
      ],
      "text/plain": [
       "<IPython.core.display.HTML object>"
      ]
     },
     "metadata": {},
     "output_type": "display_data"
    },
    {
     "data": {
      "text/html": [
       "<span style=\"color:blue\"> |-structured_data_block_2/dense_block_1/units_0: 1024</span>"
      ],
      "text/plain": [
       "<IPython.core.display.HTML object>"
      ]
     },
     "metadata": {},
     "output_type": "display_data"
    },
    {
     "data": {
      "text/html": [
       "<span style=\"color:cyan\"> |-structured_data_block_2/dense_block_1/units_1: 512</span>"
      ],
      "text/plain": [
       "<IPython.core.display.HTML object>"
      ]
     },
     "metadata": {},
     "output_type": "display_data"
    },
    {
     "data": {
      "text/html": [
       "<span style=\"color:blue\"> |-structured_data_block_2/dense_block_1/use_batchnorm: False</span>"
      ],
      "text/plain": [
       "<IPython.core.display.HTML object>"
      ]
     },
     "metadata": {},
     "output_type": "display_data"
    },
    {
     "data": {
      "text/html": [
       "<span style=\"color:#4527A0\"><h1 style=\"font-size:18px\">Starting new trial</h1></span>"
      ],
      "text/plain": [
       "<IPython.core.display.HTML object>"
      ]
     },
     "metadata": {},
     "output_type": "display_data"
    },
    {
     "name": "stdout",
     "output_type": "stream",
     "text": [
      "Epoch 1/1000\n",
      "23/23 [==============================] - ETA: 0s - loss: 1.0988 - accuracy: 0.40 - ETA: 0s - loss: 0.7706 - accuracy: 0.55 - 1s 24ms/step - loss: 0.7428 - accuracy: 0.5870 - val_loss: 0.6776 - val_accuracy: 0.6387\n",
      "Epoch 2/1000\n",
      "23/23 [==============================] - ETA: 0s - loss: 0.6936 - accuracy: 0.50 - ETA: 0s - loss: 0.7291 - accuracy: 0.55 - 0s 10ms/step - loss: 0.7071 - accuracy: 0.6033 - val_loss: 0.6673 - val_accuracy: 0.6581\n",
      "Epoch 3/1000\n",
      "23/23 [==============================] - ETA: 0s - loss: 1.0444 - accuracy: 0.53 - ETA: 0s - loss: 0.7289 - accuracy: 0.59 - 0s 8ms/step - loss: 0.7020 - accuracy: 0.6182 - val_loss: 0.6756 - val_accuracy: 0.6387\n",
      "Epoch 4/1000\n",
      "23/23 [==============================] - ETA: 0s - loss: 0.7805 - accuracy: 0.46 - ETA: 0s - loss: 0.7261 - accuracy: 0.58 - ETA: 0s - loss: 0.7103 - accuracy: 0.59 - 0s 10ms/step - loss: 0.7036 - accuracy: 0.5965 - val_loss: 0.6429 - val_accuracy: 0.7097\n",
      "Epoch 5/1000\n",
      "23/23 [==============================] - ETA: 0s - loss: 0.8151 - accuracy: 0.53 - ETA: 0s - loss: 0.7104 - accuracy: 0.58 - 0s 9ms/step - loss: 0.6795 - accuracy: 0.6264 - val_loss: 0.6359 - val_accuracy: 0.7226\n",
      "Epoch 6/1000\n",
      "23/23 [==============================] - ETA: 0s - loss: 0.7689 - accuracy: 0.53 - ETA: 0s - loss: 0.6583 - accuracy: 0.63 - ETA: 0s - loss: 0.6667 - accuracy: 0.63 - ETA: 0s - loss: 0.6582 - accuracy: 0.63 - ETA: 0s - loss: 0.6531 - accuracy: 0.64 - 1s 22ms/step - loss: 0.6531 - accuracy: 0.6413 - val_loss: 0.6285 - val_accuracy: 0.7290\n",
      "Epoch 7/1000\n",
      "23/23 [==============================] - ETA: 0s - loss: 0.8054 - accuracy: 0.53 - ETA: 0s - loss: 0.6879 - accuracy: 0.60 - ETA: 0s - loss: 0.6876 - accuracy: 0.61 - 0s 14ms/step - loss: 0.6802 - accuracy: 0.6196 - val_loss: 0.6273 - val_accuracy: 0.7226\n",
      "Epoch 8/1000\n",
      "23/23 [==============================] - ETA: 0s - loss: 0.6867 - accuracy: 0.59 - ETA: 0s - loss: 0.6753 - accuracy: 0.58 - ETA: 0s - loss: 0.6543 - accuracy: 0.64 - 0s 18ms/step - loss: 0.6500 - accuracy: 0.6467 - val_loss: 0.6223 - val_accuracy: 0.7161\n",
      "Epoch 9/1000\n",
      "23/23 [==============================] - ETA: 0s - loss: 0.7677 - accuracy: 0.62 - ETA: 0s - loss: 0.6990 - accuracy: 0.58 - ETA: 0s - loss: 0.6696 - accuracy: 0.60 - ETA: 0s - loss: 0.6448 - accuracy: 0.63 - 0s 14ms/step - loss: 0.6448 - accuracy: 0.6372 - val_loss: 0.6173 - val_accuracy: 0.7161\n",
      "Epoch 10/1000\n",
      "23/23 [==============================] - ETA: 0s - loss: 0.7443 - accuracy: 0.50 - ETA: 0s - loss: 0.6550 - accuracy: 0.63 - ETA: 0s - loss: 0.6484 - accuracy: 0.63 - 0s 14ms/step - loss: 0.6406 - accuracy: 0.6399 - val_loss: 0.6113 - val_accuracy: 0.7097\n",
      "Epoch 11/1000\n",
      "23/23 [==============================] - ETA: 0s - loss: 0.6889 - accuracy: 0.59 - ETA: 0s - loss: 0.6723 - accuracy: 0.62 - ETA: 0s - loss: 0.6535 - accuracy: 0.65 - 0s 14ms/step - loss: 0.6493 - accuracy: 0.6535 - val_loss: 0.6095 - val_accuracy: 0.7097\n",
      "Epoch 12/1000\n",
      "23/23 [==============================] - ETA: 0s - loss: 0.6581 - accuracy: 0.62 - ETA: 0s - loss: 0.6808 - accuracy: 0.60 - ETA: 0s - loss: 0.6605 - accuracy: 0.62 - 0s 13ms/step - loss: 0.6654 - accuracy: 0.6345 - val_loss: 0.6074 - val_accuracy: 0.7161\n",
      "Epoch 13/1000\n",
      "23/23 [==============================] - ETA: 0s - loss: 0.6562 - accuracy: 0.59 - ETA: 0s - loss: 0.6730 - accuracy: 0.61 - 0s 9ms/step - loss: 0.6565 - accuracy: 0.6386 - val_loss: 0.6066 - val_accuracy: 0.7161\n",
      "Epoch 14/1000\n",
      "23/23 [==============================] - ETA: 0s - loss: 0.6678 - accuracy: 0.53 - ETA: 0s - loss: 0.6726 - accuracy: 0.62 - 0s 9ms/step - loss: 0.6523 - accuracy: 0.6427 - val_loss: 0.6077 - val_accuracy: 0.7161\n",
      "Epoch 15/1000\n",
      "23/23 [==============================] - ETA: 0s - loss: 0.7241 - accuracy: 0.59 - ETA: 0s - loss: 0.6595 - accuracy: 0.62 - 0s 9ms/step - loss: 0.6389 - accuracy: 0.6481 - val_loss: 0.6028 - val_accuracy: 0.7097\n",
      "Epoch 16/1000\n",
      "23/23 [==============================] - ETA: 0s - loss: 0.7578 - accuracy: 0.50 - ETA: 0s - loss: 0.6742 - accuracy: 0.62 - 0s 10ms/step - loss: 0.6609 - accuracy: 0.6318 - val_loss: 0.6023 - val_accuracy: 0.7226\n",
      "Epoch 17/1000\n",
      "23/23 [==============================] - ETA: 0s - loss: 0.7502 - accuracy: 0.46 - ETA: 0s - loss: 0.6616 - accuracy: 0.61 - ETA: 0s - loss: 0.6435 - accuracy: 0.64 - 0s 11ms/step - loss: 0.6394 - accuracy: 0.6508 - val_loss: 0.6071 - val_accuracy: 0.7161\n",
      "Epoch 18/1000\n",
      "23/23 [==============================] - ETA: 0s - loss: 0.8373 - accuracy: 0.53 - ETA: 0s - loss: 0.6720 - accuracy: 0.63 - 0s 12ms/step - loss: 0.6518 - accuracy: 0.6508 - val_loss: 0.6085 - val_accuracy: 0.7097\n",
      "Epoch 19/1000\n",
      "23/23 [==============================] - ETA: 0s - loss: 0.6623 - accuracy: 0.56 - ETA: 0s - loss: 0.6556 - accuracy: 0.62 - ETA: 0s - loss: 0.6577 - accuracy: 0.61 - 0s 15ms/step - loss: 0.6399 - accuracy: 0.6359 - val_loss: 0.6104 - val_accuracy: 0.7226\n",
      "Epoch 20/1000\n",
      "23/23 [==============================] - ETA: 0s - loss: 0.6816 - accuracy: 0.56 - ETA: 0s - loss: 0.6743 - accuracy: 0.62 - ETA: 0s - loss: 0.6494 - accuracy: 0.63 - 0s 13ms/step - loss: 0.6384 - accuracy: 0.6467 - val_loss: 0.6087 - val_accuracy: 0.7161\n",
      "Epoch 21/1000\n",
      "23/23 [==============================] - ETA: 0s - loss: 0.8529 - accuracy: 0.56 - ETA: 0s - loss: 0.6989 - accuracy: 0.59 - 0s 14ms/step - loss: 0.6450 - accuracy: 0.6332 - val_loss: 0.6069 - val_accuracy: 0.7161\n",
      "Epoch 22/1000\n",
      "23/23 [==============================] - ETA: 0s - loss: 0.6729 - accuracy: 0.59 - ETA: 0s - loss: 0.6643 - accuracy: 0.62 - ETA: 0s - loss: 0.6579 - accuracy: 0.62 - 0s 12ms/step - loss: 0.6531 - accuracy: 0.6264 - val_loss: 0.6074 - val_accuracy: 0.7032\n",
      "Epoch 23/1000\n",
      "23/23 [==============================] - ETA: 0s - loss: 0.6984 - accuracy: 0.56 - ETA: 0s - loss: 0.6710 - accuracy: 0.61 - ETA: 0s - loss: 0.6508 - accuracy: 0.64 - 0s 11ms/step - loss: 0.6508 - accuracy: 0.6440 - val_loss: 0.6056 - val_accuracy: 0.7161\n",
      "Epoch 24/1000\n",
      "23/23 [==============================] - ETA: 0s - loss: 0.7218 - accuracy: 0.56 - ETA: 0s - loss: 0.6576 - accuracy: 0.62 - 0s 8ms/step - loss: 0.6404 - accuracy: 0.6386 - val_loss: 0.6037 - val_accuracy: 0.7097\n",
      "Epoch 25/1000\n",
      "23/23 [==============================] - ETA: 0s - loss: 0.6751 - accuracy: 0.56 - ETA: 0s - loss: 0.6667 - accuracy: 0.60 - 0s 16ms/step - loss: 0.6548 - accuracy: 0.6264 - val_loss: 0.6038 - val_accuracy: 0.7097\n",
      "Epoch 26/1000\n",
      "23/23 [==============================] - ETA: 0s - loss: 0.6868 - accuracy: 0.59 - ETA: 0s - loss: 0.6645 - accuracy: 0.61 - 0s 12ms/step - loss: 0.6372 - accuracy: 0.6332 - val_loss: 0.6056 - val_accuracy: 0.7097\n"
     ]
    },
    {
     "data": {
      "text/html": [
       "<span style=\"color:#4527A0\"><h1 style=\"font-size:18px\">Trial complete</h1></span>"
      ],
      "text/plain": [
       "<IPython.core.display.HTML object>"
      ]
     },
     "metadata": {},
     "output_type": "display_data"
    },
    {
     "data": {
      "text/html": [
       "<span style=\"color:#4527A0\"><h1 style=\"font-size:18px\">Trial summary</h1></span>"
      ],
      "text/plain": [
       "<IPython.core.display.HTML object>"
      ]
     },
     "metadata": {},
     "output_type": "display_data"
    },
    {
     "data": {
      "text/html": [
       "<span style=\"color:cyan\"> |-Trial ID: 5f40130c3a3ce063645174138b4ebc85</span>"
      ],
      "text/plain": [
       "<IPython.core.display.HTML object>"
      ]
     },
     "metadata": {},
     "output_type": "display_data"
    },
    {
     "data": {
      "text/html": [
       "<span style=\"color:cyan\"> |-Score: 0.7290322780609131</span>"
      ],
      "text/plain": [
       "<IPython.core.display.HTML object>"
      ]
     },
     "metadata": {},
     "output_type": "display_data"
    },
    {
     "data": {
      "text/html": [
       "<span style=\"color:cyan\"> |-Best step: 5</span>"
      ],
      "text/plain": [
       "<IPython.core.display.HTML object>"
      ]
     },
     "metadata": {},
     "output_type": "display_data"
    },
    {
     "data": {
      "text/html": [
       "<span style=\"color:#7E57C2\"><h2 style=\"font-size:16px\">Hyperparameters:</h2></span>"
      ],
      "text/plain": [
       "<IPython.core.display.HTML object>"
      ]
     },
     "metadata": {},
     "output_type": "display_data"
    },
    {
     "data": {
      "text/html": [
       "<span style=\"color:cyan\"> |-classification_head_2/dropout: 0</span>"
      ],
      "text/plain": [
       "<IPython.core.display.HTML object>"
      ]
     },
     "metadata": {},
     "output_type": "display_data"
    },
    {
     "data": {
      "text/html": [
       "<span style=\"color:blue\"> |-learning_rate: 0.001</span>"
      ],
      "text/plain": [
       "<IPython.core.display.HTML object>"
      ]
     },
     "metadata": {},
     "output_type": "display_data"
    },
    {
     "data": {
      "text/html": [
       "<span style=\"color:cyan\"> |-optimizer: adam</span>"
      ],
      "text/plain": [
       "<IPython.core.display.HTML object>"
      ]
     },
     "metadata": {},
     "output_type": "display_data"
    },
    {
     "data": {
      "text/html": [
       "<span style=\"color:blue\"> |-structured_data_block_2/dense_block_1/dropout: 0.25</span>"
      ],
      "text/plain": [
       "<IPython.core.display.HTML object>"
      ]
     },
     "metadata": {},
     "output_type": "display_data"
    },
    {
     "data": {
      "text/html": [
       "<span style=\"color:cyan\"> |-structured_data_block_2/dense_block_1/num_layers: 2</span>"
      ],
      "text/plain": [
       "<IPython.core.display.HTML object>"
      ]
     },
     "metadata": {},
     "output_type": "display_data"
    },
    {
     "data": {
      "text/html": [
       "<span style=\"color:blue\"> |-structured_data_block_2/dense_block_1/units_0: 64</span>"
      ],
      "text/plain": [
       "<IPython.core.display.HTML object>"
      ]
     },
     "metadata": {},
     "output_type": "display_data"
    },
    {
     "data": {
      "text/html": [
       "<span style=\"color:cyan\"> |-structured_data_block_2/dense_block_1/units_1: 64</span>"
      ],
      "text/plain": [
       "<IPython.core.display.HTML object>"
      ]
     },
     "metadata": {},
     "output_type": "display_data"
    },
    {
     "data": {
      "text/html": [
       "<span style=\"color:blue\"> |-structured_data_block_2/dense_block_1/use_batchnorm: True</span>"
      ],
      "text/plain": [
       "<IPython.core.display.HTML object>"
      ]
     },
     "metadata": {},
     "output_type": "display_data"
    },
    {
     "data": {
      "text/html": [
       "<span style=\"color:#4527A0\"><h1 style=\"font-size:18px\">Starting new trial</h1></span>"
      ],
      "text/plain": [
       "<IPython.core.display.HTML object>"
      ]
     },
     "metadata": {},
     "output_type": "display_data"
    },
    {
     "name": "stdout",
     "output_type": "stream",
     "text": [
      "Epoch 1/1000\n",
      "23/23 [==============================] - ETA: 0s - loss: 13795.8398 - accuracy: 0.46 - ETA: 0s - loss: 178737102848.0000 - accuracy: 0.571 - 1s 27ms/step - loss: 108796493824.0000 - accuracy: 0.5897 - val_loss: 0.6610 - val_accuracy: 0.6387\n",
      "Epoch 2/1000\n",
      "23/23 [==============================] - ETA: 0s - loss: 0.6969 - accuracy: 0.50 - ETA: 0s - loss: 0.6628 - accuracy: 0.66 - ETA: 0s - loss: 0.6735 - accuracy: 0.60 - 0s 9ms/step - loss: 0.6728 - accuracy: 0.6114 - val_loss: 0.6526 - val_accuracy: 0.6387\n",
      "Epoch 3/1000\n",
      "23/23 [==============================] - ETA: 0s - loss: 0.7037 - accuracy: 0.50 - ETA: 0s - loss: 0.6541 - accuracy: 0.64 - ETA: 0s - loss: 0.6675 - accuracy: 0.60 - 0s 10ms/step - loss: 0.6676 - accuracy: 0.6114 - val_loss: 0.6493 - val_accuracy: 0.6387\n",
      "Epoch 4/1000\n",
      "23/23 [==============================] - ETA: 0s - loss: 0.7088 - accuracy: 0.50 - ETA: 0s - loss: 0.6684 - accuracy: 0.60 - ETA: 0s - loss: 0.6667 - accuracy: 0.61 - 0s 9ms/step - loss: 0.6671 - accuracy: 0.6114 - val_loss: 0.6478 - val_accuracy: 0.6387\n",
      "Epoch 5/1000\n",
      "23/23 [==============================] - ETA: 0s - loss: 0.7123 - accuracy: 0.50 - ETA: 0s - loss: 0.6670 - accuracy: 0.60 - 0s 7ms/step - loss: 0.6667 - accuracy: 0.6114 - val_loss: 0.6472 - val_accuracy: 0.6387\n",
      "Epoch 6/1000\n",
      "23/23 [==============================] - ETA: 0s - loss: 0.7144 - accuracy: 0.50 - ETA: 0s - loss: 0.6633 - accuracy: 0.61 - 0s 8ms/step - loss: 0.6659 - accuracy: 0.6114 - val_loss: 0.6469 - val_accuracy: 0.6387\n",
      "Epoch 7/1000\n",
      "23/23 [==============================] - ETA: 0s - loss: 0.7156 - accuracy: 0.50 - ETA: 0s - loss: 0.6657 - accuracy: 0.60 - 0s 9ms/step - loss: 0.6665 - accuracy: 0.6114 - val_loss: 0.6467 - val_accuracy: 0.6387\n",
      "Epoch 8/1000\n",
      "23/23 [==============================] - ETA: 0s - loss: 0.7164 - accuracy: 0.50 - ETA: 0s - loss: 0.6760 - accuracy: 0.59 - ETA: 0s - loss: 0.6644 - accuracy: 0.61 - ETA: 0s - loss: 0.6671 - accuracy: 0.60 - ETA: 0s - loss: 0.6665 - accuracy: 0.61 - 0s 16ms/step - loss: 0.6665 - accuracy: 0.6114 - val_loss: 0.6466 - val_accuracy: 0.6387\n",
      "Epoch 9/1000\n",
      "23/23 [==============================] - ETA: 0s - loss: 0.7169 - accuracy: 0.50 - ETA: 0s - loss: 0.6692 - accuracy: 0.60 - 0s 11ms/step - loss: 0.6671 - accuracy: 0.6114 - val_loss: 0.6465 - val_accuracy: 0.6387\n",
      "Epoch 10/1000\n",
      "23/23 [==============================] - ETA: 0s - loss: 0.7172 - accuracy: 0.50 - ETA: 0s - loss: 0.6657 - accuracy: 0.60 - ETA: 0s - loss: 0.6671 - accuracy: 0.60 - 0s 10ms/step - loss: 0.6665 - accuracy: 0.6114 - val_loss: 0.6465 - val_accuracy: 0.6387\n",
      "Epoch 11/1000\n",
      "23/23 [==============================] - ETA: 0s - loss: 0.7173 - accuracy: 0.50 - ETA: 0s - loss: 0.6657 - accuracy: 0.60 - 0s 8ms/step - loss: 0.6665 - accuracy: 0.6114 - val_loss: 0.6464 - val_accuracy: 0.6387\n",
      "Epoch 12/1000\n",
      "23/23 [==============================] - ETA: 0s - loss: 0.7174 - accuracy: 0.50 - ETA: 0s - loss: 0.6381 - accuracy: 0.66 - ETA: 0s - loss: 0.6670 - accuracy: 0.60 - ETA: 0s - loss: 0.6661 - accuracy: 0.61 - ETA: 0s - loss: 0.6653 - accuracy: 0.61 - 0s 16ms/step - loss: 0.6658 - accuracy: 0.6114 - val_loss: 0.6465 - val_accuracy: 0.6387\n",
      "Epoch 13/1000\n",
      "23/23 [==============================] - ETA: 0s - loss: 0.7174 - accuracy: 0.50 - ETA: 0s - loss: 0.6662 - accuracy: 0.61 - ETA: 0s - loss: 0.6679 - accuracy: 0.60 - 0s 11ms/step - loss: 0.6671 - accuracy: 0.6114 - val_loss: 0.6464 - val_accuracy: 0.6387\n",
      "Epoch 14/1000\n",
      "23/23 [==============================] - ETA: 0s - loss: 0.7175 - accuracy: 0.50 - ETA: 0s - loss: 0.6644 - accuracy: 0.60 - ETA: 0s - loss: 0.6658 - accuracy: 0.61 - 0s 9ms/step - loss: 0.6658 - accuracy: 0.6114 - val_loss: 0.6464 - val_accuracy: 0.6387\n",
      "Epoch 15/1000\n",
      "23/23 [==============================] - ETA: 0s - loss: 0.7174 - accuracy: 0.50 - ETA: 0s - loss: 0.6632 - accuracy: 0.61 - 0s 9ms/step - loss: 0.6658 - accuracy: 0.6114 - val_loss: 0.6465 - val_accuracy: 0.6387\n",
      "Epoch 16/1000\n",
      "23/23 [==============================] - ETA: 0s - loss: 0.7174 - accuracy: 0.50 - ETA: 0s - loss: 0.6633 - accuracy: 0.61 - 0s 13ms/step - loss: 0.6658 - accuracy: 0.6114 - val_loss: 0.6465 - val_accuracy: 0.6387\n",
      "Epoch 17/1000\n",
      "23/23 [==============================] - ETA: 0s - loss: 0.7173 - accuracy: 0.50 - ETA: 0s - loss: 0.6655 - accuracy: 0.61 - ETA: 0s - loss: 0.6667 - accuracy: 0.61 - 0s 12ms/step - loss: 0.6671 - accuracy: 0.6114 - val_loss: 0.6464 - val_accuracy: 0.6387\n",
      "Epoch 18/1000\n",
      "23/23 [==============================] - ETA: 0s - loss: 0.7175 - accuracy: 0.50 - ETA: 0s - loss: 0.6594 - accuracy: 0.62 - ETA: 0s - loss: 0.6672 - accuracy: 0.60 - 0s 10ms/step - loss: 0.6658 - accuracy: 0.6114 - val_loss: 0.6464 - val_accuracy: 0.6387\n",
      "Epoch 19/1000\n",
      "23/23 [==============================] - ETA: 0s - loss: 0.7174 - accuracy: 0.50 - ETA: 0s - loss: 0.6647 - accuracy: 0.61 - ETA: 0s - loss: 0.6663 - accuracy: 0.61 - 0s 14ms/step - loss: 0.6665 - accuracy: 0.6114 - val_loss: 0.6464 - val_accuracy: 0.6387\n",
      "Epoch 20/1000\n",
      "23/23 [==============================] - ETA: 0s - loss: 0.7175 - accuracy: 0.50 - ETA: 0s - loss: 0.6657 - accuracy: 0.60 - ETA: 0s - loss: 0.6671 - accuracy: 0.60 - 0s 12ms/step - loss: 0.6665 - accuracy: 0.6114 - val_loss: 0.6464 - val_accuracy: 0.6387\n",
      "Epoch 21/1000\n",
      "23/23 [==============================] - ETA: 0s - loss: 0.7175 - accuracy: 0.50 - ETA: 0s - loss: 0.6594 - accuracy: 0.62 - ETA: 0s - loss: 0.6681 - accuracy: 0.60 - 0s 11ms/step - loss: 0.6664 - accuracy: 0.6114 - val_loss: 0.6464 - val_accuracy: 0.6387\n",
      "Epoch 22/1000\n",
      "23/23 [==============================] - ETA: 0s - loss: 0.7175 - accuracy: 0.50 - ETA: 0s - loss: 0.6633 - accuracy: 0.61 - ETA: 0s - loss: 0.6658 - accuracy: 0.61 - 0s 10ms/step - loss: 0.6658 - accuracy: 0.6114 - val_loss: 0.6464 - val_accuracy: 0.6387\n",
      "Epoch 23/1000\n",
      "23/23 [==============================] - ETA: 0s - loss: 0.7174 - accuracy: 0.50 - ETA: 0s - loss: 0.6632 - accuracy: 0.61 - 0s 12ms/step - loss: 0.6658 - accuracy: 0.6114 - val_loss: 0.6465 - val_accuracy: 0.6387\n"
     ]
    },
    {
     "data": {
      "text/html": [
       "<span style=\"color:#4527A0\"><h1 style=\"font-size:18px\">Trial complete</h1></span>"
      ],
      "text/plain": [
       "<IPython.core.display.HTML object>"
      ]
     },
     "metadata": {},
     "output_type": "display_data"
    },
    {
     "data": {
      "text/html": [
       "<span style=\"color:#4527A0\"><h1 style=\"font-size:18px\">Trial summary</h1></span>"
      ],
      "text/plain": [
       "<IPython.core.display.HTML object>"
      ]
     },
     "metadata": {},
     "output_type": "display_data"
    },
    {
     "data": {
      "text/html": [
       "<span style=\"color:cyan\"> |-Trial ID: bb343089de863e914ccbbba593f73e80</span>"
      ],
      "text/plain": [
       "<IPython.core.display.HTML object>"
      ]
     },
     "metadata": {},
     "output_type": "display_data"
    },
    {
     "data": {
      "text/html": [
       "<span style=\"color:cyan\"> |-Score: 0.6387096643447876</span>"
      ],
      "text/plain": [
       "<IPython.core.display.HTML object>"
      ]
     },
     "metadata": {},
     "output_type": "display_data"
    },
    {
     "data": {
      "text/html": [
       "<span style=\"color:cyan\"> |-Best step: 0</span>"
      ],
      "text/plain": [
       "<IPython.core.display.HTML object>"
      ]
     },
     "metadata": {},
     "output_type": "display_data"
    },
    {
     "data": {
      "text/html": [
       "<span style=\"color:#7E57C2\"><h2 style=\"font-size:16px\">Hyperparameters:</h2></span>"
      ],
      "text/plain": [
       "<IPython.core.display.HTML object>"
      ]
     },
     "metadata": {},
     "output_type": "display_data"
    },
    {
     "data": {
      "text/html": [
       "<span style=\"color:cyan\"> |-classification_head_2/dropout: 0</span>"
      ],
      "text/plain": [
       "<IPython.core.display.HTML object>"
      ]
     },
     "metadata": {},
     "output_type": "display_data"
    },
    {
     "data": {
      "text/html": [
       "<span style=\"color:blue\"> |-learning_rate: 0.1</span>"
      ],
      "text/plain": [
       "<IPython.core.display.HTML object>"
      ]
     },
     "metadata": {},
     "output_type": "display_data"
    },
    {
     "data": {
      "text/html": [
       "<span style=\"color:cyan\"> |-optimizer: sgd</span>"
      ],
      "text/plain": [
       "<IPython.core.display.HTML object>"
      ]
     },
     "metadata": {},
     "output_type": "display_data"
    },
    {
     "data": {
      "text/html": [
       "<span style=\"color:blue\"> |-structured_data_block_2/dense_block_1/dropout: 0.25</span>"
      ],
      "text/plain": [
       "<IPython.core.display.HTML object>"
      ]
     },
     "metadata": {},
     "output_type": "display_data"
    },
    {
     "data": {
      "text/html": [
       "<span style=\"color:cyan\"> |-structured_data_block_2/dense_block_1/num_layers: 1</span>"
      ],
      "text/plain": [
       "<IPython.core.display.HTML object>"
      ]
     },
     "metadata": {},
     "output_type": "display_data"
    },
    {
     "data": {
      "text/html": [
       "<span style=\"color:blue\"> |-structured_data_block_2/dense_block_1/units_0: 1024</span>"
      ],
      "text/plain": [
       "<IPython.core.display.HTML object>"
      ]
     },
     "metadata": {},
     "output_type": "display_data"
    },
    {
     "data": {
      "text/html": [
       "<span style=\"color:cyan\"> |-structured_data_block_2/dense_block_1/units_1: 512</span>"
      ],
      "text/plain": [
       "<IPython.core.display.HTML object>"
      ]
     },
     "metadata": {},
     "output_type": "display_data"
    },
    {
     "data": {
      "text/html": [
       "<span style=\"color:blue\"> |-structured_data_block_2/dense_block_1/use_batchnorm: False</span>"
      ],
      "text/plain": [
       "<IPython.core.display.HTML object>"
      ]
     },
     "metadata": {},
     "output_type": "display_data"
    },
    {
     "data": {
      "text/html": [
       "<span style=\"color:#4527A0\"><h1 style=\"font-size:18px\">Starting new trial</h1></span>"
      ],
      "text/plain": [
       "<IPython.core.display.HTML object>"
      ]
     },
     "metadata": {},
     "output_type": "display_data"
    },
    {
     "name": "stdout",
     "output_type": "stream",
     "text": [
      "Epoch 1/1000\n",
      "23/23 [==============================] - ETA: 0s - loss: 0.9440 - accuracy: 0.56 - ETA: 0s - loss: 0.7688 - accuracy: 0.52 - 0s 20ms/step - loss: 0.7448 - accuracy: 0.5571 - val_loss: 0.8172 - val_accuracy: 0.5548\n",
      "Epoch 2/1000\n",
      "23/23 [==============================] - ETA: 0s - loss: 0.6842 - accuracy: 0.53 - ETA: 0s - loss: 0.7059 - accuracy: 0.58 - 0s 7ms/step - loss: 0.6829 - accuracy: 0.6114 - val_loss: 0.6809 - val_accuracy: 0.6323\n",
      "Epoch 3/1000\n",
      "23/23 [==============================] - ETA: 0s - loss: 0.7228 - accuracy: 0.59 - ETA: 0s - loss: 0.6732 - accuracy: 0.61 - 0s 6ms/step - loss: 0.6700 - accuracy: 0.6223 - val_loss: 0.6577 - val_accuracy: 0.7226\n",
      "Epoch 4/1000\n",
      "23/23 [==============================] - ETA: 0s - loss: 0.9421 - accuracy: 0.53 - ETA: 0s - loss: 0.6818 - accuracy: 0.60 - 0s 6ms/step - loss: 0.6766 - accuracy: 0.6168 - val_loss: 0.6423 - val_accuracy: 0.7161\n",
      "Epoch 5/1000\n",
      "23/23 [==============================] - ETA: 0s - loss: 0.9235 - accuracy: 0.53 - ETA: 0s - loss: 0.6856 - accuracy: 0.62 - 0s 7ms/step - loss: 0.6723 - accuracy: 0.6332 - val_loss: 0.6260 - val_accuracy: 0.7290\n",
      "Epoch 6/1000\n",
      "23/23 [==============================] - ETA: 0s - loss: 0.7130 - accuracy: 0.53 - ETA: 0s - loss: 0.6656 - accuracy: 0.62 - 0s 7ms/step - loss: 0.6577 - accuracy: 0.6399 - val_loss: 0.6221 - val_accuracy: 0.7290\n",
      "Epoch 7/1000\n",
      "23/23 [==============================] - ETA: 0s - loss: 0.7557 - accuracy: 0.53 - ETA: 0s - loss: 0.6654 - accuracy: 0.62 - 0s 7ms/step - loss: 0.6568 - accuracy: 0.6359 - val_loss: 0.6289 - val_accuracy: 0.7161\n",
      "Epoch 8/1000\n",
      "23/23 [==============================] - ETA: 0s - loss: 0.7572 - accuracy: 0.46 - ETA: 0s - loss: 0.6900 - accuracy: 0.61 - 0s 7ms/step - loss: 0.6722 - accuracy: 0.6359 - val_loss: 0.6190 - val_accuracy: 0.7097\n",
      "Epoch 9/1000\n",
      "23/23 [==============================] - ETA: 0s - loss: 0.7547 - accuracy: 0.53 - ETA: 0s - loss: 0.6929 - accuracy: 0.61 - 0s 8ms/step - loss: 0.6601 - accuracy: 0.6413 - val_loss: 0.6137 - val_accuracy: 0.7161\n",
      "Epoch 10/1000\n",
      "23/23 [==============================] - ETA: 0s - loss: 0.7578 - accuracy: 0.53 - ETA: 0s - loss: 0.7370 - accuracy: 0.57 - ETA: 0s - loss: 0.6837 - accuracy: 0.60 - ETA: 0s - loss: 0.6648 - accuracy: 0.62 - 0s 15ms/step - loss: 0.6598 - accuracy: 0.6264 - val_loss: 0.6114 - val_accuracy: 0.7226\n",
      "Epoch 11/1000\n",
      "23/23 [==============================] - ETA: 0s - loss: 0.7639 - accuracy: 0.53 - ETA: 0s - loss: 0.7005 - accuracy: 0.59 - ETA: 0s - loss: 0.6776 - accuracy: 0.62 - 0s 11ms/step - loss: 0.6742 - accuracy: 0.6277 - val_loss: 0.6087 - val_accuracy: 0.7161\n",
      "Epoch 12/1000\n",
      "23/23 [==============================] - ETA: 0s - loss: 0.7859 - accuracy: 0.53 - ETA: 0s - loss: 0.6927 - accuracy: 0.57 - ETA: 0s - loss: 0.6968 - accuracy: 0.55 - ETA: 0s - loss: 0.6811 - accuracy: 0.60 - 0s 21ms/step - loss: 0.6641 - accuracy: 0.6264 - val_loss: 0.6083 - val_accuracy: 0.7161\n",
      "Epoch 13/1000\n",
      "23/23 [==============================] - ETA: 0s - loss: 0.7978 - accuracy: 0.50 - ETA: 0s - loss: 0.6994 - accuracy: 0.59 - ETA: 0s - loss: 0.6685 - accuracy: 0.62 - 0s 10ms/step - loss: 0.6635 - accuracy: 0.6332 - val_loss: 0.6091 - val_accuracy: 0.7097\n",
      "Epoch 14/1000\n",
      "23/23 [==============================] - ETA: 0s - loss: 0.8342 - accuracy: 0.50 - ETA: 0s - loss: 0.6978 - accuracy: 0.60 - 0s 11ms/step - loss: 0.6588 - accuracy: 0.6264 - val_loss: 0.6085 - val_accuracy: 0.7161\n",
      "Epoch 15/1000\n",
      "23/23 [==============================] - ETA: 0s - loss: 0.7915 - accuracy: 0.56 - ETA: 0s - loss: 0.6596 - accuracy: 0.64 - ETA: 0s - loss: 0.6636 - accuracy: 0.62 - 0s 16ms/step - loss: 0.6557 - accuracy: 0.6359 - val_loss: 0.6054 - val_accuracy: 0.7161\n",
      "Epoch 16/1000\n",
      "23/23 [==============================] - ETA: 0s - loss: 0.8207 - accuracy: 0.53 - ETA: 0s - loss: 0.6828 - accuracy: 0.61 - ETA: 0s - loss: 0.6685 - accuracy: 0.62 - 0s 13ms/step - loss: 0.6647 - accuracy: 0.6332 - val_loss: 0.6054 - val_accuracy: 0.7161\n",
      "Epoch 17/1000\n",
      "23/23 [==============================] - ETA: 0s - loss: 0.7262 - accuracy: 0.50 - ETA: 0s - loss: 0.6666 - accuracy: 0.60 - 0s 11ms/step - loss: 0.6469 - accuracy: 0.6332 - val_loss: 0.6042 - val_accuracy: 0.7161\n",
      "Epoch 18/1000\n",
      "23/23 [==============================] - ETA: 0s - loss: 0.7663 - accuracy: 0.56 - ETA: 0s - loss: 0.6809 - accuracy: 0.61 - ETA: 0s - loss: 0.6795 - accuracy: 0.60 - ETA: 0s - loss: 0.6588 - accuracy: 0.62 - 0s 17ms/step - loss: 0.6588 - accuracy: 0.6277 - val_loss: 0.6080 - val_accuracy: 0.7161\n",
      "Epoch 19/1000\n",
      "23/23 [==============================] - ETA: 0s - loss: 0.7012 - accuracy: 0.56 - ETA: 0s - loss: 0.6681 - accuracy: 0.60 - ETA: 0s - loss: 0.6488 - accuracy: 0.62 - 0s 12ms/step - loss: 0.6425 - accuracy: 0.6345 - val_loss: 0.6062 - val_accuracy: 0.7161\n",
      "Epoch 20/1000\n",
      "23/23 [==============================] - ETA: 0s - loss: 0.8862 - accuracy: 0.56 - ETA: 0s - loss: 0.6759 - accuracy: 0.61 - 0s 10ms/step - loss: 0.6520 - accuracy: 0.6359 - val_loss: 0.6031 - val_accuracy: 0.7226\n",
      "Epoch 21/1000\n",
      "23/23 [==============================] - ETA: 0s - loss: 0.7769 - accuracy: 0.46 - ETA: 0s - loss: 0.6866 - accuracy: 0.61 - 0s 10ms/step - loss: 0.6571 - accuracy: 0.6399 - val_loss: 0.6026 - val_accuracy: 0.7226\n",
      "Epoch 22/1000\n",
      "23/23 [==============================] - ETA: 0s - loss: 0.7451 - accuracy: 0.50 - ETA: 0s - loss: 0.6767 - accuracy: 0.59 - ETA: 0s - loss: 0.6510 - accuracy: 0.63 - ETA: 0s - loss: 0.6468 - accuracy: 0.63 - 0s 17ms/step - loss: 0.6428 - accuracy: 0.6399 - val_loss: 0.6031 - val_accuracy: 0.7161\n",
      "Epoch 23/1000\n",
      "23/23 [==============================] - ETA: 0s - loss: 0.7384 - accuracy: 0.56 - ETA: 0s - loss: 0.6857 - accuracy: 0.60 - ETA: 0s - loss: 0.6692 - accuracy: 0.62 - 0s 13ms/step - loss: 0.6518 - accuracy: 0.6386 - val_loss: 0.6014 - val_accuracy: 0.7161\n",
      "Epoch 24/1000\n",
      "23/23 [==============================] - ETA: 0s - loss: 0.7347 - accuracy: 0.50 - ETA: 0s - loss: 0.6618 - accuracy: 0.61 - ETA: 0s - loss: 0.6538 - accuracy: 0.62 - 0s 15ms/step - loss: 0.6457 - accuracy: 0.6304 - val_loss: 0.6025 - val_accuracy: 0.7161\n",
      "Epoch 25/1000\n",
      "23/23 [==============================] - ETA: 0s - loss: 0.6906 - accuracy: 0.53 - ETA: 0s - loss: 0.6649 - accuracy: 0.62 - 0s 11ms/step - loss: 0.6388 - accuracy: 0.6440 - val_loss: 0.6014 - val_accuracy: 0.7161\n",
      "Epoch 26/1000\n",
      "23/23 [==============================] - ETA: 0s - loss: 0.7154 - accuracy: 0.53 - ETA: 0s - loss: 0.6602 - accuracy: 0.61 - 0s 11ms/step - loss: 0.6394 - accuracy: 0.6291 - val_loss: 0.6009 - val_accuracy: 0.7161\n",
      "Epoch 27/1000\n",
      "23/23 [==============================] - ETA: 0s - loss: 0.7592 - accuracy: 0.50 - ETA: 0s - loss: 0.6636 - accuracy: 0.62 - 0s 10ms/step - loss: 0.6438 - accuracy: 0.6372 - val_loss: 0.6029 - val_accuracy: 0.7226\n",
      "Epoch 28/1000\n",
      "23/23 [==============================] - ETA: 0s - loss: 0.7090 - accuracy: 0.53 - ETA: 0s - loss: 0.6736 - accuracy: 0.61 - 0s 7ms/step - loss: 0.6637 - accuracy: 0.6318 - val_loss: 0.6019 - val_accuracy: 0.7226\n",
      "Epoch 29/1000\n",
      "23/23 [==============================] - ETA: 0s - loss: 0.7402 - accuracy: 0.59 - ETA: 0s - loss: 0.6754 - accuracy: 0.60 - 0s 9ms/step - loss: 0.6601 - accuracy: 0.6318 - val_loss: 0.6014 - val_accuracy: 0.7226\n",
      "Epoch 30/1000\n",
      "23/23 [==============================] - ETA: 0s - loss: 0.7530 - accuracy: 0.46 - ETA: 0s - loss: 0.6731 - accuracy: 0.61 - ETA: 0s - loss: 0.6655 - accuracy: 0.62 - 0s 16ms/step - loss: 0.6503 - accuracy: 0.6467 - val_loss: 0.6014 - val_accuracy: 0.7161\n",
      "Epoch 31/1000\n",
      "23/23 [==============================] - ETA: 0s - loss: 0.7346 - accuracy: 0.50 - ETA: 0s - loss: 0.6609 - accuracy: 0.61 - ETA: 0s - loss: 0.6417 - accuracy: 0.63 - 0s 11ms/step - loss: 0.6417 - accuracy: 0.6359 - val_loss: 0.6017 - val_accuracy: 0.7161\n",
      "Epoch 32/1000\n",
      "23/23 [==============================] - ETA: 0s - loss: 0.7263 - accuracy: 0.50 - ETA: 0s - loss: 0.6487 - accuracy: 0.61 - 0s 8ms/step - loss: 0.6374 - accuracy: 0.6386 - val_loss: 0.6014 - val_accuracy: 0.7226\n",
      "Epoch 33/1000\n",
      "23/23 [==============================] - ETA: 0s - loss: 0.7282 - accuracy: 0.56 - ETA: 0s - loss: 0.6685 - accuracy: 0.61 - 0s 8ms/step - loss: 0.6565 - accuracy: 0.6277 - val_loss: 0.6021 - val_accuracy: 0.7226\n"
     ]
    },
    {
     "name": "stdout",
     "output_type": "stream",
     "text": [
      "Epoch 34/1000\n",
      "23/23 [==============================] - ETA: 0s - loss: 0.7999 - accuracy: 0.53 - ETA: 0s - loss: 0.6823 - accuracy: 0.61 - ETA: 0s - loss: 0.6829 - accuracy: 0.61 - 0s 17ms/step - loss: 0.6485 - accuracy: 0.6386 - val_loss: 0.6007 - val_accuracy: 0.7226\n",
      "Epoch 35/1000\n",
      "23/23 [==============================] - ETA: 0s - loss: 0.7881 - accuracy: 0.46 - ETA: 0s - loss: 0.6577 - accuracy: 0.62 - 0s 10ms/step - loss: 0.6412 - accuracy: 0.6454 - val_loss: 0.6004 - val_accuracy: 0.7161\n",
      "Epoch 36/1000\n",
      "23/23 [==============================] - ETA: 0s - loss: 0.8132 - accuracy: 0.53 - ETA: 0s - loss: 0.6596 - accuracy: 0.62 - 0s 7ms/step - loss: 0.6449 - accuracy: 0.6454 - val_loss: 0.6011 - val_accuracy: 0.7226\n",
      "Epoch 37/1000\n",
      "23/23 [==============================] - ETA: 0s - loss: 0.7381 - accuracy: 0.43 - ETA: 0s - loss: 0.6510 - accuracy: 0.63 - 0s 7ms/step - loss: 0.6357 - accuracy: 0.6467 - val_loss: 0.6009 - val_accuracy: 0.7226\n",
      "Epoch 38/1000\n",
      "23/23 [==============================] - ETA: 0s - loss: 0.8645 - accuracy: 0.59 - ETA: 0s - loss: 0.6851 - accuracy: 0.61 - ETA: 0s - loss: 0.6759 - accuracy: 0.61 - ETA: 0s - loss: 0.6634 - accuracy: 0.63 - 0s 15ms/step - loss: 0.6521 - accuracy: 0.6427 - val_loss: 0.6011 - val_accuracy: 0.7226\n",
      "Epoch 39/1000\n",
      "23/23 [==============================] - ETA: 0s - loss: 0.6994 - accuracy: 0.50 - ETA: 0s - loss: 0.6653 - accuracy: 0.61 - 0s 9ms/step - loss: 0.6422 - accuracy: 0.6427 - val_loss: 0.6033 - val_accuracy: 0.7226\n",
      "Epoch 40/1000\n",
      "23/23 [==============================] - ETA: 0s - loss: 0.7541 - accuracy: 0.50 - ETA: 0s - loss: 0.6548 - accuracy: 0.62 - 0s 7ms/step - loss: 0.6384 - accuracy: 0.6508 - val_loss: 0.6018 - val_accuracy: 0.7226\n",
      "Epoch 41/1000\n",
      "23/23 [==============================] - ETA: 0s - loss: 0.7680 - accuracy: 0.50 - ETA: 0s - loss: 0.6583 - accuracy: 0.61 - 0s 8ms/step - loss: 0.6488 - accuracy: 0.6427 - val_loss: 0.6017 - val_accuracy: 0.7226\n",
      "Epoch 42/1000\n",
      "23/23 [==============================] - ETA: 0s - loss: 0.7467 - accuracy: 0.53 - ETA: 0s - loss: 0.6564 - accuracy: 0.62 - ETA: 0s - loss: 0.6573 - accuracy: 0.61 - ETA: 0s - loss: 0.6360 - accuracy: 0.64 - 0s 14ms/step - loss: 0.6371 - accuracy: 0.6427 - val_loss: 0.6021 - val_accuracy: 0.7226\n",
      "Epoch 43/1000\n",
      "23/23 [==============================] - ETA: 0s - loss: 0.7090 - accuracy: 0.56 - ETA: 0s - loss: 0.6641 - accuracy: 0.61 - 0s 10ms/step - loss: 0.6411 - accuracy: 0.6413 - val_loss: 0.6028 - val_accuracy: 0.7226\n",
      "Epoch 44/1000\n",
      "23/23 [==============================] - ETA: 0s - loss: 0.7414 - accuracy: 0.46 - ETA: 0s - loss: 0.6617 - accuracy: 0.63 - 0s 8ms/step - loss: 0.6414 - accuracy: 0.6522 - val_loss: 0.6012 - val_accuracy: 0.7226\n",
      "Epoch 45/1000\n",
      "23/23 [==============================] - ETA: 0s - loss: 0.7309 - accuracy: 0.50 - ETA: 0s - loss: 0.6681 - accuracy: 0.62 - 0s 7ms/step - loss: 0.6503 - accuracy: 0.6399 - val_loss: 0.6017 - val_accuracy: 0.7226\n"
     ]
    },
    {
     "data": {
      "text/html": [
       "<span style=\"color:#4527A0\"><h1 style=\"font-size:18px\">Trial complete</h1></span>"
      ],
      "text/plain": [
       "<IPython.core.display.HTML object>"
      ]
     },
     "metadata": {},
     "output_type": "display_data"
    },
    {
     "data": {
      "text/html": [
       "<span style=\"color:#4527A0\"><h1 style=\"font-size:18px\">Trial summary</h1></span>"
      ],
      "text/plain": [
       "<IPython.core.display.HTML object>"
      ]
     },
     "metadata": {},
     "output_type": "display_data"
    },
    {
     "data": {
      "text/html": [
       "<span style=\"color:cyan\"> |-Trial ID: d6208f82f059c2311f2628d385a2d2bb</span>"
      ],
      "text/plain": [
       "<IPython.core.display.HTML object>"
      ]
     },
     "metadata": {},
     "output_type": "display_data"
    },
    {
     "data": {
      "text/html": [
       "<span style=\"color:cyan\"> |-Score: 0.7290322780609131</span>"
      ],
      "text/plain": [
       "<IPython.core.display.HTML object>"
      ]
     },
     "metadata": {},
     "output_type": "display_data"
    },
    {
     "data": {
      "text/html": [
       "<span style=\"color:cyan\"> |-Best step: 4</span>"
      ],
      "text/plain": [
       "<IPython.core.display.HTML object>"
      ]
     },
     "metadata": {},
     "output_type": "display_data"
    },
    {
     "data": {
      "text/html": [
       "<span style=\"color:#7E57C2\"><h2 style=\"font-size:16px\">Hyperparameters:</h2></span>"
      ],
      "text/plain": [
       "<IPython.core.display.HTML object>"
      ]
     },
     "metadata": {},
     "output_type": "display_data"
    },
    {
     "data": {
      "text/html": [
       "<span style=\"color:cyan\"> |-classification_head_2/dropout: 0</span>"
      ],
      "text/plain": [
       "<IPython.core.display.HTML object>"
      ]
     },
     "metadata": {},
     "output_type": "display_data"
    },
    {
     "data": {
      "text/html": [
       "<span style=\"color:blue\"> |-learning_rate: 0.001</span>"
      ],
      "text/plain": [
       "<IPython.core.display.HTML object>"
      ]
     },
     "metadata": {},
     "output_type": "display_data"
    },
    {
     "data": {
      "text/html": [
       "<span style=\"color:cyan\"> |-optimizer: adam</span>"
      ],
      "text/plain": [
       "<IPython.core.display.HTML object>"
      ]
     },
     "metadata": {},
     "output_type": "display_data"
    },
    {
     "data": {
      "text/html": [
       "<span style=\"color:blue\"> |-structured_data_block_2/dense_block_1/dropout: 0.25</span>"
      ],
      "text/plain": [
       "<IPython.core.display.HTML object>"
      ]
     },
     "metadata": {},
     "output_type": "display_data"
    },
    {
     "data": {
      "text/html": [
       "<span style=\"color:cyan\"> |-structured_data_block_2/dense_block_1/num_layers: 1</span>"
      ],
      "text/plain": [
       "<IPython.core.display.HTML object>"
      ]
     },
     "metadata": {},
     "output_type": "display_data"
    },
    {
     "data": {
      "text/html": [
       "<span style=\"color:blue\"> |-structured_data_block_2/dense_block_1/units_0: 64</span>"
      ],
      "text/plain": [
       "<IPython.core.display.HTML object>"
      ]
     },
     "metadata": {},
     "output_type": "display_data"
    },
    {
     "data": {
      "text/html": [
       "<span style=\"color:cyan\"> |-structured_data_block_2/dense_block_1/units_1: 16</span>"
      ],
      "text/plain": [
       "<IPython.core.display.HTML object>"
      ]
     },
     "metadata": {},
     "output_type": "display_data"
    },
    {
     "data": {
      "text/html": [
       "<span style=\"color:blue\"> |-structured_data_block_2/dense_block_1/use_batchnorm: True</span>"
      ],
      "text/plain": [
       "<IPython.core.display.HTML object>"
      ]
     },
     "metadata": {},
     "output_type": "display_data"
    },
    {
     "data": {
      "text/html": [
       "<span style=\"color:#4527A0\"><h1 style=\"font-size:18px\">Starting new trial</h1></span>"
      ],
      "text/plain": [
       "<IPython.core.display.HTML object>"
      ]
     },
     "metadata": {},
     "output_type": "display_data"
    },
    {
     "name": "stdout",
     "output_type": "stream",
     "text": [
      "Epoch 1/1000\n",
      "23/23 [==============================] - ETA: 0s - loss: 7814.7920 - accuracy: 0.500 - ETA: 0s - loss: 715458.4375 - accuracy: 0.575 - 1s 29ms/step - loss: 435498.0938 - accuracy: 0.5992 - val_loss: 1.2899 - val_accuracy: 0.6968\n",
      "Epoch 2/1000\n",
      "23/23 [==============================] - ETA: 0s - loss: 5.5511 - accuracy: 0.46 - ETA: 0s - loss: 1.7662 - accuracy: 0.60 - 0s 8ms/step - loss: 1.2997 - accuracy: 0.6060 - val_loss: 0.6736 - val_accuracy: 0.6387\n",
      "Epoch 3/1000\n",
      "23/23 [==============================] - ETA: 0s - loss: 0.6931 - accuracy: 0.50 - ETA: 0s - loss: 0.6856 - accuracy: 0.61 - ETA: 0s - loss: 0.6889 - accuracy: 0.61 - 0s 10ms/step - loss: 0.6891 - accuracy: 0.6114 - val_loss: 0.6753 - val_accuracy: 0.6387\n",
      "Epoch 4/1000\n",
      "23/23 [==============================] - ETA: 0s - loss: 0.6931 - accuracy: 0.50 - ETA: 0s - loss: 0.6871 - accuracy: 0.65 - ETA: 0s - loss: 0.6844 - accuracy: 0.61 - ETA: 0s - loss: 0.6889 - accuracy: 0.61 - 0s 15ms/step - loss: 0.6889 - accuracy: 0.6114 - val_loss: 0.6754 - val_accuracy: 0.6387\n",
      "Epoch 5/1000\n",
      "23/23 [==============================] - ETA: 0s - loss: 0.6931 - accuracy: 0.50 - ETA: 0s - loss: 0.6859 - accuracy: 0.61 - 0s 9ms/step - loss: 0.7297 - accuracy: 0.6114 - val_loss: 0.6753 - val_accuracy: 0.6387\n",
      "Epoch 6/1000\n",
      "23/23 [==============================] - ETA: 0s - loss: 0.6931 - accuracy: 0.50 - ETA: 0s - loss: 390.2258 - accuracy: 0.61 - 0s 8ms/step - loss: 220.8629 - accuracy: 0.6114 - val_loss: 0.6753 - val_accuracy: 0.6387\n",
      "Epoch 7/1000\n",
      "23/23 [==============================] - ETA: 0s - loss: 0.6931 - accuracy: 0.50 - ETA: 0s - loss: 0.6842 - accuracy: 0.61 - 0s 13ms/step - loss: 0.6889 - accuracy: 0.6114 - val_loss: 0.6754 - val_accuracy: 0.6387\n",
      "Epoch 8/1000\n",
      "23/23 [==============================] - ETA: 0s - loss: 0.6931 - accuracy: 0.50 - ETA: 0s - loss: 0.6857 - accuracy: 0.62 - ETA: 0s - loss: 0.6880 - accuracy: 0.60 - 0s 12ms/step - loss: 0.6888 - accuracy: 0.6114 - val_loss: 0.6753 - val_accuracy: 0.6387\n",
      "Epoch 9/1000\n",
      "23/23 [==============================] - ETA: 0s - loss: 0.6931 - accuracy: 0.50 - ETA: 0s - loss: 0.6850 - accuracy: 0.61 - ETA: 0s - loss: 0.6888 - accuracy: 0.61 - 0s 12ms/step - loss: 0.6891 - accuracy: 0.6114 - val_loss: 0.6752 - val_accuracy: 0.6387\n",
      "Epoch 10/1000\n",
      "23/23 [==============================] - ETA: 0s - loss: 0.6931 - accuracy: 0.50 - ETA: 0s - loss: 0.6867 - accuracy: 0.60 - 0s 9ms/step - loss: 0.6891 - accuracy: 0.6101 - val_loss: 0.6752 - val_accuracy: 0.6387\n",
      "Epoch 11/1000\n",
      "23/23 [==============================] - ETA: 0s - loss: 0.6931 - accuracy: 0.50 - ETA: 0s - loss: 0.6834 - accuracy: 0.65 - ETA: 0s - loss: 0.6841 - accuracy: 0.60 - ETA: 0s - loss: 0.6875 - accuracy: 0.60 - 0s 16ms/step - loss: 0.6888 - accuracy: 0.6101 - val_loss: 0.6752 - val_accuracy: 0.6387\n",
      "Epoch 12/1000\n",
      "23/23 [==============================] - ETA: 0s - loss: 0.6931 - accuracy: 0.50 - ETA: 0s - loss: 0.6856 - accuracy: 0.60 - ETA: 0s - loss: 0.6880 - accuracy: 0.60 - ETA: 0s - loss: 0.6891 - accuracy: 0.61 - 0s 13ms/step - loss: 0.6891 - accuracy: 0.6101 - val_loss: 0.6752 - val_accuracy: 0.6387\n"
     ]
    },
    {
     "data": {
      "text/html": [
       "<span style=\"color:#4527A0\"><h1 style=\"font-size:18px\">Trial complete</h1></span>"
      ],
      "text/plain": [
       "<IPython.core.display.HTML object>"
      ]
     },
     "metadata": {},
     "output_type": "display_data"
    },
    {
     "data": {
      "text/html": [
       "<span style=\"color:#4527A0\"><h1 style=\"font-size:18px\">Trial summary</h1></span>"
      ],
      "text/plain": [
       "<IPython.core.display.HTML object>"
      ]
     },
     "metadata": {},
     "output_type": "display_data"
    },
    {
     "data": {
      "text/html": [
       "<span style=\"color:cyan\"> |-Trial ID: 2cc9d59ea4df89c550ac460585347d6d</span>"
      ],
      "text/plain": [
       "<IPython.core.display.HTML object>"
      ]
     },
     "metadata": {},
     "output_type": "display_data"
    },
    {
     "data": {
      "text/html": [
       "<span style=\"color:cyan\"> |-Score: 0.6967741847038269</span>"
      ],
      "text/plain": [
       "<IPython.core.display.HTML object>"
      ]
     },
     "metadata": {},
     "output_type": "display_data"
    },
    {
     "data": {
      "text/html": [
       "<span style=\"color:cyan\"> |-Best step: 0</span>"
      ],
      "text/plain": [
       "<IPython.core.display.HTML object>"
      ]
     },
     "metadata": {},
     "output_type": "display_data"
    },
    {
     "data": {
      "text/html": [
       "<span style=\"color:#7E57C2\"><h2 style=\"font-size:16px\">Hyperparameters:</h2></span>"
      ],
      "text/plain": [
       "<IPython.core.display.HTML object>"
      ]
     },
     "metadata": {},
     "output_type": "display_data"
    },
    {
     "data": {
      "text/html": [
       "<span style=\"color:cyan\"> |-classification_head_2/dropout: 0</span>"
      ],
      "text/plain": [
       "<IPython.core.display.HTML object>"
      ]
     },
     "metadata": {},
     "output_type": "display_data"
    },
    {
     "data": {
      "text/html": [
       "<span style=\"color:blue\"> |-learning_rate: 0.0001</span>"
      ],
      "text/plain": [
       "<IPython.core.display.HTML object>"
      ]
     },
     "metadata": {},
     "output_type": "display_data"
    },
    {
     "data": {
      "text/html": [
       "<span style=\"color:cyan\"> |-optimizer: sgd</span>"
      ],
      "text/plain": [
       "<IPython.core.display.HTML object>"
      ]
     },
     "metadata": {},
     "output_type": "display_data"
    },
    {
     "data": {
      "text/html": [
       "<span style=\"color:blue\"> |-structured_data_block_2/dense_block_1/dropout: 0.25</span>"
      ],
      "text/plain": [
       "<IPython.core.display.HTML object>"
      ]
     },
     "metadata": {},
     "output_type": "display_data"
    },
    {
     "data": {
      "text/html": [
       "<span style=\"color:cyan\"> |-structured_data_block_2/dense_block_1/num_layers: 1</span>"
      ],
      "text/plain": [
       "<IPython.core.display.HTML object>"
      ]
     },
     "metadata": {},
     "output_type": "display_data"
    },
    {
     "data": {
      "text/html": [
       "<span style=\"color:blue\"> |-structured_data_block_2/dense_block_1/units_0: 1024</span>"
      ],
      "text/plain": [
       "<IPython.core.display.HTML object>"
      ]
     },
     "metadata": {},
     "output_type": "display_data"
    },
    {
     "data": {
      "text/html": [
       "<span style=\"color:cyan\"> |-structured_data_block_2/dense_block_1/units_1: 512</span>"
      ],
      "text/plain": [
       "<IPython.core.display.HTML object>"
      ]
     },
     "metadata": {},
     "output_type": "display_data"
    },
    {
     "data": {
      "text/html": [
       "<span style=\"color:blue\"> |-structured_data_block_2/dense_block_1/use_batchnorm: False</span>"
      ],
      "text/plain": [
       "<IPython.core.display.HTML object>"
      ]
     },
     "metadata": {},
     "output_type": "display_data"
    },
    {
     "data": {
      "text/html": [
       "<span style=\"color:#4527A0\"><h1 style=\"font-size:18px\">Starting new trial</h1></span>"
      ],
      "text/plain": [
       "<IPython.core.display.HTML object>"
      ]
     },
     "metadata": {},
     "output_type": "display_data"
    },
    {
     "name": "stdout",
     "output_type": "stream",
     "text": [
      "Epoch 1/1000\n",
      "23/23 [==============================] - ETA: 0s - loss: 12829.0938 - accuracy: 0.59 - ETA: 0s - loss: 4822.1528 - accuracy: 0.4870 - 1s 27ms/step - loss: 3475.3313 - accuracy: 0.5435 - val_loss: 2824.2703 - val_accuracy: 0.6774\n",
      "Epoch 2/1000\n",
      "23/23 [==============================] - ETA: 0s - loss: 6417.6006 - accuracy: 0.531 - ETA: 0s - loss: 2292.0063 - accuracy: 0.516 - 0s 8ms/step - loss: 2029.3372 - accuracy: 0.5312 - val_loss: 880.0184 - val_accuracy: 0.6323\n",
      "Epoch 3/1000\n",
      "23/23 [==============================] - ETA: 0s - loss: 1622.8334 - accuracy: 0.593 - ETA: 0s - loss: 763.2770 - accuracy: 0.487 - 0s 7ms/step - loss: 700.9024 - accuracy: 0.5204 - val_loss: 236.8268 - val_accuracy: 0.7290\n",
      "Epoch 4/1000\n",
      "23/23 [==============================] - ETA: 0s - loss: 684.3118 - accuracy: 0.56 - ETA: 0s - loss: 291.7644 - accuracy: 0.56 - 0s 6ms/step - loss: 286.6693 - accuracy: 0.5774 - val_loss: 439.8348 - val_accuracy: 0.7419\n",
      "Epoch 5/1000\n",
      "23/23 [==============================] - ETA: 0s - loss: 1144.7659 - accuracy: 0.562 - ETA: 0s - loss: 530.2937 - accuracy: 0.573 - 0s 7ms/step - loss: 459.6925 - accuracy: 0.5856 - val_loss: 88.9601 - val_accuracy: 0.6645\n",
      "Epoch 6/1000\n",
      "23/23 [==============================] - ETA: 0s - loss: 227.8924 - accuracy: 0.43 - ETA: 0s - loss: 334.0102 - accuracy: 0.61 - 0s 9ms/step - loss: 287.7418 - accuracy: 0.6250 - val_loss: 283.2994 - val_accuracy: 0.3935\n",
      "Epoch 7/1000\n",
      "23/23 [==============================] - ETA: 0s - loss: 164.4510 - accuracy: 0.37 - ETA: 0s - loss: 241.0466 - accuracy: 0.58 - 0s 7ms/step - loss: 237.1981 - accuracy: 0.5856 - val_loss: 122.7421 - val_accuracy: 0.7097\n",
      "Epoch 8/1000\n",
      "23/23 [==============================] - ETA: 0s - loss: 359.3164 - accuracy: 0.62 - ETA: 0s - loss: 414.7067 - accuracy: 0.58 - 0s 9ms/step - loss: 419.0155 - accuracy: 0.5897 - val_loss: 615.9125 - val_accuracy: 0.6710\n",
      "Epoch 9/1000\n",
      "23/23 [==============================] - ETA: 0s - loss: 1560.3448 - accuracy: 0.500 - ETA: 0s - loss: 849.2352 - accuracy: 0.620 - ETA: 0s - loss: 716.9814 - accuracy: 0.60 - 0s 12ms/step - loss: 693.3223 - accuracy: 0.6087 - val_loss: 681.3428 - val_accuracy: 0.6387\n",
      "Epoch 10/1000\n",
      "23/23 [==============================] - ETA: 0s - loss: 1343.0682 - accuracy: 0.500 - ETA: 0s - loss: 622.0825 - accuracy: 0.604 - 0s 9ms/step - loss: 517.9802 - accuracy: 0.5829 - val_loss: 968.2849 - val_accuracy: 0.7226\n",
      "Epoch 11/1000\n",
      "23/23 [==============================] - ETA: 0s - loss: 2497.1279 - accuracy: 0.468 - ETA: 0s - loss: 794.4002 - accuracy: 0.529 - 0s 7ms/step - loss: 618.0087 - accuracy: 0.5693 - val_loss: 166.4951 - val_accuracy: 0.6323\n",
      "Epoch 12/1000\n",
      "23/23 [==============================] - ETA: 0s - loss: 524.3868 - accuracy: 0.56 - ETA: 0s - loss: 600.0176 - accuracy: 0.53 - 0s 8ms/step - loss: 595.7636 - accuracy: 0.5829 - val_loss: 295.8906 - val_accuracy: 0.6839\n",
      "Epoch 13/1000\n",
      "23/23 [==============================] - ETA: 0s - loss: 748.7440 - accuracy: 0.50 - ETA: 0s - loss: 445.1234 - accuracy: 0.57 - ETA: 0s - loss: 438.4531 - accuracy: 0.59 - 0s 13ms/step - loss: 426.6591 - accuracy: 0.6033 - val_loss: 137.5162 - val_accuracy: 0.6581\n",
      "Epoch 14/1000\n",
      "23/23 [==============================] - ETA: 0s - loss: 371.4519 - accuracy: 0.53 - ETA: 0s - loss: 457.7621 - accuracy: 0.55 - 0s 9ms/step - loss: 532.7651 - accuracy: 0.5992 - val_loss: 549.6223 - val_accuracy: 0.7290\n",
      "Epoch 15/1000\n",
      "23/23 [==============================] - ETA: 0s - loss: 1298.5261 - accuracy: 0.562 - ETA: 0s - loss: 1359.9919 - accuracy: 0.552 - 0s 21ms/step - loss: 1265.7371 - accuracy: 0.5802 - val_loss: 549.5310 - val_accuracy: 0.5484\n"
     ]
    },
    {
     "data": {
      "text/html": [
       "<span style=\"color:#4527A0\"><h1 style=\"font-size:18px\">Trial complete</h1></span>"
      ],
      "text/plain": [
       "<IPython.core.display.HTML object>"
      ]
     },
     "metadata": {},
     "output_type": "display_data"
    },
    {
     "data": {
      "text/html": [
       "<span style=\"color:#4527A0\"><h1 style=\"font-size:18px\">Trial summary</h1></span>"
      ],
      "text/plain": [
       "<IPython.core.display.HTML object>"
      ]
     },
     "metadata": {},
     "output_type": "display_data"
    },
    {
     "data": {
      "text/html": [
       "<span style=\"color:cyan\"> |-Trial ID: afd5a7e9042029df072ab91594c34a73</span>"
      ],
      "text/plain": [
       "<IPython.core.display.HTML object>"
      ]
     },
     "metadata": {},
     "output_type": "display_data"
    },
    {
     "data": {
      "text/html": [
       "<span style=\"color:cyan\"> |-Score: 0.7419354915618896</span>"
      ],
      "text/plain": [
       "<IPython.core.display.HTML object>"
      ]
     },
     "metadata": {},
     "output_type": "display_data"
    },
    {
     "data": {
      "text/html": [
       "<span style=\"color:cyan\"> |-Best step: 3</span>"
      ],
      "text/plain": [
       "<IPython.core.display.HTML object>"
      ]
     },
     "metadata": {},
     "output_type": "display_data"
    },
    {
     "data": {
      "text/html": [
       "<span style=\"color:#7E57C2\"><h2 style=\"font-size:16px\">Hyperparameters:</h2></span>"
      ],
      "text/plain": [
       "<IPython.core.display.HTML object>"
      ]
     },
     "metadata": {},
     "output_type": "display_data"
    },
    {
     "data": {
      "text/html": [
       "<span style=\"color:cyan\"> |-classification_head_2/dropout: 0</span>"
      ],
      "text/plain": [
       "<IPython.core.display.HTML object>"
      ]
     },
     "metadata": {},
     "output_type": "display_data"
    },
    {
     "data": {
      "text/html": [
       "<span style=\"color:blue\"> |-learning_rate: 0.001</span>"
      ],
      "text/plain": [
       "<IPython.core.display.HTML object>"
      ]
     },
     "metadata": {},
     "output_type": "display_data"
    },
    {
     "data": {
      "text/html": [
       "<span style=\"color:cyan\"> |-optimizer: adam</span>"
      ],
      "text/plain": [
       "<IPython.core.display.HTML object>"
      ]
     },
     "metadata": {},
     "output_type": "display_data"
    },
    {
     "data": {
      "text/html": [
       "<span style=\"color:blue\"> |-structured_data_block_2/dense_block_1/dropout: 0.0</span>"
      ],
      "text/plain": [
       "<IPython.core.display.HTML object>"
      ]
     },
     "metadata": {},
     "output_type": "display_data"
    },
    {
     "data": {
      "text/html": [
       "<span style=\"color:cyan\"> |-structured_data_block_2/dense_block_1/num_layers: 1</span>"
      ],
      "text/plain": [
       "<IPython.core.display.HTML object>"
      ]
     },
     "metadata": {},
     "output_type": "display_data"
    },
    {
     "data": {
      "text/html": [
       "<span style=\"color:blue\"> |-structured_data_block_2/dense_block_1/units_0: 128</span>"
      ],
      "text/plain": [
       "<IPython.core.display.HTML object>"
      ]
     },
     "metadata": {},
     "output_type": "display_data"
    },
    {
     "data": {
      "text/html": [
       "<span style=\"color:cyan\"> |-structured_data_block_2/dense_block_1/units_1: 1024</span>"
      ],
      "text/plain": [
       "<IPython.core.display.HTML object>"
      ]
     },
     "metadata": {},
     "output_type": "display_data"
    },
    {
     "data": {
      "text/html": [
       "<span style=\"color:blue\"> |-structured_data_block_2/dense_block_1/use_batchnorm: False</span>"
      ],
      "text/plain": [
       "<IPython.core.display.HTML object>"
      ]
     },
     "metadata": {},
     "output_type": "display_data"
    },
    {
     "data": {
      "text/html": [
       "<span style=\"color:#4527A0\"><h1 style=\"font-size:18px\">Starting new trial</h1></span>"
      ],
      "text/plain": [
       "<IPython.core.display.HTML object>"
      ]
     },
     "metadata": {},
     "output_type": "display_data"
    },
    {
     "name": "stdout",
     "output_type": "stream",
     "text": [
      "Epoch 1/1000\n",
      "23/23 [==============================] - ETA: 0s - loss: 4963.9453 - accuracy: 0.500 - ETA: 0s - loss: 7652.1138 - accuracy: 0.437 - ETA: 0s - loss: 5525.2012 - accuracy: 0.487 - 1s 24ms/step - loss: 5362.0449 - accuracy: 0.4918 - val_loss: 1523.9619 - val_accuracy: 0.6581\n",
      "Epoch 2/1000\n",
      "23/23 [==============================] - ETA: 0s - loss: 4394.9409 - accuracy: 0.562 - ETA: 0s - loss: 3503.2505 - accuracy: 0.528 - ETA: 0s - loss: 3973.4526 - accuracy: 0.531 - ETA: 0s - loss: 3352.3696 - accuracy: 0.568 - 0s 17ms/step - loss: 3240.0125 - accuracy: 0.5815 - val_loss: 1468.5017 - val_accuracy: 0.6710\n",
      "Epoch 3/1000\n",
      "23/23 [==============================] - ETA: 0s - loss: 4076.8572 - accuracy: 0.468 - ETA: 0s - loss: 2513.0894 - accuracy: 0.553 - ETA: 0s - loss: 2837.8489 - accuracy: 0.554 - 0s 11ms/step - loss: 2866.1787 - accuracy: 0.5421 - val_loss: 583.6429 - val_accuracy: 0.6710\n",
      "Epoch 4/1000\n",
      "23/23 [==============================] - ETA: 0s - loss: 2475.0405 - accuracy: 0.531 - ETA: 0s - loss: 3743.9309 - accuracy: 0.520 - ETA: 0s - loss: 3047.0505 - accuracy: 0.506 - 0s 10ms/step - loss: 2980.6443 - accuracy: 0.5299 - val_loss: 1243.2924 - val_accuracy: 0.6710\n",
      "Epoch 5/1000\n",
      "23/23 [==============================] - ETA: 0s - loss: 6766.2310 - accuracy: 0.406 - ETA: 0s - loss: 3816.6787 - accuracy: 0.513 - ETA: 0s - loss: 3851.6575 - accuracy: 0.539 - 0s 12ms/step - loss: 3554.1414 - accuracy: 0.5408 - val_loss: 1108.8441 - val_accuracy: 0.6968\n",
      "Epoch 6/1000\n",
      "23/23 [==============================] - ETA: 0s - loss: 8796.5312 - accuracy: 0.593 - ETA: 0s - loss: 3738.5352 - accuracy: 0.534 - ETA: 0s - loss: 3540.8210 - accuracy: 0.566 - 0s 9ms/step - loss: 3455.0405 - accuracy: 0.5707 - val_loss: 1620.3184 - val_accuracy: 0.6903\n",
      "Epoch 7/1000\n",
      "23/23 [==============================] - ETA: 0s - loss: 3165.0933 - accuracy: 0.593 - ETA: 0s - loss: 3152.5627 - accuracy: 0.552 - 0s 8ms/step - loss: 2848.3079 - accuracy: 0.5380 - val_loss: 1215.2991 - val_accuracy: 0.6968\n",
      "Epoch 8/1000\n",
      "23/23 [==============================] - ETA: 0s - loss: 3090.3721 - accuracy: 0.531 - ETA: 0s - loss: 3046.1733 - accuracy: 0.555 - 0s 8ms/step - loss: 2943.2493 - accuracy: 0.5693 - val_loss: 719.0178 - val_accuracy: 0.6903\n",
      "Epoch 9/1000\n",
      "23/23 [==============================] - ETA: 0s - loss: 4027.4922 - accuracy: 0.437 - ETA: 0s - loss: 3655.1685 - accuracy: 0.534 - ETA: 0s - loss: 3221.7439 - accuracy: 0.546 - 0s 16ms/step - loss: 3117.6296 - accuracy: 0.5462 - val_loss: 1386.9437 - val_accuracy: 0.6903\n",
      "Epoch 10/1000\n",
      "23/23 [==============================] - ETA: 0s - loss: 3147.1611 - accuracy: 0.625 - ETA: 0s - loss: 3105.1873 - accuracy: 0.521 - ETA: 0s - loss: 2944.4131 - accuracy: 0.548 - 0s 12ms/step - loss: 2861.5059 - accuracy: 0.5516 - val_loss: 1698.0133 - val_accuracy: 0.7032\n",
      "Epoch 11/1000\n",
      "23/23 [==============================] - ETA: 0s - loss: 3941.0979 - accuracy: 0.593 - ETA: 0s - loss: 2966.5422 - accuracy: 0.589 - ETA: 0s - loss: 3255.4331 - accuracy: 0.560 - 0s 11ms/step - loss: 3076.1782 - accuracy: 0.5530 - val_loss: 1052.2391 - val_accuracy: 0.6839\n",
      "Epoch 12/1000\n",
      "23/23 [==============================] - ETA: 0s - loss: 4645.9824 - accuracy: 0.531 - ETA: 0s - loss: 3385.5471 - accuracy: 0.506 - ETA: 0s - loss: 2591.9692 - accuracy: 0.556 - ETA: 0s - loss: 2586.3579 - accuracy: 0.555 - 0s 16ms/step - loss: 2586.3579 - accuracy: 0.5557 - val_loss: 1059.6558 - val_accuracy: 0.6839\n",
      "Epoch 13/1000\n",
      "23/23 [==============================] - ETA: 0s - loss: 1530.0239 - accuracy: 0.656 - ETA: 0s - loss: 3535.2568 - accuracy: 0.548 - ETA: 0s - loss: 3424.3955 - accuracy: 0.547 - 0s 11ms/step - loss: 3113.2126 - accuracy: 0.5462 - val_loss: 1163.8031 - val_accuracy: 0.6968\n"
     ]
    },
    {
     "data": {
      "text/html": [
       "<span style=\"color:#4527A0\"><h1 style=\"font-size:18px\">Trial complete</h1></span>"
      ],
      "text/plain": [
       "<IPython.core.display.HTML object>"
      ]
     },
     "metadata": {},
     "output_type": "display_data"
    },
    {
     "data": {
      "text/html": [
       "<span style=\"color:#4527A0\"><h1 style=\"font-size:18px\">Trial summary</h1></span>"
      ],
      "text/plain": [
       "<IPython.core.display.HTML object>"
      ]
     },
     "metadata": {},
     "output_type": "display_data"
    },
    {
     "data": {
      "text/html": [
       "<span style=\"color:cyan\"> |-Trial ID: cdea984d5f5fea60fe1841cb04fd8c2f</span>"
      ],
      "text/plain": [
       "<IPython.core.display.HTML object>"
      ]
     },
     "metadata": {},
     "output_type": "display_data"
    },
    {
     "data": {
      "text/html": [
       "<span style=\"color:cyan\"> |-Score: 0.7032257914543152</span>"
      ],
      "text/plain": [
       "<IPython.core.display.HTML object>"
      ]
     },
     "metadata": {},
     "output_type": "display_data"
    },
    {
     "data": {
      "text/html": [
       "<span style=\"color:cyan\"> |-Best step: 9</span>"
      ],
      "text/plain": [
       "<IPython.core.display.HTML object>"
      ]
     },
     "metadata": {},
     "output_type": "display_data"
    },
    {
     "data": {
      "text/html": [
       "<span style=\"color:#7E57C2\"><h2 style=\"font-size:16px\">Hyperparameters:</h2></span>"
      ],
      "text/plain": [
       "<IPython.core.display.HTML object>"
      ]
     },
     "metadata": {},
     "output_type": "display_data"
    },
    {
     "data": {
      "text/html": [
       "<span style=\"color:cyan\"> |-classification_head_2/dropout: 0</span>"
      ],
      "text/plain": [
       "<IPython.core.display.HTML object>"
      ]
     },
     "metadata": {},
     "output_type": "display_data"
    },
    {
     "data": {
      "text/html": [
       "<span style=\"color:blue\"> |-learning_rate: 0.0001</span>"
      ],
      "text/plain": [
       "<IPython.core.display.HTML object>"
      ]
     },
     "metadata": {},
     "output_type": "display_data"
    },
    {
     "data": {
      "text/html": [
       "<span style=\"color:cyan\"> |-optimizer: adam</span>"
      ],
      "text/plain": [
       "<IPython.core.display.HTML object>"
      ]
     },
     "metadata": {},
     "output_type": "display_data"
    },
    {
     "data": {
      "text/html": [
       "<span style=\"color:blue\"> |-structured_data_block_2/dense_block_1/dropout: 0.25</span>"
      ],
      "text/plain": [
       "<IPython.core.display.HTML object>"
      ]
     },
     "metadata": {},
     "output_type": "display_data"
    },
    {
     "data": {
      "text/html": [
       "<span style=\"color:cyan\"> |-structured_data_block_2/dense_block_1/num_layers: 1</span>"
      ],
      "text/plain": [
       "<IPython.core.display.HTML object>"
      ]
     },
     "metadata": {},
     "output_type": "display_data"
    },
    {
     "data": {
      "text/html": [
       "<span style=\"color:blue\"> |-structured_data_block_2/dense_block_1/units_0: 1024</span>"
      ],
      "text/plain": [
       "<IPython.core.display.HTML object>"
      ]
     },
     "metadata": {},
     "output_type": "display_data"
    },
    {
     "data": {
      "text/html": [
       "<span style=\"color:cyan\"> |-structured_data_block_2/dense_block_1/units_1: 512</span>"
      ],
      "text/plain": [
       "<IPython.core.display.HTML object>"
      ]
     },
     "metadata": {},
     "output_type": "display_data"
    },
    {
     "data": {
      "text/html": [
       "<span style=\"color:blue\"> |-structured_data_block_2/dense_block_1/use_batchnorm: False</span>"
      ],
      "text/plain": [
       "<IPython.core.display.HTML object>"
      ]
     },
     "metadata": {},
     "output_type": "display_data"
    },
    {
     "data": {
      "text/html": [
       "<span style=\"color:#4527A0\"><h1 style=\"font-size:18px\">Starting new trial</h1></span>"
      ],
      "text/plain": [
       "<IPython.core.display.HTML object>"
      ]
     },
     "metadata": {},
     "output_type": "display_data"
    },
    {
     "name": "stdout",
     "output_type": "stream",
     "text": [
      "Epoch 1/1000\n",
      "23/23 [==============================] - ETA: 0s - loss: 19341.6309 - accuracy: 0.50 - ETA: 0s - loss: 6699.3140 - accuracy: 0.6101 - 1s 26ms/step - loss: 6274.0308 - accuracy: 0.6114 - val_loss: 1046.9031 - val_accuracy: 0.4323\n",
      "Epoch 2/1000\n",
      "23/23 [==============================] - ETA: 0s - loss: 561.6714 - accuracy: 0.46 - ETA: 0s - loss: 1162.3085 - accuracy: 0.537 - 0s 8ms/step - loss: 1026.4022 - accuracy: 0.5571 - val_loss: 222.5644 - val_accuracy: 0.6516\n",
      "Epoch 3/1000\n",
      "23/23 [==============================] - ETA: 0s - loss: 460.7162 - accuracy: 0.46 - ETA: 0s - loss: 341.7231 - accuracy: 0.56 - 0s 8ms/step - loss: 293.6172 - accuracy: 0.5774 - val_loss: 303.0948 - val_accuracy: 0.6645\n",
      "Epoch 4/1000\n",
      "23/23 [==============================] - ETA: 0s - loss: 766.7609 - accuracy: 0.50 - ETA: 0s - loss: 213.2868 - accuracy: 0.56 - 0s 7ms/step - loss: 199.0924 - accuracy: 0.5679 - val_loss: 55.3589 - val_accuracy: 0.6581\n",
      "Epoch 5/1000\n",
      "23/23 [==============================] - ETA: 0s - loss: 110.5595 - accuracy: 0.56 - ETA: 0s - loss: 99.8418 - accuracy: 0.5646 - 0s 7ms/step - loss: 91.9150 - accuracy: 0.5788 - val_loss: 39.5985 - val_accuracy: 0.4065\n",
      "Epoch 6/1000\n",
      "23/23 [==============================] - ETA: 0s - loss: 39.0554 - accuracy: 0.468 - ETA: 0s - loss: 120.1901 - accuracy: 0.53 - 0s 8ms/step - loss: 122.0703 - accuracy: 0.5598 - val_loss: 139.0468 - val_accuracy: 0.6774\n",
      "Epoch 7/1000\n",
      "23/23 [==============================] - ETA: 0s - loss: 379.9244 - accuracy: 0.53 - ETA: 0s - loss: 180.7435 - accuracy: 0.53 - 0s 8ms/step - loss: 152.8180 - accuracy: 0.5394 - val_loss: 63.4355 - val_accuracy: 0.6774\n",
      "Epoch 8/1000\n",
      "23/23 [==============================] - ETA: 0s - loss: 155.9989 - accuracy: 0.50 - ETA: 0s - loss: 84.0142 - accuracy: 0.5330 - 0s 8ms/step - loss: 74.3386 - accuracy: 0.5340 - val_loss: 18.0685 - val_accuracy: 0.6516\n",
      "Epoch 9/1000\n",
      "23/23 [==============================] - ETA: 0s - loss: 33.4806 - accuracy: 0.500 - ETA: 0s - loss: 48.2430 - accuracy: 0.539 - ETA: 0s - loss: 47.5047 - accuracy: 0.536 - 0s 12ms/step - loss: 93.0856 - accuracy: 0.5462 - val_loss: 160.6905 - val_accuracy: 0.6774\n",
      "Epoch 10/1000\n",
      "23/23 [==============================] - ETA: 0s - loss: 387.7637 - accuracy: 0.50 - ETA: 0s - loss: 168.5280 - accuracy: 0.52 - 0s 10ms/step - loss: 128.8441 - accuracy: 0.5394 - val_loss: 62.1280 - val_accuracy: 0.3548\n",
      "Epoch 11/1000\n",
      "23/23 [==============================] - ETA: 0s - loss: 34.5944 - accuracy: 0.500 - ETA: 0s - loss: 93.0105 - accuracy: 0.546 - 0s 9ms/step - loss: 105.8350 - accuracy: 0.5924 - val_loss: 137.0809 - val_accuracy: 0.6710\n",
      "Epoch 12/1000\n",
      "23/23 [==============================] - ETA: 0s - loss: 334.2630 - accuracy: 0.50 - ETA: 0s - loss: 156.9472 - accuracy: 0.50 - 0s 11ms/step - loss: 153.5551 - accuracy: 0.5476 - val_loss: 131.1803 - val_accuracy: 0.6774\n",
      "Epoch 13/1000\n",
      "23/23 [==============================] - ETA: 0s - loss: 354.2379 - accuracy: 0.50 - ETA: 0s - loss: 155.8174 - accuracy: 0.52 - 0s 10ms/step - loss: 141.7185 - accuracy: 0.5326 - val_loss: 38.9029 - val_accuracy: 0.6710\n",
      "Epoch 14/1000\n",
      "23/23 [==============================] - ETA: 0s - loss: 91.2537 - accuracy: 0.531 - ETA: 0s - loss: 83.0235 - accuracy: 0.529 - 0s 9ms/step - loss: 76.8862 - accuracy: 0.5394 - val_loss: 80.3927 - val_accuracy: 0.6516\n",
      "Epoch 15/1000\n",
      "23/23 [==============================] - ETA: 0s - loss: 189.2101 - accuracy: 0.50 - ETA: 0s - loss: 171.9690 - accuracy: 0.53 - 0s 9ms/step - loss: 133.9142 - accuracy: 0.5557 - val_loss: 42.1081 - val_accuracy: 0.6645\n",
      "Epoch 16/1000\n",
      "23/23 [==============================] - ETA: 0s - loss: 87.5989 - accuracy: 0.562 - ETA: 0s - loss: 110.2815 - accuracy: 0.56 - 0s 9ms/step - loss: 137.0547 - accuracy: 0.5965 - val_loss: 160.9062 - val_accuracy: 0.6710\n",
      "Epoch 17/1000\n",
      "23/23 [==============================] - ETA: 0s - loss: 404.1361 - accuracy: 0.50 - ETA: 0s - loss: 349.2004 - accuracy: 0.52 - 0s 11ms/step - loss: 306.7524 - accuracy: 0.5408 - val_loss: 218.0069 - val_accuracy: 0.3613\n",
      "Epoch 18/1000\n",
      "23/23 [==============================] - ETA: 0s - loss: 242.9420 - accuracy: 0.50 - ETA: 0s - loss: 107.9197 - accuracy: 0.52 - 0s 9ms/step - loss: 94.0750 - accuracy: 0.5340 - val_loss: 130.0899 - val_accuracy: 0.6774\n"
     ]
    },
    {
     "data": {
      "text/html": [
       "<span style=\"color:#4527A0\"><h1 style=\"font-size:18px\">Trial complete</h1></span>"
      ],
      "text/plain": [
       "<IPython.core.display.HTML object>"
      ]
     },
     "metadata": {},
     "output_type": "display_data"
    },
    {
     "data": {
      "text/html": [
       "<span style=\"color:#4527A0\"><h1 style=\"font-size:18px\">Trial summary</h1></span>"
      ],
      "text/plain": [
       "<IPython.core.display.HTML object>"
      ]
     },
     "metadata": {},
     "output_type": "display_data"
    },
    {
     "data": {
      "text/html": [
       "<span style=\"color:cyan\"> |-Trial ID: 96563519aae55e4edcc007fdff611558</span>"
      ],
      "text/plain": [
       "<IPython.core.display.HTML object>"
      ]
     },
     "metadata": {},
     "output_type": "display_data"
    },
    {
     "data": {
      "text/html": [
       "<span style=\"color:cyan\"> |-Score: 0.6774193644523621</span>"
      ],
      "text/plain": [
       "<IPython.core.display.HTML object>"
      ]
     },
     "metadata": {},
     "output_type": "display_data"
    },
    {
     "data": {
      "text/html": [
       "<span style=\"color:cyan\"> |-Best step: 5</span>"
      ],
      "text/plain": [
       "<IPython.core.display.HTML object>"
      ]
     },
     "metadata": {},
     "output_type": "display_data"
    },
    {
     "data": {
      "text/html": [
       "<span style=\"color:#7E57C2\"><h2 style=\"font-size:16px\">Hyperparameters:</h2></span>"
      ],
      "text/plain": [
       "<IPython.core.display.HTML object>"
      ]
     },
     "metadata": {},
     "output_type": "display_data"
    },
    {
     "data": {
      "text/html": [
       "<span style=\"color:cyan\"> |-classification_head_2/dropout: 0</span>"
      ],
      "text/plain": [
       "<IPython.core.display.HTML object>"
      ]
     },
     "metadata": {},
     "output_type": "display_data"
    },
    {
     "data": {
      "text/html": [
       "<span style=\"color:blue\"> |-learning_rate: 0.001</span>"
      ],
      "text/plain": [
       "<IPython.core.display.HTML object>"
      ]
     },
     "metadata": {},
     "output_type": "display_data"
    },
    {
     "data": {
      "text/html": [
       "<span style=\"color:cyan\"> |-optimizer: adam</span>"
      ],
      "text/plain": [
       "<IPython.core.display.HTML object>"
      ]
     },
     "metadata": {},
     "output_type": "display_data"
    },
    {
     "data": {
      "text/html": [
       "<span style=\"color:blue\"> |-structured_data_block_2/dense_block_1/dropout: 0.0</span>"
      ],
      "text/plain": [
       "<IPython.core.display.HTML object>"
      ]
     },
     "metadata": {},
     "output_type": "display_data"
    },
    {
     "data": {
      "text/html": [
       "<span style=\"color:cyan\"> |-structured_data_block_2/dense_block_1/num_layers: 3</span>"
      ],
      "text/plain": [
       "<IPython.core.display.HTML object>"
      ]
     },
     "metadata": {},
     "output_type": "display_data"
    },
    {
     "data": {
      "text/html": [
       "<span style=\"color:blue\"> |-structured_data_block_2/dense_block_1/units_0: 16</span>"
      ],
      "text/plain": [
       "<IPython.core.display.HTML object>"
      ]
     },
     "metadata": {},
     "output_type": "display_data"
    },
    {
     "data": {
      "text/html": [
       "<span style=\"color:cyan\"> |-structured_data_block_2/dense_block_1/units_1: 16</span>"
      ],
      "text/plain": [
       "<IPython.core.display.HTML object>"
      ]
     },
     "metadata": {},
     "output_type": "display_data"
    },
    {
     "data": {
      "text/html": [
       "<span style=\"color:blue\"> |-structured_data_block_2/dense_block_1/units_2: 32</span>"
      ],
      "text/plain": [
       "<IPython.core.display.HTML object>"
      ]
     },
     "metadata": {},
     "output_type": "display_data"
    },
    {
     "data": {
      "text/html": [
       "<span style=\"color:cyan\"> |-structured_data_block_2/dense_block_1/use_batchnorm: False</span>"
      ],
      "text/plain": [
       "<IPython.core.display.HTML object>"
      ]
     },
     "metadata": {},
     "output_type": "display_data"
    },
    {
     "data": {
      "text/html": [
       "<span style=\"color:#4527A0\"><h1 style=\"font-size:18px\">Starting new trial</h1></span>"
      ],
      "text/plain": [
       "<IPython.core.display.HTML object>"
      ]
     },
     "metadata": {},
     "output_type": "display_data"
    },
    {
     "name": "stdout",
     "output_type": "stream",
     "text": [
      "Epoch 1/1000\n",
      "23/23 [==============================] - ETA: 0s - loss: 0.9022 - accuracy: 0.50 - ETA: 0s - loss: 0.8588 - accuracy: 0.52 - ETA: 0s - loss: 0.9085 - accuracy: 0.51 - ETA: 0s - loss: 0.8688 - accuracy: 0.56 - ETA: 0s - loss: 0.8380 - accuracy: 0.58 - 1s 35ms/step - loss: 0.8221 - accuracy: 0.5978 - val_loss: 0.7098 - val_accuracy: 0.6581\n",
      "Epoch 2/1000\n",
      "23/23 [==============================] - ETA: 0s - loss: 0.9277 - accuracy: 0.53 - ETA: 0s - loss: 0.8104 - accuracy: 0.55 - ETA: 0s - loss: 0.8323 - accuracy: 0.55 - ETA: 0s - loss: 0.8053 - accuracy: 0.57 - ETA: 0s - loss: 0.7890 - accuracy: 0.57 - 0s 17ms/step - loss: 0.7768 - accuracy: 0.5842 - val_loss: 0.6617 - val_accuracy: 0.5806\n",
      "Epoch 3/1000\n",
      "23/23 [==============================] - ETA: 0s - loss: 0.9174 - accuracy: 0.46 - ETA: 0s - loss: 0.7810 - accuracy: 0.58 - ETA: 0s - loss: 0.7728 - accuracy: 0.61 - ETA: 0s - loss: 0.7455 - accuracy: 0.62 - ETA: 0s - loss: 0.7270 - accuracy: 0.64 - 0s 15ms/step - loss: 0.7270 - accuracy: 0.6454 - val_loss: 0.6526 - val_accuracy: 0.7032\n",
      "Epoch 4/1000\n",
      "23/23 [==============================] - ETA: 0s - loss: 0.9200 - accuracy: 0.59 - ETA: 0s - loss: 0.7843 - accuracy: 0.58 - ETA: 0s - loss: 0.7656 - accuracy: 0.60 - ETA: 0s - loss: 0.7277 - accuracy: 0.62 - ETA: 0s - loss: 0.7165 - accuracy: 0.61 - 0s 15ms/step - loss: 0.7095 - accuracy: 0.6250 - val_loss: 0.6936 - val_accuracy: 0.7097\n",
      "Epoch 5/1000\n",
      "23/23 [==============================] - ETA: 0s - loss: 0.9161 - accuracy: 0.53 - ETA: 0s - loss: 0.7920 - accuracy: 0.54 - ETA: 0s - loss: 0.7403 - accuracy: 0.59 - ETA: 0s - loss: 0.7655 - accuracy: 0.58 - ETA: 0s - loss: 0.7454 - accuracy: 0.60 - 0s 22ms/step - loss: 0.7256 - accuracy: 0.6168 - val_loss: 0.6382 - val_accuracy: 0.6581\n",
      "Epoch 6/1000\n",
      "23/23 [==============================] - ETA: 0s - loss: 0.8814 - accuracy: 0.59 - ETA: 0s - loss: 0.8231 - accuracy: 0.56 - ETA: 0s - loss: 0.7941 - accuracy: 0.55 - ETA: 0s - loss: 0.7762 - accuracy: 0.56 - ETA: 0s - loss: 0.7804 - accuracy: 0.56 - 1s 47ms/step - loss: 0.7603 - accuracy: 0.5897 - val_loss: 0.6481 - val_accuracy: 0.7032\n",
      "Epoch 7/1000\n",
      "23/23 [==============================] - ETA: 0s - loss: 0.8786 - accuracy: 0.50 - ETA: 0s - loss: 0.8806 - accuracy: 0.56 - ETA: 0s - loss: 0.8322 - accuracy: 0.55 - ETA: 0s - loss: 0.7981 - accuracy: 0.57 - ETA: 0s - loss: 0.7607 - accuracy: 0.59 - 1s 45ms/step - loss: 0.7477 - accuracy: 0.6060 - val_loss: 0.6157 - val_accuracy: 0.7032\n",
      "Epoch 8/1000\n",
      "23/23 [==============================] - ETA: 0s - loss: 0.7662 - accuracy: 0.50 - ETA: 0s - loss: 0.7763 - accuracy: 0.56 - ETA: 0s - loss: 0.8035 - accuracy: 0.57 - ETA: 0s - loss: 0.7622 - accuracy: 0.58 - 1s 41ms/step - loss: 0.7369 - accuracy: 0.6155 - val_loss: 0.6313 - val_accuracy: 0.7161\n",
      "Epoch 9/1000\n",
      "23/23 [==============================] - ETA: 0s - loss: 0.6707 - accuracy: 0.59 - ETA: 0s - loss: 0.6865 - accuracy: 0.60 - ETA: 0s - loss: 0.6826 - accuracy: 0.62 - ETA: 0s - loss: 0.7020 - accuracy: 0.61 - ETA: 0s - loss: 0.6980 - accuracy: 0.61 - 1s 48ms/step - loss: 0.6992 - accuracy: 0.6223 - val_loss: 0.6040 - val_accuracy: 0.7161\n",
      "Epoch 10/1000\n",
      "23/23 [==============================] - ETA: 0s - loss: 0.7033 - accuracy: 0.62 - ETA: 0s - loss: 0.6930 - accuracy: 0.61 - ETA: 0s - loss: 0.6808 - accuracy: 0.62 - ETA: 0s - loss: 0.6842 - accuracy: 0.61 - ETA: 0s - loss: 0.6639 - accuracy: 0.62 - 1s 65ms/step - loss: 0.6612 - accuracy: 0.6277 - val_loss: 0.6869 - val_accuracy: 0.7097\n",
      "Epoch 11/1000\n",
      "23/23 [==============================] - ETA: 0s - loss: 0.8308 - accuracy: 0.59 - ETA: 0s - loss: 0.7684 - accuracy: 0.54 - ETA: 0s - loss: 0.7490 - accuracy: 0.55 - ETA: 0s - loss: 0.7302 - accuracy: 0.57 - ETA: 0s - loss: 0.7401 - accuracy: 0.58 - 1s 43ms/step - loss: 0.7067 - accuracy: 0.6033 - val_loss: 0.6545 - val_accuracy: 0.6258\n",
      "Epoch 12/1000\n",
      "23/23 [==============================] - ETA: 0s - loss: 0.6512 - accuracy: 0.56 - ETA: 0s - loss: 0.7259 - accuracy: 0.55 - ETA: 0s - loss: 0.7119 - accuracy: 0.58 - ETA: 0s - loss: 0.7116 - accuracy: 0.58 - ETA: 0s - loss: 0.6966 - accuracy: 0.60 - ETA: 0s - loss: 0.6887 - accuracy: 0.61 - 1s 22ms/step - loss: 0.6805 - accuracy: 0.6141 - val_loss: 0.6070 - val_accuracy: 0.6839\n",
      "Epoch 13/1000\n",
      "23/23 [==============================] - ETA: 0s - loss: 0.8423 - accuracy: 0.53 - ETA: 0s - loss: 0.8041 - accuracy: 0.58 - ETA: 0s - loss: 0.7978 - accuracy: 0.59 - ETA: 0s - loss: 0.7817 - accuracy: 0.59 - ETA: 0s - loss: 0.7616 - accuracy: 0.61 - 1s 22ms/step - loss: 0.7493 - accuracy: 0.6236 - val_loss: 0.6566 - val_accuracy: 0.7226\n",
      "Epoch 14/1000\n",
      "23/23 [==============================] - ETA: 0s - loss: 0.8536 - accuracy: 0.50 - ETA: 0s - loss: 0.7680 - accuracy: 0.59 - ETA: 0s - loss: 0.7670 - accuracy: 0.59 - ETA: 0s - loss: 0.7414 - accuracy: 0.58 - ETA: 0s - loss: 0.7102 - accuracy: 0.60 - 0s 20ms/step - loss: 0.7098 - accuracy: 0.6046 - val_loss: 0.6006 - val_accuracy: 0.7290\n",
      "Epoch 15/1000\n",
      "23/23 [==============================] - ETA: 0s - loss: 0.7048 - accuracy: 0.62 - ETA: 0s - loss: 0.7016 - accuracy: 0.58 - ETA: 0s - loss: 0.6925 - accuracy: 0.60 - ETA: 0s - loss: 0.6835 - accuracy: 0.61 - ETA: 0s - loss: 0.6905 - accuracy: 0.61 - ETA: 0s - loss: 0.7332 - accuracy: 0.60 - ETA: 0s - loss: 0.7136 - accuracy: 0.61 - ETA: 0s - loss: 0.7177 - accuracy: 0.61 - 1s 28ms/step - loss: 0.7177 - accuracy: 0.6155 - val_loss: 0.5971 - val_accuracy: 0.7290\n",
      "Epoch 16/1000\n",
      "23/23 [==============================] - ETA: 0s - loss: 0.7061 - accuracy: 0.62 - ETA: 0s - loss: 0.6708 - accuracy: 0.63 - ETA: 0s - loss: 0.7027 - accuracy: 0.62 - ETA: 0s - loss: 0.7015 - accuracy: 0.61 - ETA: 0s - loss: 0.7228 - accuracy: 0.60 - ETA: 0s - loss: 0.7051 - accuracy: 0.61 - 0s 21ms/step - loss: 0.6905 - accuracy: 0.6250 - val_loss: 0.6469 - val_accuracy: 0.7290\n",
      "Epoch 17/1000\n",
      "23/23 [==============================] - ETA: 0s - loss: 0.9397 - accuracy: 0.50 - ETA: 0s - loss: 0.7664 - accuracy: 0.58 - ETA: 0s - loss: 0.7315 - accuracy: 0.61 - ETA: 0s - loss: 0.7174 - accuracy: 0.60 - ETA: 0s - loss: 0.7045 - accuracy: 0.62 - 0s 21ms/step - loss: 0.6991 - accuracy: 0.6223 - val_loss: 0.6335 - val_accuracy: 0.6129\n",
      "Epoch 18/1000\n",
      "23/23 [==============================] - ETA: 0s - loss: 0.8753 - accuracy: 0.53 - ETA: 0s - loss: 0.7911 - accuracy: 0.54 - ETA: 0s - loss: 0.7469 - accuracy: 0.57 - ETA: 0s - loss: 0.7250 - accuracy: 0.58 - ETA: 0s - loss: 0.7152 - accuracy: 0.59 - ETA: 0s - loss: 0.6877 - accuracy: 0.60 - ETA: 0s - loss: 0.6813 - accuracy: 0.61 - 1s 27ms/step - loss: 0.6746 - accuracy: 0.6223 - val_loss: 0.6120 - val_accuracy: 0.7032\n",
      "Epoch 19/1000\n",
      "23/23 [==============================] - ETA: 0s - loss: 0.9951 - accuracy: 0.53 - ETA: 0s - loss: 0.7388 - accuracy: 0.62 - ETA: 0s - loss: 0.7339 - accuracy: 0.61 - ETA: 0s - loss: 0.7173 - accuracy: 0.61 - ETA: 0s - loss: 0.7067 - accuracy: 0.63 - 0s 21ms/step - loss: 0.6950 - accuracy: 0.6332 - val_loss: 0.6004 - val_accuracy: 0.7226\n",
      "Epoch 20/1000\n",
      "23/23 [==============================] - ETA: 0s - loss: 0.8402 - accuracy: 0.56 - ETA: 0s - loss: 0.6758 - accuracy: 0.63 - ETA: 0s - loss: 0.6715 - accuracy: 0.63 - ETA: 0s - loss: 0.6685 - accuracy: 0.61 - ETA: 0s - loss: 0.6608 - accuracy: 0.62 - ETA: 0s - loss: 0.6555 - accuracy: 0.62 - 0s 21ms/step - loss: 0.6597 - accuracy: 0.6223 - val_loss: 0.6197 - val_accuracy: 0.7161\n",
      "Epoch 21/1000\n",
      "23/23 [==============================] - ETA: 0s - loss: 0.9418 - accuracy: 0.50 - ETA: 0s - loss: 0.7831 - accuracy: 0.58 - ETA: 0s - loss: 0.7106 - accuracy: 0.61 - ETA: 0s - loss: 0.6867 - accuracy: 0.62 - ETA: 0s - loss: 0.6628 - accuracy: 0.64 - 0s 21ms/step - loss: 0.6577 - accuracy: 0.6481 - val_loss: 0.6013 - val_accuracy: 0.7032\n",
      "Epoch 22/1000\n",
      "23/23 [==============================] - ETA: 0s - loss: 0.7422 - accuracy: 0.53 - ETA: 0s - loss: 0.7782 - accuracy: 0.58 - ETA: 0s - loss: 0.7123 - accuracy: 0.61 - ETA: 0s - loss: 0.7152 - accuracy: 0.59 - ETA: 0s - loss: 0.6886 - accuracy: 0.62 - 0s 19ms/step - loss: 0.6837 - accuracy: 0.6372 - val_loss: 0.6407 - val_accuracy: 0.6903\n",
      "Epoch 23/1000\n"
     ]
    },
    {
     "name": "stdout",
     "output_type": "stream",
     "text": [
      "23/23 [==============================] - ETA: 0s - loss: 0.6818 - accuracy: 0.56 - ETA: 0s - loss: 0.7071 - accuracy: 0.59 - ETA: 0s - loss: 0.6632 - accuracy: 0.63 - ETA: 0s - loss: 0.6720 - accuracy: 0.63 - ETA: 0s - loss: 0.6468 - accuracy: 0.64 - 0s 19ms/step - loss: 0.6413 - accuracy: 0.6481 - val_loss: 0.5886 - val_accuracy: 0.7161\n",
      "Epoch 24/1000\n",
      "23/23 [==============================] - ETA: 0s - loss: 0.8632 - accuracy: 0.53 - ETA: 0s - loss: 0.7453 - accuracy: 0.60 - ETA: 0s - loss: 0.6938 - accuracy: 0.64 - ETA: 0s - loss: 0.6851 - accuracy: 0.64 - ETA: 0s - loss: 0.6751 - accuracy: 0.64 - 0s 20ms/step - loss: 0.6799 - accuracy: 0.6413 - val_loss: 0.6227 - val_accuracy: 0.7290\n",
      "Epoch 25/1000\n",
      "23/23 [==============================] - ETA: 0s - loss: 0.6629 - accuracy: 0.65 - ETA: 0s - loss: 0.7038 - accuracy: 0.57 - ETA: 0s - loss: 0.6985 - accuracy: 0.60 - ETA: 0s - loss: 0.6885 - accuracy: 0.61 - ETA: 0s - loss: 0.6860 - accuracy: 0.61 - ETA: 0s - loss: 0.6641 - accuracy: 0.63 - 1s 23ms/step - loss: 0.6641 - accuracy: 0.6386 - val_loss: 0.5938 - val_accuracy: 0.7290\n",
      "Epoch 26/1000\n",
      "23/23 [==============================] - ETA: 0s - loss: 0.8210 - accuracy: 0.53 - ETA: 0s - loss: 0.7321 - accuracy: 0.58 - ETA: 0s - loss: 0.6921 - accuracy: 0.62 - ETA: 0s - loss: 0.6851 - accuracy: 0.61 - ETA: 0s - loss: 0.6680 - accuracy: 0.62 - 0s 19ms/step - loss: 0.6670 - accuracy: 0.6277 - val_loss: 0.6103 - val_accuracy: 0.7355\n",
      "Epoch 27/1000\n",
      "23/23 [==============================] - ETA: 0s - loss: 0.6473 - accuracy: 0.59 - ETA: 0s - loss: 0.7120 - accuracy: 0.61 - ETA: 0s - loss: 0.7009 - accuracy: 0.61 - ETA: 0s - loss: 0.6978 - accuracy: 0.60 - ETA: 0s - loss: 0.6808 - accuracy: 0.61 - 0s 16ms/step - loss: 0.6808 - accuracy: 0.6196 - val_loss: 0.6212 - val_accuracy: 0.7097\n",
      "Epoch 28/1000\n",
      "23/23 [==============================] - ETA: 0s - loss: 0.7982 - accuracy: 0.53 - ETA: 0s - loss: 0.6848 - accuracy: 0.59 - ETA: 0s - loss: 0.6664 - accuracy: 0.62 - ETA: 0s - loss: 0.6711 - accuracy: 0.62 - ETA: 0s - loss: 0.6493 - accuracy: 0.64 - 0s 16ms/step - loss: 0.6493 - accuracy: 0.6427 - val_loss: 0.6172 - val_accuracy: 0.7161\n",
      "Epoch 29/1000\n",
      "23/23 [==============================] - ETA: 0s - loss: 0.7338 - accuracy: 0.59 - ETA: 0s - loss: 0.6952 - accuracy: 0.59 - ETA: 0s - loss: 0.6859 - accuracy: 0.62 - ETA: 0s - loss: 0.6754 - accuracy: 0.62 - ETA: 0s - loss: 0.6641 - accuracy: 0.62 - 0s 18ms/step - loss: 0.6585 - accuracy: 0.6291 - val_loss: 0.6018 - val_accuracy: 0.7161\n",
      "Epoch 30/1000\n",
      "23/23 [==============================] - ETA: 0s - loss: 0.6907 - accuracy: 0.59 - ETA: 0s - loss: 0.7111 - accuracy: 0.58 - ETA: 0s - loss: 0.7532 - accuracy: 0.57 - ETA: 0s - loss: 0.7300 - accuracy: 0.58 - ETA: 0s - loss: 0.7173 - accuracy: 0.61 - ETA: 0s - loss: 0.7009 - accuracy: 0.60 - ETA: 0s - loss: 0.6788 - accuracy: 0.61 - ETA: 0s - loss: 0.6675 - accuracy: 0.63 - 1s 28ms/step - loss: 0.6675 - accuracy: 0.6332 - val_loss: 0.6319 - val_accuracy: 0.7161\n",
      "Epoch 31/1000\n",
      "23/23 [==============================] - ETA: 0s - loss: 0.8726 - accuracy: 0.56 - ETA: 0s - loss: 0.7515 - accuracy: 0.59 - ETA: 0s - loss: 0.7200 - accuracy: 0.59 - ETA: 0s - loss: 0.7042 - accuracy: 0.59 - ETA: 0s - loss: 0.6849 - accuracy: 0.60 - ETA: 0s - loss: 0.6743 - accuracy: 0.61 - ETA: 0s - loss: 0.6719 - accuracy: 0.62 - 1s 28ms/step - loss: 0.6668 - accuracy: 0.6264 - val_loss: 0.5902 - val_accuracy: 0.7226\n",
      "Epoch 32/1000\n",
      "23/23 [==============================] - ETA: 0s - loss: 0.6943 - accuracy: 0.65 - ETA: 0s - loss: 0.6763 - accuracy: 0.61 - ETA: 0s - loss: 0.6530 - accuracy: 0.64 - ETA: 0s - loss: 0.6674 - accuracy: 0.62 - ETA: 0s - loss: 0.6535 - accuracy: 0.63 - 0s 18ms/step - loss: 0.6489 - accuracy: 0.6454 - val_loss: 0.5946 - val_accuracy: 0.7161\n",
      "Epoch 33/1000\n",
      "23/23 [==============================] - ETA: 0s - loss: 0.6735 - accuracy: 0.62 - ETA: 0s - loss: 0.6919 - accuracy: 0.61 - ETA: 0s - loss: 0.6724 - accuracy: 0.62 - ETA: 0s - loss: 0.6808 - accuracy: 0.62 - ETA: 0s - loss: 0.6755 - accuracy: 0.63 - 1s 24ms/step - loss: 0.6733 - accuracy: 0.6413 - val_loss: 0.6016 - val_accuracy: 0.7097\n"
     ]
    },
    {
     "data": {
      "text/html": [
       "<span style=\"color:#4527A0\"><h1 style=\"font-size:18px\">Trial complete</h1></span>"
      ],
      "text/plain": [
       "<IPython.core.display.HTML object>"
      ]
     },
     "metadata": {},
     "output_type": "display_data"
    },
    {
     "data": {
      "text/html": [
       "<span style=\"color:#4527A0\"><h1 style=\"font-size:18px\">Trial summary</h1></span>"
      ],
      "text/plain": [
       "<IPython.core.display.HTML object>"
      ]
     },
     "metadata": {},
     "output_type": "display_data"
    },
    {
     "data": {
      "text/html": [
       "<span style=\"color:cyan\"> |-Trial ID: e7b0b471762ab61818466b9f0d230a13</span>"
      ],
      "text/plain": [
       "<IPython.core.display.HTML object>"
      ]
     },
     "metadata": {},
     "output_type": "display_data"
    },
    {
     "data": {
      "text/html": [
       "<span style=\"color:cyan\"> |-Score: 0.7354838848114014</span>"
      ],
      "text/plain": [
       "<IPython.core.display.HTML object>"
      ]
     },
     "metadata": {},
     "output_type": "display_data"
    },
    {
     "data": {
      "text/html": [
       "<span style=\"color:cyan\"> |-Best step: 25</span>"
      ],
      "text/plain": [
       "<IPython.core.display.HTML object>"
      ]
     },
     "metadata": {},
     "output_type": "display_data"
    },
    {
     "data": {
      "text/html": [
       "<span style=\"color:#7E57C2\"><h2 style=\"font-size:16px\">Hyperparameters:</h2></span>"
      ],
      "text/plain": [
       "<IPython.core.display.HTML object>"
      ]
     },
     "metadata": {},
     "output_type": "display_data"
    },
    {
     "data": {
      "text/html": [
       "<span style=\"color:cyan\"> |-classification_head_2/dropout: 0</span>"
      ],
      "text/plain": [
       "<IPython.core.display.HTML object>"
      ]
     },
     "metadata": {},
     "output_type": "display_data"
    },
    {
     "data": {
      "text/html": [
       "<span style=\"color:blue\"> |-learning_rate: 0.001</span>"
      ],
      "text/plain": [
       "<IPython.core.display.HTML object>"
      ]
     },
     "metadata": {},
     "output_type": "display_data"
    },
    {
     "data": {
      "text/html": [
       "<span style=\"color:cyan\"> |-optimizer: adam</span>"
      ],
      "text/plain": [
       "<IPython.core.display.HTML object>"
      ]
     },
     "metadata": {},
     "output_type": "display_data"
    },
    {
     "data": {
      "text/html": [
       "<span style=\"color:blue\"> |-structured_data_block_2/dense_block_1/dropout: 0.5</span>"
      ],
      "text/plain": [
       "<IPython.core.display.HTML object>"
      ]
     },
     "metadata": {},
     "output_type": "display_data"
    },
    {
     "data": {
      "text/html": [
       "<span style=\"color:cyan\"> |-structured_data_block_2/dense_block_1/num_layers: 2</span>"
      ],
      "text/plain": [
       "<IPython.core.display.HTML object>"
      ]
     },
     "metadata": {},
     "output_type": "display_data"
    },
    {
     "data": {
      "text/html": [
       "<span style=\"color:blue\"> |-structured_data_block_2/dense_block_1/units_0: 256</span>"
      ],
      "text/plain": [
       "<IPython.core.display.HTML object>"
      ]
     },
     "metadata": {},
     "output_type": "display_data"
    },
    {
     "data": {
      "text/html": [
       "<span style=\"color:cyan\"> |-structured_data_block_2/dense_block_1/units_1: 1024</span>"
      ],
      "text/plain": [
       "<IPython.core.display.HTML object>"
      ]
     },
     "metadata": {},
     "output_type": "display_data"
    },
    {
     "data": {
      "text/html": [
       "<span style=\"color:blue\"> |-structured_data_block_2/dense_block_1/units_2: 64</span>"
      ],
      "text/plain": [
       "<IPython.core.display.HTML object>"
      ]
     },
     "metadata": {},
     "output_type": "display_data"
    },
    {
     "data": {
      "text/html": [
       "<span style=\"color:cyan\"> |-structured_data_block_2/dense_block_1/use_batchnorm: True</span>"
      ],
      "text/plain": [
       "<IPython.core.display.HTML object>"
      ]
     },
     "metadata": {},
     "output_type": "display_data"
    },
    {
     "data": {
      "text/html": [
       "<span style=\"color:#4527A0\"><h1 style=\"font-size:18px\">Starting new trial</h1></span>"
      ],
      "text/plain": [
       "<IPython.core.display.HTML object>"
      ]
     },
     "metadata": {},
     "output_type": "display_data"
    },
    {
     "name": "stdout",
     "output_type": "stream",
     "text": [
      "Epoch 1/1000\n",
      "23/23 [==============================] - ETA: 0s - loss: 0.7105 - accuracy: 0.46 - ETA: 0s - loss: 0.7126 - accuracy: 0.54 - ETA: 0s - loss: 0.6960 - accuracy: 0.57 - ETA: 0s - loss: 0.6930 - accuracy: 0.58 - ETA: 0s - loss: 0.6695 - accuracy: 0.61 - 1s 55ms/step - loss: 0.6616 - accuracy: 0.6209 - val_loss: 0.7468 - val_accuracy: 0.6258\n",
      "Epoch 2/1000\n",
      "23/23 [==============================] - ETA: 0s - loss: 0.7148 - accuracy: 0.56 - ETA: 0s - loss: 0.6841 - accuracy: 0.59 - ETA: 0s - loss: 0.6733 - accuracy: 0.61 - ETA: 0s - loss: 0.6718 - accuracy: 0.62 - ETA: 0s - loss: 0.6615 - accuracy: 0.61 - ETA: 0s - loss: 0.6423 - accuracy: 0.64 - 0s 19ms/step - loss: 0.6423 - accuracy: 0.6413 - val_loss: 0.6191 - val_accuracy: 0.7161\n",
      "Epoch 3/1000\n",
      "23/23 [==============================] - ETA: 0s - loss: 0.7039 - accuracy: 0.53 - ETA: 0s - loss: 0.6691 - accuracy: 0.59 - ETA: 0s - loss: 0.6554 - accuracy: 0.62 - ETA: 0s - loss: 0.6449 - accuracy: 0.62 - ETA: 0s - loss: 0.6328 - accuracy: 0.64 - 0s 17ms/step - loss: 0.6300 - accuracy: 0.6467 - val_loss: 0.6320 - val_accuracy: 0.7032\n",
      "Epoch 4/1000\n",
      "23/23 [==============================] - ETA: 0s - loss: 0.6889 - accuracy: 0.56 - ETA: 0s - loss: 0.6689 - accuracy: 0.58 - ETA: 0s - loss: 0.6465 - accuracy: 0.63 - ETA: 0s - loss: 0.6436 - accuracy: 0.63 - ETA: 0s - loss: 0.6283 - accuracy: 0.64 - ETA: 0s - loss: 0.6214 - accuracy: 0.65 - ETA: 0s - loss: 0.6185 - accuracy: 0.65 - 1s 26ms/step - loss: 0.6185 - accuracy: 0.6576 - val_loss: 0.6073 - val_accuracy: 0.7032\n",
      "Epoch 5/1000\n",
      "23/23 [==============================] - ETA: 0s - loss: 0.6824 - accuracy: 0.56 - ETA: 0s - loss: 0.6639 - accuracy: 0.59 - ETA: 0s - loss: 0.6460 - accuracy: 0.63 - ETA: 0s - loss: 0.6391 - accuracy: 0.63 - ETA: 0s - loss: 0.6208 - accuracy: 0.65 - 0s 19ms/step - loss: 0.6175 - accuracy: 0.6576 - val_loss: 0.5969 - val_accuracy: 0.7097\n",
      "Epoch 6/1000\n",
      "23/23 [==============================] - ETA: 0s - loss: 0.6705 - accuracy: 0.56 - ETA: 0s - loss: 0.6650 - accuracy: 0.61 - ETA: 0s - loss: 0.6421 - accuracy: 0.63 - ETA: 0s - loss: 0.6403 - accuracy: 0.63 - ETA: 0s - loss: 0.6307 - accuracy: 0.63 - ETA: 0s - loss: 0.6262 - accuracy: 0.64 - 1s 24ms/step - loss: 0.6157 - accuracy: 0.6603 - val_loss: 0.6119 - val_accuracy: 0.7032\n",
      "Epoch 7/1000\n",
      "23/23 [==============================] - ETA: 0s - loss: 0.6865 - accuracy: 0.56 - ETA: 0s - loss: 0.6682 - accuracy: 0.61 - ETA: 0s - loss: 0.6452 - accuracy: 0.64 - ETA: 0s - loss: 0.6413 - accuracy: 0.64 - ETA: 0s - loss: 0.6244 - accuracy: 0.65 - 0s 19ms/step - loss: 0.6174 - accuracy: 0.6671 - val_loss: 0.6053 - val_accuracy: 0.6839\n",
      "Epoch 8/1000\n",
      "23/23 [==============================] - ETA: 0s - loss: 0.6727 - accuracy: 0.59 - ETA: 0s - loss: 0.6630 - accuracy: 0.61 - ETA: 0s - loss: 0.6374 - accuracy: 0.65 - ETA: 0s - loss: 0.6332 - accuracy: 0.64 - ETA: 0s - loss: 0.6150 - accuracy: 0.66 - 1s 22ms/step - loss: 0.6129 - accuracy: 0.6658 - val_loss: 0.6068 - val_accuracy: 0.7290\n",
      "Epoch 9/1000\n",
      "23/23 [==============================] - ETA: 0s - loss: 0.6703 - accuracy: 0.62 - ETA: 0s - loss: 0.6573 - accuracy: 0.65 - ETA: 0s - loss: 0.6349 - accuracy: 0.66 - ETA: 0s - loss: 0.6311 - accuracy: 0.66 - ETA: 0s - loss: 0.6123 - accuracy: 0.68 - 0s 19ms/step - loss: 0.6100 - accuracy: 0.6807 - val_loss: 0.5925 - val_accuracy: 0.7290\n",
      "Epoch 10/1000\n",
      "23/23 [==============================] - ETA: 0s - loss: 0.6781 - accuracy: 0.56 - ETA: 0s - loss: 0.6591 - accuracy: 0.63 - ETA: 0s - loss: 0.6282 - accuracy: 0.65 - ETA: 0s - loss: 0.6194 - accuracy: 0.65 - ETA: 0s - loss: 0.6071 - accuracy: 0.67 - 0s 20ms/step - loss: 0.6048 - accuracy: 0.6739 - val_loss: 0.5918 - val_accuracy: 0.7290\n",
      "Epoch 11/1000\n",
      "23/23 [==============================] - ETA: 0s - loss: 0.6579 - accuracy: 0.56 - ETA: 0s - loss: 0.6518 - accuracy: 0.62 - ETA: 0s - loss: 0.6269 - accuracy: 0.65 - ETA: 0s - loss: 0.6230 - accuracy: 0.65 - ETA: 0s - loss: 0.6049 - accuracy: 0.66 - 1s 23ms/step - loss: 0.6038 - accuracy: 0.6685 - val_loss: 0.6077 - val_accuracy: 0.7161\n",
      "Epoch 12/1000\n",
      "23/23 [==============================] - ETA: 0s - loss: 0.6556 - accuracy: 0.59 - ETA: 0s - loss: 0.6508 - accuracy: 0.64 - ETA: 0s - loss: 0.6230 - accuracy: 0.67 - ETA: 0s - loss: 0.6163 - accuracy: 0.66 - ETA: 0s - loss: 0.6049 - accuracy: 0.68 - 0s 19ms/step - loss: 0.6030 - accuracy: 0.6834 - val_loss: 0.6102 - val_accuracy: 0.6903\n",
      "Epoch 13/1000\n",
      "23/23 [==============================] - ETA: 0s - loss: 0.6595 - accuracy: 0.59 - ETA: 0s - loss: 0.6486 - accuracy: 0.64 - ETA: 0s - loss: 0.6187 - accuracy: 0.66 - ETA: 0s - loss: 0.6099 - accuracy: 0.67 - ETA: 0s - loss: 0.6009 - accuracy: 0.68 - 0s 21ms/step - loss: 0.5984 - accuracy: 0.6848 - val_loss: 0.5874 - val_accuracy: 0.7290\n",
      "Epoch 14/1000\n",
      "23/23 [==============================] - ETA: 0s - loss: 0.6576 - accuracy: 0.59 - ETA: 0s - loss: 0.6788 - accuracy: 0.60 - ETA: 0s - loss: 0.6277 - accuracy: 0.66 - ETA: 0s - loss: 0.6221 - accuracy: 0.66 - ETA: 0s - loss: 0.6068 - accuracy: 0.67 - 0s 19ms/step - loss: 0.6032 - accuracy: 0.6793 - val_loss: 0.5853 - val_accuracy: 0.7161\n",
      "Epoch 15/1000\n",
      "23/23 [==============================] - ETA: 0s - loss: 0.6649 - accuracy: 0.59 - ETA: 0s - loss: 0.6435 - accuracy: 0.65 - ETA: 0s - loss: 0.6348 - accuracy: 0.66 - ETA: 0s - loss: 0.6207 - accuracy: 0.67 - ETA: 0s - loss: 0.6053 - accuracy: 0.68 - ETA: 0s - loss: 0.5994 - accuracy: 0.68 - 1s 25ms/step - loss: 0.5994 - accuracy: 0.6875 - val_loss: 0.5895 - val_accuracy: 0.7226\n",
      "Epoch 16/1000\n",
      "23/23 [==============================] - ETA: 0s - loss: 0.6879 - accuracy: 0.56 - ETA: 0s - loss: 0.6491 - accuracy: 0.63 - ETA: 0s - loss: 0.6194 - accuracy: 0.65 - ETA: 0s - loss: 0.6174 - accuracy: 0.65 - ETA: 0s - loss: 0.5992 - accuracy: 0.67 - 0s 19ms/step - loss: 0.5968 - accuracy: 0.6766 - val_loss: 0.5886 - val_accuracy: 0.7161\n",
      "Epoch 17/1000\n",
      "23/23 [==============================] - ETA: 0s - loss: 0.6859 - accuracy: 0.56 - ETA: 0s - loss: 0.6550 - accuracy: 0.63 - ETA: 0s - loss: 0.6182 - accuracy: 0.66 - ETA: 0s - loss: 0.6169 - accuracy: 0.66 - ETA: 0s - loss: 0.5979 - accuracy: 0.68 - 0s 19ms/step - loss: 0.5953 - accuracy: 0.6821 - val_loss: 0.5911 - val_accuracy: 0.7290\n",
      "Epoch 18/1000\n",
      "23/23 [==============================] - ETA: 0s - loss: 0.6705 - accuracy: 0.56 - ETA: 0s - loss: 0.6537 - accuracy: 0.64 - ETA: 0s - loss: 0.6138 - accuracy: 0.67 - ETA: 0s - loss: 0.6030 - accuracy: 0.68 - ETA: 0s - loss: 0.5938 - accuracy: 0.68 - 0s 21ms/step - loss: 0.5913 - accuracy: 0.6889 - val_loss: 0.6049 - val_accuracy: 0.7161\n",
      "Epoch 19/1000\n",
      "23/23 [==============================] - ETA: 0s - loss: 0.6572 - accuracy: 0.65 - ETA: 0s - loss: 0.6415 - accuracy: 0.64 - ETA: 0s - loss: 0.6092 - accuracy: 0.66 - ETA: 0s - loss: 0.5960 - accuracy: 0.68 - ETA: 0s - loss: 0.5904 - accuracy: 0.68 - 0s 20ms/step - loss: 0.5904 - accuracy: 0.6875 - val_loss: 0.6029 - val_accuracy: 0.7161\n",
      "Epoch 20/1000\n",
      "23/23 [==============================] - ETA: 0s - loss: 0.6683 - accuracy: 0.56 - ETA: 0s - loss: 0.6463 - accuracy: 0.63 - ETA: 0s - loss: 0.6103 - accuracy: 0.67 - ETA: 0s - loss: 0.5994 - accuracy: 0.68 - ETA: 0s - loss: 0.5936 - accuracy: 0.68 - 1s 25ms/step - loss: 0.5907 - accuracy: 0.6848 - val_loss: 0.6182 - val_accuracy: 0.6839\n",
      "Epoch 21/1000\n",
      "23/23 [==============================] - ETA: 0s - loss: 0.6648 - accuracy: 0.59 - ETA: 0s - loss: 0.6852 - accuracy: 0.59 - ETA: 0s - loss: 0.6589 - accuracy: 0.63 - ETA: 0s - loss: 0.6297 - accuracy: 0.66 - ETA: 0s - loss: 0.6232 - accuracy: 0.66 - ETA: 0s - loss: 0.6085 - accuracy: 0.67 - ETA: 0s - loss: 0.6026 - accuracy: 0.68 - 1s 25ms/step - loss: 0.6026 - accuracy: 0.6834 - val_loss: 0.6215 - val_accuracy: 0.6968\n",
      "Epoch 22/1000\n",
      "23/23 [==============================] - ETA: 0s - loss: 0.6491 - accuracy: 0.59 - ETA: 0s - loss: 0.6439 - accuracy: 0.64 - ETA: 0s - loss: 0.6071 - accuracy: 0.67 - ETA: 0s - loss: 0.5985 - accuracy: 0.67 - ETA: 0s - loss: 0.5936 - accuracy: 0.67 - 0s 19ms/step - loss: 0.5916 - accuracy: 0.6821 - val_loss: 0.6061 - val_accuracy: 0.7032\n",
      "Epoch 23/1000\n"
     ]
    },
    {
     "name": "stdout",
     "output_type": "stream",
     "text": [
      "23/23 [==============================] - ETA: 0s - loss: 0.6418 - accuracy: 0.62 - ETA: 0s - loss: 0.6391 - accuracy: 0.66 - ETA: 0s - loss: 0.6022 - accuracy: 0.68 - ETA: 0s - loss: 0.5953 - accuracy: 0.68 - ETA: 0s - loss: 0.5851 - accuracy: 0.69 - 1s 24ms/step - loss: 0.5858 - accuracy: 0.6943 - val_loss: 0.5886 - val_accuracy: 0.7097\n",
      "Epoch 24/1000\n",
      "23/23 [==============================] - ETA: 0s - loss: 0.6587 - accuracy: 0.56 - ETA: 0s - loss: 0.6455 - accuracy: 0.64 - ETA: 0s - loss: 0.6020 - accuracy: 0.67 - ETA: 0s - loss: 0.6023 - accuracy: 0.67 - ETA: 0s - loss: 0.5830 - accuracy: 0.68 - 0s 20ms/step - loss: 0.5811 - accuracy: 0.6902 - val_loss: 0.5996 - val_accuracy: 0.7161\n"
     ]
    },
    {
     "data": {
      "text/html": [
       "<span style=\"color:#4527A0\"><h1 style=\"font-size:18px\">Trial complete</h1></span>"
      ],
      "text/plain": [
       "<IPython.core.display.HTML object>"
      ]
     },
     "metadata": {},
     "output_type": "display_data"
    },
    {
     "data": {
      "text/html": [
       "<span style=\"color:#4527A0\"><h1 style=\"font-size:18px\">Trial summary</h1></span>"
      ],
      "text/plain": [
       "<IPython.core.display.HTML object>"
      ]
     },
     "metadata": {},
     "output_type": "display_data"
    },
    {
     "data": {
      "text/html": [
       "<span style=\"color:cyan\"> |-Trial ID: c3cbe818e8e0112be0baa5963a573997</span>"
      ],
      "text/plain": [
       "<IPython.core.display.HTML object>"
      ]
     },
     "metadata": {},
     "output_type": "display_data"
    },
    {
     "data": {
      "text/html": [
       "<span style=\"color:cyan\"> |-Score: 0.7290322780609131</span>"
      ],
      "text/plain": [
       "<IPython.core.display.HTML object>"
      ]
     },
     "metadata": {},
     "output_type": "display_data"
    },
    {
     "data": {
      "text/html": [
       "<span style=\"color:cyan\"> |-Best step: 7</span>"
      ],
      "text/plain": [
       "<IPython.core.display.HTML object>"
      ]
     },
     "metadata": {},
     "output_type": "display_data"
    },
    {
     "data": {
      "text/html": [
       "<span style=\"color:#7E57C2\"><h2 style=\"font-size:16px\">Hyperparameters:</h2></span>"
      ],
      "text/plain": [
       "<IPython.core.display.HTML object>"
      ]
     },
     "metadata": {},
     "output_type": "display_data"
    },
    {
     "data": {
      "text/html": [
       "<span style=\"color:cyan\"> |-classification_head_2/dropout: 0</span>"
      ],
      "text/plain": [
       "<IPython.core.display.HTML object>"
      ]
     },
     "metadata": {},
     "output_type": "display_data"
    },
    {
     "data": {
      "text/html": [
       "<span style=\"color:blue\"> |-learning_rate: 0.001</span>"
      ],
      "text/plain": [
       "<IPython.core.display.HTML object>"
      ]
     },
     "metadata": {},
     "output_type": "display_data"
    },
    {
     "data": {
      "text/html": [
       "<span style=\"color:cyan\"> |-optimizer: adam</span>"
      ],
      "text/plain": [
       "<IPython.core.display.HTML object>"
      ]
     },
     "metadata": {},
     "output_type": "display_data"
    },
    {
     "data": {
      "text/html": [
       "<span style=\"color:blue\"> |-structured_data_block_2/dense_block_1/dropout: 0.0</span>"
      ],
      "text/plain": [
       "<IPython.core.display.HTML object>"
      ]
     },
     "metadata": {},
     "output_type": "display_data"
    },
    {
     "data": {
      "text/html": [
       "<span style=\"color:cyan\"> |-structured_data_block_2/dense_block_1/num_layers: 3</span>"
      ],
      "text/plain": [
       "<IPython.core.display.HTML object>"
      ]
     },
     "metadata": {},
     "output_type": "display_data"
    },
    {
     "data": {
      "text/html": [
       "<span style=\"color:blue\"> |-structured_data_block_2/dense_block_1/units_0: 512</span>"
      ],
      "text/plain": [
       "<IPython.core.display.HTML object>"
      ]
     },
     "metadata": {},
     "output_type": "display_data"
    },
    {
     "data": {
      "text/html": [
       "<span style=\"color:cyan\"> |-structured_data_block_2/dense_block_1/units_1: 512</span>"
      ],
      "text/plain": [
       "<IPython.core.display.HTML object>"
      ]
     },
     "metadata": {},
     "output_type": "display_data"
    },
    {
     "data": {
      "text/html": [
       "<span style=\"color:blue\"> |-structured_data_block_2/dense_block_1/units_2: 32</span>"
      ],
      "text/plain": [
       "<IPython.core.display.HTML object>"
      ]
     },
     "metadata": {},
     "output_type": "display_data"
    },
    {
     "data": {
      "text/html": [
       "<span style=\"color:cyan\"> |-structured_data_block_2/dense_block_1/use_batchnorm: True</span>"
      ],
      "text/plain": [
       "<IPython.core.display.HTML object>"
      ]
     },
     "metadata": {},
     "output_type": "display_data"
    },
    {
     "data": {
      "text/html": [
       "<span style=\"color:#4527A0\"><h1 style=\"font-size:18px\">Starting new trial</h1></span>"
      ],
      "text/plain": [
       "<IPython.core.display.HTML object>"
      ]
     },
     "metadata": {},
     "output_type": "display_data"
    },
    {
     "name": "stdout",
     "output_type": "stream",
     "text": [
      "Epoch 1/1000\n",
      "23/23 [==============================] - ETA: 0s - loss: 0.6684 - accuracy: 0.65 - ETA: 0s - loss: 0.7583 - accuracy: 0.61 - ETA: 0s - loss: 0.8486 - accuracy: 0.57 - ETA: 0s - loss: 0.8987 - accuracy: 0.59 - ETA: 0s - loss: 0.9110 - accuracy: 0.58 - ETA: 0s - loss: 0.9196 - accuracy: 0.59 - ETA: 0s - loss: 0.8895 - accuracy: 0.60 - 1s 42ms/step - loss: 0.8796 - accuracy: 0.6073 - val_loss: 0.7478 - val_accuracy: 0.3742\n",
      "Epoch 2/1000\n",
      "23/23 [==============================] - ETA: 0s - loss: 0.9062 - accuracy: 0.50 - ETA: 0s - loss: 0.7477 - accuracy: 0.57 - ETA: 0s - loss: 0.7875 - accuracy: 0.56 - ETA: 0s - loss: 0.8317 - accuracy: 0.57 - ETA: 0s - loss: 0.8353 - accuracy: 0.55 - ETA: 0s - loss: 0.8079 - accuracy: 0.56 - ETA: 0s - loss: 0.7703 - accuracy: 0.57 - ETA: 0s - loss: 0.7700 - accuracy: 0.59 - 1s 25ms/step - loss: 0.7578 - accuracy: 0.6019 - val_loss: 0.6767 - val_accuracy: 0.6194\n",
      "Epoch 3/1000\n",
      "23/23 [==============================] - ETA: 0s - loss: 0.8610 - accuracy: 0.59 - ETA: 0s - loss: 0.9076 - accuracy: 0.55 - ETA: 0s - loss: 0.8400 - accuracy: 0.57 - ETA: 0s - loss: 0.8288 - accuracy: 0.56 - ETA: 0s - loss: 0.8195 - accuracy: 0.57 - ETA: 0s - loss: 0.8315 - accuracy: 0.57 - ETA: 0s - loss: 0.8242 - accuracy: 0.56 - ETA: 0s - loss: 0.7935 - accuracy: 0.57 - ETA: 0s - loss: 0.7784 - accuracy: 0.59 - ETA: 0s - loss: 0.7573 - accuracy: 0.60 - 1s 36ms/step - loss: 0.7488 - accuracy: 0.6060 - val_loss: 0.6849 - val_accuracy: 0.5806\n",
      "Epoch 4/1000\n",
      "23/23 [==============================] - ETA: 0s - loss: 0.7020 - accuracy: 0.53 - ETA: 0s - loss: 0.8049 - accuracy: 0.54 - ETA: 0s - loss: 0.7916 - accuracy: 0.57 - ETA: 0s - loss: 0.7804 - accuracy: 0.57 - ETA: 0s - loss: 0.8008 - accuracy: 0.55 - ETA: 0s - loss: 0.7839 - accuracy: 0.56 - ETA: 0s - loss: 0.7689 - accuracy: 0.57 - ETA: 0s - loss: 0.7585 - accuracy: 0.58 - ETA: 0s - loss: 0.7468 - accuracy: 0.59 - 1s 32ms/step - loss: 0.7391 - accuracy: 0.5978 - val_loss: 0.6905 - val_accuracy: 0.6581\n",
      "Epoch 5/1000\n",
      "23/23 [==============================] - ETA: 0s - loss: 0.8745 - accuracy: 0.50 - ETA: 0s - loss: 0.7873 - accuracy: 0.49 - ETA: 0s - loss: 0.7557 - accuracy: 0.53 - ETA: 0s - loss: 0.7411 - accuracy: 0.54 - ETA: 0s - loss: 0.7382 - accuracy: 0.55 - ETA: 0s - loss: 0.7429 - accuracy: 0.56 - ETA: 0s - loss: 0.7418 - accuracy: 0.56 - ETA: 0s - loss: 0.7326 - accuracy: 0.57 - ETA: 0s - loss: 0.7260 - accuracy: 0.58 - ETA: 0s - loss: 0.7088 - accuracy: 0.59 - ETA: 0s - loss: 0.7025 - accuracy: 0.59 - 1s 41ms/step - loss: 0.6983 - accuracy: 0.6033 - val_loss: 0.6832 - val_accuracy: 0.6129\n",
      "Epoch 6/1000\n",
      "23/23 [==============================] - ETA: 0s - loss: 0.6492 - accuracy: 0.62 - ETA: 0s - loss: 0.7021 - accuracy: 0.59 - ETA: 0s - loss: 0.7407 - accuracy: 0.58 - ETA: 0s - loss: 0.7047 - accuracy: 0.60 - ETA: 0s - loss: 0.6932 - accuracy: 0.60 - ETA: 0s - loss: 0.7096 - accuracy: 0.60 - ETA: 0s - loss: 0.7151 - accuracy: 0.60 - ETA: 0s - loss: 0.7005 - accuracy: 0.61 - ETA: 0s - loss: 0.7040 - accuracy: 0.60 - ETA: 0s - loss: 0.6963 - accuracy: 0.60 - ETA: 0s - loss: 0.6921 - accuracy: 0.61 - ETA: 0s - loss: 0.6872 - accuracy: 0.62 - 1s 43ms/step - loss: 0.6872 - accuracy: 0.6223 - val_loss: 0.6975 - val_accuracy: 0.6129\n",
      "Epoch 7/1000\n",
      "23/23 [==============================] - ETA: 0s - loss: 0.8043 - accuracy: 0.65 - ETA: 0s - loss: 0.7503 - accuracy: 0.58 - ETA: 0s - loss: 0.7072 - accuracy: 0.60 - ETA: 0s - loss: 0.7201 - accuracy: 0.59 - ETA: 0s - loss: 0.7275 - accuracy: 0.58 - ETA: 0s - loss: 0.7332 - accuracy: 0.57 - ETA: 0s - loss: 0.7211 - accuracy: 0.58 - ETA: 0s - loss: 0.7044 - accuracy: 0.59 - ETA: 0s - loss: 0.6899 - accuracy: 0.61 - 1s 40ms/step - loss: 0.6805 - accuracy: 0.6250 - val_loss: 0.6292 - val_accuracy: 0.6968\n",
      "Epoch 8/1000\n",
      "23/23 [==============================] - ETA: 0s - loss: 0.8834 - accuracy: 0.53 - ETA: 0s - loss: 0.7361 - accuracy: 0.62 - ETA: 0s - loss: 0.7331 - accuracy: 0.59 - ETA: 0s - loss: 0.6810 - accuracy: 0.62 - ETA: 0s - loss: 0.6708 - accuracy: 0.62 - ETA: 0s - loss: 0.6814 - accuracy: 0.62 - ETA: 0s - loss: 0.6907 - accuracy: 0.62 - ETA: 0s - loss: 0.6917 - accuracy: 0.61 - ETA: 0s - loss: 0.6753 - accuracy: 0.61 - ETA: 0s - loss: 0.6663 - accuracy: 0.62 - ETA: 0s - loss: 0.6682 - accuracy: 0.62 - 1s 39ms/step - loss: 0.6682 - accuracy: 0.6277 - val_loss: 0.6426 - val_accuracy: 0.6065\n",
      "Epoch 9/1000\n",
      "23/23 [==============================] - ETA: 0s - loss: 0.8583 - accuracy: 0.62 - ETA: 0s - loss: 0.7485 - accuracy: 0.57 - ETA: 0s - loss: 0.7109 - accuracy: 0.58 - ETA: 0s - loss: 0.6969 - accuracy: 0.59 - ETA: 0s - loss: 0.6914 - accuracy: 0.59 - ETA: 0s - loss: 0.6860 - accuracy: 0.60 - ETA: 0s - loss: 0.6895 - accuracy: 0.60 - ETA: 0s - loss: 0.6879 - accuracy: 0.61 - ETA: 0s - loss: 0.6767 - accuracy: 0.61 - 1s 33ms/step - loss: 0.6750 - accuracy: 0.6209 - val_loss: 0.6682 - val_accuracy: 0.6968\n",
      "Epoch 10/1000\n",
      "23/23 [==============================] - ETA: 0s - loss: 0.7727 - accuracy: 0.43 - ETA: 0s - loss: 0.7041 - accuracy: 0.53 - ETA: 0s - loss: 0.6965 - accuracy: 0.60 - ETA: 0s - loss: 0.7097 - accuracy: 0.59 - ETA: 0s - loss: 0.7126 - accuracy: 0.59 - ETA: 0s - loss: 0.7056 - accuracy: 0.59 - ETA: 0s - loss: 0.6887 - accuracy: 0.61 - ETA: 0s - loss: 0.6812 - accuracy: 0.62 - 1s 26ms/step - loss: 0.6812 - accuracy: 0.6236 - val_loss: 0.6237 - val_accuracy: 0.6774\n",
      "Epoch 11/1000\n",
      "23/23 [==============================] - ETA: 0s - loss: 0.6963 - accuracy: 0.59 - ETA: 0s - loss: 0.6892 - accuracy: 0.57 - ETA: 0s - loss: 0.6778 - accuracy: 0.60 - ETA: 0s - loss: 0.6679 - accuracy: 0.62 - ETA: 0s - loss: 0.6689 - accuracy: 0.61 - ETA: 0s - loss: 0.6758 - accuracy: 0.62 - ETA: 0s - loss: 0.6699 - accuracy: 0.62 - ETA: 0s - loss: 0.6591 - accuracy: 0.63 - ETA: 0s - loss: 0.6482 - accuracy: 0.64 - 1s 34ms/step - loss: 0.6482 - accuracy: 0.6495 - val_loss: 0.6061 - val_accuracy: 0.7161\n",
      "Epoch 12/1000\n",
      "23/23 [==============================] - ETA: 0s - loss: 0.8604 - accuracy: 0.56 - ETA: 0s - loss: 0.7355 - accuracy: 0.57 - ETA: 0s - loss: 0.7074 - accuracy: 0.58 - ETA: 0s - loss: 0.6905 - accuracy: 0.59 - ETA: 0s - loss: 0.6810 - accuracy: 0.61 - ETA: 0s - loss: 0.6812 - accuracy: 0.62 - ETA: 0s - loss: 0.6782 - accuracy: 0.62 - ETA: 0s - loss: 0.6741 - accuracy: 0.62 - ETA: 0s - loss: 0.6596 - accuracy: 0.64 - ETA: 0s - loss: 0.6588 - accuracy: 0.64 - 1s 36ms/step - loss: 0.6552 - accuracy: 0.6467 - val_loss: 0.6278 - val_accuracy: 0.7097\n",
      "Epoch 13/1000\n",
      "23/23 [==============================] - ETA: 0s - loss: 0.7188 - accuracy: 0.59 - ETA: 0s - loss: 0.7109 - accuracy: 0.61 - ETA: 0s - loss: 0.6852 - accuracy: 0.62 - ETA: 0s - loss: 0.6910 - accuracy: 0.62 - ETA: 0s - loss: 0.6912 - accuracy: 0.62 - ETA: 0s - loss: 0.6871 - accuracy: 0.61 - ETA: 0s - loss: 0.6812 - accuracy: 0.62 - ETA: 0s - loss: 0.6667 - accuracy: 0.63 - ETA: 0s - loss: 0.6625 - accuracy: 0.64 - 1s 36ms/step - loss: 0.6582 - accuracy: 0.6440 - val_loss: 0.6218 - val_accuracy: 0.6065\n",
      "Epoch 14/1000\n",
      "23/23 [==============================] - ETA: 0s - loss: 0.7906 - accuracy: 0.56 - ETA: 0s - loss: 0.7405 - accuracy: 0.56 - ETA: 0s - loss: 0.7418 - accuracy: 0.58 - ETA: 0s - loss: 0.7268 - accuracy: 0.60 - ETA: 0s - loss: 0.7139 - accuracy: 0.60 - ETA: 0s - loss: 0.6987 - accuracy: 0.61 - ETA: 0s - loss: 0.6945 - accuracy: 0.62 - 1s 26ms/step - loss: 0.6932 - accuracy: 0.6291 - val_loss: 0.6690 - val_accuracy: 0.6323\n",
      "Epoch 15/1000\n",
      "23/23 [==============================] - ETA: 0s - loss: 0.8627 - accuracy: 0.56 - ETA: 0s - loss: 0.7580 - accuracy: 0.58 - ETA: 0s - loss: 0.7025 - accuracy: 0.62 - ETA: 0s - loss: 0.6901 - accuracy: 0.64 - ETA: 0s - loss: 0.6764 - accuracy: 0.63 - ETA: 0s - loss: 0.6713 - accuracy: 0.64 - ETA: 0s - loss: 0.6583 - accuracy: 0.65 - 1s 37ms/step - loss: 0.6583 - accuracy: 0.6508 - val_loss: 0.6155 - val_accuracy: 0.7097\n",
      "Epoch 16/1000\n"
     ]
    },
    {
     "name": "stdout",
     "output_type": "stream",
     "text": [
      "23/23 [==============================] - ETA: 0s - loss: 0.7578 - accuracy: 0.59 - ETA: 0s - loss: 0.7041 - accuracy: 0.63 - ETA: 0s - loss: 0.6826 - accuracy: 0.63 - ETA: 0s - loss: 0.6813 - accuracy: 0.62 - ETA: 0s - loss: 0.6856 - accuracy: 0.62 - ETA: 0s - loss: 0.6936 - accuracy: 0.62 - ETA: 0s - loss: 0.6928 - accuracy: 0.62 - ETA: 0s - loss: 0.6785 - accuracy: 0.63 - ETA: 0s - loss: 0.6720 - accuracy: 0.63 - 1s 38ms/step - loss: 0.6714 - accuracy: 0.6372 - val_loss: 0.6770 - val_accuracy: 0.6968\n",
      "Epoch 17/1000\n",
      "23/23 [==============================] - ETA: 0s - loss: 0.7376 - accuracy: 0.53 - ETA: 0s - loss: 0.7226 - accuracy: 0.55 - ETA: 0s - loss: 0.6978 - accuracy: 0.57 - ETA: 0s - loss: 0.6809 - accuracy: 0.59 - ETA: 0s - loss: 0.6871 - accuracy: 0.60 - ETA: 0s - loss: 0.6811 - accuracy: 0.60 - ETA: 0s - loss: 0.6700 - accuracy: 0.61 - 1s 24ms/step - loss: 0.6600 - accuracy: 0.6223 - val_loss: 0.6531 - val_accuracy: 0.6645\n",
      "Epoch 18/1000\n",
      "23/23 [==============================] - ETA: 0s - loss: 0.6907 - accuracy: 0.53 - ETA: 0s - loss: 0.6870 - accuracy: 0.58 - ETA: 0s - loss: 0.6584 - accuracy: 0.62 - ETA: 0s - loss: 0.6688 - accuracy: 0.62 - ETA: 0s - loss: 0.6659 - accuracy: 0.62 - ETA: 0s - loss: 0.6664 - accuracy: 0.61 - ETA: 0s - loss: 0.6517 - accuracy: 0.63 - ETA: 0s - loss: 0.6447 - accuracy: 0.64 - ETA: 0s - loss: 0.6381 - accuracy: 0.64 - 1s 35ms/step - loss: 0.6358 - accuracy: 0.6495 - val_loss: 0.6086 - val_accuracy: 0.7097\n",
      "Epoch 19/1000\n",
      "23/23 [==============================] - ETA: 0s - loss: 0.7728 - accuracy: 0.53 - ETA: 0s - loss: 0.7382 - accuracy: 0.56 - ETA: 0s - loss: 0.7047 - accuracy: 0.58 - ETA: 0s - loss: 0.7148 - accuracy: 0.58 - ETA: 0s - loss: 0.7130 - accuracy: 0.60 - ETA: 0s - loss: 0.7009 - accuracy: 0.61 - ETA: 0s - loss: 0.6991 - accuracy: 0.61 - ETA: 0s - loss: 0.6903 - accuracy: 0.62 - ETA: 0s - loss: 0.6831 - accuracy: 0.62 - ETA: 0s - loss: 0.6745 - accuracy: 0.63 - ETA: 0s - loss: 0.6617 - accuracy: 0.64 - ETA: 0s - loss: 0.6565 - accuracy: 0.65 - 1s 45ms/step - loss: 0.6565 - accuracy: 0.6522 - val_loss: 0.6648 - val_accuracy: 0.7032\n",
      "Epoch 20/1000\n",
      "23/23 [==============================] - ETA: 0s - loss: 0.6895 - accuracy: 0.56 - ETA: 0s - loss: 0.6930 - accuracy: 0.60 - ETA: 0s - loss: 0.6806 - accuracy: 0.62 - ETA: 0s - loss: 0.6760 - accuracy: 0.63 - ETA: 0s - loss: 0.6743 - accuracy: 0.63 - ETA: 0s - loss: 0.6607 - accuracy: 0.64 - ETA: 0s - loss: 0.6523 - accuracy: 0.65 - 1s 30ms/step - loss: 0.6511 - accuracy: 0.6549 - val_loss: 0.6327 - val_accuracy: 0.7097\n",
      "Epoch 21/1000\n",
      "23/23 [==============================] - ETA: 0s - loss: 0.6679 - accuracy: 0.56 - ETA: 0s - loss: 0.6950 - accuracy: 0.57 - ETA: 0s - loss: 0.6856 - accuracy: 0.59 - ETA: 0s - loss: 0.6765 - accuracy: 0.61 - ETA: 0s - loss: 0.6793 - accuracy: 0.60 - ETA: 0s - loss: 0.6796 - accuracy: 0.61 - ETA: 0s - loss: 0.6546 - accuracy: 0.62 - ETA: 0s - loss: 0.6544 - accuracy: 0.63 - 1s 31ms/step - loss: 0.6463 - accuracy: 0.6454 - val_loss: 0.6092 - val_accuracy: 0.6903\n"
     ]
    },
    {
     "data": {
      "text/html": [
       "<span style=\"color:#4527A0\"><h1 style=\"font-size:18px\">Trial complete</h1></span>"
      ],
      "text/plain": [
       "<IPython.core.display.HTML object>"
      ]
     },
     "metadata": {},
     "output_type": "display_data"
    },
    {
     "data": {
      "text/html": [
       "<span style=\"color:#4527A0\"><h1 style=\"font-size:18px\">Trial summary</h1></span>"
      ],
      "text/plain": [
       "<IPython.core.display.HTML object>"
      ]
     },
     "metadata": {},
     "output_type": "display_data"
    },
    {
     "data": {
      "text/html": [
       "<span style=\"color:cyan\"> |-Trial ID: 8e6ec97f3d137d389f482d4ba3c0e457</span>"
      ],
      "text/plain": [
       "<IPython.core.display.HTML object>"
      ]
     },
     "metadata": {},
     "output_type": "display_data"
    },
    {
     "data": {
      "text/html": [
       "<span style=\"color:cyan\"> |-Score: 0.7161290049552917</span>"
      ],
      "text/plain": [
       "<IPython.core.display.HTML object>"
      ]
     },
     "metadata": {},
     "output_type": "display_data"
    },
    {
     "data": {
      "text/html": [
       "<span style=\"color:cyan\"> |-Best step: 10</span>"
      ],
      "text/plain": [
       "<IPython.core.display.HTML object>"
      ]
     },
     "metadata": {},
     "output_type": "display_data"
    },
    {
     "data": {
      "text/html": [
       "<span style=\"color:#7E57C2\"><h2 style=\"font-size:16px\">Hyperparameters:</h2></span>"
      ],
      "text/plain": [
       "<IPython.core.display.HTML object>"
      ]
     },
     "metadata": {},
     "output_type": "display_data"
    },
    {
     "data": {
      "text/html": [
       "<span style=\"color:cyan\"> |-classification_head_2/dropout: 0</span>"
      ],
      "text/plain": [
       "<IPython.core.display.HTML object>"
      ]
     },
     "metadata": {},
     "output_type": "display_data"
    },
    {
     "data": {
      "text/html": [
       "<span style=\"color:blue\"> |-learning_rate: 0.001</span>"
      ],
      "text/plain": [
       "<IPython.core.display.HTML object>"
      ]
     },
     "metadata": {},
     "output_type": "display_data"
    },
    {
     "data": {
      "text/html": [
       "<span style=\"color:cyan\"> |-optimizer: adam</span>"
      ],
      "text/plain": [
       "<IPython.core.display.HTML object>"
      ]
     },
     "metadata": {},
     "output_type": "display_data"
    },
    {
     "data": {
      "text/html": [
       "<span style=\"color:blue\"> |-structured_data_block_2/dense_block_1/dropout: 0.25</span>"
      ],
      "text/plain": [
       "<IPython.core.display.HTML object>"
      ]
     },
     "metadata": {},
     "output_type": "display_data"
    },
    {
     "data": {
      "text/html": [
       "<span style=\"color:cyan\"> |-structured_data_block_2/dense_block_1/num_layers: 3</span>"
      ],
      "text/plain": [
       "<IPython.core.display.HTML object>"
      ]
     },
     "metadata": {},
     "output_type": "display_data"
    },
    {
     "data": {
      "text/html": [
       "<span style=\"color:blue\"> |-structured_data_block_2/dense_block_1/units_0: 64</span>"
      ],
      "text/plain": [
       "<IPython.core.display.HTML object>"
      ]
     },
     "metadata": {},
     "output_type": "display_data"
    },
    {
     "data": {
      "text/html": [
       "<span style=\"color:cyan\"> |-structured_data_block_2/dense_block_1/units_1: 512</span>"
      ],
      "text/plain": [
       "<IPython.core.display.HTML object>"
      ]
     },
     "metadata": {},
     "output_type": "display_data"
    },
    {
     "data": {
      "text/html": [
       "<span style=\"color:blue\"> |-structured_data_block_2/dense_block_1/units_2: 1024</span>"
      ],
      "text/plain": [
       "<IPython.core.display.HTML object>"
      ]
     },
     "metadata": {},
     "output_type": "display_data"
    },
    {
     "data": {
      "text/html": [
       "<span style=\"color:cyan\"> |-structured_data_block_2/dense_block_1/use_batchnorm: True</span>"
      ],
      "text/plain": [
       "<IPython.core.display.HTML object>"
      ]
     },
     "metadata": {},
     "output_type": "display_data"
    },
    {
     "data": {
      "text/html": [
       "<span style=\"color:#4527A0\"><h1 style=\"font-size:18px\">Starting new trial</h1></span>"
      ],
      "text/plain": [
       "<IPython.core.display.HTML object>"
      ]
     },
     "metadata": {},
     "output_type": "display_data"
    },
    {
     "name": "stdout",
     "output_type": "stream",
     "text": [
      "Epoch 1/1000\n",
      "23/23 [==============================] - ETA: 0s - loss: 3956.7034 - accuracy: 0.500 - ETA: 0s - loss: 8243.9668 - accuracy: 0.602 - ETA: 0s - loss: 5118.9609 - accuracy: 0.581 - ETA: 0s - loss: 3823.5266 - accuracy: 0.544 - 1s 43ms/step - loss: 3242.0215 - accuracy: 0.5679 - val_loss: 201.8312 - val_accuracy: 0.6645\n",
      "Epoch 2/1000\n",
      "23/23 [==============================] - ETA: 0s - loss: 565.6094 - accuracy: 0.53 - ETA: 0s - loss: 546.4077 - accuracy: 0.43 - ETA: 0s - loss: 388.7503 - accuracy: 0.49 - ETA: 0s - loss: 292.3662 - accuracy: 0.52 - ETA: 0s - loss: 241.5310 - accuracy: 0.53 - 0s 15ms/step - loss: 241.5310 - accuracy: 0.5380 - val_loss: 32.7573 - val_accuracy: 0.6516\n",
      "Epoch 3/1000\n",
      "23/23 [==============================] - ETA: 0s - loss: 82.2077 - accuracy: 0.531 - ETA: 0s - loss: 76.3297 - accuracy: 0.540 - ETA: 0s - loss: 65.8533 - accuracy: 0.543 - ETA: 0s - loss: 56.7223 - accuracy: 0.567 - 0s 14ms/step - loss: 50.1108 - accuracy: 0.5448 - val_loss: 29.0762 - val_accuracy: 0.6903\n",
      "Epoch 4/1000\n",
      "23/23 [==============================] - ETA: 0s - loss: 73.1624 - accuracy: 0.562 - ETA: 0s - loss: 50.2323 - accuracy: 0.656 - ETA: 0s - loss: 44.0008 - accuracy: 0.597 - ETA: 0s - loss: 39.6424 - accuracy: 0.608 - ETA: 0s - loss: 43.8093 - accuracy: 0.603 - 0s 18ms/step - loss: 40.5802 - accuracy: 0.6141 - val_loss: 43.2854 - val_accuracy: 0.3484\n",
      "Epoch 5/1000\n",
      "23/23 [==============================] - ETA: 0s - loss: 22.0696 - accuracy: 0.500 - ETA: 0s - loss: 19.6209 - accuracy: 0.611 - ETA: 0s - loss: 11.5839 - accuracy: 0.574 - ETA: 0s - loss: 8.8731 - accuracy: 0.571 - 0s 15ms/step - loss: 7.2637 - accuracy: 0.5761 - val_loss: 1.4470 - val_accuracy: 0.6387\n",
      "Epoch 6/1000\n",
      "23/23 [==============================] - ETA: 0s - loss: 2.7934 - accuracy: 0.50 - ETA: 0s - loss: 1.3369 - accuracy: 0.56 - ETA: 0s - loss: 1.4813 - accuracy: 0.60 - ETA: 0s - loss: 2.1335 - accuracy: 0.56 - ETA: 0s - loss: 3.6264 - accuracy: 0.57 - ETA: 0s - loss: 3.1328 - accuracy: 0.58 - ETA: 0s - loss: 2.6910 - accuracy: 0.58 - 1s 24ms/step - loss: 2.6038 - accuracy: 0.5897 - val_loss: 0.6675 - val_accuracy: 0.6387\n",
      "Epoch 7/1000\n",
      "23/23 [==============================] - ETA: 0s - loss: 0.6945 - accuracy: 0.50 - ETA: 0s - loss: 0.6689 - accuracy: 0.66 - ETA: 0s - loss: 0.6750 - accuracy: 0.61 - ETA: 0s - loss: 0.6761 - accuracy: 0.61 - ETA: 0s - loss: 0.6758 - accuracy: 0.61 - 0s 20ms/step - loss: 0.6759 - accuracy: 0.6114 - val_loss: 0.6578 - val_accuracy: 0.6387\n",
      "Epoch 8/1000\n",
      "23/23 [==============================] - ETA: 0s - loss: 0.6988 - accuracy: 0.50 - ETA: 0s - loss: 0.6604 - accuracy: 0.65 - ETA: 0s - loss: 0.6665 - accuracy: 0.62 - ETA: 0s - loss: 0.6706 - accuracy: 0.60 - ETA: 0s - loss: 0.6708 - accuracy: 0.60 - ETA: 0s - loss: 0.6697 - accuracy: 0.61 - 0s 19ms/step - loss: 0.6697 - accuracy: 0.6114 - val_loss: 0.6515 - val_accuracy: 0.6387\n",
      "Epoch 9/1000\n",
      "23/23 [==============================] - ETA: 0s - loss: 0.7051 - accuracy: 0.50 - ETA: 0s - loss: 0.6525 - accuracy: 0.65 - ETA: 0s - loss: 0.6621 - accuracy: 0.62 - ETA: 0s - loss: 0.6679 - accuracy: 0.60 - ETA: 0s - loss: 0.6674 - accuracy: 0.60 - 0s 18ms/step - loss: 0.6670 - accuracy: 0.6114 - val_loss: 0.6487 - val_accuracy: 0.6387\n",
      "Epoch 10/1000\n",
      "23/23 [==============================] - ETA: 0s - loss: 0.7101 - accuracy: 0.50 - ETA: 0s - loss: 0.6426 - accuracy: 0.66 - ETA: 0s - loss: 0.6636 - accuracy: 0.61 - ETA: 0s - loss: 0.6656 - accuracy: 0.61 - ETA: 0s - loss: 0.6656 - accuracy: 0.61 - 0s 16ms/step - loss: 0.6660 - accuracy: 0.6114 - val_loss: 0.6475 - val_accuracy: 0.6387\n",
      "Epoch 11/1000\n",
      "23/23 [==============================] - ETA: 0s - loss: 0.7134 - accuracy: 0.50 - ETA: 0s - loss: 0.6755 - accuracy: 0.59 - ETA: 0s - loss: 0.6451 - accuracy: 0.65 - ETA: 0s - loss: 0.6596 - accuracy: 0.62 - ETA: 0s - loss: 0.6632 - accuracy: 0.61 - ETA: 0s - loss: 0.6639 - accuracy: 0.61 - ETA: 0s - loss: 0.6661 - accuracy: 0.61 - 1s 23ms/step - loss: 0.6657 - accuracy: 0.6114 - val_loss: 0.6469 - val_accuracy: 0.6387\n",
      "Epoch 12/1000\n",
      "23/23 [==============================] - ETA: 0s - loss: 0.7152 - accuracy: 0.50 - ETA: 0s - loss: 0.6461 - accuracy: 0.65 - ETA: 0s - loss: 0.6594 - accuracy: 0.62 - ETA: 0s - loss: 0.6657 - accuracy: 0.60 - ETA: 0s - loss: 0.6662 - accuracy: 0.60 - 0s 20ms/step - loss: 0.6657 - accuracy: 0.6114 - val_loss: 0.6467 - val_accuracy: 0.6387\n",
      "Epoch 13/1000\n",
      "23/23 [==============================] - ETA: 0s - loss: 0.7162 - accuracy: 0.50 - ETA: 0s - loss: 0.6391 - accuracy: 0.66 - ETA: 0s - loss: 0.6593 - accuracy: 0.62 - ETA: 0s - loss: 0.6669 - accuracy: 0.60 - ETA: 0s - loss: 0.6666 - accuracy: 0.60 - ETA: 0s - loss: 0.6652 - accuracy: 0.61 - 1s 22ms/step - loss: 0.6656 - accuracy: 0.6114 - val_loss: 0.6466 - val_accuracy: 0.6387\n",
      "Epoch 14/1000\n",
      "23/23 [==============================] - ETA: 0s - loss: 0.7168 - accuracy: 0.50 - ETA: 0s - loss: 0.6389 - accuracy: 0.66 - ETA: 0s - loss: 0.6632 - accuracy: 0.61 - ETA: 0s - loss: 0.6637 - accuracy: 0.61 - ETA: 0s - loss: 0.6660 - accuracy: 0.61 - 0s 17ms/step - loss: 0.6656 - accuracy: 0.6114 - val_loss: 0.6465 - val_accuracy: 0.6387\n",
      "Epoch 15/1000\n",
      "23/23 [==============================] - ETA: 0s - loss: 0.7170 - accuracy: 0.50 - ETA: 0s - loss: 0.6388 - accuracy: 0.66 - ETA: 0s - loss: 0.6642 - accuracy: 0.60 - ETA: 0s - loss: 0.6666 - accuracy: 0.60 - ETA: 0s - loss: 0.6656 - accuracy: 0.61 - 0s 16ms/step - loss: 0.6656 - accuracy: 0.6114 - val_loss: 0.6465 - val_accuracy: 0.6387\n",
      "Epoch 16/1000\n",
      "23/23 [==============================] - ETA: 0s - loss: 0.7171 - accuracy: 0.50 - ETA: 0s - loss: 0.6588 - accuracy: 0.63 - ETA: 0s - loss: 0.6409 - accuracy: 0.66 - ETA: 0s - loss: 0.6632 - accuracy: 0.61 - ETA: 0s - loss: 0.6637 - accuracy: 0.61 - ETA: 0s - loss: 0.6660 - accuracy: 0.61 - 1s 22ms/step - loss: 0.6656 - accuracy: 0.6114 - val_loss: 0.6465 - val_accuracy: 0.6387\n",
      "Epoch 17/1000\n",
      "23/23 [==============================] - ETA: 0s - loss: 0.7172 - accuracy: 0.50 - ETA: 0s - loss: 0.6387 - accuracy: 0.66 - ETA: 0s - loss: 0.6632 - accuracy: 0.61 - ETA: 0s - loss: 0.6657 - accuracy: 0.60 - ETA: 0s - loss: 0.6662 - accuracy: 0.60 - 0s 21ms/step - loss: 0.6656 - accuracy: 0.6114 - val_loss: 0.6465 - val_accuracy: 0.6387\n",
      "Epoch 18/1000\n",
      "23/23 [==============================] - ETA: 0s - loss: 0.7172 - accuracy: 0.50 - ETA: 0s - loss: 0.6387 - accuracy: 0.66 - ETA: 0s - loss: 0.6479 - accuracy: 0.64 - ETA: 0s - loss: 0.6669 - accuracy: 0.60 - ETA: 0s - loss: 0.6671 - accuracy: 0.60 - ETA: 0s - loss: 0.6656 - accuracy: 0.61 - 0s 20ms/step - loss: 0.6656 - accuracy: 0.6114 - val_loss: 0.6465 - val_accuracy: 0.6387\n",
      "Epoch 19/1000\n",
      "23/23 [==============================] - ETA: 0s - loss: 0.7172 - accuracy: 0.50 - ETA: 0s - loss: 0.6387 - accuracy: 0.66 - ETA: 0s - loss: 0.6632 - accuracy: 0.61 - ETA: 0s - loss: 0.6637 - accuracy: 0.61 - ETA: 0s - loss: 0.6660 - accuracy: 0.61 - 0s 20ms/step - loss: 0.6656 - accuracy: 0.6114 - val_loss: 0.6465 - val_accuracy: 0.6387\n",
      "Epoch 20/1000\n",
      "23/23 [==============================] - ETA: 0s - loss: 0.7172 - accuracy: 0.50 - ETA: 0s - loss: 0.6387 - accuracy: 0.66 - ETA: 0s - loss: 0.6592 - accuracy: 0.62 - ETA: 0s - loss: 0.6630 - accuracy: 0.61 - ETA: 0s - loss: 0.6666 - accuracy: 0.60 - ETA: 0s - loss: 0.6652 - accuracy: 0.61 - 1s 22ms/step - loss: 0.6657 - accuracy: 0.6114 - val_loss: 0.6465 - val_accuracy: 0.6387\n",
      "Epoch 21/1000\n",
      "23/23 [==============================] - ETA: 0s - loss: 0.7172 - accuracy: 0.50 - ETA: 0s - loss: 0.6438 - accuracy: 0.65 - ETA: 0s - loss: 0.6592 - accuracy: 0.62 - ETA: 0s - loss: 0.6630 - accuracy: 0.61 - ETA: 0s - loss: 0.6637 - accuracy: 0.61 - ETA: 0s - loss: 0.6662 - accuracy: 0.60 - ETA: 0s - loss: 0.6657 - accuracy: 0.61 - 1s 30ms/step - loss: 0.6657 - accuracy: 0.6114 - val_loss: 0.6465 - val_accuracy: 0.6387\n",
      "Epoch 22/1000\n",
      "23/23 [==============================] - ETA: 0s - loss: 0.7172 - accuracy: 0.50 - ETA: 0s - loss: 0.6387 - accuracy: 0.66 - ETA: 0s - loss: 0.6479 - accuracy: 0.64 - ETA: 0s - loss: 0.6670 - accuracy: 0.60 - ETA: 0s - loss: 0.6671 - accuracy: 0.60 - ETA: 0s - loss: 0.6657 - accuracy: 0.61 - 0s 20ms/step - loss: 0.6657 - accuracy: 0.6114 - val_loss: 0.6465 - val_accuracy: 0.6387\n"
     ]
    },
    {
     "name": "stdout",
     "output_type": "stream",
     "text": [
      "Epoch 23/1000\n",
      "23/23 [==============================] - ETA: 0s - loss: 0.7172 - accuracy: 0.50 - ETA: 0s - loss: 0.6454 - accuracy: 0.65 - ETA: 0s - loss: 0.6592 - accuracy: 0.62 - ETA: 0s - loss: 0.6670 - accuracy: 0.60 - ETA: 0s - loss: 0.6671 - accuracy: 0.60 - ETA: 0s - loss: 0.6660 - accuracy: 0.61 - 1s 22ms/step - loss: 0.6657 - accuracy: 0.6114 - val_loss: 0.6465 - val_accuracy: 0.6387\n",
      "Epoch 24/1000\n",
      "23/23 [==============================] - ETA: 0s - loss: 0.7172 - accuracy: 0.50 - ETA: 0s - loss: 0.6387 - accuracy: 0.66 - ETA: 0s - loss: 0.6592 - accuracy: 0.62 - ETA: 0s - loss: 0.6670 - accuracy: 0.60 - ETA: 0s - loss: 0.6666 - accuracy: 0.60 - ETA: 0s - loss: 0.6657 - accuracy: 0.61 - 0s 20ms/step - loss: 0.6657 - accuracy: 0.6114 - val_loss: 0.6465 - val_accuracy: 0.6387\n",
      "Epoch 25/1000\n",
      "23/23 [==============================] - ETA: 0s - loss: 0.7172 - accuracy: 0.50 - ETA: 0s - loss: 0.6387 - accuracy: 0.66 - ETA: 0s - loss: 0.6632 - accuracy: 0.61 - ETA: 0s - loss: 0.6637 - accuracy: 0.61 - ETA: 0s - loss: 0.6652 - accuracy: 0.61 - 0s 20ms/step - loss: 0.6657 - accuracy: 0.6114 - val_loss: 0.6465 - val_accuracy: 0.6387\n",
      "Epoch 26/1000\n",
      "23/23 [==============================] - ETA: 0s - loss: 0.7172 - accuracy: 0.50 - ETA: 0s - loss: 0.6387 - accuracy: 0.66 - ETA: 0s - loss: 0.6592 - accuracy: 0.62 - ETA: 0s - loss: 0.6657 - accuracy: 0.60 - ETA: 0s - loss: 0.6671 - accuracy: 0.60 - 0s 20ms/step - loss: 0.6657 - accuracy: 0.6114 - val_loss: 0.6465 - val_accuracy: 0.6387\n",
      "Epoch 27/1000\n",
      "23/23 [==============================] - ETA: 0s - loss: 0.7172 - accuracy: 0.50 - ETA: 0s - loss: 0.6387 - accuracy: 0.66 - ETA: 0s - loss: 0.6632 - accuracy: 0.61 - ETA: 0s - loss: 0.6637 - accuracy: 0.61 - ETA: 0s - loss: 0.6660 - accuracy: 0.61 - 0s 20ms/step - loss: 0.6657 - accuracy: 0.6114 - val_loss: 0.6465 - val_accuracy: 0.6387\n",
      "Epoch 28/1000\n",
      "23/23 [==============================] - ETA: 0s - loss: 0.7172 - accuracy: 0.50 - ETA: 0s - loss: 0.6454 - accuracy: 0.65 - ETA: 0s - loss: 0.6479 - accuracy: 0.64 - ETA: 0s - loss: 0.6670 - accuracy: 0.60 - ETA: 0s - loss: 0.6666 - accuracy: 0.60 - ETA: 0s - loss: 0.6657 - accuracy: 0.61 - 2s 74ms/step - loss: 0.6657 - accuracy: 0.6114 - val_loss: 0.6465 - val_accuracy: 0.6387\n"
     ]
    },
    {
     "data": {
      "text/html": [
       "<span style=\"color:#4527A0\"><h1 style=\"font-size:18px\">Trial complete</h1></span>"
      ],
      "text/plain": [
       "<IPython.core.display.HTML object>"
      ]
     },
     "metadata": {},
     "output_type": "display_data"
    },
    {
     "data": {
      "text/html": [
       "<span style=\"color:#4527A0\"><h1 style=\"font-size:18px\">Trial summary</h1></span>"
      ],
      "text/plain": [
       "<IPython.core.display.HTML object>"
      ]
     },
     "metadata": {},
     "output_type": "display_data"
    },
    {
     "data": {
      "text/html": [
       "<span style=\"color:cyan\"> |-Trial ID: 19d1d0cdba76cd2652cbcb2cb23c465f</span>"
      ],
      "text/plain": [
       "<IPython.core.display.HTML object>"
      ]
     },
     "metadata": {},
     "output_type": "display_data"
    },
    {
     "data": {
      "text/html": [
       "<span style=\"color:cyan\"> |-Score: 0.6903225779533386</span>"
      ],
      "text/plain": [
       "<IPython.core.display.HTML object>"
      ]
     },
     "metadata": {},
     "output_type": "display_data"
    },
    {
     "data": {
      "text/html": [
       "<span style=\"color:cyan\"> |-Best step: 2</span>"
      ],
      "text/plain": [
       "<IPython.core.display.HTML object>"
      ]
     },
     "metadata": {},
     "output_type": "display_data"
    },
    {
     "data": {
      "text/html": [
       "<span style=\"color:#7E57C2\"><h2 style=\"font-size:16px\">Hyperparameters:</h2></span>"
      ],
      "text/plain": [
       "<IPython.core.display.HTML object>"
      ]
     },
     "metadata": {},
     "output_type": "display_data"
    },
    {
     "data": {
      "text/html": [
       "<span style=\"color:cyan\"> |-classification_head_2/dropout: 0</span>"
      ],
      "text/plain": [
       "<IPython.core.display.HTML object>"
      ]
     },
     "metadata": {},
     "output_type": "display_data"
    },
    {
     "data": {
      "text/html": [
       "<span style=\"color:blue\"> |-learning_rate: 0.001</span>"
      ],
      "text/plain": [
       "<IPython.core.display.HTML object>"
      ]
     },
     "metadata": {},
     "output_type": "display_data"
    },
    {
     "data": {
      "text/html": [
       "<span style=\"color:cyan\"> |-optimizer: adam</span>"
      ],
      "text/plain": [
       "<IPython.core.display.HTML object>"
      ]
     },
     "metadata": {},
     "output_type": "display_data"
    },
    {
     "data": {
      "text/html": [
       "<span style=\"color:blue\"> |-structured_data_block_2/dense_block_1/dropout: 0.0</span>"
      ],
      "text/plain": [
       "<IPython.core.display.HTML object>"
      ]
     },
     "metadata": {},
     "output_type": "display_data"
    },
    {
     "data": {
      "text/html": [
       "<span style=\"color:cyan\"> |-structured_data_block_2/dense_block_1/num_layers: 3</span>"
      ],
      "text/plain": [
       "<IPython.core.display.HTML object>"
      ]
     },
     "metadata": {},
     "output_type": "display_data"
    },
    {
     "data": {
      "text/html": [
       "<span style=\"color:blue\"> |-structured_data_block_2/dense_block_1/units_0: 1024</span>"
      ],
      "text/plain": [
       "<IPython.core.display.HTML object>"
      ]
     },
     "metadata": {},
     "output_type": "display_data"
    },
    {
     "data": {
      "text/html": [
       "<span style=\"color:cyan\"> |-structured_data_block_2/dense_block_1/units_1: 256</span>"
      ],
      "text/plain": [
       "<IPython.core.display.HTML object>"
      ]
     },
     "metadata": {},
     "output_type": "display_data"
    },
    {
     "data": {
      "text/html": [
       "<span style=\"color:blue\"> |-structured_data_block_2/dense_block_1/units_2: 1024</span>"
      ],
      "text/plain": [
       "<IPython.core.display.HTML object>"
      ]
     },
     "metadata": {},
     "output_type": "display_data"
    },
    {
     "data": {
      "text/html": [
       "<span style=\"color:cyan\"> |-structured_data_block_2/dense_block_1/use_batchnorm: False</span>"
      ],
      "text/plain": [
       "<IPython.core.display.HTML object>"
      ]
     },
     "metadata": {},
     "output_type": "display_data"
    },
    {
     "data": {
      "text/html": [
       "<span style=\"color:#4527A0\"><h1 style=\"font-size:18px\">Starting new trial</h1></span>"
      ],
      "text/plain": [
       "<IPython.core.display.HTML object>"
      ]
     },
     "metadata": {},
     "output_type": "display_data"
    },
    {
     "name": "stdout",
     "output_type": "stream",
     "text": [
      "Epoch 1/1000\n",
      "23/23 [==============================] - ETA: 0s - loss: 8113.2715 - accuracy: 0.562 - ETA: 0s - loss: 7648.7910 - accuracy: 0.547 - 1s 41ms/step - loss: 6934.6602 - accuracy: 0.5353 - val_loss: 735.1412 - val_accuracy: 0.3613\n",
      "Epoch 2/1000\n",
      "23/23 [==============================] - ETA: 0s - loss: 8239.4961 - accuracy: 0.500 - ETA: 0s - loss: 5132.3706 - accuracy: 0.474 - 1s 28ms/step - loss: 4983.6758 - accuracy: 0.5272 - val_loss: 1390.0535 - val_accuracy: 0.6452\n",
      "Epoch 3/1000\n",
      "23/23 [==============================] - ETA: 0s - loss: 9503.5410 - accuracy: 0.406 - ETA: 0s - loss: 4381.3037 - accuracy: 0.485 - ETA: 0s - loss: 3684.2700 - accuracy: 0.508 - 1s 24ms/step - loss: 3511.7610 - accuracy: 0.5204 - val_loss: 1593.5956 - val_accuracy: 0.6387\n",
      "Epoch 4/1000\n",
      "23/23 [==============================] - ETA: 0s - loss: 2768.2334 - accuracy: 0.437 - ETA: 0s - loss: 4734.4062 - accuracy: 0.491 - ETA: 0s - loss: 4718.6157 - accuracy: 0.500 - ETA: 0s - loss: 4409.2627 - accuracy: 0.542 - ETA: 0s - loss: 4072.7869 - accuracy: 0.558 - 1s 31ms/step - loss: 3933.1311 - accuracy: 0.5611 - val_loss: 2120.7249 - val_accuracy: 0.6452\n",
      "Epoch 5/1000\n",
      "23/23 [==============================] - ETA: 0s - loss: 6911.8379 - accuracy: 0.468 - ETA: 0s - loss: 5130.7261 - accuracy: 0.450 - ETA: 0s - loss: 4515.8130 - accuracy: 0.512 - 1s 27ms/step - loss: 4122.6709 - accuracy: 0.5217 - val_loss: 2434.1233 - val_accuracy: 0.6387\n",
      "Epoch 6/1000\n",
      "23/23 [==============================] - ETA: 0s - loss: 3712.3770 - accuracy: 0.500 - ETA: 0s - loss: 3061.8289 - accuracy: 0.529 - 1s 28ms/step - loss: 2661.0103 - accuracy: 0.5476 - val_loss: 2065.1121 - val_accuracy: 0.6452\n",
      "Epoch 7/1000\n",
      "23/23 [==============================] - ETA: 0s - loss: 6639.7500 - accuracy: 0.406 - ETA: 0s - loss: 3261.2175 - accuracy: 0.540 - 1s 22ms/step - loss: 3144.2803 - accuracy: 0.5435 - val_loss: 958.0889 - val_accuracy: 0.6710\n",
      "Epoch 8/1000\n",
      "23/23 [==============================] - ETA: 0s - loss: 3717.6238 - accuracy: 0.406 - ETA: 0s - loss: 3220.3179 - accuracy: 0.506 - ETA: 0s - loss: 2914.5146 - accuracy: 0.507 - 1s 26ms/step - loss: 2583.6509 - accuracy: 0.5299 - val_loss: 1057.2350 - val_accuracy: 0.6323\n",
      "Epoch 9/1000\n",
      "23/23 [==============================] - ETA: 0s - loss: 2947.8882 - accuracy: 0.562 - ETA: 0s - loss: 3331.3765 - accuracy: 0.527 - 0s 21ms/step - loss: 2681.2280 - accuracy: 0.5489 - val_loss: 1089.0059 - val_accuracy: 0.6387\n",
      "Epoch 10/1000\n",
      "23/23 [==============================] - ETA: 0s - loss: 2079.7754 - accuracy: 0.468 - ETA: 0s - loss: 2176.3477 - accuracy: 0.493 - ETA: 0s - loss: 2046.8447 - accuracy: 0.542 - 1s 25ms/step - loss: 1947.0057 - accuracy: 0.5557 - val_loss: 849.1523 - val_accuracy: 0.6710\n",
      "Epoch 11/1000\n",
      "23/23 [==============================] - ETA: 0s - loss: 3772.4729 - accuracy: 0.500 - ETA: 0s - loss: 2155.2903 - accuracy: 0.534 - 0s 10ms/step - loss: 1975.5654 - accuracy: 0.5543 - val_loss: 1527.4021 - val_accuracy: 0.6387\n"
     ]
    },
    {
     "data": {
      "text/html": [
       "<span style=\"color:#4527A0\"><h1 style=\"font-size:18px\">Trial complete</h1></span>"
      ],
      "text/plain": [
       "<IPython.core.display.HTML object>"
      ]
     },
     "metadata": {},
     "output_type": "display_data"
    },
    {
     "data": {
      "text/html": [
       "<span style=\"color:#4527A0\"><h1 style=\"font-size:18px\">Trial summary</h1></span>"
      ],
      "text/plain": [
       "<IPython.core.display.HTML object>"
      ]
     },
     "metadata": {},
     "output_type": "display_data"
    },
    {
     "data": {
      "text/html": [
       "<span style=\"color:cyan\"> |-Trial ID: 4cbfbb15f34bb2aee00d8afe3509b043</span>"
      ],
      "text/plain": [
       "<IPython.core.display.HTML object>"
      ]
     },
     "metadata": {},
     "output_type": "display_data"
    },
    {
     "data": {
      "text/html": [
       "<span style=\"color:cyan\"> |-Score: 0.6709677577018738</span>"
      ],
      "text/plain": [
       "<IPython.core.display.HTML object>"
      ]
     },
     "metadata": {},
     "output_type": "display_data"
    },
    {
     "data": {
      "text/html": [
       "<span style=\"color:cyan\"> |-Best step: 6</span>"
      ],
      "text/plain": [
       "<IPython.core.display.HTML object>"
      ]
     },
     "metadata": {},
     "output_type": "display_data"
    },
    {
     "data": {
      "text/html": [
       "<span style=\"color:#7E57C2\"><h2 style=\"font-size:16px\">Hyperparameters:</h2></span>"
      ],
      "text/plain": [
       "<IPython.core.display.HTML object>"
      ]
     },
     "metadata": {},
     "output_type": "display_data"
    },
    {
     "data": {
      "text/html": [
       "<span style=\"color:cyan\"> |-classification_head_2/dropout: 0</span>"
      ],
      "text/plain": [
       "<IPython.core.display.HTML object>"
      ]
     },
     "metadata": {},
     "output_type": "display_data"
    },
    {
     "data": {
      "text/html": [
       "<span style=\"color:blue\"> |-learning_rate: 0.001</span>"
      ],
      "text/plain": [
       "<IPython.core.display.HTML object>"
      ]
     },
     "metadata": {},
     "output_type": "display_data"
    },
    {
     "data": {
      "text/html": [
       "<span style=\"color:cyan\"> |-optimizer: adam</span>"
      ],
      "text/plain": [
       "<IPython.core.display.HTML object>"
      ]
     },
     "metadata": {},
     "output_type": "display_data"
    },
    {
     "data": {
      "text/html": [
       "<span style=\"color:blue\"> |-structured_data_block_2/dense_block_1/dropout: 0.25</span>"
      ],
      "text/plain": [
       "<IPython.core.display.HTML object>"
      ]
     },
     "metadata": {},
     "output_type": "display_data"
    },
    {
     "data": {
      "text/html": [
       "<span style=\"color:cyan\"> |-structured_data_block_2/dense_block_1/num_layers: 2</span>"
      ],
      "text/plain": [
       "<IPython.core.display.HTML object>"
      ]
     },
     "metadata": {},
     "output_type": "display_data"
    },
    {
     "data": {
      "text/html": [
       "<span style=\"color:blue\"> |-structured_data_block_2/dense_block_1/units_0: 32</span>"
      ],
      "text/plain": [
       "<IPython.core.display.HTML object>"
      ]
     },
     "metadata": {},
     "output_type": "display_data"
    },
    {
     "data": {
      "text/html": [
       "<span style=\"color:cyan\"> |-structured_data_block_2/dense_block_1/units_1: 256</span>"
      ],
      "text/plain": [
       "<IPython.core.display.HTML object>"
      ]
     },
     "metadata": {},
     "output_type": "display_data"
    },
    {
     "data": {
      "text/html": [
       "<span style=\"color:blue\"> |-structured_data_block_2/dense_block_1/units_2: 256</span>"
      ],
      "text/plain": [
       "<IPython.core.display.HTML object>"
      ]
     },
     "metadata": {},
     "output_type": "display_data"
    },
    {
     "data": {
      "text/html": [
       "<span style=\"color:cyan\"> |-structured_data_block_2/dense_block_1/use_batchnorm: False</span>"
      ],
      "text/plain": [
       "<IPython.core.display.HTML object>"
      ]
     },
     "metadata": {},
     "output_type": "display_data"
    },
    {
     "data": {
      "text/html": [
       "<span style=\"color:#4527A0\"><h1 style=\"font-size:18px\">Starting new trial</h1></span>"
      ],
      "text/plain": [
       "<IPython.core.display.HTML object>"
      ]
     },
     "metadata": {},
     "output_type": "display_data"
    },
    {
     "name": "stdout",
     "output_type": "stream",
     "text": [
      "Epoch 1/1000\n",
      "23/23 [==============================] - ETA: 0s - loss: 19689.2031 - accuracy: 0.50 - ETA: 0s - loss: 16173.3457 - accuracy: 0.58 - 1s 23ms/step - loss: 15547.4482 - accuracy: 0.5883 - val_loss: 2342.4995 - val_accuracy: 0.6645\n",
      "Epoch 2/1000\n",
      "23/23 [==============================] - ETA: 0s - loss: 16192.0020 - accuracy: 0.56 - 0s 15ms/step - loss: 10574.4824 - accuracy: 0.5856 - val_loss: 2404.6926 - val_accuracy: 0.6387\n",
      "Epoch 3/1000\n",
      "23/23 [==============================] - ETA: 0s - loss: 21971.9844 - accuracy: 0.50 - ETA: 0s - loss: 13918.6982 - accuracy: 0.47 - ETA: 0s - loss: 13109.5225 - accuracy: 0.51 - 0s 11ms/step - loss: 12693.3955 - accuracy: 0.5136 - val_loss: 2564.9150 - val_accuracy: 0.6452\n",
      "Epoch 4/1000\n",
      "23/23 [==============================] - ETA: 0s - loss: 11712.1787 - accuracy: 0.50 - ETA: 0s - loss: 9634.6348 - accuracy: 0.5469 - 0s 9ms/step - loss: 9447.4062 - accuracy: 0.5611 - val_loss: 2408.5264 - val_accuracy: 0.6516\n",
      "Epoch 5/1000\n",
      "23/23 [==============================] - ETA: 0s - loss: 11673.4102 - accuracy: 0.40 - ETA: 0s - loss: 10752.1445 - accuracy: 0.56 - 0s 8ms/step - loss: 9601.3564 - accuracy: 0.5774 - val_loss: 2150.0559 - val_accuracy: 0.6387\n",
      "Epoch 6/1000\n",
      "23/23 [==============================] - ETA: 0s - loss: 5545.9639 - accuracy: 0.437 - ETA: 0s - loss: 8957.7725 - accuracy: 0.506 - ETA: 0s - loss: 8631.8828 - accuracy: 0.520 - 0s 14ms/step - loss: 8588.8965 - accuracy: 0.5231 - val_loss: 2006.6791 - val_accuracy: 0.6323\n",
      "Epoch 7/1000\n",
      "23/23 [==============================] - ETA: 0s - loss: 8996.6055 - accuracy: 0.562 - ETA: 0s - loss: 8387.1748 - accuracy: 0.552 - 0s 10ms/step - loss: 8171.6011 - accuracy: 0.5516 - val_loss: 2215.3442 - val_accuracy: 0.6516\n",
      "Epoch 8/1000\n",
      "23/23 [==============================] - ETA: 0s - loss: 6352.7158 - accuracy: 0.531 - ETA: 0s - loss: 7201.5571 - accuracy: 0.538 - ETA: 0s - loss: 6135.8892 - accuracy: 0.578 - 0s 13ms/step - loss: 6135.8892 - accuracy: 0.5788 - val_loss: 1772.4437 - val_accuracy: 0.6452\n",
      "Epoch 9/1000\n",
      "23/23 [==============================] - ETA: 0s - loss: 12984.3750 - accuracy: 0.46 - ETA: 0s - loss: 5901.4922 - accuracy: 0.5402 - 0s 12ms/step - loss: 5202.1772 - accuracy: 0.5476 - val_loss: 1538.6989 - val_accuracy: 0.6516\n",
      "Epoch 10/1000\n",
      "23/23 [==============================] - ETA: 0s - loss: 11759.3057 - accuracy: 0.34 - ETA: 0s - loss: 7832.9600 - accuracy: 0.3750 - ETA: 0s - loss: 6609.3096 - accuracy: 0.553 - 0s 19ms/step - loss: 6322.6548 - accuracy: 0.5421 - val_loss: 1364.8036 - val_accuracy: 0.6581\n",
      "Epoch 11/1000\n",
      "23/23 [==============================] - ETA: 0s - loss: 5843.0146 - accuracy: 0.531 - ETA: 0s - loss: 6201.6738 - accuracy: 0.565 - ETA: 0s - loss: 5796.0815 - accuracy: 0.553 - 0s 14ms/step - loss: 4912.0518 - accuracy: 0.5666 - val_loss: 1296.7227 - val_accuracy: 0.6452\n",
      "Epoch 12/1000\n",
      "23/23 [==============================] - ETA: 0s - loss: 6338.6865 - accuracy: 0.562 - ETA: 0s - loss: 3650.7332 - accuracy: 0.570 - 0s 10ms/step - loss: 3629.7173 - accuracy: 0.5598 - val_loss: 1168.5830 - val_accuracy: 0.6581\n",
      "Epoch 13/1000\n",
      "23/23 [==============================] - ETA: 0s - loss: 5375.6035 - accuracy: 0.437 - ETA: 0s - loss: 4757.1860 - accuracy: 0.527 - 0s 8ms/step - loss: 4811.2651 - accuracy: 0.5177 - val_loss: 926.1788 - val_accuracy: 0.6581\n",
      "Epoch 14/1000\n",
      "23/23 [==============================] - ETA: 0s - loss: 7260.4971 - accuracy: 0.531 - ETA: 0s - loss: 2853.2996 - accuracy: 0.564 - ETA: 0s - loss: 2996.6707 - accuracy: 0.562 - 0s 20ms/step - loss: 2795.7327 - accuracy: 0.5503 - val_loss: 792.9247 - val_accuracy: 0.6516\n",
      "Epoch 15/1000\n",
      "23/23 [==============================] - ETA: 0s - loss: 2086.5320 - accuracy: 0.593 - ETA: 0s - loss: 2862.7761 - accuracy: 0.524 - 0s 9ms/step - loss: 2728.8123 - accuracy: 0.5258 - val_loss: 727.4512 - val_accuracy: 0.6581\n",
      "Epoch 16/1000\n",
      "23/23 [==============================] - ETA: 0s - loss: 5336.6235 - accuracy: 0.687 - ETA: 0s - loss: 2916.2344 - accuracy: 0.568 - 0s 9ms/step - loss: 2631.8677 - accuracy: 0.5761 - val_loss: 792.6711 - val_accuracy: 0.6581\n",
      "Epoch 17/1000\n",
      "23/23 [==============================] - ETA: 0s - loss: 3885.8223 - accuracy: 0.500 - ETA: 0s - loss: 2535.3723 - accuracy: 0.503 - 0s 8ms/step - loss: 2439.2761 - accuracy: 0.5204 - val_loss: 686.0481 - val_accuracy: 0.6516\n",
      "Epoch 18/1000\n",
      "23/23 [==============================] - ETA: 0s - loss: 3254.4568 - accuracy: 0.562 - ETA: 0s - loss: 1875.7354 - accuracy: 0.572 - 0s 11ms/step - loss: 1905.6766 - accuracy: 0.5720 - val_loss: 608.0146 - val_accuracy: 0.6452\n",
      "Epoch 19/1000\n",
      "23/23 [==============================] - ETA: 0s - loss: 3351.1494 - accuracy: 0.375 - ETA: 0s - loss: 1805.3704 - accuracy: 0.560 - 0s 9ms/step - loss: 1676.7379 - accuracy: 0.5611 - val_loss: 492.6039 - val_accuracy: 0.6581\n",
      "Epoch 20/1000\n",
      "23/23 [==============================] - ETA: 0s - loss: 3055.6614 - accuracy: 0.437 - ETA: 0s - loss: 1748.0872 - accuracy: 0.536 - 0s 8ms/step - loss: 1579.3302 - accuracy: 0.5421 - val_loss: 416.5610 - val_accuracy: 0.6581\n",
      "Epoch 21/1000\n",
      "23/23 [==============================] - ETA: 0s - loss: 821.3716 - accuracy: 0.50 - ETA: 0s - loss: 1154.2196 - accuracy: 0.548 - 0s 8ms/step - loss: 1263.2581 - accuracy: 0.5489 - val_loss: 387.3657 - val_accuracy: 0.6581\n",
      "Epoch 22/1000\n",
      "23/23 [==============================] - ETA: 0s - loss: 1911.0029 - accuracy: 0.468 - ETA: 0s - loss: 965.5256 - accuracy: 0.579 - 0s 8ms/step - loss: 945.7474 - accuracy: 0.5774 - val_loss: 320.4197 - val_accuracy: 0.6968\n",
      "Epoch 23/1000\n",
      "23/23 [==============================] - ETA: 0s - loss: 2205.0723 - accuracy: 0.406 - ETA: 0s - loss: 1208.7325 - accuracy: 0.484 - ETA: 0s - loss: 822.0137 - accuracy: 0.536 - ETA: 0s - loss: 892.6149 - accuracy: 0.52 - 0s 17ms/step - loss: 836.5635 - accuracy: 0.5598 - val_loss: 248.7858 - val_accuracy: 0.6968\n",
      "Epoch 24/1000\n",
      "23/23 [==============================] - ETA: 0s - loss: 1036.7683 - accuracy: 0.562 - ETA: 0s - loss: 917.5580 - accuracy: 0.526 - 0s 10ms/step - loss: 740.0233 - accuracy: 0.5639 - val_loss: 187.9590 - val_accuracy: 0.6968\n",
      "Epoch 25/1000\n",
      "23/23 [==============================] - ETA: 0s - loss: 1144.4763 - accuracy: 0.437 - ETA: 0s - loss: 684.6046 - accuracy: 0.531 - 0s 8ms/step - loss: 616.2942 - accuracy: 0.5611 - val_loss: 152.3773 - val_accuracy: 0.6903\n",
      "Epoch 26/1000\n",
      "23/23 [==============================] - ETA: 0s - loss: 320.0283 - accuracy: 0.50 - ETA: 0s - loss: 475.6947 - accuracy: 0.58 - 0s 8ms/step - loss: 439.9642 - accuracy: 0.5761 - val_loss: 111.5767 - val_accuracy: 0.6903\n",
      "Epoch 27/1000\n",
      "23/23 [==============================] - ETA: 0s - loss: 805.0038 - accuracy: 0.50 - ETA: 0s - loss: 401.0172 - accuracy: 0.59 - 0s 13ms/step - loss: 367.7151 - accuracy: 0.6019 - val_loss: 76.6734 - val_accuracy: 0.6903\n",
      "Epoch 28/1000\n",
      "23/23 [==============================] - ETA: 0s - loss: 487.1693 - accuracy: 0.46 - ETA: 0s - loss: 210.5365 - accuracy: 0.62 - 0s 12ms/step - loss: 213.1010 - accuracy: 0.6304 - val_loss: 51.3852 - val_accuracy: 0.6581\n",
      "Epoch 29/1000\n",
      "23/23 [==============================] - ETA: 0s - loss: 261.1980 - accuracy: 0.53 - ETA: 0s - loss: 108.1915 - accuracy: 0.61 - ETA: 0s - loss: 160.4758 - accuracy: 0.62 - 0s 11ms/step - loss: 160.4758 - accuracy: 0.6291 - val_loss: 45.1189 - val_accuracy: 0.6581\n",
      "Epoch 30/1000\n",
      "23/23 [==============================] - ETA: 0s - loss: 730.5996 - accuracy: 0.46 - ETA: 0s - loss: 177.2370 - accuracy: 0.62 - 0s 8ms/step - loss: 182.4947 - accuracy: 0.6250 - val_loss: 34.8745 - val_accuracy: 0.6581\n",
      "Epoch 31/1000\n",
      "23/23 [==============================] - ETA: 0s - loss: 664.9370 - accuracy: 0.46 - ETA: 0s - loss: 169.0194 - accuracy: 0.61 - 0s 14ms/step - loss: 191.4440 - accuracy: 0.6196 - val_loss: 25.4491 - val_accuracy: 0.6774\n",
      "Epoch 32/1000\n",
      "23/23 [==============================] - ETA: 0s - loss: 142.0717 - accuracy: 0.46 - ETA: 0s - loss: 134.8704 - accuracy: 0.60 - ETA: 0s - loss: 202.4690 - accuracy: 0.61 - 0s 11ms/step - loss: 198.9585 - accuracy: 0.6182 - val_loss: 34.0152 - val_accuracy: 0.6581\n",
      "Epoch 33/1000\n"
     ]
    },
    {
     "name": "stdout",
     "output_type": "stream",
     "text": [
      "23/23 [==============================] - ETA: 0s - loss: 105.6815 - accuracy: 0.50 - ETA: 0s - loss: 151.9766 - accuracy: 0.61 - 0s 9ms/step - loss: 157.4076 - accuracy: 0.6209 - val_loss: 29.0498 - val_accuracy: 0.6258\n",
      "Epoch 34/1000\n",
      "23/23 [==============================] - ETA: 0s - loss: 83.9732 - accuracy: 0.531 - ETA: 0s - loss: 138.7830 - accuracy: 0.62 - 0s 11ms/step - loss: 156.9273 - accuracy: 0.6250 - val_loss: 21.4496 - val_accuracy: 0.6387\n",
      "Epoch 35/1000\n",
      "23/23 [==============================] - ETA: 0s - loss: 680.8353 - accuracy: 0.46 - ETA: 0s - loss: 167.8624 - accuracy: 0.60 - 0s 14ms/step - loss: 161.4125 - accuracy: 0.6236 - val_loss: 18.6659 - val_accuracy: 0.6258\n",
      "Epoch 36/1000\n",
      "23/23 [==============================] - ETA: 0s - loss: 85.5298 - accuracy: 0.531 - ETA: 0s - loss: 138.6092 - accuracy: 0.61 - 0s 10ms/step - loss: 122.2993 - accuracy: 0.6318 - val_loss: 15.4822 - val_accuracy: 0.6323\n",
      "Epoch 37/1000\n",
      "23/23 [==============================] - ETA: 0s - loss: 373.9649 - accuracy: 0.46 - ETA: 0s - loss: 125.2611 - accuracy: 0.60 - ETA: 0s - loss: 124.1579 - accuracy: 0.61 - 0s 14ms/step - loss: 118.3640 - accuracy: 0.6196 - val_loss: 12.4719 - val_accuracy: 0.6194\n",
      "Epoch 38/1000\n",
      "23/23 [==============================] - ETA: 0s - loss: 0.6126 - accuracy: 0.56 - ETA: 0s - loss: 93.1880 - accuracy: 0.607 - 0s 9ms/step - loss: 87.4526 - accuracy: 0.6155 - val_loss: 19.7148 - val_accuracy: 0.6516\n",
      "Epoch 39/1000\n",
      "23/23 [==============================] - ETA: 0s - loss: 148.7401 - accuracy: 0.53 - ETA: 0s - loss: 90.4895 - accuracy: 0.6094 - 0s 14ms/step - loss: 86.9349 - accuracy: 0.6196 - val_loss: 18.8498 - val_accuracy: 0.6452\n",
      "Epoch 40/1000\n",
      "23/23 [==============================] - ETA: 0s - loss: 197.2492 - accuracy: 0.46 - ETA: 0s - loss: 81.0671 - accuracy: 0.6007 - 0s 9ms/step - loss: 70.5242 - accuracy: 0.6101 - val_loss: 16.0411 - val_accuracy: 0.6387\n",
      "Epoch 41/1000\n",
      "23/23 [==============================] - ETA: 0s - loss: 192.9424 - accuracy: 0.50 - ETA: 0s - loss: 78.5797 - accuracy: 0.6158 - 0s 9ms/step - loss: 68.2647 - accuracy: 0.6196 - val_loss: 15.6250 - val_accuracy: 0.6387\n",
      "Epoch 42/1000\n",
      "23/23 [==============================] - ETA: 0s - loss: 0.6606 - accuracy: 0.53 - ETA: 0s - loss: 57.7240 - accuracy: 0.617 - 0s 9ms/step - loss: 47.6789 - accuracy: 0.6236 - val_loss: 15.0605 - val_accuracy: 0.6452\n",
      "Epoch 43/1000\n",
      "23/23 [==============================] - ETA: 0s - loss: 103.5351 - accuracy: 0.43 - 0s 7ms/step - loss: 52.6885 - accuracy: 0.6141 - val_loss: 10.7224 - val_accuracy: 0.6387\n",
      "Epoch 44/1000\n",
      "23/23 [==============================] - ETA: 0s - loss: 0.6631 - accuracy: 0.53 - ETA: 0s - loss: 30.2666 - accuracy: 0.621 - 0s 9ms/step - loss: 27.1355 - accuracy: 0.6304 - val_loss: 10.2049 - val_accuracy: 0.6452\n",
      "Epoch 45/1000\n",
      "23/23 [==============================] - ETA: 0s - loss: 0.6891 - accuracy: 0.50 - ETA: 0s - loss: 41.3847 - accuracy: 0.608 - 0s 7ms/step - loss: 39.6136 - accuracy: 0.6087 - val_loss: 5.9226 - val_accuracy: 0.6129\n",
      "Epoch 46/1000\n",
      "23/23 [==============================] - ETA: 0s - loss: 85.9687 - accuracy: 0.500 - 0s 6ms/step - loss: 39.1450 - accuracy: 0.6155 - val_loss: 7.3919 - val_accuracy: 0.6129\n",
      "Epoch 47/1000\n",
      "23/23 [==============================] - ETA: 0s - loss: 4.0059 - accuracy: 0.50 - ETA: 0s - loss: 22.9230 - accuracy: 0.603 - 0s 7ms/step - loss: 22.9230 - accuracy: 0.6033 - val_loss: 5.5612 - val_accuracy: 0.6129\n",
      "Epoch 48/1000\n",
      "23/23 [==============================] - ETA: 0s - loss: 48.3297 - accuracy: 0.500 - 0s 12ms/step - loss: 5.6371 - accuracy: 0.6128 - val_loss: 4.4293 - val_accuracy: 0.6129\n",
      "Epoch 49/1000\n",
      "23/23 [==============================] - ETA: 0s - loss: 0.6925 - accuracy: 0.50 - ETA: 0s - loss: 4.9021 - accuracy: 0.61 - 0s 9ms/step - loss: 4.1310 - accuracy: 0.6155 - val_loss: 3.3191 - val_accuracy: 0.6194\n",
      "Epoch 50/1000\n",
      "23/23 [==============================] - ETA: 0s - loss: 13.3358 - accuracy: 0.468 - ETA: 0s - loss: 5.6803 - accuracy: 0.598 - 0s 8ms/step - loss: 4.9283 - accuracy: 0.6060 - val_loss: 4.2902 - val_accuracy: 0.6065\n",
      "Epoch 51/1000\n",
      "23/23 [==============================] - ETA: 0s - loss: 1.6616 - accuracy: 0.50 - ETA: 0s - loss: 5.6457 - accuracy: 0.60 - 0s 7ms/step - loss: 5.0375 - accuracy: 0.6087 - val_loss: 2.8941 - val_accuracy: 0.6194\n",
      "Epoch 52/1000\n",
      "23/23 [==============================] - ETA: 0s - loss: 0.7050 - accuracy: 0.50 - ETA: 0s - loss: 3.0792 - accuracy: 0.61 - 0s 7ms/step - loss: 3.0792 - accuracy: 0.6114 - val_loss: 1.8341 - val_accuracy: 0.6387\n",
      "Epoch 53/1000\n",
      "23/23 [==============================] - ETA: 0s - loss: 0.7128 - accuracy: 0.50 - ETA: 0s - loss: 4.2059 - accuracy: 0.61 - 0s 10ms/step - loss: 3.1289 - accuracy: 0.6128 - val_loss: 1.3099 - val_accuracy: 0.6194\n",
      "Epoch 54/1000\n",
      "23/23 [==============================] - ETA: 0s - loss: 0.6931 - accuracy: 0.50 - ETA: 0s - loss: 4.3084 - accuracy: 0.60 - 0s 13ms/step - loss: 3.7794 - accuracy: 0.6060 - val_loss: 1.2266 - val_accuracy: 0.6194\n",
      "Epoch 55/1000\n",
      "23/23 [==============================] - ETA: 0s - loss: 0.7121 - accuracy: 0.50 - ETA: 0s - loss: 3.1544 - accuracy: 0.60 - 0s 11ms/step - loss: 2.0744 - accuracy: 0.6087 - val_loss: 0.8416 - val_accuracy: 0.6194\n",
      "Epoch 56/1000\n",
      "23/23 [==============================] - ETA: 0s - loss: 0.7096 - accuracy: 0.50 - ETA: 0s - loss: 1.4727 - accuracy: 0.60 - 0s 9ms/step - loss: 1.2612 - accuracy: 0.6114 - val_loss: 0.6801 - val_accuracy: 0.6387\n",
      "Epoch 57/1000\n",
      "23/23 [==============================] - ETA: 0s - loss: 0.7080 - accuracy: 0.50 - ETA: 0s - loss: 2.4984 - accuracy: 0.60 - 0s 11ms/step - loss: 1.8762 - accuracy: 0.6073 - val_loss: 0.6484 - val_accuracy: 0.6387\n",
      "Epoch 58/1000\n",
      "23/23 [==============================] - ETA: 0s - loss: 0.7139 - accuracy: 0.50 - ETA: 0s - loss: 0.8452 - accuracy: 0.60 - 0s 9ms/step - loss: 0.8296 - accuracy: 0.6087 - val_loss: 0.6477 - val_accuracy: 0.6387\n",
      "Epoch 59/1000\n",
      "23/23 [==============================] - ETA: 0s - loss: 0.7151 - accuracy: 0.50 - ETA: 0s - loss: 1.4294 - accuracy: 0.60 - ETA: 0s - loss: 1.1182 - accuracy: 0.60 - 0s 12ms/step - loss: 1.0988 - accuracy: 0.6087 - val_loss: 0.6476 - val_accuracy: 0.6387\n",
      "Epoch 60/1000\n",
      "23/23 [==============================] - ETA: 0s - loss: 0.7141 - accuracy: 0.50 - ETA: 0s - loss: 2.6963 - accuracy: 0.60 - 0s 9ms/step - loss: 2.0799 - accuracy: 0.6073 - val_loss: 0.6475 - val_accuracy: 0.6387\n",
      "Epoch 61/1000\n",
      "23/23 [==============================] - ETA: 0s - loss: 0.7126 - accuracy: 0.50 - ETA: 0s - loss: 2.0685 - accuracy: 0.60 - 0s 7ms/step - loss: 2.0081 - accuracy: 0.6073 - val_loss: 0.6474 - val_accuracy: 0.6387\n",
      "Epoch 62/1000\n",
      "23/23 [==============================] - ETA: 0s - loss: 0.7137 - accuracy: 0.50 - ETA: 0s - loss: 2.2064 - accuracy: 0.59 - ETA: 0s - loss: 1.6032 - accuracy: 0.60 - 0s 16ms/step - loss: 1.6032 - accuracy: 0.6073 - val_loss: 0.6473 - val_accuracy: 0.6387\n",
      "Epoch 63/1000\n",
      "23/23 [==============================] - ETA: 0s - loss: 0.7086 - accuracy: 0.50 - ETA: 0s - loss: 2.9881 - accuracy: 0.60 - 0s 10ms/step - loss: 2.3826 - accuracy: 0.6073 - val_loss: 0.6472 - val_accuracy: 0.6387\n",
      "Epoch 64/1000\n",
      "23/23 [==============================] - ETA: 0s - loss: 0.7105 - accuracy: 0.50 - ETA: 0s - loss: 2.6837 - accuracy: 0.60 - 0s 10ms/step - loss: 1.8079 - accuracy: 0.6087 - val_loss: 0.6472 - val_accuracy: 0.6387\n",
      "Epoch 65/1000\n",
      "23/23 [==============================] - ETA: 0s - loss: 0.7112 - accuracy: 0.50 - ETA: 0s - loss: 0.9999 - accuracy: 0.60 - 0s 9ms/step - loss: 0.9405 - accuracy: 0.6087 - val_loss: 0.6471 - val_accuracy: 0.6387\n",
      "Epoch 66/1000\n",
      "23/23 [==============================] - ETA: 0s - loss: 0.7104 - accuracy: 0.50 - ETA: 0s - loss: 0.6618 - accuracy: 0.62 - ETA: 0s - loss: 0.7156 - accuracy: 0.61 - 0s 21ms/step - loss: 0.7140 - accuracy: 0.6101 - val_loss: 0.6471 - val_accuracy: 0.6387\n",
      "Epoch 67/1000\n",
      "23/23 [==============================] - ETA: 0s - loss: 0.7161 - accuracy: 0.50 - ETA: 0s - loss: 0.8146 - accuracy: 0.60 - 0s 10ms/step - loss: 0.7877 - accuracy: 0.6087 - val_loss: 0.6470 - val_accuracy: 0.6387\n",
      "Epoch 68/1000\n"
     ]
    },
    {
     "name": "stdout",
     "output_type": "stream",
     "text": [
      "23/23 [==============================] - ETA: 0s - loss: 0.7147 - accuracy: 0.50 - ETA: 0s - loss: 1.9484 - accuracy: 0.60 - ETA: 0s - loss: 1.4001 - accuracy: 0.60 - 0s 17ms/step - loss: 1.3362 - accuracy: 0.6073 - val_loss: 0.6469 - val_accuracy: 0.6387\n",
      "Epoch 69/1000\n",
      "23/23 [==============================] - ETA: 0s - loss: 0.7220 - accuracy: 0.50 - ETA: 0s - loss: 0.6914 - accuracy: 0.60 - ETA: 0s - loss: 0.6880 - accuracy: 0.61 - ETA: 0s - loss: 0.6882 - accuracy: 0.60 - ETA: 0s - loss: 0.6832 - accuracy: 0.61 - 0s 21ms/step - loss: 0.6832 - accuracy: 0.6101 - val_loss: 0.6469 - val_accuracy: 0.6387\n",
      "Epoch 70/1000\n",
      "23/23 [==============================] - ETA: 0s - loss: 0.7178 - accuracy: 0.50 - ETA: 0s - loss: 1.1331 - accuracy: 0.61 - ETA: 0s - loss: 0.9824 - accuracy: 0.60 - 0s 15ms/step - loss: 0.8718 - accuracy: 0.6101 - val_loss: 0.6469 - val_accuracy: 0.6387\n",
      "Epoch 71/1000\n",
      "23/23 [==============================] - ETA: 0s - loss: 0.7166 - accuracy: 0.50 - ETA: 0s - loss: 0.6468 - accuracy: 0.66 - ETA: 0s - loss: 0.6665 - accuracy: 0.61 - 0s 11ms/step - loss: 0.6665 - accuracy: 0.6114 - val_loss: 0.6468 - val_accuracy: 0.6387\n",
      "Epoch 72/1000\n",
      "23/23 [==============================] - ETA: 0s - loss: 0.7163 - accuracy: 0.50 - ETA: 0s - loss: 0.6679 - accuracy: 0.60 - 0s 18ms/step - loss: 0.6673 - accuracy: 0.6114 - val_loss: 0.6468 - val_accuracy: 0.6387\n",
      "Epoch 73/1000\n",
      "23/23 [==============================] - ETA: 0s - loss: 0.7140 - accuracy: 0.50 - ETA: 0s - loss: 0.9751 - accuracy: 0.60 - ETA: 0s - loss: 0.8873 - accuracy: 0.60 - 0s 18ms/step - loss: 0.8678 - accuracy: 0.6101 - val_loss: 0.6468 - val_accuracy: 0.6387\n",
      "Epoch 74/1000\n",
      "23/23 [==============================] - ETA: 0s - loss: 0.7160 - accuracy: 0.50 - ETA: 0s - loss: 0.9447 - accuracy: 0.60 - 0s 12ms/step - loss: 0.8483 - accuracy: 0.6101 - val_loss: 0.6468 - val_accuracy: 0.6387\n",
      "Epoch 75/1000\n",
      "23/23 [==============================] - ETA: 0s - loss: 0.7171 - accuracy: 0.50 - ETA: 0s - loss: 0.6628 - accuracy: 0.61 - 0s 11ms/step - loss: 0.6663 - accuracy: 0.6114 - val_loss: 0.6467 - val_accuracy: 0.6387\n",
      "Epoch 76/1000\n",
      "23/23 [==============================] - ETA: 0s - loss: 0.7192 - accuracy: 0.50 - ETA: 0s - loss: 0.6688 - accuracy: 0.60 - 0s 9ms/step - loss: 0.6672 - accuracy: 0.6114 - val_loss: 0.6467 - val_accuracy: 0.6387\n",
      "Epoch 77/1000\n",
      "23/23 [==============================] - ETA: 0s - loss: 0.7117 - accuracy: 0.50 - ETA: 0s - loss: 0.6673 - accuracy: 0.60 - 0s 9ms/step - loss: 0.6663 - accuracy: 0.6114 - val_loss: 0.6467 - val_accuracy: 0.6387\n",
      "Epoch 78/1000\n",
      "23/23 [==============================] - ETA: 0s - loss: 0.7174 - accuracy: 0.50 - ETA: 0s - loss: 1.4398 - accuracy: 0.60 - ETA: 0s - loss: 1.2774 - accuracy: 0.60 - 0s 16ms/step - loss: 1.0374 - accuracy: 0.6087 - val_loss: 0.6467 - val_accuracy: 0.6387\n",
      "Epoch 79/1000\n",
      "23/23 [==============================] - ETA: 0s - loss: 0.7157 - accuracy: 0.50 - ETA: 0s - loss: 0.6664 - accuracy: 0.60 - 0s 10ms/step - loss: 0.6666 - accuracy: 0.6114 - val_loss: 0.6467 - val_accuracy: 0.6387\n",
      "Epoch 80/1000\n",
      "23/23 [==============================] - ETA: 0s - loss: 0.7134 - accuracy: 0.50 - ETA: 0s - loss: 0.6662 - accuracy: 0.60 - 0s 10ms/step - loss: 0.6658 - accuracy: 0.6114 - val_loss: 0.6467 - val_accuracy: 0.6387\n",
      "Epoch 81/1000\n",
      "23/23 [==============================] - ETA: 0s - loss: 0.7123 - accuracy: 0.50 - ETA: 0s - loss: 0.6707 - accuracy: 0.60 - 0s 11ms/step - loss: 0.6691 - accuracy: 0.6101 - val_loss: 0.6466 - val_accuracy: 0.6387\n",
      "Epoch 82/1000\n",
      "23/23 [==============================] - ETA: 0s - loss: 0.7148 - accuracy: 0.50 - ETA: 0s - loss: 0.9266 - accuracy: 0.60 - 0s 11ms/step - loss: 0.8587 - accuracy: 0.6101 - val_loss: 0.6466 - val_accuracy: 0.6387\n",
      "Epoch 83/1000\n",
      "23/23 [==============================] - ETA: 0s - loss: 0.7158 - accuracy: 0.50 - ETA: 0s - loss: 2.7768 - accuracy: 0.60 - 0s 10ms/step - loss: 2.2264 - accuracy: 0.6060 - val_loss: 0.6466 - val_accuracy: 0.6387\n",
      "Epoch 84/1000\n",
      "23/23 [==============================] - ETA: 0s - loss: 0.7166 - accuracy: 0.50 - ETA: 0s - loss: 0.6680 - accuracy: 0.61 - 0s 9ms/step - loss: 0.6673 - accuracy: 0.6114 - val_loss: 0.6466 - val_accuracy: 0.6387\n",
      "Epoch 85/1000\n",
      "23/23 [==============================] - ETA: 0s - loss: 0.7156 - accuracy: 0.50 - ETA: 0s - loss: 0.9911 - accuracy: 0.60 - 0s 9ms/step - loss: 0.8778 - accuracy: 0.6087 - val_loss: 0.6465 - val_accuracy: 0.6387\n",
      "Epoch 86/1000\n",
      "23/23 [==============================] - ETA: 0s - loss: 0.7178 - accuracy: 0.50 - ETA: 0s - loss: 1.3303 - accuracy: 0.61 - 0s 12ms/step - loss: 1.0426 - accuracy: 0.6101 - val_loss: 0.6465 - val_accuracy: 0.6387\n",
      "Epoch 87/1000\n",
      "23/23 [==============================] - ETA: 0s - loss: 0.7217 - accuracy: 0.50 - ETA: 0s - loss: 1.1342 - accuracy: 0.60 - 0s 10ms/step - loss: 0.9719 - accuracy: 0.6101 - val_loss: 0.6465 - val_accuracy: 0.6387\n",
      "Epoch 88/1000\n",
      "23/23 [==============================] - ETA: 0s - loss: 0.7160 - accuracy: 0.50 - ETA: 0s - loss: 0.6644 - accuracy: 0.61 - ETA: 0s - loss: 0.6661 - accuracy: 0.61 - 0s 11ms/step - loss: 0.6661 - accuracy: 0.6114 - val_loss: 0.6465 - val_accuracy: 0.6387\n",
      "Epoch 89/1000\n",
      "23/23 [==============================] - ETA: 0s - loss: 0.7183 - accuracy: 0.50 - ETA: 0s - loss: 1.7937 - accuracy: 0.60 - 0s 13ms/step - loss: 1.5472 - accuracy: 0.6087 - val_loss: 0.6465 - val_accuracy: 0.6387\n",
      "Epoch 90/1000\n",
      "23/23 [==============================] - ETA: 0s - loss: 0.7126 - accuracy: 0.50 - ETA: 0s - loss: 1.8336 - accuracy: 0.60 - 0s 10ms/step - loss: 1.5294 - accuracy: 0.6087 - val_loss: 0.6465 - val_accuracy: 0.6387\n",
      "Epoch 91/1000\n",
      "23/23 [==============================] - ETA: 0s - loss: 0.7194 - accuracy: 0.50 - ETA: 0s - loss: 0.8452 - accuracy: 0.60 - 0s 10ms/step - loss: 0.7920 - accuracy: 0.6087 - val_loss: 0.6464 - val_accuracy: 0.6387\n",
      "Epoch 92/1000\n",
      "23/23 [==============================] - ETA: 0s - loss: 0.7274 - accuracy: 0.50 - ETA: 0s - loss: 0.6693 - accuracy: 0.60 - 0s 9ms/step - loss: 0.6675 - accuracy: 0.6114 - val_loss: 0.6464 - val_accuracy: 0.6387\n",
      "Epoch 93/1000\n",
      "23/23 [==============================] - ETA: 0s - loss: 0.7160 - accuracy: 0.50 - ETA: 0s - loss: 1.0081 - accuracy: 0.60 - 0s 7ms/step - loss: 0.9472 - accuracy: 0.6101 - val_loss: 0.6464 - val_accuracy: 0.6387\n",
      "Epoch 94/1000\n",
      "23/23 [==============================] - ETA: 0s - loss: 0.7170 - accuracy: 0.50 - ETA: 0s - loss: 0.6685 - accuracy: 0.60 - ETA: 0s - loss: 0.6688 - accuracy: 0.60 - 0s 16ms/step - loss: 0.6669 - accuracy: 0.6114 - val_loss: 0.6464 - val_accuracy: 0.6387\n",
      "Epoch 95/1000\n",
      "23/23 [==============================] - ETA: 0s - loss: 0.7188 - accuracy: 0.50 - ETA: 0s - loss: 0.9565 - accuracy: 0.61 - 0s 11ms/step - loss: 0.8312 - accuracy: 0.6101 - val_loss: 0.6464 - val_accuracy: 0.6387\n",
      "Epoch 96/1000\n",
      "23/23 [==============================] - ETA: 0s - loss: 0.7188 - accuracy: 0.50 - ETA: 0s - loss: 1.4063 - accuracy: 0.61 - 0s 10ms/step - loss: 1.1826 - accuracy: 0.6101 - val_loss: 0.6464 - val_accuracy: 0.6387\n",
      "Epoch 97/1000\n",
      "23/23 [==============================] - ETA: 0s - loss: 0.7147 - accuracy: 0.50 - ETA: 0s - loss: 0.6681 - accuracy: 0.61 - 0s 18ms/step - loss: 0.6679 - accuracy: 0.6114 - val_loss: 0.6464 - val_accuracy: 0.6387\n",
      "Epoch 98/1000\n",
      "23/23 [==============================] - ETA: 0s - loss: 0.7213 - accuracy: 0.50 - ETA: 0s - loss: 0.6683 - accuracy: 0.60 - 0s 10ms/step - loss: 0.6669 - accuracy: 0.6114 - val_loss: 0.6464 - val_accuracy: 0.6387\n",
      "Epoch 99/1000\n",
      "23/23 [==============================] - ETA: 0s - loss: 0.7179 - accuracy: 0.50 - ETA: 0s - loss: 1.5666 - accuracy: 0.60 - 0s 11ms/step - loss: 1.1364 - accuracy: 0.6087 - val_loss: 0.6464 - val_accuracy: 0.6387\n",
      "Epoch 100/1000\n",
      "23/23 [==============================] - ETA: 0s - loss: 0.7250 - accuracy: 0.50 - ETA: 0s - loss: 0.6677 - accuracy: 0.61 - 0s 14ms/step - loss: 0.6674 - accuracy: 0.6114 - val_loss: 0.6464 - val_accuracy: 0.6387\n",
      "Epoch 101/1000\n",
      "23/23 [==============================] - ETA: 0s - loss: 0.7226 - accuracy: 0.50 - ETA: 0s - loss: 0.6679 - accuracy: 0.61 - 0s 10ms/step - loss: 0.6674 - accuracy: 0.6114 - val_loss: 0.6464 - val_accuracy: 0.6387\n",
      "Epoch 102/1000\n"
     ]
    },
    {
     "name": "stdout",
     "output_type": "stream",
     "text": [
      "23/23 [==============================] - ETA: 0s - loss: 0.7172 - accuracy: 0.50 - ETA: 0s - loss: 0.6660 - accuracy: 0.61 - 0s 10ms/step - loss: 0.6662 - accuracy: 0.6114 - val_loss: 0.6464 - val_accuracy: 0.6387\n",
      "Epoch 103/1000\n",
      "23/23 [==============================] - ETA: 0s - loss: 0.7207 - accuracy: 0.50 - ETA: 0s - loss: 0.7869 - accuracy: 0.60 - 0s 8ms/step - loss: 0.7557 - accuracy: 0.6101 - val_loss: 0.6464 - val_accuracy: 0.6387\n",
      "Epoch 104/1000\n",
      "23/23 [==============================] - ETA: 0s - loss: 0.7185 - accuracy: 0.50 - ETA: 0s - loss: 0.6676 - accuracy: 0.60 - 0s 13ms/step - loss: 0.6666 - accuracy: 0.6114 - val_loss: 0.6463 - val_accuracy: 0.6387\n",
      "Epoch 105/1000\n",
      "23/23 [==============================] - ETA: 0s - loss: 0.7198 - accuracy: 0.50 - ETA: 0s - loss: 1.9201 - accuracy: 0.60 - 0s 11ms/step - loss: 1.4837 - accuracy: 0.6087 - val_loss: 0.6463 - val_accuracy: 0.6387\n",
      "Epoch 106/1000\n",
      "23/23 [==============================] - ETA: 0s - loss: 0.7139 - accuracy: 0.50 - ETA: 0s - loss: 1.1022 - accuracy: 0.60 - ETA: 0s - loss: 0.9307 - accuracy: 0.61 - 0s 13ms/step - loss: 0.9307 - accuracy: 0.6101 - val_loss: 0.6463 - val_accuracy: 0.6387\n",
      "Epoch 107/1000\n",
      "23/23 [==============================] - ETA: 0s - loss: 0.7166 - accuracy: 0.50 - ETA: 0s - loss: 0.6399 - accuracy: 0.66 - ETA: 0s - loss: 0.6495 - accuracy: 0.64 - 0s 17ms/step - loss: 0.6666 - accuracy: 0.6114 - val_loss: 0.6463 - val_accuracy: 0.6387\n",
      "Epoch 108/1000\n",
      "23/23 [==============================] - ETA: 0s - loss: 0.7199 - accuracy: 0.50 - ETA: 0s - loss: 0.6713 - accuracy: 0.60 - 0s 11ms/step - loss: 0.6683 - accuracy: 0.6114 - val_loss: 0.6463 - val_accuracy: 0.6387\n",
      "Epoch 109/1000\n",
      "23/23 [==============================] - ETA: 0s - loss: 0.7192 - accuracy: 0.50 - ETA: 0s - loss: 0.6659 - accuracy: 0.61 - 0s 11ms/step - loss: 0.6670 - accuracy: 0.6114 - val_loss: 0.6463 - val_accuracy: 0.6387\n",
      "Epoch 110/1000\n",
      "23/23 [==============================] - ETA: 0s - loss: 0.7190 - accuracy: 0.50 - ETA: 0s - loss: 0.6647 - accuracy: 0.61 - 0s 8ms/step - loss: 0.6659 - accuracy: 0.6114 - val_loss: 0.6463 - val_accuracy: 0.6387\n",
      "Epoch 111/1000\n",
      "23/23 [==============================] - ETA: 0s - loss: 0.7199 - accuracy: 0.50 - ETA: 0s - loss: 0.6677 - accuracy: 0.60 - 0s 14ms/step - loss: 0.6669 - accuracy: 0.6114 - val_loss: 0.6463 - val_accuracy: 0.6387\n",
      "Epoch 112/1000\n",
      "23/23 [==============================] - ETA: 0s - loss: 0.7201 - accuracy: 0.50 - ETA: 0s - loss: 0.6675 - accuracy: 0.61 - 0s 12ms/step - loss: 0.6684 - accuracy: 0.6114 - val_loss: 0.6463 - val_accuracy: 0.6387\n",
      "Epoch 113/1000\n",
      "23/23 [==============================] - ETA: 0s - loss: 0.7232 - accuracy: 0.50 - ETA: 0s - loss: 0.7097 - accuracy: 0.60 - 0s 11ms/step - loss: 0.6945 - accuracy: 0.6101 - val_loss: 0.6463 - val_accuracy: 0.6387\n",
      "Epoch 114/1000\n",
      "23/23 [==============================] - ETA: 0s - loss: 0.7177 - accuracy: 0.50 - ETA: 0s - loss: 0.8088 - accuracy: 0.60 - 0s 10ms/step - loss: 0.7588 - accuracy: 0.6101 - val_loss: 0.6463 - val_accuracy: 0.6387\n",
      "Epoch 115/1000\n",
      "23/23 [==============================] - ETA: 0s - loss: 0.7189 - accuracy: 0.50 - ETA: 0s - loss: 1.2047 - accuracy: 0.60 - ETA: 0s - loss: 1.1744 - accuracy: 0.60 - ETA: 0s - loss: 1.0589 - accuracy: 0.60 - ETA: 0s - loss: 1.0424 - accuracy: 0.60 - 0s 19ms/step - loss: 1.0424 - accuracy: 0.6087 - val_loss: 0.6463 - val_accuracy: 0.6387\n",
      "Epoch 116/1000\n",
      "23/23 [==============================] - ETA: 0s - loss: 0.7182 - accuracy: 0.50 - ETA: 0s - loss: 0.6689 - accuracy: 0.60 - 0s 12ms/step - loss: 0.6679 - accuracy: 0.6114 - val_loss: 0.6463 - val_accuracy: 0.6387\n",
      "Epoch 117/1000\n",
      "23/23 [==============================] - ETA: 0s - loss: 0.7165 - accuracy: 0.50 - ETA: 0s - loss: 0.6673 - accuracy: 0.60 - 0s 10ms/step - loss: 0.6669 - accuracy: 0.6114 - val_loss: 0.6463 - val_accuracy: 0.6387\n",
      "Epoch 118/1000\n",
      "23/23 [==============================] - ETA: 0s - loss: 0.7184 - accuracy: 0.50 - ETA: 0s - loss: 0.9091 - accuracy: 0.60 - 0s 16ms/step - loss: 0.8456 - accuracy: 0.6101 - val_loss: 0.6463 - val_accuracy: 0.6387\n",
      "Epoch 119/1000\n",
      "23/23 [==============================] - ETA: 0s - loss: 0.7231 - accuracy: 0.50 - ETA: 0s - loss: 0.6682 - accuracy: 0.60 - 0s 11ms/step - loss: 0.6680 - accuracy: 0.6114 - val_loss: 0.6463 - val_accuracy: 0.6387\n",
      "Epoch 120/1000\n",
      "23/23 [==============================] - ETA: 0s - loss: 0.7189 - accuracy: 0.50 - ETA: 0s - loss: 0.6669 - accuracy: 0.61 - 0s 9ms/step - loss: 0.6679 - accuracy: 0.6114 - val_loss: 0.6463 - val_accuracy: 0.6387\n",
      "Epoch 121/1000\n",
      "23/23 [==============================] - ETA: 0s - loss: 0.7128 - accuracy: 0.50 - ETA: 0s - loss: 0.6696 - accuracy: 0.60 - 0s 8ms/step - loss: 0.6681 - accuracy: 0.6114 - val_loss: 0.6463 - val_accuracy: 0.6387\n",
      "Epoch 122/1000\n",
      "23/23 [==============================] - ETA: 0s - loss: 0.7199 - accuracy: 0.50 - ETA: 0s - loss: 0.6698 - accuracy: 0.60 - 0s 14ms/step - loss: 0.6678 - accuracy: 0.6114 - val_loss: 0.6463 - val_accuracy: 0.6387\n",
      "Epoch 123/1000\n",
      "23/23 [==============================] - ETA: 0s - loss: 0.7180 - accuracy: 0.50 - ETA: 0s - loss: 0.8655 - accuracy: 0.60 - 0s 11ms/step - loss: 0.7871 - accuracy: 0.6101 - val_loss: 0.6463 - val_accuracy: 0.6387\n",
      "Epoch 124/1000\n",
      "23/23 [==============================] - ETA: 0s - loss: 0.7165 - accuracy: 0.50 - ETA: 0s - loss: 0.6649 - accuracy: 0.61 - 0s 9ms/step - loss: 0.6663 - accuracy: 0.6114 - val_loss: 0.6463 - val_accuracy: 0.6387\n",
      "Epoch 125/1000\n",
      "23/23 [==============================] - ETA: 0s - loss: 0.7176 - accuracy: 0.50 - ETA: 0s - loss: 0.6679 - accuracy: 0.60 - 0s 9ms/step - loss: 0.6662 - accuracy: 0.6114 - val_loss: 0.6463 - val_accuracy: 0.6387\n"
     ]
    },
    {
     "data": {
      "text/html": [
       "<span style=\"color:#4527A0\"><h1 style=\"font-size:18px\">Trial complete</h1></span>"
      ],
      "text/plain": [
       "<IPython.core.display.HTML object>"
      ]
     },
     "metadata": {},
     "output_type": "display_data"
    },
    {
     "data": {
      "text/html": [
       "<span style=\"color:#4527A0\"><h1 style=\"font-size:18px\">Trial summary</h1></span>"
      ],
      "text/plain": [
       "<IPython.core.display.HTML object>"
      ]
     },
     "metadata": {},
     "output_type": "display_data"
    },
    {
     "data": {
      "text/html": [
       "<span style=\"color:cyan\"> |-Trial ID: 608b1439e48e9b833b74076f3e87dc27</span>"
      ],
      "text/plain": [
       "<IPython.core.display.HTML object>"
      ]
     },
     "metadata": {},
     "output_type": "display_data"
    },
    {
     "data": {
      "text/html": [
       "<span style=\"color:cyan\"> |-Score: 0.6967741847038269</span>"
      ],
      "text/plain": [
       "<IPython.core.display.HTML object>"
      ]
     },
     "metadata": {},
     "output_type": "display_data"
    },
    {
     "data": {
      "text/html": [
       "<span style=\"color:cyan\"> |-Best step: 21</span>"
      ],
      "text/plain": [
       "<IPython.core.display.HTML object>"
      ]
     },
     "metadata": {},
     "output_type": "display_data"
    },
    {
     "data": {
      "text/html": [
       "<span style=\"color:#7E57C2\"><h2 style=\"font-size:16px\">Hyperparameters:</h2></span>"
      ],
      "text/plain": [
       "<IPython.core.display.HTML object>"
      ]
     },
     "metadata": {},
     "output_type": "display_data"
    },
    {
     "data": {
      "text/html": [
       "<span style=\"color:cyan\"> |-classification_head_2/dropout: 0</span>"
      ],
      "text/plain": [
       "<IPython.core.display.HTML object>"
      ]
     },
     "metadata": {},
     "output_type": "display_data"
    },
    {
     "data": {
      "text/html": [
       "<span style=\"color:blue\"> |-learning_rate: 0.001</span>"
      ],
      "text/plain": [
       "<IPython.core.display.HTML object>"
      ]
     },
     "metadata": {},
     "output_type": "display_data"
    },
    {
     "data": {
      "text/html": [
       "<span style=\"color:cyan\"> |-optimizer: adam</span>"
      ],
      "text/plain": [
       "<IPython.core.display.HTML object>"
      ]
     },
     "metadata": {},
     "output_type": "display_data"
    },
    {
     "data": {
      "text/html": [
       "<span style=\"color:blue\"> |-structured_data_block_2/dense_block_1/dropout: 0.5</span>"
      ],
      "text/plain": [
       "<IPython.core.display.HTML object>"
      ]
     },
     "metadata": {},
     "output_type": "display_data"
    },
    {
     "data": {
      "text/html": [
       "<span style=\"color:cyan\"> |-structured_data_block_2/dense_block_1/num_layers: 2</span>"
      ],
      "text/plain": [
       "<IPython.core.display.HTML object>"
      ]
     },
     "metadata": {},
     "output_type": "display_data"
    },
    {
     "data": {
      "text/html": [
       "<span style=\"color:blue\"> |-structured_data_block_2/dense_block_1/units_0: 16</span>"
      ],
      "text/plain": [
       "<IPython.core.display.HTML object>"
      ]
     },
     "metadata": {},
     "output_type": "display_data"
    },
    {
     "data": {
      "text/html": [
       "<span style=\"color:cyan\"> |-structured_data_block_2/dense_block_1/units_1: 32</span>"
      ],
      "text/plain": [
       "<IPython.core.display.HTML object>"
      ]
     },
     "metadata": {},
     "output_type": "display_data"
    },
    {
     "data": {
      "text/html": [
       "<span style=\"color:blue\"> |-structured_data_block_2/dense_block_1/units_2: 64</span>"
      ],
      "text/plain": [
       "<IPython.core.display.HTML object>"
      ]
     },
     "metadata": {},
     "output_type": "display_data"
    },
    {
     "data": {
      "text/html": [
       "<span style=\"color:cyan\"> |-structured_data_block_2/dense_block_1/use_batchnorm: False</span>"
      ],
      "text/plain": [
       "<IPython.core.display.HTML object>"
      ]
     },
     "metadata": {},
     "output_type": "display_data"
    },
    {
     "data": {
      "text/html": [
       "<span style=\"color:#4527A0\"><h1 style=\"font-size:18px\">Starting new trial</h1></span>"
      ],
      "text/plain": [
       "<IPython.core.display.HTML object>"
      ]
     },
     "metadata": {},
     "output_type": "display_data"
    },
    {
     "name": "stdout",
     "output_type": "stream",
     "text": [
      "Epoch 1/1000\n",
      "23/23 [==============================] - ETA: 0s - loss: 0.8326 - accuracy: 0.53 - ETA: 0s - loss: 0.8206 - accuracy: 0.46 - ETA: 0s - loss: 0.8148 - accuracy: 0.47 - 1s 35ms/step - loss: 0.8164 - accuracy: 0.4755 - val_loss: 0.7239 - val_accuracy: 0.4323\n",
      "Epoch 2/1000\n",
      "23/23 [==============================] - ETA: 0s - loss: 0.8679 - accuracy: 0.50 - ETA: 0s - loss: 0.7653 - accuracy: 0.48 - 0s 9ms/step - loss: 0.7590 - accuracy: 0.5149 - val_loss: 0.6815 - val_accuracy: 0.5419\n",
      "Epoch 3/1000\n",
      "23/23 [==============================] - ETA: 0s - loss: 0.7986 - accuracy: 0.46 - ETA: 0s - loss: 0.7639 - accuracy: 0.52 - 0s 8ms/step - loss: 0.7541 - accuracy: 0.5272 - val_loss: 0.6663 - val_accuracy: 0.6968\n",
      "Epoch 4/1000\n",
      "23/23 [==============================] - ETA: 0s - loss: 0.7998 - accuracy: 0.43 - ETA: 0s - loss: 0.7390 - accuracy: 0.54 - 0s 7ms/step - loss: 0.7259 - accuracy: 0.5598 - val_loss: 0.6480 - val_accuracy: 0.7032\n",
      "Epoch 5/1000\n",
      "23/23 [==============================] - ETA: 0s - loss: 0.6917 - accuracy: 0.56 - ETA: 0s - loss: 0.7280 - accuracy: 0.55 - 0s 9ms/step - loss: 0.7162 - accuracy: 0.5883 - val_loss: 0.6352 - val_accuracy: 0.7161\n",
      "Epoch 6/1000\n",
      "23/23 [==============================] - ETA: 0s - loss: 0.7005 - accuracy: 0.62 - ETA: 0s - loss: 0.7081 - accuracy: 0.57 - 0s 8ms/step - loss: 0.7075 - accuracy: 0.5829 - val_loss: 0.6286 - val_accuracy: 0.7161\n",
      "Epoch 7/1000\n",
      "23/23 [==============================] - ETA: 0s - loss: 0.7633 - accuracy: 0.59 - ETA: 0s - loss: 0.7338 - accuracy: 0.55 - 0s 8ms/step - loss: 0.7118 - accuracy: 0.5870 - val_loss: 0.6257 - val_accuracy: 0.6903\n",
      "Epoch 8/1000\n",
      "23/23 [==============================] - ETA: 0s - loss: 0.7096 - accuracy: 0.56 - ETA: 0s - loss: 0.7337 - accuracy: 0.59 - ETA: 0s - loss: 0.7167 - accuracy: 0.59 - ETA: 0s - loss: 0.7120 - accuracy: 0.59 - 0s 15ms/step - loss: 0.7048 - accuracy: 0.6128 - val_loss: 0.6230 - val_accuracy: 0.6839\n",
      "Epoch 9/1000\n",
      "23/23 [==============================] - ETA: 0s - loss: 0.7095 - accuracy: 0.50 - ETA: 0s - loss: 0.6893 - accuracy: 0.55 - 0s 9ms/step - loss: 0.6819 - accuracy: 0.5842 - val_loss: 0.6204 - val_accuracy: 0.6839\n",
      "Epoch 10/1000\n",
      "23/23 [==============================] - ETA: 0s - loss: 0.8687 - accuracy: 0.50 - ETA: 0s - loss: 0.7525 - accuracy: 0.55 - 0s 10ms/step - loss: 0.7121 - accuracy: 0.5992 - val_loss: 0.6198 - val_accuracy: 0.6839\n",
      "Epoch 11/1000\n",
      "23/23 [==============================] - ETA: 0s - loss: 0.8201 - accuracy: 0.56 - ETA: 0s - loss: 0.6985 - accuracy: 0.59 - ETA: 0s - loss: 0.6935 - accuracy: 0.60 - 0s 15ms/step - loss: 0.6935 - accuracy: 0.6046 - val_loss: 0.6199 - val_accuracy: 0.6839\n",
      "Epoch 12/1000\n",
      "23/23 [==============================] - ETA: 0s - loss: 0.8154 - accuracy: 0.37 - ETA: 0s - loss: 0.7392 - accuracy: 0.57 - 0s 10ms/step - loss: 0.6971 - accuracy: 0.6033 - val_loss: 0.6218 - val_accuracy: 0.6839\n",
      "Epoch 13/1000\n",
      "23/23 [==============================] - ETA: 0s - loss: 0.7245 - accuracy: 0.46 - ETA: 0s - loss: 0.7305 - accuracy: 0.59 - 0s 11ms/step - loss: 0.6941 - accuracy: 0.6114 - val_loss: 0.6209 - val_accuracy: 0.6839\n",
      "Epoch 14/1000\n",
      "23/23 [==============================] - ETA: 0s - loss: 0.7187 - accuracy: 0.43 - ETA: 0s - loss: 0.7232 - accuracy: 0.57 - ETA: 0s - loss: 0.7033 - accuracy: 0.59 - 0s 11ms/step - loss: 0.7002 - accuracy: 0.6005 - val_loss: 0.6206 - val_accuracy: 0.6839\n",
      "Epoch 15/1000\n",
      "23/23 [==============================] - ETA: 0s - loss: 0.8358 - accuracy: 0.53 - ETA: 0s - loss: 0.6829 - accuracy: 0.62 - 0s 12ms/step - loss: 0.6647 - accuracy: 0.6399 - val_loss: 0.6202 - val_accuracy: 0.6710\n",
      "Epoch 16/1000\n",
      "23/23 [==============================] - ETA: 0s - loss: 0.6721 - accuracy: 0.50 - ETA: 0s - loss: 0.6686 - accuracy: 0.58 - 0s 11ms/step - loss: 0.6580 - accuracy: 0.6236 - val_loss: 0.6180 - val_accuracy: 0.6710\n",
      "Epoch 17/1000\n",
      "23/23 [==============================] - ETA: 0s - loss: 0.7241 - accuracy: 0.53 - ETA: 0s - loss: 0.7083 - accuracy: 0.59 - 0s 10ms/step - loss: 0.6773 - accuracy: 0.6236 - val_loss: 0.6184 - val_accuracy: 0.6774\n",
      "Epoch 18/1000\n",
      "23/23 [==============================] - ETA: 0s - loss: 0.7670 - accuracy: 0.50 - ETA: 0s - loss: 0.6856 - accuracy: 0.59 - 0s 11ms/step - loss: 0.6879 - accuracy: 0.6005 - val_loss: 0.6183 - val_accuracy: 0.6774\n",
      "Epoch 19/1000\n",
      "23/23 [==============================] - ETA: 0s - loss: 0.8612 - accuracy: 0.50 - ETA: 0s - loss: 0.7042 - accuracy: 0.60 - 0s 9ms/step - loss: 0.6706 - accuracy: 0.6236 - val_loss: 0.6186 - val_accuracy: 0.6774\n",
      "Epoch 20/1000\n",
      "23/23 [==============================] - ETA: 0s - loss: 0.7753 - accuracy: 0.43 - ETA: 0s - loss: 0.6702 - accuracy: 0.62 - 0s 13ms/step - loss: 0.6630 - accuracy: 0.6318 - val_loss: 0.6195 - val_accuracy: 0.6710\n",
      "Epoch 21/1000\n",
      "23/23 [==============================] - ETA: 0s - loss: 0.7526 - accuracy: 0.43 - ETA: 0s - loss: 0.6963 - accuracy: 0.59 - 0s 10ms/step - loss: 0.6779 - accuracy: 0.6196 - val_loss: 0.6191 - val_accuracy: 0.6710\n",
      "Epoch 22/1000\n",
      "23/23 [==============================] - ETA: 0s - loss: 0.7675 - accuracy: 0.50 - ETA: 0s - loss: 0.6849 - accuracy: 0.61 - 0s 10ms/step - loss: 0.6730 - accuracy: 0.6223 - val_loss: 0.6196 - val_accuracy: 0.6710\n",
      "Epoch 23/1000\n",
      "23/23 [==============================] - ETA: 0s - loss: 0.8429 - accuracy: 0.56 - ETA: 0s - loss: 0.6731 - accuracy: 0.61 - 0s 9ms/step - loss: 0.6700 - accuracy: 0.6236 - val_loss: 0.6175 - val_accuracy: 0.6710\n",
      "Epoch 24/1000\n",
      "23/23 [==============================] - ETA: 0s - loss: 0.7202 - accuracy: 0.50 - ETA: 0s - loss: 0.6654 - accuracy: 0.60 - 0s 10ms/step - loss: 0.6544 - accuracy: 0.6168 - val_loss: 0.6172 - val_accuracy: 0.6710\n",
      "Epoch 25/1000\n",
      "23/23 [==============================] - ETA: 0s - loss: 0.8465 - accuracy: 0.53 - ETA: 0s - loss: 0.6869 - accuracy: 0.62 - ETA: 0s - loss: 0.6748 - accuracy: 0.62 - ETA: 0s - loss: 0.6690 - accuracy: 0.61 - 0s 17ms/step - loss: 0.6504 - accuracy: 0.6399 - val_loss: 0.6172 - val_accuracy: 0.6710\n",
      "Epoch 26/1000\n",
      "23/23 [==============================] - ETA: 0s - loss: 0.7388 - accuracy: 0.43 - ETA: 0s - loss: 0.6808 - accuracy: 0.59 - 0s 9ms/step - loss: 0.6851 - accuracy: 0.6087 - val_loss: 0.6158 - val_accuracy: 0.6710\n",
      "Epoch 27/1000\n",
      "23/23 [==============================] - ETA: 0s - loss: 0.7267 - accuracy: 0.53 - ETA: 0s - loss: 0.6713 - accuracy: 0.60 - 0s 10ms/step - loss: 0.6744 - accuracy: 0.6087 - val_loss: 0.6141 - val_accuracy: 0.6710\n",
      "Epoch 28/1000\n",
      "23/23 [==============================] - ETA: 0s - loss: 0.8071 - accuracy: 0.46 - ETA: 0s - loss: 0.6645 - accuracy: 0.61 - 0s 9ms/step - loss: 0.6546 - accuracy: 0.6359 - val_loss: 0.6142 - val_accuracy: 0.6710\n",
      "Epoch 29/1000\n",
      "23/23 [==============================] - ETA: 0s - loss: 0.7000 - accuracy: 0.53 - ETA: 0s - loss: 0.6621 - accuracy: 0.62 - 0s 10ms/step - loss: 0.6505 - accuracy: 0.6440 - val_loss: 0.6143 - val_accuracy: 0.6710\n",
      "Epoch 30/1000\n",
      "23/23 [==============================] - ETA: 0s - loss: 0.8204 - accuracy: 0.50 - ETA: 0s - loss: 0.6807 - accuracy: 0.60 - ETA: 0s - loss: 0.6839 - accuracy: 0.61 - ETA: 0s - loss: 0.6778 - accuracy: 0.60 - 0s 16ms/step - loss: 0.6669 - accuracy: 0.6277 - val_loss: 0.6147 - val_accuracy: 0.6710\n",
      "Epoch 31/1000\n",
      "23/23 [==============================] - ETA: 0s - loss: 0.8006 - accuracy: 0.46 - ETA: 0s - loss: 0.6708 - accuracy: 0.61 - 0s 12ms/step - loss: 0.6570 - accuracy: 0.6399 - val_loss: 0.6146 - val_accuracy: 0.6710\n",
      "Epoch 32/1000\n",
      "23/23 [==============================] - ETA: 0s - loss: 0.8595 - accuracy: 0.46 - ETA: 0s - loss: 0.6825 - accuracy: 0.59 - 0s 9ms/step - loss: 0.6702 - accuracy: 0.6101 - val_loss: 0.6136 - val_accuracy: 0.6710\n",
      "Epoch 33/1000\n",
      "23/23 [==============================] - ETA: 0s - loss: 0.7267 - accuracy: 0.46 - ETA: 0s - loss: 0.6680 - accuracy: 0.59 - ETA: 0s - loss: 0.6584 - accuracy: 0.61 - 0s 12ms/step - loss: 0.6540 - accuracy: 0.6209 - val_loss: 0.6125 - val_accuracy: 0.6710\n",
      "Epoch 34/1000\n",
      "23/23 [==============================] - ETA: 0s - loss: 0.6964 - accuracy: 0.56 - ETA: 0s - loss: 0.6812 - accuracy: 0.60 - 1s 33ms/step - loss: 0.6722 - accuracy: 0.6223 - val_loss: 0.6120 - val_accuracy: 0.6774\n",
      "Epoch 35/1000\n"
     ]
    },
    {
     "name": "stdout",
     "output_type": "stream",
     "text": [
      "23/23 [==============================] - ETA: 0s - loss: 0.7551 - accuracy: 0.53 - ETA: 0s - loss: 0.6818 - accuracy: 0.61 - ETA: 0s - loss: 0.6650 - accuracy: 0.62 - 0s 12ms/step - loss: 0.6627 - accuracy: 0.6277 - val_loss: 0.6128 - val_accuracy: 0.6774\n",
      "Epoch 36/1000\n",
      "23/23 [==============================] - ETA: 0s - loss: 0.6706 - accuracy: 0.62 - ETA: 0s - loss: 0.6520 - accuracy: 0.60 - ETA: 0s - loss: 0.6360 - accuracy: 0.64 - 0s 13ms/step - loss: 0.6360 - accuracy: 0.6481 - val_loss: 0.6133 - val_accuracy: 0.6710\n",
      "Epoch 37/1000\n",
      "23/23 [==============================] - ETA: 0s - loss: 0.7577 - accuracy: 0.56 - ETA: 0s - loss: 0.6718 - accuracy: 0.61 - 0s 9ms/step - loss: 0.6561 - accuracy: 0.6345 - val_loss: 0.6132 - val_accuracy: 0.6710\n",
      "Epoch 38/1000\n",
      "23/23 [==============================] - ETA: 0s - loss: 0.7078 - accuracy: 0.56 - ETA: 0s - loss: 0.6717 - accuracy: 0.61 - 0s 12ms/step - loss: 0.6541 - accuracy: 0.6264 - val_loss: 0.6126 - val_accuracy: 0.6710\n",
      "Epoch 39/1000\n",
      "23/23 [==============================] - ETA: 0s - loss: 0.7612 - accuracy: 0.43 - ETA: 0s - loss: 0.6732 - accuracy: 0.60 - 0s 13ms/step - loss: 0.6556 - accuracy: 0.6413 - val_loss: 0.6136 - val_accuracy: 0.6710\n",
      "Epoch 40/1000\n",
      "23/23 [==============================] - ETA: 0s - loss: 0.8365 - accuracy: 0.43 - ETA: 0s - loss: 0.6763 - accuracy: 0.59 - 0s 10ms/step - loss: 0.6631 - accuracy: 0.6087 - val_loss: 0.6141 - val_accuracy: 0.6710\n",
      "Epoch 41/1000\n",
      "23/23 [==============================] - ETA: 0s - loss: 0.7921 - accuracy: 0.46 - ETA: 0s - loss: 0.6711 - accuracy: 0.58 - 0s 10ms/step - loss: 0.6572 - accuracy: 0.6114 - val_loss: 0.6138 - val_accuracy: 0.6710\n",
      "Epoch 42/1000\n",
      "23/23 [==============================] - ETA: 0s - loss: 0.7327 - accuracy: 0.53 - ETA: 0s - loss: 0.6635 - accuracy: 0.62 - 0s 11ms/step - loss: 0.6424 - accuracy: 0.6454 - val_loss: 0.6137 - val_accuracy: 0.6710\n",
      "Epoch 43/1000\n",
      "23/23 [==============================] - ETA: 0s - loss: 0.7285 - accuracy: 0.50 - ETA: 0s - loss: 0.6715 - accuracy: 0.59 - 0s 10ms/step - loss: 0.6528 - accuracy: 0.6209 - val_loss: 0.6152 - val_accuracy: 0.6710\n",
      "Epoch 44/1000\n",
      "23/23 [==============================] - ETA: 0s - loss: 0.7842 - accuracy: 0.46 - ETA: 0s - loss: 0.6603 - accuracy: 0.61 - 0s 9ms/step - loss: 0.6509 - accuracy: 0.6304 - val_loss: 0.6166 - val_accuracy: 0.6710\n"
     ]
    },
    {
     "data": {
      "text/html": [
       "<span style=\"color:#4527A0\"><h1 style=\"font-size:18px\">Trial complete</h1></span>"
      ],
      "text/plain": [
       "<IPython.core.display.HTML object>"
      ]
     },
     "metadata": {},
     "output_type": "display_data"
    },
    {
     "data": {
      "text/html": [
       "<span style=\"color:#4527A0\"><h1 style=\"font-size:18px\">Trial summary</h1></span>"
      ],
      "text/plain": [
       "<IPython.core.display.HTML object>"
      ]
     },
     "metadata": {},
     "output_type": "display_data"
    },
    {
     "data": {
      "text/html": [
       "<span style=\"color:cyan\"> |-Trial ID: f72ed525a92abc58ef258151dd99edfb</span>"
      ],
      "text/plain": [
       "<IPython.core.display.HTML object>"
      ]
     },
     "metadata": {},
     "output_type": "display_data"
    },
    {
     "data": {
      "text/html": [
       "<span style=\"color:cyan\"> |-Score: 0.7161290049552917</span>"
      ],
      "text/plain": [
       "<IPython.core.display.HTML object>"
      ]
     },
     "metadata": {},
     "output_type": "display_data"
    },
    {
     "data": {
      "text/html": [
       "<span style=\"color:cyan\"> |-Best step: 4</span>"
      ],
      "text/plain": [
       "<IPython.core.display.HTML object>"
      ]
     },
     "metadata": {},
     "output_type": "display_data"
    },
    {
     "data": {
      "text/html": [
       "<span style=\"color:#7E57C2\"><h2 style=\"font-size:16px\">Hyperparameters:</h2></span>"
      ],
      "text/plain": [
       "<IPython.core.display.HTML object>"
      ]
     },
     "metadata": {},
     "output_type": "display_data"
    },
    {
     "data": {
      "text/html": [
       "<span style=\"color:cyan\"> |-classification_head_2/dropout: 0</span>"
      ],
      "text/plain": [
       "<IPython.core.display.HTML object>"
      ]
     },
     "metadata": {},
     "output_type": "display_data"
    },
    {
     "data": {
      "text/html": [
       "<span style=\"color:blue\"> |-learning_rate: 0.001</span>"
      ],
      "text/plain": [
       "<IPython.core.display.HTML object>"
      ]
     },
     "metadata": {},
     "output_type": "display_data"
    },
    {
     "data": {
      "text/html": [
       "<span style=\"color:cyan\"> |-optimizer: adam</span>"
      ],
      "text/plain": [
       "<IPython.core.display.HTML object>"
      ]
     },
     "metadata": {},
     "output_type": "display_data"
    },
    {
     "data": {
      "text/html": [
       "<span style=\"color:blue\"> |-structured_data_block_2/dense_block_1/dropout: 0.5</span>"
      ],
      "text/plain": [
       "<IPython.core.display.HTML object>"
      ]
     },
     "metadata": {},
     "output_type": "display_data"
    },
    {
     "data": {
      "text/html": [
       "<span style=\"color:cyan\"> |-structured_data_block_2/dense_block_1/num_layers: 1</span>"
      ],
      "text/plain": [
       "<IPython.core.display.HTML object>"
      ]
     },
     "metadata": {},
     "output_type": "display_data"
    },
    {
     "data": {
      "text/html": [
       "<span style=\"color:blue\"> |-structured_data_block_2/dense_block_1/units_0: 16</span>"
      ],
      "text/plain": [
       "<IPython.core.display.HTML object>"
      ]
     },
     "metadata": {},
     "output_type": "display_data"
    },
    {
     "data": {
      "text/html": [
       "<span style=\"color:cyan\"> |-structured_data_block_2/dense_block_1/units_1: 1024</span>"
      ],
      "text/plain": [
       "<IPython.core.display.HTML object>"
      ]
     },
     "metadata": {},
     "output_type": "display_data"
    },
    {
     "data": {
      "text/html": [
       "<span style=\"color:blue\"> |-structured_data_block_2/dense_block_1/units_2: 16</span>"
      ],
      "text/plain": [
       "<IPython.core.display.HTML object>"
      ]
     },
     "metadata": {},
     "output_type": "display_data"
    },
    {
     "data": {
      "text/html": [
       "<span style=\"color:cyan\"> |-structured_data_block_2/dense_block_1/use_batchnorm: True</span>"
      ],
      "text/plain": [
       "<IPython.core.display.HTML object>"
      ]
     },
     "metadata": {},
     "output_type": "display_data"
    },
    {
     "data": {
      "text/html": [
       "<span style=\"color:#4527A0\"><h1 style=\"font-size:18px\">Starting new trial</h1></span>"
      ],
      "text/plain": [
       "<IPython.core.display.HTML object>"
      ]
     },
     "metadata": {},
     "output_type": "display_data"
    },
    {
     "name": "stdout",
     "output_type": "stream",
     "text": [
      "Epoch 1/1000\n",
      "23/23 [==============================] - ETA: 0s - loss: 22442.7715 - accuracy: 0.43 - ETA: 0s - loss: 12448.5420 - accuracy: 0.53 - ETA: 0s - loss: 9197.2275 - accuracy: 0.5327 - 1s 23ms/step - loss: 8718.1748 - accuracy: 0.5326 - val_loss: 326.5285 - val_accuracy: 0.6387\n",
      "Epoch 2/1000\n",
      "23/23 [==============================] - ETA: 0s - loss: 11364.8711 - accuracy: 0.43 - ETA: 0s - loss: 5666.2222 - accuracy: 0.4744 - ETA: 0s - loss: 4298.6069 - accuracy: 0.501 - 0s 10ms/step - loss: 3966.9810 - accuracy: 0.5163 - val_loss: 5.8838 - val_accuracy: 0.3226\n",
      "Epoch 3/1000\n",
      "23/23 [==============================] - ETA: 0s - loss: 8761.8408 - accuracy: 0.500 - ETA: 0s - loss: 2618.9575 - accuracy: 0.575 - ETA: 0s - loss: 2359.4094 - accuracy: 0.565 - 0s 14ms/step - loss: 2186.3623 - accuracy: 0.5652 - val_loss: 2.2857 - val_accuracy: 0.6387\n",
      "Epoch 4/1000\n",
      "23/23 [==============================] - ETA: 0s - loss: 1250.8165 - accuracy: 0.468 - ETA: 0s - loss: 1411.4491 - accuracy: 0.554 - ETA: 0s - loss: 994.4451 - accuracy: 0.583 - 0s 14ms/step - loss: 956.1349 - accuracy: 0.5883 - val_loss: 3.2194 - val_accuracy: 0.6387\n",
      "Epoch 5/1000\n",
      "23/23 [==============================] - ETA: 0s - loss: 2577.9734 - accuracy: 0.468 - ETA: 0s - loss: 2028.0183 - accuracy: 0.565 - ETA: 0s - loss: 1366.9569 - accuracy: 0.571 - 0s 13ms/step - loss: 1123.6761 - accuracy: 0.5652 - val_loss: 3.0922 - val_accuracy: 0.3548\n",
      "Epoch 6/1000\n",
      "23/23 [==============================] - ETA: 0s - loss: 703.1546 - accuracy: 0.40 - ETA: 0s - loss: 529.9714 - accuracy: 0.60 - ETA: 0s - loss: 433.6931 - accuracy: 0.57 - 0s 11ms/step - loss: 514.0240 - accuracy: 0.5666 - val_loss: 2.3066 - val_accuracy: 0.6387\n",
      "Epoch 7/1000\n",
      "23/23 [==============================] - ETA: 0s - loss: 2.6597 - accuracy: 0.50 - ETA: 0s - loss: 391.8634 - accuracy: 0.59 - ETA: 0s - loss: 340.6006 - accuracy: 0.57 - 0s 10ms/step - loss: 300.5510 - accuracy: 0.5883 - val_loss: 14.7219 - val_accuracy: 0.6387\n",
      "Epoch 8/1000\n",
      "23/23 [==============================] - ETA: 0s - loss: 140.7469 - accuracy: 0.53 - ETA: 0s - loss: 188.4488 - accuracy: 0.64 - ETA: 0s - loss: 174.0603 - accuracy: 0.64 - ETA: 0s - loss: 231.8630 - accuracy: 0.58 - ETA: 0s - loss: 275.1743 - accuracy: 0.59 - 0s 19ms/step - loss: 239.5915 - accuracy: 0.5924 - val_loss: 0.8887 - val_accuracy: 0.6387\n",
      "Epoch 9/1000\n",
      "23/23 [==============================] - ETA: 0s - loss: 1115.9181 - accuracy: 0.500 - ETA: 0s - loss: 223.6298 - accuracy: 0.611 - ETA: 0s - loss: 398.1964 - accuracy: 0.56 - 0s 13ms/step - loss: 626.2535 - accuracy: 0.5815 - val_loss: 1.3515 - val_accuracy: 0.6387\n",
      "Epoch 10/1000\n",
      "23/23 [==============================] - ETA: 0s - loss: 737.2253 - accuracy: 0.50 - ETA: 0s - loss: 364.0207 - accuracy: 0.59 - ETA: 0s - loss: 403.7422 - accuracy: 0.58 - 0s 13ms/step - loss: 348.6149 - accuracy: 0.5693 - val_loss: 5.5264 - val_accuracy: 0.6387\n",
      "Epoch 11/1000\n",
      "23/23 [==============================] - ETA: 0s - loss: 9.4325 - accuracy: 0.53 - ETA: 0s - loss: 160.5482 - accuracy: 0.63 - ETA: 0s - loss: 236.7735 - accuracy: 0.60 - ETA: 0s - loss: 189.1914 - accuracy: 0.58 - 0s 15ms/step - loss: 181.0244 - accuracy: 0.5829 - val_loss: 1.3804 - val_accuracy: 0.4194\n",
      "Epoch 12/1000\n",
      "23/23 [==============================] - ETA: 0s - loss: 8912.8848 - accuracy: 0.500 - ETA: 0s - loss: 941.0883 - accuracy: 0.585 - ETA: 0s - loss: 549.8677 - accuracy: 0.58 - 0s 12ms/step - loss: 460.3362 - accuracy: 0.5815 - val_loss: 0.6821 - val_accuracy: 0.6387\n",
      "Epoch 13/1000\n",
      "23/23 [==============================] - ETA: 0s - loss: 158.6749 - accuracy: 0.46 - ETA: 0s - loss: 166.8332 - accuracy: 0.60 - ETA: 0s - loss: 145.1070 - accuracy: 0.61 - 0s 21ms/step - loss: 117.5740 - accuracy: 0.5910 - val_loss: 0.6813 - val_accuracy: 0.6387\n",
      "Epoch 14/1000\n",
      "23/23 [==============================] - ETA: 0s - loss: 435.2504 - accuracy: 0.53 - ETA: 0s - loss: 98.5409 - accuracy: 0.6354 - ETA: 0s - loss: 92.0651 - accuracy: 0.599 - ETA: 0s - loss: 73.6073 - accuracy: 0.597 - ETA: 0s - loss: 67.1001 - accuracy: 0.598 - 1s 22ms/step - loss: 73.0678 - accuracy: 0.6019 - val_loss: 0.6802 - val_accuracy: 0.6387\n",
      "Epoch 15/1000\n",
      "23/23 [==============================] - ETA: 0s - loss: 256.8477 - accuracy: 0.50 - ETA: 0s - loss: 361.8929 - accuracy: 0.64 - ETA: 0s - loss: 221.6119 - accuracy: 0.60 - ETA: 0s - loss: 171.6205 - accuracy: 0.60 - 0s 21ms/step - loss: 164.1867 - accuracy: 0.6046 - val_loss: 0.6795 - val_accuracy: 0.6387\n",
      "Epoch 16/1000\n",
      "23/23 [==============================] - ETA: 0s - loss: 3.8917 - accuracy: 0.53 - ETA: 0s - loss: 80.2195 - accuracy: 0.628 - ETA: 0s - loss: 332.4059 - accuracy: 0.59 - 0s 16ms/step - loss: 277.8810 - accuracy: 0.5910 - val_loss: 0.6783 - val_accuracy: 0.6387\n",
      "Epoch 17/1000\n",
      "23/23 [==============================] - ETA: 0s - loss: 0.8478 - accuracy: 0.50 - ETA: 0s - loss: 31.7968 - accuracy: 0.642 - ETA: 0s - loss: 37.0723 - accuracy: 0.610 - ETA: 0s - loss: 40.5414 - accuracy: 0.607 - 0s 15ms/step - loss: 38.5480 - accuracy: 0.6087 - val_loss: 0.6775 - val_accuracy: 0.6387\n",
      "Epoch 18/1000\n",
      "23/23 [==============================] - ETA: 0s - loss: 0.7391 - accuracy: 0.50 - ETA: 0s - loss: 37.2735 - accuracy: 0.546 - ETA: 0s - loss: 37.3691 - accuracy: 0.583 - ETA: 0s - loss: 24.5994 - accuracy: 0.625 - ETA: 0s - loss: 19.5649 - accuracy: 0.613 - ETA: 0s - loss: 19.4314 - accuracy: 0.614 - 1s 25ms/step - loss: 23.3665 - accuracy: 0.6168 - val_loss: 0.6763 - val_accuracy: 0.6387\n",
      "Epoch 19/1000\n",
      "23/23 [==============================] - ETA: 0s - loss: 1.1025 - accuracy: 0.50 - ETA: 0s - loss: 5.7535 - accuracy: 0.64 - ETA: 0s - loss: 56.3546 - accuracy: 0.605 - ETA: 0s - loss: 63.2453 - accuracy: 0.603 - 0s 17ms/step - loss: 190.4907 - accuracy: 0.6033 - val_loss: 0.6755 - val_accuracy: 0.6387\n",
      "Epoch 20/1000\n",
      "23/23 [==============================] - ETA: 0s - loss: 218.7107 - accuracy: 0.50 - ETA: 0s - loss: 44.3132 - accuracy: 0.6562 - ETA: 0s - loss: 29.4756 - accuracy: 0.602 - ETA: 0s - loss: 22.0300 - accuracy: 0.610 - 0s 17ms/step - loss: 21.1000 - accuracy: 0.6114 - val_loss: 0.6746 - val_accuracy: 0.6387\n",
      "Epoch 21/1000\n",
      "23/23 [==============================] - ETA: 0s - loss: 1.1173 - accuracy: 0.50 - ETA: 0s - loss: 0.7096 - accuracy: 0.65 - ETA: 0s - loss: 11.5844 - accuracy: 0.607 - ETA: 0s - loss: 8.0780 - accuracy: 0.619 - 0s 16ms/step - loss: 7.4378 - accuracy: 0.6155 - val_loss: 0.6737 - val_accuracy: 0.6387\n",
      "Epoch 22/1000\n",
      "23/23 [==============================] - ETA: 0s - loss: 157.8731 - accuracy: 0.46 - ETA: 0s - loss: 79.5545 - accuracy: 0.5156 - ETA: 0s - loss: 98.3717 - accuracy: 0.587 - ETA: 0s - loss: 55.2447 - accuracy: 0.586 - ETA: 0s - loss: 48.5824 - accuracy: 0.592 - 1s 24ms/step - loss: 66.2520 - accuracy: 0.5938 - val_loss: 0.6726 - val_accuracy: 0.6387\n",
      "Epoch 23/1000\n",
      "23/23 [==============================] - ETA: 0s - loss: 0.7003 - accuracy: 0.50 - ETA: 0s - loss: 51.8680 - accuracy: 0.652 - ETA: 0s - loss: 33.8995 - accuracy: 0.608 - ETA: 0s - loss: 29.9110 - accuracy: 0.602 - 0s 18ms/step - loss: 26.4634 - accuracy: 0.6060 - val_loss: 0.6717 - val_accuracy: 0.6387\n",
      "Epoch 24/1000\n",
      "23/23 [==============================] - ETA: 0s - loss: 1.3761 - accuracy: 0.50 - ETA: 0s - loss: 2.1463 - accuracy: 0.61 - ETA: 0s - loss: 88.5579 - accuracy: 0.604 - 0s 18ms/step - loss: 70.8684 - accuracy: 0.6087 - val_loss: 0.6709 - val_accuracy: 0.6387\n",
      "Epoch 25/1000\n",
      "23/23 [==============================] - ETA: 0s - loss: 0.6979 - accuracy: 0.50 - ETA: 0s - loss: 1.0198 - accuracy: 0.65 - ETA: 0s - loss: 21.1881 - accuracy: 0.608 - ETA: 0s - loss: 19.0807 - accuracy: 0.604 - 0s 20ms/step - loss: 17.6268 - accuracy: 0.6087 - val_loss: 0.6701 - val_accuracy: 0.6387\n",
      "Epoch 26/1000\n",
      "23/23 [==============================] - ETA: 0s - loss: 0.6982 - accuracy: 0.50 - ETA: 0s - loss: 2.6987 - accuracy: 0.63 - ETA: 0s - loss: 154.1715 - accuracy: 0.60 - 0s 13ms/step - loss: 110.8939 - accuracy: 0.6073 - val_loss: 0.6694 - val_accuracy: 0.6387\n",
      "Epoch 27/1000\n"
     ]
    },
    {
     "name": "stdout",
     "output_type": "stream",
     "text": [
      "23/23 [==============================] - ETA: 0s - loss: 0.6993 - accuracy: 0.50 - ETA: 0s - loss: 133.2629 - accuracy: 0.65 - ETA: 0s - loss: 179.9188 - accuracy: 0.63 - ETA: 0s - loss: 175.7122 - accuracy: 0.60 - ETA: 0s - loss: 96.9375 - accuracy: 0.6094 - ETA: 0s - loss: 94.5200 - accuracy: 0.608 - 1s 28ms/step - loss: 86.3728 - accuracy: 0.6114 - val_loss: 0.6686 - val_accuracy: 0.6387\n",
      "Epoch 28/1000\n",
      "23/23 [==============================] - ETA: 0s - loss: 0.8643 - accuracy: 0.50 - ETA: 0s - loss: 0.7005 - accuracy: 0.63 - ETA: 0s - loss: 8.9827 - accuracy: 0.61 - ETA: 0s - loss: 67.2742 - accuracy: 0.607 - 0s 15ms/step - loss: 60.9112 - accuracy: 0.6101 - val_loss: 0.6679 - val_accuracy: 0.6387\n",
      "Epoch 29/1000\n",
      "23/23 [==============================] - ETA: 0s - loss: 0.6560 - accuracy: 0.53 - ETA: 0s - loss: 0.7103 - accuracy: 0.66 - ETA: 0s - loss: 110.0555 - accuracy: 0.61 - ETA: 0s - loss: 69.7558 - accuracy: 0.6118 - 0s 16ms/step - loss: 63.4067 - accuracy: 0.6141 - val_loss: 0.6671 - val_accuracy: 0.6387\n",
      "Epoch 30/1000\n",
      "23/23 [==============================] - ETA: 0s - loss: 9283.8623 - accuracy: 0.500 - ETA: 0s - loss: 1032.1404 - accuracy: 0.645 - ETA: 0s - loss: 663.9923 - accuracy: 0.602 - ETA: 0s - loss: 429.4074 - accuracy: 0.61 - 0s 19ms/step - loss: 410.7669 - accuracy: 0.6114 - val_loss: 0.6665 - val_accuracy: 0.6387\n",
      "Epoch 31/1000\n",
      "23/23 [==============================] - ETA: 0s - loss: 0.7008 - accuracy: 0.50 - ETA: 0s - loss: 26.5026 - accuracy: 0.618 - ETA: 0s - loss: 132.2021 - accuracy: 0.61 - ETA: 0s - loss: 117.5898 - accuracy: 0.60 - ETA: 0s - loss: 92.1858 - accuracy: 0.6101 - 1s 27ms/step - loss: 92.1858 - accuracy: 0.6101 - val_loss: 0.6658 - val_accuracy: 0.6387\n",
      "Epoch 32/1000\n",
      "23/23 [==============================] - ETA: 0s - loss: 0.7013 - accuracy: 0.50 - ETA: 0s - loss: 29.0125 - accuracy: 0.651 - ETA: 0s - loss: 15.7960 - accuracy: 0.609 - ETA: 0s - loss: 11.8192 - accuracy: 0.603 - 0s 18ms/step - loss: 9.8781 - accuracy: 0.6087 - val_loss: 0.6652 - val_accuracy: 0.6387\n",
      "Epoch 33/1000\n",
      "23/23 [==============================] - ETA: 0s - loss: 0.6722 - accuracy: 0.50 - ETA: 0s - loss: 2.1731 - accuracy: 0.66 - ETA: 0s - loss: 55.2570 - accuracy: 0.606 - 0s 12ms/step - loss: 47.8703 - accuracy: 0.6046 - val_loss: 0.6646 - val_accuracy: 0.6387\n",
      "Epoch 34/1000\n",
      "23/23 [==============================] - ETA: 0s - loss: 10.4146 - accuracy: 0.500 - ETA: 0s - loss: 2.6100 - accuracy: 0.650 - ETA: 0s - loss: 2.2818 - accuracy: 0.66 - ETA: 0s - loss: 388.1678 - accuracy: 0.62 - ETA: 0s - loss: 259.0069 - accuracy: 0.60 - ETA: 0s - loss: 169.5060 - accuracy: 0.61 - 0s 21ms/step - loss: 169.5060 - accuracy: 0.6114 - val_loss: 0.6641 - val_accuracy: 0.6387\n",
      "Epoch 35/1000\n",
      "23/23 [==============================] - ETA: 0s - loss: 23.2526 - accuracy: 0.468 - ETA: 0s - loss: 5.9609 - accuracy: 0.644 - ETA: 0s - loss: 3.3873 - accuracy: 0.60 - ETA: 0s - loss: 2.8447 - accuracy: 0.60 - 0s 19ms/step - loss: 2.5631 - accuracy: 0.6046 - val_loss: 0.6636 - val_accuracy: 0.6387\n",
      "Epoch 36/1000\n",
      "23/23 [==============================] - ETA: 0s - loss: 0.7034 - accuracy: 0.50 - ETA: 0s - loss: 17.1221 - accuracy: 0.656 - ETA: 0s - loss: 15.3153 - accuracy: 0.642 - ETA: 0s - loss: 14.1137 - accuracy: 0.615 - ETA: 0s - loss: 9.1491 - accuracy: 0.602 - ETA: 0s - loss: 8.7279 - accuracy: 0.60 - 1s 23ms/step - loss: 7.6756 - accuracy: 0.6073 - val_loss: 0.6631 - val_accuracy: 0.6387\n",
      "Epoch 37/1000\n",
      "23/23 [==============================] - ETA: 0s - loss: 0.7591 - accuracy: 0.46 - ETA: 0s - loss: 9.7906 - accuracy: 0.63 - ETA: 0s - loss: 7.3769 - accuracy: 0.60 - ETA: 0s - loss: 9.7625 - accuracy: 0.59 - 0s 19ms/step - loss: 8.1914 - accuracy: 0.6060 - val_loss: 0.6626 - val_accuracy: 0.6387\n",
      "Epoch 38/1000\n",
      "23/23 [==============================] - ETA: 0s - loss: 7.7359 - accuracy: 0.50 - ETA: 0s - loss: 27.8336 - accuracy: 0.618 - ETA: 0s - loss: 19.1317 - accuracy: 0.597 - 0s 12ms/step - loss: 15.9191 - accuracy: 0.6033 - val_loss: 0.6621 - val_accuracy: 0.6387\n",
      "Epoch 39/1000\n",
      "23/23 [==============================] - ETA: 0s - loss: 0.7051 - accuracy: 0.50 - ETA: 0s - loss: 3.0421 - accuracy: 0.63 - ETA: 0s - loss: 2.4297 - accuracy: 0.58 - ETA: 0s - loss: 2.3115 - accuracy: 0.59 - 1s 22ms/step - loss: 1.8152 - accuracy: 0.6005 - val_loss: 0.6616 - val_accuracy: 0.6387\n",
      "Epoch 40/1000\n",
      "23/23 [==============================] - ETA: 0s - loss: 0.6787 - accuracy: 0.53 - ETA: 0s - loss: 0.9249 - accuracy: 0.63 - ETA: 0s - loss: 0.8577 - accuracy: 0.61 - 0s 14ms/step - loss: 0.8646 - accuracy: 0.6128 - val_loss: 0.6612 - val_accuracy: 0.6387\n",
      "Epoch 41/1000\n",
      "23/23 [==============================] - ETA: 0s - loss: 0.7064 - accuracy: 0.50 - ETA: 0s - loss: 27.4373 - accuracy: 0.638 - ETA: 0s - loss: 36.1817 - accuracy: 0.609 - 0s 14ms/step - loss: 29.5832 - accuracy: 0.6087 - val_loss: 0.6609 - val_accuracy: 0.6387\n",
      "Epoch 42/1000\n",
      "23/23 [==============================] - ETA: 0s - loss: 1.1113 - accuracy: 0.50 - ETA: 0s - loss: 203.5952 - accuracy: 0.57 - ETA: 0s - loss: 135.9429 - accuracy: 0.60 - ETA: 0s - loss: 192.9923 - accuracy: 0.62 - ETA: 0s - loss: 113.8976 - accuracy: 0.61 - ETA: 0s - loss: 84.3792 - accuracy: 0.6114 - 1s 24ms/step - loss: 84.3792 - accuracy: 0.6114 - val_loss: 0.6606 - val_accuracy: 0.6387\n",
      "Epoch 43/1000\n",
      "23/23 [==============================] - ETA: 0s - loss: 1.6021 - accuracy: 0.50 - ETA: 0s - loss: 17.6821 - accuracy: 0.621 - ETA: 0s - loss: 32.6298 - accuracy: 0.605 - 0s 14ms/step - loss: 25.6796 - accuracy: 0.6101 - val_loss: 0.6604 - val_accuracy: 0.6387\n",
      "Epoch 44/1000\n",
      "23/23 [==============================] - ETA: 0s - loss: 5.6902 - accuracy: 0.50 - ETA: 0s - loss: 4.6484 - accuracy: 0.64 - ETA: 0s - loss: 15.5115 - accuracy: 0.618 - ETA: 0s - loss: 14.1642 - accuracy: 0.608 - ETA: 0s - loss: 9.4214 - accuracy: 0.606 - 1s 24ms/step - loss: 13.2548 - accuracy: 0.6073 - val_loss: 0.6601 - val_accuracy: 0.6387\n",
      "Epoch 45/1000\n",
      "23/23 [==============================] - ETA: 0s - loss: 0.7079 - accuracy: 0.50 - ETA: 0s - loss: 2.8051 - accuracy: 0.63 - ETA: 0s - loss: 1.7446 - accuracy: 0.60 - ETA: 0s - loss: 5.7419 - accuracy: 0.60 - 0s 17ms/step - loss: 5.2992 - accuracy: 0.6087 - val_loss: 0.6598 - val_accuracy: 0.6387\n",
      "Epoch 46/1000\n",
      "23/23 [==============================] - ETA: 0s - loss: 0.8121 - accuracy: 0.50 - ETA: 0s - loss: 4.3678 - accuracy: 0.61 - ETA: 0s - loss: 2.8195 - accuracy: 0.60 - 0s 13ms/step - loss: 36.9421 - accuracy: 0.6114 - val_loss: 0.6595 - val_accuracy: 0.6387\n",
      "Epoch 47/1000\n",
      "23/23 [==============================] - ETA: 0s - loss: 1.3389 - accuracy: 0.50 - ETA: 0s - loss: 0.7717 - accuracy: 0.64 - ETA: 0s - loss: 0.7654 - accuracy: 0.61 - ETA: 0s - loss: 0.7579 - accuracy: 0.61 - ETA: 0s - loss: 15.4264 - accuracy: 0.609 - 1s 23ms/step - loss: 12.2247 - accuracy: 0.6128 - val_loss: 0.6593 - val_accuracy: 0.6387\n",
      "Epoch 48/1000\n",
      "23/23 [==============================] - ETA: 0s - loss: 1.4433 - accuracy: 0.50 - ETA: 0s - loss: 27.4401 - accuracy: 0.652 - ETA: 0s - loss: 17.6474 - accuracy: 0.612 - 0s 19ms/step - loss: 13.2180 - accuracy: 0.6128 - val_loss: 0.6592 - val_accuracy: 0.6387\n",
      "Epoch 49/1000\n",
      "23/23 [==============================] - ETA: 0s - loss: 0.7096 - accuracy: 0.50 - ETA: 0s - loss: 0.6513 - accuracy: 0.65 - ETA: 0s - loss: 0.7691 - accuracy: 0.61 - ETA: 0s - loss: 0.9175 - accuracy: 0.60 - 0s 17ms/step - loss: 1.4510 - accuracy: 0.6087 - val_loss: 0.6590 - val_accuracy: 0.6387\n",
      "Epoch 50/1000\n",
      "23/23 [==============================] - ETA: 0s - loss: 0.7099 - accuracy: 0.50 - ETA: 0s - loss: 10.2020 - accuracy: 0.642 - ETA: 0s - loss: 5.7228 - accuracy: 0.608 - 0s 13ms/step - loss: 7.9420 - accuracy: 0.6087 - val_loss: 0.6588 - val_accuracy: 0.6387\n",
      "Epoch 51/1000\n",
      "23/23 [==============================] - ETA: 0s - loss: 0.7102 - accuracy: 0.50 - ETA: 0s - loss: 0.6772 - accuracy: 0.61 - ETA: 0s - loss: 4.8832 - accuracy: 0.60 - 0s 11ms/step - loss: 4.3324 - accuracy: 0.6114 - val_loss: 0.6587 - val_accuracy: 0.6387\n",
      "Epoch 52/1000\n",
      "23/23 [==============================] - ETA: 0s - loss: 0.7105 - accuracy: 0.50 - ETA: 0s - loss: 0.6677 - accuracy: 0.61 - ETA: 0s - loss: 16.4276 - accuracy: 0.607 - 1s 23ms/step - loss: 14.3709 - accuracy: 0.6101 - val_loss: 0.6585 - val_accuracy: 0.6387\n"
     ]
    },
    {
     "name": "stdout",
     "output_type": "stream",
     "text": [
      "Epoch 53/1000\n",
      "23/23 [==============================] - ETA: 0s - loss: 0.7108 - accuracy: 0.50 - ETA: 0s - loss: 0.6607 - accuracy: 0.63 - ETA: 0s - loss: 0.6701 - accuracy: 0.60 - ETA: 0s - loss: 0.6671 - accuracy: 0.61 - 0s 16ms/step - loss: 0.6671 - accuracy: 0.6128 - val_loss: 0.6583 - val_accuracy: 0.6387\n",
      "Epoch 54/1000\n",
      "23/23 [==============================] - ETA: 0s - loss: 0.7112 - accuracy: 0.50 - ETA: 0s - loss: 7.3055 - accuracy: 0.64 - ETA: 0s - loss: 4.4723 - accuracy: 0.61 - ETA: 0s - loss: 3.7127 - accuracy: 0.60 - ETA: 0s - loss: 3.5662 - accuracy: 0.61 - ETA: 0s - loss: 3.4337 - accuracy: 0.61 - 1s 24ms/step - loss: 3.3138 - accuracy: 0.6114 - val_loss: 0.6582 - val_accuracy: 0.6387\n",
      "Epoch 55/1000\n",
      "23/23 [==============================] - ETA: 0s - loss: 0.7115 - accuracy: 0.50 - ETA: 0s - loss: 2.2938 - accuracy: 0.60 - ETA: 0s - loss: 1.8836 - accuracy: 0.61 - 0s 14ms/step - loss: 1.5592 - accuracy: 0.6114 - val_loss: 0.6580 - val_accuracy: 0.6387\n",
      "Epoch 56/1000\n",
      "23/23 [==============================] - ETA: 0s - loss: 0.7146 - accuracy: 0.50 - ETA: 0s - loss: 11.2566 - accuracy: 0.612 - ETA: 0s - loss: 6.9069 - accuracy: 0.604 - ETA: 0s - loss: 65.0833 - accuracy: 0.606 - ETA: 0s - loss: 62.2829 - accuracy: 0.606 - 0s 21ms/step - loss: 62.2829 - accuracy: 0.6060 - val_loss: 0.6578 - val_accuracy: 0.6387\n",
      "Epoch 57/1000\n",
      "23/23 [==============================] - ETA: 0s - loss: 0.7123 - accuracy: 0.50 - ETA: 0s - loss: 6.5850 - accuracy: 0.63 - ETA: 0s - loss: 4.1521 - accuracy: 0.61 - ETA: 0s - loss: 4.2496 - accuracy: 0.61 - 0s 14ms/step - loss: 4.2496 - accuracy: 0.6128 - val_loss: 0.6577 - val_accuracy: 0.6387\n",
      "Epoch 58/1000\n",
      "23/23 [==============================] - ETA: 0s - loss: 0.7127 - accuracy: 0.50 - ETA: 0s - loss: 0.7481 - accuracy: 0.61 - ETA: 0s - loss: 1.1942 - accuracy: 0.60 - 0s 12ms/step - loss: 1.1085 - accuracy: 0.6060 - val_loss: 0.6575 - val_accuracy: 0.6387\n",
      "Epoch 59/1000\n",
      "23/23 [==============================] - ETA: 0s - loss: 0.7130 - accuracy: 0.50 - ETA: 0s - loss: 0.9436 - accuracy: 0.62 - ETA: 0s - loss: 0.8303 - accuracy: 0.60 - 0s 13ms/step - loss: 0.7803 - accuracy: 0.6060 - val_loss: 0.6574 - val_accuracy: 0.6387\n",
      "Epoch 60/1000\n",
      "23/23 [==============================] - ETA: 0s - loss: 1507.7133 - accuracy: 0.468 - ETA: 0s - loss: 169.6030 - accuracy: 0.618 - ETA: 0s - loss: 117.0797 - accuracy: 0.60 - 0s 11ms/step - loss: 101.8937 - accuracy: 0.6101 - val_loss: 0.6572 - val_accuracy: 0.6387\n",
      "Epoch 61/1000\n",
      "23/23 [==============================] - ETA: 0s - loss: 0.7138 - accuracy: 0.50 - ETA: 0s - loss: 0.6485 - accuracy: 0.66 - ETA: 0s - loss: 0.6697 - accuracy: 0.60 - ETA: 0s - loss: 3.0252 - accuracy: 0.60 - 0s 21ms/step - loss: 2.8184 - accuracy: 0.6101 - val_loss: 0.6571 - val_accuracy: 0.6387\n",
      "Epoch 62/1000\n",
      "23/23 [==============================] - ETA: 0s - loss: 0.7140 - accuracy: 0.50 - ETA: 0s - loss: 0.6609 - accuracy: 0.62 - ETA: 0s - loss: 5.0586 - accuracy: 0.60 - 0s 13ms/step - loss: 4.3237 - accuracy: 0.6087 - val_loss: 0.6571 - val_accuracy: 0.6387\n",
      "Epoch 63/1000\n",
      "23/23 [==============================] - ETA: 0s - loss: 0.7142 - accuracy: 0.50 - ETA: 0s - loss: 0.6455 - accuracy: 0.66 - ETA: 0s - loss: 0.7020 - accuracy: 0.60 - ETA: 0s - loss: 0.6895 - accuracy: 0.61 - 0s 13ms/step - loss: 0.6895 - accuracy: 0.6101 - val_loss: 0.6570 - val_accuracy: 0.6387\n",
      "Epoch 64/1000\n",
      "23/23 [==============================] - ETA: 0s - loss: 0.7145 - accuracy: 0.50 - ETA: 0s - loss: 0.6595 - accuracy: 0.62 - ETA: 0s - loss: 0.7125 - accuracy: 0.60 - 0s 20ms/step - loss: 0.7059 - accuracy: 0.6087 - val_loss: 0.6569 - val_accuracy: 0.6387\n",
      "Epoch 65/1000\n",
      "23/23 [==============================] - ETA: 0s - loss: 0.9188 - accuracy: 0.46 - ETA: 0s - loss: 0.6714 - accuracy: 0.65 - ETA: 0s - loss: 0.6833 - accuracy: 0.60 - ETA: 0s - loss: 0.6758 - accuracy: 0.61 - 0s 14ms/step - loss: 0.6758 - accuracy: 0.6101 - val_loss: 0.6568 - val_accuracy: 0.6387\n",
      "Epoch 66/1000\n",
      "23/23 [==============================] - ETA: 0s - loss: 428.7697 - accuracy: 0.46 - ETA: 0s - loss: 48.2146 - accuracy: 0.6424 - ETA: 0s - loss: 31.1008 - accuracy: 0.602 - 0s 11ms/step - loss: 25.8756 - accuracy: 0.6060 - val_loss: 0.6567 - val_accuracy: 0.6387\n",
      "Epoch 67/1000\n",
      "23/23 [==============================] - ETA: 0s - loss: 0.7152 - accuracy: 0.50 - ETA: 0s - loss: 0.6610 - accuracy: 0.62 - ETA: 0s - loss: 0.6666 - accuracy: 0.60 - ETA: 0s - loss: 5.6756 - accuracy: 0.60 - 0s 16ms/step - loss: 5.3914 - accuracy: 0.6114 - val_loss: 0.6567 - val_accuracy: 0.6387\n",
      "Epoch 68/1000\n",
      "23/23 [==============================] - ETA: 0s - loss: 0.7153 - accuracy: 0.50 - ETA: 0s - loss: 0.6642 - accuracy: 0.61 - ETA: 0s - loss: 0.6665 - accuracy: 0.60 - 0s 12ms/step - loss: 0.6640 - accuracy: 0.6128 - val_loss: 0.6567 - val_accuracy: 0.6387\n",
      "Epoch 69/1000\n",
      "23/23 [==============================] - ETA: 0s - loss: 0.7154 - accuracy: 0.50 - ETA: 0s - loss: 0.6782 - accuracy: 0.61 - ETA: 0s - loss: 1.1439 - accuracy: 0.60 - 0s 11ms/step - loss: 12.1190 - accuracy: 0.6128 - val_loss: 0.6566 - val_accuracy: 0.6387\n",
      "Epoch 70/1000\n",
      "23/23 [==============================] - ETA: 0s - loss: 28.3560 - accuracy: 0.500 - ETA: 0s - loss: 3.4247 - accuracy: 0.621 - ETA: 0s - loss: 2.8007 - accuracy: 0.61 - ETA: 0s - loss: 2.2990 - accuracy: 0.60 - ETA: 0s - loss: 2.2095 - accuracy: 0.60 - ETA: 0s - loss: 1.9885 - accuracy: 0.60 - 0s 21ms/step - loss: 1.8732 - accuracy: 0.6101 - val_loss: 0.6565 - val_accuracy: 0.6387\n",
      "Epoch 71/1000\n",
      "23/23 [==============================] - ETA: 0s - loss: 0.7158 - accuracy: 0.50 - ETA: 0s - loss: 0.6739 - accuracy: 0.61 - ETA: 0s - loss: 0.6742 - accuracy: 0.60 - 0s 12ms/step - loss: 0.6727 - accuracy: 0.6101 - val_loss: 0.6565 - val_accuracy: 0.6387\n",
      "Epoch 72/1000\n",
      "23/23 [==============================] - ETA: 0s - loss: 0.7159 - accuracy: 0.50 - ETA: 0s - loss: 15.4001 - accuracy: 0.660 - ETA: 0s - loss: 7.6111 - accuracy: 0.608 - 0s 11ms/step - loss: 5.7995 - accuracy: 0.6101 - val_loss: 0.6565 - val_accuracy: 0.6387\n",
      "Epoch 73/1000\n",
      "23/23 [==============================] - ETA: 0s - loss: 0.7160 - accuracy: 0.50 - ETA: 0s - loss: 0.6509 - accuracy: 0.65 - ETA: 0s - loss: 0.6680 - accuracy: 0.61 - ETA: 0s - loss: 0.6686 - accuracy: 0.60 - ETA: 0s - loss: 0.6682 - accuracy: 0.61 - 0s 20ms/step - loss: 0.6679 - accuracy: 0.6114 - val_loss: 0.6564 - val_accuracy: 0.6387\n",
      "Epoch 74/1000\n",
      "23/23 [==============================] - ETA: 0s - loss: 0.7162 - accuracy: 0.50 - ETA: 0s - loss: 0.6449 - accuracy: 0.66 - ETA: 0s - loss: 0.6688 - accuracy: 0.61 - ETA: 0s - loss: 5.1925 - accuracy: 0.61 - 0s 15ms/step - loss: 4.0122 - accuracy: 0.6114 - val_loss: 0.6564 - val_accuracy: 0.6387\n",
      "Epoch 75/1000\n",
      "23/23 [==============================] - ETA: 0s - loss: 0.7163 - accuracy: 0.50 - ETA: 0s - loss: 9.5023 - accuracy: 0.61 - ETA: 0s - loss: 6.9102 - accuracy: 0.60 - 0s 11ms/step - loss: 6.0952 - accuracy: 0.6101 - val_loss: 0.6563 - val_accuracy: 0.6387\n",
      "Epoch 76/1000\n",
      "23/23 [==============================] - ETA: 0s - loss: 0.7164 - accuracy: 0.50 - ETA: 0s - loss: 0.6894 - accuracy: 0.56 - ETA: 0s - loss: 0.6524 - accuracy: 0.64 - ETA: 0s - loss: 0.6685 - accuracy: 0.60 - ETA: 0s - loss: 0.6690 - accuracy: 0.60 - 0s 20ms/step - loss: 4.8739 - accuracy: 0.6101 - val_loss: 0.6563 - val_accuracy: 0.6387\n",
      "Epoch 77/1000\n",
      "23/23 [==============================] - ETA: 0s - loss: 0.7165 - accuracy: 0.50 - ETA: 0s - loss: 26.1314 - accuracy: 0.610 - ETA: 0s - loss: 15.4118 - accuracy: 0.606 - 0s 14ms/step - loss: 12.8462 - accuracy: 0.6114 - val_loss: 0.6563 - val_accuracy: 0.6387\n",
      "Epoch 78/1000\n",
      "23/23 [==============================] - ETA: 0s - loss: 0.7166 - accuracy: 0.50 - ETA: 0s - loss: 0.6394 - accuracy: 0.66 - ETA: 0s - loss: 0.6637 - accuracy: 0.61 - 0s 19ms/step - loss: 0.6684 - accuracy: 0.6128 - val_loss: 0.6562 - val_accuracy: 0.6387\n",
      "Epoch 79/1000\n",
      "23/23 [==============================] - ETA: 0s - loss: 0.7167 - accuracy: 0.50 - ETA: 0s - loss: 8.0155 - accuracy: 0.60 - ETA: 0s - loss: 5.4217 - accuracy: 0.60 - 0s 15ms/step - loss: 4.1806 - accuracy: 0.6101 - val_loss: 0.6562 - val_accuracy: 0.6387\n",
      "Epoch 80/1000\n"
     ]
    },
    {
     "name": "stdout",
     "output_type": "stream",
     "text": [
      "23/23 [==============================] - ETA: 0s - loss: 0.7168 - accuracy: 0.50 - ETA: 0s - loss: 0.6630 - accuracy: 0.61 - ETA: 0s - loss: 0.6684 - accuracy: 0.60 - 0s 12ms/step - loss: 0.6673 - accuracy: 0.6114 - val_loss: 0.6562 - val_accuracy: 0.6387\n",
      "Epoch 81/1000\n",
      "23/23 [==============================] - ETA: 0s - loss: 0.7169 - accuracy: 0.50 - ETA: 0s - loss: 1.6246 - accuracy: 0.61 - 0s 8ms/step - loss: 1.2153 - accuracy: 0.6114 - val_loss: 0.6562 - val_accuracy: 0.6387\n",
      "Epoch 82/1000\n",
      "23/23 [==============================] - ETA: 0s - loss: 0.7170 - accuracy: 0.50 - ETA: 0s - loss: 0.6697 - accuracy: 0.61 - ETA: 0s - loss: 0.6682 - accuracy: 0.61 - ETA: 0s - loss: 0.6695 - accuracy: 0.61 - 0s 17ms/step - loss: 0.6688 - accuracy: 0.6114 - val_loss: 0.6562 - val_accuracy: 0.6387\n",
      "Epoch 83/1000\n",
      "23/23 [==============================] - ETA: 0s - loss: 0.7170 - accuracy: 0.50 - ETA: 0s - loss: 0.6494 - accuracy: 0.64 - ETA: 0s - loss: 0.6680 - accuracy: 0.60 - 0s 12ms/step - loss: 0.6667 - accuracy: 0.6114 - val_loss: 0.6562 - val_accuracy: 0.6387\n",
      "Epoch 84/1000\n",
      "23/23 [==============================] - ETA: 0s - loss: 0.7170 - accuracy: 0.50 - ETA: 0s - loss: 0.6692 - accuracy: 0.60 - 0s 8ms/step - loss: 0.6651 - accuracy: 0.6128 - val_loss: 0.6561 - val_accuracy: 0.6387\n",
      "Epoch 85/1000\n",
      "23/23 [==============================] - ETA: 0s - loss: 0.7171 - accuracy: 0.50 - ETA: 0s - loss: 0.6678 - accuracy: 0.60 - ETA: 0s - loss: 0.6668 - accuracy: 0.61 - 0s 10ms/step - loss: 0.6668 - accuracy: 0.6114 - val_loss: 0.6561 - val_accuracy: 0.6387\n",
      "Epoch 86/1000\n",
      "23/23 [==============================] - ETA: 0s - loss: 0.7172 - accuracy: 0.50 - ETA: 0s - loss: 0.6504 - accuracy: 0.65 - ETA: 0s - loss: 0.6687 - accuracy: 0.61 - ETA: 0s - loss: 0.6691 - accuracy: 0.60 - 0s 16ms/step - loss: 0.6682 - accuracy: 0.6114 - val_loss: 0.6561 - val_accuracy: 0.6387\n",
      "Epoch 87/1000\n",
      "23/23 [==============================] - ETA: 0s - loss: 0.7172 - accuracy: 0.50 - ETA: 0s - loss: 0.6459 - accuracy: 0.64 - ETA: 0s - loss: 0.6628 - accuracy: 0.61 - ETA: 0s - loss: 0.6647 - accuracy: 0.61 - 0s 11ms/step - loss: 0.6647 - accuracy: 0.6128 - val_loss: 0.6561 - val_accuracy: 0.6387\n",
      "Epoch 88/1000\n",
      "23/23 [==============================] - ETA: 0s - loss: 0.7173 - accuracy: 0.50 - ETA: 0s - loss: 0.6710 - accuracy: 0.60 - 0s 8ms/step - loss: 0.6675 - accuracy: 0.6114 - val_loss: 0.6561 - val_accuracy: 0.6387\n",
      "Epoch 89/1000\n",
      "23/23 [==============================] - ETA: 0s - loss: 0.7174 - accuracy: 0.50 - ETA: 0s - loss: 0.6677 - accuracy: 0.61 - 0s 9ms/step - loss: 1.3116 - accuracy: 0.6114 - val_loss: 0.6560 - val_accuracy: 0.6387\n",
      "Epoch 90/1000\n",
      "23/23 [==============================] - ETA: 0s - loss: 0.7154 - accuracy: 0.50 - ETA: 0s - loss: 0.6668 - accuracy: 0.61 - ETA: 0s - loss: 0.6664 - accuracy: 0.61 - 0s 16ms/step - loss: 0.6668 - accuracy: 0.6114 - val_loss: 0.6560 - val_accuracy: 0.6387\n",
      "Epoch 91/1000\n",
      "23/23 [==============================] - ETA: 0s - loss: 0.7174 - accuracy: 0.50 - ETA: 0s - loss: 0.6446 - accuracy: 0.66 - ETA: 0s - loss: 24.6493 - accuracy: 0.608 - 0s 13ms/step - loss: 19.4885 - accuracy: 0.6101 - val_loss: 0.6560 - val_accuracy: 0.6387\n",
      "Epoch 92/1000\n",
      "23/23 [==============================] - ETA: 0s - loss: 0.7175 - accuracy: 0.50 - ETA: 0s - loss: 0.6675 - accuracy: 0.61 - 0s 8ms/step - loss: 0.6690 - accuracy: 0.6087 - val_loss: 0.6560 - val_accuracy: 0.6387\n",
      "Epoch 93/1000\n",
      "23/23 [==============================] - ETA: 0s - loss: 0.7175 - accuracy: 0.50 - ETA: 0s - loss: 1.9881 - accuracy: 0.62 - ETA: 0s - loss: 1.4475 - accuracy: 0.61 - 0s 10ms/step - loss: 1.4139 - accuracy: 0.6168 - val_loss: 0.6560 - val_accuracy: 0.6387\n",
      "Epoch 94/1000\n",
      "23/23 [==============================] - ETA: 0s - loss: 0.7176 - accuracy: 0.50 - ETA: 0s - loss: 18.6001 - accuracy: 0.610 - ETA: 0s - loss: 11.6280 - accuracy: 0.607 - 0s 11ms/step - loss: 9.2441 - accuracy: 0.6114 - val_loss: 0.6560 - val_accuracy: 0.6387\n",
      "Epoch 95/1000\n",
      "23/23 [==============================] - ETA: 0s - loss: 0.7177 - accuracy: 0.50 - ETA: 0s - loss: 7.4001 - accuracy: 0.62 - ETA: 0s - loss: 6.2829 - accuracy: 0.60 - ETA: 0s - loss: 4.6305 - accuracy: 0.61 - ETA: 0s - loss: 4.4115 - accuracy: 0.60 - 0s 20ms/step - loss: 4.2734 - accuracy: 0.6101 - val_loss: 0.6560 - val_accuracy: 0.6387\n",
      "Epoch 96/1000\n",
      "23/23 [==============================] - ETA: 0s - loss: 0.7178 - accuracy: 0.50 - ETA: 0s - loss: 0.6635 - accuracy: 0.62 - ETA: 0s - loss: 0.6764 - accuracy: 0.60 - 0s 10ms/step - loss: 0.6731 - accuracy: 0.6101 - val_loss: 0.6559 - val_accuracy: 0.6387\n",
      "Epoch 97/1000\n",
      "23/23 [==============================] - ETA: 0s - loss: 0.7178 - accuracy: 0.50 - ETA: 0s - loss: 0.6683 - accuracy: 0.61 - ETA: 0s - loss: 0.6746 - accuracy: 0.60 - 0s 9ms/step - loss: 0.6735 - accuracy: 0.6101 - val_loss: 0.6559 - val_accuracy: 0.6387\n",
      "Epoch 98/1000\n",
      "23/23 [==============================] - ETA: 0s - loss: 0.7179 - accuracy: 0.50 - ETA: 0s - loss: 0.6756 - accuracy: 0.60 - 0s 10ms/step - loss: 0.6710 - accuracy: 0.6114 - val_loss: 0.6559 - val_accuracy: 0.6387\n",
      "Epoch 99/1000\n",
      "23/23 [==============================] - ETA: 0s - loss: 0.7753 - accuracy: 0.50 - ETA: 0s - loss: 0.6861 - accuracy: 0.61 - 0s 16ms/step - loss: 9.2022 - accuracy: 0.6087 - val_loss: 0.6559 - val_accuracy: 0.6387\n",
      "Epoch 100/1000\n",
      "23/23 [==============================] - ETA: 0s - loss: 0.7179 - accuracy: 0.50 - ETA: 0s - loss: 0.6635 - accuracy: 0.62 - ETA: 0s - loss: 0.6667 - accuracy: 0.61 - 0s 12ms/step - loss: 0.6664 - accuracy: 0.6114 - val_loss: 0.6559 - val_accuracy: 0.6387\n",
      "Epoch 101/1000\n",
      "23/23 [==============================] - ETA: 0s - loss: 0.7180 - accuracy: 0.50 - ETA: 0s - loss: 0.8033 - accuracy: 0.60 - 0s 8ms/step - loss: 0.7486 - accuracy: 0.6101 - val_loss: 0.6559 - val_accuracy: 0.6387\n",
      "Epoch 102/1000\n",
      "23/23 [==============================] - ETA: 0s - loss: 0.7180 - accuracy: 0.50 - ETA: 0s - loss: 0.6705 - accuracy: 0.60 - ETA: 0s - loss: 0.6700 - accuracy: 0.61 - 0s 10ms/step - loss: 0.6693 - accuracy: 0.6114 - val_loss: 0.6559 - val_accuracy: 0.6387\n",
      "Epoch 103/1000\n",
      "23/23 [==============================] - ETA: 0s - loss: 0.7180 - accuracy: 0.50 - ETA: 0s - loss: 0.6652 - accuracy: 0.61 - 0s 8ms/step - loss: 0.6667 - accuracy: 0.6128 - val_loss: 0.6559 - val_accuracy: 0.6387\n",
      "Epoch 104/1000\n",
      "23/23 [==============================] - ETA: 0s - loss: 0.7180 - accuracy: 0.50 - ETA: 0s - loss: 0.6760 - accuracy: 0.59 - ETA: 0s - loss: 1.7784 - accuracy: 0.60 - ETA: 0s - loss: 1.6067 - accuracy: 0.61 - ETA: 0s - loss: 2.4687 - accuracy: 0.61 - 0s 18ms/step - loss: 2.4687 - accuracy: 0.6128 - val_loss: 0.6559 - val_accuracy: 0.6387\n",
      "Epoch 105/1000\n",
      "23/23 [==============================] - ETA: 0s - loss: 0.7181 - accuracy: 0.50 - ETA: 0s - loss: 0.6706 - accuracy: 0.60 - ETA: 0s - loss: 0.6703 - accuracy: 0.60 - 0s 12ms/step - loss: 0.6679 - accuracy: 0.6114 - val_loss: 0.6559 - val_accuracy: 0.6387\n",
      "Epoch 106/1000\n",
      "23/23 [==============================] - ETA: 0s - loss: 0.7181 - accuracy: 0.50 - ETA: 0s - loss: 0.6679 - accuracy: 0.61 - 0s 8ms/step - loss: 0.6703 - accuracy: 0.6114 - val_loss: 0.6558 - val_accuracy: 0.6387\n",
      "Epoch 107/1000\n",
      "23/23 [==============================] - ETA: 0s - loss: 0.7182 - accuracy: 0.50 - ETA: 0s - loss: 0.6696 - accuracy: 0.60 - ETA: 0s - loss: 0.6684 - accuracy: 0.61 - 0s 10ms/step - loss: 0.6684 - accuracy: 0.6114 - val_loss: 0.6558 - val_accuracy: 0.6387\n",
      "Epoch 108/1000\n",
      "23/23 [==============================] - ETA: 0s - loss: 0.7182 - accuracy: 0.50 - ETA: 0s - loss: 0.6480 - accuracy: 0.65 - ETA: 0s - loss: 0.6500 - accuracy: 0.65 - ETA: 0s - loss: 0.6679 - accuracy: 0.60 - ETA: 0s - loss: 0.6667 - accuracy: 0.61 - 0s 17ms/step - loss: 0.6671 - accuracy: 0.6114 - val_loss: 0.6558 - val_accuracy: 0.6387\n",
      "Epoch 109/1000\n",
      "23/23 [==============================] - ETA: 0s - loss: 944.2415 - accuracy: 0.50 - ETA: 0s - loss: 95.0141 - accuracy: 0.6219 - ETA: 0s - loss: 56.1690 - accuracy: 0.610 - 0s 11ms/step - loss: 41.6901 - accuracy: 0.6114 - val_loss: 0.6558 - val_accuracy: 0.6387\n",
      "Epoch 110/1000\n"
     ]
    },
    {
     "name": "stdout",
     "output_type": "stream",
     "text": [
      "23/23 [==============================] - ETA: 0s - loss: 0.7848 - accuracy: 0.50 - ETA: 0s - loss: 22.8019 - accuracy: 0.608 - 0s 8ms/step - loss: 16.6855 - accuracy: 0.6087 - val_loss: 0.6558 - val_accuracy: 0.6387\n",
      "Epoch 111/1000\n",
      "23/23 [==============================] - ETA: 0s - loss: 0.7182 - accuracy: 0.50 - ETA: 0s - loss: 0.6688 - accuracy: 0.60 - 0s 9ms/step - loss: 0.7317 - accuracy: 0.6114 - val_loss: 0.6558 - val_accuracy: 0.6387\n",
      "Epoch 112/1000\n",
      "23/23 [==============================] - ETA: 0s - loss: 0.7182 - accuracy: 0.50 - ETA: 0s - loss: 4.7546 - accuracy: 0.65 - ETA: 0s - loss: 2.7065 - accuracy: 0.61 - ETA: 0s - loss: 2.2783 - accuracy: 0.60 - ETA: 0s - loss: 2.1927 - accuracy: 0.61 - ETA: 0s - loss: 2.1225 - accuracy: 0.61 - 1s 24ms/step - loss: 2.0596 - accuracy: 0.6128 - val_loss: 0.6559 - val_accuracy: 0.6387\n",
      "Epoch 113/1000\n",
      "23/23 [==============================] - ETA: 0s - loss: 0.7182 - accuracy: 0.50 - ETA: 0s - loss: 0.6493 - accuracy: 0.64 - ETA: 0s - loss: 0.6675 - accuracy: 0.61 - ETA: 0s - loss: 0.6658 - accuracy: 0.61 - 0s 14ms/step - loss: 0.6655 - accuracy: 0.6128 - val_loss: 0.6558 - val_accuracy: 0.6387\n",
      "Epoch 114/1000\n",
      "23/23 [==============================] - ETA: 0s - loss: 0.7182 - accuracy: 0.50 - ETA: 0s - loss: 0.6711 - accuracy: 0.60 - 0s 8ms/step - loss: 0.9367 - accuracy: 0.6114 - val_loss: 0.6558 - val_accuracy: 0.6387\n",
      "Epoch 115/1000\n",
      "23/23 [==============================] - ETA: 0s - loss: 0.7182 - accuracy: 0.50 - ETA: 0s - loss: 0.6674 - accuracy: 0.61 - 0s 9ms/step - loss: 8.9367 - accuracy: 0.6101 - val_loss: 0.6558 - val_accuracy: 0.6387\n",
      "Epoch 116/1000\n",
      "23/23 [==============================] - ETA: 0s - loss: 0.7183 - accuracy: 0.50 - ETA: 0s - loss: 1.8665 - accuracy: 0.61 - ETA: 0s - loss: 1.2706 - accuracy: 0.60 - 0s 17ms/step - loss: 1.1912 - accuracy: 0.6101 - val_loss: 0.6558 - val_accuracy: 0.6387\n",
      "Epoch 117/1000\n",
      "23/23 [==============================] - ETA: 0s - loss: 0.7183 - accuracy: 0.50 - ETA: 0s - loss: 0.6476 - accuracy: 0.64 - ETA: 0s - loss: 0.6634 - accuracy: 0.61 - 0s 13ms/step - loss: 0.6636 - accuracy: 0.6155 - val_loss: 0.6558 - val_accuracy: 0.6387\n",
      "Epoch 118/1000\n",
      "23/23 [==============================] - ETA: 0s - loss: 0.7183 - accuracy: 0.50 - ETA: 0s - loss: 2.2022 - accuracy: 0.61 - 0s 8ms/step - loss: 13.4914 - accuracy: 0.6114 - val_loss: 0.6558 - val_accuracy: 0.6387\n",
      "Epoch 119/1000\n",
      "23/23 [==============================] - ETA: 0s - loss: 0.7183 - accuracy: 0.50 - ETA: 0s - loss: 0.6806 - accuracy: 0.60 - ETA: 0s - loss: 0.6732 - accuracy: 0.61 - 0s 9ms/step - loss: 0.6722 - accuracy: 0.6114 - val_loss: 0.6558 - val_accuracy: 0.6387\n",
      "Epoch 120/1000\n",
      "23/23 [==============================] - ETA: 0s - loss: 0.7183 - accuracy: 0.50 - ETA: 0s - loss: 0.6684 - accuracy: 0.61 - 0s 10ms/step - loss: 0.6693 - accuracy: 0.6114 - val_loss: 0.6558 - val_accuracy: 0.6387\n",
      "Epoch 121/1000\n",
      "23/23 [==============================] - ETA: 0s - loss: 0.7183 - accuracy: 0.50 - ETA: 0s - loss: 2.5301 - accuracy: 0.60 - ETA: 0s - loss: 3.3240 - accuracy: 0.60 - 0s 18ms/step - loss: 2.9768 - accuracy: 0.6101 - val_loss: 0.6558 - val_accuracy: 0.6387\n",
      "Epoch 122/1000\n",
      "23/23 [==============================] - ETA: 0s - loss: 0.7183 - accuracy: 0.50 - ETA: 0s - loss: 0.6684 - accuracy: 0.61 - ETA: 0s - loss: 0.6701 - accuracy: 0.60 - 0s 13ms/step - loss: 0.6674 - accuracy: 0.6114 - val_loss: 0.6558 - val_accuracy: 0.6387\n",
      "Epoch 123/1000\n",
      "23/23 [==============================] - ETA: 0s - loss: 0.7184 - accuracy: 0.50 - ETA: 0s - loss: 2.1370 - accuracy: 0.60 - 0s 8ms/step - loss: 1.6252 - accuracy: 0.6114 - val_loss: 0.6558 - val_accuracy: 0.6387\n",
      "Epoch 124/1000\n",
      "23/23 [==============================] - ETA: 0s - loss: 0.7183 - accuracy: 0.50 - ETA: 0s - loss: 0.6700 - accuracy: 0.60 - ETA: 0s - loss: 0.6703 - accuracy: 0.61 - 0s 10ms/step - loss: 0.6703 - accuracy: 0.6114 - val_loss: 0.6558 - val_accuracy: 0.6387\n",
      "Epoch 125/1000\n",
      "23/23 [==============================] - ETA: 0s - loss: 0.7183 - accuracy: 0.50 - ETA: 0s - loss: 0.6748 - accuracy: 0.60 - ETA: 0s - loss: 0.6720 - accuracy: 0.61 - 0s 17ms/step - loss: 0.6711 - accuracy: 0.6114 - val_loss: 0.6558 - val_accuracy: 0.6387\n",
      "Epoch 126/1000\n",
      "23/23 [==============================] - ETA: 0s - loss: 0.7183 - accuracy: 0.50 - ETA: 0s - loss: 0.6492 - accuracy: 0.64 - ETA: 0s - loss: 0.6675 - accuracy: 0.60 - 0s 14ms/step - loss: 0.6668 - accuracy: 0.6114 - val_loss: 0.6558 - val_accuracy: 0.6387\n",
      "Epoch 127/1000\n",
      "23/23 [==============================] - ETA: 0s - loss: 0.7183 - accuracy: 0.50 - ETA: 0s - loss: 0.6665 - accuracy: 0.60 - ETA: 0s - loss: 0.6699 - accuracy: 0.61 - 0s 9ms/step - loss: 0.6702 - accuracy: 0.6114 - val_loss: 0.6558 - val_accuracy: 0.6387\n",
      "Epoch 128/1000\n",
      "23/23 [==============================] - ETA: 0s - loss: 0.7183 - accuracy: 0.50 - ETA: 0s - loss: 0.6666 - accuracy: 0.61 - ETA: 0s - loss: 0.6664 - accuracy: 0.61 - 0s 11ms/step - loss: 0.6669 - accuracy: 0.6128 - val_loss: 0.6558 - val_accuracy: 0.6387\n",
      "Epoch 129/1000\n",
      "23/23 [==============================] - ETA: 0s - loss: 0.7183 - accuracy: 0.50 - ETA: 0s - loss: 3.5135 - accuracy: 0.60 - ETA: 0s - loss: 2.8006 - accuracy: 0.61 - ETA: 0s - loss: 3.5971 - accuracy: 0.60 - 0s 19ms/step - loss: 3.0861 - accuracy: 0.6114 - val_loss: 0.6558 - val_accuracy: 0.6387\n",
      "Epoch 130/1000\n",
      "23/23 [==============================] - ETA: 0s - loss: 0.7183 - accuracy: 0.50 - ETA: 0s - loss: 0.6491 - accuracy: 0.64 - ETA: 0s - loss: 0.6694 - accuracy: 0.60 - ETA: 0s - loss: 0.6680 - accuracy: 0.61 - 0s 14ms/step - loss: 0.6675 - accuracy: 0.6114 - val_loss: 0.6558 - val_accuracy: 0.6387\n",
      "Epoch 131/1000\n",
      "23/23 [==============================] - ETA: 0s - loss: 0.7182 - accuracy: 0.50 - ETA: 0s - loss: 0.6663 - accuracy: 0.61 - 0s 9ms/step - loss: 1.7433 - accuracy: 0.6114 - val_loss: 0.6558 - val_accuracy: 0.6387\n",
      "Epoch 132/1000\n",
      "23/23 [==============================] - ETA: 0s - loss: 0.7182 - accuracy: 0.50 - ETA: 0s - loss: 0.6674 - accuracy: 0.61 - ETA: 0s - loss: 0.6681 - accuracy: 0.61 - 0s 10ms/step - loss: 0.6681 - accuracy: 0.6114 - val_loss: 0.6558 - val_accuracy: 0.6387\n"
     ]
    },
    {
     "data": {
      "text/html": [
       "<span style=\"color:#4527A0\"><h1 style=\"font-size:18px\">Trial complete</h1></span>"
      ],
      "text/plain": [
       "<IPython.core.display.HTML object>"
      ]
     },
     "metadata": {},
     "output_type": "display_data"
    },
    {
     "data": {
      "text/html": [
       "<span style=\"color:#4527A0\"><h1 style=\"font-size:18px\">Trial summary</h1></span>"
      ],
      "text/plain": [
       "<IPython.core.display.HTML object>"
      ]
     },
     "metadata": {},
     "output_type": "display_data"
    },
    {
     "data": {
      "text/html": [
       "<span style=\"color:cyan\"> |-Trial ID: e2d212e9c2417dad2235b18d620afc9f</span>"
      ],
      "text/plain": [
       "<IPython.core.display.HTML object>"
      ]
     },
     "metadata": {},
     "output_type": "display_data"
    },
    {
     "data": {
      "text/html": [
       "<span style=\"color:cyan\"> |-Score: 0.6387096643447876</span>"
      ],
      "text/plain": [
       "<IPython.core.display.HTML object>"
      ]
     },
     "metadata": {},
     "output_type": "display_data"
    },
    {
     "data": {
      "text/html": [
       "<span style=\"color:cyan\"> |-Best step: 0</span>"
      ],
      "text/plain": [
       "<IPython.core.display.HTML object>"
      ]
     },
     "metadata": {},
     "output_type": "display_data"
    },
    {
     "data": {
      "text/html": [
       "<span style=\"color:#7E57C2\"><h2 style=\"font-size:16px\">Hyperparameters:</h2></span>"
      ],
      "text/plain": [
       "<IPython.core.display.HTML object>"
      ]
     },
     "metadata": {},
     "output_type": "display_data"
    },
    {
     "data": {
      "text/html": [
       "<span style=\"color:cyan\"> |-classification_head_2/dropout: 0</span>"
      ],
      "text/plain": [
       "<IPython.core.display.HTML object>"
      ]
     },
     "metadata": {},
     "output_type": "display_data"
    },
    {
     "data": {
      "text/html": [
       "<span style=\"color:blue\"> |-learning_rate: 0.001</span>"
      ],
      "text/plain": [
       "<IPython.core.display.HTML object>"
      ]
     },
     "metadata": {},
     "output_type": "display_data"
    },
    {
     "data": {
      "text/html": [
       "<span style=\"color:cyan\"> |-optimizer: adam</span>"
      ],
      "text/plain": [
       "<IPython.core.display.HTML object>"
      ]
     },
     "metadata": {},
     "output_type": "display_data"
    },
    {
     "data": {
      "text/html": [
       "<span style=\"color:blue\"> |-structured_data_block_2/dense_block_1/dropout: 0.5</span>"
      ],
      "text/plain": [
       "<IPython.core.display.HTML object>"
      ]
     },
     "metadata": {},
     "output_type": "display_data"
    },
    {
     "data": {
      "text/html": [
       "<span style=\"color:cyan\"> |-structured_data_block_2/dense_block_1/num_layers: 3</span>"
      ],
      "text/plain": [
       "<IPython.core.display.HTML object>"
      ]
     },
     "metadata": {},
     "output_type": "display_data"
    },
    {
     "data": {
      "text/html": [
       "<span style=\"color:blue\"> |-structured_data_block_2/dense_block_1/units_0: 512</span>"
      ],
      "text/plain": [
       "<IPython.core.display.HTML object>"
      ]
     },
     "metadata": {},
     "output_type": "display_data"
    },
    {
     "data": {
      "text/html": [
       "<span style=\"color:cyan\"> |-structured_data_block_2/dense_block_1/units_1: 128</span>"
      ],
      "text/plain": [
       "<IPython.core.display.HTML object>"
      ]
     },
     "metadata": {},
     "output_type": "display_data"
    },
    {
     "data": {
      "text/html": [
       "<span style=\"color:blue\"> |-structured_data_block_2/dense_block_1/units_2: 16</span>"
      ],
      "text/plain": [
       "<IPython.core.display.HTML object>"
      ]
     },
     "metadata": {},
     "output_type": "display_data"
    },
    {
     "data": {
      "text/html": [
       "<span style=\"color:cyan\"> |-structured_data_block_2/dense_block_1/use_batchnorm: False</span>"
      ],
      "text/plain": [
       "<IPython.core.display.HTML object>"
      ]
     },
     "metadata": {},
     "output_type": "display_data"
    },
    {
     "data": {
      "text/html": [
       "<span style=\"color:#4527A0\"><h1 style=\"font-size:18px\">Starting new trial</h1></span>"
      ],
      "text/plain": [
       "<IPython.core.display.HTML object>"
      ]
     },
     "metadata": {},
     "output_type": "display_data"
    },
    {
     "name": "stdout",
     "output_type": "stream",
     "text": [
      "Epoch 1/1000\n",
      "23/23 [==============================] - ETA: 0s - loss: 0.7206 - accuracy: 0.56 - ETA: 0s - loss: 0.7518 - accuracy: 0.54 - ETA: 0s - loss: 0.7136 - accuracy: 0.59 - 1s 34ms/step - loss: 0.7061 - accuracy: 0.5978 - val_loss: 0.6744 - val_accuracy: 0.6903\n",
      "Epoch 2/1000\n",
      "23/23 [==============================] - ETA: 0s - loss: 0.8605 - accuracy: 0.56 - ETA: 0s - loss: 0.7288 - accuracy: 0.63 - ETA: 0s - loss: 0.6946 - accuracy: 0.64 - 0s 9ms/step - loss: 0.6946 - accuracy: 0.6467 - val_loss: 0.6774 - val_accuracy: 0.6968\n",
      "Epoch 3/1000\n",
      "23/23 [==============================] - ETA: 0s - loss: 0.8092 - accuracy: 0.43 - ETA: 0s - loss: 0.7170 - accuracy: 0.57 - ETA: 0s - loss: 0.6870 - accuracy: 0.59 - 0s 10ms/step - loss: 0.6870 - accuracy: 0.5938 - val_loss: 0.6635 - val_accuracy: 0.6968\n",
      "Epoch 4/1000\n",
      "23/23 [==============================] - ETA: 0s - loss: 0.7300 - accuracy: 0.56 - ETA: 0s - loss: 0.6870 - accuracy: 0.63 - ETA: 0s - loss: 0.6726 - accuracy: 0.64 - 0s 10ms/step - loss: 0.6717 - accuracy: 0.6481 - val_loss: 0.6392 - val_accuracy: 0.7226\n",
      "Epoch 5/1000\n",
      "23/23 [==============================] - ETA: 0s - loss: 0.7274 - accuracy: 0.59 - ETA: 0s - loss: 0.7236 - accuracy: 0.59 - ETA: 0s - loss: 0.6890 - accuracy: 0.62 - 0s 10ms/step - loss: 0.6781 - accuracy: 0.6291 - val_loss: 0.6258 - val_accuracy: 0.7097\n",
      "Epoch 6/1000\n",
      "23/23 [==============================] - ETA: 0s - loss: 0.7340 - accuracy: 0.53 - ETA: 0s - loss: 0.6987 - accuracy: 0.61 - ETA: 0s - loss: 0.6719 - accuracy: 0.62 - 0s 10ms/step - loss: 0.6686 - accuracy: 0.6318 - val_loss: 0.6157 - val_accuracy: 0.6258\n",
      "Epoch 7/1000\n",
      "23/23 [==============================] - ETA: 0s - loss: 0.7396 - accuracy: 0.53 - ETA: 0s - loss: 0.7107 - accuracy: 0.59 - ETA: 0s - loss: 0.6737 - accuracy: 0.61 - 0s 11ms/step - loss: 0.6732 - accuracy: 0.6196 - val_loss: 0.6433 - val_accuracy: 0.7097\n",
      "Epoch 8/1000\n",
      "23/23 [==============================] - ETA: 0s - loss: 0.7722 - accuracy: 0.53 - ETA: 0s - loss: 0.6742 - accuracy: 0.62 - ETA: 0s - loss: 0.6682 - accuracy: 0.62 - ETA: 0s - loss: 0.6601 - accuracy: 0.62 - ETA: 0s - loss: 0.6544 - accuracy: 0.62 - 0s 19ms/step - loss: 0.6527 - accuracy: 0.6413 - val_loss: 0.6100 - val_accuracy: 0.7161\n",
      "Epoch 9/1000\n",
      "23/23 [==============================] - ETA: 0s - loss: 0.6884 - accuracy: 0.56 - ETA: 0s - loss: 0.6796 - accuracy: 0.61 - ETA: 0s - loss: 0.6766 - accuracy: 0.60 - 0s 12ms/step - loss: 0.6608 - accuracy: 0.6277 - val_loss: 0.6040 - val_accuracy: 0.7355\n",
      "Epoch 10/1000\n",
      "23/23 [==============================] - ETA: 0s - loss: 0.6580 - accuracy: 0.56 - ETA: 0s - loss: 0.6934 - accuracy: 0.59 - ETA: 0s - loss: 0.6596 - accuracy: 0.61 - 0s 12ms/step - loss: 0.6526 - accuracy: 0.6236 - val_loss: 0.6107 - val_accuracy: 0.7290\n",
      "Epoch 11/1000\n",
      "23/23 [==============================] - ETA: 0s - loss: 0.7307 - accuracy: 0.53 - ETA: 0s - loss: 0.6789 - accuracy: 0.61 - ETA: 0s - loss: 0.6712 - accuracy: 0.60 - ETA: 0s - loss: 0.6526 - accuracy: 0.63 - 0s 15ms/step - loss: 0.6526 - accuracy: 0.6318 - val_loss: 0.6006 - val_accuracy: 0.7226\n",
      "Epoch 12/1000\n",
      "23/23 [==============================] - ETA: 0s - loss: 0.7867 - accuracy: 0.62 - ETA: 0s - loss: 0.7044 - accuracy: 0.60 - ETA: 0s - loss: 0.6893 - accuracy: 0.61 - 0s 12ms/step - loss: 0.6706 - accuracy: 0.6372 - val_loss: 0.5991 - val_accuracy: 0.7161\n",
      "Epoch 13/1000\n",
      "23/23 [==============================] - ETA: 0s - loss: 0.6677 - accuracy: 0.62 - ETA: 0s - loss: 0.6727 - accuracy: 0.62 - ETA: 0s - loss: 0.6612 - accuracy: 0.63 - 0s 13ms/step - loss: 0.6389 - accuracy: 0.6630 - val_loss: 0.6067 - val_accuracy: 0.7226\n",
      "Epoch 14/1000\n",
      "23/23 [==============================] - ETA: 0s - loss: 0.8483 - accuracy: 0.56 - ETA: 0s - loss: 0.6929 - accuracy: 0.58 - ETA: 0s - loss: 0.6676 - accuracy: 0.59 - ETA: 0s - loss: 0.6661 - accuracy: 0.59 - 0s 16ms/step - loss: 0.6531 - accuracy: 0.6182 - val_loss: 0.5987 - val_accuracy: 0.7355\n",
      "Epoch 15/1000\n",
      "23/23 [==============================] - ETA: 0s - loss: 0.7743 - accuracy: 0.53 - ETA: 0s - loss: 0.6639 - accuracy: 0.64 - ETA: 0s - loss: 0.6615 - accuracy: 0.63 - 0s 12ms/step - loss: 0.6499 - accuracy: 0.6522 - val_loss: 0.6014 - val_accuracy: 0.7161\n",
      "Epoch 16/1000\n",
      "23/23 [==============================] - ETA: 0s - loss: 0.7850 - accuracy: 0.62 - ETA: 0s - loss: 0.6667 - accuracy: 0.60 - ETA: 0s - loss: 0.6495 - accuracy: 0.62 - 0s 13ms/step - loss: 0.6423 - accuracy: 0.6318 - val_loss: 0.5919 - val_accuracy: 0.7226\n",
      "Epoch 17/1000\n",
      "23/23 [==============================] - ETA: 0s - loss: 0.7803 - accuracy: 0.46 - ETA: 0s - loss: 0.7293 - accuracy: 0.55 - ETA: 0s - loss: 0.6555 - accuracy: 0.63 - ETA: 0s - loss: 0.6418 - accuracy: 0.64 - 0s 15ms/step - loss: 0.6280 - accuracy: 0.6576 - val_loss: 0.5906 - val_accuracy: 0.7226\n",
      "Epoch 18/1000\n",
      "23/23 [==============================] - ETA: 0s - loss: 0.8493 - accuracy: 0.53 - ETA: 0s - loss: 0.6797 - accuracy: 0.61 - ETA: 0s - loss: 0.6484 - accuracy: 0.64 - 0s 12ms/step - loss: 0.6436 - accuracy: 0.6399 - val_loss: 0.5962 - val_accuracy: 0.7355\n",
      "Epoch 19/1000\n",
      "23/23 [==============================] - ETA: 0s - loss: 0.7039 - accuracy: 0.53 - ETA: 0s - loss: 0.6650 - accuracy: 0.63 - ETA: 0s - loss: 0.6599 - accuracy: 0.63 - ETA: 0s - loss: 0.6423 - accuracy: 0.65 - 0s 14ms/step - loss: 0.6423 - accuracy: 0.6522 - val_loss: 0.5998 - val_accuracy: 0.7226\n",
      "Epoch 20/1000\n",
      "23/23 [==============================] - ETA: 0s - loss: 0.6614 - accuracy: 0.65 - ETA: 0s - loss: 0.6553 - accuracy: 0.66 - ETA: 0s - loss: 0.6490 - accuracy: 0.65 - 0s 11ms/step - loss: 0.6430 - accuracy: 0.6590 - val_loss: 0.6083 - val_accuracy: 0.7419\n",
      "Epoch 21/1000\n",
      "23/23 [==============================] - ETA: 0s - loss: 0.6494 - accuracy: 0.56 - ETA: 0s - loss: 0.6481 - accuracy: 0.63 - ETA: 0s - loss: 0.6376 - accuracy: 0.64 - 0s 11ms/step - loss: 0.6332 - accuracy: 0.6522 - val_loss: 0.6020 - val_accuracy: 0.7419\n",
      "Epoch 22/1000\n",
      "23/23 [==============================] - ETA: 0s - loss: 0.5872 - accuracy: 0.71 - ETA: 0s - loss: 0.6424 - accuracy: 0.64 - ETA: 0s - loss: 0.6384 - accuracy: 0.64 - 0s 18ms/step - loss: 0.6323 - accuracy: 0.6467 - val_loss: 0.5892 - val_accuracy: 0.7290\n",
      "Epoch 23/1000\n",
      "23/23 [==============================] - ETA: 0s - loss: 0.7546 - accuracy: 0.59 - ETA: 0s - loss: 0.6586 - accuracy: 0.63 - ETA: 0s - loss: 0.6493 - accuracy: 0.65 - 0s 13ms/step - loss: 0.6398 - accuracy: 0.6617 - val_loss: 0.6011 - val_accuracy: 0.7419\n",
      "Epoch 24/1000\n",
      "23/23 [==============================] - ETA: 0s - loss: 0.6590 - accuracy: 0.56 - ETA: 0s - loss: 0.6566 - accuracy: 0.63 - ETA: 0s - loss: 0.6359 - accuracy: 0.65 - 0s 12ms/step - loss: 0.6300 - accuracy: 0.6590 - val_loss: 0.5991 - val_accuracy: 0.7355\n",
      "Epoch 25/1000\n",
      "23/23 [==============================] - ETA: 0s - loss: 0.6971 - accuracy: 0.56 - ETA: 0s - loss: 0.6463 - accuracy: 0.64 - ETA: 0s - loss: 0.6473 - accuracy: 0.64 - ETA: 0s - loss: 0.6359 - accuracy: 0.65 - 0s 19ms/step - loss: 0.6286 - accuracy: 0.6590 - val_loss: 0.5954 - val_accuracy: 0.7290\n",
      "Epoch 26/1000\n",
      "23/23 [==============================] - ETA: 0s - loss: 0.7917 - accuracy: 0.50 - ETA: 0s - loss: 0.6683 - accuracy: 0.62 - ETA: 0s - loss: 0.6596 - accuracy: 0.63 - 0s 14ms/step - loss: 0.6530 - accuracy: 0.6386 - val_loss: 0.6067 - val_accuracy: 0.7419\n",
      "Epoch 27/1000\n",
      "23/23 [==============================] - ETA: 0s - loss: 0.6749 - accuracy: 0.59 - ETA: 0s - loss: 0.6602 - accuracy: 0.62 - ETA: 0s - loss: 0.6539 - accuracy: 0.63 - ETA: 0s - loss: 0.6355 - accuracy: 0.65 - 0s 16ms/step - loss: 0.6330 - accuracy: 0.6603 - val_loss: 0.6115 - val_accuracy: 0.7290\n",
      "Epoch 28/1000\n",
      "23/23 [==============================] - ETA: 0s - loss: 0.7351 - accuracy: 0.53 - ETA: 0s - loss: 0.6911 - accuracy: 0.59 - ETA: 0s - loss: 0.6544 - accuracy: 0.62 - 0s 16ms/step - loss: 0.6475 - accuracy: 0.6359 - val_loss: 0.5957 - val_accuracy: 0.7355\n",
      "Epoch 29/1000\n",
      "23/23 [==============================] - ETA: 0s - loss: 0.6773 - accuracy: 0.59 - ETA: 0s - loss: 0.6563 - accuracy: 0.65 - ETA: 0s - loss: 0.6422 - accuracy: 0.65 - 0s 13ms/step - loss: 0.6374 - accuracy: 0.6671 - val_loss: 0.5915 - val_accuracy: 0.7419\n",
      "Epoch 30/1000\n"
     ]
    },
    {
     "name": "stdout",
     "output_type": "stream",
     "text": [
      "23/23 [==============================] - ETA: 0s - loss: 0.7154 - accuracy: 0.56 - ETA: 0s - loss: 0.6485 - accuracy: 0.62 - ETA: 0s - loss: 0.6258 - accuracy: 0.65 - 0s 12ms/step - loss: 0.6236 - accuracy: 0.6495 - val_loss: 0.5911 - val_accuracy: 0.7355\n",
      "Epoch 31/1000\n",
      "23/23 [==============================] - ETA: 0s - loss: 0.6859 - accuracy: 0.59 - ETA: 0s - loss: 0.6364 - accuracy: 0.64 - ETA: 0s - loss: 0.6300 - accuracy: 0.65 - 0s 12ms/step - loss: 0.6266 - accuracy: 0.6617 - val_loss: 0.5951 - val_accuracy: 0.7419\n",
      "Epoch 32/1000\n",
      "23/23 [==============================] - ETA: 0s - loss: 0.7570 - accuracy: 0.53 - ETA: 0s - loss: 0.6614 - accuracy: 0.63 - ETA: 0s - loss: 0.6622 - accuracy: 0.63 - ETA: 0s - loss: 0.6598 - accuracy: 0.63 - ETA: 0s - loss: 0.6511 - accuracy: 0.63 - 0s 21ms/step - loss: 0.6379 - accuracy: 0.6495 - val_loss: 0.5892 - val_accuracy: 0.7419\n",
      "Epoch 33/1000\n",
      "23/23 [==============================] - ETA: 0s - loss: 0.6711 - accuracy: 0.59 - ETA: 0s - loss: 0.6612 - accuracy: 0.63 - ETA: 0s - loss: 0.6470 - accuracy: 0.64 - 0s 12ms/step - loss: 0.6411 - accuracy: 0.6481 - val_loss: 0.5926 - val_accuracy: 0.7226\n",
      "Epoch 34/1000\n",
      "23/23 [==============================] - ETA: 0s - loss: 0.7774 - accuracy: 0.43 - ETA: 0s - loss: 0.6491 - accuracy: 0.62 - ETA: 0s - loss: 0.6362 - accuracy: 0.64 - 0s 11ms/step - loss: 0.6261 - accuracy: 0.6495 - val_loss: 0.5959 - val_accuracy: 0.7226\n",
      "Epoch 35/1000\n",
      "23/23 [==============================] - ETA: 0s - loss: 0.7602 - accuracy: 0.56 - ETA: 0s - loss: 0.6590 - accuracy: 0.64 - ETA: 0s - loss: 0.6332 - accuracy: 0.66 - 0s 15ms/step - loss: 0.6308 - accuracy: 0.6644 - val_loss: 0.5938 - val_accuracy: 0.7290\n",
      "Epoch 36/1000\n",
      "23/23 [==============================] - ETA: 0s - loss: 0.6606 - accuracy: 0.59 - ETA: 0s - loss: 0.6370 - accuracy: 0.64 - ETA: 0s - loss: 0.6283 - accuracy: 0.64 - 0s 12ms/step - loss: 0.6195 - accuracy: 0.6522 - val_loss: 0.5882 - val_accuracy: 0.7355\n",
      "Epoch 37/1000\n",
      "23/23 [==============================] - ETA: 0s - loss: 0.7336 - accuracy: 0.46 - ETA: 0s - loss: 0.6488 - accuracy: 0.63 - ETA: 0s - loss: 0.6237 - accuracy: 0.65 - 0s 12ms/step - loss: 0.6188 - accuracy: 0.6658 - val_loss: 0.6063 - val_accuracy: 0.7161\n",
      "Epoch 38/1000\n",
      "23/23 [==============================] - ETA: 0s - loss: 0.7470 - accuracy: 0.59 - ETA: 0s - loss: 0.6536 - accuracy: 0.63 - ETA: 0s - loss: 0.6313 - accuracy: 0.65 - 0s 15ms/step - loss: 0.6290 - accuracy: 0.6522 - val_loss: 0.5946 - val_accuracy: 0.7355\n",
      "Epoch 39/1000\n",
      "23/23 [==============================] - ETA: 0s - loss: 0.7030 - accuracy: 0.59 - ETA: 0s - loss: 0.6406 - accuracy: 0.64 - ETA: 0s - loss: 0.6185 - accuracy: 0.65 - 0s 12ms/step - loss: 0.6182 - accuracy: 0.6535 - val_loss: 0.6032 - val_accuracy: 0.7355\n",
      "Epoch 40/1000\n",
      "23/23 [==============================] - ETA: 0s - loss: 0.7075 - accuracy: 0.59 - ETA: 0s - loss: 0.6436 - accuracy: 0.63 - ETA: 0s - loss: 0.6269 - accuracy: 0.65 - 0s 12ms/step - loss: 0.6254 - accuracy: 0.6549 - val_loss: 0.5911 - val_accuracy: 0.7290\n",
      "Epoch 41/1000\n",
      "23/23 [==============================] - ETA: 0s - loss: 0.7273 - accuracy: 0.53 - ETA: 0s - loss: 0.6470 - accuracy: 0.65 - ETA: 0s - loss: 0.6314 - accuracy: 0.66 - 0s 11ms/step - loss: 0.6289 - accuracy: 0.6617 - val_loss: 0.5916 - val_accuracy: 0.7290\n",
      "Epoch 42/1000\n",
      "23/23 [==============================] - ETA: 0s - loss: 0.6509 - accuracy: 0.56 - ETA: 0s - loss: 0.6497 - accuracy: 0.64 - ETA: 0s - loss: 0.6484 - accuracy: 0.64 - ETA: 0s - loss: 0.6448 - accuracy: 0.64 - 0s 17ms/step - loss: 0.6188 - accuracy: 0.6793 - val_loss: 0.5920 - val_accuracy: 0.7290\n",
      "Epoch 43/1000\n",
      "23/23 [==============================] - ETA: 0s - loss: 0.7192 - accuracy: 0.56 - ETA: 0s - loss: 0.6512 - accuracy: 0.65 - ETA: 0s - loss: 0.6354 - accuracy: 0.66 - 0s 14ms/step - loss: 0.6295 - accuracy: 0.6685 - val_loss: 0.5974 - val_accuracy: 0.7290\n",
      "Epoch 44/1000\n",
      "23/23 [==============================] - ETA: 0s - loss: 0.7096 - accuracy: 0.59 - ETA: 0s - loss: 0.6283 - accuracy: 0.65 - ETA: 0s - loss: 0.6239 - accuracy: 0.65 - 0s 11ms/step - loss: 0.6219 - accuracy: 0.6590 - val_loss: 0.5893 - val_accuracy: 0.7290\n",
      "Epoch 45/1000\n",
      "23/23 [==============================] - ETA: 0s - loss: 0.7037 - accuracy: 0.59 - ETA: 0s - loss: 0.6343 - accuracy: 0.65 - ETA: 0s - loss: 0.6206 - accuracy: 0.65 - ETA: 0s - loss: 0.6110 - accuracy: 0.66 - 0s 18ms/step - loss: 0.6110 - accuracy: 0.6658 - val_loss: 0.5870 - val_accuracy: 0.7226\n",
      "Epoch 46/1000\n",
      "23/23 [==============================] - ETA: 0s - loss: 0.7133 - accuracy: 0.56 - ETA: 0s - loss: 0.6521 - accuracy: 0.64 - ETA: 0s - loss: 0.6351 - accuracy: 0.65 - 0s 14ms/step - loss: 0.6255 - accuracy: 0.6712 - val_loss: 0.5943 - val_accuracy: 0.7290\n",
      "Epoch 47/1000\n",
      "23/23 [==============================] - ETA: 0s - loss: 0.7122 - accuracy: 0.56 - ETA: 0s - loss: 0.6397 - accuracy: 0.63 - ETA: 0s - loss: 0.6257 - accuracy: 0.63 - 0s 12ms/step - loss: 0.6231 - accuracy: 0.6413 - val_loss: 0.5943 - val_accuracy: 0.7290\n",
      "Epoch 48/1000\n",
      "23/23 [==============================] - ETA: 0s - loss: 0.7890 - accuracy: 0.56 - ETA: 0s - loss: 0.6727 - accuracy: 0.62 - ETA: 0s - loss: 0.6394 - accuracy: 0.65 - 0s 10ms/step - loss: 0.6373 - accuracy: 0.6522 - val_loss: 0.5926 - val_accuracy: 0.7161\n",
      "Epoch 49/1000\n",
      "23/23 [==============================] - ETA: 0s - loss: 0.6451 - accuracy: 0.62 - ETA: 0s - loss: 0.6584 - accuracy: 0.62 - ETA: 0s - loss: 0.6306 - accuracy: 0.64 - ETA: 0s - loss: 0.6345 - accuracy: 0.64 - 0s 17ms/step - loss: 0.6144 - accuracy: 0.6671 - val_loss: 0.5968 - val_accuracy: 0.7161\n",
      "Epoch 50/1000\n",
      "23/23 [==============================] - ETA: 0s - loss: 0.6685 - accuracy: 0.50 - ETA: 0s - loss: 0.6329 - accuracy: 0.63 - ETA: 0s - loss: 0.6271 - accuracy: 0.64 - 0s 12ms/step - loss: 0.6185 - accuracy: 0.6562 - val_loss: 0.5972 - val_accuracy: 0.7226\n",
      "Epoch 51/1000\n",
      "23/23 [==============================] - ETA: 0s - loss: 0.6974 - accuracy: 0.53 - ETA: 0s - loss: 0.6380 - accuracy: 0.63 - 0s 8ms/step - loss: 0.6229 - accuracy: 0.6481 - val_loss: 0.6008 - val_accuracy: 0.7161\n",
      "Epoch 52/1000\n",
      "23/23 [==============================] - ETA: 0s - loss: 0.7079 - accuracy: 0.59 - ETA: 0s - loss: 0.6587 - accuracy: 0.64 - ETA: 0s - loss: 0.6360 - accuracy: 0.66 - ETA: 0s - loss: 0.6328 - accuracy: 0.66 - 0s 17ms/step - loss: 0.6308 - accuracy: 0.6630 - val_loss: 0.5905 - val_accuracy: 0.7290\n",
      "Epoch 53/1000\n",
      "23/23 [==============================] - ETA: 0s - loss: 0.7766 - accuracy: 0.50 - ETA: 0s - loss: 0.6498 - accuracy: 0.64 - ETA: 0s - loss: 0.6504 - accuracy: 0.63 - 0s 13ms/step - loss: 0.6367 - accuracy: 0.6535 - val_loss: 0.5945 - val_accuracy: 0.7161\n",
      "Epoch 54/1000\n",
      "23/23 [==============================] - ETA: 0s - loss: 0.7154 - accuracy: 0.56 - ETA: 0s - loss: 0.6319 - accuracy: 0.64 - ETA: 0s - loss: 0.6239 - accuracy: 0.66 - 0s 9ms/step - loss: 0.6208 - accuracy: 0.6617 - val_loss: 0.5920 - val_accuracy: 0.7290\n",
      "Epoch 55/1000\n",
      "23/23 [==============================] - ETA: 0s - loss: 0.7114 - accuracy: 0.59 - ETA: 0s - loss: 0.6234 - accuracy: 0.66 - ETA: 0s - loss: 0.6157 - accuracy: 0.66 - 0s 10ms/step - loss: 0.6136 - accuracy: 0.6603 - val_loss: 0.5941 - val_accuracy: 0.7161\n"
     ]
    },
    {
     "data": {
      "text/html": [
       "<span style=\"color:#4527A0\"><h1 style=\"font-size:18px\">Trial complete</h1></span>"
      ],
      "text/plain": [
       "<IPython.core.display.HTML object>"
      ]
     },
     "metadata": {},
     "output_type": "display_data"
    },
    {
     "data": {
      "text/html": [
       "<span style=\"color:#4527A0\"><h1 style=\"font-size:18px\">Trial summary</h1></span>"
      ],
      "text/plain": [
       "<IPython.core.display.HTML object>"
      ]
     },
     "metadata": {},
     "output_type": "display_data"
    },
    {
     "data": {
      "text/html": [
       "<span style=\"color:cyan\"> |-Trial ID: 7de6303a0bcf7823e0abb8d890f37f92</span>"
      ],
      "text/plain": [
       "<IPython.core.display.HTML object>"
      ]
     },
     "metadata": {},
     "output_type": "display_data"
    },
    {
     "data": {
      "text/html": [
       "<span style=\"color:cyan\"> |-Score: 0.7419354915618896</span>"
      ],
      "text/plain": [
       "<IPython.core.display.HTML object>"
      ]
     },
     "metadata": {},
     "output_type": "display_data"
    },
    {
     "data": {
      "text/html": [
       "<span style=\"color:cyan\"> |-Best step: 19</span>"
      ],
      "text/plain": [
       "<IPython.core.display.HTML object>"
      ]
     },
     "metadata": {},
     "output_type": "display_data"
    },
    {
     "data": {
      "text/html": [
       "<span style=\"color:#7E57C2\"><h2 style=\"font-size:16px\">Hyperparameters:</h2></span>"
      ],
      "text/plain": [
       "<IPython.core.display.HTML object>"
      ]
     },
     "metadata": {},
     "output_type": "display_data"
    },
    {
     "data": {
      "text/html": [
       "<span style=\"color:cyan\"> |-classification_head_2/dropout: 0</span>"
      ],
      "text/plain": [
       "<IPython.core.display.HTML object>"
      ]
     },
     "metadata": {},
     "output_type": "display_data"
    },
    {
     "data": {
      "text/html": [
       "<span style=\"color:blue\"> |-learning_rate: 0.001</span>"
      ],
      "text/plain": [
       "<IPython.core.display.HTML object>"
      ]
     },
     "metadata": {},
     "output_type": "display_data"
    },
    {
     "data": {
      "text/html": [
       "<span style=\"color:cyan\"> |-optimizer: adam</span>"
      ],
      "text/plain": [
       "<IPython.core.display.HTML object>"
      ]
     },
     "metadata": {},
     "output_type": "display_data"
    },
    {
     "data": {
      "text/html": [
       "<span style=\"color:blue\"> |-structured_data_block_2/dense_block_1/dropout: 0.25</span>"
      ],
      "text/plain": [
       "<IPython.core.display.HTML object>"
      ]
     },
     "metadata": {},
     "output_type": "display_data"
    },
    {
     "data": {
      "text/html": [
       "<span style=\"color:cyan\"> |-structured_data_block_2/dense_block_1/num_layers: 2</span>"
      ],
      "text/plain": [
       "<IPython.core.display.HTML object>"
      ]
     },
     "metadata": {},
     "output_type": "display_data"
    },
    {
     "data": {
      "text/html": [
       "<span style=\"color:blue\"> |-structured_data_block_2/dense_block_1/units_0: 128</span>"
      ],
      "text/plain": [
       "<IPython.core.display.HTML object>"
      ]
     },
     "metadata": {},
     "output_type": "display_data"
    },
    {
     "data": {
      "text/html": [
       "<span style=\"color:cyan\"> |-structured_data_block_2/dense_block_1/units_1: 256</span>"
      ],
      "text/plain": [
       "<IPython.core.display.HTML object>"
      ]
     },
     "metadata": {},
     "output_type": "display_data"
    },
    {
     "data": {
      "text/html": [
       "<span style=\"color:blue\"> |-structured_data_block_2/dense_block_1/units_2: 256</span>"
      ],
      "text/plain": [
       "<IPython.core.display.HTML object>"
      ]
     },
     "metadata": {},
     "output_type": "display_data"
    },
    {
     "data": {
      "text/html": [
       "<span style=\"color:cyan\"> |-structured_data_block_2/dense_block_1/use_batchnorm: True</span>"
      ],
      "text/plain": [
       "<IPython.core.display.HTML object>"
      ]
     },
     "metadata": {},
     "output_type": "display_data"
    },
    {
     "data": {
      "text/html": [
       "<span style=\"color:#4527A0\"><h1 style=\"font-size:18px\">Starting new trial</h1></span>"
      ],
      "text/plain": [
       "<IPython.core.display.HTML object>"
      ]
     },
     "metadata": {},
     "output_type": "display_data"
    },
    {
     "name": "stdout",
     "output_type": "stream",
     "text": [
      "Epoch 1/1000\n",
      "23/23 [==============================] - ETA: 0s - loss: 0.7870 - accuracy: 0.46 - ETA: 0s - loss: 0.7376 - accuracy: 0.58 - ETA: 0s - loss: 0.7741 - accuracy: 0.54 - ETA: 0s - loss: 0.7635 - accuracy: 0.57 - ETA: 0s - loss: 0.7437 - accuracy: 0.59 - 1s 44ms/step - loss: 0.7274 - accuracy: 0.6046 - val_loss: 0.9792 - val_accuracy: 0.2839\n",
      "Epoch 2/1000\n",
      "23/23 [==============================] - ETA: 0s - loss: 0.7474 - accuracy: 0.50 - ETA: 0s - loss: 0.7665 - accuracy: 0.55 - ETA: 0s - loss: 0.7349 - accuracy: 0.58 - ETA: 0s - loss: 0.7475 - accuracy: 0.56 - ETA: 0s - loss: 0.7277 - accuracy: 0.59 - 0s 16ms/step - loss: 0.7136 - accuracy: 0.6005 - val_loss: 0.6497 - val_accuracy: 0.6452\n",
      "Epoch 3/1000\n",
      "23/23 [==============================] - ETA: 0s - loss: 0.8807 - accuracy: 0.56 - ETA: 0s - loss: 0.7220 - accuracy: 0.56 - ETA: 0s - loss: 0.7404 - accuracy: 0.57 - ETA: 0s - loss: 0.7211 - accuracy: 0.58 - ETA: 0s - loss: 0.6949 - accuracy: 0.61 - 0s 17ms/step - loss: 0.6907 - accuracy: 0.6128 - val_loss: 0.6889 - val_accuracy: 0.6516\n",
      "Epoch 4/1000\n",
      "23/23 [==============================] - ETA: 0s - loss: 0.7316 - accuracy: 0.59 - ETA: 0s - loss: 0.7147 - accuracy: 0.59 - ETA: 0s - loss: 0.6926 - accuracy: 0.62 - ETA: 0s - loss: 0.6659 - accuracy: 0.62 - 0s 15ms/step - loss: 0.6500 - accuracy: 0.6427 - val_loss: 0.6877 - val_accuracy: 0.7290\n",
      "Epoch 5/1000\n",
      "23/23 [==============================] - ETA: 0s - loss: 0.8481 - accuracy: 0.56 - ETA: 0s - loss: 0.7088 - accuracy: 0.59 - ETA: 0s - loss: 0.7010 - accuracy: 0.60 - ETA: 0s - loss: 0.6714 - accuracy: 0.62 - 0s 14ms/step - loss: 0.6561 - accuracy: 0.6318 - val_loss: 0.5997 - val_accuracy: 0.7290\n",
      "Epoch 6/1000\n",
      "23/23 [==============================] - ETA: 0s - loss: 0.8061 - accuracy: 0.50 - ETA: 0s - loss: 0.7175 - accuracy: 0.57 - ETA: 0s - loss: 0.6976 - accuracy: 0.59 - ETA: 0s - loss: 0.6815 - accuracy: 0.60 - 1s 23ms/step - loss: 0.6633 - accuracy: 0.6236 - val_loss: 0.5866 - val_accuracy: 0.7290\n",
      "Epoch 7/1000\n",
      "23/23 [==============================] - ETA: 0s - loss: 0.8813 - accuracy: 0.56 - ETA: 0s - loss: 0.7064 - accuracy: 0.60 - ETA: 0s - loss: 0.6823 - accuracy: 0.61 - ETA: 0s - loss: 0.6782 - accuracy: 0.62 - ETA: 0s - loss: 0.6612 - accuracy: 0.64 - 0s 20ms/step - loss: 0.6498 - accuracy: 0.6535 - val_loss: 0.6105 - val_accuracy: 0.7226\n",
      "Epoch 8/1000\n",
      "23/23 [==============================] - ETA: 0s - loss: 0.7639 - accuracy: 0.59 - ETA: 0s - loss: 0.7056 - accuracy: 0.58 - ETA: 0s - loss: 0.6820 - accuracy: 0.61 - ETA: 0s - loss: 0.6725 - accuracy: 0.61 - ETA: 0s - loss: 0.6618 - accuracy: 0.62 - 1s 23ms/step - loss: 0.6486 - accuracy: 0.6359 - val_loss: 0.6052 - val_accuracy: 0.7290\n",
      "Epoch 9/1000\n",
      "23/23 [==============================] - ETA: 0s - loss: 0.8055 - accuracy: 0.56 - ETA: 0s - loss: 0.7366 - accuracy: 0.58 - ETA: 0s - loss: 0.6998 - accuracy: 0.60 - ETA: 0s - loss: 0.6856 - accuracy: 0.61 - ETA: 0s - loss: 0.6882 - accuracy: 0.60 - ETA: 0s - loss: 0.6733 - accuracy: 0.60 - ETA: 0s - loss: 0.6543 - accuracy: 0.62 - 1s 25ms/step - loss: 0.6502 - accuracy: 0.6318 - val_loss: 0.6116 - val_accuracy: 0.7355\n",
      "Epoch 10/1000\n",
      "23/23 [==============================] - ETA: 0s - loss: 0.7317 - accuracy: 0.53 - ETA: 0s - loss: 0.7008 - accuracy: 0.61 - ETA: 0s - loss: 0.6789 - accuracy: 0.62 - ETA: 0s - loss: 0.6675 - accuracy: 0.62 - ETA: 0s - loss: 0.6443 - accuracy: 0.64 - 0s 18ms/step - loss: 0.6396 - accuracy: 0.6454 - val_loss: 0.6112 - val_accuracy: 0.7355\n",
      "Epoch 11/1000\n",
      "23/23 [==============================] - ETA: 0s - loss: 0.7291 - accuracy: 0.56 - ETA: 0s - loss: 0.6819 - accuracy: 0.60 - ETA: 0s - loss: 0.6697 - accuracy: 0.60 - ETA: 0s - loss: 0.6495 - accuracy: 0.62 - ETA: 0s - loss: 0.6286 - accuracy: 0.64 - 0s 17ms/step - loss: 0.6286 - accuracy: 0.6467 - val_loss: 0.5895 - val_accuracy: 0.7290\n",
      "Epoch 12/1000\n",
      "23/23 [==============================] - ETA: 0s - loss: 0.8944 - accuracy: 0.56 - ETA: 0s - loss: 0.7982 - accuracy: 0.59 - ETA: 0s - loss: 0.6961 - accuracy: 0.63 - ETA: 0s - loss: 0.6692 - accuracy: 0.63 - ETA: 0s - loss: 0.6613 - accuracy: 0.64 - ETA: 0s - loss: 0.6462 - accuracy: 0.64 - 1s 24ms/step - loss: 0.6371 - accuracy: 0.6508 - val_loss: 0.6090 - val_accuracy: 0.7226\n",
      "Epoch 13/1000\n",
      "23/23 [==============================] - ETA: 0s - loss: 0.6798 - accuracy: 0.59 - ETA: 0s - loss: 0.6992 - accuracy: 0.61 - ETA: 0s - loss: 0.6474 - accuracy: 0.66 - ETA: 0s - loss: 0.6525 - accuracy: 0.65 - ETA: 0s - loss: 0.6556 - accuracy: 0.65 - 0s 21ms/step - loss: 0.6581 - accuracy: 0.6576 - val_loss: 0.6088 - val_accuracy: 0.7226\n",
      "Epoch 14/1000\n",
      "23/23 [==============================] - ETA: 0s - loss: 0.6624 - accuracy: 0.59 - ETA: 0s - loss: 0.6859 - accuracy: 0.60 - ETA: 0s - loss: 0.6550 - accuracy: 0.62 - ETA: 0s - loss: 0.6712 - accuracy: 0.61 - ETA: 0s - loss: 0.6649 - accuracy: 0.62 - 0s 19ms/step - loss: 0.6572 - accuracy: 0.6291 - val_loss: 0.6224 - val_accuracy: 0.7226\n",
      "Epoch 15/1000\n",
      "23/23 [==============================] - ETA: 0s - loss: 0.7070 - accuracy: 0.53 - ETA: 0s - loss: 0.6634 - accuracy: 0.61 - ETA: 0s - loss: 0.6571 - accuracy: 0.61 - ETA: 0s - loss: 0.6380 - accuracy: 0.63 - ETA: 0s - loss: 0.6250 - accuracy: 0.65 - 0s 21ms/step - loss: 0.6250 - accuracy: 0.6549 - val_loss: 0.6039 - val_accuracy: 0.7290\n",
      "Epoch 16/1000\n",
      "23/23 [==============================] - ETA: 0s - loss: 0.7186 - accuracy: 0.53 - ETA: 0s - loss: 0.7041 - accuracy: 0.60 - ETA: 0s - loss: 0.6769 - accuracy: 0.62 - ETA: 0s - loss: 0.6658 - accuracy: 0.62 - ETA: 0s - loss: 0.6648 - accuracy: 0.63 - 0s 17ms/step - loss: 0.6613 - accuracy: 0.6304 - val_loss: 0.6053 - val_accuracy: 0.7355\n"
     ]
    },
    {
     "data": {
      "text/html": [
       "<span style=\"color:#4527A0\"><h1 style=\"font-size:18px\">Trial complete</h1></span>"
      ],
      "text/plain": [
       "<IPython.core.display.HTML object>"
      ]
     },
     "metadata": {},
     "output_type": "display_data"
    },
    {
     "data": {
      "text/html": [
       "<span style=\"color:#4527A0\"><h1 style=\"font-size:18px\">Trial summary</h1></span>"
      ],
      "text/plain": [
       "<IPython.core.display.HTML object>"
      ]
     },
     "metadata": {},
     "output_type": "display_data"
    },
    {
     "data": {
      "text/html": [
       "<span style=\"color:cyan\"> |-Trial ID: 55ac0267974f5c7302ded623f588c67a</span>"
      ],
      "text/plain": [
       "<IPython.core.display.HTML object>"
      ]
     },
     "metadata": {},
     "output_type": "display_data"
    },
    {
     "data": {
      "text/html": [
       "<span style=\"color:cyan\"> |-Score: 0.7354838848114014</span>"
      ],
      "text/plain": [
       "<IPython.core.display.HTML object>"
      ]
     },
     "metadata": {},
     "output_type": "display_data"
    },
    {
     "data": {
      "text/html": [
       "<span style=\"color:cyan\"> |-Best step: 8</span>"
      ],
      "text/plain": [
       "<IPython.core.display.HTML object>"
      ]
     },
     "metadata": {},
     "output_type": "display_data"
    },
    {
     "data": {
      "text/html": [
       "<span style=\"color:#7E57C2\"><h2 style=\"font-size:16px\">Hyperparameters:</h2></span>"
      ],
      "text/plain": [
       "<IPython.core.display.HTML object>"
      ]
     },
     "metadata": {},
     "output_type": "display_data"
    },
    {
     "data": {
      "text/html": [
       "<span style=\"color:cyan\"> |-classification_head_2/dropout: 0</span>"
      ],
      "text/plain": [
       "<IPython.core.display.HTML object>"
      ]
     },
     "metadata": {},
     "output_type": "display_data"
    },
    {
     "data": {
      "text/html": [
       "<span style=\"color:blue\"> |-learning_rate: 0.001</span>"
      ],
      "text/plain": [
       "<IPython.core.display.HTML object>"
      ]
     },
     "metadata": {},
     "output_type": "display_data"
    },
    {
     "data": {
      "text/html": [
       "<span style=\"color:cyan\"> |-optimizer: adam</span>"
      ],
      "text/plain": [
       "<IPython.core.display.HTML object>"
      ]
     },
     "metadata": {},
     "output_type": "display_data"
    },
    {
     "data": {
      "text/html": [
       "<span style=\"color:blue\"> |-structured_data_block_2/dense_block_1/dropout: 0.25</span>"
      ],
      "text/plain": [
       "<IPython.core.display.HTML object>"
      ]
     },
     "metadata": {},
     "output_type": "display_data"
    },
    {
     "data": {
      "text/html": [
       "<span style=\"color:cyan\"> |-structured_data_block_2/dense_block_1/num_layers: 2</span>"
      ],
      "text/plain": [
       "<IPython.core.display.HTML object>"
      ]
     },
     "metadata": {},
     "output_type": "display_data"
    },
    {
     "data": {
      "text/html": [
       "<span style=\"color:blue\"> |-structured_data_block_2/dense_block_1/units_0: 512</span>"
      ],
      "text/plain": [
       "<IPython.core.display.HTML object>"
      ]
     },
     "metadata": {},
     "output_type": "display_data"
    },
    {
     "data": {
      "text/html": [
       "<span style=\"color:cyan\"> |-structured_data_block_2/dense_block_1/units_1: 512</span>"
      ],
      "text/plain": [
       "<IPython.core.display.HTML object>"
      ]
     },
     "metadata": {},
     "output_type": "display_data"
    },
    {
     "data": {
      "text/html": [
       "<span style=\"color:blue\"> |-structured_data_block_2/dense_block_1/units_2: 16</span>"
      ],
      "text/plain": [
       "<IPython.core.display.HTML object>"
      ]
     },
     "metadata": {},
     "output_type": "display_data"
    },
    {
     "data": {
      "text/html": [
       "<span style=\"color:cyan\"> |-structured_data_block_2/dense_block_1/use_batchnorm: True</span>"
      ],
      "text/plain": [
       "<IPython.core.display.HTML object>"
      ]
     },
     "metadata": {},
     "output_type": "display_data"
    },
    {
     "data": {
      "text/html": [
       "<span style=\"color:#4527A0\"><h1 style=\"font-size:18px\">Starting new trial</h1></span>"
      ],
      "text/plain": [
       "<IPython.core.display.HTML object>"
      ]
     },
     "metadata": {},
     "output_type": "display_data"
    },
    {
     "name": "stdout",
     "output_type": "stream",
     "text": [
      "Epoch 1/1000\n",
      "23/23 [==============================] - ETA: 0s - loss: 0.7137 - accuracy: 0.43 - ETA: 0s - loss: 0.6845 - accuracy: 0.62 - 1s 27ms/step - loss: 0.6521 - accuracy: 0.6481 - val_loss: 0.7139 - val_accuracy: 0.6194\n",
      "Epoch 2/1000\n",
      "23/23 [==============================] - ETA: 0s - loss: 0.7126 - accuracy: 0.56 - ETA: 0s - loss: 0.6667 - accuracy: 0.61 - 0s 9ms/step - loss: 0.6337 - accuracy: 0.6413 - val_loss: 0.6753 - val_accuracy: 0.6903\n",
      "Epoch 3/1000\n",
      "23/23 [==============================] - ETA: 0s - loss: 0.7285 - accuracy: 0.56 - ETA: 0s - loss: 0.6545 - accuracy: 0.64 - ETA: 0s - loss: 0.6299 - accuracy: 0.65 - 0s 10ms/step - loss: 0.6244 - accuracy: 0.6576 - val_loss: 0.6756 - val_accuracy: 0.7032\n",
      "Epoch 4/1000\n",
      "23/23 [==============================] - ETA: 0s - loss: 0.7066 - accuracy: 0.59 - ETA: 0s - loss: 0.6536 - accuracy: 0.62 - ETA: 0s - loss: 0.6437 - accuracy: 0.63 - ETA: 0s - loss: 0.6243 - accuracy: 0.65 - 0s 18ms/step - loss: 0.6192 - accuracy: 0.6562 - val_loss: 0.6538 - val_accuracy: 0.7032\n",
      "Epoch 5/1000\n",
      "23/23 [==============================] - ETA: 0s - loss: 0.6936 - accuracy: 0.59 - ETA: 0s - loss: 0.6434 - accuracy: 0.64 - ETA: 0s - loss: 0.6190 - accuracy: 0.65 - 0s 14ms/step - loss: 0.6146 - accuracy: 0.6590 - val_loss: 0.6533 - val_accuracy: 0.7161\n",
      "Epoch 6/1000\n",
      "23/23 [==============================] - ETA: 0s - loss: 0.7081 - accuracy: 0.59 - ETA: 0s - loss: 0.6403 - accuracy: 0.64 - ETA: 0s - loss: 0.6186 - accuracy: 0.65 - 0s 11ms/step - loss: 0.6133 - accuracy: 0.6630 - val_loss: 0.6448 - val_accuracy: 0.7161\n",
      "Epoch 7/1000\n",
      "23/23 [==============================] - ETA: 0s - loss: 0.7047 - accuracy: 0.56 - ETA: 0s - loss: 0.6360 - accuracy: 0.63 - ETA: 0s - loss: 0.6364 - accuracy: 0.64 - ETA: 0s - loss: 0.6217 - accuracy: 0.65 - 0s 17ms/step - loss: 0.6106 - accuracy: 0.6644 - val_loss: 0.6140 - val_accuracy: 0.7161\n",
      "Epoch 8/1000\n",
      "23/23 [==============================] - ETA: 0s - loss: 0.6911 - accuracy: 0.59 - ETA: 0s - loss: 0.6328 - accuracy: 0.65 - 0s 10ms/step - loss: 0.6079 - accuracy: 0.6685 - val_loss: 0.6069 - val_accuracy: 0.7226\n",
      "Epoch 9/1000\n",
      "23/23 [==============================] - ETA: 0s - loss: 0.7066 - accuracy: 0.59 - ETA: 0s - loss: 0.6582 - accuracy: 0.62 - ETA: 0s - loss: 0.6164 - accuracy: 0.65 - 0s 12ms/step - loss: 0.6091 - accuracy: 0.6644 - val_loss: 0.5998 - val_accuracy: 0.7355\n",
      "Epoch 10/1000\n",
      "23/23 [==============================] - ETA: 0s - loss: 0.6793 - accuracy: 0.53 - ETA: 0s - loss: 0.6290 - accuracy: 0.63 - 0s 8ms/step - loss: 0.6060 - accuracy: 0.6671 - val_loss: 0.6103 - val_accuracy: 0.7355\n",
      "Epoch 11/1000\n",
      "23/23 [==============================] - ETA: 0s - loss: 0.6948 - accuracy: 0.56 - ETA: 0s - loss: 0.6273 - accuracy: 0.65 - 0s 13ms/step - loss: 0.6040 - accuracy: 0.6726 - val_loss: 0.6036 - val_accuracy: 0.7419\n",
      "Epoch 12/1000\n",
      "23/23 [==============================] - ETA: 0s - loss: 0.6900 - accuracy: 0.53 - ETA: 0s - loss: 0.6243 - accuracy: 0.65 - ETA: 0s - loss: 0.6035 - accuracy: 0.66 - 0s 12ms/step - loss: 0.6007 - accuracy: 0.6671 - val_loss: 0.6098 - val_accuracy: 0.7355\n",
      "Epoch 13/1000\n",
      "23/23 [==============================] - ETA: 0s - loss: 0.6880 - accuracy: 0.59 - ETA: 0s - loss: 0.6276 - accuracy: 0.65 - 0s 11ms/step - loss: 0.6042 - accuracy: 0.6712 - val_loss: 0.6139 - val_accuracy: 0.7355\n",
      "Epoch 14/1000\n",
      "23/23 [==============================] - ETA: 0s - loss: 0.6853 - accuracy: 0.59 - ETA: 0s - loss: 0.6256 - accuracy: 0.66 - ETA: 0s - loss: 0.6039 - accuracy: 0.67 - 0s 15ms/step - loss: 0.6013 - accuracy: 0.6807 - val_loss: 0.6167 - val_accuracy: 0.7355\n",
      "Epoch 15/1000\n",
      "23/23 [==============================] - ETA: 0s - loss: 0.6653 - accuracy: 0.59 - ETA: 0s - loss: 0.6219 - accuracy: 0.65 - ETA: 0s - loss: 0.6028 - accuracy: 0.67 - 0s 13ms/step - loss: 0.6000 - accuracy: 0.6753 - val_loss: 0.6108 - val_accuracy: 0.7161\n",
      "Epoch 16/1000\n",
      "23/23 [==============================] - ETA: 0s - loss: 0.6869 - accuracy: 0.59 - ETA: 0s - loss: 0.6230 - accuracy: 0.64 - 0s 11ms/step - loss: 0.5994 - accuracy: 0.6658 - val_loss: 0.6311 - val_accuracy: 0.7355\n",
      "Epoch 17/1000\n",
      "23/23 [==============================] - ETA: 0s - loss: 0.6963 - accuracy: 0.59 - ETA: 0s - loss: 0.6221 - accuracy: 0.66 - 0s 12ms/step - loss: 0.6009 - accuracy: 0.6726 - val_loss: 0.6153 - val_accuracy: 0.7355\n",
      "Epoch 18/1000\n",
      "23/23 [==============================] - ETA: 0s - loss: 0.6748 - accuracy: 0.59 - ETA: 0s - loss: 0.6735 - accuracy: 0.60 - ETA: 0s - loss: 0.6128 - accuracy: 0.66 - ETA: 0s - loss: 0.5962 - accuracy: 0.67 - 0s 14ms/step - loss: 0.5939 - accuracy: 0.6793 - val_loss: 0.6155 - val_accuracy: 0.7290\n",
      "Epoch 19/1000\n",
      "23/23 [==============================] - ETA: 0s - loss: 0.6783 - accuracy: 0.59 - ETA: 0s - loss: 0.6137 - accuracy: 0.67 - ETA: 0s - loss: 0.5968 - accuracy: 0.67 - 0s 12ms/step - loss: 0.5949 - accuracy: 0.6766 - val_loss: 0.6145 - val_accuracy: 0.7161\n"
     ]
    },
    {
     "data": {
      "text/html": [
       "<span style=\"color:#4527A0\"><h1 style=\"font-size:18px\">Trial complete</h1></span>"
      ],
      "text/plain": [
       "<IPython.core.display.HTML object>"
      ]
     },
     "metadata": {},
     "output_type": "display_data"
    },
    {
     "data": {
      "text/html": [
       "<span style=\"color:#4527A0\"><h1 style=\"font-size:18px\">Trial summary</h1></span>"
      ],
      "text/plain": [
       "<IPython.core.display.HTML object>"
      ]
     },
     "metadata": {},
     "output_type": "display_data"
    },
    {
     "data": {
      "text/html": [
       "<span style=\"color:cyan\"> |-Trial ID: 93243ff37370856c164769dd7c332dd0</span>"
      ],
      "text/plain": [
       "<IPython.core.display.HTML object>"
      ]
     },
     "metadata": {},
     "output_type": "display_data"
    },
    {
     "data": {
      "text/html": [
       "<span style=\"color:cyan\"> |-Score: 0.7419354915618896</span>"
      ],
      "text/plain": [
       "<IPython.core.display.HTML object>"
      ]
     },
     "metadata": {},
     "output_type": "display_data"
    },
    {
     "data": {
      "text/html": [
       "<span style=\"color:cyan\"> |-Best step: 10</span>"
      ],
      "text/plain": [
       "<IPython.core.display.HTML object>"
      ]
     },
     "metadata": {},
     "output_type": "display_data"
    },
    {
     "data": {
      "text/html": [
       "<span style=\"color:#7E57C2\"><h2 style=\"font-size:16px\">Hyperparameters:</h2></span>"
      ],
      "text/plain": [
       "<IPython.core.display.HTML object>"
      ]
     },
     "metadata": {},
     "output_type": "display_data"
    },
    {
     "data": {
      "text/html": [
       "<span style=\"color:cyan\"> |-classification_head_2/dropout: 0</span>"
      ],
      "text/plain": [
       "<IPython.core.display.HTML object>"
      ]
     },
     "metadata": {},
     "output_type": "display_data"
    },
    {
     "data": {
      "text/html": [
       "<span style=\"color:blue\"> |-learning_rate: 0.001</span>"
      ],
      "text/plain": [
       "<IPython.core.display.HTML object>"
      ]
     },
     "metadata": {},
     "output_type": "display_data"
    },
    {
     "data": {
      "text/html": [
       "<span style=\"color:cyan\"> |-optimizer: adam</span>"
      ],
      "text/plain": [
       "<IPython.core.display.HTML object>"
      ]
     },
     "metadata": {},
     "output_type": "display_data"
    },
    {
     "data": {
      "text/html": [
       "<span style=\"color:blue\"> |-structured_data_block_2/dense_block_1/dropout: 0.0</span>"
      ],
      "text/plain": [
       "<IPython.core.display.HTML object>"
      ]
     },
     "metadata": {},
     "output_type": "display_data"
    },
    {
     "data": {
      "text/html": [
       "<span style=\"color:cyan\"> |-structured_data_block_2/dense_block_1/num_layers: 2</span>"
      ],
      "text/plain": [
       "<IPython.core.display.HTML object>"
      ]
     },
     "metadata": {},
     "output_type": "display_data"
    },
    {
     "data": {
      "text/html": [
       "<span style=\"color:blue\"> |-structured_data_block_2/dense_block_1/units_0: 128</span>"
      ],
      "text/plain": [
       "<IPython.core.display.HTML object>"
      ]
     },
     "metadata": {},
     "output_type": "display_data"
    },
    {
     "data": {
      "text/html": [
       "<span style=\"color:cyan\"> |-structured_data_block_2/dense_block_1/units_1: 128</span>"
      ],
      "text/plain": [
       "<IPython.core.display.HTML object>"
      ]
     },
     "metadata": {},
     "output_type": "display_data"
    },
    {
     "data": {
      "text/html": [
       "<span style=\"color:blue\"> |-structured_data_block_2/dense_block_1/units_2: 128</span>"
      ],
      "text/plain": [
       "<IPython.core.display.HTML object>"
      ]
     },
     "metadata": {},
     "output_type": "display_data"
    },
    {
     "data": {
      "text/html": [
       "<span style=\"color:cyan\"> |-structured_data_block_2/dense_block_1/use_batchnorm: True</span>"
      ],
      "text/plain": [
       "<IPython.core.display.HTML object>"
      ]
     },
     "metadata": {},
     "output_type": "display_data"
    },
    {
     "data": {
      "text/html": [
       "<span style=\"color:#4527A0\"><h1 style=\"font-size:18px\">Starting new trial</h1></span>"
      ],
      "text/plain": [
       "<IPython.core.display.HTML object>"
      ]
     },
     "metadata": {},
     "output_type": "display_data"
    },
    {
     "name": "stdout",
     "output_type": "stream",
     "text": [
      "Epoch 1/1000\n",
      "23/23 [==============================] - ETA: 0s - loss: 5300.8022 - accuracy: 0.531 - ETA: 0s - loss: 1437.2653 - accuracy: 0.471 - 1s 22ms/step - loss: 1300.7427 - accuracy: 0.4959 - val_loss: 720.7131 - val_accuracy: 0.6645\n",
      "Epoch 2/1000\n",
      "23/23 [==============================] - ETA: 0s - loss: 1915.7185 - accuracy: 0.437 - ETA: 0s - loss: 624.5490 - accuracy: 0.527 - 0s 7ms/step - loss: 574.0126 - accuracy: 0.5571 - val_loss: 231.5111 - val_accuracy: 0.6258\n",
      "Epoch 3/1000\n",
      "23/23 [==============================] - ETA: 0s - loss: 700.5796 - accuracy: 0.46 - ETA: 0s - loss: 439.6400 - accuracy: 0.55 - 0s 6ms/step - loss: 404.3575 - accuracy: 0.5503 - val_loss: 175.6380 - val_accuracy: 0.7097\n",
      "Epoch 4/1000\n",
      "23/23 [==============================] - ETA: 0s - loss: 637.0051 - accuracy: 0.53 - ETA: 0s - loss: 488.7209 - accuracy: 0.50 - 0s 7ms/step - loss: 625.1098 - accuracy: 0.5829 - val_loss: 868.9249 - val_accuracy: 0.7161\n",
      "Epoch 5/1000\n",
      "23/23 [==============================] - ETA: 0s - loss: 2378.5142 - accuracy: 0.562 - ETA: 0s - loss: 894.8463 - accuracy: 0.514 - ETA: 0s - loss: 735.2728 - accuracy: 0.53 - 0s 10ms/step - loss: 735.2728 - accuracy: 0.5340 - val_loss: 390.6685 - val_accuracy: 0.7484\n",
      "Epoch 6/1000\n",
      "23/23 [==============================] - ETA: 0s - loss: 1116.1057 - accuracy: 0.562 - ETA: 0s - loss: 684.2589 - accuracy: 0.558 - 0s 9ms/step - loss: 605.7220 - accuracy: 0.5543 - val_loss: 377.4372 - val_accuracy: 0.7355\n",
      "Epoch 7/1000\n",
      "23/23 [==============================] - ETA: 0s - loss: 1233.5410 - accuracy: 0.500 - ETA: 0s - loss: 402.0504 - accuracy: 0.546 - 0s 7ms/step - loss: 350.9308 - accuracy: 0.5571 - val_loss: 158.4082 - val_accuracy: 0.7032\n",
      "Epoch 8/1000\n",
      "23/23 [==============================] - ETA: 0s - loss: 458.5035 - accuracy: 0.56 - ETA: 0s - loss: 357.1101 - accuracy: 0.59 - 0s 8ms/step - loss: 311.3902 - accuracy: 0.6114 - val_loss: 96.3441 - val_accuracy: 0.4581\n",
      "Epoch 9/1000\n",
      "23/23 [==============================] - ETA: 0s - loss: 194.0990 - accuracy: 0.40 - ETA: 0s - loss: 233.3739 - accuracy: 0.57 - 0s 9ms/step - loss: 242.4097 - accuracy: 0.5910 - val_loss: 151.9362 - val_accuracy: 0.5677\n",
      "Epoch 10/1000\n",
      "23/23 [==============================] - ETA: 0s - loss: 186.4888 - accuracy: 0.46 - ETA: 0s - loss: 151.9067 - accuracy: 0.61 - 0s 9ms/step - loss: 177.0032 - accuracy: 0.6060 - val_loss: 218.3271 - val_accuracy: 0.4581\n",
      "Epoch 11/1000\n",
      "23/23 [==============================] - ETA: 0s - loss: 285.4949 - accuracy: 0.50 - ETA: 0s - loss: 384.8395 - accuracy: 0.54 - 0s 8ms/step - loss: 427.0322 - accuracy: 0.5802 - val_loss: 517.5209 - val_accuracy: 0.7226\n",
      "Epoch 12/1000\n",
      "23/23 [==============================] - ETA: 0s - loss: 1398.7747 - accuracy: 0.500 - ETA: 0s - loss: 608.0344 - accuracy: 0.527 - 0s 7ms/step - loss: 600.9446 - accuracy: 0.5639 - val_loss: 673.2072 - val_accuracy: 0.7290\n",
      "Epoch 13/1000\n",
      "23/23 [==============================] - ETA: 0s - loss: 1936.0219 - accuracy: 0.468 - ETA: 0s - loss: 848.3912 - accuracy: 0.521 - ETA: 0s - loss: 803.3881 - accuracy: 0.54 - 0s 13ms/step - loss: 740.8261 - accuracy: 0.5557 - val_loss: 341.1733 - val_accuracy: 0.7355\n",
      "Epoch 14/1000\n",
      "23/23 [==============================] - ETA: 0s - loss: 1098.0515 - accuracy: 0.656 - ETA: 0s - loss: 409.0563 - accuracy: 0.580 - 0s 15ms/step - loss: 374.2855 - accuracy: 0.5625 - val_loss: 196.9135 - val_accuracy: 0.7226\n",
      "Epoch 15/1000\n",
      "23/23 [==============================] - ETA: 0s - loss: 659.5626 - accuracy: 0.53 - ETA: 0s - loss: 338.3934 - accuracy: 0.57 - 0s 10ms/step - loss: 340.4868 - accuracy: 0.6114 - val_loss: 183.2455 - val_accuracy: 0.4258\n",
      "Epoch 16/1000\n",
      "23/23 [==============================] - ETA: 0s - loss: 353.3445 - accuracy: 0.53 - ETA: 0s - loss: 426.6284 - accuracy: 0.55 - 0s 14ms/step - loss: 458.1210 - accuracy: 0.5978 - val_loss: 583.8962 - val_accuracy: 0.6839\n",
      "Epoch 17/1000\n",
      "23/23 [==============================] - ETA: 0s - loss: 1612.1797 - accuracy: 0.500 - ETA: 0s - loss: 815.2908 - accuracy: 0.566 - 0s 10ms/step - loss: 685.5863 - accuracy: 0.5815 - val_loss: 258.7891 - val_accuracy: 0.7613\n",
      "Epoch 18/1000\n",
      "23/23 [==============================] - ETA: 0s - loss: 822.1492 - accuracy: 0.56 - ETA: 0s - loss: 389.6917 - accuracy: 0.57 - 0s 12ms/step - loss: 337.5343 - accuracy: 0.6101 - val_loss: 92.1942 - val_accuracy: 0.6516\n",
      "Epoch 19/1000\n",
      "23/23 [==============================] - ETA: 0s - loss: 390.7601 - accuracy: 0.43 - ETA: 0s - loss: 292.0470 - accuracy: 0.56 - 0s 12ms/step - loss: 328.4989 - accuracy: 0.5910 - val_loss: 159.2761 - val_accuracy: 0.6903\n",
      "Epoch 20/1000\n",
      "23/23 [==============================] - ETA: 0s - loss: 545.1761 - accuracy: 0.50 - ETA: 0s - loss: 375.5706 - accuracy: 0.56 - ETA: 0s - loss: 347.5869 - accuracy: 0.57 - 0s 21ms/step - loss: 334.1342 - accuracy: 0.5829 - val_loss: 114.5328 - val_accuracy: 0.6839\n",
      "Epoch 21/1000\n",
      "23/23 [==============================] - ETA: 0s - loss: 311.4992 - accuracy: 0.50 - ETA: 0s - loss: 171.7305 - accuracy: 0.59 - ETA: 0s - loss: 234.3291 - accuracy: 0.60 - 0s 15ms/step - loss: 219.7222 - accuracy: 0.5992 - val_loss: 170.4069 - val_accuracy: 0.6645\n",
      "Epoch 22/1000\n",
      "23/23 [==============================] - ETA: 0s - loss: 384.9174 - accuracy: 0.50 - ETA: 0s - loss: 227.7493 - accuracy: 0.62 - ETA: 0s - loss: 280.4015 - accuracy: 0.61 - 1s 24ms/step - loss: 263.2319 - accuracy: 0.6168 - val_loss: 197.0595 - val_accuracy: 0.6516\n",
      "Epoch 23/1000\n",
      "23/23 [==============================] - ETA: 0s - loss: 370.3087 - accuracy: 0.46 - ETA: 0s - loss: 457.2297 - accuracy: 0.61 - 0s 12ms/step - loss: 374.6000 - accuracy: 0.6141 - val_loss: 105.3492 - val_accuracy: 0.7355\n",
      "Epoch 24/1000\n",
      "23/23 [==============================] - ETA: 0s - loss: 303.4332 - accuracy: 0.56 - ETA: 0s - loss: 153.7349 - accuracy: 0.53 - ETA: 0s - loss: 162.1828 - accuracy: 0.56 - 0s 13ms/step - loss: 162.1828 - accuracy: 0.5639 - val_loss: 99.4818 - val_accuracy: 0.7290\n",
      "Epoch 25/1000\n",
      "23/23 [==============================] - ETA: 0s - loss: 293.6166 - accuracy: 0.59 - ETA: 0s - loss: 211.7159 - accuracy: 0.54 - 0s 9ms/step - loss: 331.1780 - accuracy: 0.5883 - val_loss: 300.8626 - val_accuracy: 0.7032\n",
      "Epoch 26/1000\n",
      "23/23 [==============================] - ETA: 0s - loss: 859.2950 - accuracy: 0.50 - ETA: 0s - loss: 445.3650 - accuracy: 0.57 - ETA: 0s - loss: 524.8367 - accuracy: 0.54 - 0s 16ms/step - loss: 510.7660 - accuracy: 0.5802 - val_loss: 583.0760 - val_accuracy: 0.6710\n",
      "Epoch 27/1000\n",
      "23/23 [==============================] - ETA: 0s - loss: 1482.5721 - accuracy: 0.500 - ETA: 0s - loss: 659.2848 - accuracy: 0.572 - 0s 10ms/step - loss: 708.7505 - accuracy: 0.5788 - val_loss: 353.9204 - val_accuracy: 0.7226\n",
      "Epoch 28/1000\n",
      "23/23 [==============================] - ETA: 0s - loss: 1035.9501 - accuracy: 0.625 - ETA: 0s - loss: 691.1954 - accuracy: 0.568 - 0s 10ms/step - loss: 619.3729 - accuracy: 0.5720 - val_loss: 463.9211 - val_accuracy: 0.7419\n"
     ]
    },
    {
     "data": {
      "text/html": [
       "<span style=\"color:#4527A0\"><h1 style=\"font-size:18px\">Trial complete</h1></span>"
      ],
      "text/plain": [
       "<IPython.core.display.HTML object>"
      ]
     },
     "metadata": {},
     "output_type": "display_data"
    },
    {
     "data": {
      "text/html": [
       "<span style=\"color:#4527A0\"><h1 style=\"font-size:18px\">Trial summary</h1></span>"
      ],
      "text/plain": [
       "<IPython.core.display.HTML object>"
      ]
     },
     "metadata": {},
     "output_type": "display_data"
    },
    {
     "data": {
      "text/html": [
       "<span style=\"color:cyan\"> |-Trial ID: f89c2766197f3b89335417a5f558559f</span>"
      ],
      "text/plain": [
       "<IPython.core.display.HTML object>"
      ]
     },
     "metadata": {},
     "output_type": "display_data"
    },
    {
     "data": {
      "text/html": [
       "<span style=\"color:cyan\"> |-Score: 0.7612903118133545</span>"
      ],
      "text/plain": [
       "<IPython.core.display.HTML object>"
      ]
     },
     "metadata": {},
     "output_type": "display_data"
    },
    {
     "data": {
      "text/html": [
       "<span style=\"color:cyan\"> |-Best step: 16</span>"
      ],
      "text/plain": [
       "<IPython.core.display.HTML object>"
      ]
     },
     "metadata": {},
     "output_type": "display_data"
    },
    {
     "data": {
      "text/html": [
       "<span style=\"color:#7E57C2\"><h2 style=\"font-size:16px\">Hyperparameters:</h2></span>"
      ],
      "text/plain": [
       "<IPython.core.display.HTML object>"
      ]
     },
     "metadata": {},
     "output_type": "display_data"
    },
    {
     "data": {
      "text/html": [
       "<span style=\"color:cyan\"> |-classification_head_2/dropout: 0</span>"
      ],
      "text/plain": [
       "<IPython.core.display.HTML object>"
      ]
     },
     "metadata": {},
     "output_type": "display_data"
    },
    {
     "data": {
      "text/html": [
       "<span style=\"color:blue\"> |-learning_rate: 0.001</span>"
      ],
      "text/plain": [
       "<IPython.core.display.HTML object>"
      ]
     },
     "metadata": {},
     "output_type": "display_data"
    },
    {
     "data": {
      "text/html": [
       "<span style=\"color:cyan\"> |-optimizer: adam</span>"
      ],
      "text/plain": [
       "<IPython.core.display.HTML object>"
      ]
     },
     "metadata": {},
     "output_type": "display_data"
    },
    {
     "data": {
      "text/html": [
       "<span style=\"color:blue\"> |-structured_data_block_2/dense_block_1/dropout: 0.0</span>"
      ],
      "text/plain": [
       "<IPython.core.display.HTML object>"
      ]
     },
     "metadata": {},
     "output_type": "display_data"
    },
    {
     "data": {
      "text/html": [
       "<span style=\"color:cyan\"> |-structured_data_block_2/dense_block_1/num_layers: 1</span>"
      ],
      "text/plain": [
       "<IPython.core.display.HTML object>"
      ]
     },
     "metadata": {},
     "output_type": "display_data"
    },
    {
     "data": {
      "text/html": [
       "<span style=\"color:blue\"> |-structured_data_block_2/dense_block_1/units_0: 128</span>"
      ],
      "text/plain": [
       "<IPython.core.display.HTML object>"
      ]
     },
     "metadata": {},
     "output_type": "display_data"
    },
    {
     "data": {
      "text/html": [
       "<span style=\"color:cyan\"> |-structured_data_block_2/dense_block_1/units_1: 128</span>"
      ],
      "text/plain": [
       "<IPython.core.display.HTML object>"
      ]
     },
     "metadata": {},
     "output_type": "display_data"
    },
    {
     "data": {
      "text/html": [
       "<span style=\"color:blue\"> |-structured_data_block_2/dense_block_1/units_2: 256</span>"
      ],
      "text/plain": [
       "<IPython.core.display.HTML object>"
      ]
     },
     "metadata": {},
     "output_type": "display_data"
    },
    {
     "data": {
      "text/html": [
       "<span style=\"color:cyan\"> |-structured_data_block_2/dense_block_1/use_batchnorm: False</span>"
      ],
      "text/plain": [
       "<IPython.core.display.HTML object>"
      ]
     },
     "metadata": {},
     "output_type": "display_data"
    },
    {
     "data": {
      "text/html": [
       "<span style=\"color:#4527A0\"><h1 style=\"font-size:18px\">Starting new trial</h1></span>"
      ],
      "text/plain": [
       "<IPython.core.display.HTML object>"
      ]
     },
     "metadata": {},
     "output_type": "display_data"
    },
    {
     "name": "stdout",
     "output_type": "stream",
     "text": [
      "Epoch 1/1000\n",
      "23/23 [==============================] - ETA: 0s - loss: 3931.7620 - accuracy: 0.562 - ETA: 0s - loss: 9014.4150 - accuracy: 0.549 - ETA: 0s - loss: 7607.2256 - accuracy: 0.529 - ETA: 0s - loss: 7024.2188 - accuracy: 0.562 - 1s 26ms/step - loss: 6667.4253 - accuracy: 0.5666 - val_loss: 6859.1831 - val_accuracy: 0.6516\n",
      "Epoch 2/1000\n",
      "23/23 [==============================] - ETA: 0s - loss: 19507.2852 - accuracy: 0.56 - ETA: 0s - loss: 10494.0215 - accuracy: 0.64 - ETA: 0s - loss: 7400.1890 - accuracy: 0.5089 - ETA: 0s - loss: 5912.8716 - accuracy: 0.521 - ETA: 0s - loss: 4934.2744 - accuracy: 0.543 - ETA: 0s - loss: 4368.7720 - accuracy: 0.552 - ETA: 0s - loss: 3799.0962 - accuracy: 0.563 - 0s 21ms/step - loss: 3799.0962 - accuracy: 0.5639 - val_loss: 1121.0536 - val_accuracy: 0.6839\n",
      "Epoch 3/1000\n",
      "23/23 [==============================] - ETA: 0s - loss: 6752.8130 - accuracy: 0.500 - ETA: 0s - loss: 2934.5198 - accuracy: 0.489 - ETA: 0s - loss: 2729.6721 - accuracy: 0.502 - ETA: 0s - loss: 2616.3403 - accuracy: 0.538 - ETA: 0s - loss: 2300.6064 - accuracy: 0.554 - 0s 16ms/step - loss: 2300.6064 - accuracy: 0.5543 - val_loss: 720.4761 - val_accuracy: 0.6323\n",
      "Epoch 4/1000\n",
      "23/23 [==============================] - ETA: 0s - loss: 4160.4717 - accuracy: 0.406 - ETA: 0s - loss: 2484.9089 - accuracy: 0.496 - ETA: 0s - loss: 2220.4915 - accuracy: 0.511 - ETA: 0s - loss: 1928.8606 - accuracy: 0.523 - 0s 15ms/step - loss: 1820.2369 - accuracy: 0.5380 - val_loss: 1226.3962 - val_accuracy: 0.6452\n",
      "Epoch 5/1000\n",
      "23/23 [==============================] - ETA: 0s - loss: 6322.6270 - accuracy: 0.468 - ETA: 0s - loss: 2751.6565 - accuracy: 0.602 - ETA: 0s - loss: 2355.0552 - accuracy: 0.562 - ETA: 0s - loss: 2403.3118 - accuracy: 0.543 - ETA: 0s - loss: 2160.9058 - accuracy: 0.546 - 0s 16ms/step - loss: 2048.5393 - accuracy: 0.5448 - val_loss: 763.1622 - val_accuracy: 0.6839\n",
      "Epoch 6/1000\n",
      "23/23 [==============================] - ETA: 0s - loss: 3229.5942 - accuracy: 0.406 - ETA: 0s - loss: 2092.9409 - accuracy: 0.484 - ETA: 0s - loss: 2793.6409 - accuracy: 0.520 - ETA: 0s - loss: 2254.3159 - accuracy: 0.496 - ETA: 0s - loss: 2091.2219 - accuracy: 0.513 - ETA: 0s - loss: 1791.4688 - accuracy: 0.535 - 0s 21ms/step - loss: 1800.5139 - accuracy: 0.5367 - val_loss: 443.4968 - val_accuracy: 0.6387\n",
      "Epoch 7/1000\n",
      "23/23 [==============================] - ETA: 0s - loss: 1155.3383 - accuracy: 0.468 - ETA: 0s - loss: 1991.2358 - accuracy: 0.515 - ETA: 0s - loss: 1965.0863 - accuracy: 0.528 - ETA: 0s - loss: 2181.3469 - accuracy: 0.537 - ETA: 0s - loss: 1862.7816 - accuracy: 0.550 - 0s 18ms/step - loss: 1765.6056 - accuracy: 0.5571 - val_loss: 490.2924 - val_accuracy: 0.6452\n",
      "Epoch 8/1000\n",
      "23/23 [==============================] - ETA: 0s - loss: 1845.3357 - accuracy: 0.562 - ETA: 0s - loss: 1269.4105 - accuracy: 0.526 - ETA: 0s - loss: 1350.5662 - accuracy: 0.543 - ETA: 0s - loss: 1166.1506 - accuracy: 0.570 - 0s 18ms/step - loss: 1106.8241 - accuracy: 0.5707 - val_loss: 190.3246 - val_accuracy: 0.6645\n",
      "Epoch 9/1000\n",
      "23/23 [==============================] - ETA: 0s - loss: 671.9520 - accuracy: 0.50 - ETA: 0s - loss: 876.2230 - accuracy: 0.50 - ETA: 0s - loss: 858.6147 - accuracy: 0.50 - ETA: 0s - loss: 984.4918 - accuracy: 0.52 - ETA: 0s - loss: 1009.7477 - accuracy: 0.538 - 0s 18ms/step - loss: 945.4902 - accuracy: 0.5421 - val_loss: 572.4778 - val_accuracy: 0.6387\n",
      "Epoch 10/1000\n",
      "23/23 [==============================] - ETA: 0s - loss: 2667.5088 - accuracy: 0.437 - ETA: 0s - loss: 1013.7684 - accuracy: 0.473 - ETA: 0s - loss: 932.0723 - accuracy: 0.507 - ETA: 0s - loss: 848.5173 - accuracy: 0.50 - ETA: 0s - loss: 866.4250 - accuracy: 0.52 - 0s 20ms/step - loss: 866.4250 - accuracy: 0.5272 - val_loss: 189.5561 - val_accuracy: 0.6645\n",
      "Epoch 11/1000\n",
      "23/23 [==============================] - ETA: 0s - loss: 1875.4026 - accuracy: 0.437 - ETA: 0s - loss: 1236.5979 - accuracy: 0.421 - ETA: 0s - loss: 1018.9102 - accuracy: 0.479 - ETA: 0s - loss: 1052.7219 - accuracy: 0.495 - ETA: 0s - loss: 951.5718 - accuracy: 0.500 - ETA: 0s - loss: 941.1359 - accuracy: 0.52 - ETA: 0s - loss: 771.2370 - accuracy: 0.53 - 1s 24ms/step - loss: 722.8066 - accuracy: 0.5408 - val_loss: 218.5962 - val_accuracy: 0.6645\n",
      "Epoch 12/1000\n",
      "23/23 [==============================] - ETA: 0s - loss: 730.2802 - accuracy: 0.53 - ETA: 0s - loss: 743.8640 - accuracy: 0.50 - ETA: 0s - loss: 728.3562 - accuracy: 0.52 - ETA: 0s - loss: 682.0276 - accuracy: 0.52 - 0s 16ms/step - loss: 642.3685 - accuracy: 0.5353 - val_loss: 123.1670 - val_accuracy: 0.3806\n",
      "Epoch 13/1000\n",
      "23/23 [==============================] - ETA: 0s - loss: 476.1577 - accuracy: 0.53 - ETA: 0s - loss: 756.9102 - accuracy: 0.53 - ETA: 0s - loss: 761.7281 - accuracy: 0.54 - ETA: 0s - loss: 710.3357 - accuracy: 0.53 - 0s 14ms/step - loss: 648.3847 - accuracy: 0.5408 - val_loss: 72.1460 - val_accuracy: 0.5806\n",
      "Epoch 14/1000\n",
      "23/23 [==============================] - ETA: 0s - loss: 300.7208 - accuracy: 0.59 - ETA: 0s - loss: 563.5707 - accuracy: 0.63 - ETA: 0s - loss: 545.2308 - accuracy: 0.59 - ETA: 0s - loss: 442.2533 - accuracy: 0.57 - ETA: 0s - loss: 448.4057 - accuracy: 0.56 - ETA: 0s - loss: 425.4951 - accuracy: 0.56 - 1s 23ms/step - loss: 406.0626 - accuracy: 0.5666 - val_loss: 504.8611 - val_accuracy: 0.6645\n",
      "Epoch 15/1000\n",
      "23/23 [==============================] - ETA: 0s - loss: 1435.0054 - accuracy: 0.500 - ETA: 0s - loss: 853.9133 - accuracy: 0.540 - ETA: 0s - loss: 639.3425 - accuracy: 0.55 - ETA: 0s - loss: 592.9341 - accuracy: 0.55 - ETA: 0s - loss: 587.2681 - accuracy: 0.56 - 0s 17ms/step - loss: 560.4470 - accuracy: 0.5679 - val_loss: 395.1161 - val_accuracy: 0.6645\n",
      "Epoch 16/1000\n",
      "23/23 [==============================] - ETA: 0s - loss: 726.7239 - accuracy: 0.40 - ETA: 0s - loss: 510.3216 - accuracy: 0.53 - ETA: 0s - loss: 552.6586 - accuracy: 0.51 - ETA: 0s - loss: 446.5428 - accuracy: 0.53 - ETA: 0s - loss: 484.3384 - accuracy: 0.53 - ETA: 0s - loss: 560.6812 - accuracy: 0.55 - 1s 26ms/step - loss: 582.3704 - accuracy: 0.5666 - val_loss: 479.3272 - val_accuracy: 0.6581\n",
      "Epoch 17/1000\n",
      "23/23 [==============================] - ETA: 0s - loss: 1114.4338 - accuracy: 0.468 - ETA: 0s - loss: 920.0365 - accuracy: 0.517 - ETA: 0s - loss: 759.1514 - accuracy: 0.51 - ETA: 0s - loss: 699.5452 - accuracy: 0.52 - ETA: 0s - loss: 624.2674 - accuracy: 0.54 - 0s 18ms/step - loss: 592.5786 - accuracy: 0.5530 - val_loss: 221.9203 - val_accuracy: 0.6645\n",
      "Epoch 18/1000\n",
      "23/23 [==============================] - ETA: 0s - loss: 559.4506 - accuracy: 0.46 - ETA: 0s - loss: 679.1282 - accuracy: 0.51 - ETA: 0s - loss: 533.5298 - accuracy: 0.52 - ETA: 0s - loss: 538.7019 - accuracy: 0.53 - ETA: 0s - loss: 474.0147 - accuracy: 0.54 - 1s 26ms/step - loss: 418.6719 - accuracy: 0.5435 - val_loss: 238.1142 - val_accuracy: 0.6774\n",
      "Epoch 19/1000\n",
      "23/23 [==============================] - ETA: 0s - loss: 519.6937 - accuracy: 0.46 - ETA: 0s - loss: 535.8997 - accuracy: 0.47 - ETA: 0s - loss: 459.5591 - accuracy: 0.49 - ETA: 0s - loss: 394.6151 - accuracy: 0.51 - ETA: 0s - loss: 376.6107 - accuracy: 0.53 - 0s 19ms/step - loss: 376.6107 - accuracy: 0.5367 - val_loss: 177.2765 - val_accuracy: 0.6258\n",
      "Epoch 20/1000\n",
      "23/23 [==============================] - ETA: 0s - loss: 548.6407 - accuracy: 0.50 - ETA: 0s - loss: 588.3749 - accuracy: 0.56 - ETA: 0s - loss: 527.4420 - accuracy: 0.55 - ETA: 0s - loss: 437.3306 - accuracy: 0.53 - 0s 20ms/step - loss: 410.4113 - accuracy: 0.5421 - val_loss: 118.1069 - val_accuracy: 0.6516\n",
      "Epoch 21/1000\n",
      "23/23 [==============================] - ETA: 0s - loss: 847.2858 - accuracy: 0.46 - ETA: 0s - loss: 316.5262 - accuracy: 0.55 - ETA: 0s - loss: 303.9221 - accuracy: 0.54 - ETA: 0s - loss: 347.7365 - accuracy: 0.51 - ETA: 0s - loss: 382.1267 - accuracy: 0.52 - 0s 18ms/step - loss: 382.1267 - accuracy: 0.5245 - val_loss: 213.0738 - val_accuracy: 0.6387\n",
      "Epoch 22/1000\n",
      "23/23 [==============================] - ETA: 0s - loss: 695.4347 - accuracy: 0.46 - ETA: 0s - loss: 398.7271 - accuracy: 0.55 - ETA: 0s - loss: 328.4196 - accuracy: 0.55 - ETA: 0s - loss: 316.5138 - accuracy: 0.55 - ETA: 0s - loss: 288.5353 - accuracy: 0.55 - 1s 22ms/step - loss: 278.7702 - accuracy: 0.5611 - val_loss: 73.8902 - val_accuracy: 0.6903\n"
     ]
    },
    {
     "name": "stdout",
     "output_type": "stream",
     "text": [
      "Epoch 23/1000\n",
      "23/23 [==============================] - ETA: 0s - loss: 275.7951 - accuracy: 0.46 - ETA: 0s - loss: 374.0919 - accuracy: 0.53 - ETA: 0s - loss: 295.2701 - accuracy: 0.51 - ETA: 0s - loss: 259.0827 - accuracy: 0.53 - 0s 17ms/step - loss: 246.1590 - accuracy: 0.5516 - val_loss: 81.5013 - val_accuracy: 0.6516\n"
     ]
    },
    {
     "data": {
      "text/html": [
       "<span style=\"color:#4527A0\"><h1 style=\"font-size:18px\">Trial complete</h1></span>"
      ],
      "text/plain": [
       "<IPython.core.display.HTML object>"
      ]
     },
     "metadata": {},
     "output_type": "display_data"
    },
    {
     "data": {
      "text/html": [
       "<span style=\"color:#4527A0\"><h1 style=\"font-size:18px\">Trial summary</h1></span>"
      ],
      "text/plain": [
       "<IPython.core.display.HTML object>"
      ]
     },
     "metadata": {},
     "output_type": "display_data"
    },
    {
     "data": {
      "text/html": [
       "<span style=\"color:cyan\"> |-Trial ID: 943aff5de323b2bcb6fe4710bc9bf72a</span>"
      ],
      "text/plain": [
       "<IPython.core.display.HTML object>"
      ]
     },
     "metadata": {},
     "output_type": "display_data"
    },
    {
     "data": {
      "text/html": [
       "<span style=\"color:cyan\"> |-Score: 0.6903225779533386</span>"
      ],
      "text/plain": [
       "<IPython.core.display.HTML object>"
      ]
     },
     "metadata": {},
     "output_type": "display_data"
    },
    {
     "data": {
      "text/html": [
       "<span style=\"color:cyan\"> |-Best step: 21</span>"
      ],
      "text/plain": [
       "<IPython.core.display.HTML object>"
      ]
     },
     "metadata": {},
     "output_type": "display_data"
    },
    {
     "data": {
      "text/html": [
       "<span style=\"color:#7E57C2\"><h2 style=\"font-size:16px\">Hyperparameters:</h2></span>"
      ],
      "text/plain": [
       "<IPython.core.display.HTML object>"
      ]
     },
     "metadata": {},
     "output_type": "display_data"
    },
    {
     "data": {
      "text/html": [
       "<span style=\"color:cyan\"> |-classification_head_2/dropout: 0</span>"
      ],
      "text/plain": [
       "<IPython.core.display.HTML object>"
      ]
     },
     "metadata": {},
     "output_type": "display_data"
    },
    {
     "data": {
      "text/html": [
       "<span style=\"color:blue\"> |-learning_rate: 0.001</span>"
      ],
      "text/plain": [
       "<IPython.core.display.HTML object>"
      ]
     },
     "metadata": {},
     "output_type": "display_data"
    },
    {
     "data": {
      "text/html": [
       "<span style=\"color:cyan\"> |-optimizer: adam</span>"
      ],
      "text/plain": [
       "<IPython.core.display.HTML object>"
      ]
     },
     "metadata": {},
     "output_type": "display_data"
    },
    {
     "data": {
      "text/html": [
       "<span style=\"color:blue\"> |-structured_data_block_2/dense_block_1/dropout: 0.25</span>"
      ],
      "text/plain": [
       "<IPython.core.display.HTML object>"
      ]
     },
     "metadata": {},
     "output_type": "display_data"
    },
    {
     "data": {
      "text/html": [
       "<span style=\"color:cyan\"> |-structured_data_block_2/dense_block_1/num_layers: 3</span>"
      ],
      "text/plain": [
       "<IPython.core.display.HTML object>"
      ]
     },
     "metadata": {},
     "output_type": "display_data"
    },
    {
     "data": {
      "text/html": [
       "<span style=\"color:blue\"> |-structured_data_block_2/dense_block_1/units_0: 16</span>"
      ],
      "text/plain": [
       "<IPython.core.display.HTML object>"
      ]
     },
     "metadata": {},
     "output_type": "display_data"
    },
    {
     "data": {
      "text/html": [
       "<span style=\"color:cyan\"> |-structured_data_block_2/dense_block_1/units_1: 256</span>"
      ],
      "text/plain": [
       "<IPython.core.display.HTML object>"
      ]
     },
     "metadata": {},
     "output_type": "display_data"
    },
    {
     "data": {
      "text/html": [
       "<span style=\"color:blue\"> |-structured_data_block_2/dense_block_1/units_2: 1024</span>"
      ],
      "text/plain": [
       "<IPython.core.display.HTML object>"
      ]
     },
     "metadata": {},
     "output_type": "display_data"
    },
    {
     "data": {
      "text/html": [
       "<span style=\"color:cyan\"> |-structured_data_block_2/dense_block_1/use_batchnorm: False</span>"
      ],
      "text/plain": [
       "<IPython.core.display.HTML object>"
      ]
     },
     "metadata": {},
     "output_type": "display_data"
    },
    {
     "data": {
      "text/html": [
       "<span style=\"color:#4527A0\"><h1 style=\"font-size:18px\">Starting new trial</h1></span>"
      ],
      "text/plain": [
       "<IPython.core.display.HTML object>"
      ]
     },
     "metadata": {},
     "output_type": "display_data"
    },
    {
     "name": "stdout",
     "output_type": "stream",
     "text": [
      "Epoch 1/1000\n",
      "23/23 [==============================] - ETA: 0s - loss: 1.1307 - accuracy: 0.43 - ETA: 0s - loss: 0.8212 - accuracy: 0.49 - 1s 32ms/step - loss: 0.8170 - accuracy: 0.5041 - val_loss: 0.7191 - val_accuracy: 0.3677\n",
      "Epoch 2/1000\n",
      "23/23 [==============================] - ETA: 0s - loss: 0.6220 - accuracy: 0.62 - ETA: 0s - loss: 0.8356 - accuracy: 0.53 - 0s 8ms/step - loss: 0.7840 - accuracy: 0.5516 - val_loss: 0.6842 - val_accuracy: 0.5484\n",
      "Epoch 3/1000\n",
      "23/23 [==============================] - ETA: 0s - loss: 0.7389 - accuracy: 0.62 - ETA: 0s - loss: 0.7942 - accuracy: 0.54 - 0s 8ms/step - loss: 0.7596 - accuracy: 0.5584 - val_loss: 0.6664 - val_accuracy: 0.6387\n",
      "Epoch 4/1000\n",
      "23/23 [==============================] - ETA: 0s - loss: 0.6156 - accuracy: 0.59 - ETA: 0s - loss: 0.7536 - accuracy: 0.55 - 0s 8ms/step - loss: 0.7261 - accuracy: 0.5761 - val_loss: 0.6428 - val_accuracy: 0.6452\n",
      "Epoch 5/1000\n",
      "23/23 [==============================] - ETA: 0s - loss: 0.7747 - accuracy: 0.43 - ETA: 0s - loss: 0.7794 - accuracy: 0.55 - 0s 9ms/step - loss: 0.7513 - accuracy: 0.5870 - val_loss: 0.6280 - val_accuracy: 0.7097\n",
      "Epoch 6/1000\n",
      "23/23 [==============================] - ETA: 0s - loss: 0.7655 - accuracy: 0.59 - ETA: 0s - loss: 0.8163 - accuracy: 0.56 - 0s 9ms/step - loss: 0.7510 - accuracy: 0.5938 - val_loss: 0.6223 - val_accuracy: 0.7097\n",
      "Epoch 7/1000\n",
      "23/23 [==============================] - ETA: 0s - loss: 0.7597 - accuracy: 0.56 - ETA: 0s - loss: 0.7619 - accuracy: 0.55 - ETA: 0s - loss: 0.7328 - accuracy: 0.57 - ETA: 0s - loss: 0.7312 - accuracy: 0.56 - 1s 23ms/step - loss: 0.7209 - accuracy: 0.5802 - val_loss: 0.6188 - val_accuracy: 0.6903\n",
      "Epoch 8/1000\n",
      "23/23 [==============================] - ETA: 0s - loss: 0.9154 - accuracy: 0.59 - ETA: 0s - loss: 0.7209 - accuracy: 0.59 - ETA: 0s - loss: 0.7285 - accuracy: 0.58 - ETA: 0s - loss: 0.7319 - accuracy: 0.59 - 0s 17ms/step - loss: 0.7237 - accuracy: 0.5870 - val_loss: 0.6166 - val_accuracy: 0.6968\n",
      "Epoch 9/1000\n",
      "23/23 [==============================] - ETA: 0s - loss: 0.6368 - accuracy: 0.59 - ETA: 0s - loss: 0.7065 - accuracy: 0.57 - ETA: 0s - loss: 0.6958 - accuracy: 0.57 - 0s 15ms/step - loss: 0.6952 - accuracy: 0.5761 - val_loss: 0.6144 - val_accuracy: 0.6903\n",
      "Epoch 10/1000\n",
      "23/23 [==============================] - ETA: 0s - loss: 0.7210 - accuracy: 0.46 - ETA: 0s - loss: 0.6607 - accuracy: 0.60 - ETA: 0s - loss: 0.6813 - accuracy: 0.59 - 0s 12ms/step - loss: 0.6730 - accuracy: 0.6005 - val_loss: 0.6122 - val_accuracy: 0.6903\n",
      "Epoch 11/1000\n",
      "23/23 [==============================] - ETA: 0s - loss: 0.6954 - accuracy: 0.53 - ETA: 0s - loss: 0.7164 - accuracy: 0.56 - ETA: 0s - loss: 0.7231 - accuracy: 0.57 - 0s 13ms/step - loss: 0.7119 - accuracy: 0.5829 - val_loss: 0.6133 - val_accuracy: 0.6903\n",
      "Epoch 12/1000\n",
      "23/23 [==============================] - ETA: 0s - loss: 0.7993 - accuracy: 0.56 - ETA: 0s - loss: 0.7045 - accuracy: 0.58 - ETA: 0s - loss: 0.6881 - accuracy: 0.60 - 0s 13ms/step - loss: 0.6865 - accuracy: 0.6114 - val_loss: 0.6159 - val_accuracy: 0.6839\n",
      "Epoch 13/1000\n",
      "23/23 [==============================] - ETA: 0s - loss: 0.6116 - accuracy: 0.68 - ETA: 0s - loss: 0.6707 - accuracy: 0.60 - ETA: 0s - loss: 0.6668 - accuracy: 0.62 - 0s 11ms/step - loss: 0.6672 - accuracy: 0.6236 - val_loss: 0.6136 - val_accuracy: 0.6839\n",
      "Epoch 14/1000\n",
      "23/23 [==============================] - ETA: 0s - loss: 0.8916 - accuracy: 0.37 - ETA: 0s - loss: 0.7025 - accuracy: 0.56 - ETA: 0s - loss: 0.7067 - accuracy: 0.58 - 0s 11ms/step - loss: 0.7067 - accuracy: 0.5802 - val_loss: 0.6143 - val_accuracy: 0.6839\n",
      "Epoch 15/1000\n",
      "23/23 [==============================] - ETA: 0s - loss: 0.9440 - accuracy: 0.50 - ETA: 0s - loss: 0.7322 - accuracy: 0.54 - ETA: 0s - loss: 0.7080 - accuracy: 0.57 - ETA: 0s - loss: 0.7053 - accuracy: 0.57 - 0s 18ms/step - loss: 0.6971 - accuracy: 0.5910 - val_loss: 0.6166 - val_accuracy: 0.6839\n",
      "Epoch 16/1000\n",
      "23/23 [==============================] - ETA: 0s - loss: 0.7477 - accuracy: 0.40 - ETA: 0s - loss: 0.7059 - accuracy: 0.57 - ETA: 0s - loss: 0.6965 - accuracy: 0.59 - 0s 11ms/step - loss: 0.6965 - accuracy: 0.5978 - val_loss: 0.6175 - val_accuracy: 0.6710\n",
      "Epoch 17/1000\n",
      "23/23 [==============================] - ETA: 0s - loss: 0.6801 - accuracy: 0.56 - ETA: 0s - loss: 0.7039 - accuracy: 0.58 - ETA: 0s - loss: 0.6899 - accuracy: 0.59 - 0s 12ms/step - loss: 0.6899 - accuracy: 0.5951 - val_loss: 0.6170 - val_accuracy: 0.6710\n",
      "Epoch 18/1000\n",
      "23/23 [==============================] - ETA: 0s - loss: 0.7470 - accuracy: 0.46 - ETA: 0s - loss: 0.7056 - accuracy: 0.51 - ETA: 0s - loss: 0.6633 - accuracy: 0.57 - ETA: 0s - loss: 0.6622 - accuracy: 0.60 - ETA: 0s - loss: 0.6806 - accuracy: 0.62 - 0s 19ms/step - loss: 0.6680 - accuracy: 0.6304 - val_loss: 0.6168 - val_accuracy: 0.6710\n",
      "Epoch 19/1000\n",
      "23/23 [==============================] - ETA: 0s - loss: 0.8723 - accuracy: 0.43 - ETA: 0s - loss: 0.7141 - accuracy: 0.56 - 0s 11ms/step - loss: 0.6793 - accuracy: 0.5910 - val_loss: 0.6181 - val_accuracy: 0.6710\n",
      "Epoch 20/1000\n",
      "23/23 [==============================] - ETA: 0s - loss: 0.8677 - accuracy: 0.37 - ETA: 0s - loss: 0.6973 - accuracy: 0.58 - ETA: 0s - loss: 0.7050 - accuracy: 0.58 - 0s 13ms/step - loss: 0.6904 - accuracy: 0.5910 - val_loss: 0.6184 - val_accuracy: 0.6710\n"
     ]
    },
    {
     "data": {
      "text/html": [
       "<span style=\"color:#4527A0\"><h1 style=\"font-size:18px\">Trial complete</h1></span>"
      ],
      "text/plain": [
       "<IPython.core.display.HTML object>"
      ]
     },
     "metadata": {},
     "output_type": "display_data"
    },
    {
     "data": {
      "text/html": [
       "<span style=\"color:#4527A0\"><h1 style=\"font-size:18px\">Trial summary</h1></span>"
      ],
      "text/plain": [
       "<IPython.core.display.HTML object>"
      ]
     },
     "metadata": {},
     "output_type": "display_data"
    },
    {
     "data": {
      "text/html": [
       "<span style=\"color:cyan\"> |-Trial ID: 5839bcafdd6915eeb01acba70d3d3b50</span>"
      ],
      "text/plain": [
       "<IPython.core.display.HTML object>"
      ]
     },
     "metadata": {},
     "output_type": "display_data"
    },
    {
     "data": {
      "text/html": [
       "<span style=\"color:cyan\"> |-Score: 0.7096773982048035</span>"
      ],
      "text/plain": [
       "<IPython.core.display.HTML object>"
      ]
     },
     "metadata": {},
     "output_type": "display_data"
    },
    {
     "data": {
      "text/html": [
       "<span style=\"color:cyan\"> |-Best step: 4</span>"
      ],
      "text/plain": [
       "<IPython.core.display.HTML object>"
      ]
     },
     "metadata": {},
     "output_type": "display_data"
    },
    {
     "data": {
      "text/html": [
       "<span style=\"color:#7E57C2\"><h2 style=\"font-size:16px\">Hyperparameters:</h2></span>"
      ],
      "text/plain": [
       "<IPython.core.display.HTML object>"
      ]
     },
     "metadata": {},
     "output_type": "display_data"
    },
    {
     "data": {
      "text/html": [
       "<span style=\"color:cyan\"> |-classification_head_2/dropout: 0</span>"
      ],
      "text/plain": [
       "<IPython.core.display.HTML object>"
      ]
     },
     "metadata": {},
     "output_type": "display_data"
    },
    {
     "data": {
      "text/html": [
       "<span style=\"color:blue\"> |-learning_rate: 0.001</span>"
      ],
      "text/plain": [
       "<IPython.core.display.HTML object>"
      ]
     },
     "metadata": {},
     "output_type": "display_data"
    },
    {
     "data": {
      "text/html": [
       "<span style=\"color:cyan\"> |-optimizer: adam</span>"
      ],
      "text/plain": [
       "<IPython.core.display.HTML object>"
      ]
     },
     "metadata": {},
     "output_type": "display_data"
    },
    {
     "data": {
      "text/html": [
       "<span style=\"color:blue\"> |-structured_data_block_2/dense_block_1/dropout: 0.5</span>"
      ],
      "text/plain": [
       "<IPython.core.display.HTML object>"
      ]
     },
     "metadata": {},
     "output_type": "display_data"
    },
    {
     "data": {
      "text/html": [
       "<span style=\"color:cyan\"> |-structured_data_block_2/dense_block_1/num_layers: 3</span>"
      ],
      "text/plain": [
       "<IPython.core.display.HTML object>"
      ]
     },
     "metadata": {},
     "output_type": "display_data"
    },
    {
     "data": {
      "text/html": [
       "<span style=\"color:blue\"> |-structured_data_block_2/dense_block_1/units_0: 32</span>"
      ],
      "text/plain": [
       "<IPython.core.display.HTML object>"
      ]
     },
     "metadata": {},
     "output_type": "display_data"
    },
    {
     "data": {
      "text/html": [
       "<span style=\"color:cyan\"> |-structured_data_block_2/dense_block_1/units_1: 128</span>"
      ],
      "text/plain": [
       "<IPython.core.display.HTML object>"
      ]
     },
     "metadata": {},
     "output_type": "display_data"
    },
    {
     "data": {
      "text/html": [
       "<span style=\"color:blue\"> |-structured_data_block_2/dense_block_1/units_2: 16</span>"
      ],
      "text/plain": [
       "<IPython.core.display.HTML object>"
      ]
     },
     "metadata": {},
     "output_type": "display_data"
    },
    {
     "data": {
      "text/html": [
       "<span style=\"color:cyan\"> |-structured_data_block_2/dense_block_1/use_batchnorm: True</span>"
      ],
      "text/plain": [
       "<IPython.core.display.HTML object>"
      ]
     },
     "metadata": {},
     "output_type": "display_data"
    },
    {
     "data": {
      "text/html": [
       "<span style=\"color:#4527A0\"><h1 style=\"font-size:18px\">Starting new trial</h1></span>"
      ],
      "text/plain": [
       "<IPython.core.display.HTML object>"
      ]
     },
     "metadata": {},
     "output_type": "display_data"
    },
    {
     "name": "stdout",
     "output_type": "stream",
     "text": [
      "Epoch 1/1000\n",
      "23/23 [==============================] - ETA: 0s - loss: 14692.9932 - accuracy: 0.50 - ETA: 0s - loss: 7249.6836 - accuracy: 0.6265 - 1s 24ms/step - loss: 6826.7783 - accuracy: 0.6304 - val_loss: 6409.4297 - val_accuracy: 0.6387\n",
      "Epoch 2/1000\n",
      "23/23 [==============================] - ETA: 0s - loss: 14692.7246 - accuracy: 0.50 - ETA: 0s - loss: 7165.0391 - accuracy: 0.6181 - 0s 7ms/step - loss: 6826.6270 - accuracy: 0.6304 - val_loss: 6409.2852 - val_accuracy: 0.6387\n",
      "Epoch 3/1000\n",
      "23/23 [==============================] - ETA: 0s - loss: 14692.4502 - accuracy: 0.50 - ETA: 0s - loss: 7249.3555 - accuracy: 0.6265 - 0s 7ms/step - loss: 6826.4702 - accuracy: 0.6304 - val_loss: 6409.1348 - val_accuracy: 0.6387\n",
      "Epoch 4/1000\n",
      "23/23 [==============================] - ETA: 0s - loss: 14692.1680 - accuracy: 0.50 - ETA: 0s - loss: 7378.1719 - accuracy: 0.6184 - 0s 6ms/step - loss: 6826.3120 - accuracy: 0.6304 - val_loss: 6408.9858 - val_accuracy: 0.6387\n",
      "Epoch 5/1000\n",
      "23/23 [==============================] - ETA: 0s - loss: 14691.8887 - accuracy: 0.50 - ETA: 0s - loss: 7990.4463 - accuracy: 0.6138 - 0s 13ms/step - loss: 6826.1514 - accuracy: 0.6304 - val_loss: 6408.8330 - val_accuracy: 0.6387\n",
      "Epoch 6/1000\n",
      "23/23 [==============================] - ETA: 0s - loss: 14691.5977 - accuracy: 0.50 - ETA: 0s - loss: 7990.2612 - accuracy: 0.6138 - 0s 10ms/step - loss: 6825.9897 - accuracy: 0.6304 - val_loss: 6408.6802 - val_accuracy: 0.6387\n",
      "Epoch 7/1000\n",
      "23/23 [==============================] - ETA: 0s - loss: 14691.3066 - accuracy: 0.50 - ETA: 0s - loss: 7747.5083 - accuracy: 0.6250 - ETA: 0s - loss: 8090.7993 - accuracy: 0.622 - ETA: 0s - loss: 6825.8267 - accuracy: 0.630 - 0s 15ms/step - loss: 6825.8267 - accuracy: 0.6304 - val_loss: 6408.5254 - val_accuracy: 0.6387\n",
      "Epoch 8/1000\n",
      "23/23 [==============================] - ETA: 0s - loss: 14691.0117 - accuracy: 0.50 - ETA: 0s - loss: 7691.1221 - accuracy: 0.6211 - 0s 9ms/step - loss: 6825.6611 - accuracy: 0.6304 - val_loss: 6408.3701 - val_accuracy: 0.6387\n",
      "Epoch 9/1000\n",
      "23/23 [==============================] - ETA: 0s - loss: 14690.7197 - accuracy: 0.50 - ETA: 0s - loss: 7690.9390 - accuracy: 0.6211 - 0s 8ms/step - loss: 6825.4966 - accuracy: 0.6304 - val_loss: 6408.2134 - val_accuracy: 0.6387\n",
      "Epoch 10/1000\n",
      "23/23 [==============================] - ETA: 0s - loss: 14690.4180 - accuracy: 0.50 - ETA: 0s - loss: 7163.7109 - accuracy: 0.6181 - 0s 8ms/step - loss: 6825.3296 - accuracy: 0.6304 - val_loss: 6408.0552 - val_accuracy: 0.6387\n",
      "Epoch 11/1000\n",
      "23/23 [==============================] - ETA: 0s - loss: 14690.1182 - accuracy: 0.50 - ETA: 0s - loss: 7746.7686 - accuracy: 0.6250 - ETA: 0s - loss: 7376.9438 - accuracy: 0.618 - 0s 12ms/step - loss: 6825.1611 - accuracy: 0.6304 - val_loss: 6407.8960 - val_accuracy: 0.6387\n",
      "Epoch 12/1000\n",
      "23/23 [==============================] - ETA: 0s - loss: 14689.8164 - accuracy: 0.50 - ETA: 0s - loss: 8038.3394 - accuracy: 0.6167 - 0s 10ms/step - loss: 6824.9917 - accuracy: 0.6304 - val_loss: 6407.7354 - val_accuracy: 0.6387\n",
      "Epoch 13/1000\n",
      "23/23 [==============================] - ETA: 0s - loss: 14689.5127 - accuracy: 0.50 - ETA: 0s - loss: 7988.9248 - accuracy: 0.6138 - 0s 14ms/step - loss: 6824.8213 - accuracy: 0.6304 - val_loss: 6407.5757 - val_accuracy: 0.6387\n",
      "Epoch 14/1000\n",
      "23/23 [==============================] - ETA: 0s - loss: 14689.2080 - accuracy: 0.50 - ETA: 0s - loss: 7988.7310 - accuracy: 0.6138 - 0s 13ms/step - loss: 6824.6523 - accuracy: 0.6304 - val_loss: 6407.4131 - val_accuracy: 0.6387\n",
      "Epoch 15/1000\n",
      "23/23 [==============================] - ETA: 0s - loss: 14688.8994 - accuracy: 0.50 - ETA: 0s - loss: 8037.7432 - accuracy: 0.6167 - 0s 10ms/step - loss: 6824.4805 - accuracy: 0.6304 - val_loss: 6407.2510 - val_accuracy: 0.6387\n",
      "Epoch 16/1000\n",
      "23/23 [==============================] - ETA: 0s - loss: 14688.5898 - accuracy: 0.50 - ETA: 0s - loss: 8037.5435 - accuracy: 0.6167 - 0s 9ms/step - loss: 6824.3076 - accuracy: 0.6304 - val_loss: 6407.0894 - val_accuracy: 0.6387\n",
      "Epoch 17/1000\n",
      "23/23 [==============================] - ETA: 0s - loss: 14688.2842 - accuracy: 0.50 - ETA: 0s - loss: 7689.4150 - accuracy: 0.6230 - 0s 9ms/step - loss: 6824.1353 - accuracy: 0.6318 - val_loss: 6406.9272 - val_accuracy: 0.6387\n",
      "Epoch 18/1000\n",
      "23/23 [==============================] - ETA: 0s - loss: 14687.9707 - accuracy: 0.50 - ETA: 0s - loss: 7400.7676 - accuracy: 0.6250 - ETA: 0s - loss: 7001.6748 - accuracy: 0.630 - 0s 10ms/step - loss: 6823.9624 - accuracy: 0.6318 - val_loss: 6406.7642 - val_accuracy: 0.6387\n",
      "Epoch 19/1000\n",
      "23/23 [==============================] - ETA: 0s - loss: 14687.6641 - accuracy: 0.50 - ETA: 0s - loss: 8036.9419 - accuracy: 0.6187 - 0s 11ms/step - loss: 6823.7905 - accuracy: 0.6318 - val_loss: 6406.6016 - val_accuracy: 0.6387\n",
      "Epoch 20/1000\n",
      "23/23 [==============================] - ETA: 0s - loss: 14687.3516 - accuracy: 0.50 - ETA: 0s - loss: 7161.9570 - accuracy: 0.6198 - 0s 9ms/step - loss: 6823.6182 - accuracy: 0.6318 - val_loss: 6406.4380 - val_accuracy: 0.6387\n",
      "Epoch 21/1000\n",
      "23/23 [==============================] - ETA: 0s - loss: 14687.0430 - accuracy: 0.50 - ETA: 0s - loss: 7375.1118 - accuracy: 0.6201 - 0s 9ms/step - loss: 6823.4429 - accuracy: 0.6318 - val_loss: 6406.2749 - val_accuracy: 0.6387\n",
      "Epoch 22/1000\n",
      "23/23 [==============================] - ETA: 0s - loss: 14686.7285 - accuracy: 0.50 - ETA: 0s - loss: 8087.7808 - accuracy: 0.6250 - 0s 9ms/step - loss: 6823.2705 - accuracy: 0.6318 - val_loss: 6406.1118 - val_accuracy: 0.6387\n",
      "Epoch 23/1000\n",
      "23/23 [==============================] - ETA: 0s - loss: 14686.4160 - accuracy: 0.50 - ETA: 0s - loss: 7986.9487 - accuracy: 0.6161 - 0s 12ms/step - loss: 6823.0967 - accuracy: 0.6318 - val_loss: 6405.9468 - val_accuracy: 0.6387\n",
      "Epoch 24/1000\n",
      "23/23 [==============================] - ETA: 0s - loss: 14686.1025 - accuracy: 0.50 - ETA: 0s - loss: 7367.4805 - accuracy: 0.6213 - 0s 9ms/step - loss: 6822.9224 - accuracy: 0.6304 - val_loss: 6405.7837 - val_accuracy: 0.6387\n",
      "Epoch 25/1000\n",
      "23/23 [==============================] - ETA: 0s - loss: 14685.7891 - accuracy: 0.50 - ETA: 0s - loss: 7367.2954 - accuracy: 0.6213 - 0s 10ms/step - loss: 6822.7485 - accuracy: 0.6304 - val_loss: 6405.6182 - val_accuracy: 0.6387\n",
      "Epoch 26/1000\n",
      "23/23 [==============================] - ETA: 0s - loss: 14685.4697 - accuracy: 0.50 - ETA: 0s - loss: 7399.2886 - accuracy: 0.6250 - ETA: 0s - loss: 7171.3281 - accuracy: 0.623 - 0s 10ms/step - loss: 6822.5742 - accuracy: 0.6304 - val_loss: 6405.4541 - val_accuracy: 0.6387\n",
      "Epoch 27/1000\n",
      "23/23 [==============================] - ETA: 0s - loss: 14685.1523 - accuracy: 0.50 - ETA: 0s - loss: 8086.7495 - accuracy: 0.6250 - ETA: 0s - loss: 7000.0752 - accuracy: 0.629 - ETA: 0s - loss: 6822.4009 - accuracy: 0.630 - 0s 16ms/step - loss: 6822.4009 - accuracy: 0.6304 - val_loss: 6405.2896 - val_accuracy: 0.6387\n",
      "Epoch 28/1000\n",
      "23/23 [==============================] - ETA: 0s - loss: 14684.8320 - accuracy: 0.50 - ETA: 0s - loss: 8035.1157 - accuracy: 0.6187 - 0s 10ms/step - loss: 6822.2271 - accuracy: 0.6304 - val_loss: 6405.1245 - val_accuracy: 0.6387\n",
      "Epoch 29/1000\n",
      "23/23 [==============================] - ETA: 0s - loss: 14684.5156 - accuracy: 0.50 - ETA: 0s - loss: 7687.0767 - accuracy: 0.6230 - 0s 11ms/step - loss: 6822.0508 - accuracy: 0.6304 - val_loss: 6404.9614 - val_accuracy: 0.6387\n",
      "Epoch 30/1000\n",
      "23/23 [==============================] - ETA: 0s - loss: 14684.1973 - accuracy: 0.50 - ETA: 0s - loss: 7743.1030 - accuracy: 0.6278 - 0s 12ms/step - loss: 6821.8779 - accuracy: 0.6304 - val_loss: 6404.7954 - val_accuracy: 0.6387\n",
      "Epoch 31/1000\n",
      "23/23 [==============================] - ETA: 0s - loss: 14683.8799 - accuracy: 0.50 - ETA: 0s - loss: 8034.5029 - accuracy: 0.6187 - 0s 17ms/step - loss: 6821.7036 - accuracy: 0.6304 - val_loss: 6404.6313 - val_accuracy: 0.6387\n",
      "Epoch 32/1000\n",
      "23/23 [==============================] - ETA: 0s - loss: 14683.5596 - accuracy: 0.50 - ETA: 0s - loss: 7398.1694 - accuracy: 0.6250 - 0s 14ms/step - loss: 6821.5283 - accuracy: 0.6304 - val_loss: 6404.4658 - val_accuracy: 0.6387\n",
      "Epoch 33/1000\n"
     ]
    },
    {
     "name": "stdout",
     "output_type": "stream",
     "text": [
      "23/23 [==============================] - ETA: 0s - loss: 14683.2441 - accuracy: 0.50 - ETA: 0s - loss: 7984.9429 - accuracy: 0.6161 - ETA: 0s - loss: 6821.3530 - accuracy: 0.630 - 0s 13ms/step - loss: 6821.3530 - accuracy: 0.6304 - val_loss: 6404.3003 - val_accuracy: 0.6387\n",
      "Epoch 34/1000\n",
      "23/23 [==============================] - ETA: 0s - loss: 14682.9219 - accuracy: 0.50 - ETA: 0s - loss: 8658.0986 - accuracy: 0.5625 - ETA: 0s - loss: 8085.2974 - accuracy: 0.625 - ETA: 0s - loss: 6821.1787 - accuracy: 0.630 - 0s 17ms/step - loss: 6821.1787 - accuracy: 0.6304 - val_loss: 6404.1353 - val_accuracy: 0.6387\n",
      "Epoch 35/1000\n",
      "23/23 [==============================] - ETA: 0s - loss: 14682.6035 - accuracy: 0.50 - ETA: 0s - loss: 7984.5381 - accuracy: 0.6161 - ETA: 0s - loss: 6998.6436 - accuracy: 0.629 - 0s 18ms/step - loss: 6821.0029 - accuracy: 0.6304 - val_loss: 6403.9697 - val_accuracy: 0.6387\n",
      "Epoch 36/1000\n",
      "23/23 [==============================] - ETA: 0s - loss: 14682.2832 - accuracy: 0.50 - ETA: 0s - loss: 7397.4214 - accuracy: 0.6250 - ETA: 0s - loss: 6820.8286 - accuracy: 0.630 - 0s 14ms/step - loss: 6820.8286 - accuracy: 0.6304 - val_loss: 6403.8027 - val_accuracy: 0.6387\n",
      "Epoch 37/1000\n",
      "23/23 [==============================] - ETA: 0s - loss: 14681.9590 - accuracy: 0.50 - ETA: 0s - loss: 7741.7295 - accuracy: 0.6278 - ETA: 0s - loss: 7365.0586 - accuracy: 0.621 - 1s 27ms/step - loss: 6820.6514 - accuracy: 0.6304 - val_loss: 6403.6372 - val_accuracy: 0.6387\n",
      "Epoch 38/1000\n",
      "23/23 [==============================] - ETA: 0s - loss: 14681.6348 - accuracy: 0.50 - ETA: 0s - loss: 8084.4629 - accuracy: 0.6250 - 0s 13ms/step - loss: 6820.4751 - accuracy: 0.6304 - val_loss: 6403.4697 - val_accuracy: 0.6387\n",
      "Epoch 39/1000\n",
      "23/23 [==============================] - ETA: 0s - loss: 14681.3125 - accuracy: 0.50 - ETA: 0s - loss: 7396.8550 - accuracy: 0.6250 - ETA: 0s - loss: 7168.9546 - accuracy: 0.625 - 0s 15ms/step - loss: 6820.2983 - accuracy: 0.6304 - val_loss: 6403.3027 - val_accuracy: 0.6387\n",
      "Epoch 40/1000\n",
      "23/23 [==============================] - ETA: 0s - loss: 14680.9893 - accuracy: 0.50 - ETA: 0s - loss: 8084.0420 - accuracy: 0.6250 - 0s 11ms/step - loss: 6820.1201 - accuracy: 0.6304 - val_loss: 6403.1338 - val_accuracy: 0.6387\n",
      "Epoch 41/1000\n",
      "23/23 [==============================] - ETA: 0s - loss: 14680.6621 - accuracy: 0.50 - ETA: 0s - loss: 7879.6182 - accuracy: 0.6344 - ETA: 0s - loss: 7740.9360 - accuracy: 0.627 - ETA: 0s - loss: 6819.9443 - accuracy: 0.630 - 0s 16ms/step - loss: 6819.9443 - accuracy: 0.6304 - val_loss: 6402.9673 - val_accuracy: 0.6387\n",
      "Epoch 42/1000\n",
      "23/23 [==============================] - ETA: 0s - loss: 14680.3359 - accuracy: 0.50 - ETA: 0s - loss: 8083.6201 - accuracy: 0.6250 - 0s 12ms/step - loss: 6819.7656 - accuracy: 0.6304 - val_loss: 6402.8003 - val_accuracy: 0.6387\n",
      "Epoch 43/1000\n",
      "23/23 [==============================] - ETA: 0s - loss: 14680.0117 - accuracy: 0.50 - ETA: 0s - loss: 7740.5371 - accuracy: 0.6278 - ETA: 0s - loss: 8032.0283 - accuracy: 0.618 - 0s 16ms/step - loss: 6819.5884 - accuracy: 0.6304 - val_loss: 6402.6318 - val_accuracy: 0.6387\n",
      "Epoch 44/1000\n",
      "23/23 [==============================] - ETA: 0s - loss: 14679.6855 - accuracy: 0.50 - ETA: 0s - loss: 7982.7021 - accuracy: 0.6161 - 0s 11ms/step - loss: 6819.4097 - accuracy: 0.6304 - val_loss: 6402.4653 - val_accuracy: 0.6387\n",
      "Epoch 45/1000\n",
      "23/23 [==============================] - ETA: 0s - loss: 14679.3633 - accuracy: 0.50 - ETA: 0s - loss: 8082.9878 - accuracy: 0.6250 - 0s 10ms/step - loss: 6819.2329 - accuracy: 0.6304 - val_loss: 6402.2964 - val_accuracy: 0.6387\n",
      "Epoch 46/1000\n",
      "23/23 [==============================] - ETA: 0s - loss: 14679.0371 - accuracy: 0.50 - ETA: 0s - loss: 7683.7070 - accuracy: 0.6230 - ETA: 0s - loss: 7363.3555 - accuracy: 0.621 - 0s 15ms/step - loss: 6819.0576 - accuracy: 0.6304 - val_loss: 6402.1274 - val_accuracy: 0.6387\n",
      "Epoch 47/1000\n",
      "23/23 [==============================] - ETA: 0s - loss: 14678.7129 - accuracy: 0.50 - ETA: 0s - loss: 8031.1978 - accuracy: 0.6187 - ETA: 0s - loss: 7241.2827 - accuracy: 0.628 - 0s 13ms/step - loss: 6818.8789 - accuracy: 0.6304 - val_loss: 6401.9614 - val_accuracy: 0.6387\n",
      "Epoch 48/1000\n",
      "23/23 [==============================] - ETA: 0s - loss: 14678.3867 - accuracy: 0.50 - ETA: 0s - loss: 7362.9766 - accuracy: 0.6213 - 0s 10ms/step - loss: 6818.7017 - accuracy: 0.6304 - val_loss: 6401.7935 - val_accuracy: 0.6387\n",
      "Epoch 49/1000\n",
      "23/23 [==============================] - ETA: 0s - loss: 14678.0625 - accuracy: 0.50 - ETA: 0s - loss: 7362.7866 - accuracy: 0.6213 - 0s 15ms/step - loss: 6818.5239 - accuracy: 0.6304 - val_loss: 6401.6260 - val_accuracy: 0.6387\n",
      "Epoch 50/1000\n",
      "23/23 [==============================] - ETA: 0s - loss: 14677.7393 - accuracy: 0.50 - ETA: 0s - loss: 7156.5464 - accuracy: 0.6181 - 0s 12ms/step - loss: 6818.3467 - accuracy: 0.6304 - val_loss: 6401.4590 - val_accuracy: 0.6387\n",
      "Epoch 51/1000\n",
      "23/23 [==============================] - ETA: 0s - loss: 14677.4121 - accuracy: 0.50 - ETA: 0s - loss: 8654.5840 - accuracy: 0.5625 - ETA: 0s - loss: 8081.7231 - accuracy: 0.625 - 0s 13ms/step - loss: 6818.1689 - accuracy: 0.6304 - val_loss: 6401.2915 - val_accuracy: 0.6387\n",
      "Epoch 52/1000\n",
      "23/23 [==============================] - ETA: 0s - loss: 14677.0879 - accuracy: 0.50 - ETA: 0s - loss: 7682.5093 - accuracy: 0.6230 - 0s 10ms/step - loss: 6817.9917 - accuracy: 0.6304 - val_loss: 6401.1230 - val_accuracy: 0.6387\n",
      "Epoch 53/1000\n",
      "23/23 [==============================] - ETA: 0s - loss: 14676.7637 - accuracy: 0.50 - ETA: 0s - loss: 7156.0005 - accuracy: 0.6181 - 0s 13ms/step - loss: 6817.8145 - accuracy: 0.6304 - val_loss: 6400.9570 - val_accuracy: 0.6387\n",
      "Epoch 54/1000\n",
      "23/23 [==============================] - ETA: 0s - loss: 14676.4375 - accuracy: 0.50 - ETA: 0s - loss: 7980.6587 - accuracy: 0.6161 - 0s 10ms/step - loss: 6817.6377 - accuracy: 0.6304 - val_loss: 6400.7881 - val_accuracy: 0.6387\n",
      "Epoch 55/1000\n",
      "23/23 [==============================] - ETA: 0s - loss: 14676.1094 - accuracy: 0.50 - ETA: 0s - loss: 7361.6504 - accuracy: 0.6213 - 0s 9ms/step - loss: 6817.4600 - accuracy: 0.6304 - val_loss: 6400.6211 - val_accuracy: 0.6387\n",
      "Epoch 56/1000\n",
      "23/23 [==============================] - ETA: 0s - loss: 14675.7852 - accuracy: 0.50 - ETA: 0s - loss: 7368.5303 - accuracy: 0.6184 - 0s 9ms/step - loss: 6817.2817 - accuracy: 0.6304 - val_loss: 6400.4526 - val_accuracy: 0.6387\n",
      "Epoch 57/1000\n",
      "23/23 [==============================] - ETA: 0s - loss: 14675.4609 - accuracy: 0.50 - ETA: 0s - loss: 7155.2715 - accuracy: 0.6181 - 0s 8ms/step - loss: 6817.1055 - accuracy: 0.6304 - val_loss: 6400.2847 - val_accuracy: 0.6387\n",
      "Epoch 58/1000\n",
      "23/23 [==============================] - ETA: 0s - loss: 14675.1377 - accuracy: 0.50 - ETA: 0s - loss: 7165.4375 - accuracy: 0.6250 - 0s 12ms/step - loss: 6816.9272 - accuracy: 0.6304 - val_loss: 6400.1167 - val_accuracy: 0.6387\n",
      "Epoch 59/1000\n",
      "23/23 [==============================] - ETA: 0s - loss: 14674.8125 - accuracy: 0.50 - ETA: 0s - loss: 7681.1118 - accuracy: 0.6230 - 0s 10ms/step - loss: 6816.7500 - accuracy: 0.6304 - val_loss: 6399.9507 - val_accuracy: 0.6387\n",
      "Epoch 60/1000\n",
      "23/23 [==============================] - ETA: 0s - loss: 14674.4844 - accuracy: 0.50 - ETA: 0s - loss: 7367.7715 - accuracy: 0.6184 - 0s 9ms/step - loss: 6816.5718 - accuracy: 0.6304 - val_loss: 6399.7817 - val_accuracy: 0.6387\n",
      "Epoch 61/1000\n",
      "23/23 [==============================] - ETA: 0s - loss: 14674.1582 - accuracy: 0.50 - ETA: 0s - loss: 9315.8096 - accuracy: 0.6250 - ETA: 0s - loss: 7680.7114 - accuracy: 0.623 - 0s 12ms/step - loss: 6816.3945 - accuracy: 0.6304 - val_loss: 6399.6147 - val_accuracy: 0.6387\n",
      "Epoch 62/1000\n",
      "23/23 [==============================] - ETA: 0s - loss: 14673.8340 - accuracy: 0.50 - ETA: 0s - loss: 7360.3237 - accuracy: 0.6213 - 0s 10ms/step - loss: 6816.2168 - accuracy: 0.6304 - val_loss: 6399.4473 - val_accuracy: 0.6387\n",
      "Epoch 63/1000\n",
      "23/23 [==============================] - ETA: 0s - loss: 14673.5088 - accuracy: 0.50 - ETA: 0s - loss: 8027.8735 - accuracy: 0.6187 - 0s 9ms/step - loss: 6816.0396 - accuracy: 0.6304 - val_loss: 6399.2788 - val_accuracy: 0.6387\n",
      "Epoch 64/1000\n"
     ]
    },
    {
     "name": "stdout",
     "output_type": "stream",
     "text": [
      "23/23 [==============================] - ETA: 0s - loss: 14673.1836 - accuracy: 0.50 - ETA: 0s - loss: 7164.3271 - accuracy: 0.6250 - 0s 8ms/step - loss: 6815.8628 - accuracy: 0.6304 - val_loss: 6399.1113 - val_accuracy: 0.6387\n",
      "Epoch 65/1000\n",
      "23/23 [==============================] - ETA: 0s - loss: 14672.8564 - accuracy: 0.50 - ETA: 0s - loss: 7359.7554 - accuracy: 0.6213 - 0s 8ms/step - loss: 6815.6855 - accuracy: 0.6304 - val_loss: 6398.9448 - val_accuracy: 0.6387\n",
      "Epoch 66/1000\n",
      "23/23 [==============================] - ETA: 0s - loss: 14672.5312 - accuracy: 0.50 - ETA: 0s - loss: 7366.6343 - accuracy: 0.6184 - 0s 7ms/step - loss: 6815.5073 - accuracy: 0.6304 - val_loss: 6398.7769 - val_accuracy: 0.6387\n",
      "Epoch 67/1000\n",
      "23/23 [==============================] - ETA: 0s - loss: 14672.2090 - accuracy: 0.50 - ETA: 0s - loss: 8651.2666 - accuracy: 0.5625 - ETA: 0s - loss: 8078.3481 - accuracy: 0.625 - ETA: 0s - loss: 7679.5122 - accuracy: 0.623 - 0s 17ms/step - loss: 6815.3286 - accuracy: 0.6304 - val_loss: 6398.6074 - val_accuracy: 0.6387\n",
      "Epoch 68/1000\n",
      "23/23 [==============================] - ETA: 0s - loss: 14671.8828 - accuracy: 0.50 - ETA: 0s - loss: 7679.3125 - accuracy: 0.6230 - 0s 9ms/step - loss: 6815.1514 - accuracy: 0.6304 - val_loss: 6398.4409 - val_accuracy: 0.6387\n",
      "Epoch 69/1000\n",
      "23/23 [==============================] - ETA: 0s - loss: 14671.5557 - accuracy: 0.50 - ETA: 0s - loss: 7163.3999 - accuracy: 0.6250 - 0s 7ms/step - loss: 6814.9741 - accuracy: 0.6304 - val_loss: 6398.2734 - val_accuracy: 0.6387\n",
      "Epoch 70/1000\n",
      "23/23 [==============================] - ETA: 0s - loss: 14671.2285 - accuracy: 0.50 - ETA: 0s - loss: 7365.8740 - accuracy: 0.6184 - 0s 7ms/step - loss: 6814.7964 - accuracy: 0.6304 - val_loss: 6398.1040 - val_accuracy: 0.6387\n",
      "Epoch 71/1000\n",
      "23/23 [==============================] - ETA: 0s - loss: 14670.9043 - accuracy: 0.50 - ETA: 0s - loss: 8077.5034 - accuracy: 0.6250 - ETA: 0s - loss: 7678.7124 - accuracy: 0.623 - 0s 13ms/step - loss: 6814.6187 - accuracy: 0.6304 - val_loss: 6397.9365 - val_accuracy: 0.6387\n",
      "Epoch 72/1000\n",
      "23/23 [==============================] - ETA: 0s - loss: 14670.5801 - accuracy: 0.50 - ETA: 0s - loss: 8026.0020 - accuracy: 0.6187 - 0s 10ms/step - loss: 6814.4429 - accuracy: 0.6304 - val_loss: 6397.7686 - val_accuracy: 0.6387\n",
      "Epoch 73/1000\n",
      "23/23 [==============================] - ETA: 0s - loss: 14670.2500 - accuracy: 0.50 - ETA: 0s - loss: 8025.7925 - accuracy: 0.6187 - 0s 8ms/step - loss: 6814.2637 - accuracy: 0.6304 - val_loss: 6397.6021 - val_accuracy: 0.6387\n",
      "Epoch 74/1000\n",
      "23/23 [==============================] - ETA: 0s - loss: 14669.9258 - accuracy: 0.50 - ETA: 0s - loss: 7365.1157 - accuracy: 0.6184 - 0s 8ms/step - loss: 6814.0869 - accuracy: 0.6304 - val_loss: 6397.4336 - val_accuracy: 0.6387\n",
      "Epoch 75/1000\n",
      "23/23 [==============================] - ETA: 0s - loss: 14669.5996 - accuracy: 0.50 - ETA: 0s - loss: 7390.0151 - accuracy: 0.6250 - ETA: 0s - loss: 7976.3599 - accuracy: 0.616 - 0s 15ms/step - loss: 6813.9111 - accuracy: 0.6304 - val_loss: 6397.2656 - val_accuracy: 0.6387\n",
      "Epoch 76/1000\n",
      "23/23 [==============================] - ETA: 0s - loss: 14669.2744 - accuracy: 0.50 - ETA: 0s - loss: 7677.7134 - accuracy: 0.6230 - 0s 10ms/step - loss: 6813.7324 - accuracy: 0.6318 - val_loss: 6397.0981 - val_accuracy: 0.6387\n",
      "Epoch 77/1000\n",
      "23/23 [==============================] - ETA: 0s - loss: 14668.9482 - accuracy: 0.50 - ETA: 0s - loss: 7357.4805 - accuracy: 0.6232 - 0s 8ms/step - loss: 6813.5552 - accuracy: 0.6318 - val_loss: 6396.9307 - val_accuracy: 0.6387\n",
      "Epoch 78/1000\n",
      "23/23 [==============================] - ETA: 0s - loss: 14668.6211 - accuracy: 0.50 - ETA: 0s - loss: 7364.3584 - accuracy: 0.6201 - 0s 8ms/step - loss: 6813.3784 - accuracy: 0.6318 - val_loss: 6396.7627 - val_accuracy: 0.6387\n",
      "Epoch 79/1000\n",
      "23/23 [==============================] - ETA: 0s - loss: 14668.2930 - accuracy: 0.50 - ETA: 0s - loss: 8162.8569 - accuracy: 0.6424 - ETA: 0s - loss: 7151.2622 - accuracy: 0.619 - 0s 13ms/step - loss: 6813.2012 - accuracy: 0.6318 - val_loss: 6396.5962 - val_accuracy: 0.6387\n",
      "Epoch 80/1000\n",
      "23/23 [==============================] - ETA: 0s - loss: 14667.9668 - accuracy: 0.50 - ETA: 0s - loss: 7975.3350 - accuracy: 0.6161 - 0s 10ms/step - loss: 6813.0239 - accuracy: 0.6318 - val_loss: 6396.4272 - val_accuracy: 0.6387\n",
      "Epoch 81/1000\n",
      "23/23 [==============================] - ETA: 0s - loss: 14667.6387 - accuracy: 0.50 - ETA: 0s - loss: 7161.1807 - accuracy: 0.6266 - 0s 8ms/step - loss: 6812.8477 - accuracy: 0.6318 - val_loss: 6396.2593 - val_accuracy: 0.6387\n",
      "Epoch 82/1000\n",
      "23/23 [==============================] - ETA: 0s - loss: 14667.3096 - accuracy: 0.50 - ETA: 0s - loss: 7974.9248 - accuracy: 0.6161 - 0s 7ms/step - loss: 6812.6704 - accuracy: 0.6318 - val_loss: 6396.0928 - val_accuracy: 0.6387\n",
      "Epoch 83/1000\n",
      "23/23 [==============================] - ETA: 0s - loss: 14666.9863 - accuracy: 0.50 - ETA: 0s - loss: 8023.7139 - accuracy: 0.6187 - 0s 11ms/step - loss: 6812.4937 - accuracy: 0.6318 - val_loss: 6395.9248 - val_accuracy: 0.6387\n",
      "Epoch 84/1000\n",
      "23/23 [==============================] - ETA: 0s - loss: 14666.6582 - accuracy: 0.50 - ETA: 0s - loss: 7150.3535 - accuracy: 0.6198 - 0s 10ms/step - loss: 6812.3159 - accuracy: 0.6318 - val_loss: 6395.7568 - val_accuracy: 0.6387\n",
      "Epoch 85/1000\n",
      "23/23 [==============================] - ETA: 0s - loss: 14666.3311 - accuracy: 0.50 - ETA: 0s - loss: 7160.4429 - accuracy: 0.6266 - 0s 8ms/step - loss: 6812.1406 - accuracy: 0.6318 - val_loss: 6395.5903 - val_accuracy: 0.6387\n",
      "Epoch 86/1000\n",
      "23/23 [==============================] - ETA: 0s - loss: 14666.0039 - accuracy: 0.50 - ETA: 0s - loss: 7160.2588 - accuracy: 0.6266 - 0s 6ms/step - loss: 6811.9634 - accuracy: 0.6318 - val_loss: 6395.4219 - val_accuracy: 0.6387\n",
      "Epoch 87/1000\n",
      "23/23 [==============================] - ETA: 0s - loss: 14665.6758 - accuracy: 0.50 - ETA: 0s - loss: 6989.2036 - accuracy: 0.6307 - 0s 11ms/step - loss: 6811.7861 - accuracy: 0.6318 - val_loss: 6395.2554 - val_accuracy: 0.6387\n",
      "Epoch 88/1000\n",
      "23/23 [==============================] - ETA: 0s - loss: 14665.3506 - accuracy: 0.50 - ETA: 0s - loss: 7149.6279 - accuracy: 0.6198 - 0s 10ms/step - loss: 6811.6099 - accuracy: 0.6318 - val_loss: 6395.0859 - val_accuracy: 0.6387\n",
      "Epoch 89/1000\n",
      "23/23 [==============================] - ETA: 0s - loss: 14665.0215 - accuracy: 0.50 - ETA: 0s - loss: 8073.7061 - accuracy: 0.6250 - 0s 10ms/step - loss: 6811.4326 - accuracy: 0.6318 - val_loss: 6394.9189 - val_accuracy: 0.6387\n",
      "Epoch 90/1000\n",
      "23/23 [==============================] - ETA: 0s - loss: 14664.6934 - accuracy: 0.50 - ETA: 0s - loss: 7233.1729 - accuracy: 0.6295 - 0s 7ms/step - loss: 6811.2554 - accuracy: 0.6318 - val_loss: 6394.7515 - val_accuracy: 0.6387\n",
      "Epoch 91/1000\n",
      "23/23 [==============================] - ETA: 0s - loss: 14664.3672 - accuracy: 0.50 - 0s 6ms/step - loss: 6811.0786 - accuracy: 0.6318 - val_loss: 6394.5845 - val_accuracy: 0.6387\n",
      "Epoch 92/1000\n",
      "23/23 [==============================] - ETA: 0s - loss: 14664.0391 - accuracy: 0.50 - ETA: 0s - loss: 7386.7817 - accuracy: 0.6250 - 0s 11ms/step - loss: 6810.9014 - accuracy: 0.6318 - val_loss: 6394.4170 - val_accuracy: 0.6387\n",
      "Epoch 93/1000\n",
      "23/23 [==============================] - ETA: 0s - loss: 14663.7109 - accuracy: 0.50 - ETA: 0s - loss: 7868.8760 - accuracy: 0.6344 - 0s 10ms/step - loss: 6810.7261 - accuracy: 0.6318 - val_loss: 6394.2490 - val_accuracy: 0.6387\n",
      "Epoch 94/1000\n",
      "23/23 [==============================] - ETA: 0s - loss: 14663.3877 - accuracy: 0.50 - ETA: 0s - loss: 7361.3354 - accuracy: 0.6201 - 0s 7ms/step - loss: 6810.5488 - accuracy: 0.6318 - val_loss: 6394.0825 - val_accuracy: 0.6387\n",
      "Epoch 95/1000\n",
      "23/23 [==============================] - ETA: 0s - loss: 14663.0586 - accuracy: 0.50 - ETA: 0s - loss: 7232.2329 - accuracy: 0.6295 - 0s 7ms/step - loss: 6810.3721 - accuracy: 0.6318 - val_loss: 6393.9146 - val_accuracy: 0.6387\n",
      "Epoch 96/1000\n",
      "23/23 [==============================] - ETA: 0s - loss: 14662.7305 - accuracy: 0.50 - ETA: 0s - loss: 7360.9570 - accuracy: 0.6201 - ETA: 0s - loss: 7158.4141 - accuracy: 0.626 - 0s 15ms/step - loss: 6810.1948 - accuracy: 0.6318 - val_loss: 6393.7466 - val_accuracy: 0.6387\n"
     ]
    },
    {
     "name": "stdout",
     "output_type": "stream",
     "text": [
      "Epoch 97/1000\n",
      "23/23 [==============================] - ETA: 0s - loss: 14662.4033 - accuracy: 0.50 - ETA: 0s - loss: 7353.7061 - accuracy: 0.6232 - 0s 10ms/step - loss: 6810.0190 - accuracy: 0.6318 - val_loss: 6393.5796 - val_accuracy: 0.6387\n",
      "Epoch 98/1000\n",
      "23/23 [==============================] - ETA: 0s - loss: 14662.0742 - accuracy: 0.50 - ETA: 0s - loss: 7158.0454 - accuracy: 0.6266 - 0s 7ms/step - loss: 6809.8418 - accuracy: 0.6318 - val_loss: 6393.4106 - val_accuracy: 0.6387\n",
      "Epoch 99/1000\n",
      "23/23 [==============================] - ETA: 0s - loss: 14661.7461 - accuracy: 0.50 - ETA: 0s - loss: 7157.8608 - accuracy: 0.6266 - 0s 7ms/step - loss: 6809.6650 - accuracy: 0.6318 - val_loss: 6393.2441 - val_accuracy: 0.6387\n",
      "Epoch 100/1000\n",
      "23/23 [==============================] - ETA: 0s - loss: 14661.4219 - accuracy: 0.50 - ETA: 0s - loss: 7147.4492 - accuracy: 0.6198 - 0s 14ms/step - loss: 6809.4893 - accuracy: 0.6318 - val_loss: 6393.0757 - val_accuracy: 0.6387\n",
      "Epoch 101/1000\n",
      "23/23 [==============================] - ETA: 0s - loss: 14661.0947 - accuracy: 0.50 - ETA: 0s - loss: 7672.7188 - accuracy: 0.6230 - 0s 10ms/step - loss: 6809.3105 - accuracy: 0.6318 - val_loss: 6392.9087 - val_accuracy: 0.6387\n",
      "Epoch 102/1000\n",
      "23/23 [==============================] - ETA: 0s - loss: 14660.7646 - accuracy: 0.50 - ETA: 0s - loss: 7672.5195 - accuracy: 0.6230 - 0s 8ms/step - loss: 6809.1343 - accuracy: 0.6318 - val_loss: 6392.7417 - val_accuracy: 0.6387\n",
      "Epoch 103/1000\n",
      "23/23 [==============================] - ETA: 0s - loss: 14660.4375 - accuracy: 0.50 - ETA: 0s - loss: 6986.3066 - accuracy: 0.6307 - 0s 7ms/step - loss: 6808.9580 - accuracy: 0.6318 - val_loss: 6392.5732 - val_accuracy: 0.6387\n",
      "Epoch 104/1000\n",
      "23/23 [==============================] - ETA: 0s - loss: 14660.1113 - accuracy: 0.50 - ETA: 0s - loss: 7156.9390 - accuracy: 0.6266 - 0s 8ms/step - loss: 6808.7817 - accuracy: 0.6318 - val_loss: 6392.4062 - val_accuracy: 0.6387\n",
      "Epoch 105/1000\n",
      "23/23 [==============================] - ETA: 0s - loss: 14659.7832 - accuracy: 0.50 - ETA: 0s - loss: 7728.1880 - accuracy: 0.6278 - ETA: 0s - loss: 7156.7549 - accuracy: 0.626 - 0s 12ms/step - loss: 6808.6040 - accuracy: 0.6318 - val_loss: 6392.2378 - val_accuracy: 0.6387\n",
      "Epoch 106/1000\n",
      "23/23 [==============================] - ETA: 0s - loss: 14659.4590 - accuracy: 0.50 - ETA: 0s - loss: 8070.1206 - accuracy: 0.6250 - 0s 10ms/step - loss: 6808.4272 - accuracy: 0.6318 - val_loss: 6392.0713 - val_accuracy: 0.6387\n",
      "Epoch 107/1000\n",
      "23/23 [==============================] - ETA: 0s - loss: 14659.1270 - accuracy: 0.50 - ETA: 0s - loss: 7229.9771 - accuracy: 0.6295 - 0s 8ms/step - loss: 6808.2515 - accuracy: 0.6318 - val_loss: 6391.9038 - val_accuracy: 0.6387\n",
      "Epoch 108/1000\n",
      "23/23 [==============================] - ETA: 0s - loss: 14658.8008 - accuracy: 0.50 - ETA: 0s - loss: 6985.4019 - accuracy: 0.6307 - 0s 7ms/step - loss: 6808.0747 - accuracy: 0.6318 - val_loss: 6391.7349 - val_accuracy: 0.6387\n",
      "Epoch 109/1000\n",
      "23/23 [==============================] - ETA: 0s - loss: 14658.4746 - accuracy: 0.50 - ETA: 0s - loss: 7727.3911 - accuracy: 0.6278 - ETA: 0s - loss: 7351.4414 - accuracy: 0.623 - 0s 16ms/step - loss: 6807.8979 - accuracy: 0.6318 - val_loss: 6391.5684 - val_accuracy: 0.6387\n",
      "Epoch 110/1000\n",
      "23/23 [==============================] - ETA: 0s - loss: 14658.1494 - accuracy: 0.50 - ETA: 0s - loss: 7383.3608 - accuracy: 0.6250 - 0s 16ms/step - loss: 6807.7202 - accuracy: 0.6318 - val_loss: 6391.4004 - val_accuracy: 0.6387\n",
      "Epoch 111/1000\n",
      "23/23 [==============================] - ETA: 0s - loss: 14657.8242 - accuracy: 0.50 - ETA: 0s - loss: 8069.0669 - accuracy: 0.6250 - ETA: 0s - loss: 7351.0640 - accuracy: 0.623 - ETA: 0s - loss: 6984.8579 - accuracy: 0.630 - ETA: 0s - loss: 6807.5435 - accuracy: 0.631 - 1s 22ms/step - loss: 6807.5435 - accuracy: 0.6318 - val_loss: 6391.2329 - val_accuracy: 0.6387\n",
      "Epoch 112/1000\n",
      "23/23 [==============================] - ETA: 0s - loss: 14657.4922 - accuracy: 0.50 - ETA: 0s - loss: 7350.8745 - accuracy: 0.6232 - 0s 11ms/step - loss: 6807.3662 - accuracy: 0.6318 - val_loss: 6391.0649 - val_accuracy: 0.6387\n",
      "Epoch 113/1000\n",
      "23/23 [==============================] - ETA: 0s - loss: 14657.1660 - accuracy: 0.50 - ETA: 0s - loss: 8017.4756 - accuracy: 0.6187 - 0s 9ms/step - loss: 6807.1890 - accuracy: 0.6318 - val_loss: 6390.8975 - val_accuracy: 0.6387\n",
      "Epoch 114/1000\n",
      "23/23 [==============================] - ETA: 0s - loss: 14656.8379 - accuracy: 0.50 - ETA: 0s - loss: 6807.0127 - accuracy: 0.6318 - 0s 9ms/step - loss: 6807.0127 - accuracy: 0.6318 - val_loss: 6390.7305 - val_accuracy: 0.6387\n",
      "Epoch 115/1000\n",
      "23/23 [==============================] - ETA: 0s - loss: 14656.5117 - accuracy: 0.50 - ETA: 0s - loss: 7968.1675 - accuracy: 0.6161 - 0s 10ms/step - loss: 6806.8354 - accuracy: 0.6318 - val_loss: 6390.5635 - val_accuracy: 0.6387\n",
      "Epoch 116/1000\n",
      "23/23 [==============================] - ETA: 0s - loss: 14656.1836 - accuracy: 0.50 - ETA: 0s - loss: 7350.1191 - accuracy: 0.6232 - 0s 8ms/step - loss: 6806.6582 - accuracy: 0.6318 - val_loss: 6390.3950 - val_accuracy: 0.6387\n",
      "Epoch 117/1000\n",
      "23/23 [==============================] - ETA: 0s - loss: 14655.8555 - accuracy: 0.50 - 0s 6ms/step - loss: 6806.4829 - accuracy: 0.6318 - val_loss: 6390.2261 - val_accuracy: 0.6387\n",
      "Epoch 118/1000\n",
      "23/23 [==============================] - ETA: 0s - loss: 14655.5322 - accuracy: 0.50 - 0s 6ms/step - loss: 6806.3071 - accuracy: 0.6318 - val_loss: 6390.0605 - val_accuracy: 0.6387\n",
      "Epoch 119/1000\n",
      "23/23 [==============================] - ETA: 0s - loss: 14655.2012 - accuracy: 0.50 - ETA: 0s - loss: 6983.4106 - accuracy: 0.6307 - 0s 13ms/step - loss: 6806.1304 - accuracy: 0.6318 - val_loss: 6389.8936 - val_accuracy: 0.6387\n",
      "Epoch 120/1000\n",
      "23/23 [==============================] - ETA: 0s - loss: 14654.8789 - accuracy: 0.50 - ETA: 0s - loss: 7668.9248 - accuracy: 0.6230 - 0s 10ms/step - loss: 6805.9531 - accuracy: 0.6318 - val_loss: 6389.7256 - val_accuracy: 0.6387\n",
      "Epoch 121/1000\n",
      "23/23 [==============================] - ETA: 0s - loss: 14654.5498 - accuracy: 0.50 - ETA: 0s - loss: 7349.1758 - accuracy: 0.6232 - 0s 8ms/step - loss: 6805.7759 - accuracy: 0.6318 - val_loss: 6389.5581 - val_accuracy: 0.6387\n",
      "Epoch 122/1000\n",
      "23/23 [==============================] - ETA: 0s - loss: 14654.2246 - accuracy: 0.50 - ETA: 0s - loss: 7348.9883 - accuracy: 0.6232 - 0s 10ms/step - loss: 6805.6006 - accuracy: 0.6318 - val_loss: 6389.3906 - val_accuracy: 0.6387\n",
      "Epoch 123/1000\n",
      "23/23 [==============================] - ETA: 0s - loss: 14653.8965 - accuracy: 0.50 - ETA: 0s - loss: 7862.6807 - accuracy: 0.6344 - ETA: 0s - loss: 7355.8579 - accuracy: 0.620 - 0s 17ms/step - loss: 6805.4233 - accuracy: 0.6318 - val_loss: 6389.2227 - val_accuracy: 0.6387\n",
      "Epoch 124/1000\n",
      "23/23 [==============================] - ETA: 0s - loss: 14653.5703 - accuracy: 0.50 - ETA: 0s - loss: 8015.1919 - accuracy: 0.6187 - 0s 12ms/step - loss: 6805.2466 - accuracy: 0.6318 - val_loss: 6389.0557 - val_accuracy: 0.6387\n",
      "Epoch 125/1000\n",
      "23/23 [==============================] - ETA: 0s - loss: 14653.2402 - accuracy: 0.50 - ETA: 0s - loss: 7348.4233 - accuracy: 0.6232 - 0s 15ms/step - loss: 6805.0698 - accuracy: 0.6318 - val_loss: 6388.8887 - val_accuracy: 0.6387\n",
      "Epoch 126/1000\n",
      "23/23 [==============================] - ETA: 0s - loss: 14652.9170 - accuracy: 0.50 - ETA: 0s - loss: 8065.9043 - accuracy: 0.6250 - 0s 12ms/step - loss: 6804.8936 - accuracy: 0.6318 - val_loss: 6388.7212 - val_accuracy: 0.6387\n",
      "Epoch 127/1000\n",
      "23/23 [==============================] - ETA: 0s - loss: 14652.5869 - accuracy: 0.50 - ETA: 0s - loss: 7348.0464 - accuracy: 0.6232 - 0s 10ms/step - loss: 6804.7168 - accuracy: 0.6318 - val_loss: 6388.5537 - val_accuracy: 0.6387\n",
      "Epoch 128/1000\n",
      "23/23 [==============================] - ETA: 0s - loss: 14652.2627 - accuracy: 0.50 - ETA: 0s - loss: 7667.3286 - accuracy: 0.6230 - 0s 10ms/step - loss: 6804.5405 - accuracy: 0.6318 - val_loss: 6388.3857 - val_accuracy: 0.6387\n",
      "Epoch 129/1000\n",
      "23/23 [==============================] - ETA: 0s - loss: 14651.9316 - accuracy: 0.50 - ETA: 0s - loss: 7152.3296 - accuracy: 0.6266 - 0s 7ms/step - loss: 6804.3633 - accuracy: 0.6318 - val_loss: 6388.2183 - val_accuracy: 0.6387\n"
     ]
    },
    {
     "name": "stdout",
     "output_type": "stream",
     "text": [
      "Epoch 130/1000\n",
      "23/23 [==============================] - ETA: 0s - loss: 14651.6035 - accuracy: 0.50 - ETA: 0s - loss: 7354.5361 - accuracy: 0.6201 - 0s 15ms/step - loss: 6804.1860 - accuracy: 0.6318 - val_loss: 6388.0508 - val_accuracy: 0.6387\n",
      "Epoch 131/1000\n",
      "23/23 [==============================] - ETA: 0s - loss: 14651.2783 - accuracy: 0.50 - ETA: 0s - loss: 8013.7363 - accuracy: 0.6187 - 0s 12ms/step - loss: 6804.0093 - accuracy: 0.6318 - val_loss: 6387.8833 - val_accuracy: 0.6387\n",
      "Epoch 132/1000\n",
      "23/23 [==============================] - ETA: 0s - loss: 14650.9531 - accuracy: 0.50 - ETA: 0s - loss: 7666.5288 - accuracy: 0.6230 - 0s 11ms/step - loss: 6803.8335 - accuracy: 0.6318 - val_loss: 6387.7148 - val_accuracy: 0.6387\n",
      "Epoch 133/1000\n",
      "23/23 [==============================] - ETA: 0s - loss: 14650.6230 - accuracy: 0.50 - ETA: 0s - loss: 7666.3286 - accuracy: 0.6230 - 0s 13ms/step - loss: 6803.6562 - accuracy: 0.6318 - val_loss: 6387.5488 - val_accuracy: 0.6387\n",
      "Epoch 134/1000\n",
      "23/23 [==============================] - ETA: 0s - loss: 14650.2988 - accuracy: 0.50 - ETA: 0s - loss: 7722.4126 - accuracy: 0.6278 - 0s 11ms/step - loss: 6803.4790 - accuracy: 0.6318 - val_loss: 6387.3809 - val_accuracy: 0.6387\n",
      "Epoch 135/1000\n",
      "23/23 [==============================] - ETA: 0s - loss: 14649.9717 - accuracy: 0.50 - ETA: 0s - loss: 7964.0771 - accuracy: 0.6161 - 0s 11ms/step - loss: 6803.3032 - accuracy: 0.6318 - val_loss: 6387.2134 - val_accuracy: 0.6387\n",
      "Epoch 136/1000\n",
      "23/23 [==============================] - ETA: 0s - loss: 14649.6465 - accuracy: 0.50 - ETA: 0s - loss: 7346.3481 - accuracy: 0.6232 - 0s 8ms/step - loss: 6803.1270 - accuracy: 0.6318 - val_loss: 6387.0464 - val_accuracy: 0.6387\n",
      "Epoch 137/1000\n",
      "23/23 [==============================] - ETA: 0s - loss: 14649.3203 - accuracy: 0.50 - ETA: 0s - loss: 7346.1597 - accuracy: 0.6232 - 0s 7ms/step - loss: 6802.9502 - accuracy: 0.6318 - val_loss: 6386.8784 - val_accuracy: 0.6387\n",
      "Epoch 138/1000\n",
      "23/23 [==============================] - ETA: 0s - loss: 14648.9932 - accuracy: 0.50 - ETA: 0s - loss: 7345.9712 - accuracy: 0.6232 - ETA: 0s - loss: 7140.5527 - accuracy: 0.619 - ETA: 0s - loss: 7353.0254 - accuracy: 0.620 - 0s 17ms/step - loss: 6802.7729 - accuracy: 0.6318 - val_loss: 6386.7119 - val_accuracy: 0.6387\n",
      "Epoch 139/1000\n",
      "23/23 [==============================] - ETA: 0s - loss: 14648.6670 - accuracy: 0.50 - ETA: 0s - loss: 8063.1646 - accuracy: 0.6250 - 0s 10ms/step - loss: 6802.5967 - accuracy: 0.6318 - val_loss: 6386.5435 - val_accuracy: 0.6387\n",
      "Epoch 140/1000\n",
      "23/23 [==============================] - ETA: 0s - loss: 14648.3408 - accuracy: 0.50 - ETA: 0s - loss: 7345.5942 - accuracy: 0.6232 - 0s 8ms/step - loss: 6802.4199 - accuracy: 0.6318 - val_loss: 6386.3760 - val_accuracy: 0.6387\n",
      "Epoch 141/1000\n",
      "23/23 [==============================] - ETA: 0s - loss: 14648.0117 - accuracy: 0.50 - ETA: 0s - loss: 7377.4722 - accuracy: 0.6250 - 0s 12ms/step - loss: 6802.2437 - accuracy: 0.6318 - val_loss: 6386.2085 - val_accuracy: 0.6387\n",
      "Epoch 142/1000\n",
      "23/23 [==============================] - ETA: 0s - loss: 14647.6855 - accuracy: 0.50 - ETA: 0s - loss: 8011.4521 - accuracy: 0.6187 - 0s 9ms/step - loss: 6802.0664 - accuracy: 0.6318 - val_loss: 6386.0410 - val_accuracy: 0.6387\n",
      "Epoch 143/1000\n",
      "23/23 [==============================] - ETA: 0s - loss: 14647.3564 - accuracy: 0.50 - ETA: 0s - loss: 7352.0820 - accuracy: 0.6201 - 0s 8ms/step - loss: 6801.8911 - accuracy: 0.6318 - val_loss: 6385.8730 - val_accuracy: 0.6387\n",
      "Epoch 144/1000\n",
      "23/23 [==============================] - ETA: 0s - loss: 14647.0312 - accuracy: 0.50 - ETA: 0s - loss: 8011.0381 - accuracy: 0.6187 - 0s 19ms/step - loss: 6801.7139 - accuracy: 0.6318 - val_loss: 6385.7070 - val_accuracy: 0.6387\n",
      "Epoch 145/1000\n",
      "23/23 [==============================] - ETA: 0s - loss: 14646.7041 - accuracy: 0.50 - ETA: 0s - loss: 7663.9331 - accuracy: 0.6230 - 0s 11ms/step - loss: 6801.5361 - accuracy: 0.6318 - val_loss: 6385.5400 - val_accuracy: 0.6387\n",
      "Epoch 146/1000\n",
      "23/23 [==============================] - ETA: 0s - loss: 14646.3799 - accuracy: 0.50 - ETA: 0s - loss: 7344.4629 - accuracy: 0.6232 - 0s 9ms/step - loss: 6801.3599 - accuracy: 0.6318 - val_loss: 6385.3711 - val_accuracy: 0.6387\n",
      "Epoch 147/1000\n",
      "23/23 [==============================] - ETA: 0s - loss: 14646.0508 - accuracy: 0.50 - ETA: 0s - loss: 8010.4136 - accuracy: 0.6187 - 0s 9ms/step - loss: 6801.1836 - accuracy: 0.6318 - val_loss: 6385.2041 - val_accuracy: 0.6387\n",
      "Epoch 148/1000\n",
      "23/23 [==============================] - ETA: 0s - loss: 14645.7197 - accuracy: 0.50 - ETA: 0s - loss: 7719.6265 - accuracy: 0.6278 - 0s 21ms/step - loss: 6801.0073 - accuracy: 0.6318 - val_loss: 6385.0356 - val_accuracy: 0.6387\n",
      "Epoch 149/1000\n",
      "23/23 [==============================] - ETA: 0s - loss: 14645.3955 - accuracy: 0.50 - ETA: 0s - loss: 7138.5566 - accuracy: 0.6198 - 0s 21ms/step - loss: 6800.8296 - accuracy: 0.6318 - val_loss: 6384.8687 - val_accuracy: 0.6387\n",
      "Epoch 150/1000\n",
      "23/23 [==============================] - ETA: 0s - loss: 14645.0693 - accuracy: 0.50 - ETA: 0s - loss: 7961.0073 - accuracy: 0.6161 - 1s 22ms/step - loss: 6800.6528 - accuracy: 0.6318 - val_loss: 6384.7012 - val_accuracy: 0.6387\n",
      "Epoch 151/1000\n",
      "23/23 [==============================] - ETA: 0s - loss: 14644.7393 - accuracy: 0.50 - ETA: 0s - loss: 7138.1943 - accuracy: 0.6198 - 1s 23ms/step - loss: 6800.4771 - accuracy: 0.6318 - val_loss: 6384.5337 - val_accuracy: 0.6387\n",
      "Epoch 152/1000\n",
      "23/23 [==============================] - ETA: 0s - loss: 14644.4150 - accuracy: 0.50 - ETA: 0s - loss: 7662.5371 - accuracy: 0.6230 - 1s 24ms/step - loss: 6800.3003 - accuracy: 0.6318 - val_loss: 6384.3662 - val_accuracy: 0.6387\n",
      "Epoch 153/1000\n",
      "23/23 [==============================] - ETA: 0s - loss: 14644.0869 - accuracy: 0.50 - ETA: 0s - loss: 7350.1938 - accuracy: 0.6201 - 0s 17ms/step - loss: 6800.1235 - accuracy: 0.6318 - val_loss: 6384.2002 - val_accuracy: 0.6387\n",
      "Epoch 154/1000\n",
      "23/23 [==============================] - ETA: 0s - loss: 14643.7617 - accuracy: 0.50 - ETA: 0s - loss: 7856.2827 - accuracy: 0.6344 - ETA: 0s - loss: 6977.0776 - accuracy: 0.630 - 1s 24ms/step - loss: 6799.9468 - accuracy: 0.6318 - val_loss: 6384.0312 - val_accuracy: 0.6387\n",
      "Epoch 155/1000\n",
      "23/23 [==============================] - ETA: 0s - loss: 14643.4375 - accuracy: 0.50 - ETA: 0s - loss: 7137.4688 - accuracy: 0.6198 - 0s 22ms/step - loss: 6799.7710 - accuracy: 0.6318 - val_loss: 6383.8638 - val_accuracy: 0.6387\n",
      "Epoch 156/1000\n",
      "23/23 [==============================] - ETA: 0s - loss: 14643.1064 - accuracy: 0.50 - ETA: 0s - loss: 7349.6284 - accuracy: 0.6201 - 0s 19ms/step - loss: 6799.5938 - accuracy: 0.6318 - val_loss: 6383.6968 - val_accuracy: 0.6387\n",
      "Epoch 157/1000\n",
      "23/23 [==============================] - ETA: 0s - loss: 14642.7783 - accuracy: 0.50 - ETA: 0s - loss: 7147.1694 - accuracy: 0.6266 - 0s 21ms/step - loss: 6799.4170 - accuracy: 0.6318 - val_loss: 6383.5288 - val_accuracy: 0.6387\n",
      "Epoch 158/1000\n",
      "23/23 [==============================] - ETA: 0s - loss: 14642.4531 - accuracy: 0.50 - ETA: 0s - loss: 7959.3711 - accuracy: 0.6161 - 0s 21ms/step - loss: 6799.2407 - accuracy: 0.6318 - val_loss: 6383.3613 - val_accuracy: 0.6387\n",
      "Epoch 159/1000\n",
      "23/23 [==============================] - ETA: 0s - loss: 14642.1309 - accuracy: 0.50 - ETA: 0s - loss: 7349.0615 - accuracy: 0.6201 - 0s 19ms/step - loss: 6799.0640 - accuracy: 0.6318 - val_loss: 6383.1938 - val_accuracy: 0.6387\n",
      "Epoch 160/1000\n",
      "23/23 [==============================] - ETA: 0s - loss: 14641.8018 - accuracy: 0.50 - ETA: 0s - loss: 7146.6162 - accuracy: 0.6266 - 0s 21ms/step - loss: 6798.8867 - accuracy: 0.6318 - val_loss: 6383.0269 - val_accuracy: 0.6387\n",
      "Epoch 161/1000\n",
      "23/23 [==============================] - ETA: 0s - loss: 14641.4746 - accuracy: 0.50 - ETA: 0s - loss: 8007.5059 - accuracy: 0.6187 - 1s 22ms/step - loss: 6798.7114 - accuracy: 0.6318 - val_loss: 6382.8584 - val_accuracy: 0.6387\n",
      "Epoch 162/1000\n",
      "23/23 [==============================] - ETA: 0s - loss: 14641.1465 - accuracy: 0.50 - ETA: 0s - loss: 7348.4951 - accuracy: 0.6201 - 1s 24ms/step - loss: 6798.5342 - accuracy: 0.6318 - val_loss: 6382.6914 - val_accuracy: 0.6387\n"
     ]
    },
    {
     "name": "stdout",
     "output_type": "stream",
     "text": [
      "Epoch 163/1000\n",
      "23/23 [==============================] - ETA: 0s - loss: 14640.8203 - accuracy: 0.50 - ETA: 0s - loss: 8145.3193 - accuracy: 0.6424 - ETA: 0s - loss: 7219.4517 - accuracy: 0.629 - 1s 25ms/step - loss: 6798.3564 - accuracy: 0.6318 - val_loss: 6382.5244 - val_accuracy: 0.6387\n",
      "Epoch 164/1000\n",
      "23/23 [==============================] - ETA: 0s - loss: 14640.4922 - accuracy: 0.50 - ETA: 0s - loss: 7219.2632 - accuracy: 0.6295 - 0s 21ms/step - loss: 6798.1792 - accuracy: 0.6318 - val_loss: 6382.3564 - val_accuracy: 0.6387\n",
      "Epoch 165/1000\n",
      "23/23 [==============================] - ETA: 0s - loss: 14640.1660 - accuracy: 0.50 - ETA: 0s - loss: 8057.6841 - accuracy: 0.6250 - ETA: 0s - loss: 6798.0034 - accuracy: 0.631 - 1s 29ms/step - loss: 6798.0034 - accuracy: 0.6318 - val_loss: 6382.1890 - val_accuracy: 0.6387\n",
      "Epoch 166/1000\n",
      "23/23 [==============================] - ETA: 0s - loss: 14639.8389 - accuracy: 0.50 - ETA: 0s - loss: 7957.7344 - accuracy: 0.6161 - ETA: 0s - loss: 8006.4668 - accuracy: 0.618 - ETA: 0s - loss: 6797.8276 - accuracy: 0.631 - 1s 27ms/step - loss: 6797.8276 - accuracy: 0.6318 - val_loss: 6382.0210 - val_accuracy: 0.6387\n",
      "Epoch 167/1000\n",
      "23/23 [==============================] - ETA: 0s - loss: 14639.5088 - accuracy: 0.50 - ETA: 0s - loss: 6797.6499 - accuracy: 0.6318 - 0s 20ms/step - loss: 6797.6499 - accuracy: 0.6318 - val_loss: 6381.8545 - val_accuracy: 0.6387\n",
      "Epoch 168/1000\n",
      "23/23 [==============================] - ETA: 0s - loss: 14639.1855 - accuracy: 0.50 - ETA: 0s - loss: 7347.3618 - accuracy: 0.6201 - 1s 24ms/step - loss: 6797.4736 - accuracy: 0.6318 - val_loss: 6381.6870 - val_accuracy: 0.6387\n",
      "Epoch 169/1000\n",
      "23/23 [==============================] - ETA: 0s - loss: 14638.8594 - accuracy: 0.50 - ETA: 0s - loss: 7347.1733 - accuracy: 0.6201 - 0s 21ms/step - loss: 6797.2969 - accuracy: 0.6318 - val_loss: 6381.5186 - val_accuracy: 0.6387\n",
      "Epoch 170/1000\n",
      "23/23 [==============================] - ETA: 0s - loss: 14638.5303 - accuracy: 0.50 - ETA: 0s - loss: 6797.1196 - accuracy: 0.6318 - 1s 25ms/step - loss: 6797.1196 - accuracy: 0.6318 - val_loss: 6381.3516 - val_accuracy: 0.6387\n",
      "Epoch 171/1000\n",
      "23/23 [==============================] - ETA: 0s - loss: 14638.2012 - accuracy: 0.50 - ETA: 0s - loss: 7134.5649 - accuracy: 0.6198 - 1s 26ms/step - loss: 6796.9429 - accuracy: 0.6318 - val_loss: 6381.1855 - val_accuracy: 0.6387\n",
      "Epoch 172/1000\n",
      "23/23 [==============================] - ETA: 0s - loss: 14637.8789 - accuracy: 0.50 - ETA: 0s - loss: 7144.4038 - accuracy: 0.6266 - 1s 29ms/step - loss: 6796.7661 - accuracy: 0.6318 - val_loss: 6381.0171 - val_accuracy: 0.6387\n",
      "Epoch 173/1000\n",
      "23/23 [==============================] - ETA: 0s - loss: 14637.5488 - accuracy: 0.50 - ETA: 0s - loss: 7144.2202 - accuracy: 0.6266 - 0s 7ms/step - loss: 6796.5908 - accuracy: 0.6318 - val_loss: 6380.8491 - val_accuracy: 0.6387\n",
      "Epoch 174/1000\n",
      "23/23 [==============================] - ETA: 0s - loss: 14637.2217 - accuracy: 0.50 - ETA: 0s - loss: 6973.4580 - accuracy: 0.6307 - 0s 13ms/step - loss: 6796.4131 - accuracy: 0.6318 - val_loss: 6380.6816 - val_accuracy: 0.6387\n",
      "Epoch 175/1000\n",
      "23/23 [==============================] - ETA: 0s - loss: 14636.8965 - accuracy: 0.50 - ETA: 0s - loss: 7955.8931 - accuracy: 0.6161 - 0s 11ms/step - loss: 6796.2363 - accuracy: 0.6318 - val_loss: 6380.5146 - val_accuracy: 0.6387\n",
      "Epoch 176/1000\n",
      "23/23 [==============================] - ETA: 0s - loss: 14636.5703 - accuracy: 0.50 - ETA: 0s - loss: 7143.6670 - accuracy: 0.6266 - 0s 8ms/step - loss: 6796.0605 - accuracy: 0.6318 - val_loss: 6380.3477 - val_accuracy: 0.6387\n",
      "Epoch 177/1000\n",
      "23/23 [==============================] - ETA: 0s - loss: 14636.2451 - accuracy: 0.50 - ETA: 0s - loss: 6972.9155 - accuracy: 0.6307 - 0s 8ms/step - loss: 6795.8838 - accuracy: 0.6318 - val_loss: 6380.1797 - val_accuracy: 0.6387\n",
      "Epoch 178/1000\n",
      "23/23 [==============================] - ETA: 0s - loss: 14635.9180 - accuracy: 0.50 - ETA: 0s - loss: 7216.6333 - accuracy: 0.6295 - 0s 7ms/step - loss: 6795.7070 - accuracy: 0.6318 - val_loss: 6380.0122 - val_accuracy: 0.6387\n",
      "Epoch 179/1000\n",
      "23/23 [==============================] - ETA: 0s - loss: 14635.5879 - accuracy: 0.50 - ETA: 0s - loss: 6972.5532 - accuracy: 0.6307 - 0s 7ms/step - loss: 6795.5298 - accuracy: 0.6318 - val_loss: 6379.8447 - val_accuracy: 0.6387\n",
      "Epoch 180/1000\n",
      "23/23 [==============================] - ETA: 0s - loss: 14635.2627 - accuracy: 0.50 - ETA: 0s - loss: 7142.9297 - accuracy: 0.6266 - 0s 8ms/step - loss: 6795.3530 - accuracy: 0.6318 - val_loss: 6379.6768 - val_accuracy: 0.6387\n",
      "Epoch 181/1000\n",
      "23/23 [==============================] - ETA: 0s - loss: 14634.9395 - accuracy: 0.50 - ETA: 0s - loss: 7216.0708 - accuracy: 0.6295 - 0s 7ms/step - loss: 6795.1787 - accuracy: 0.6318 - val_loss: 6379.5083 - val_accuracy: 0.6387\n",
      "Epoch 182/1000\n",
      "23/23 [==============================] - ETA: 0s - loss: 14634.6094 - accuracy: 0.50 - ETA: 0s - loss: 8141.3540 - accuracy: 0.6424 - ETA: 0s - loss: 7850.5049 - accuracy: 0.634 - ETA: 0s - loss: 6795.0005 - accuracy: 0.631 - 0s 17ms/step - loss: 6795.0005 - accuracy: 0.6318 - val_loss: 6379.3408 - val_accuracy: 0.6387\n",
      "Epoch 183/1000\n",
      "23/23 [==============================] - ETA: 0s - loss: 14634.2812 - accuracy: 0.50 - ETA: 0s - loss: 7656.3481 - accuracy: 0.6230 - 0s 11ms/step - loss: 6794.8232 - accuracy: 0.6318 - val_loss: 6379.1733 - val_accuracy: 0.6387\n",
      "Epoch 184/1000\n",
      "23/23 [==============================] - ETA: 0s - loss: 14633.9570 - accuracy: 0.50 - 0s 8ms/step - loss: 6794.6475 - accuracy: 0.6318 - val_loss: 6379.0068 - val_accuracy: 0.6387\n",
      "Epoch 185/1000\n",
      "23/23 [==============================] - ETA: 0s - loss: 14633.6270 - accuracy: 0.50 - 0s 7ms/step - loss: 6794.4702 - accuracy: 0.6318 - val_loss: 6378.8403 - val_accuracy: 0.6387\n",
      "Epoch 186/1000\n",
      "23/23 [==============================] - ETA: 0s - loss: 14633.3018 - accuracy: 0.50 - 0s 7ms/step - loss: 6794.2939 - accuracy: 0.6318 - val_loss: 6378.6724 - val_accuracy: 0.6387\n",
      "Epoch 187/1000\n",
      "23/23 [==============================] - ETA: 0s - loss: 14632.9746 - accuracy: 0.50 - ETA: 0s - loss: 9443.1221 - accuracy: 0.6250 - ETA: 0s - loss: 7343.7754 - accuracy: 0.620 - 0s 14ms/step - loss: 6794.1182 - accuracy: 0.6318 - val_loss: 6378.5044 - val_accuracy: 0.6387\n",
      "Epoch 188/1000\n",
      "23/23 [==============================] - ETA: 0s - loss: 14632.6465 - accuracy: 0.50 - ETA: 0s - loss: 7336.5415 - accuracy: 0.6232 - 0s 12ms/step - loss: 6793.9409 - accuracy: 0.6318 - val_loss: 6378.3379 - val_accuracy: 0.6387\n",
      "Epoch 189/1000\n",
      "23/23 [==============================] - ETA: 0s - loss: 14632.3193 - accuracy: 0.50 - ETA: 0s - loss: 7655.1504 - accuracy: 0.6230 - 0s 9ms/step - loss: 6793.7627 - accuracy: 0.6318 - val_loss: 6378.1699 - val_accuracy: 0.6387\n",
      "Epoch 190/1000\n",
      "23/23 [==============================] - ETA: 0s - loss: 14631.9941 - accuracy: 0.50 - ETA: 0s - loss: 7141.0884 - accuracy: 0.6266 - 0s 7ms/step - loss: 6793.5884 - accuracy: 0.6318 - val_loss: 6378.0015 - val_accuracy: 0.6387\n",
      "Epoch 191/1000\n",
      "23/23 [==============================] - ETA: 0s - loss: 14631.6641 - accuracy: 0.50 - ETA: 0s - loss: 7654.7515 - accuracy: 0.6230 - ETA: 0s - loss: 7335.9756 - accuracy: 0.623 - ETA: 0s - loss: 7130.9365 - accuracy: 0.619 - 0s 18ms/step - loss: 6793.4102 - accuracy: 0.6318 - val_loss: 6377.8345 - val_accuracy: 0.6387\n",
      "Epoch 192/1000\n",
      "23/23 [==============================] - ETA: 0s - loss: 14631.3428 - accuracy: 0.50 - ETA: 0s - loss: 7952.4146 - accuracy: 0.6161 - 0s 10ms/step - loss: 6793.2329 - accuracy: 0.6318 - val_loss: 6377.6670 - val_accuracy: 0.6387\n",
      "Epoch 193/1000\n",
      "23/23 [==============================] - ETA: 0s - loss: 14631.0146 - accuracy: 0.50 - ETA: 0s - loss: 7952.2100 - accuracy: 0.6161 - 0s 10ms/step - loss: 6793.0571 - accuracy: 0.6318 - val_loss: 6377.5010 - val_accuracy: 0.6387\n",
      "Epoch 194/1000\n",
      "23/23 [==============================] - ETA: 0s - loss: 14630.6865 - accuracy: 0.50 - ETA: 0s - loss: 7335.4102 - accuracy: 0.6232 - 0s 17ms/step - loss: 6792.8804 - accuracy: 0.6318 - val_loss: 6377.3315 - val_accuracy: 0.6387\n",
      "Epoch 195/1000\n"
     ]
    },
    {
     "name": "stdout",
     "output_type": "stream",
     "text": [
      "23/23 [==============================] - ETA: 0s - loss: 14630.3633 - accuracy: 0.50 - ETA: 0s - loss: 7951.8013 - accuracy: 0.6161 - 0s 12ms/step - loss: 6792.7036 - accuracy: 0.6318 - val_loss: 6377.1646 - val_accuracy: 0.6387\n",
      "Epoch 196/1000\n",
      "23/23 [==============================] - ETA: 0s - loss: 14630.0312 - accuracy: 0.50 - ETA: 0s - loss: 8000.2344 - accuracy: 0.6187 - 0s 8ms/step - loss: 6792.5278 - accuracy: 0.6318 - val_loss: 6376.9966 - val_accuracy: 0.6387\n",
      "Epoch 197/1000\n",
      "23/23 [==============================] - ETA: 0s - loss: 14629.7051 - accuracy: 0.50 - 0s 6ms/step - loss: 6792.3506 - accuracy: 0.6318 - val_loss: 6376.8291 - val_accuracy: 0.6387\n",
      "Epoch 198/1000\n",
      "23/23 [==============================] - ETA: 0s - loss: 14629.3789 - accuracy: 0.50 - 0s 6ms/step - loss: 6792.1738 - accuracy: 0.6318 - val_loss: 6376.6606 - val_accuracy: 0.6387\n",
      "Epoch 199/1000\n",
      "23/23 [==============================] - ETA: 0s - loss: 14629.0547 - accuracy: 0.50 - ETA: 0s - loss: 6791.9966 - accuracy: 0.6318 - 0s 9ms/step - loss: 6791.9966 - accuracy: 0.6318 - val_loss: 6376.4956 - val_accuracy: 0.6387\n",
      "Epoch 200/1000\n",
      "23/23 [==============================] - ETA: 0s - loss: 14628.7236 - accuracy: 0.50 - 0s 6ms/step - loss: 6791.8198 - accuracy: 0.6318 - val_loss: 6376.3271 - val_accuracy: 0.6387\n",
      "Epoch 201/1000\n",
      "23/23 [==============================] - ETA: 0s - loss: 14628.3945 - accuracy: 0.50 - ETA: 0s - loss: 8623.4277 - accuracy: 0.5625 - ETA: 0s - loss: 8050.0957 - accuracy: 0.625 - 0s 14ms/step - loss: 6791.6426 - accuracy: 0.6318 - val_loss: 6376.1592 - val_accuracy: 0.6387\n",
      "Epoch 202/1000\n",
      "23/23 [==============================] - ETA: 0s - loss: 14628.0713 - accuracy: 0.50 - ETA: 0s - loss: 7998.9888 - accuracy: 0.6187 - 0s 8ms/step - loss: 6791.4673 - accuracy: 0.6318 - val_loss: 6375.9917 - val_accuracy: 0.6387\n",
      "Epoch 203/1000\n",
      "23/23 [==============================] - ETA: 0s - loss: 14627.7441 - accuracy: 0.50 - ETA: 0s - loss: 6791.2900 - accuracy: 0.6318 - 0s 8ms/step - loss: 6791.2900 - accuracy: 0.6318 - val_loss: 6375.8252 - val_accuracy: 0.6387\n",
      "Epoch 204/1000\n",
      "23/23 [==============================] - ETA: 0s - loss: 14627.4180 - accuracy: 0.50 - ETA: 0s - loss: 7652.1567 - accuracy: 0.6230 - 0s 9ms/step - loss: 6791.1133 - accuracy: 0.6318 - val_loss: 6375.6577 - val_accuracy: 0.6387\n",
      "Epoch 205/1000\n",
      "23/23 [==============================] - ETA: 0s - loss: 14627.0898 - accuracy: 0.50 - ETA: 0s - loss: 7138.3218 - accuracy: 0.6266 - 0s 13ms/step - loss: 6790.9370 - accuracy: 0.6318 - val_loss: 6375.4902 - val_accuracy: 0.6387\n",
      "Epoch 206/1000\n",
      "23/23 [==============================] - ETA: 0s - loss: 14626.7646 - accuracy: 0.50 - ETA: 0s - loss: 7651.7568 - accuracy: 0.6230 - 0s 12ms/step - loss: 6790.7603 - accuracy: 0.6318 - val_loss: 6375.3223 - val_accuracy: 0.6387\n",
      "Epoch 207/1000\n",
      "23/23 [==============================] - ETA: 0s - loss: 14626.4385 - accuracy: 0.50 - ETA: 0s - loss: 7997.9497 - accuracy: 0.6187 - 0s 10ms/step - loss: 6790.5845 - accuracy: 0.6318 - val_loss: 6375.1548 - val_accuracy: 0.6387\n",
      "Epoch 208/1000\n",
      "23/23 [==============================] - ETA: 0s - loss: 14626.1074 - accuracy: 0.50 - ETA: 0s - loss: 6790.4067 - accuracy: 0.6318 - 0s 7ms/step - loss: 6790.4067 - accuracy: 0.6318 - val_loss: 6374.9873 - val_accuracy: 0.6387\n",
      "Epoch 209/1000\n",
      "23/23 [==============================] - ETA: 0s - loss: 14625.7812 - accuracy: 0.50 - ETA: 0s - loss: 7948.9365 - accuracy: 0.6161 - 0s 14ms/step - loss: 6790.2305 - accuracy: 0.6318 - val_loss: 6374.8203 - val_accuracy: 0.6387\n",
      "Epoch 210/1000\n",
      "23/23 [==============================] - ETA: 0s - loss: 14625.4570 - accuracy: 0.50 - ETA: 0s - loss: 7948.7319 - accuracy: 0.6161 - 0s 10ms/step - loss: 6790.0537 - accuracy: 0.6318 - val_loss: 6374.6519 - val_accuracy: 0.6387\n",
      "Epoch 211/1000\n",
      "23/23 [==============================] - ETA: 0s - loss: 14625.1270 - accuracy: 0.50 - ETA: 0s - loss: 6789.8779 - accuracy: 0.6318 - 0s 8ms/step - loss: 6789.8779 - accuracy: 0.6318 - val_loss: 6374.4849 - val_accuracy: 0.6387\n",
      "Epoch 212/1000\n",
      "23/23 [==============================] - ETA: 0s - loss: 14624.8008 - accuracy: 0.50 - ETA: 0s - loss: 6966.5825 - accuracy: 0.6307 - 0s 7ms/step - loss: 6789.7002 - accuracy: 0.6318 - val_loss: 6374.3179 - val_accuracy: 0.6387\n",
      "Epoch 213/1000\n",
      "23/23 [==============================] - ETA: 0s - loss: 14624.4766 - accuracy: 0.50 - ETA: 0s - loss: 6966.4028 - accuracy: 0.6307 - 0s 11ms/step - loss: 6789.5249 - accuracy: 0.6318 - val_loss: 6374.1499 - val_accuracy: 0.6387\n",
      "Epoch 214/1000\n",
      "23/23 [==============================] - ETA: 0s - loss: 14624.1504 - accuracy: 0.50 - ETA: 0s - loss: 7331.6382 - accuracy: 0.6232 - 0s 11ms/step - loss: 6789.3467 - accuracy: 0.6318 - val_loss: 6373.9814 - val_accuracy: 0.6387\n",
      "Epoch 215/1000\n",
      "23/23 [==============================] - ETA: 0s - loss: 14623.8184 - accuracy: 0.50 - ETA: 0s - loss: 7338.4883 - accuracy: 0.6201 - 0s 9ms/step - loss: 6789.1699 - accuracy: 0.6318 - val_loss: 6373.8140 - val_accuracy: 0.6387\n",
      "Epoch 216/1000\n",
      "23/23 [==============================] - ETA: 0s - loss: 14623.4961 - accuracy: 0.50 - ETA: 0s - loss: 7136.2959 - accuracy: 0.6266 - 0s 8ms/step - loss: 6788.9946 - accuracy: 0.6318 - val_loss: 6373.6470 - val_accuracy: 0.6387\n",
      "Epoch 217/1000\n",
      "23/23 [==============================] - ETA: 0s - loss: 14623.1641 - accuracy: 0.50 - ETA: 0s - loss: 6965.6782 - accuracy: 0.6307 - 0s 7ms/step - loss: 6788.8179 - accuracy: 0.6318 - val_loss: 6373.4795 - val_accuracy: 0.6387\n",
      "Epoch 218/1000\n",
      "23/23 [==============================] - ETA: 0s - loss: 14622.8398 - accuracy: 0.50 - ETA: 0s - loss: 7337.9219 - accuracy: 0.6201 - 0s 8ms/step - loss: 6788.6401 - accuracy: 0.6318 - val_loss: 6373.3115 - val_accuracy: 0.6387\n",
      "Epoch 219/1000\n",
      "23/23 [==============================] - ETA: 0s - loss: 14622.5137 - accuracy: 0.50 - ETA: 0s - loss: 6788.4639 - accuracy: 0.6318 - 0s 9ms/step - loss: 6788.4639 - accuracy: 0.6318 - val_loss: 6373.1440 - val_accuracy: 0.6387\n",
      "Epoch 220/1000\n",
      "23/23 [==============================] - ETA: 0s - loss: 14622.1875 - accuracy: 0.50 - ETA: 0s - loss: 8046.0913 - accuracy: 0.6250 - 0s 12ms/step - loss: 6788.2876 - accuracy: 0.6318 - val_loss: 6372.9771 - val_accuracy: 0.6387\n",
      "Epoch 221/1000\n",
      "23/23 [==============================] - ETA: 0s - loss: 14621.8613 - accuracy: 0.50 - ETA: 0s - loss: 7995.0410 - accuracy: 0.6187 - 0s 9ms/step - loss: 6788.1099 - accuracy: 0.6318 - val_loss: 6372.8096 - val_accuracy: 0.6387\n",
      "Epoch 222/1000\n",
      "23/23 [==============================] - ETA: 0s - loss: 14621.5322 - accuracy: 0.50 - ETA: 0s - loss: 7208.3647 - accuracy: 0.6295 - 0s 8ms/step - loss: 6787.9341 - accuracy: 0.6318 - val_loss: 6372.6421 - val_accuracy: 0.6387\n",
      "Epoch 223/1000\n",
      "23/23 [==============================] - ETA: 0s - loss: 14621.2061 - accuracy: 0.50 - ETA: 0s - loss: 7135.0049 - accuracy: 0.6266 - 0s 8ms/step - loss: 6787.7573 - accuracy: 0.6318 - val_loss: 6372.4751 - val_accuracy: 0.6387\n",
      "Epoch 224/1000\n",
      "23/23 [==============================] - ETA: 0s - loss: 14620.8789 - accuracy: 0.50 - ETA: 0s - loss: 7207.9883 - accuracy: 0.6295 - 0s 15ms/step - loss: 6787.5801 - accuracy: 0.6318 - val_loss: 6372.3071 - val_accuracy: 0.6387\n",
      "Epoch 225/1000\n",
      "23/23 [==============================] - ETA: 0s - loss: 14620.5527 - accuracy: 0.50 - ETA: 0s - loss: 7647.9644 - accuracy: 0.6230 - 0s 10ms/step - loss: 6787.4043 - accuracy: 0.6318 - val_loss: 6372.1392 - val_accuracy: 0.6387\n",
      "Epoch 226/1000\n",
      "23/23 [==============================] - ETA: 0s - loss: 14620.2275 - accuracy: 0.50 - 0s 7ms/step - loss: 6787.2261 - accuracy: 0.6318 - val_loss: 6371.9736 - val_accuracy: 0.6387\n",
      "Epoch 227/1000\n",
      "23/23 [==============================] - ETA: 0s - loss: 14619.8984 - accuracy: 0.50 - ETA: 0s - loss: 6787.0503 - accuracy: 0.6318 - 0s 8ms/step - loss: 6787.0503 - accuracy: 0.6318 - val_loss: 6371.8047 - val_accuracy: 0.6387\n",
      "Epoch 228/1000\n",
      "23/23 [==============================] - ETA: 0s - loss: 14619.5742 - accuracy: 0.50 - ETA: 0s - loss: 7134.0845 - accuracy: 0.6266 - 0s 7ms/step - loss: 6786.8755 - accuracy: 0.6318 - val_loss: 6371.6377 - val_accuracy: 0.6387\n",
      "Epoch 229/1000\n"
     ]
    },
    {
     "name": "stdout",
     "output_type": "stream",
     "text": [
      "23/23 [==============================] - ETA: 0s - loss: 14619.2451 - accuracy: 0.50 - ETA: 0s - loss: 7207.0479 - accuracy: 0.6295 - 0s 16ms/step - loss: 6786.6958 - accuracy: 0.6318 - val_loss: 6371.4707 - val_accuracy: 0.6387\n",
      "Epoch 230/1000\n",
      "23/23 [==============================] - ETA: 0s - loss: 14618.9180 - accuracy: 0.50 - ETA: 0s - loss: 7944.6392 - accuracy: 0.6161 - 0s 9ms/step - loss: 6786.5195 - accuracy: 0.6318 - val_loss: 6371.3022 - val_accuracy: 0.6387\n",
      "Epoch 231/1000\n",
      "23/23 [==============================] - ETA: 0s - loss: 14618.5898 - accuracy: 0.50 - ETA: 0s - loss: 6786.3438 - accuracy: 0.6318 - 0s 8ms/step - loss: 6786.3438 - accuracy: 0.6318 - val_loss: 6371.1348 - val_accuracy: 0.6387\n",
      "Epoch 232/1000\n",
      "23/23 [==============================] - ETA: 0s - loss: 14618.2656 - accuracy: 0.50 - ETA: 0s - loss: 6962.9639 - accuracy: 0.6307 - 0s 10ms/step - loss: 6786.1670 - accuracy: 0.6318 - val_loss: 6370.9673 - val_accuracy: 0.6387\n",
      "Epoch 233/1000\n",
      "23/23 [==============================] - ETA: 0s - loss: 14617.9414 - accuracy: 0.50 - ETA: 0s - loss: 7359.9946 - accuracy: 0.6250 - 0s 20ms/step - loss: 6785.9907 - accuracy: 0.6318 - val_loss: 6370.8008 - val_accuracy: 0.6387\n",
      "Epoch 234/1000\n",
      "23/23 [==============================] - ETA: 0s - loss: 14617.6113 - accuracy: 0.50 - ETA: 0s - loss: 7943.8208 - accuracy: 0.6161 - 0s 12ms/step - loss: 6785.8140 - accuracy: 0.6318 - val_loss: 6370.6323 - val_accuracy: 0.6387\n",
      "Epoch 235/1000\n",
      "23/23 [==============================] - ETA: 0s - loss: 14617.2842 - accuracy: 0.50 - ETA: 0s - loss: 7122.9536 - accuracy: 0.6198 - 0s 10ms/step - loss: 6785.6372 - accuracy: 0.6318 - val_loss: 6370.4644 - val_accuracy: 0.6387\n",
      "Epoch 236/1000\n",
      "23/23 [==============================] - ETA: 0s - loss: 14616.9570 - accuracy: 0.50 - ETA: 0s - loss: 7334.5249 - accuracy: 0.6201 - 0s 9ms/step - loss: 6785.4604 - accuracy: 0.6318 - val_loss: 6370.2979 - val_accuracy: 0.6387\n",
      "Epoch 237/1000\n",
      "23/23 [==============================] - ETA: 0s - loss: 14616.6289 - accuracy: 0.50 - ETA: 0s - loss: 7327.3003 - accuracy: 0.6232 - 0s 16ms/step - loss: 6785.2832 - accuracy: 0.6318 - val_loss: 6370.1304 - val_accuracy: 0.6387\n",
      "Epoch 238/1000\n",
      "23/23 [==============================] - ETA: 0s - loss: 14616.3018 - accuracy: 0.50 - ETA: 0s - loss: 7122.4087 - accuracy: 0.6198 - 0s 11ms/step - loss: 6785.1074 - accuracy: 0.6318 - val_loss: 6369.9619 - val_accuracy: 0.6387\n",
      "Epoch 239/1000\n",
      "23/23 [==============================] - ETA: 0s - loss: 14615.9766 - accuracy: 0.50 - ETA: 0s - loss: 6961.6968 - accuracy: 0.6307 - 0s 7ms/step - loss: 6784.9302 - accuracy: 0.6318 - val_loss: 6369.7949 - val_accuracy: 0.6387\n",
      "Epoch 240/1000\n",
      "23/23 [==============================] - ETA: 0s - loss: 14615.6484 - accuracy: 0.50 - ETA: 0s - loss: 6961.5161 - accuracy: 0.6307 - 0s 8ms/step - loss: 6784.7539 - accuracy: 0.6318 - val_loss: 6369.6279 - val_accuracy: 0.6387\n",
      "Epoch 241/1000\n",
      "23/23 [==============================] - ETA: 0s - loss: 14615.3242 - accuracy: 0.50 - ETA: 0s - loss: 6784.5776 - accuracy: 0.6318 - 0s 16ms/step - loss: 6784.5776 - accuracy: 0.6318 - val_loss: 6369.4604 - val_accuracy: 0.6387\n",
      "Epoch 242/1000\n",
      "23/23 [==============================] - ETA: 0s - loss: 14614.9961 - accuracy: 0.50 - ETA: 0s - loss: 7990.6777 - accuracy: 0.6187 - 0s 11ms/step - loss: 6784.3999 - accuracy: 0.6318 - val_loss: 6369.2925 - val_accuracy: 0.6387\n",
      "Epoch 243/1000\n",
      "23/23 [==============================] - ETA: 0s - loss: 14614.6689 - accuracy: 0.50 - ETA: 0s - loss: 7333.2021 - accuracy: 0.6201 - 0s 8ms/step - loss: 6784.2227 - accuracy: 0.6318 - val_loss: 6369.1240 - val_accuracy: 0.6387\n",
      "Epoch 244/1000\n",
      "23/23 [==============================] - ETA: 0s - loss: 14614.3398 - accuracy: 0.50 - 0s 7ms/step - loss: 6784.0469 - accuracy: 0.6318 - val_loss: 6368.9575 - val_accuracy: 0.6387\n",
      "Epoch 245/1000\n",
      "23/23 [==============================] - ETA: 0s - loss: 14614.0156 - accuracy: 0.50 - ETA: 0s - loss: 7204.0415 - accuracy: 0.6295 - 0s 8ms/step - loss: 6783.8701 - accuracy: 0.6318 - val_loss: 6368.7900 - val_accuracy: 0.6387\n",
      "Epoch 246/1000\n",
      "23/23 [==============================] - ETA: 0s - loss: 14613.6875 - accuracy: 0.50 - ETA: 0s - loss: 7203.8540 - accuracy: 0.6295 - 0s 9ms/step - loss: 6783.6943 - accuracy: 0.6318 - val_loss: 6368.6226 - val_accuracy: 0.6387\n",
      "Epoch 247/1000\n",
      "23/23 [==============================] - ETA: 0s - loss: 14613.3613 - accuracy: 0.50 - ETA: 0s - loss: 7325.4146 - accuracy: 0.6232 - 0s 9ms/step - loss: 6783.5171 - accuracy: 0.6318 - val_loss: 6368.4551 - val_accuracy: 0.6387\n",
      "Epoch 248/1000\n",
      "23/23 [==============================] - ETA: 0s - loss: 14613.0332 - accuracy: 0.50 - 0s 13ms/step - loss: 6783.3403 - accuracy: 0.6318 - val_loss: 6368.2881 - val_accuracy: 0.6387\n",
      "Epoch 249/1000\n",
      "23/23 [==============================] - ETA: 0s - loss: 14612.7070 - accuracy: 0.50 - ETA: 0s - loss: 7643.1733 - accuracy: 0.6230 - 0s 12ms/step - loss: 6783.1646 - accuracy: 0.6318 - val_loss: 6368.1211 - val_accuracy: 0.6387\n",
      "Epoch 250/1000\n",
      "23/23 [==============================] - ETA: 0s - loss: 14612.3818 - accuracy: 0.50 - ETA: 0s - loss: 7203.1025 - accuracy: 0.6295 - 0s 8ms/step - loss: 6782.9873 - accuracy: 0.6318 - val_loss: 6367.9531 - val_accuracy: 0.6387\n",
      "Epoch 251/1000\n",
      "23/23 [==============================] - ETA: 0s - loss: 14612.0537 - accuracy: 0.50 - 0s 7ms/step - loss: 6782.8096 - accuracy: 0.6318 - val_loss: 6367.7852 - val_accuracy: 0.6387\n",
      "Epoch 252/1000\n",
      "23/23 [==============================] - ETA: 0s - loss: 14611.7285 - accuracy: 0.50 - ETA: 0s - loss: 7202.7261 - accuracy: 0.6295 - 0s 9ms/step - loss: 6782.6338 - accuracy: 0.6318 - val_loss: 6367.6182 - val_accuracy: 0.6387\n",
      "Epoch 253/1000\n",
      "23/23 [==============================] - ETA: 0s - loss: 14611.3984 - accuracy: 0.50 - ETA: 0s - loss: 8039.1353 - accuracy: 0.6250 - 0s 13ms/step - loss: 6782.4565 - accuracy: 0.6318 - val_loss: 6367.4507 - val_accuracy: 0.6387\n",
      "Epoch 254/1000\n",
      "23/23 [==============================] - ETA: 0s - loss: 14611.0742 - accuracy: 0.50 - ETA: 0s - loss: 7331.1250 - accuracy: 0.6201 - 0s 10ms/step - loss: 6782.2793 - accuracy: 0.6318 - val_loss: 6367.2827 - val_accuracy: 0.6387\n",
      "Epoch 255/1000\n",
      "23/23 [==============================] - ETA: 0s - loss: 14610.7461 - accuracy: 0.50 - ETA: 0s - loss: 7330.9375 - accuracy: 0.6201 - 0s 8ms/step - loss: 6782.1040 - accuracy: 0.6318 - val_loss: 6367.1152 - val_accuracy: 0.6387\n",
      "Epoch 256/1000\n",
      "23/23 [==============================] - ETA: 0s - loss: 14610.4199 - accuracy: 0.50 - ETA: 0s - loss: 7201.9741 - accuracy: 0.6295 - 0s 8ms/step - loss: 6781.9268 - accuracy: 0.6318 - val_loss: 6366.9478 - val_accuracy: 0.6387\n",
      "Epoch 257/1000\n",
      "23/23 [==============================] - ETA: 0s - loss: 14610.0957 - accuracy: 0.50 - ETA: 0s - loss: 9426.9873 - accuracy: 0.6250 - ETA: 0s - loss: 7835.0259 - accuracy: 0.634 - 0s 14ms/step - loss: 6781.7505 - accuracy: 0.6318 - val_loss: 6366.7812 - val_accuracy: 0.6387\n",
      "Epoch 258/1000\n",
      "23/23 [==============================] - ETA: 0s - loss: 14609.7656 - accuracy: 0.50 - ETA: 0s - loss: 7323.3394 - accuracy: 0.6232 - 0s 11ms/step - loss: 6781.5728 - accuracy: 0.6318 - val_loss: 6366.6123 - val_accuracy: 0.6387\n",
      "Epoch 259/1000\n",
      "23/23 [==============================] - ETA: 0s - loss: 14609.4395 - accuracy: 0.50 - ETA: 0s - loss: 7201.4106 - accuracy: 0.6295 - 0s 7ms/step - loss: 6781.3970 - accuracy: 0.6318 - val_loss: 6366.4458 - val_accuracy: 0.6387\n",
      "Epoch 260/1000\n",
      "23/23 [==============================] - ETA: 0s - loss: 14609.1133 - accuracy: 0.50 - ETA: 0s - loss: 7118.4185 - accuracy: 0.6198 - 0s 15ms/step - loss: 6781.2207 - accuracy: 0.6318 - val_loss: 6366.2778 - val_accuracy: 0.6387\n",
      "Epoch 261/1000\n",
      "23/23 [==============================] - ETA: 0s - loss: 14608.7871 - accuracy: 0.50 - ETA: 0s - loss: 7986.7314 - accuracy: 0.6187 - 0s 10ms/step - loss: 6781.0435 - accuracy: 0.6318 - val_loss: 6366.1099 - val_accuracy: 0.6387\n",
      "Epoch 262/1000\n",
      "23/23 [==============================] - ETA: 0s - loss: 14608.4590 - accuracy: 0.50 - ETA: 0s - loss: 7938.0923 - accuracy: 0.6161 - 0s 10ms/step - loss: 6780.8667 - accuracy: 0.6318 - val_loss: 6365.9429 - val_accuracy: 0.6387\n",
      "Epoch 263/1000\n"
     ]
    },
    {
     "name": "stdout",
     "output_type": "stream",
     "text": [
      "23/23 [==============================] - ETA: 0s - loss: 14608.1309 - accuracy: 0.50 - ETA: 0s - loss: 7200.6592 - accuracy: 0.6295 - 0s 7ms/step - loss: 6780.6904 - accuracy: 0.6318 - val_loss: 6365.7759 - val_accuracy: 0.6387\n",
      "Epoch 264/1000\n",
      "23/23 [==============================] - ETA: 0s - loss: 14607.8047 - accuracy: 0.50 - ETA: 0s - loss: 6957.1724 - accuracy: 0.6307 - 0s 7ms/step - loss: 6780.5137 - accuracy: 0.6318 - val_loss: 6365.6084 - val_accuracy: 0.6387\n",
      "Epoch 265/1000\n",
      "23/23 [==============================] - ETA: 0s - loss: 14607.4805 - accuracy: 0.50 - ETA: 0s - loss: 8463.1309 - accuracy: 0.6367 - ETA: 0s - loss: 8124.0312 - accuracy: 0.642 - ETA: 0s - loss: 7200.2837 - accuracy: 0.629 - 0s 17ms/step - loss: 6780.3369 - accuracy: 0.6318 - val_loss: 6365.4409 - val_accuracy: 0.6387\n",
      "Epoch 266/1000\n",
      "23/23 [==============================] - ETA: 0s - loss: 14607.1523 - accuracy: 0.50 - ETA: 0s - loss: 7937.2739 - accuracy: 0.6161 - 0s 11ms/step - loss: 6780.1602 - accuracy: 0.6318 - val_loss: 6365.2729 - val_accuracy: 0.6387\n",
      "Epoch 267/1000\n",
      "23/23 [==============================] - ETA: 0s - loss: 14606.8262 - accuracy: 0.50 - 0s 7ms/step - loss: 6779.9844 - accuracy: 0.6318 - val_loss: 6365.1050 - val_accuracy: 0.6387\n",
      "Epoch 268/1000\n",
      "23/23 [==============================] - ETA: 0s - loss: 14606.4980 - accuracy: 0.50 - ETA: 0s - loss: 6956.4487 - accuracy: 0.6307 - 0s 12ms/step - loss: 6779.8062 - accuracy: 0.6318 - val_loss: 6364.9375 - val_accuracy: 0.6387\n",
      "Epoch 269/1000\n",
      "23/23 [==============================] - ETA: 0s - loss: 14606.1699 - accuracy: 0.50 - ETA: 0s - loss: 7985.0688 - accuracy: 0.6187 - 0s 13ms/step - loss: 6779.6304 - accuracy: 0.6318 - val_loss: 6364.7700 - val_accuracy: 0.6387\n",
      "Epoch 270/1000\n",
      "23/23 [==============================] - ETA: 0s - loss: 14605.8428 - accuracy: 0.50 - ETA: 0s - loss: 7352.9668 - accuracy: 0.6250 - ETA: 0s - loss: 7936.4561 - accuracy: 0.616 - 0s 14ms/step - loss: 6779.4536 - accuracy: 0.6318 - val_loss: 6364.6025 - val_accuracy: 0.6387\n",
      "Epoch 271/1000\n",
      "23/23 [==============================] - ETA: 0s - loss: 14605.5156 - accuracy: 0.50 - ETA: 0s - loss: 7126.1577 - accuracy: 0.6266 - 0s 8ms/step - loss: 6779.2773 - accuracy: 0.6318 - val_loss: 6364.4351 - val_accuracy: 0.6387\n",
      "Epoch 272/1000\n",
      "23/23 [==============================] - ETA: 0s - loss: 14605.1895 - accuracy: 0.50 - ETA: 0s - loss: 7936.0454 - accuracy: 0.6161 - ETA: 0s - loss: 7327.7271 - accuracy: 0.620 - 0s 15ms/step - loss: 6779.1006 - accuracy: 0.6318 - val_loss: 6364.2671 - val_accuracy: 0.6387\n",
      "Epoch 273/1000\n",
      "23/23 [==============================] - ETA: 0s - loss: 14604.8623 - accuracy: 0.50 - ETA: 0s - loss: 7984.2373 - accuracy: 0.6187 - 0s 10ms/step - loss: 6778.9224 - accuracy: 0.6318 - val_loss: 6364.0996 - val_accuracy: 0.6387\n",
      "Epoch 274/1000\n",
      "23/23 [==============================] - ETA: 0s - loss: 14604.5371 - accuracy: 0.50 - ETA: 0s - loss: 7320.3223 - accuracy: 0.6232 - ETA: 0s - loss: 6778.7466 - accuracy: 0.631 - 0s 10ms/step - loss: 6778.7466 - accuracy: 0.6318 - val_loss: 6363.9331 - val_accuracy: 0.6387\n",
      "Epoch 275/1000\n",
      "23/23 [==============================] - ETA: 0s - loss: 14604.2070 - accuracy: 0.50 - ETA: 0s - loss: 7198.4048 - accuracy: 0.6295 - 0s 10ms/step - loss: 6778.5708 - accuracy: 0.6318 - val_loss: 6363.7651 - val_accuracy: 0.6387\n",
      "Epoch 276/1000\n",
      "23/23 [==============================] - ETA: 0s - loss: 14603.8828 - accuracy: 0.50 - ETA: 0s - loss: 7983.6147 - accuracy: 0.6187 - ETA: 0s - loss: 7637.7832 - accuracy: 0.623 - 0s 18ms/step - loss: 6778.3936 - accuracy: 0.6318 - val_loss: 6363.5981 - val_accuracy: 0.6387\n",
      "Epoch 277/1000\n",
      "23/23 [==============================] - ETA: 0s - loss: 14603.5566 - accuracy: 0.50 - ETA: 0s - loss: 8034.0762 - accuracy: 0.6250 - 0s 11ms/step - loss: 6778.2173 - accuracy: 0.6318 - val_loss: 6363.4316 - val_accuracy: 0.6387\n",
      "Epoch 278/1000\n",
      "23/23 [==============================] - ETA: 0s - loss: 14603.2285 - accuracy: 0.50 - 0s 7ms/step - loss: 6778.0396 - accuracy: 0.6318 - val_loss: 6363.2632 - val_accuracy: 0.6387\n",
      "Epoch 279/1000\n",
      "23/23 [==============================] - ETA: 0s - loss: 14602.9023 - accuracy: 0.50 - ETA: 0s - loss: 6777.8628 - accuracy: 0.6318 - 0s 7ms/step - loss: 6777.8628 - accuracy: 0.6318 - val_loss: 6363.0962 - val_accuracy: 0.6387\n",
      "Epoch 280/1000\n",
      "23/23 [==============================] - ETA: 0s - loss: 14602.5781 - accuracy: 0.50 - 0s 7ms/step - loss: 6777.6870 - accuracy: 0.6318 - val_loss: 6362.9287 - val_accuracy: 0.6387\n",
      "Epoch 281/1000\n",
      "23/23 [==============================] - ETA: 0s - loss: 14602.2471 - accuracy: 0.50 - ETA: 0s - loss: 7197.2759 - accuracy: 0.6295 - 0s 8ms/step - loss: 6777.5103 - accuracy: 0.6318 - val_loss: 6362.7603 - val_accuracy: 0.6387\n",
      "Epoch 282/1000\n",
      "23/23 [==============================] - ETA: 0s - loss: 14601.9199 - accuracy: 0.50 - ETA: 0s - loss: 7114.4258 - accuracy: 0.6198 - 0s 9ms/step - loss: 6777.3345 - accuracy: 0.6318 - val_loss: 6362.5923 - val_accuracy: 0.6387\n",
      "Epoch 283/1000\n",
      "23/23 [==============================] - ETA: 0s - loss: 14601.5957 - accuracy: 0.50 - ETA: 0s - loss: 7196.9004 - accuracy: 0.6295 - 0s 14ms/step - loss: 6777.1562 - accuracy: 0.6318 - val_loss: 6362.4258 - val_accuracy: 0.6387\n",
      "Epoch 284/1000\n",
      "23/23 [==============================] - ETA: 0s - loss: 14601.2676 - accuracy: 0.50 - ETA: 0s - loss: 7636.1855 - accuracy: 0.6230 - 0s 9ms/step - loss: 6776.9795 - accuracy: 0.6318 - val_loss: 6362.2583 - val_accuracy: 0.6387\n",
      "Epoch 285/1000\n",
      "23/23 [==============================] - ETA: 0s - loss: 14600.9404 - accuracy: 0.50 - ETA: 0s - loss: 6776.8037 - accuracy: 0.6318 - 0s 7ms/step - loss: 6776.8037 - accuracy: 0.6318 - val_loss: 6362.0913 - val_accuracy: 0.6387\n",
      "Epoch 286/1000\n",
      "23/23 [==============================] - ETA: 0s - loss: 14600.6162 - accuracy: 0.50 - ETA: 0s - loss: 7196.3369 - accuracy: 0.6295 - 0s 8ms/step - loss: 6776.6279 - accuracy: 0.6318 - val_loss: 6361.9238 - val_accuracy: 0.6387\n",
      "Epoch 287/1000\n",
      "23/23 [==============================] - ETA: 0s - loss: 14600.2871 - accuracy: 0.50 - ETA: 0s - loss: 7981.3291 - accuracy: 0.6187 - 0s 10ms/step - loss: 6776.4502 - accuracy: 0.6318 - val_loss: 6361.7549 - val_accuracy: 0.6387\n",
      "Epoch 288/1000\n",
      "23/23 [==============================] - ETA: 0s - loss: 14599.9590 - accuracy: 0.50 - ETA: 0s - loss: 7635.3867 - accuracy: 0.6230 - 0s 16ms/step - loss: 6776.2725 - accuracy: 0.6318 - val_loss: 6361.5874 - val_accuracy: 0.6387\n",
      "Epoch 289/1000\n",
      "23/23 [==============================] - ETA: 0s - loss: 14599.6328 - accuracy: 0.50 - ETA: 0s - loss: 7317.4927 - accuracy: 0.6232 - 0s 10ms/step - loss: 6776.0967 - accuracy: 0.6318 - val_loss: 6361.4199 - val_accuracy: 0.6387\n",
      "Epoch 290/1000\n",
      "23/23 [==============================] - ETA: 0s - loss: 14599.3047 - accuracy: 0.50 - ETA: 0s - loss: 7122.6553 - accuracy: 0.6266 - 0s 8ms/step - loss: 6775.9199 - accuracy: 0.6318 - val_loss: 6361.2520 - val_accuracy: 0.6387\n",
      "Epoch 291/1000\n",
      "23/23 [==============================] - ETA: 0s - loss: 14598.9805 - accuracy: 0.50 - ETA: 0s - loss: 7691.1567 - accuracy: 0.6278 - 0s 9ms/step - loss: 6775.7427 - accuracy: 0.6318 - val_loss: 6361.0845 - val_accuracy: 0.6387\n",
      "Epoch 292/1000\n",
      "23/23 [==============================] - ETA: 0s - loss: 14598.6494 - accuracy: 0.50 - ETA: 0s - loss: 7980.2896 - accuracy: 0.6187 - ETA: 0s - loss: 6775.5674 - accuracy: 0.631 - 0s 16ms/step - loss: 6775.5674 - accuracy: 0.6318 - val_loss: 6360.9170 - val_accuracy: 0.6387\n",
      "Epoch 293/1000\n",
      "23/23 [==============================] - ETA: 0s - loss: 14598.3242 - accuracy: 0.50 - ETA: 0s - loss: 7634.3877 - accuracy: 0.6230 - 0s 9ms/step - loss: 6775.3887 - accuracy: 0.6318 - val_loss: 6360.7510 - val_accuracy: 0.6387\n",
      "Epoch 294/1000\n",
      "23/23 [==============================] - ETA: 0s - loss: 14597.9971 - accuracy: 0.50 - ETA: 0s - loss: 7194.8325 - accuracy: 0.6295 - 0s 8ms/step - loss: 6775.2124 - accuracy: 0.6318 - val_loss: 6360.5820 - val_accuracy: 0.6387\n",
      "Epoch 295/1000\n",
      "23/23 [==============================] - ETA: 0s - loss: 14597.6719 - accuracy: 0.50 - ETA: 0s - loss: 7633.9893 - accuracy: 0.6230 - 0s 9ms/step - loss: 6775.0366 - accuracy: 0.6318 - val_loss: 6360.4155 - val_accuracy: 0.6387\n"
     ]
    },
    {
     "name": "stdout",
     "output_type": "stream",
     "text": [
      "Epoch 296/1000\n",
      "23/23 [==============================] - ETA: 0s - loss: 14597.3428 - accuracy: 0.50 - ETA: 0s - loss: 7826.9751 - accuracy: 0.6344 - ETA: 0s - loss: 8030.0713 - accuracy: 0.625 - ETA: 0s - loss: 7633.7896 - accuracy: 0.623 - 0s 18ms/step - loss: 6774.8599 - accuracy: 0.6318 - val_loss: 6360.2480 - val_accuracy: 0.6387\n",
      "Epoch 297/1000\n",
      "23/23 [==============================] - ETA: 0s - loss: 14597.0176 - accuracy: 0.50 - ETA: 0s - loss: 7979.2515 - accuracy: 0.6187 - 0s 9ms/step - loss: 6774.6836 - accuracy: 0.6318 - val_loss: 6360.0815 - val_accuracy: 0.6387\n",
      "Epoch 298/1000\n",
      "23/23 [==============================] - ETA: 0s - loss: 14596.6895 - accuracy: 0.50 - 0s 8ms/step - loss: 6774.5054 - accuracy: 0.6318 - val_loss: 6359.9131 - val_accuracy: 0.6387\n",
      "Epoch 299/1000\n",
      "23/23 [==============================] - ETA: 0s - loss: 14596.3633 - accuracy: 0.50 - 0s 7ms/step - loss: 6774.3286 - accuracy: 0.6318 - val_loss: 6359.7456 - val_accuracy: 0.6387\n",
      "Epoch 300/1000\n",
      "23/23 [==============================] - ETA: 0s - loss: 14596.0391 - accuracy: 0.50 - ETA: 0s - loss: 7120.8125 - accuracy: 0.6266 - 0s 8ms/step - loss: 6774.1533 - accuracy: 0.6318 - val_loss: 6359.5786 - val_accuracy: 0.6387\n",
      "Epoch 301/1000\n",
      "23/23 [==============================] - ETA: 0s - loss: 14595.7109 - accuracy: 0.50 - ETA: 0s - loss: 7193.5181 - accuracy: 0.6295 - 0s 16ms/step - loss: 6773.9771 - accuracy: 0.6318 - val_loss: 6359.4097 - val_accuracy: 0.6387\n",
      "Epoch 302/1000\n",
      "23/23 [==============================] - ETA: 0s - loss: 14595.3848 - accuracy: 0.50 - ETA: 0s - loss: 7929.9077 - accuracy: 0.6161 - 0s 13ms/step - loss: 6773.7998 - accuracy: 0.6318 - val_loss: 6359.2432 - val_accuracy: 0.6387\n",
      "Epoch 303/1000\n",
      "23/23 [==============================] - ETA: 0s - loss: 14595.0547 - accuracy: 0.50 - ETA: 0s - loss: 6773.6235 - accuracy: 0.6318 - 0s 7ms/step - loss: 6773.6235 - accuracy: 0.6318 - val_loss: 6359.0757 - val_accuracy: 0.6387\n",
      "Epoch 304/1000\n",
      "23/23 [==============================] - ETA: 0s - loss: 14594.7275 - accuracy: 0.50 - ETA: 0s - loss: 6949.9341 - accuracy: 0.6307 - 0s 8ms/step - loss: 6773.4458 - accuracy: 0.6318 - val_loss: 6358.9062 - val_accuracy: 0.6387\n",
      "Epoch 305/1000\n",
      "23/23 [==============================] - ETA: 0s - loss: 14594.4014 - accuracy: 0.50 - 0s 8ms/step - loss: 6773.2695 - accuracy: 0.6318 - val_loss: 6358.7402 - val_accuracy: 0.6387\n",
      "Epoch 306/1000\n",
      "23/23 [==============================] - ETA: 0s - loss: 14594.0781 - accuracy: 0.50 - ETA: 0s - loss: 7346.1270 - accuracy: 0.6250 - ETA: 0s - loss: 7119.7056 - accuracy: 0.626 - 0s 16ms/step - loss: 6773.0923 - accuracy: 0.6318 - val_loss: 6358.5732 - val_accuracy: 0.6387\n",
      "Epoch 307/1000\n",
      "23/23 [==============================] - ETA: 0s - loss: 14593.7510 - accuracy: 0.50 - ETA: 0s - loss: 7314.0977 - accuracy: 0.6232 - 0s 9ms/step - loss: 6772.9170 - accuracy: 0.6318 - val_loss: 6358.4053 - val_accuracy: 0.6387\n",
      "Epoch 308/1000\n",
      "23/23 [==============================] - ETA: 0s - loss: 14593.4189 - accuracy: 0.50 - ETA: 0s - loss: 6949.2095 - accuracy: 0.6307 - 0s 9ms/step - loss: 6772.7383 - accuracy: 0.6318 - val_loss: 6358.2373 - val_accuracy: 0.6387\n",
      "Epoch 309/1000\n",
      "23/23 [==============================] - ETA: 0s - loss: 14593.0996 - accuracy: 0.50 - ETA: 0s - loss: 7109.5264 - accuracy: 0.6198 - 0s 8ms/step - loss: 6772.5625 - accuracy: 0.6318 - val_loss: 6358.0713 - val_accuracy: 0.6387\n",
      "Epoch 310/1000\n",
      "23/23 [==============================] - ETA: 0s - loss: 14592.7695 - accuracy: 0.50 - ETA: 0s - loss: 7320.5508 - accuracy: 0.6201 - 0s 18ms/step - loss: 6772.3843 - accuracy: 0.6318 - val_loss: 6357.9028 - val_accuracy: 0.6387\n",
      "Epoch 311/1000\n",
      "23/23 [==============================] - ETA: 0s - loss: 14592.4385 - accuracy: 0.50 - ETA: 0s - loss: 7313.3423 - accuracy: 0.6232 - 0s 9ms/step - loss: 6772.2095 - accuracy: 0.6318 - val_loss: 6357.7349 - val_accuracy: 0.6387\n",
      "Epoch 312/1000\n",
      "23/23 [==============================] - ETA: 0s - loss: 14592.1152 - accuracy: 0.50 - ETA: 0s - loss: 7191.4492 - accuracy: 0.6295 - 0s 8ms/step - loss: 6772.0327 - accuracy: 0.6318 - val_loss: 6357.5669 - val_accuracy: 0.6387\n",
      "Epoch 313/1000\n",
      "23/23 [==============================] - ETA: 0s - loss: 14591.7900 - accuracy: 0.50 - ETA: 0s - loss: 7191.2617 - accuracy: 0.6295 - 0s 9ms/step - loss: 6771.8560 - accuracy: 0.6318 - val_loss: 6357.3999 - val_accuracy: 0.6387\n",
      "Epoch 314/1000\n",
      "23/23 [==============================] - ETA: 0s - loss: 14591.4590 - accuracy: 0.50 - ETA: 0s - loss: 7118.2305 - accuracy: 0.6266 - 0s 17ms/step - loss: 6771.6787 - accuracy: 0.6318 - val_loss: 6357.2334 - val_accuracy: 0.6387\n",
      "Epoch 315/1000\n",
      "23/23 [==============================] - ETA: 0s - loss: 14591.1348 - accuracy: 0.50 - ETA: 0s - loss: 7629.9961 - accuracy: 0.6230 - 0s 11ms/step - loss: 6771.5020 - accuracy: 0.6318 - val_loss: 6357.0659 - val_accuracy: 0.6387\n",
      "Epoch 316/1000\n",
      "23/23 [==============================] - ETA: 0s - loss: 14590.8086 - accuracy: 0.50 - ETA: 0s - loss: 7190.6978 - accuracy: 0.6295 - 0s 8ms/step - loss: 6771.3262 - accuracy: 0.6318 - val_loss: 6356.8975 - val_accuracy: 0.6387\n",
      "Epoch 317/1000\n",
      "23/23 [==============================] - ETA: 0s - loss: 14590.4824 - accuracy: 0.50 - ETA: 0s - loss: 7117.6772 - accuracy: 0.6266 - 0s 8ms/step - loss: 6771.1489 - accuracy: 0.6318 - val_loss: 6356.7300 - val_accuracy: 0.6387\n",
      "Epoch 318/1000\n",
      "23/23 [==============================] - ETA: 0s - loss: 14590.1533 - accuracy: 0.50 - 0s 7ms/step - loss: 6770.9722 - accuracy: 0.6318 - val_loss: 6356.5625 - val_accuracy: 0.6387\n",
      "Epoch 319/1000\n",
      "23/23 [==============================] - ETA: 0s - loss: 14589.8291 - accuracy: 0.50 - ETA: 0s - loss: 7311.8345 - accuracy: 0.6232 - 0s 16ms/step - loss: 6770.7954 - accuracy: 0.6318 - val_loss: 6356.3960 - val_accuracy: 0.6387\n",
      "Epoch 320/1000\n",
      "23/23 [==============================] - ETA: 0s - loss: 14589.4980 - accuracy: 0.50 - ETA: 0s - loss: 7974.4712 - accuracy: 0.6187 - 0s 12ms/step - loss: 6770.6182 - accuracy: 0.6318 - val_loss: 6356.2275 - val_accuracy: 0.6387\n",
      "Epoch 321/1000\n",
      "23/23 [==============================] - ETA: 0s - loss: 14589.1729 - accuracy: 0.50 - ETA: 0s - loss: 7318.4751 - accuracy: 0.6201 - 0s 9ms/step - loss: 6770.4429 - accuracy: 0.6318 - val_loss: 6356.0591 - val_accuracy: 0.6387\n",
      "Epoch 322/1000\n",
      "23/23 [==============================] - ETA: 0s - loss: 14588.8428 - accuracy: 0.50 - ETA: 0s - loss: 7189.5698 - accuracy: 0.6295 - 0s 8ms/step - loss: 6770.2656 - accuracy: 0.6318 - val_loss: 6355.8926 - val_accuracy: 0.6387\n",
      "Epoch 323/1000\n",
      "23/23 [==============================] - ETA: 0s - loss: 14588.5195 - accuracy: 0.50 - ETA: 0s - loss: 7116.5718 - accuracy: 0.6266 - 0s 10ms/step - loss: 6770.0884 - accuracy: 0.6318 - val_loss: 6355.7256 - val_accuracy: 0.6387\n",
      "Epoch 324/1000\n",
      "23/23 [==============================] - ETA: 0s - loss: 14588.1924 - accuracy: 0.50 - ETA: 0s - loss: 7189.1934 - accuracy: 0.6295 - 0s 12ms/step - loss: 6769.9116 - accuracy: 0.6318 - val_loss: 6355.5562 - val_accuracy: 0.6387\n",
      "Epoch 325/1000\n",
      "23/23 [==============================] - ETA: 0s - loss: 14587.8633 - accuracy: 0.50 - ETA: 0s - loss: 7310.7021 - accuracy: 0.6232 - 0s 13ms/step - loss: 6769.7358 - accuracy: 0.6318 - val_loss: 6355.3901 - val_accuracy: 0.6387\n",
      "Epoch 326/1000\n",
      "23/23 [==============================] - ETA: 0s - loss: 14587.5391 - accuracy: 0.50 - ETA: 0s - loss: 7924.9966 - accuracy: 0.6161 - 0s 16ms/step - loss: 6769.5591 - accuracy: 0.6318 - val_loss: 6355.2227 - val_accuracy: 0.6387\n",
      "Epoch 327/1000\n",
      "23/23 [==============================] - ETA: 0s - loss: 14587.2109 - accuracy: 0.50 - ETA: 0s - loss: 7188.6309 - accuracy: 0.6295 - 0s 8ms/step - loss: 6769.3833 - accuracy: 0.6318 - val_loss: 6355.0542 - val_accuracy: 0.6387\n",
      "Epoch 328/1000\n",
      "23/23 [==============================] - ETA: 0s - loss: 14586.8877 - accuracy: 0.50 - ETA: 0s - loss: 7188.4419 - accuracy: 0.6295 - 0s 15ms/step - loss: 6769.2051 - accuracy: 0.6318 - val_loss: 6354.8882 - val_accuracy: 0.6387\n",
      "Epoch 329/1000\n",
      "23/23 [==============================] - ETA: 0s - loss: 14586.5566 - accuracy: 0.50 - ETA: 0s - loss: 7924.3828 - accuracy: 0.6161 - 0s 11ms/step - loss: 6769.0298 - accuracy: 0.6318 - val_loss: 6354.7207 - val_accuracy: 0.6387\n"
     ]
    },
    {
     "name": "stdout",
     "output_type": "stream",
     "text": [
      "Epoch 330/1000\n",
      "23/23 [==============================] - ETA: 0s - loss: 14586.2295 - accuracy: 0.50 - ETA: 0s - loss: 7316.7764 - accuracy: 0.6201 - 0s 9ms/step - loss: 6768.8525 - accuracy: 0.6318 - val_loss: 6354.5522 - val_accuracy: 0.6387\n",
      "Epoch 331/1000\n",
      "23/23 [==============================] - ETA: 0s - loss: 14585.9033 - accuracy: 0.50 - ETA: 0s - loss: 6945.0474 - accuracy: 0.6307 - 0s 8ms/step - loss: 6768.6753 - accuracy: 0.6318 - val_loss: 6354.3848 - val_accuracy: 0.6387\n",
      "Epoch 332/1000\n",
      "23/23 [==============================] - ETA: 0s - loss: 14585.5771 - accuracy: 0.50 - ETA: 0s - loss: 7114.9131 - accuracy: 0.6266 - 0s 14ms/step - loss: 6768.4995 - accuracy: 0.6318 - val_loss: 6354.2173 - val_accuracy: 0.6387\n",
      "Epoch 333/1000\n",
      "23/23 [==============================] - ETA: 0s - loss: 14585.2480 - accuracy: 0.50 - ETA: 0s - loss: 8022.2710 - accuracy: 0.6250 - 0s 14ms/step - loss: 6768.3213 - accuracy: 0.6318 - val_loss: 6354.0493 - val_accuracy: 0.6387\n",
      "Epoch 334/1000\n",
      "23/23 [==============================] - ETA: 0s - loss: 14584.9219 - accuracy: 0.50 - ETA: 0s - loss: 7104.9897 - accuracy: 0.6198 - 0s 8ms/step - loss: 6768.1455 - accuracy: 0.6318 - val_loss: 6353.8813 - val_accuracy: 0.6387\n",
      "Epoch 335/1000\n",
      "23/23 [==============================] - ETA: 0s - loss: 14584.5957 - accuracy: 0.50 - ETA: 0s - loss: 7114.3594 - accuracy: 0.6266 - 0s 8ms/step - loss: 6767.9683 - accuracy: 0.6318 - val_loss: 6353.7148 - val_accuracy: 0.6387\n",
      "Epoch 336/1000\n",
      "23/23 [==============================] - ETA: 0s - loss: 14584.2715 - accuracy: 0.50 - ETA: 0s - loss: 7104.6284 - accuracy: 0.6198 - 0s 9ms/step - loss: 6767.7939 - accuracy: 0.6318 - val_loss: 6353.5474 - val_accuracy: 0.6387\n",
      "Epoch 337/1000\n",
      "23/23 [==============================] - ETA: 0s - loss: 14583.9414 - accuracy: 0.50 - ETA: 0s - loss: 7113.9912 - accuracy: 0.6266 - 0s 18ms/step - loss: 6767.6157 - accuracy: 0.6318 - val_loss: 6353.3804 - val_accuracy: 0.6387\n",
      "Epoch 338/1000\n",
      "23/23 [==============================] - ETA: 0s - loss: 14583.6172 - accuracy: 0.50 - ETA: 0s - loss: 7625.4053 - accuracy: 0.6230 - 0s 10ms/step - loss: 6767.4395 - accuracy: 0.6318 - val_loss: 6353.2134 - val_accuracy: 0.6387\n",
      "Epoch 339/1000\n",
      "23/23 [==============================] - ETA: 0s - loss: 14583.2871 - accuracy: 0.50 - ETA: 0s - loss: 6767.2627 - accuracy: 0.6318 - 0s 8ms/step - loss: 6767.2627 - accuracy: 0.6318 - val_loss: 6353.0449 - val_accuracy: 0.6387\n",
      "Epoch 340/1000\n",
      "23/23 [==============================] - ETA: 0s - loss: 14582.9609 - accuracy: 0.50 - ETA: 0s - loss: 6943.4199 - accuracy: 0.6307 - 0s 7ms/step - loss: 6767.0854 - accuracy: 0.6318 - val_loss: 6352.8779 - val_accuracy: 0.6387\n",
      "Epoch 341/1000\n",
      "23/23 [==============================] - ETA: 0s - loss: 14582.6348 - accuracy: 0.50 - ETA: 0s - loss: 7970.1079 - accuracy: 0.6187 - 0s 9ms/step - loss: 6766.9082 - accuracy: 0.6318 - val_loss: 6352.7104 - val_accuracy: 0.6387\n",
      "Epoch 342/1000\n",
      "23/23 [==============================] - ETA: 0s - loss: 14582.3086 - accuracy: 0.50 - ETA: 0s - loss: 6943.0566 - accuracy: 0.6307 - 0s 18ms/step - loss: 6766.7314 - accuracy: 0.6318 - val_loss: 6352.5430 - val_accuracy: 0.6387\n",
      "Epoch 343/1000\n",
      "23/23 [==============================] - ETA: 0s - loss: 14581.9834 - accuracy: 0.50 - ETA: 0s - loss: 7103.3560 - accuracy: 0.6198 - 0s 10ms/step - loss: 6766.5542 - accuracy: 0.6318 - val_loss: 6352.3740 - val_accuracy: 0.6387\n",
      "Epoch 344/1000\n",
      "23/23 [==============================] - ETA: 0s - loss: 14581.6543 - accuracy: 0.50 - 0s 7ms/step - loss: 6766.3779 - accuracy: 0.6318 - val_loss: 6352.2075 - val_accuracy: 0.6387\n",
      "Epoch 345/1000\n",
      "23/23 [==============================] - ETA: 0s - loss: 14581.3262 - accuracy: 0.50 - ETA: 0s - loss: 6766.2002 - accuracy: 0.6318 - 0s 8ms/step - loss: 6766.2002 - accuracy: 0.6318 - val_loss: 6352.0405 - val_accuracy: 0.6387\n",
      "Epoch 346/1000\n",
      "23/23 [==============================] - ETA: 0s - loss: 14581.0020 - accuracy: 0.50 - ETA: 0s - loss: 6942.3354 - accuracy: 0.6307 - 0s 8ms/step - loss: 6766.0273 - accuracy: 0.6318 - val_loss: 6351.8721 - val_accuracy: 0.6387\n",
      "Epoch 347/1000\n",
      "23/23 [==============================] - ETA: 0s - loss: 14580.6748 - accuracy: 0.50 - ETA: 0s - loss: 8019.3198 - accuracy: 0.6250 - ETA: 0s - loss: 6942.1528 - accuracy: 0.630 - 0s 17ms/step - loss: 6765.8491 - accuracy: 0.6318 - val_loss: 6351.7051 - val_accuracy: 0.6387\n",
      "Epoch 348/1000\n",
      "23/23 [==============================] - ETA: 0s - loss: 14580.3477 - accuracy: 0.50 - ETA: 0s - loss: 7920.4937 - accuracy: 0.6161 - 0s 11ms/step - loss: 6765.6704 - accuracy: 0.6318 - val_loss: 6351.5371 - val_accuracy: 0.6387\n",
      "Epoch 349/1000\n",
      "23/23 [==============================] - ETA: 0s - loss: 14580.0195 - accuracy: 0.50 - ETA: 0s - loss: 6765.4951 - accuracy: 0.6318 - 0s 8ms/step - loss: 6765.4951 - accuracy: 0.6318 - val_loss: 6351.3696 - val_accuracy: 0.6387\n",
      "Epoch 350/1000\n",
      "23/23 [==============================] - ETA: 0s - loss: 14579.6924 - accuracy: 0.50 - ETA: 0s - loss: 6941.6094 - accuracy: 0.6307 - 0s 10ms/step - loss: 6765.3188 - accuracy: 0.6318 - val_loss: 6351.2026 - val_accuracy: 0.6387\n",
      "Epoch 351/1000\n",
      "23/23 [==============================] - ETA: 0s - loss: 14579.3682 - accuracy: 0.50 - ETA: 0s - loss: 7312.8110 - accuracy: 0.6201 - 0s 17ms/step - loss: 6765.1411 - accuracy: 0.6318 - val_loss: 6351.0352 - val_accuracy: 0.6387\n",
      "Epoch 352/1000\n",
      "23/23 [==============================] - ETA: 0s - loss: 14579.0400 - accuracy: 0.50 - ETA: 0s - loss: 7305.6094 - accuracy: 0.6232 - 0s 9ms/step - loss: 6764.9653 - accuracy: 0.6318 - val_loss: 6350.8672 - val_accuracy: 0.6387\n",
      "Epoch 353/1000\n",
      "23/23 [==============================] - ETA: 0s - loss: 14578.7139 - accuracy: 0.50 - ETA: 0s - loss: 7183.7432 - accuracy: 0.6295 - 0s 8ms/step - loss: 6764.7881 - accuracy: 0.6318 - val_loss: 6350.7002 - val_accuracy: 0.6387\n",
      "Epoch 354/1000\n",
      "23/23 [==============================] - ETA: 0s - loss: 14578.3857 - accuracy: 0.50 - ETA: 0s - loss: 7101.3608 - accuracy: 0.6198 - 0s 10ms/step - loss: 6764.6113 - accuracy: 0.6318 - val_loss: 6350.5317 - val_accuracy: 0.6387\n",
      "Epoch 355/1000\n",
      "23/23 [==============================] - ETA: 0s - loss: 14578.0566 - accuracy: 0.50 - ETA: 0s - loss: 7622.0098 - accuracy: 0.6230 - 0s 10ms/step - loss: 6764.4346 - accuracy: 0.6318 - val_loss: 6350.3662 - val_accuracy: 0.6387\n",
      "Epoch 356/1000\n",
      "23/23 [==============================] - ETA: 0s - loss: 14577.7305 - accuracy: 0.50 - ETA: 0s - loss: 7110.4893 - accuracy: 0.6266 - 0s 16ms/step - loss: 6764.2583 - accuracy: 0.6318 - val_loss: 6350.1978 - val_accuracy: 0.6387\n",
      "Epoch 357/1000\n",
      "23/23 [==============================] - ETA: 0s - loss: 14577.4053 - accuracy: 0.50 - ETA: 0s - loss: 7621.6094 - accuracy: 0.6230 - 0s 11ms/step - loss: 6764.0811 - accuracy: 0.6318 - val_loss: 6350.0288 - val_accuracy: 0.6387\n",
      "Epoch 358/1000\n",
      "23/23 [==============================] - ETA: 0s - loss: 14577.0791 - accuracy: 0.50 - ETA: 0s - loss: 7304.4771 - accuracy: 0.6232 - 0s 8ms/step - loss: 6763.9043 - accuracy: 0.6318 - val_loss: 6349.8628 - val_accuracy: 0.6387\n",
      "Epoch 359/1000\n",
      "23/23 [==============================] - ETA: 0s - loss: 14576.7520 - accuracy: 0.50 - ETA: 0s - loss: 6763.7275 - accuracy: 0.6318 - 0s 8ms/step - loss: 6763.7275 - accuracy: 0.6318 - val_loss: 6349.6948 - val_accuracy: 0.6387\n",
      "Epoch 360/1000\n",
      "23/23 [==============================] - ETA: 0s - loss: 14576.4258 - accuracy: 0.50 - ETA: 0s - loss: 6939.7988 - accuracy: 0.6307 - 0s 8ms/step - loss: 6763.5508 - accuracy: 0.6318 - val_loss: 6349.5273 - val_accuracy: 0.6387\n",
      "Epoch 361/1000\n",
      "23/23 [==============================] - ETA: 0s - loss: 14576.0996 - accuracy: 0.50 - ETA: 0s - loss: 7965.9526 - accuracy: 0.6187 - ETA: 0s - loss: 7310.9229 - accuracy: 0.620 - ETA: 0s - loss: 6939.6187 - accuracy: 0.630 - 0s 20ms/step - loss: 6763.3750 - accuracy: 0.6318 - val_loss: 6349.3599 - val_accuracy: 0.6387\n",
      "Epoch 362/1000\n",
      "23/23 [==============================] - ETA: 0s - loss: 14575.7705 - accuracy: 0.50 - ETA: 0s - loss: 7813.3506 - accuracy: 0.6344 - ETA: 0s - loss: 7109.3843 - accuracy: 0.626 - 0s 15ms/step - loss: 6763.1992 - accuracy: 0.6318 - val_loss: 6349.1929 - val_accuracy: 0.6387\n",
      "Epoch 363/1000\n"
     ]
    },
    {
     "name": "stdout",
     "output_type": "stream",
     "text": [
      "23/23 [==============================] - ETA: 0s - loss: 14575.4434 - accuracy: 0.50 - ETA: 0s - loss: 7099.7285 - accuracy: 0.6198 - 0s 8ms/step - loss: 6763.0220 - accuracy: 0.6318 - val_loss: 6349.0244 - val_accuracy: 0.6387\n",
      "Epoch 364/1000\n",
      "23/23 [==============================] - ETA: 0s - loss: 14575.1172 - accuracy: 0.50 - ETA: 0s - loss: 6939.0752 - accuracy: 0.6307 - 0s 15ms/step - loss: 6762.8442 - accuracy: 0.6318 - val_loss: 6348.8579 - val_accuracy: 0.6387\n",
      "Epoch 365/1000\n",
      "23/23 [==============================] - ETA: 0s - loss: 14574.7930 - accuracy: 0.50 - ETA: 0s - loss: 7303.1562 - accuracy: 0.6232 - 0s 11ms/step - loss: 6762.6685 - accuracy: 0.6318 - val_loss: 6348.6904 - val_accuracy: 0.6387\n",
      "Epoch 366/1000\n",
      "23/23 [==============================] - ETA: 0s - loss: 14574.4619 - accuracy: 0.50 - ETA: 0s - loss: 7181.2993 - accuracy: 0.6295 - 0s 8ms/step - loss: 6762.4907 - accuracy: 0.6318 - val_loss: 6348.5220 - val_accuracy: 0.6387\n",
      "Epoch 367/1000\n",
      "23/23 [==============================] - ETA: 0s - loss: 14574.1377 - accuracy: 0.50 - ETA: 0s - loss: 6938.5327 - accuracy: 0.6307 - 0s 8ms/step - loss: 6762.3145 - accuracy: 0.6318 - val_loss: 6348.3540 - val_accuracy: 0.6387\n",
      "Epoch 368/1000\n",
      "23/23 [==============================] - ETA: 0s - loss: 14573.8105 - accuracy: 0.50 - ETA: 0s - loss: 6762.1377 - accuracy: 0.6318 - 0s 18ms/step - loss: 6762.1377 - accuracy: 0.6318 - val_loss: 6348.1865 - val_accuracy: 0.6387\n",
      "Epoch 369/1000\n",
      "23/23 [==============================] - ETA: 0s - loss: 14573.4844 - accuracy: 0.50 - ETA: 0s - loss: 7619.2153 - accuracy: 0.6230 - 0s 9ms/step - loss: 6761.9614 - accuracy: 0.6318 - val_loss: 6348.0200 - val_accuracy: 0.6387\n",
      "Epoch 370/1000\n",
      "23/23 [==============================] - ETA: 0s - loss: 14573.1572 - accuracy: 0.50 - ETA: 0s - loss: 6937.9907 - accuracy: 0.6307 - 0s 9ms/step - loss: 6761.7852 - accuracy: 0.6318 - val_loss: 6347.8530 - val_accuracy: 0.6387\n",
      "Epoch 371/1000\n",
      "23/23 [==============================] - ETA: 0s - loss: 14572.8301 - accuracy: 0.50 - ETA: 0s - loss: 6761.6094 - accuracy: 0.6318 - 0s 12ms/step - loss: 6761.6094 - accuracy: 0.6318 - val_loss: 6347.6846 - val_accuracy: 0.6387\n",
      "Epoch 372/1000\n",
      "23/23 [==============================] - ETA: 0s - loss: 14572.5049 - accuracy: 0.50 - ETA: 0s - loss: 7098.0967 - accuracy: 0.6198 - 0s 13ms/step - loss: 6761.4336 - accuracy: 0.6318 - val_loss: 6347.5176 - val_accuracy: 0.6387\n",
      "Epoch 373/1000\n",
      "23/23 [==============================] - ETA: 0s - loss: 14572.1768 - accuracy: 0.50 - ETA: 0s - loss: 7915.3804 - accuracy: 0.6161 - 0s 9ms/step - loss: 6761.2549 - accuracy: 0.6318 - val_loss: 6347.3516 - val_accuracy: 0.6387\n",
      "Epoch 374/1000\n",
      "23/23 [==============================] - ETA: 0s - loss: 14571.8467 - accuracy: 0.50 - ETA: 0s - loss: 7179.8008 - accuracy: 0.6310 - 0s 8ms/step - loss: 6761.0815 - accuracy: 0.6332 - val_loss: 6347.1846 - val_accuracy: 0.6387\n",
      "Epoch 375/1000\n",
      "23/23 [==============================] - ETA: 0s - loss: 14571.5195 - accuracy: 0.50 - ETA: 0s - loss: 7106.9932 - accuracy: 0.6281 - 0s 10ms/step - loss: 6760.9067 - accuracy: 0.6332 - val_loss: 6347.0186 - val_accuracy: 0.6387\n",
      "Epoch 376/1000\n",
      "23/23 [==============================] - ETA: 0s - loss: 14571.1895 - accuracy: 0.50 - ETA: 0s - loss: 7810.4712 - accuracy: 0.6375 - ETA: 0s - loss: 7962.8447 - accuracy: 0.620 - ETA: 0s - loss: 6936.9111 - accuracy: 0.632 - 0s 19ms/step - loss: 6760.7314 - accuracy: 0.6332 - val_loss: 6346.8530 - val_accuracy: 0.6387\n",
      "Epoch 377/1000\n",
      "23/23 [==============================] - ETA: 0s - loss: 14570.8613 - accuracy: 0.50 - ETA: 0s - loss: 7962.6382 - accuracy: 0.6208 - 0s 10ms/step - loss: 6760.5557 - accuracy: 0.6332 - val_loss: 6346.6875 - val_accuracy: 0.6387\n",
      "Epoch 378/1000\n",
      "23/23 [==============================] - ETA: 0s - loss: 14570.5332 - accuracy: 0.50 - ETA: 0s - loss: 6760.3813 - accuracy: 0.6332 - 0s 8ms/step - loss: 6760.3813 - accuracy: 0.6332 - val_loss: 6346.5234 - val_accuracy: 0.6452\n",
      "Epoch 379/1000\n",
      "23/23 [==============================] - ETA: 0s - loss: 14570.2002 - accuracy: 0.50 - ETA: 0s - loss: 7178.8706 - accuracy: 0.6310 - 0s 9ms/step - loss: 6760.2070 - accuracy: 0.6332 - val_loss: 6346.3608 - val_accuracy: 0.6452\n",
      "Epoch 380/1000\n",
      "23/23 [==============================] - ETA: 0s - loss: 14569.8721 - accuracy: 0.50 - ETA: 0s - loss: 6936.1948 - accuracy: 0.6321 - 0s 14ms/step - loss: 6760.0317 - accuracy: 0.6332 - val_loss: 6346.1982 - val_accuracy: 0.6452\n",
      "Epoch 381/1000\n",
      "23/23 [==============================] - ETA: 0s - loss: 14569.5449 - accuracy: 0.50 - ETA: 0s - loss: 7096.4785 - accuracy: 0.6215 - 0s 13ms/step - loss: 6759.8574 - accuracy: 0.6332 - val_loss: 6346.0356 - val_accuracy: 0.6452\n",
      "Epoch 382/1000\n",
      "23/23 [==============================] - ETA: 0s - loss: 14569.2139 - accuracy: 0.50 - ETA: 0s - loss: 7306.9771 - accuracy: 0.6217 - 0s 8ms/step - loss: 6759.6826 - accuracy: 0.6332 - val_loss: 6345.8740 - val_accuracy: 0.6452\n",
      "Epoch 383/1000\n",
      "23/23 [==============================] - ETA: 0s - loss: 14568.8867 - accuracy: 0.50 - 0s 7ms/step - loss: 6759.5083 - accuracy: 0.6332 - val_loss: 6345.7139 - val_accuracy: 0.6452\n",
      "Epoch 384/1000\n",
      "23/23 [==============================] - ETA: 0s - loss: 14568.5605 - accuracy: 0.50 - ETA: 0s - loss: 7177.9414 - accuracy: 0.6310 - 0s 9ms/step - loss: 6759.3335 - accuracy: 0.6332 - val_loss: 6345.5513 - val_accuracy: 0.6452\n",
      "Epoch 385/1000\n",
      "23/23 [==============================] - ETA: 0s - loss: 14568.2314 - accuracy: 0.50 - ETA: 0s - loss: 6759.1567 - accuracy: 0.6332 - 0s 17ms/step - loss: 6759.1567 - accuracy: 0.6332 - val_loss: 6345.3901 - val_accuracy: 0.6452\n",
      "Epoch 386/1000\n",
      "23/23 [==============================] - ETA: 0s - loss: 14567.9023 - accuracy: 0.50 - ETA: 0s - loss: 7615.8530 - accuracy: 0.6250 - 0s 11ms/step - loss: 6758.9829 - accuracy: 0.6332 - val_loss: 6345.2295 - val_accuracy: 0.6452\n",
      "Epoch 387/1000\n",
      "23/23 [==============================] - ETA: 0s - loss: 14567.5762 - accuracy: 0.50 - ETA: 0s - loss: 6934.9409 - accuracy: 0.6321 - 0s 8ms/step - loss: 6758.8086 - accuracy: 0.6332 - val_loss: 6345.0684 - val_accuracy: 0.6452\n",
      "Epoch 388/1000\n",
      "23/23 [==============================] - ETA: 0s - loss: 14567.2480 - accuracy: 0.50 - ETA: 0s - loss: 7177.1958 - accuracy: 0.6310 - 0s 9ms/step - loss: 6758.6323 - accuracy: 0.6332 - val_loss: 6344.9062 - val_accuracy: 0.6452\n",
      "Epoch 389/1000\n",
      "23/23 [==============================] - ETA: 0s - loss: 14566.9199 - accuracy: 0.50 - ETA: 0s - loss: 7177.0103 - accuracy: 0.6310 - 0s 10ms/step - loss: 6758.4585 - accuracy: 0.6332 - val_loss: 6344.7466 - val_accuracy: 0.6452\n",
      "Epoch 390/1000\n",
      "23/23 [==============================] - ETA: 0s - loss: 14566.5938 - accuracy: 0.50 - ETA: 0s - loss: 8854.1924 - accuracy: 0.6302 - ETA: 0s - loss: 8010.3052 - accuracy: 0.627 - 0s 18ms/step - loss: 6758.2847 - accuracy: 0.6332 - val_loss: 6344.5859 - val_accuracy: 0.6452\n",
      "Epoch 391/1000\n",
      "23/23 [==============================] - ETA: 0s - loss: 14566.2666 - accuracy: 0.50 - ETA: 0s - loss: 7094.6841 - accuracy: 0.6215 - 0s 10ms/step - loss: 6758.1089 - accuracy: 0.6332 - val_loss: 6344.4248 - val_accuracy: 0.6452\n",
      "Epoch 392/1000\n",
      "23/23 [==============================] - ETA: 0s - loss: 14565.9404 - accuracy: 0.50 - ETA: 0s - loss: 7103.8921 - accuracy: 0.6281 - 0s 9ms/step - loss: 6757.9326 - accuracy: 0.6332 - val_loss: 6344.2627 - val_accuracy: 0.6452\n",
      "Epoch 393/1000\n",
      "23/23 [==============================] - ETA: 0s - loss: 14565.6152 - accuracy: 0.50 - ETA: 0s - loss: 7304.9233 - accuracy: 0.6217 - 0s 11ms/step - loss: 6757.7603 - accuracy: 0.6332 - val_loss: 6344.1021 - val_accuracy: 0.6452\n",
      "Epoch 394/1000\n",
      "23/23 [==============================] - ETA: 0s - loss: 14565.2910 - accuracy: 0.50 - ETA: 0s - loss: 8009.4722 - accuracy: 0.6274 - 0s 14ms/step - loss: 6757.5845 - accuracy: 0.6332 - val_loss: 6343.9399 - val_accuracy: 0.6452\n",
      "Epoch 395/1000\n",
      "23/23 [==============================] - ETA: 0s - loss: 14564.9619 - accuracy: 0.50 - ETA: 0s - loss: 7093.9668 - accuracy: 0.6215 - 0s 9ms/step - loss: 6757.4097 - accuracy: 0.6332 - val_loss: 6343.7798 - val_accuracy: 0.6452\n",
      "Epoch 396/1000\n"
     ]
    },
    {
     "name": "stdout",
     "output_type": "stream",
     "text": [
      "23/23 [==============================] - ETA: 0s - loss: 14564.6406 - accuracy: 0.50 - ETA: 0s - loss: 7175.7090 - accuracy: 0.6310 - 0s 9ms/step - loss: 6757.2344 - accuracy: 0.6332 - val_loss: 6343.6187 - val_accuracy: 0.6452\n",
      "Epoch 397/1000\n",
      "23/23 [==============================] - ETA: 0s - loss: 14564.3145 - accuracy: 0.50 - ETA: 0s - loss: 7175.5225 - accuracy: 0.6310 - 0s 10ms/step - loss: 6757.0591 - accuracy: 0.6332 - val_loss: 6343.4570 - val_accuracy: 0.6452\n",
      "Epoch 398/1000\n",
      "23/23 [==============================] - ETA: 0s - loss: 14563.9883 - accuracy: 0.50 - ETA: 0s - loss: 7328.7202 - accuracy: 0.6276 - 1s 22ms/step - loss: 6756.8838 - accuracy: 0.6332 - val_loss: 6343.2949 - val_accuracy: 0.6452\n",
      "Epoch 399/1000\n",
      "23/23 [==============================] - ETA: 0s - loss: 14563.6641 - accuracy: 0.50 - ETA: 0s - loss: 7958.1240 - accuracy: 0.6208 - 0s 14ms/step - loss: 6756.7100 - accuracy: 0.6332 - val_loss: 6343.1348 - val_accuracy: 0.6452\n",
      "Epoch 400/1000\n",
      "23/23 [==============================] - ETA: 0s - loss: 14563.3379 - accuracy: 0.50 - ETA: 0s - loss: 6756.5327 - accuracy: 0.6332 - 0s 8ms/step - loss: 6756.5327 - accuracy: 0.6332 - val_loss: 6342.9731 - val_accuracy: 0.6452\n",
      "Epoch 401/1000\n",
      "23/23 [==============================] - ETA: 0s - loss: 14563.0146 - accuracy: 0.50 - ETA: 0s - loss: 6756.3589 - accuracy: 0.6332 - 0s 9ms/step - loss: 6756.3589 - accuracy: 0.6332 - val_loss: 6342.8115 - val_accuracy: 0.6452\n",
      "Epoch 402/1000\n",
      "23/23 [==============================] - ETA: 0s - loss: 14562.6904 - accuracy: 0.50 - ETA: 0s - loss: 6932.2520 - accuracy: 0.6321 - 0s 17ms/step - loss: 6756.1821 - accuracy: 0.6332 - val_loss: 6342.6504 - val_accuracy: 0.6452\n",
      "Epoch 403/1000\n",
      "23/23 [==============================] - ETA: 0s - loss: 14562.3643 - accuracy: 0.50 - ETA: 0s - loss: 8007.6006 - accuracy: 0.6274 - 0s 13ms/step - loss: 6756.0083 - accuracy: 0.6332 - val_loss: 6342.4878 - val_accuracy: 0.6452\n",
      "Epoch 404/1000\n",
      "23/23 [==============================] - ETA: 0s - loss: 14562.0430 - accuracy: 0.50 - ETA: 0s - loss: 7101.7041 - accuracy: 0.6281 - 0s 8ms/step - loss: 6755.8335 - accuracy: 0.6332 - val_loss: 6342.3271 - val_accuracy: 0.6452\n",
      "Epoch 405/1000\n",
      "23/23 [==============================] - ETA: 0s - loss: 14561.7217 - accuracy: 0.50 - 0s 7ms/step - loss: 6755.6582 - accuracy: 0.6332 - val_loss: 6342.1655 - val_accuracy: 0.6452\n",
      "Epoch 406/1000\n",
      "23/23 [==============================] - ETA: 0s - loss: 14561.3945 - accuracy: 0.50 - ETA: 0s - loss: 7101.3374 - accuracy: 0.6281 - 0s 10ms/step - loss: 6755.4824 - accuracy: 0.6332 - val_loss: 6342.0049 - val_accuracy: 0.6452\n",
      "Epoch 407/1000\n",
      "23/23 [==============================] - ETA: 0s - loss: 14561.0723 - accuracy: 0.50 - ETA: 0s - loss: 7091.8135 - accuracy: 0.6215 - ETA: 0s - loss: 6931.3550 - accuracy: 0.632 - 0s 20ms/step - loss: 6755.3057 - accuracy: 0.6332 - val_loss: 6341.8423 - val_accuracy: 0.6452\n",
      "Epoch 408/1000\n",
      "23/23 [==============================] - ETA: 0s - loss: 14560.7461 - accuracy: 0.50 - ETA: 0s - loss: 7295.1226 - accuracy: 0.6250 - 0s 9ms/step - loss: 6755.1318 - accuracy: 0.6332 - val_loss: 6341.6812 - val_accuracy: 0.6452\n",
      "Epoch 409/1000\n",
      "23/23 [==============================] - ETA: 0s - loss: 14560.4209 - accuracy: 0.50 - ETA: 0s - loss: 7173.2856 - accuracy: 0.6310 - 0s 8ms/step - loss: 6754.9561 - accuracy: 0.6332 - val_loss: 6341.5195 - val_accuracy: 0.6452\n",
      "Epoch 410/1000\n",
      "23/23 [==============================] - ETA: 0s - loss: 14560.0986 - accuracy: 0.50 - ETA: 0s - loss: 7091.2754 - accuracy: 0.6215 - 0s 9ms/step - loss: 6754.7808 - accuracy: 0.6332 - val_loss: 6341.3574 - val_accuracy: 0.6452\n",
      "Epoch 411/1000\n",
      "23/23 [==============================] - ETA: 0s - loss: 14559.7754 - accuracy: 0.50 - ETA: 0s - loss: 6930.6377 - accuracy: 0.6321 - 0s 9ms/step - loss: 6754.6055 - accuracy: 0.6332 - val_loss: 6341.1958 - val_accuracy: 0.6452\n",
      "Epoch 412/1000\n",
      "23/23 [==============================] - ETA: 0s - loss: 14559.4512 - accuracy: 0.50 - ETA: 0s - loss: 7326.0991 - accuracy: 0.6276 - ETA: 0s - loss: 7172.7261 - accuracy: 0.631 - 0s 16ms/step - loss: 6754.4302 - accuracy: 0.6332 - val_loss: 6341.0337 - val_accuracy: 0.6452\n",
      "Epoch 413/1000\n",
      "23/23 [==============================] - ETA: 0s - loss: 14559.1289 - accuracy: 0.50 - ETA: 0s - loss: 7090.7368 - accuracy: 0.6215 - 0s 9ms/step - loss: 6754.2549 - accuracy: 0.6332 - val_loss: 6340.8726 - val_accuracy: 0.6452\n",
      "Epoch 414/1000\n",
      "23/23 [==============================] - ETA: 0s - loss: 14558.8066 - accuracy: 0.50 - ETA: 0s - loss: 7172.3525 - accuracy: 0.6310 - 0s 9ms/step - loss: 6754.0781 - accuracy: 0.6332 - val_loss: 6340.7104 - val_accuracy: 0.6452\n",
      "Epoch 415/1000\n",
      "23/23 [==============================] - ETA: 0s - loss: 14558.4824 - accuracy: 0.50 - ETA: 0s - loss: 7090.3770 - accuracy: 0.6215 - 0s 9ms/step - loss: 6753.9028 - accuracy: 0.6332 - val_loss: 6340.5488 - val_accuracy: 0.6452\n",
      "Epoch 416/1000\n",
      "23/23 [==============================] - ETA: 0s - loss: 14558.1592 - accuracy: 0.50 - ETA: 0s - loss: 7171.9790 - accuracy: 0.6310 - 0s 18ms/step - loss: 6753.7271 - accuracy: 0.6332 - val_loss: 6340.3877 - val_accuracy: 0.6452\n",
      "Epoch 417/1000\n",
      "23/23 [==============================] - ETA: 0s - loss: 14557.8408 - accuracy: 0.50 - ETA: 0s - loss: 7293.4409 - accuracy: 0.6250 - 0s 10ms/step - loss: 6753.5522 - accuracy: 0.6332 - val_loss: 6340.2256 - val_accuracy: 0.6452\n",
      "Epoch 418/1000\n",
      "23/23 [==============================] - ETA: 0s - loss: 14557.5156 - accuracy: 0.50 - ETA: 0s - loss: 7171.6064 - accuracy: 0.6310 - 0s 9ms/step - loss: 6753.3765 - accuracy: 0.6332 - val_loss: 6340.0635 - val_accuracy: 0.6452\n",
      "Epoch 419/1000\n",
      "23/23 [==============================] - ETA: 0s - loss: 14557.1914 - accuracy: 0.50 - 0s 8ms/step - loss: 6753.2002 - accuracy: 0.6332 - val_loss: 6339.9019 - val_accuracy: 0.6452\n",
      "Epoch 420/1000\n",
      "23/23 [==============================] - ETA: 0s - loss: 14556.8711 - accuracy: 0.50 - ETA: 0s - loss: 7171.2319 - accuracy: 0.6310 - 0s 17ms/step - loss: 6753.0239 - accuracy: 0.6332 - val_loss: 6339.7407 - val_accuracy: 0.6452\n",
      "Epoch 421/1000\n",
      "23/23 [==============================] - ETA: 0s - loss: 14556.5488 - accuracy: 0.50 - ETA: 0s - loss: 7608.9370 - accuracy: 0.6250 - 0s 10ms/step - loss: 6752.8477 - accuracy: 0.6332 - val_loss: 6339.5781 - val_accuracy: 0.6452\n",
      "Epoch 422/1000\n",
      "23/23 [==============================] - ETA: 0s - loss: 14556.2285 - accuracy: 0.50 - ETA: 0s - loss: 6928.6597 - accuracy: 0.6321 - 0s 10ms/step - loss: 6752.6724 - accuracy: 0.6332 - val_loss: 6339.4165 - val_accuracy: 0.6452\n",
      "Epoch 423/1000\n",
      "23/23 [==============================] - ETA: 0s - loss: 14555.9053 - accuracy: 0.50 - 0s 7ms/step - loss: 6752.4971 - accuracy: 0.6332 - val_loss: 6339.2539 - val_accuracy: 0.6452\n",
      "Epoch 424/1000\n",
      "23/23 [==============================] - ETA: 0s - loss: 14555.5820 - accuracy: 0.50 - ETA: 0s - loss: 7098.0444 - accuracy: 0.6281 - 0s 10ms/step - loss: 6752.3213 - accuracy: 0.6332 - val_loss: 6339.0918 - val_accuracy: 0.6452\n",
      "Epoch 425/1000\n",
      "23/23 [==============================] - ETA: 0s - loss: 14555.2568 - accuracy: 0.50 - ETA: 0s - loss: 7904.8672 - accuracy: 0.6183 - ETA: 0s - loss: 7088.5796 - accuracy: 0.621 - 0s 19ms/step - loss: 6752.1455 - accuracy: 0.6332 - val_loss: 6338.9307 - val_accuracy: 0.6452\n",
      "Epoch 426/1000\n",
      "23/23 [==============================] - ETA: 0s - loss: 14554.9385 - accuracy: 0.50 - ETA: 0s - loss: 7952.5703 - accuracy: 0.6208 - 0s 11ms/step - loss: 6751.9688 - accuracy: 0.6332 - val_loss: 6338.7690 - val_accuracy: 0.6452\n",
      "Epoch 427/1000\n",
      "23/23 [==============================] - ETA: 0s - loss: 14554.6143 - accuracy: 0.50 - ETA: 0s - loss: 7169.9233 - accuracy: 0.6310 - 0s 8ms/step - loss: 6751.7930 - accuracy: 0.6332 - val_loss: 6338.6060 - val_accuracy: 0.6452\n",
      "Epoch 428/1000\n",
      "23/23 [==============================] - ETA: 0s - loss: 14554.2920 - accuracy: 0.50 - ETA: 0s - loss: 7097.3115 - accuracy: 0.6281 - 0s 10ms/step - loss: 6751.6177 - accuracy: 0.6332 - val_loss: 6338.4453 - val_accuracy: 0.6452\n",
      "Epoch 429/1000\n",
      "23/23 [==============================] - ETA: 0s - loss: 14553.9717 - accuracy: 0.50 - ETA: 0s - loss: 7169.5498 - accuracy: 0.6310 - 0s 17ms/step - loss: 6751.4414 - accuracy: 0.6332 - val_loss: 6338.2842 - val_accuracy: 0.6452\n"
     ]
    },
    {
     "name": "stdout",
     "output_type": "stream",
     "text": [
      "Epoch 430/1000\n",
      "23/23 [==============================] - ETA: 0s - loss: 14553.6484 - accuracy: 0.50 - ETA: 0s - loss: 7291.0103 - accuracy: 0.6250 - 0s 11ms/step - loss: 6751.2661 - accuracy: 0.6332 - val_loss: 6338.1206 - val_accuracy: 0.6452\n",
      "Epoch 431/1000\n",
      "23/23 [==============================] - ETA: 0s - loss: 14553.3242 - accuracy: 0.50 - 0s 7ms/step - loss: 6751.0908 - accuracy: 0.6332 - val_loss: 6337.9600 - val_accuracy: 0.6452\n",
      "Epoch 432/1000\n",
      "23/23 [==============================] - ETA: 0s - loss: 14553.0020 - accuracy: 0.50 - ETA: 0s - loss: 6926.8608 - accuracy: 0.6321 - 0s 9ms/step - loss: 6750.9150 - accuracy: 0.6332 - val_loss: 6337.7974 - val_accuracy: 0.6452\n",
      "Epoch 433/1000\n",
      "23/23 [==============================] - ETA: 0s - loss: 14552.6797 - accuracy: 0.50 - ETA: 0s - loss: 7798.8882 - accuracy: 0.6375 - ETA: 0s - loss: 7290.4482 - accuracy: 0.625 - 1s 24ms/step - loss: 6750.7383 - accuracy: 0.6332 - val_loss: 6337.6348 - val_accuracy: 0.6452\n",
      "Epoch 434/1000\n",
      "23/23 [==============================] - ETA: 0s - loss: 14552.3545 - accuracy: 0.50 - ETA: 0s - loss: 7606.3623 - accuracy: 0.6250 - 0s 13ms/step - loss: 6750.5625 - accuracy: 0.6332 - val_loss: 6337.4736 - val_accuracy: 0.6452\n",
      "Epoch 435/1000\n",
      "23/23 [==============================] - ETA: 0s - loss: 14552.0342 - accuracy: 0.50 - 0s 7ms/step - loss: 6750.3867 - accuracy: 0.6332 - val_loss: 6337.3125 - val_accuracy: 0.6452\n",
      "Epoch 436/1000\n",
      "23/23 [==============================] - ETA: 0s - loss: 14551.7109 - accuracy: 0.50 - ETA: 0s - loss: 7605.9653 - accuracy: 0.6250 - 0s 9ms/step - loss: 6750.2100 - accuracy: 0.6332 - val_loss: 6337.1494 - val_accuracy: 0.6452\n",
      "Epoch 437/1000\n",
      "23/23 [==============================] - ETA: 0s - loss: 14551.3896 - accuracy: 0.50 - 0s 9ms/step - loss: 6750.0352 - accuracy: 0.6332 - val_loss: 6336.9873 - val_accuracy: 0.6452\n",
      "Epoch 438/1000\n",
      "23/23 [==============================] - ETA: 0s - loss: 14551.0674 - accuracy: 0.50 - 0s 14ms/step - loss: 6749.8589 - accuracy: 0.6332 - val_loss: 6336.8252 - val_accuracy: 0.6452\n",
      "Epoch 439/1000\n",
      "23/23 [==============================] - ETA: 0s - loss: 14550.7461 - accuracy: 0.50 - ETA: 0s - loss: 7605.3721 - accuracy: 0.6250 - 0s 12ms/step - loss: 6749.6836 - accuracy: 0.6332 - val_loss: 6336.6631 - val_accuracy: 0.6452\n",
      "Epoch 440/1000\n",
      "23/23 [==============================] - ETA: 0s - loss: 14550.4199 - accuracy: 0.50 - ETA: 0s - loss: 6925.4199 - accuracy: 0.6321 - 0s 8ms/step - loss: 6749.5068 - accuracy: 0.6332 - val_loss: 6336.5010 - val_accuracy: 0.6452\n",
      "Epoch 441/1000\n",
      "23/23 [==============================] - ETA: 0s - loss: 14550.0996 - accuracy: 0.50 - ETA: 0s - loss: 7167.3066 - accuracy: 0.6310 - 0s 10ms/step - loss: 6749.3315 - accuracy: 0.6332 - val_loss: 6336.3403 - val_accuracy: 0.6452\n",
      "Epoch 442/1000\n",
      "23/23 [==============================] - ETA: 0s - loss: 14549.7783 - accuracy: 0.50 - ETA: 0s - loss: 6925.0596 - accuracy: 0.6321 - 0s 8ms/step - loss: 6749.1558 - accuracy: 0.6332 - val_loss: 6336.1772 - val_accuracy: 0.6452\n",
      "Epoch 443/1000\n",
      "23/23 [==============================] - ETA: 0s - loss: 14549.4551 - accuracy: 0.50 - ETA: 0s - loss: 7295.5610 - accuracy: 0.6217 - ETA: 0s - loss: 7094.5640 - accuracy: 0.628 - 0s 20ms/step - loss: 6748.9790 - accuracy: 0.6332 - val_loss: 6336.0151 - val_accuracy: 0.6452\n",
      "Epoch 444/1000\n",
      "23/23 [==============================] - ETA: 0s - loss: 14549.1328 - accuracy: 0.50 - ETA: 0s - loss: 7901.0190 - accuracy: 0.6183 - 0s 11ms/step - loss: 6748.8037 - accuracy: 0.6332 - val_loss: 6335.8535 - val_accuracy: 0.6452\n",
      "Epoch 445/1000\n",
      "23/23 [==============================] - ETA: 0s - loss: 14548.8105 - accuracy: 0.50 - ETA: 0s - loss: 6748.6284 - accuracy: 0.6332 - 0s 8ms/step - loss: 6748.6284 - accuracy: 0.6332 - val_loss: 6335.6929 - val_accuracy: 0.6452\n",
      "Epoch 446/1000\n",
      "23/23 [==============================] - ETA: 0s - loss: 14548.4873 - accuracy: 0.50 - ETA: 0s - loss: 7094.0146 - accuracy: 0.6281 - 0s 9ms/step - loss: 6748.4526 - accuracy: 0.6332 - val_loss: 6335.5298 - val_accuracy: 0.6452\n",
      "Epoch 447/1000\n",
      "23/23 [==============================] - ETA: 0s - loss: 14548.1650 - accuracy: 0.50 - ETA: 0s - loss: 7660.3169 - accuracy: 0.6307 - ETA: 0s - loss: 7093.8311 - accuracy: 0.628 - 0s 17ms/step - loss: 6748.2759 - accuracy: 0.6332 - val_loss: 6335.3691 - val_accuracy: 0.6452\n",
      "Epoch 448/1000\n",
      "23/23 [==============================] - ETA: 0s - loss: 14547.8457 - accuracy: 0.50 - ETA: 0s - loss: 7603.5894 - accuracy: 0.6250 - 0s 10ms/step - loss: 6748.1006 - accuracy: 0.6332 - val_loss: 6335.2070 - val_accuracy: 0.6452\n",
      "Epoch 449/1000\n",
      "23/23 [==============================] - ETA: 0s - loss: 14547.5215 - accuracy: 0.50 - ETA: 0s - loss: 6923.7988 - accuracy: 0.6321 - 0s 9ms/step - loss: 6747.9238 - accuracy: 0.6332 - val_loss: 6335.0444 - val_accuracy: 0.6452\n",
      "Epoch 450/1000\n",
      "23/23 [==============================] - ETA: 0s - loss: 14547.1992 - accuracy: 0.50 - ETA: 0s - loss: 7165.6235 - accuracy: 0.6310 - 0s 9ms/step - loss: 6747.7485 - accuracy: 0.6332 - val_loss: 6334.8818 - val_accuracy: 0.6452\n",
      "Epoch 451/1000\n",
      "23/23 [==============================] - ETA: 0s - loss: 14546.8779 - accuracy: 0.50 - ETA: 0s - loss: 7165.4360 - accuracy: 0.6310 - 0s 20ms/step - loss: 6747.5728 - accuracy: 0.6332 - val_loss: 6334.7197 - val_accuracy: 0.6452\n",
      "Epoch 452/1000\n",
      "23/23 [==============================] - ETA: 0s - loss: 14546.5547 - accuracy: 0.50 - ETA: 0s - loss: 7286.8945 - accuracy: 0.6250 - 0s 9ms/step - loss: 6747.3960 - accuracy: 0.6332 - val_loss: 6334.5581 - val_accuracy: 0.6452\n",
      "Epoch 453/1000\n",
      "23/23 [==============================] - ETA: 0s - loss: 14546.2324 - accuracy: 0.50 - ETA: 0s - loss: 7165.0625 - accuracy: 0.6310 - 0s 9ms/step - loss: 6747.2217 - accuracy: 0.6332 - val_loss: 6334.3965 - val_accuracy: 0.6452\n",
      "Epoch 454/1000\n",
      "23/23 [==============================] - ETA: 0s - loss: 14545.9131 - accuracy: 0.50 - ETA: 0s - loss: 7164.8750 - accuracy: 0.6310 - 0s 9ms/step - loss: 6747.0449 - accuracy: 0.6332 - val_loss: 6334.2354 - val_accuracy: 0.6452\n",
      "Epoch 455/1000\n",
      "23/23 [==============================] - ETA: 0s - loss: 14545.5898 - accuracy: 0.50 - ETA: 0s - loss: 7092.3662 - accuracy: 0.6281 - 0s 10ms/step - loss: 6746.8687 - accuracy: 0.6332 - val_loss: 6334.0728 - val_accuracy: 0.6452\n",
      "Epoch 456/1000\n",
      "23/23 [==============================] - ETA: 0s - loss: 14545.2656 - accuracy: 0.50 - ETA: 0s - loss: 7658.5503 - accuracy: 0.6307 - ETA: 0s - loss: 7946.3916 - accuracy: 0.620 - ETA: 0s - loss: 7286.1455 - accuracy: 0.625 - 0s 21ms/step - loss: 6746.6914 - accuracy: 0.6332 - val_loss: 6333.9106 - val_accuracy: 0.6452\n",
      "Epoch 457/1000\n",
      "23/23 [==============================] - ETA: 0s - loss: 14544.9443 - accuracy: 0.50 - ETA: 0s - loss: 7285.9595 - accuracy: 0.6250 - 0s 10ms/step - loss: 6746.5171 - accuracy: 0.6332 - val_loss: 6333.7490 - val_accuracy: 0.6452\n",
      "Epoch 458/1000\n",
      "23/23 [==============================] - ETA: 0s - loss: 14544.6201 - accuracy: 0.50 - ETA: 0s - loss: 7091.8179 - accuracy: 0.6281 - 0s 9ms/step - loss: 6746.3433 - accuracy: 0.6332 - val_loss: 6333.5869 - val_accuracy: 0.6452\n",
      "Epoch 459/1000\n",
      "23/23 [==============================] - ETA: 0s - loss: 14544.2988 - accuracy: 0.50 - ETA: 0s - loss: 7091.6328 - accuracy: 0.6281 - 0s 10ms/step - loss: 6746.1650 - accuracy: 0.6332 - val_loss: 6333.4248 - val_accuracy: 0.6452\n",
      "Epoch 460/1000\n",
      "23/23 [==============================] - ETA: 0s - loss: 14543.9746 - accuracy: 0.50 - ETA: 0s - loss: 7601.2104 - accuracy: 0.6250 - 0s 19ms/step - loss: 6745.9893 - accuracy: 0.6332 - val_loss: 6333.2627 - val_accuracy: 0.6452\n",
      "Epoch 461/1000\n",
      "23/23 [==============================] - ETA: 0s - loss: 14543.6504 - accuracy: 0.50 - ETA: 0s - loss: 7945.3623 - accuracy: 0.6208 - 0s 10ms/step - loss: 6745.8130 - accuracy: 0.6332 - val_loss: 6333.1006 - val_accuracy: 0.6452\n",
      "Epoch 462/1000\n",
      "23/23 [==============================] - ETA: 0s - loss: 14543.3301 - accuracy: 0.50 - ETA: 0s - loss: 7291.9990 - accuracy: 0.6217 - 0s 9ms/step - loss: 6745.6387 - accuracy: 0.6332 - val_loss: 6332.9385 - val_accuracy: 0.6452\n",
      "Epoch 463/1000\n"
     ]
    },
    {
     "name": "stdout",
     "output_type": "stream",
     "text": [
      "23/23 [==============================] - ETA: 0s - loss: 14543.0068 - accuracy: 0.50 - ETA: 0s - loss: 6745.4614 - accuracy: 0.6332 - 0s 9ms/step - loss: 6745.4614 - accuracy: 0.6332 - val_loss: 6332.7764 - val_accuracy: 0.6452\n",
      "Epoch 464/1000\n",
      "23/23 [==============================] - ETA: 0s - loss: 14542.6875 - accuracy: 0.50 - ETA: 0s - loss: 7163.0054 - accuracy: 0.6310 - 0s 17ms/step - loss: 6745.2861 - accuracy: 0.6332 - val_loss: 6332.6147 - val_accuracy: 0.6452\n",
      "Epoch 465/1000\n",
      "23/23 [==============================] - ETA: 0s - loss: 14542.3652 - accuracy: 0.50 - ETA: 0s - loss: 7600.2197 - accuracy: 0.6250 - 0s 12ms/step - loss: 6745.1089 - accuracy: 0.6332 - val_loss: 6332.4521 - val_accuracy: 0.6452\n",
      "Epoch 466/1000\n",
      "23/23 [==============================] - ETA: 0s - loss: 14542.0410 - accuracy: 0.50 - ETA: 0s - loss: 6744.9346 - accuracy: 0.6332 - 0s 10ms/step - loss: 6744.9346 - accuracy: 0.6332 - val_loss: 6332.2905 - val_accuracy: 0.6452\n",
      "Epoch 467/1000\n",
      "23/23 [==============================] - ETA: 0s - loss: 14541.7217 - accuracy: 0.50 - ETA: 0s - loss: 7944.1270 - accuracy: 0.6208 - 0s 13ms/step - loss: 6744.7573 - accuracy: 0.6332 - val_loss: 6332.1284 - val_accuracy: 0.6452\n",
      "Epoch 468/1000\n",
      "23/23 [==============================] - ETA: 0s - loss: 14541.3994 - accuracy: 0.50 - 0s 15ms/step - loss: 6744.5830 - accuracy: 0.6332 - val_loss: 6331.9663 - val_accuracy: 0.6452\n",
      "Epoch 469/1000\n",
      "23/23 [==============================] - ETA: 0s - loss: 14541.0771 - accuracy: 0.50 - ETA: 0s - loss: 7283.7148 - accuracy: 0.6250 - 0s 10ms/step - loss: 6744.4062 - accuracy: 0.6332 - val_loss: 6331.8042 - val_accuracy: 0.6452\n",
      "Epoch 470/1000\n",
      "23/23 [==============================] - ETA: 0s - loss: 14540.7559 - accuracy: 0.50 - 0s 8ms/step - loss: 6744.2295 - accuracy: 0.6332 - val_loss: 6331.6421 - val_accuracy: 0.6452\n",
      "Epoch 471/1000\n",
      "23/23 [==============================] - ETA: 0s - loss: 14540.4307 - accuracy: 0.50 - ETA: 0s - loss: 7089.4336 - accuracy: 0.6281 - 0s 9ms/step - loss: 6744.0537 - accuracy: 0.6332 - val_loss: 6331.4810 - val_accuracy: 0.6452\n",
      "Epoch 472/1000\n",
      "23/23 [==============================] - ETA: 0s - loss: 14540.1104 - accuracy: 0.50 - 0s 9ms/step - loss: 6743.8779 - accuracy: 0.6332 - val_loss: 6331.3179 - val_accuracy: 0.6452\n",
      "Epoch 473/1000\n",
      "23/23 [==============================] - ETA: 0s - loss: 14539.7891 - accuracy: 0.50 - ETA: 0s - loss: 7161.3213 - accuracy: 0.6310 - 0s 17ms/step - loss: 6743.7026 - accuracy: 0.6332 - val_loss: 6331.1562 - val_accuracy: 0.6452\n",
      "Epoch 474/1000\n",
      "23/23 [==============================] - ETA: 0s - loss: 14539.4648 - accuracy: 0.50 - ETA: 0s - loss: 7598.4370 - accuracy: 0.6250 - 0s 10ms/step - loss: 6743.5259 - accuracy: 0.6332 - val_loss: 6330.9951 - val_accuracy: 0.6452\n",
      "Epoch 475/1000\n",
      "23/23 [==============================] - ETA: 0s - loss: 14539.1436 - accuracy: 0.50 - ETA: 0s - loss: 7088.7017 - accuracy: 0.6281 - 0s 9ms/step - loss: 6743.3511 - accuracy: 0.6332 - val_loss: 6330.8320 - val_accuracy: 0.6452\n",
      "Epoch 476/1000\n",
      "23/23 [==============================] - ETA: 0s - loss: 14538.8223 - accuracy: 0.50 - ETA: 0s - loss: 6743.1733 - accuracy: 0.6332 - 0s 10ms/step - loss: 6743.1733 - accuracy: 0.6332 - val_loss: 6330.6714 - val_accuracy: 0.6452\n",
      "Epoch 477/1000\n",
      "23/23 [==============================] - ETA: 0s - loss: 14538.5000 - accuracy: 0.50 - ETA: 0s - loss: 6742.9995 - accuracy: 0.6332 - 0s 8ms/step - loss: 6742.9995 - accuracy: 0.6332 - val_loss: 6330.5083 - val_accuracy: 0.6452\n",
      "Epoch 478/1000\n",
      "23/23 [==============================] - ETA: 0s - loss: 14538.1777 - accuracy: 0.50 - ETA: 0s - loss: 7079.0469 - accuracy: 0.6215 - ETA: 0s - loss: 7288.9976 - accuracy: 0.621 - ETA: 0s - loss: 7088.1509 - accuracy: 0.628 - 1s 22ms/step - loss: 6742.8213 - accuracy: 0.6332 - val_loss: 6330.3462 - val_accuracy: 0.6452\n",
      "Epoch 479/1000\n",
      "23/23 [==============================] - ETA: 0s - loss: 14537.8574 - accuracy: 0.50 - ETA: 0s - loss: 7160.1978 - accuracy: 0.6310 - 0s 9ms/step - loss: 6742.6455 - accuracy: 0.6332 - val_loss: 6330.1851 - val_accuracy: 0.6452\n",
      "Epoch 480/1000\n",
      "23/23 [==============================] - ETA: 0s - loss: 14537.5361 - accuracy: 0.50 - ETA: 0s - loss: 6742.4692 - accuracy: 0.6332 - 0s 8ms/step - loss: 6742.4692 - accuracy: 0.6332 - val_loss: 6330.0220 - val_accuracy: 0.6452\n",
      "Epoch 481/1000\n",
      "23/23 [==============================] - ETA: 0s - loss: 14537.2129 - accuracy: 0.50 - ETA: 0s - loss: 7159.8242 - accuracy: 0.6310 - 0s 10ms/step - loss: 6742.2939 - accuracy: 0.6332 - val_loss: 6329.8604 - val_accuracy: 0.6452\n",
      "Epoch 482/1000\n",
      "23/23 [==============================] - ETA: 0s - loss: 14536.8906 - accuracy: 0.50 - ETA: 0s - loss: 7788.9111 - accuracy: 0.6375 - ETA: 0s - loss: 7991.1152 - accuracy: 0.627 - 0s 19ms/step - loss: 6742.1187 - accuracy: 0.6332 - val_loss: 6329.6978 - val_accuracy: 0.6452\n",
      "Epoch 483/1000\n",
      "23/23 [==============================] - ETA: 0s - loss: 14536.5703 - accuracy: 0.50 - ETA: 0s - loss: 7288.0591 - accuracy: 0.6217 - 0s 9ms/step - loss: 6741.9414 - accuracy: 0.6332 - val_loss: 6329.5356 - val_accuracy: 0.6452\n",
      "Epoch 484/1000\n",
      "23/23 [==============================] - ETA: 0s - loss: 14536.2471 - accuracy: 0.50 - ETA: 0s - loss: 7077.9668 - accuracy: 0.6215 - 0s 9ms/step - loss: 6741.7656 - accuracy: 0.6332 - val_loss: 6329.3735 - val_accuracy: 0.6452\n",
      "Epoch 485/1000\n",
      "23/23 [==============================] - ETA: 0s - loss: 14535.9248 - accuracy: 0.50 - ETA: 0s - loss: 7159.0742 - accuracy: 0.6310 - 0s 9ms/step - loss: 6741.5884 - accuracy: 0.6332 - val_loss: 6329.2114 - val_accuracy: 0.6452\n",
      "Epoch 486/1000\n",
      "23/23 [==============================] - ETA: 0s - loss: 14535.6016 - accuracy: 0.50 - 0s 16ms/step - loss: 6741.4136 - accuracy: 0.6332 - val_loss: 6329.0493 - val_accuracy: 0.6452\n",
      "Epoch 487/1000\n",
      "23/23 [==============================] - ETA: 0s - loss: 14535.2783 - accuracy: 0.50 - ETA: 0s - loss: 7892.3076 - accuracy: 0.6183 - 0s 12ms/step - loss: 6741.2373 - accuracy: 0.6332 - val_loss: 6328.8882 - val_accuracy: 0.6452\n",
      "Epoch 488/1000\n",
      "23/23 [==============================] - ETA: 0s - loss: 14534.9600 - accuracy: 0.50 - ETA: 0s - loss: 7086.3179 - accuracy: 0.6281 - 0s 9ms/step - loss: 6741.0625 - accuracy: 0.6332 - val_loss: 6328.7261 - val_accuracy: 0.6452\n",
      "Epoch 489/1000\n",
      "23/23 [==============================] - ETA: 0s - loss: 14534.6357 - accuracy: 0.50 - 0s 8ms/step - loss: 6740.8857 - accuracy: 0.6332 - val_loss: 6328.5640 - val_accuracy: 0.6452\n",
      "Epoch 490/1000\n",
      "23/23 [==============================] - ETA: 0s - loss: 14534.3145 - accuracy: 0.50 - ETA: 0s - loss: 7085.9517 - accuracy: 0.6281 - 0s 11ms/step - loss: 6740.7104 - accuracy: 0.6332 - val_loss: 6328.4019 - val_accuracy: 0.6452\n",
      "Epoch 491/1000\n",
      "23/23 [==============================] - ETA: 0s - loss: 14533.9941 - accuracy: 0.50 - ETA: 0s - loss: 7595.0664 - accuracy: 0.6250 - ETA: 0s - loss: 7279.5977 - accuracy: 0.625 - 0s 19ms/step - loss: 6740.5332 - accuracy: 0.6332 - val_loss: 6328.2393 - val_accuracy: 0.6452\n",
      "Epoch 492/1000\n",
      "23/23 [==============================] - ETA: 0s - loss: 14533.6719 - accuracy: 0.50 - ETA: 0s - loss: 7085.5850 - accuracy: 0.6281 - 0s 9ms/step - loss: 6740.3579 - accuracy: 0.6332 - val_loss: 6328.0776 - val_accuracy: 0.6452\n",
      "Epoch 493/1000\n",
      "23/23 [==============================] - ETA: 0s - loss: 14533.3506 - accuracy: 0.50 - ETA: 0s - loss: 7157.5791 - accuracy: 0.6310 - 0s 9ms/step - loss: 6740.1812 - accuracy: 0.6332 - val_loss: 6327.9155 - val_accuracy: 0.6452\n",
      "Epoch 494/1000\n",
      "23/23 [==============================] - ETA: 0s - loss: 14533.0283 - accuracy: 0.50 - ETA: 0s - loss: 6915.6958 - accuracy: 0.6321 - 0s 9ms/step - loss: 6740.0063 - accuracy: 0.6332 - val_loss: 6327.7534 - val_accuracy: 0.6452\n",
      "Epoch 495/1000\n",
      "23/23 [==============================] - ETA: 0s - loss: 14532.7070 - accuracy: 0.50 - ETA: 0s - loss: 6739.8301 - accuracy: 0.6332 - 0s 12ms/step - loss: 6739.8301 - accuracy: 0.6332 - val_loss: 6327.5918 - val_accuracy: 0.6452\n",
      "Epoch 496/1000\n",
      "23/23 [==============================] - ETA: 0s - loss: 14532.3857 - accuracy: 0.50 - ETA: 0s - loss: 7786.0601 - accuracy: 0.6375 - 0s 15ms/step - loss: 6739.6543 - accuracy: 0.6332 - val_loss: 6327.4302 - val_accuracy: 0.6452\n"
     ]
    },
    {
     "name": "stdout",
     "output_type": "stream",
     "text": [
      "Epoch 497/1000\n",
      "23/23 [==============================] - ETA: 0s - loss: 14532.0635 - accuracy: 0.50 - ETA: 0s - loss: 7084.6689 - accuracy: 0.6281 - 0s 10ms/step - loss: 6739.4780 - accuracy: 0.6332 - val_loss: 6327.2681 - val_accuracy: 0.6452\n",
      "Epoch 498/1000\n",
      "23/23 [==============================] - ETA: 0s - loss: 14531.7402 - accuracy: 0.50 - 0s 8ms/step - loss: 6739.3008 - accuracy: 0.6332 - val_loss: 6327.1064 - val_accuracy: 0.6452\n",
      "Epoch 499/1000\n",
      "23/23 [==============================] - ETA: 0s - loss: 14531.4199 - accuracy: 0.50 - ETA: 0s - loss: 7156.4561 - accuracy: 0.6310 - 0s 9ms/step - loss: 6739.1255 - accuracy: 0.6332 - val_loss: 6326.9443 - val_accuracy: 0.6452\n",
      "Epoch 500/1000\n",
      "23/23 [==============================] - ETA: 0s - loss: 14531.0938 - accuracy: 0.50 - ETA: 0s - loss: 9433.9482 - accuracy: 0.6313 - ETA: 0s - loss: 7309.5913 - accuracy: 0.627 - 0s 20ms/step - loss: 6738.9492 - accuracy: 0.6332 - val_loss: 6326.7817 - val_accuracy: 0.6452\n",
      "Epoch 501/1000\n",
      "23/23 [==============================] - ETA: 0s - loss: 14530.7734 - accuracy: 0.50 - ETA: 0s - loss: 7277.7256 - accuracy: 0.6250 - 0s 12ms/step - loss: 6738.7744 - accuracy: 0.6332 - val_loss: 6326.6191 - val_accuracy: 0.6452\n",
      "Epoch 502/1000\n",
      "23/23 [==============================] - ETA: 0s - loss: 14530.4512 - accuracy: 0.50 - ETA: 0s - loss: 7592.8857 - accuracy: 0.6250 - 0s 14ms/step - loss: 6738.5972 - accuracy: 0.6332 - val_loss: 6326.4580 - val_accuracy: 0.6452\n",
      "Epoch 503/1000\n",
      "23/23 [==============================] - ETA: 0s - loss: 14530.1289 - accuracy: 0.50 - 0s 8ms/step - loss: 6738.4224 - accuracy: 0.6332 - val_loss: 6326.2959 - val_accuracy: 0.6452\n",
      "Epoch 504/1000\n",
      "23/23 [==============================] - ETA: 0s - loss: 14529.8076 - accuracy: 0.50 - ETA: 0s - loss: 7308.8413 - accuracy: 0.6276 - 0s 18ms/step - loss: 6738.2461 - accuracy: 0.6332 - val_loss: 6326.1333 - val_accuracy: 0.6452\n",
      "Epoch 505/1000\n",
      "23/23 [==============================] - ETA: 0s - loss: 14529.4873 - accuracy: 0.50 - ETA: 0s - loss: 7083.2017 - accuracy: 0.6281 - 0s 10ms/step - loss: 6738.0698 - accuracy: 0.6332 - val_loss: 6325.9722 - val_accuracy: 0.6452\n",
      "Epoch 506/1000\n",
      "23/23 [==============================] - ETA: 0s - loss: 14529.1641 - accuracy: 0.50 - 0s 7ms/step - loss: 6737.8936 - accuracy: 0.6332 - val_loss: 6325.8101 - val_accuracy: 0.6452\n",
      "Epoch 507/1000\n",
      "23/23 [==============================] - ETA: 0s - loss: 14528.8408 - accuracy: 0.50 - 0s 8ms/step - loss: 6737.7173 - accuracy: 0.6332 - val_loss: 6325.6489 - val_accuracy: 0.6452\n",
      "Epoch 508/1000\n",
      "23/23 [==============================] - ETA: 0s - loss: 14528.5205 - accuracy: 0.50 - ETA: 0s - loss: 6913.1748 - accuracy: 0.6321 - 0s 19ms/step - loss: 6737.5420 - accuracy: 0.6332 - val_loss: 6325.4868 - val_accuracy: 0.6516\n",
      "Epoch 509/1000\n",
      "23/23 [==============================] - ETA: 0s - loss: 14528.1973 - accuracy: 0.50 - ETA: 0s - loss: 7073.4697 - accuracy: 0.6215 - 0s 11ms/step - loss: 6737.3657 - accuracy: 0.6332 - val_loss: 6325.3247 - val_accuracy: 0.6516\n",
      "Epoch 510/1000\n",
      "23/23 [==============================] - ETA: 0s - loss: 14527.8789 - accuracy: 0.50 - 0s 8ms/step - loss: 6737.1895 - accuracy: 0.6332 - val_loss: 6325.1626 - val_accuracy: 0.6516\n",
      "Epoch 511/1000\n",
      "23/23 [==============================] - ETA: 0s - loss: 14527.5547 - accuracy: 0.50 - ETA: 0s - loss: 6737.0142 - accuracy: 0.6332 - 0s 9ms/step - loss: 6737.0142 - accuracy: 0.6332 - val_loss: 6325.0000 - val_accuracy: 0.6516\n",
      "Epoch 512/1000\n",
      "23/23 [==============================] - ETA: 0s - loss: 14527.2324 - accuracy: 0.50 - ETA: 0s - loss: 7282.6191 - accuracy: 0.6217 - 0s 17ms/step - loss: 6736.8384 - accuracy: 0.6332 - val_loss: 6324.8384 - val_accuracy: 0.6516\n",
      "Epoch 513/1000\n",
      "23/23 [==============================] - ETA: 0s - loss: 14526.9111 - accuracy: 0.50 - ETA: 0s - loss: 7934.6489 - accuracy: 0.6208 - 0s 14ms/step - loss: 6736.6616 - accuracy: 0.6332 - val_loss: 6324.6768 - val_accuracy: 0.6516\n",
      "Epoch 514/1000\n",
      "23/23 [==============================] - ETA: 0s - loss: 14526.5898 - accuracy: 0.50 - ETA: 0s - loss: 6736.4863 - accuracy: 0.6332 - 0s 10ms/step - loss: 6736.4863 - accuracy: 0.6332 - val_loss: 6324.5146 - val_accuracy: 0.6516\n",
      "Epoch 515/1000\n",
      "23/23 [==============================] - ETA: 0s - loss: 14526.2666 - accuracy: 0.50 - ETA: 0s - loss: 7081.3687 - accuracy: 0.6281 - 0s 10ms/step - loss: 6736.3096 - accuracy: 0.6332 - val_loss: 6324.3530 - val_accuracy: 0.6516\n",
      "Epoch 516/1000\n",
      "23/23 [==============================] - ETA: 0s - loss: 14525.9434 - accuracy: 0.50 - ETA: 0s - loss: 6911.7324 - accuracy: 0.6321 - 0s 10ms/step - loss: 6736.1333 - accuracy: 0.6332 - val_loss: 6324.1909 - val_accuracy: 0.6516\n",
      "Epoch 517/1000\n",
      "23/23 [==============================] - ETA: 0s - loss: 14525.6270 - accuracy: 0.50 - ETA: 0s - loss: 7281.6826 - accuracy: 0.6217 - ETA: 0s - loss: 7081.0024 - accuracy: 0.628 - 0s 19ms/step - loss: 6735.9580 - accuracy: 0.6332 - val_loss: 6324.0288 - val_accuracy: 0.6516\n",
      "Epoch 518/1000\n",
      "23/23 [==============================] - ETA: 0s - loss: 14525.3018 - accuracy: 0.50 - ETA: 0s - loss: 7281.4941 - accuracy: 0.6217 - 0s 10ms/step - loss: 6735.7817 - accuracy: 0.6332 - val_loss: 6323.8667 - val_accuracy: 0.6516\n",
      "Epoch 519/1000\n",
      "23/23 [==============================] - ETA: 0s - loss: 14524.9805 - accuracy: 0.50 - ETA: 0s - loss: 7933.4136 - accuracy: 0.6208 - 0s 10ms/step - loss: 6735.6064 - accuracy: 0.6332 - val_loss: 6323.7041 - val_accuracy: 0.6516\n",
      "Epoch 520/1000\n",
      "23/23 [==============================] - ETA: 0s - loss: 14524.6572 - accuracy: 0.50 - ETA: 0s - loss: 7152.5269 - accuracy: 0.6310 - 0s 10ms/step - loss: 6735.4302 - accuracy: 0.6332 - val_loss: 6323.5425 - val_accuracy: 0.6516\n",
      "Epoch 521/1000\n",
      "23/23 [==============================] - ETA: 0s - loss: 14524.3350 - accuracy: 0.50 - ETA: 0s - loss: 6910.8340 - accuracy: 0.6321 - 0s 16ms/step - loss: 6735.2549 - accuracy: 0.6332 - val_loss: 6323.3813 - val_accuracy: 0.6516\n",
      "Epoch 522/1000\n",
      "23/23 [==============================] - ETA: 0s - loss: 14524.0117 - accuracy: 0.50 - ETA: 0s - loss: 7588.9209 - accuracy: 0.6250 - 0s 12ms/step - loss: 6735.0776 - accuracy: 0.6332 - val_loss: 6323.2188 - val_accuracy: 0.6516\n",
      "Epoch 523/1000\n",
      "23/23 [==============================] - ETA: 0s - loss: 14523.6924 - accuracy: 0.50 - ETA: 0s - loss: 7280.5566 - accuracy: 0.6217 - 0s 9ms/step - loss: 6734.9014 - accuracy: 0.6332 - val_loss: 6323.0576 - val_accuracy: 0.6516\n",
      "Epoch 524/1000\n",
      "23/23 [==============================] - ETA: 0s - loss: 14523.3701 - accuracy: 0.50 - ETA: 0s - loss: 6910.2920 - accuracy: 0.6321 - 0s 9ms/step - loss: 6734.7256 - accuracy: 0.6332 - val_loss: 6322.8955 - val_accuracy: 0.6516\n",
      "Epoch 525/1000\n",
      "23/23 [==============================] - ETA: 0s - loss: 14523.0469 - accuracy: 0.50 - ETA: 0s - loss: 7079.5361 - accuracy: 0.6281 - 0s 17ms/step - loss: 6734.5503 - accuracy: 0.6332 - val_loss: 6322.7334 - val_accuracy: 0.6516\n",
      "Epoch 526/1000\n",
      "23/23 [==============================] - ETA: 0s - loss: 14522.7256 - accuracy: 0.50 - ETA: 0s - loss: 7981.9287 - accuracy: 0.6274 - ETA: 0s - loss: 6909.9331 - accuracy: 0.632 - 0s 13ms/step - loss: 6734.3750 - accuracy: 0.6332 - val_loss: 6322.5728 - val_accuracy: 0.6516\n",
      "Epoch 527/1000\n",
      "23/23 [==============================] - ETA: 0s - loss: 14522.4062 - accuracy: 0.50 - ETA: 0s - loss: 6909.7529 - accuracy: 0.6321 - 0s 10ms/step - loss: 6734.1982 - accuracy: 0.6332 - val_loss: 6322.4097 - val_accuracy: 0.6516\n",
      "Epoch 528/1000\n",
      "23/23 [==============================] - ETA: 0s - loss: 14522.0850 - accuracy: 0.50 - ETA: 0s - loss: 6909.5723 - accuracy: 0.6321 - 0s 9ms/step - loss: 6734.0225 - accuracy: 0.6332 - val_loss: 6322.2471 - val_accuracy: 0.6516\n",
      "Epoch 529/1000\n",
      "23/23 [==============================] - ETA: 0s - loss: 14521.7588 - accuracy: 0.50 - ETA: 0s - loss: 7150.8428 - accuracy: 0.6310 - 0s 10ms/step - loss: 6733.8457 - accuracy: 0.6332 - val_loss: 6322.0864 - val_accuracy: 0.6516\n",
      "Epoch 530/1000\n",
      "23/23 [==============================] - ETA: 0s - loss: 14521.4404 - accuracy: 0.50 - ETA: 0s - loss: 7150.6562 - accuracy: 0.6310 - 0s 20ms/step - loss: 6733.6699 - accuracy: 0.6332 - val_loss: 6321.9238 - val_accuracy: 0.6516\n"
     ]
    },
    {
     "name": "stdout",
     "output_type": "stream",
     "text": [
      "Epoch 531/1000\n",
      "23/23 [==============================] - ETA: 0s - loss: 14521.1152 - accuracy: 0.50 - ETA: 0s - loss: 7069.5127 - accuracy: 0.6215 - 0s 11ms/step - loss: 6733.4937 - accuracy: 0.6332 - val_loss: 6321.7627 - val_accuracy: 0.6516\n",
      "Epoch 532/1000\n",
      "23/23 [==============================] - ETA: 0s - loss: 14520.7959 - accuracy: 0.50 - 0s 8ms/step - loss: 6733.3188 - accuracy: 0.6332 - val_loss: 6321.6006 - val_accuracy: 0.6516\n",
      "Epoch 533/1000\n",
      "23/23 [==============================] - ETA: 0s - loss: 14520.4746 - accuracy: 0.50 - 0s 8ms/step - loss: 6733.1426 - accuracy: 0.6332 - val_loss: 6321.4380 - val_accuracy: 0.6516\n",
      "Epoch 534/1000\n",
      "23/23 [==============================] - ETA: 0s - loss: 14520.1504 - accuracy: 0.50 - ETA: 0s - loss: 7068.9722 - accuracy: 0.6215 - 0s 11ms/step - loss: 6732.9658 - accuracy: 0.6332 - val_loss: 6321.2769 - val_accuracy: 0.6516\n",
      "Epoch 535/1000\n",
      "23/23 [==============================] - ETA: 0s - loss: 14519.8281 - accuracy: 0.50 - ETA: 0s - loss: 6908.3110 - accuracy: 0.6321 - 1s 23ms/step - loss: 6732.7900 - accuracy: 0.6332 - val_loss: 6321.1143 - val_accuracy: 0.6516\n",
      "Epoch 536/1000\n",
      "23/23 [==============================] - ETA: 0s - loss: 14519.5078 - accuracy: 0.50 - ETA: 0s - loss: 7302.8374 - accuracy: 0.6276 - 0s 12ms/step - loss: 6732.6147 - accuracy: 0.6332 - val_loss: 6320.9526 - val_accuracy: 0.6516\n",
      "Epoch 537/1000\n",
      "23/23 [==============================] - ETA: 0s - loss: 14519.1885 - accuracy: 0.50 - ETA: 0s - loss: 7777.7100 - accuracy: 0.6375 - ETA: 0s - loss: 6907.9512 - accuracy: 0.632 - 0s 15ms/step - loss: 6732.4380 - accuracy: 0.6332 - val_loss: 6320.7905 - val_accuracy: 0.6516\n",
      "Epoch 538/1000\n",
      "23/23 [==============================] - ETA: 0s - loss: 14518.8604 - accuracy: 0.50 - ETA: 0s - loss: 8404.2061 - accuracy: 0.6367 - ETA: 0s - loss: 7149.1606 - accuracy: 0.631 - 1s 23ms/step - loss: 6732.2627 - accuracy: 0.6332 - val_loss: 6320.6289 - val_accuracy: 0.6516\n",
      "Epoch 539/1000\n",
      "23/23 [==============================] - ETA: 0s - loss: 14518.5430 - accuracy: 0.50 - ETA: 0s - loss: 6732.0864 - accuracy: 0.6318 - 0s 9ms/step - loss: 6732.0864 - accuracy: 0.6318 - val_loss: 6320.4678 - val_accuracy: 0.6516\n",
      "Epoch 540/1000\n",
      "23/23 [==============================] - ETA: 0s - loss: 14518.2227 - accuracy: 0.50 - ETA: 0s - loss: 7148.7856 - accuracy: 0.6295 - 0s 10ms/step - loss: 6731.9102 - accuracy: 0.6318 - val_loss: 6320.3047 - val_accuracy: 0.6516\n",
      "Epoch 541/1000\n",
      "23/23 [==============================] - ETA: 0s - loss: 14517.8994 - accuracy: 0.50 - ETA: 0s - loss: 7277.1816 - accuracy: 0.6201 - 0s 17ms/step - loss: 6731.7349 - accuracy: 0.6318 - val_loss: 6320.1426 - val_accuracy: 0.6516\n",
      "Epoch 542/1000\n",
      "23/23 [==============================] - ETA: 0s - loss: 14517.5752 - accuracy: 0.50 - ETA: 0s - loss: 7584.9575 - accuracy: 0.6230 - 0s 13ms/step - loss: 6731.5591 - accuracy: 0.6318 - val_loss: 6319.9810 - val_accuracy: 0.6516\n",
      "Epoch 543/1000\n",
      "23/23 [==============================] - ETA: 0s - loss: 14517.2549 - accuracy: 0.50 - ETA: 0s - loss: 7076.2373 - accuracy: 0.6266 - 0s 9ms/step - loss: 6731.3838 - accuracy: 0.6318 - val_loss: 6319.8198 - val_accuracy: 0.6516\n",
      "Epoch 544/1000\n",
      "23/23 [==============================] - ETA: 0s - loss: 14516.9346 - accuracy: 0.50 - ETA: 0s - loss: 7067.1743 - accuracy: 0.6198 - 0s 10ms/step - loss: 6731.2070 - accuracy: 0.6318 - val_loss: 6319.6582 - val_accuracy: 0.6516\n",
      "Epoch 545/1000\n",
      "23/23 [==============================] - ETA: 0s - loss: 14516.6094 - accuracy: 0.50 - ETA: 0s - loss: 7075.8711 - accuracy: 0.6266 - 0s 10ms/step - loss: 6731.0312 - accuracy: 0.6318 - val_loss: 6319.4966 - val_accuracy: 0.6516\n",
      "Epoch 546/1000\n",
      "23/23 [==============================] - ETA: 0s - loss: 14516.2891 - accuracy: 0.50 - ETA: 0s - loss: 7066.8145 - accuracy: 0.6198 - ETA: 0s - loss: 6906.3301 - accuracy: 0.630 - 0s 19ms/step - loss: 6730.8545 - accuracy: 0.6318 - val_loss: 6319.3345 - val_accuracy: 0.6516\n",
      "Epoch 547/1000\n",
      "23/23 [==============================] - ETA: 0s - loss: 14515.9658 - accuracy: 0.50 - ETA: 0s - loss: 7583.9668 - accuracy: 0.6230 - 0s 11ms/step - loss: 6730.6792 - accuracy: 0.6318 - val_loss: 6319.1724 - val_accuracy: 0.6516\n",
      "Epoch 548/1000\n",
      "23/23 [==============================] - ETA: 0s - loss: 14515.6445 - accuracy: 0.50 - ETA: 0s - loss: 7147.2886 - accuracy: 0.6295 - 0s 9ms/step - loss: 6730.5029 - accuracy: 0.6318 - val_loss: 6319.0112 - val_accuracy: 0.6516\n",
      "Epoch 549/1000\n",
      "23/23 [==============================] - ETA: 0s - loss: 14515.3232 - accuracy: 0.50 - 0s 8ms/step - loss: 6730.3281 - accuracy: 0.6318 - val_loss: 6318.8491 - val_accuracy: 0.6516\n",
      "Epoch 550/1000\n",
      "23/23 [==============================] - ETA: 0s - loss: 14514.9980 - accuracy: 0.50 - ETA: 0s - loss: 7275.4937 - accuracy: 0.6201 - 0s 19ms/step - loss: 6730.1514 - accuracy: 0.6318 - val_loss: 6318.6870 - val_accuracy: 0.6516\n",
      "Epoch 551/1000\n",
      "23/23 [==============================] - ETA: 0s - loss: 14514.6787 - accuracy: 0.50 - ETA: 0s - loss: 7268.3701 - accuracy: 0.6232 - 0s 13ms/step - loss: 6729.9751 - accuracy: 0.6318 - val_loss: 6318.5259 - val_accuracy: 0.6516\n",
      "Epoch 552/1000\n",
      "23/23 [==============================] - ETA: 0s - loss: 14514.3555 - accuracy: 0.50 - ETA: 0s - loss: 7146.5415 - accuracy: 0.6295 - 0s 9ms/step - loss: 6729.7998 - accuracy: 0.6318 - val_loss: 6318.3643 - val_accuracy: 0.6516\n",
      "Epoch 553/1000\n",
      "23/23 [==============================] - ETA: 0s - loss: 14514.0332 - accuracy: 0.50 - ETA: 0s - loss: 6729.6230 - accuracy: 0.6318 - 0s 9ms/step - loss: 6729.6230 - accuracy: 0.6318 - val_loss: 6318.2012 - val_accuracy: 0.6516\n",
      "Epoch 554/1000\n",
      "23/23 [==============================] - ETA: 0s - loss: 14513.7129 - accuracy: 0.50 - ETA: 0s - loss: 7267.8096 - accuracy: 0.6232 - 0s 11ms/step - loss: 6729.4478 - accuracy: 0.6318 - val_loss: 6318.0391 - val_accuracy: 0.6516\n",
      "Epoch 555/1000\n",
      "23/23 [==============================] - ETA: 0s - loss: 14513.3887 - accuracy: 0.50 - ETA: 0s - loss: 7582.3809 - accuracy: 0.6230 - ETA: 0s - loss: 7074.0376 - accuracy: 0.626 - 0s 20ms/step - loss: 6729.2720 - accuracy: 0.6318 - val_loss: 6317.8779 - val_accuracy: 0.6516\n",
      "Epoch 556/1000\n",
      "23/23 [==============================] - ETA: 0s - loss: 14513.0654 - accuracy: 0.50 - ETA: 0s - loss: 7274.3687 - accuracy: 0.6201 - 0s 10ms/step - loss: 6729.0957 - accuracy: 0.6318 - val_loss: 6317.7163 - val_accuracy: 0.6516\n",
      "Epoch 557/1000\n",
      "23/23 [==============================] - ETA: 0s - loss: 14512.7451 - accuracy: 0.50 - ETA: 0s - loss: 6904.3496 - accuracy: 0.6307 - 0s 10ms/step - loss: 6728.9189 - accuracy: 0.6318 - val_loss: 6317.5537 - val_accuracy: 0.6516\n",
      "Epoch 558/1000\n",
      "23/23 [==============================] - ETA: 0s - loss: 14512.4219 - accuracy: 0.50 - ETA: 0s - loss: 7145.4180 - accuracy: 0.6295 - 0s 9ms/step - loss: 6728.7427 - accuracy: 0.6318 - val_loss: 6317.3936 - val_accuracy: 0.6516\n",
      "Epoch 559/1000\n",
      "23/23 [==============================] - ETA: 0s - loss: 14512.1016 - accuracy: 0.50 - ETA: 0s - loss: 7581.5884 - accuracy: 0.6230 - 0s 16ms/step - loss: 6728.5674 - accuracy: 0.6318 - val_loss: 6317.2300 - val_accuracy: 0.6516\n",
      "Epoch 560/1000\n",
      "23/23 [==============================] - ETA: 0s - loss: 14511.7783 - accuracy: 0.50 - ETA: 0s - loss: 7924.9678 - accuracy: 0.6187 - 0s 15ms/step - loss: 6728.3911 - accuracy: 0.6318 - val_loss: 6317.0679 - val_accuracy: 0.6516\n",
      "Epoch 561/1000\n",
      "23/23 [==============================] - ETA: 0s - loss: 14511.4600 - accuracy: 0.50 - 0s 9ms/step - loss: 6728.2158 - accuracy: 0.6318 - val_loss: 6316.9072 - val_accuracy: 0.6516\n",
      "Epoch 562/1000\n",
      "23/23 [==============================] - ETA: 0s - loss: 14511.1348 - accuracy: 0.50 - ETA: 0s - loss: 6728.0405 - accuracy: 0.6318 - 0s 10ms/step - loss: 6728.0405 - accuracy: 0.6318 - val_loss: 6316.7441 - val_accuracy: 0.6516\n",
      "Epoch 563/1000\n",
      "23/23 [==============================] - ETA: 0s - loss: 14510.8135 - accuracy: 0.50 - ETA: 0s - loss: 7072.5718 - accuracy: 0.6266 - 0s 17ms/step - loss: 6727.8643 - accuracy: 0.6318 - val_loss: 6316.5825 - val_accuracy: 0.6516\n",
      "Epoch 564/1000\n",
      "23/23 [==============================] - ETA: 0s - loss: 14510.4912 - accuracy: 0.50 - ETA: 0s - loss: 7924.1450 - accuracy: 0.6187 - 0s 12ms/step - loss: 6727.6880 - accuracy: 0.6318 - val_loss: 6316.4209 - val_accuracy: 0.6516\n"
     ]
    },
    {
     "name": "stdout",
     "output_type": "stream",
     "text": [
      "Epoch 565/1000\n",
      "23/23 [==============================] - ETA: 0s - loss: 14510.1699 - accuracy: 0.50 - ETA: 0s - loss: 7072.2061 - accuracy: 0.6266 - 0s 9ms/step - loss: 6727.5127 - accuracy: 0.6318 - val_loss: 6316.2593 - val_accuracy: 0.6516\n",
      "Epoch 566/1000\n",
      "23/23 [==============================] - ETA: 0s - loss: 14509.8486 - accuracy: 0.50 - 0s 8ms/step - loss: 6727.3369 - accuracy: 0.6318 - val_loss: 6316.0967 - val_accuracy: 0.6516\n",
      "Epoch 567/1000\n",
      "23/23 [==============================] - ETA: 0s - loss: 14509.5244 - accuracy: 0.50 - ETA: 0s - loss: 6727.1597 - accuracy: 0.6318 - 0s 11ms/step - loss: 6727.1597 - accuracy: 0.6318 - val_loss: 6315.9365 - val_accuracy: 0.6516\n",
      "Epoch 568/1000\n",
      "23/23 [==============================] - ETA: 0s - loss: 14509.2051 - accuracy: 0.50 - ETA: 0s - loss: 6726.9844 - accuracy: 0.6318 - 0s 19ms/step - loss: 6726.9844 - accuracy: 0.6318 - val_loss: 6315.7729 - val_accuracy: 0.6516\n",
      "Epoch 569/1000\n",
      "23/23 [==============================] - ETA: 0s - loss: 14508.8818 - accuracy: 0.50 - ETA: 0s - loss: 7062.6782 - accuracy: 0.6198 - 0s 10ms/step - loss: 6726.8091 - accuracy: 0.6318 - val_loss: 6315.6128 - val_accuracy: 0.6516\n",
      "Epoch 570/1000\n",
      "23/23 [==============================] - ETA: 0s - loss: 14508.5566 - accuracy: 0.50 - 0s 8ms/step - loss: 6726.6323 - accuracy: 0.6318 - val_loss: 6315.4502 - val_accuracy: 0.6516\n",
      "Epoch 571/1000\n",
      "23/23 [==============================] - ETA: 0s - loss: 14508.2363 - accuracy: 0.50 - ETA: 0s - loss: 6726.4565 - accuracy: 0.6318 - 0s 9ms/step - loss: 6726.4565 - accuracy: 0.6318 - val_loss: 6315.2886 - val_accuracy: 0.6516\n",
      "Epoch 572/1000\n",
      "23/23 [==============================] - ETA: 0s - loss: 14507.9121 - accuracy: 0.50 - ETA: 0s - loss: 6726.2808 - accuracy: 0.6318 - 0s 17ms/step - loss: 6726.2808 - accuracy: 0.6318 - val_loss: 6315.1274 - val_accuracy: 0.6516\n",
      "Epoch 573/1000\n",
      "23/23 [==============================] - ETA: 0s - loss: 14507.5908 - accuracy: 0.50 - ETA: 0s - loss: 7578.8140 - accuracy: 0.6230 - 0s 12ms/step - loss: 6726.1045 - accuracy: 0.6318 - val_loss: 6314.9653 - val_accuracy: 0.6516\n",
      "Epoch 574/1000\n",
      "23/23 [==============================] - ETA: 0s - loss: 14507.2725 - accuracy: 0.50 - ETA: 0s - loss: 6901.2891 - accuracy: 0.6307 - 0s 9ms/step - loss: 6725.9287 - accuracy: 0.6318 - val_loss: 6314.8037 - val_accuracy: 0.6516\n",
      "Epoch 575/1000\n",
      "23/23 [==============================] - ETA: 0s - loss: 14506.9502 - accuracy: 0.50 - ETA: 0s - loss: 6725.7529 - accuracy: 0.6318 - 0s 10ms/step - loss: 6725.7529 - accuracy: 0.6318 - val_loss: 6314.6426 - val_accuracy: 0.6516\n",
      "Epoch 576/1000\n",
      "23/23 [==============================] - ETA: 0s - loss: 14506.6279 - accuracy: 0.50 - ETA: 0s - loss: 7263.6934 - accuracy: 0.6232 - 0s 10ms/step - loss: 6725.5767 - accuracy: 0.6318 - val_loss: 6314.4790 - val_accuracy: 0.6516\n",
      "Epoch 577/1000\n",
      "23/23 [==============================] - ETA: 0s - loss: 14506.3057 - accuracy: 0.50 - ETA: 0s - loss: 7263.5063 - accuracy: 0.6232 - 0s 17ms/step - loss: 6725.4009 - accuracy: 0.6318 - val_loss: 6314.3174 - val_accuracy: 0.6516\n",
      "Epoch 578/1000\n",
      "23/23 [==============================] - ETA: 0s - loss: 14505.9834 - accuracy: 0.50 - ETA: 0s - loss: 7577.8237 - accuracy: 0.6230 - 0s 13ms/step - loss: 6725.2256 - accuracy: 0.6318 - val_loss: 6314.1558 - val_accuracy: 0.6516\n",
      "Epoch 579/1000\n",
      "23/23 [==============================] - ETA: 0s - loss: 14505.6621 - accuracy: 0.50 - ETA: 0s - loss: 7270.0566 - accuracy: 0.6201 - 0s 10ms/step - loss: 6725.0503 - accuracy: 0.6318 - val_loss: 6313.9937 - val_accuracy: 0.6516\n",
      "Epoch 580/1000\n",
      "23/23 [==============================] - ETA: 0s - loss: 14505.3418 - accuracy: 0.50 - ETA: 0s - loss: 6724.8735 - accuracy: 0.6318 - 0s 10ms/step - loss: 6724.8735 - accuracy: 0.6318 - val_loss: 6313.8306 - val_accuracy: 0.6516\n",
      "Epoch 581/1000\n",
      "23/23 [==============================] - ETA: 0s - loss: 14505.0215 - accuracy: 0.50 - 0s 18ms/step - loss: 6724.6968 - accuracy: 0.6318 - val_loss: 6313.6699 - val_accuracy: 0.6516\n",
      "Epoch 582/1000\n",
      "23/23 [==============================] - ETA: 0s - loss: 14504.6943 - accuracy: 0.50 - ETA: 0s - loss: 7262.5713 - accuracy: 0.6232 - 0s 10ms/step - loss: 6724.5210 - accuracy: 0.6318 - val_loss: 6313.5093 - val_accuracy: 0.6516\n",
      "Epoch 583/1000\n",
      "23/23 [==============================] - ETA: 0s - loss: 14504.3750 - accuracy: 0.50 - ETA: 0s - loss: 6724.3457 - accuracy: 0.6318 - 0s 10ms/step - loss: 6724.3457 - accuracy: 0.6318 - val_loss: 6313.3467 - val_accuracy: 0.6516\n",
      "Epoch 584/1000\n",
      "23/23 [==============================] - ETA: 0s - loss: 14504.0527 - accuracy: 0.50 - ETA: 0s - loss: 7269.1187 - accuracy: 0.6201 - 0s 16ms/step - loss: 6724.1689 - accuracy: 0.6318 - val_loss: 6313.1846 - val_accuracy: 0.6516\n",
      "Epoch 585/1000\n",
      "23/23 [==============================] - ETA: 0s - loss: 14503.7324 - accuracy: 0.50 - ETA: 0s - loss: 8057.3125 - accuracy: 0.6389 - ETA: 0s - loss: 7068.5405 - accuracy: 0.626 - 0s 20ms/step - loss: 6723.9932 - accuracy: 0.6318 - val_loss: 6313.0229 - val_accuracy: 0.6516\n",
      "Epoch 586/1000\n",
      "23/23 [==============================] - ETA: 0s - loss: 14503.4072 - accuracy: 0.50 - ETA: 0s - loss: 7268.7441 - accuracy: 0.6201 - 0s 11ms/step - loss: 6723.8188 - accuracy: 0.6318 - val_loss: 6312.8613 - val_accuracy: 0.6516\n",
      "Epoch 587/1000\n",
      "23/23 [==============================] - ETA: 0s - loss: 14503.0879 - accuracy: 0.50 - ETA: 0s - loss: 6898.9487 - accuracy: 0.6307 - 0s 9ms/step - loss: 6723.6421 - accuracy: 0.6318 - val_loss: 6312.7002 - val_accuracy: 0.6516\n",
      "Epoch 588/1000\n",
      "23/23 [==============================] - ETA: 0s - loss: 14502.7637 - accuracy: 0.50 - ETA: 0s - loss: 7067.9912 - accuracy: 0.6266 - 0s 17ms/step - loss: 6723.4653 - accuracy: 0.6318 - val_loss: 6312.5381 - val_accuracy: 0.6516\n",
      "Epoch 589/1000\n",
      "23/23 [==============================] - ETA: 0s - loss: 14502.4424 - accuracy: 0.50 - ETA: 0s - loss: 7871.6509 - accuracy: 0.6161 - 0s 13ms/step - loss: 6723.2900 - accuracy: 0.6318 - val_loss: 6312.3760 - val_accuracy: 0.6516\n",
      "Epoch 590/1000\n",
      "23/23 [==============================] - ETA: 0s - loss: 14502.1201 - accuracy: 0.50 - ETA: 0s - loss: 7067.6265 - accuracy: 0.6266 - 0s 10ms/step - loss: 6723.1157 - accuracy: 0.6318 - val_loss: 6312.2144 - val_accuracy: 0.6516\n",
      "Epoch 591/1000\n",
      "23/23 [==============================] - ETA: 0s - loss: 14501.7969 - accuracy: 0.50 - ETA: 0s - loss: 6898.2285 - accuracy: 0.6307 - 0s 10ms/step - loss: 6722.9380 - accuracy: 0.6318 - val_loss: 6312.0532 - val_accuracy: 0.6516\n",
      "Epoch 592/1000\n",
      "23/23 [==============================] - ETA: 0s - loss: 14501.4795 - accuracy: 0.50 - ETA: 0s - loss: 6898.0488 - accuracy: 0.6307 - 0s 15ms/step - loss: 6722.7622 - accuracy: 0.6318 - val_loss: 6311.8906 - val_accuracy: 0.6516\n",
      "Epoch 593/1000\n",
      "23/23 [==============================] - ETA: 0s - loss: 14501.1553 - accuracy: 0.50 - ETA: 0s - loss: 7574.8516 - accuracy: 0.6230 - 0s 15ms/step - loss: 6722.5864 - accuracy: 0.6318 - val_loss: 6311.7295 - val_accuracy: 0.6516\n",
      "Epoch 594/1000\n",
      "23/23 [==============================] - ETA: 0s - loss: 14500.8320 - accuracy: 0.50 - ETA: 0s - loss: 7267.2437 - accuracy: 0.6201 - 0s 10ms/step - loss: 6722.4102 - accuracy: 0.6318 - val_loss: 6311.5669 - val_accuracy: 0.6516\n",
      "Epoch 595/1000\n",
      "23/23 [==============================] - ETA: 0s - loss: 14500.5088 - accuracy: 0.50 - ETA: 0s - loss: 6897.5078 - accuracy: 0.6307 - 0s 10ms/step - loss: 6722.2339 - accuracy: 0.6318 - val_loss: 6311.4043 - val_accuracy: 0.6516\n",
      "Epoch 596/1000\n",
      "23/23 [==============================] - ETA: 0s - loss: 14500.1904 - accuracy: 0.50 - ETA: 0s - loss: 6897.3276 - accuracy: 0.6307 - 0s 10ms/step - loss: 6722.0576 - accuracy: 0.6318 - val_loss: 6311.2427 - val_accuracy: 0.6516\n",
      "Epoch 597/1000\n",
      "23/23 [==============================] - ETA: 0s - loss: 14499.8643 - accuracy: 0.50 - ETA: 0s - loss: 7057.6431 - accuracy: 0.6198 - 0s 19ms/step - loss: 6721.8823 - accuracy: 0.6318 - val_loss: 6311.0806 - val_accuracy: 0.6516\n",
      "Epoch 598/1000\n",
      "23/23 [==============================] - ETA: 0s - loss: 14499.5430 - accuracy: 0.50 - ETA: 0s - loss: 7057.4639 - accuracy: 0.6198 - 0s 10ms/step - loss: 6721.7080 - accuracy: 0.6318 - val_loss: 6310.9199 - val_accuracy: 0.6516\n"
     ]
    },
    {
     "name": "stdout",
     "output_type": "stream",
     "text": [
      "Epoch 599/1000\n",
      "23/23 [==============================] - ETA: 0s - loss: 14499.2207 - accuracy: 0.50 - ETA: 0s - loss: 7065.9756 - accuracy: 0.6266 - 0s 9ms/step - loss: 6721.5308 - accuracy: 0.6318 - val_loss: 6310.7578 - val_accuracy: 0.6516\n",
      "Epoch 600/1000\n",
      "23/23 [==============================] - ETA: 0s - loss: 14498.9014 - accuracy: 0.50 - 0s 8ms/step - loss: 6721.3555 - accuracy: 0.6318 - val_loss: 6310.5962 - val_accuracy: 0.6516\n",
      "Epoch 601/1000\n",
      "23/23 [==============================] - ETA: 0s - loss: 14498.5752 - accuracy: 0.50 - ETA: 0s - loss: 6721.1792 - accuracy: 0.6318 - 0s 11ms/step - loss: 6721.1792 - accuracy: 0.6318 - val_loss: 6310.4346 - val_accuracy: 0.6516\n",
      "Epoch 602/1000\n",
      "23/23 [==============================] - ETA: 0s - loss: 14498.2559 - accuracy: 0.50 - ETA: 0s - loss: 7869.0181 - accuracy: 0.6161 - 0s 17ms/step - loss: 6721.0029 - accuracy: 0.6318 - val_loss: 6310.2725 - val_accuracy: 0.6516\n",
      "Epoch 603/1000\n",
      "23/23 [==============================] - ETA: 0s - loss: 14497.9346 - accuracy: 0.50 - ETA: 0s - loss: 7137.0029 - accuracy: 0.6295 - 0s 10ms/step - loss: 6720.8267 - accuracy: 0.6318 - val_loss: 6310.1118 - val_accuracy: 0.6516\n",
      "Epoch 604/1000\n",
      "23/23 [==============================] - ETA: 0s - loss: 14497.6104 - accuracy: 0.50 - ETA: 0s - loss: 6895.8892 - accuracy: 0.6307 - 0s 9ms/step - loss: 6720.6523 - accuracy: 0.6318 - val_loss: 6309.9487 - val_accuracy: 0.6516\n",
      "Epoch 605/1000\n",
      "23/23 [==============================] - ETA: 0s - loss: 14497.2910 - accuracy: 0.50 - ETA: 0s - loss: 7064.8774 - accuracy: 0.6266 - 0s 10ms/step - loss: 6720.4756 - accuracy: 0.6318 - val_loss: 6309.7871 - val_accuracy: 0.6516\n",
      "Epoch 606/1000\n",
      "23/23 [==============================] - ETA: 0s - loss: 14496.9678 - accuracy: 0.50 - ETA: 0s - loss: 6720.2998 - accuracy: 0.6318 - 0s 18ms/step - loss: 6720.2998 - accuracy: 0.6318 - val_loss: 6309.6260 - val_accuracy: 0.6516\n",
      "Epoch 607/1000\n",
      "23/23 [==============================] - ETA: 0s - loss: 14496.6455 - accuracy: 0.50 - ETA: 0s - loss: 7257.8955 - accuracy: 0.6232 - 0s 13ms/step - loss: 6720.1235 - accuracy: 0.6318 - val_loss: 6309.4629 - val_accuracy: 0.6516\n",
      "Epoch 608/1000\n",
      "23/23 [==============================] - ETA: 0s - loss: 14496.3242 - accuracy: 0.50 - 0s 9ms/step - loss: 6719.9482 - accuracy: 0.6318 - val_loss: 6309.3018 - val_accuracy: 0.6516\n",
      "Epoch 609/1000\n",
      "23/23 [==============================] - ETA: 0s - loss: 14496.0010 - accuracy: 0.50 - 0s 11ms/step - loss: 6719.7729 - accuracy: 0.6318 - val_loss: 6309.1401 - val_accuracy: 0.6516\n",
      "Epoch 610/1000\n",
      "23/23 [==============================] - ETA: 0s - loss: 14495.6777 - accuracy: 0.50 - ETA: 0s - loss: 7571.4844 - accuracy: 0.6230 - ETA: 0s - loss: 6894.8081 - accuracy: 0.630 - 0s 22ms/step - loss: 6719.5957 - accuracy: 0.6318 - val_loss: 6308.9790 - val_accuracy: 0.6516\n",
      "Epoch 611/1000\n",
      "23/23 [==============================] - ETA: 0s - loss: 14495.3584 - accuracy: 0.50 - ETA: 0s - loss: 7257.1475 - accuracy: 0.6232 - 0s 13ms/step - loss: 6719.4199 - accuracy: 0.6318 - val_loss: 6308.8169 - val_accuracy: 0.6516\n",
      "Epoch 612/1000\n",
      "23/23 [==============================] - ETA: 0s - loss: 14495.0352 - accuracy: 0.50 - ETA: 0s - loss: 6894.4487 - accuracy: 0.6307 - 0s 9ms/step - loss: 6719.2446 - accuracy: 0.6318 - val_loss: 6308.6538 - val_accuracy: 0.6516\n",
      "Epoch 613/1000\n",
      "23/23 [==============================] - ETA: 0s - loss: 14494.7100 - accuracy: 0.50 - ETA: 0s - loss: 7570.8896 - accuracy: 0.6230 - 0s 10ms/step - loss: 6719.0679 - accuracy: 0.6318 - val_loss: 6308.4917 - val_accuracy: 0.6516\n",
      "Epoch 614/1000\n",
      "23/23 [==============================] - ETA: 0s - loss: 14494.3906 - accuracy: 0.50 - ETA: 0s - loss: 7570.6919 - accuracy: 0.6230 - ETA: 0s - loss: 7256.5864 - accuracy: 0.623 - 0s 20ms/step - loss: 6718.8921 - accuracy: 0.6318 - val_loss: 6308.3301 - val_accuracy: 0.6516\n",
      "Epoch 615/1000\n",
      "23/23 [==============================] - ETA: 0s - loss: 14494.0713 - accuracy: 0.50 - ETA: 0s - loss: 7054.4082 - accuracy: 0.6198 - 0s 12ms/step - loss: 6718.7183 - accuracy: 0.6318 - val_loss: 6308.1689 - val_accuracy: 0.6516\n",
      "Epoch 616/1000\n",
      "23/23 [==============================] - ETA: 0s - loss: 14493.7461 - accuracy: 0.50 - ETA: 0s - loss: 7963.1455 - accuracy: 0.6250 - 0s 14ms/step - loss: 6718.5415 - accuracy: 0.6318 - val_loss: 6308.0073 - val_accuracy: 0.6516\n",
      "Epoch 617/1000\n",
      "23/23 [==============================] - ETA: 0s - loss: 14493.4258 - accuracy: 0.50 - ETA: 0s - loss: 7054.0474 - accuracy: 0.6198 - 0s 18ms/step - loss: 6718.3657 - accuracy: 0.6318 - val_loss: 6307.8457 - val_accuracy: 0.6516\n",
      "Epoch 618/1000\n",
      "23/23 [==============================] - ETA: 0s - loss: 14493.1045 - accuracy: 0.50 - ETA: 0s - loss: 7913.0254 - accuracy: 0.6187 - 0s 12ms/step - loss: 6718.1890 - accuracy: 0.6318 - val_loss: 6307.6846 - val_accuracy: 0.6516\n",
      "Epoch 619/1000\n",
      "23/23 [==============================] - ETA: 0s - loss: 14492.7793 - accuracy: 0.50 - ETA: 0s - loss: 6893.1880 - accuracy: 0.6307 - 0s 9ms/step - loss: 6718.0127 - accuracy: 0.6318 - val_loss: 6307.5225 - val_accuracy: 0.6516\n",
      "Epoch 620/1000\n",
      "23/23 [==============================] - ETA: 0s - loss: 14492.4609 - accuracy: 0.50 - ETA: 0s - loss: 6717.8384 - accuracy: 0.6318 - 0s 9ms/step - loss: 6717.8384 - accuracy: 0.6318 - val_loss: 6307.3604 - val_accuracy: 0.6516\n",
      "Epoch 621/1000\n",
      "23/23 [==============================] - ETA: 0s - loss: 14492.1367 - accuracy: 0.50 - ETA: 0s - loss: 7262.1826 - accuracy: 0.6201 - 0s 11ms/step - loss: 6717.6616 - accuracy: 0.6318 - val_loss: 6307.1978 - val_accuracy: 0.6516\n",
      "Epoch 622/1000\n",
      "23/23 [==============================] - ETA: 0s - loss: 14491.8145 - accuracy: 0.50 - ETA: 0s - loss: 7569.1074 - accuracy: 0.6230 - ETA: 0s - loss: 7053.1479 - accuracy: 0.619 - 0s 21ms/step - loss: 6717.4863 - accuracy: 0.6318 - val_loss: 6307.0366 - val_accuracy: 0.6516\n",
      "Epoch 623/1000\n",
      "23/23 [==============================] - ETA: 0s - loss: 14491.4902 - accuracy: 0.50 - ETA: 0s - loss: 7261.8091 - accuracy: 0.6201 - 0s 11ms/step - loss: 6717.3110 - accuracy: 0.6318 - val_loss: 6306.8750 - val_accuracy: 0.6516\n",
      "Epoch 624/1000\n",
      "23/23 [==============================] - ETA: 0s - loss: 14491.1699 - accuracy: 0.50 - ETA: 0s - loss: 7061.3970 - accuracy: 0.6266 - 0s 10ms/step - loss: 6717.1343 - accuracy: 0.6318 - val_loss: 6306.7129 - val_accuracy: 0.6516\n",
      "Epoch 625/1000\n",
      "23/23 [==============================] - ETA: 0s - loss: 14490.8477 - accuracy: 0.50 - ETA: 0s - loss: 6892.1074 - accuracy: 0.6321 - 0s 11ms/step - loss: 6716.9565 - accuracy: 0.6332 - val_loss: 6306.5513 - val_accuracy: 0.6516\n",
      "Epoch 626/1000\n",
      "23/23 [==============================] - ETA: 0s - loss: 14490.5225 - accuracy: 0.50 - ETA: 0s - loss: 7061.0303 - accuracy: 0.6281 - 0s 19ms/step - loss: 6716.7827 - accuracy: 0.6332 - val_loss: 6306.3901 - val_accuracy: 0.6516\n",
      "Epoch 627/1000\n",
      "23/23 [==============================] - ETA: 0s - loss: 14490.2041 - accuracy: 0.50 - ETA: 0s - loss: 7254.1567 - accuracy: 0.6250 - 0s 10ms/step - loss: 6716.6064 - accuracy: 0.6332 - val_loss: 6306.2280 - val_accuracy: 0.6516\n",
      "Epoch 628/1000\n",
      "23/23 [==============================] - ETA: 0s - loss: 14489.8799 - accuracy: 0.50 - ETA: 0s - loss: 7253.9697 - accuracy: 0.6250 - 0s 10ms/step - loss: 6716.4307 - accuracy: 0.6332 - val_loss: 6306.0669 - val_accuracy: 0.6516\n",
      "Epoch 629/1000\n",
      "23/23 [==============================] - ETA: 0s - loss: 14489.5596 - accuracy: 0.50 - ETA: 0s - loss: 7051.8892 - accuracy: 0.6215 - 0s 11ms/step - loss: 6716.2539 - accuracy: 0.6332 - val_loss: 6305.9038 - val_accuracy: 0.6516\n",
      "Epoch 630/1000\n",
      "23/23 [==============================] - ETA: 0s - loss: 14489.2383 - accuracy: 0.50 - ETA: 0s - loss: 7051.7109 - accuracy: 0.6215 - 0s 18ms/step - loss: 6716.0796 - accuracy: 0.6332 - val_loss: 6305.7427 - val_accuracy: 0.6516\n",
      "Epoch 631/1000\n",
      "23/23 [==============================] - ETA: 0s - loss: 14488.9150 - accuracy: 0.50 - ETA: 0s - loss: 7910.3501 - accuracy: 0.6208 - 0s 12ms/step - loss: 6715.9043 - accuracy: 0.6332 - val_loss: 6305.5801 - val_accuracy: 0.6516\n",
      "Epoch 632/1000\n",
      "23/23 [==============================] - ETA: 0s - loss: 14488.5889 - accuracy: 0.50 - ETA: 0s - loss: 6715.7275 - accuracy: 0.6332 - 0s 10ms/step - loss: 6715.7275 - accuracy: 0.6332 - val_loss: 6305.4189 - val_accuracy: 0.6516\n"
     ]
    },
    {
     "name": "stdout",
     "output_type": "stream",
     "text": [
      "Epoch 633/1000\n",
      "23/23 [==============================] - ETA: 0s - loss: 14488.2715 - accuracy: 0.50 - ETA: 0s - loss: 7131.3945 - accuracy: 0.6310 - 0s 10ms/step - loss: 6715.5518 - accuracy: 0.6332 - val_loss: 6305.2568 - val_accuracy: 0.6516\n",
      "Epoch 634/1000\n",
      "23/23 [==============================] - ETA: 0s - loss: 14487.9473 - accuracy: 0.50 - 0s 10ms/step - loss: 6715.3755 - accuracy: 0.6332 - val_loss: 6305.0947 - val_accuracy: 0.6516\n",
      "Epoch 635/1000\n",
      "23/23 [==============================] - ETA: 0s - loss: 14487.6240 - accuracy: 0.50 - ETA: 0s - loss: 7284.2749 - accuracy: 0.6276 - ETA: 0s - loss: 7909.5264 - accuracy: 0.620 - 0s 22ms/step - loss: 6715.2002 - accuracy: 0.6332 - val_loss: 6304.9341 - val_accuracy: 0.6516\n",
      "Epoch 636/1000\n",
      "23/23 [==============================] - ETA: 0s - loss: 14487.3047 - accuracy: 0.50 - ETA: 0s - loss: 7252.4746 - accuracy: 0.6250 - 0s 10ms/step - loss: 6715.0249 - accuracy: 0.6332 - val_loss: 6304.7725 - val_accuracy: 0.6516\n",
      "Epoch 637/1000\n",
      "23/23 [==============================] - ETA: 0s - loss: 14486.9805 - accuracy: 0.50 - 0s 9ms/step - loss: 6714.8491 - accuracy: 0.6332 - val_loss: 6304.6089 - val_accuracy: 0.6516\n",
      "Epoch 638/1000\n",
      "23/23 [==============================] - ETA: 0s - loss: 14486.6582 - accuracy: 0.50 - ETA: 0s - loss: 7050.2725 - accuracy: 0.6215 - 0s 10ms/step - loss: 6714.6724 - accuracy: 0.6332 - val_loss: 6304.4468 - val_accuracy: 0.6516\n",
      "Epoch 639/1000\n",
      "23/23 [==============================] - ETA: 0s - loss: 14486.3379 - accuracy: 0.50 - ETA: 0s - loss: 6714.4980 - accuracy: 0.6332 - 0s 20ms/step - loss: 6714.4980 - accuracy: 0.6332 - val_loss: 6304.2861 - val_accuracy: 0.6516\n",
      "Epoch 640/1000\n",
      "23/23 [==============================] - ETA: 0s - loss: 14486.0146 - accuracy: 0.50 - ETA: 0s - loss: 7258.6226 - accuracy: 0.6217 - 0s 11ms/step - loss: 6714.3208 - accuracy: 0.6332 - val_loss: 6304.1255 - val_accuracy: 0.6516\n",
      "Epoch 641/1000\n",
      "23/23 [==============================] - ETA: 0s - loss: 14485.6914 - accuracy: 0.50 - ETA: 0s - loss: 6714.1455 - accuracy: 0.6332 - 0s 9ms/step - loss: 6714.1455 - accuracy: 0.6332 - val_loss: 6303.9629 - val_accuracy: 0.6516\n",
      "Epoch 642/1000\n",
      "23/23 [==============================] - ETA: 0s - loss: 14485.3701 - accuracy: 0.50 - ETA: 0s - loss: 7058.1006 - accuracy: 0.6281 - 0s 11ms/step - loss: 6713.9692 - accuracy: 0.6332 - val_loss: 6303.8022 - val_accuracy: 0.6516\n",
      "Epoch 643/1000\n",
      "23/23 [==============================] - ETA: 0s - loss: 14485.0449 - accuracy: 0.50 - ETA: 0s - loss: 7251.1655 - accuracy: 0.6250 - ETA: 0s - loss: 7049.3740 - accuracy: 0.621 - 1s 22ms/step - loss: 6713.7935 - accuracy: 0.6332 - val_loss: 6303.6401 - val_accuracy: 0.6516\n",
      "Epoch 644/1000\n",
      "23/23 [==============================] - ETA: 0s - loss: 14484.7236 - accuracy: 0.50 - ETA: 0s - loss: 7057.7358 - accuracy: 0.6281 - 0s 10ms/step - loss: 6713.6196 - accuracy: 0.6332 - val_loss: 6303.4780 - val_accuracy: 0.6516\n",
      "Epoch 645/1000\n",
      "23/23 [==============================] - ETA: 0s - loss: 14484.4043 - accuracy: 0.50 - ETA: 0s - loss: 7129.1523 - accuracy: 0.6310 - 0s 10ms/step - loss: 6713.4429 - accuracy: 0.6332 - val_loss: 6303.3159 - val_accuracy: 0.6516\n",
      "Epoch 646/1000\n",
      "23/23 [==============================] - ETA: 0s - loss: 14484.0791 - accuracy: 0.50 - ETA: 0s - loss: 6888.3301 - accuracy: 0.6321 - 0s 12ms/step - loss: 6713.2661 - accuracy: 0.6332 - val_loss: 6303.1538 - val_accuracy: 0.6516\n",
      "Epoch 647/1000\n",
      "23/23 [==============================] - ETA: 0s - loss: 14483.7598 - accuracy: 0.50 - ETA: 0s - loss: 6713.0898 - accuracy: 0.6332 - 0s 19ms/step - loss: 6713.0898 - accuracy: 0.6332 - val_loss: 6302.9917 - val_accuracy: 0.6516\n",
      "Epoch 648/1000\n",
      "23/23 [==============================] - ETA: 0s - loss: 14483.4375 - accuracy: 0.50 - ETA: 0s - loss: 7250.2305 - accuracy: 0.6250 - 0s 10ms/step - loss: 6712.9150 - accuracy: 0.6332 - val_loss: 6302.8306 - val_accuracy: 0.6516\n",
      "Epoch 649/1000\n",
      "23/23 [==============================] - ETA: 0s - loss: 14483.1133 - accuracy: 0.50 - ETA: 0s - loss: 7128.4038 - accuracy: 0.6324 - 0s 10ms/step - loss: 6712.7383 - accuracy: 0.6345 - val_loss: 6302.6685 - val_accuracy: 0.6516\n",
      "Epoch 650/1000\n",
      "23/23 [==============================] - ETA: 0s - loss: 14482.7900 - accuracy: 0.50 - ETA: 0s - loss: 7249.8579 - accuracy: 0.6268 - 0s 11ms/step - loss: 6712.5640 - accuracy: 0.6345 - val_loss: 6302.5068 - val_accuracy: 0.6516\n",
      "Epoch 651/1000\n",
      "23/23 [==============================] - ETA: 0s - loss: 14482.4668 - accuracy: 0.50 - ETA: 0s - loss: 7563.3672 - accuracy: 0.6270 - 0s 20ms/step - loss: 6712.3877 - accuracy: 0.6345 - val_loss: 6302.3462 - val_accuracy: 0.6516\n",
      "Epoch 652/1000\n",
      "23/23 [==============================] - ETA: 0s - loss: 14482.1445 - accuracy: 0.50 - ETA: 0s - loss: 7256.3735 - accuracy: 0.6234 - 0s 11ms/step - loss: 6712.2114 - accuracy: 0.6345 - val_loss: 6302.1836 - val_accuracy: 0.6516\n",
      "Epoch 653/1000\n",
      "23/23 [==============================] - ETA: 0s - loss: 14481.8242 - accuracy: 0.50 - ETA: 0s - loss: 7127.6577 - accuracy: 0.6324 - 0s 10ms/step - loss: 6712.0376 - accuracy: 0.6345 - val_loss: 6302.0220 - val_accuracy: 0.6516\n",
      "Epoch 654/1000\n",
      "23/23 [==============================] - ETA: 0s - loss: 14481.5000 - accuracy: 0.50 - ETA: 0s - loss: 7055.9048 - accuracy: 0.6297 - 0s 10ms/step - loss: 6711.8608 - accuracy: 0.6345 - val_loss: 6301.8604 - val_accuracy: 0.6516\n",
      "Epoch 655/1000\n",
      "23/23 [==============================] - ETA: 0s - loss: 14481.1758 - accuracy: 0.50 - ETA: 0s - loss: 7127.2827 - accuracy: 0.6324 - 0s 13ms/step - loss: 6711.6841 - accuracy: 0.6345 - val_loss: 6301.6978 - val_accuracy: 0.6516\n",
      "Epoch 656/1000\n",
      "23/23 [==============================] - ETA: 0s - loss: 14480.8574 - accuracy: 0.50 - ETA: 0s - loss: 7858.0903 - accuracy: 0.6205 - ETA: 0s - loss: 7905.2056 - accuracy: 0.622 - ETA: 0s - loss: 6711.5088 - accuracy: 0.634 - 1s 24ms/step - loss: 6711.5088 - accuracy: 0.6345 - val_loss: 6301.5356 - val_accuracy: 0.6516\n",
      "Epoch 657/1000\n",
      "23/23 [==============================] - ETA: 0s - loss: 14480.5342 - accuracy: 0.50 - ETA: 0s - loss: 7248.5488 - accuracy: 0.6268 - 0s 12ms/step - loss: 6711.3330 - accuracy: 0.6345 - val_loss: 6301.3755 - val_accuracy: 0.6516\n",
      "Epoch 658/1000\n",
      "23/23 [==============================] - ETA: 0s - loss: 14480.2109 - accuracy: 0.50 - ETA: 0s - loss: 6711.1567 - accuracy: 0.6345 - 0s 10ms/step - loss: 6711.1567 - accuracy: 0.6345 - val_loss: 6301.2129 - val_accuracy: 0.6516\n",
      "Epoch 659/1000\n",
      "23/23 [==============================] - ETA: 0s - loss: 14479.8887 - accuracy: 0.50 - ETA: 0s - loss: 7126.5366 - accuracy: 0.6324 - 0s 20ms/step - loss: 6710.9824 - accuracy: 0.6345 - val_loss: 6301.0522 - val_accuracy: 0.6516\n",
      "Epoch 660/1000\n",
      "23/23 [==============================] - ETA: 0s - loss: 14479.5674 - accuracy: 0.50 - ETA: 0s - loss: 7904.3823 - accuracy: 0.6229 - 0s 12ms/step - loss: 6710.8057 - accuracy: 0.6345 - val_loss: 6300.8901 - val_accuracy: 0.6516\n",
      "Epoch 661/1000\n",
      "23/23 [==============================] - ETA: 0s - loss: 14479.2451 - accuracy: 0.50 - ETA: 0s - loss: 6885.6323 - accuracy: 0.6335 - 0s 10ms/step - loss: 6710.6299 - accuracy: 0.6345 - val_loss: 6300.7280 - val_accuracy: 0.6516\n",
      "Epoch 662/1000\n",
      "23/23 [==============================] - ETA: 0s - loss: 14478.9238 - accuracy: 0.50 - ETA: 0s - loss: 6885.4531 - accuracy: 0.6335 - 0s 11ms/step - loss: 6710.4551 - accuracy: 0.6345 - val_loss: 6300.5659 - val_accuracy: 0.6516\n",
      "Epoch 663/1000\n",
      "23/23 [==============================] - ETA: 0s - loss: 14478.5977 - accuracy: 0.50 - ETA: 0s - loss: 7247.4272 - accuracy: 0.6268 - 1s 30ms/step - loss: 6710.2783 - accuracy: 0.6345 - val_loss: 6300.4038 - val_accuracy: 0.6516\n",
      "Epoch 664/1000\n",
      "23/23 [==============================] - ETA: 0s - loss: 14478.2734 - accuracy: 0.50 - ETA: 0s - loss: 7856.4722 - accuracy: 0.6205 - ETA: 0s - loss: 6710.1040 - accuracy: 0.634 - 0s 18ms/step - loss: 6710.1040 - accuracy: 0.6345 - val_loss: 6300.2427 - val_accuracy: 0.6516\n",
      "Epoch 665/1000\n",
      "23/23 [==============================] - ETA: 0s - loss: 14477.9512 - accuracy: 0.50 - ETA: 0s - loss: 6884.9146 - accuracy: 0.6335 - 0s 11ms/step - loss: 6709.9287 - accuracy: 0.6345 - val_loss: 6300.0815 - val_accuracy: 0.6516\n"
     ]
    },
    {
     "name": "stdout",
     "output_type": "stream",
     "text": [
      "Epoch 666/1000\n",
      "23/23 [==============================] - ETA: 0s - loss: 14477.6289 - accuracy: 0.50 - ETA: 0s - loss: 6709.7534 - accuracy: 0.6332 - 0s 17ms/step - loss: 6709.7534 - accuracy: 0.6332 - val_loss: 6299.9199 - val_accuracy: 0.6516\n",
      "Epoch 667/1000\n",
      "23/23 [==============================] - ETA: 0s - loss: 14477.3037 - accuracy: 0.50 - ETA: 0s - loss: 7246.6831 - accuracy: 0.6250 - 0s 11ms/step - loss: 6709.5776 - accuracy: 0.6332 - val_loss: 6299.7578 - val_accuracy: 0.6516\n",
      "Epoch 668/1000\n",
      "23/23 [==============================] - ETA: 0s - loss: 14476.9795 - accuracy: 0.50 - ETA: 0s - loss: 7124.8584 - accuracy: 0.6310 - 0s 9ms/step - loss: 6709.4033 - accuracy: 0.6332 - val_loss: 6299.5967 - val_accuracy: 0.6516\n",
      "Epoch 669/1000\n",
      "23/23 [==============================] - ETA: 0s - loss: 14476.6592 - accuracy: 0.50 - ETA: 0s - loss: 7253.1958 - accuracy: 0.6217 - 0s 12ms/step - loss: 6709.2295 - accuracy: 0.6332 - val_loss: 6299.4346 - val_accuracy: 0.6516\n",
      "Epoch 670/1000\n",
      "23/23 [==============================] - ETA: 0s - loss: 14476.3340 - accuracy: 0.50 - ETA: 0s - loss: 6709.0542 - accuracy: 0.6332 - 0s 17ms/step - loss: 6709.0542 - accuracy: 0.6332 - val_loss: 6299.2744 - val_accuracy: 0.6516\n",
      "Epoch 671/1000\n",
      "23/23 [==============================] - ETA: 0s - loss: 14476.0098 - accuracy: 0.50 - ETA: 0s - loss: 7245.9404 - accuracy: 0.6250 - 0s 14ms/step - loss: 6708.8799 - accuracy: 0.6332 - val_loss: 6299.1138 - val_accuracy: 0.6516\n",
      "Epoch 672/1000\n",
      "23/23 [==============================] - ETA: 0s - loss: 14475.6865 - accuracy: 0.50 - ETA: 0s - loss: 7252.6357 - accuracy: 0.6217 - 0s 10ms/step - loss: 6708.7051 - accuracy: 0.6332 - val_loss: 6298.9512 - val_accuracy: 0.6516\n",
      "Epoch 673/1000\n",
      "23/23 [==============================] - ETA: 0s - loss: 14475.3594 - accuracy: 0.50 - ETA: 0s - loss: 6708.5312 - accuracy: 0.6332 - 0s 10ms/step - loss: 6708.5312 - accuracy: 0.6332 - val_loss: 6298.7905 - val_accuracy: 0.6516\n",
      "Epoch 674/1000\n",
      "23/23 [==============================] - ETA: 0s - loss: 14475.0371 - accuracy: 0.50 - 0s 9ms/step - loss: 6708.3560 - accuracy: 0.6332 - val_loss: 6298.6299 - val_accuracy: 0.6516\n",
      "Epoch 675/1000\n",
      "23/23 [==============================] - ETA: 0s - loss: 14474.7158 - accuracy: 0.50 - ETA: 0s - loss: 7854.2510 - accuracy: 0.6205 - 0s 11ms/step - loss: 6708.1821 - accuracy: 0.6332 - val_loss: 6298.4688 - val_accuracy: 0.6516\n",
      "Epoch 676/1000\n",
      "23/23 [==============================] - ETA: 0s - loss: 14474.3906 - accuracy: 0.50 - ETA: 0s - loss: 7123.3740 - accuracy: 0.6310 - 0s 20ms/step - loss: 6708.0073 - accuracy: 0.6332 - val_loss: 6298.3076 - val_accuracy: 0.6516\n",
      "Epoch 677/1000\n",
      "23/23 [==============================] - ETA: 0s - loss: 14474.0674 - accuracy: 0.50 - ETA: 0s - loss: 7123.1899 - accuracy: 0.6310 - 0s 10ms/step - loss: 6707.8345 - accuracy: 0.6332 - val_loss: 6298.1470 - val_accuracy: 0.6516\n",
      "Epoch 678/1000\n",
      "23/23 [==============================] - ETA: 0s - loss: 14473.7432 - accuracy: 0.50 - ETA: 0s - loss: 7244.6421 - accuracy: 0.6250 - 0s 11ms/step - loss: 6707.6592 - accuracy: 0.6332 - val_loss: 6297.9854 - val_accuracy: 0.6516\n",
      "Epoch 679/1000\n",
      "23/23 [==============================] - ETA: 0s - loss: 14473.4170 - accuracy: 0.50 - ETA: 0s - loss: 7051.3462 - accuracy: 0.6281 - 0s 10ms/step - loss: 6707.4844 - accuracy: 0.6332 - val_loss: 6297.8242 - val_accuracy: 0.6516\n",
      "Epoch 680/1000\n",
      "23/23 [==============================] - ETA: 0s - loss: 14473.0938 - accuracy: 0.50 - ETA: 0s - loss: 7557.6499 - accuracy: 0.6250 - ETA: 0s - loss: 6882.2349 - accuracy: 0.632 - 1s 23ms/step - loss: 6707.3110 - accuracy: 0.6332 - val_loss: 6297.6631 - val_accuracy: 0.6516\n",
      "Epoch 681/1000\n",
      "23/23 [==============================] - ETA: 0s - loss: 14472.7695 - accuracy: 0.50 - ETA: 0s - loss: 7853.0425 - accuracy: 0.6205 - 0s 12ms/step - loss: 6707.1357 - accuracy: 0.6332 - val_loss: 6297.5024 - val_accuracy: 0.6516\n",
      "Epoch 682/1000\n",
      "23/23 [==============================] - ETA: 0s - loss: 14472.4463 - accuracy: 0.50 - ETA: 0s - loss: 7122.2632 - accuracy: 0.6310 - 0s 11ms/step - loss: 6706.9624 - accuracy: 0.6332 - val_loss: 6297.3418 - val_accuracy: 0.6516\n",
      "Epoch 683/1000\n",
      "23/23 [==============================] - ETA: 0s - loss: 14472.1211 - accuracy: 0.50 - ETA: 0s - loss: 7050.6201 - accuracy: 0.6281 - 0s 19ms/step - loss: 6706.7881 - accuracy: 0.6332 - val_loss: 6297.1802 - val_accuracy: 0.6516\n",
      "Epoch 684/1000\n",
      "23/23 [==============================] - ETA: 0s - loss: 14471.7959 - accuracy: 0.50 - ETA: 0s - loss: 7250.4072 - accuracy: 0.6217 - 0s 11ms/step - loss: 6706.6133 - accuracy: 0.6332 - val_loss: 6297.0195 - val_accuracy: 0.6516\n",
      "Epoch 685/1000\n",
      "23/23 [==============================] - ETA: 0s - loss: 14471.4736 - accuracy: 0.50 - ETA: 0s - loss: 7121.7075 - accuracy: 0.6310 - 0s 11ms/step - loss: 6706.4395 - accuracy: 0.6332 - val_loss: 6296.8589 - val_accuracy: 0.6516\n",
      "Epoch 686/1000\n",
      "23/23 [==============================] - ETA: 0s - loss: 14471.1504 - accuracy: 0.50 - 0s 9ms/step - loss: 6706.2651 - accuracy: 0.6332 - val_loss: 6296.6978 - val_accuracy: 0.6516\n",
      "Epoch 687/1000\n",
      "23/23 [==============================] - ETA: 0s - loss: 14470.8242 - accuracy: 0.50 - ETA: 0s - loss: 7049.8945 - accuracy: 0.6281 - 0s 18ms/step - loss: 6706.0908 - accuracy: 0.6332 - val_loss: 6296.5356 - val_accuracy: 0.6516\n",
      "Epoch 688/1000\n",
      "23/23 [==============================] - ETA: 0s - loss: 14470.4990 - accuracy: 0.50 - ETA: 0s - loss: 7242.7881 - accuracy: 0.6250 - 0s 16ms/step - loss: 6705.9165 - accuracy: 0.6332 - val_loss: 6296.3760 - val_accuracy: 0.6516\n",
      "Epoch 689/1000\n",
      "23/23 [==============================] - ETA: 0s - loss: 14470.1768 - accuracy: 0.50 - 0s 9ms/step - loss: 6705.7427 - accuracy: 0.6332 - val_loss: 6296.2144 - val_accuracy: 0.6516\n",
      "Epoch 690/1000\n",
      "23/23 [==============================] - ETA: 0s - loss: 14469.8506 - accuracy: 0.50 - ETA: 0s - loss: 6705.5679 - accuracy: 0.6332 - 0s 10ms/step - loss: 6705.5679 - accuracy: 0.6332 - val_loss: 6296.0527 - val_accuracy: 0.6516\n",
      "Epoch 691/1000\n",
      "23/23 [==============================] - ETA: 0s - loss: 14469.5293 - accuracy: 0.50 - ETA: 0s - loss: 7120.5962 - accuracy: 0.6310 - 0s 12ms/step - loss: 6705.3940 - accuracy: 0.6332 - val_loss: 6295.8916 - val_accuracy: 0.6516\n",
      "Epoch 692/1000\n",
      "23/23 [==============================] - ETA: 0s - loss: 14469.2031 - accuracy: 0.50 - ETA: 0s - loss: 7242.0479 - accuracy: 0.6250 - ETA: 0s - loss: 6880.0942 - accuracy: 0.632 - 1s 22ms/step - loss: 6705.2202 - accuracy: 0.6332 - val_loss: 6295.7305 - val_accuracy: 0.6516\n",
      "Epoch 693/1000\n",
      "23/23 [==============================] - ETA: 0s - loss: 14468.8789 - accuracy: 0.50 - ETA: 0s - loss: 7241.8623 - accuracy: 0.6250 - 0s 11ms/step - loss: 6705.0449 - accuracy: 0.6332 - val_loss: 6295.5693 - val_accuracy: 0.6516\n",
      "Epoch 694/1000\n",
      "23/23 [==============================] - ETA: 0s - loss: 14468.5566 - accuracy: 0.50 - ETA: 0s - loss: 7048.6235 - accuracy: 0.6281 - 0s 11ms/step - loss: 6704.8711 - accuracy: 0.6332 - val_loss: 6295.4087 - val_accuracy: 0.6516\n",
      "Epoch 695/1000\n",
      "23/23 [==============================] - ETA: 0s - loss: 14468.2334 - accuracy: 0.50 - ETA: 0s - loss: 7048.4424 - accuracy: 0.6281 - 0s 10ms/step - loss: 6704.6968 - accuracy: 0.6332 - val_loss: 6295.2480 - val_accuracy: 0.6516\n",
      "Epoch 696/1000\n",
      "23/23 [==============================] - ETA: 0s - loss: 14467.9062 - accuracy: 0.50 - ETA: 0s - loss: 7272.8687 - accuracy: 0.6302 - ETA: 0s - loss: 7946.4902 - accuracy: 0.629 - ETA: 0s - loss: 7048.2603 - accuracy: 0.628 - 1s 23ms/step - loss: 6704.5220 - accuracy: 0.6332 - val_loss: 6295.0869 - val_accuracy: 0.6516\n",
      "Epoch 697/1000\n",
      "23/23 [==============================] - ETA: 0s - loss: 14467.5850 - accuracy: 0.50 - ETA: 0s - loss: 7048.0796 - accuracy: 0.6281 - 0s 11ms/step - loss: 6704.3486 - accuracy: 0.6332 - val_loss: 6294.9263 - val_accuracy: 0.6516\n",
      "Epoch 698/1000\n",
      "23/23 [==============================] - ETA: 0s - loss: 14467.2588 - accuracy: 0.50 - ETA: 0s - loss: 7119.2998 - accuracy: 0.6310 - 0s 10ms/step - loss: 6704.1753 - accuracy: 0.6332 - val_loss: 6294.7656 - val_accuracy: 0.6516\n",
      "Epoch 699/1000\n"
     ]
    },
    {
     "name": "stdout",
     "output_type": "stream",
     "text": [
      "23/23 [==============================] - ETA: 0s - loss: 14466.9336 - accuracy: 0.50 - ETA: 0s - loss: 7240.7510 - accuracy: 0.6250 - 0s 20ms/step - loss: 6704.0000 - accuracy: 0.6332 - val_loss: 6294.6030 - val_accuracy: 0.6516\n",
      "Epoch 700/1000\n",
      "23/23 [==============================] - ETA: 0s - loss: 14466.6074 - accuracy: 0.50 - ETA: 0s - loss: 7553.7275 - accuracy: 0.6250 - 0s 13ms/step - loss: 6703.8276 - accuracy: 0.6332 - val_loss: 6294.4434 - val_accuracy: 0.6516\n",
      "Epoch 701/1000\n",
      "23/23 [==============================] - ETA: 0s - loss: 14466.2852 - accuracy: 0.50 - ETA: 0s - loss: 6703.6514 - accuracy: 0.6332 - 0s 10ms/step - loss: 6703.6514 - accuracy: 0.6332 - val_loss: 6294.2817 - val_accuracy: 0.6516\n",
      "Epoch 702/1000\n",
      "23/23 [==============================] - ETA: 0s - loss: 14465.9609 - accuracy: 0.50 - ETA: 0s - loss: 7240.1958 - accuracy: 0.6250 - 0s 11ms/step - loss: 6703.4775 - accuracy: 0.6332 - val_loss: 6294.1211 - val_accuracy: 0.6516\n",
      "Epoch 703/1000\n",
      "23/23 [==============================] - ETA: 0s - loss: 14465.6367 - accuracy: 0.50 - ETA: 0s - loss: 7246.8760 - accuracy: 0.6217 - 0s 20ms/step - loss: 6703.3037 - accuracy: 0.6332 - val_loss: 6293.9604 - val_accuracy: 0.6516\n",
      "Epoch 704/1000\n",
      "23/23 [==============================] - ETA: 0s - loss: 14465.3125 - accuracy: 0.50 - ETA: 0s - loss: 7944.8315 - accuracy: 0.6298 - 0s 13ms/step - loss: 6703.1299 - accuracy: 0.6332 - val_loss: 6293.7983 - val_accuracy: 0.6516\n",
      "Epoch 705/1000\n",
      "23/23 [==============================] - ETA: 0s - loss: 14464.9883 - accuracy: 0.50 - ETA: 0s - loss: 7046.6274 - accuracy: 0.6281 - 0s 10ms/step - loss: 6702.9551 - accuracy: 0.6332 - val_loss: 6293.6387 - val_accuracy: 0.6516\n",
      "Epoch 706/1000\n",
      "23/23 [==============================] - ETA: 0s - loss: 14464.6650 - accuracy: 0.50 - 0s 10ms/step - loss: 6702.7808 - accuracy: 0.6332 - val_loss: 6293.4780 - val_accuracy: 0.6516\n",
      "Epoch 707/1000\n",
      "23/23 [==============================] - ETA: 0s - loss: 14464.3359 - accuracy: 0.50 - ETA: 0s - loss: 7894.7471 - accuracy: 0.6229 - 1s 23ms/step - loss: 6702.6064 - accuracy: 0.6332 - val_loss: 6293.3159 - val_accuracy: 0.6516\n",
      "Epoch 708/1000\n",
      "23/23 [==============================] - ETA: 0s - loss: 14464.0137 - accuracy: 0.50 - ETA: 0s - loss: 7742.9600 - accuracy: 0.6406 - ETA: 0s - loss: 7552.1577 - accuracy: 0.625 - ETA: 0s - loss: 7046.0830 - accuracy: 0.628 - 1s 30ms/step - loss: 6702.4321 - accuracy: 0.6332 - val_loss: 6293.1558 - val_accuracy: 0.6516\n",
      "Epoch 709/1000\n",
      "23/23 [==============================] - ETA: 0s - loss: 14463.6895 - accuracy: 0.50 - ETA: 0s - loss: 7551.9619 - accuracy: 0.6250 - 0s 12ms/step - loss: 6702.2583 - accuracy: 0.6332 - val_loss: 6292.9941 - val_accuracy: 0.6516\n",
      "Epoch 710/1000\n",
      "23/23 [==============================] - ETA: 0s - loss: 14463.3633 - accuracy: 0.50 - ETA: 0s - loss: 8784.7598 - accuracy: 0.6302 - ETA: 0s - loss: 9164.5078 - accuracy: 0.625 - ETA: 0s - loss: 7847.1968 - accuracy: 0.620 - ETA: 0s - loss: 7117.0767 - accuracy: 0.631 - 1s 27ms/step - loss: 6702.0845 - accuracy: 0.6332 - val_loss: 6292.8330 - val_accuracy: 0.6516\n",
      "Epoch 711/1000\n",
      "23/23 [==============================] - ETA: 0s - loss: 14463.0420 - accuracy: 0.50 - ETA: 0s - loss: 7893.9282 - accuracy: 0.6229 - 0s 11ms/step - loss: 6701.9111 - accuracy: 0.6332 - val_loss: 6292.6724 - val_accuracy: 0.6516\n",
      "Epoch 712/1000\n",
      "23/23 [==============================] - ETA: 0s - loss: 14462.7148 - accuracy: 0.50 - ETA: 0s - loss: 6876.5278 - accuracy: 0.6321 - 0s 10ms/step - loss: 6701.7358 - accuracy: 0.6332 - val_loss: 6292.5117 - val_accuracy: 0.6516\n",
      "Epoch 713/1000\n",
      "23/23 [==============================] - ETA: 0s - loss: 14462.3926 - accuracy: 0.50 - ETA: 0s - loss: 7269.6978 - accuracy: 0.6302 - 1s 24ms/step - loss: 6701.5625 - accuracy: 0.6332 - val_loss: 6292.3496 - val_accuracy: 0.6516\n",
      "Epoch 714/1000\n",
      "23/23 [==============================] - ETA: 0s - loss: 14462.0664 - accuracy: 0.50 - ETA: 0s - loss: 7550.9824 - accuracy: 0.6250 - 0s 14ms/step - loss: 6701.3872 - accuracy: 0.6332 - val_loss: 6292.1895 - val_accuracy: 0.6516\n",
      "Epoch 715/1000\n",
      "23/23 [==============================] - ETA: 0s - loss: 14461.7402 - accuracy: 0.50 - ETA: 0s - loss: 7036.5068 - accuracy: 0.6215 - 0s 11ms/step - loss: 6701.2148 - accuracy: 0.6332 - val_loss: 6292.0278 - val_accuracy: 0.6516\n",
      "Epoch 716/1000\n",
      "23/23 [==============================] - ETA: 0s - loss: 14461.4141 - accuracy: 0.50 - ETA: 0s - loss: 7892.9038 - accuracy: 0.6229 - 0s 14ms/step - loss: 6701.0400 - accuracy: 0.6332 - val_loss: 6291.8677 - val_accuracy: 0.6516\n",
      "Epoch 717/1000\n",
      "23/23 [==============================] - ETA: 0s - loss: 14461.0918 - accuracy: 0.50 - ETA: 0s - loss: 7036.1499 - accuracy: 0.6215 - 0s 12ms/step - loss: 6700.8647 - accuracy: 0.6332 - val_loss: 6291.7075 - val_accuracy: 0.6516\n",
      "Epoch 718/1000\n",
      "23/23 [==============================] - ETA: 0s - loss: 14460.7666 - accuracy: 0.50 - ETA: 0s - loss: 7941.9268 - accuracy: 0.6298 - 0s 17ms/step - loss: 6700.6914 - accuracy: 0.6332 - val_loss: 6291.5449 - val_accuracy: 0.6516\n",
      "Epoch 719/1000\n",
      "23/23 [==============================] - ETA: 0s - loss: 14460.4434 - accuracy: 0.50 - ETA: 0s - loss: 7044.0889 - accuracy: 0.6281 - 0s 10ms/step - loss: 6700.5186 - accuracy: 0.6332 - val_loss: 6291.3862 - val_accuracy: 0.6516\n",
      "Epoch 720/1000\n",
      "23/23 [==============================] - ETA: 0s - loss: 14460.1191 - accuracy: 0.50 - ETA: 0s - loss: 6875.1021 - accuracy: 0.6321 - 0s 11ms/step - loss: 6700.3433 - accuracy: 0.6332 - val_loss: 6291.2241 - val_accuracy: 0.6516\n",
      "Epoch 721/1000\n",
      "23/23 [==============================] - ETA: 0s - loss: 14459.7969 - accuracy: 0.50 - ETA: 0s - loss: 7243.5337 - accuracy: 0.6217 - 0s 18ms/step - loss: 6700.1699 - accuracy: 0.6332 - val_loss: 6291.0630 - val_accuracy: 0.6516\n",
      "Epoch 722/1000\n",
      "23/23 [==============================] - ETA: 0s - loss: 14459.4697 - accuracy: 0.50 - ETA: 0s - loss: 7844.7808 - accuracy: 0.6205 - 0s 13ms/step - loss: 6699.9951 - accuracy: 0.6332 - val_loss: 6290.9019 - val_accuracy: 0.6516\n",
      "Epoch 723/1000\n",
      "23/23 [==============================] - ETA: 0s - loss: 14459.1445 - accuracy: 0.50 - 0s 10ms/step - loss: 6699.8208 - accuracy: 0.6332 - val_loss: 6290.7407 - val_accuracy: 0.6516\n",
      "Epoch 724/1000\n",
      "23/23 [==============================] - ETA: 0s - loss: 14458.8193 - accuracy: 0.50 - ETA: 0s - loss: 7114.4868 - accuracy: 0.6310 - 0s 10ms/step - loss: 6699.6475 - accuracy: 0.6332 - val_loss: 6290.5806 - val_accuracy: 0.6516\n",
      "Epoch 725/1000\n",
      "23/23 [==============================] - ETA: 0s - loss: 14458.4980 - accuracy: 0.50 - ETA: 0s - loss: 6874.2109 - accuracy: 0.6321 - 0s 11ms/step - loss: 6699.4727 - accuracy: 0.6332 - val_loss: 6290.4189 - val_accuracy: 0.6516\n",
      "Epoch 726/1000\n",
      "23/23 [==============================] - ETA: 0s - loss: 14458.1719 - accuracy: 0.50 - ETA: 0s - loss: 8363.7598 - accuracy: 0.6406 - ETA: 0s - loss: 8028.0068 - accuracy: 0.645 - ETA: 0s - loss: 7235.7505 - accuracy: 0.625 - 1s 23ms/step - loss: 6699.2988 - accuracy: 0.6332 - val_loss: 6290.2588 - val_accuracy: 0.6516\n",
      "Epoch 727/1000\n",
      "23/23 [==============================] - ETA: 0s - loss: 14457.8457 - accuracy: 0.50 - ETA: 0s - loss: 6873.8545 - accuracy: 0.6321 - 0s 10ms/step - loss: 6699.1245 - accuracy: 0.6332 - val_loss: 6290.0977 - val_accuracy: 0.6516\n",
      "Epoch 728/1000\n",
      "23/23 [==============================] - ETA: 0s - loss: 14457.5244 - accuracy: 0.50 - ETA: 0s - loss: 6873.6763 - accuracy: 0.6321 - 0s 10ms/step - loss: 6698.9502 - accuracy: 0.6332 - val_loss: 6289.9365 - val_accuracy: 0.6516\n",
      "Epoch 729/1000\n",
      "23/23 [==============================] - ETA: 0s - loss: 14457.2002 - accuracy: 0.50 - ETA: 0s - loss: 7242.0479 - accuracy: 0.6217 - 0s 11ms/step - loss: 6698.7759 - accuracy: 0.6332 - val_loss: 6289.7759 - val_accuracy: 0.6516\n",
      "Epoch 730/1000\n",
      "23/23 [==============================] - ETA: 0s - loss: 14456.8750 - accuracy: 0.50 - ETA: 0s - loss: 9380.5020 - accuracy: 0.6313 - ETA: 0s - loss: 7939.4385 - accuracy: 0.629 - 0s 21ms/step - loss: 6698.6030 - accuracy: 0.6332 - val_loss: 6289.6147 - val_accuracy: 0.6516\n",
      "Epoch 731/1000\n"
     ]
    },
    {
     "name": "stdout",
     "output_type": "stream",
     "text": [
      "23/23 [==============================] - ETA: 0s - loss: 14456.5498 - accuracy: 0.50 - ETA: 0s - loss: 6873.1411 - accuracy: 0.6321 - 0s 14ms/step - loss: 6698.4282 - accuracy: 0.6332 - val_loss: 6289.4541 - val_accuracy: 0.6516\n",
      "Epoch 732/1000\n",
      "23/23 [==============================] - ETA: 0s - loss: 14456.2285 - accuracy: 0.50 - ETA: 0s - loss: 7241.4907 - accuracy: 0.6217 - 0s 12ms/step - loss: 6698.2539 - accuracy: 0.6332 - val_loss: 6289.2930 - val_accuracy: 0.6516\n",
      "Epoch 733/1000\n",
      "23/23 [==============================] - ETA: 0s - loss: 14455.8994 - accuracy: 0.50 - 0s 19ms/step - loss: 6698.0796 - accuracy: 0.6332 - val_loss: 6289.1313 - val_accuracy: 0.6516\n",
      "Epoch 734/1000\n",
      "23/23 [==============================] - ETA: 0s - loss: 14455.5781 - accuracy: 0.50 - ETA: 0s - loss: 7041.3672 - accuracy: 0.6281 - 0s 11ms/step - loss: 6697.9058 - accuracy: 0.6332 - val_loss: 6288.9707 - val_accuracy: 0.6516\n",
      "Epoch 735/1000\n",
      "23/23 [==============================] - ETA: 0s - loss: 14455.2520 - accuracy: 0.50 - ETA: 0s - loss: 7041.1851 - accuracy: 0.6281 - 0s 11ms/step - loss: 6697.7310 - accuracy: 0.6332 - val_loss: 6288.8096 - val_accuracy: 0.6516\n",
      "Epoch 736/1000\n",
      "23/23 [==============================] - ETA: 0s - loss: 14454.9258 - accuracy: 0.50 - ETA: 0s - loss: 7032.7646 - accuracy: 0.6215 - 0s 15ms/step - loss: 6697.5576 - accuracy: 0.6332 - val_loss: 6288.6489 - val_accuracy: 0.6516\n",
      "Epoch 737/1000\n",
      "23/23 [==============================] - ETA: 0s - loss: 14454.6055 - accuracy: 0.50 - ETA: 0s - loss: 7888.6050 - accuracy: 0.6229 - ETA: 0s - loss: 7240.5635 - accuracy: 0.621 - 1s 23ms/step - loss: 6697.3843 - accuracy: 0.6332 - val_loss: 6288.4873 - val_accuracy: 0.6516\n",
      "Epoch 738/1000\n",
      "23/23 [==============================] - ETA: 0s - loss: 14454.2793 - accuracy: 0.50 - ETA: 0s - loss: 7111.8945 - accuracy: 0.6310 - 0s 11ms/step - loss: 6697.2100 - accuracy: 0.6332 - val_loss: 6288.3281 - val_accuracy: 0.6516\n",
      "Epoch 739/1000\n",
      "23/23 [==============================] - ETA: 0s - loss: 14453.9551 - accuracy: 0.50 - ETA: 0s - loss: 7040.4609 - accuracy: 0.6281 - 0s 11ms/step - loss: 6697.0352 - accuracy: 0.6332 - val_loss: 6288.1660 - val_accuracy: 0.6516\n",
      "Epoch 740/1000\n",
      "23/23 [==============================] - ETA: 0s - loss: 14453.6309 - accuracy: 0.50 - ETA: 0s - loss: 6696.8608 - accuracy: 0.6332 - 0s 11ms/step - loss: 6696.8608 - accuracy: 0.6332 - val_loss: 6288.0059 - val_accuracy: 0.6516\n",
      "Epoch 741/1000\n",
      "23/23 [==============================] - ETA: 0s - loss: 14453.3047 - accuracy: 0.50 - ETA: 0s - loss: 7545.6895 - accuracy: 0.6250 - ETA: 0s - loss: 7232.9722 - accuracy: 0.625 - ETA: 0s - loss: 7031.8735 - accuracy: 0.621 - 1s 23ms/step - loss: 6696.6870 - accuracy: 0.6332 - val_loss: 6287.8442 - val_accuracy: 0.6516\n",
      "Epoch 742/1000\n",
      "23/23 [==============================] - ETA: 0s - loss: 14452.9795 - accuracy: 0.50 - ETA: 0s - loss: 7239.6343 - accuracy: 0.6217 - 0s 10ms/step - loss: 6696.5127 - accuracy: 0.6332 - val_loss: 6287.6821 - val_accuracy: 0.6516\n",
      "Epoch 743/1000\n",
      "23/23 [==============================] - ETA: 0s - loss: 14452.6553 - accuracy: 0.50 - ETA: 0s - loss: 7039.7354 - accuracy: 0.6281 - 0s 10ms/step - loss: 6696.3398 - accuracy: 0.6332 - val_loss: 6287.5225 - val_accuracy: 0.6516\n",
      "Epoch 744/1000\n",
      "23/23 [==============================] - ETA: 0s - loss: 14452.3291 - accuracy: 0.50 - ETA: 0s - loss: 7110.7842 - accuracy: 0.6310 - 0s 12ms/step - loss: 6696.1655 - accuracy: 0.6332 - val_loss: 6287.3613 - val_accuracy: 0.6516\n",
      "Epoch 745/1000\n",
      "23/23 [==============================] - ETA: 0s - loss: 14452.0059 - accuracy: 0.50 - ETA: 0s - loss: 7031.1621 - accuracy: 0.6215 - ETA: 0s - loss: 7239.0771 - accuracy: 0.621 - 1s 23ms/step - loss: 6695.9912 - accuracy: 0.6332 - val_loss: 6287.2002 - val_accuracy: 0.6516\n",
      "Epoch 746/1000\n",
      "23/23 [==============================] - ETA: 0s - loss: 14451.6816 - accuracy: 0.50 - ETA: 0s - loss: 7110.4146 - accuracy: 0.6310 - 0s 11ms/step - loss: 6695.8174 - accuracy: 0.6332 - val_loss: 6287.0400 - val_accuracy: 0.6516\n",
      "Epoch 747/1000\n",
      "23/23 [==============================] - ETA: 0s - loss: 14451.3584 - accuracy: 0.50 - ETA: 0s - loss: 7030.8052 - accuracy: 0.6215 - 0s 13ms/step - loss: 6695.6426 - accuracy: 0.6332 - val_loss: 6286.8789 - val_accuracy: 0.6516\n",
      "Epoch 748/1000\n",
      "23/23 [==============================] - ETA: 0s - loss: 14451.0322 - accuracy: 0.50 - ETA: 0s - loss: 7886.3516 - accuracy: 0.6229 - ETA: 0s - loss: 6695.4683 - accuracy: 0.633 - 1s 27ms/step - loss: 6695.4683 - accuracy: 0.6332 - val_loss: 6286.7192 - val_accuracy: 0.6516\n",
      "Epoch 749/1000\n",
      "23/23 [==============================] - ETA: 0s - loss: 14450.7090 - accuracy: 0.50 - ETA: 0s - loss: 7231.4907 - accuracy: 0.6250 - 0s 18ms/step - loss: 6695.2949 - accuracy: 0.6332 - val_loss: 6286.5571 - val_accuracy: 0.6516\n",
      "Epoch 750/1000\n",
      "23/23 [==============================] - ETA: 0s - loss: 14450.3848 - accuracy: 0.50 - ETA: 0s - loss: 7238.1479 - accuracy: 0.6217 - 0s 13ms/step - loss: 6695.1196 - accuracy: 0.6332 - val_loss: 6286.3970 - val_accuracy: 0.6516\n",
      "Epoch 751/1000\n",
      "23/23 [==============================] - ETA: 0s - loss: 14450.0566 - accuracy: 0.50 - ETA: 0s - loss: 7038.2842 - accuracy: 0.6281 - 0s 18ms/step - loss: 6694.9463 - accuracy: 0.6332 - val_loss: 6286.2349 - val_accuracy: 0.6516\n",
      "Epoch 752/1000\n",
      "23/23 [==============================] - ETA: 0s - loss: 14449.7354 - accuracy: 0.50 - ETA: 0s - loss: 7230.9355 - accuracy: 0.6250 - 0s 21ms/step - loss: 6694.7725 - accuracy: 0.6332 - val_loss: 6286.0747 - val_accuracy: 0.6516\n",
      "Epoch 753/1000\n",
      "23/23 [==============================] - ETA: 0s - loss: 14449.4102 - accuracy: 0.50 - ETA: 0s - loss: 7230.7500 - accuracy: 0.6250 - 0s 12ms/step - loss: 6694.5986 - accuracy: 0.6332 - val_loss: 6285.9146 - val_accuracy: 0.6516\n",
      "Epoch 754/1000\n",
      "23/23 [==============================] - ETA: 0s - loss: 14449.0859 - accuracy: 0.50 - ETA: 0s - loss: 7029.5586 - accuracy: 0.6215 - 0s 20ms/step - loss: 6694.4238 - accuracy: 0.6332 - val_loss: 6285.7534 - val_accuracy: 0.6516\n",
      "Epoch 755/1000\n",
      "23/23 [==============================] - ETA: 0s - loss: 14448.7617 - accuracy: 0.50 - ETA: 0s - loss: 7838.1343 - accuracy: 0.6205 - 0s 16ms/step - loss: 6694.2500 - accuracy: 0.6332 - val_loss: 6285.5928 - val_accuracy: 0.6516\n",
      "Epoch 756/1000\n",
      "23/23 [==============================] - ETA: 0s - loss: 14448.4385 - accuracy: 0.50 - ETA: 0s - loss: 7108.5625 - accuracy: 0.6310 - 0s 10ms/step - loss: 6694.0752 - accuracy: 0.6332 - val_loss: 6285.4312 - val_accuracy: 0.6516\n",
      "Epoch 757/1000\n",
      "23/23 [==============================] - ETA: 0s - loss: 14448.1152 - accuracy: 0.50 - ETA: 0s - loss: 7108.3779 - accuracy: 0.6310 - 0s 11ms/step - loss: 6693.9014 - accuracy: 0.6332 - val_loss: 6285.2700 - val_accuracy: 0.6516\n",
      "Epoch 758/1000\n",
      "23/23 [==============================] - ETA: 0s - loss: 14447.7891 - accuracy: 0.50 - ETA: 0s - loss: 7037.0142 - accuracy: 0.6281 - 0s 19ms/step - loss: 6693.7275 - accuracy: 0.6332 - val_loss: 6285.1099 - val_accuracy: 0.6516\n",
      "Epoch 759/1000\n",
      "23/23 [==============================] - ETA: 0s - loss: 14447.4648 - accuracy: 0.50 - ETA: 0s - loss: 7542.1616 - accuracy: 0.6250 - 0s 14ms/step - loss: 6693.5537 - accuracy: 0.6332 - val_loss: 6284.9482 - val_accuracy: 0.6516\n",
      "Epoch 760/1000\n",
      "23/23 [==============================] - ETA: 0s - loss: 14447.1396 - accuracy: 0.50 - ETA: 0s - loss: 7036.6509 - accuracy: 0.6281 - 0s 11ms/step - loss: 6693.3784 - accuracy: 0.6332 - val_loss: 6284.7876 - val_accuracy: 0.6516\n",
      "Epoch 761/1000\n",
      "23/23 [==============================] - ETA: 0s - loss: 14446.8145 - accuracy: 0.50 - ETA: 0s - loss: 6693.2061 - accuracy: 0.6332 - 0s 10ms/step - loss: 6693.2061 - accuracy: 0.6332 - val_loss: 6284.6265 - val_accuracy: 0.6516\n",
      "Epoch 762/1000\n",
      "23/23 [==============================] - ETA: 0s - loss: 14446.4883 - accuracy: 0.50 - ETA: 0s - loss: 7541.5737 - accuracy: 0.6250 - 1s 24ms/step - loss: 6693.0308 - accuracy: 0.6332 - val_loss: 6284.4658 - val_accuracy: 0.6516\n",
      "Epoch 763/1000\n",
      "23/23 [==============================] - ETA: 0s - loss: 14446.1631 - accuracy: 0.50 - ETA: 0s - loss: 7932.5918 - accuracy: 0.6298 - 0s 18ms/step - loss: 6692.8564 - accuracy: 0.6332 - val_loss: 6284.3042 - val_accuracy: 0.6516\n"
     ]
    },
    {
     "name": "stdout",
     "output_type": "stream",
     "text": [
      "Epoch 764/1000\n",
      "23/23 [==============================] - ETA: 0s - loss: 14445.8359 - accuracy: 0.50 - ETA: 0s - loss: 7228.7134 - accuracy: 0.6250 - 0s 11ms/step - loss: 6692.6826 - accuracy: 0.6332 - val_loss: 6284.1436 - val_accuracy: 0.6516\n",
      "Epoch 765/1000\n",
      "23/23 [==============================] - ETA: 0s - loss: 14445.5137 - accuracy: 0.50 - ETA: 0s - loss: 7035.7446 - accuracy: 0.6281 - 0s 10ms/step - loss: 6692.5088 - accuracy: 0.6332 - val_loss: 6283.9834 - val_accuracy: 0.6516\n",
      "Epoch 766/1000\n",
      "23/23 [==============================] - ETA: 0s - loss: 14445.1914 - accuracy: 0.50 - ETA: 0s - loss: 7235.1768 - accuracy: 0.6217 - 0s 21ms/step - loss: 6692.3345 - accuracy: 0.6332 - val_loss: 6283.8223 - val_accuracy: 0.6516\n",
      "Epoch 767/1000\n",
      "23/23 [==============================] - ETA: 0s - loss: 14444.8662 - accuracy: 0.50 - ETA: 0s - loss: 6692.1602 - accuracy: 0.6332 - 0s 14ms/step - loss: 6692.1602 - accuracy: 0.6332 - val_loss: 6283.6611 - val_accuracy: 0.6516\n",
      "Epoch 768/1000\n",
      "23/23 [==============================] - ETA: 0s - loss: 14444.5410 - accuracy: 0.50 - ETA: 0s - loss: 6691.9878 - accuracy: 0.6332 - 0s 10ms/step - loss: 6691.9878 - accuracy: 0.6332 - val_loss: 6283.4990 - val_accuracy: 0.6516\n",
      "Epoch 769/1000\n",
      "23/23 [==============================] - ETA: 0s - loss: 14444.2139 - accuracy: 0.50 - ETA: 0s - loss: 6691.8145 - accuracy: 0.6332 - 0s 11ms/step - loss: 6691.8145 - accuracy: 0.6332 - val_loss: 6283.3394 - val_accuracy: 0.6516\n",
      "Epoch 770/1000\n",
      "23/23 [==============================] - ETA: 0s - loss: 14443.8906 - accuracy: 0.50 - ETA: 0s - loss: 6691.6387 - accuracy: 0.6332 - 0s 20ms/step - loss: 6691.6387 - accuracy: 0.6332 - val_loss: 6283.1782 - val_accuracy: 0.6516\n",
      "Epoch 771/1000\n",
      "23/23 [==============================] - ETA: 0s - loss: 14443.5693 - accuracy: 0.50 - ETA: 0s - loss: 7881.6436 - accuracy: 0.6229 - 0s 13ms/step - loss: 6691.4653 - accuracy: 0.6332 - val_loss: 6283.0166 - val_accuracy: 0.6516\n",
      "Epoch 772/1000\n",
      "23/23 [==============================] - ETA: 0s - loss: 14443.2422 - accuracy: 0.50 - ETA: 0s - loss: 7105.6021 - accuracy: 0.6310 - 0s 11ms/step - loss: 6691.2905 - accuracy: 0.6332 - val_loss: 6282.8574 - val_accuracy: 0.6516\n",
      "Epoch 773/1000\n",
      "23/23 [==============================] - ETA: 0s - loss: 14442.9189 - accuracy: 0.50 - ETA: 0s - loss: 7105.4175 - accuracy: 0.6310 - 0s 12ms/step - loss: 6691.1167 - accuracy: 0.6332 - val_loss: 6282.6953 - val_accuracy: 0.6516\n",
      "Epoch 774/1000\n",
      "23/23 [==============================] - ETA: 0s - loss: 14442.5938 - accuracy: 0.50 - ETA: 0s - loss: 7881.0288 - accuracy: 0.6229 - 0s 22ms/step - loss: 6690.9429 - accuracy: 0.6332 - val_loss: 6282.5347 - val_accuracy: 0.6516\n",
      "Epoch 775/1000\n",
      "23/23 [==============================] - ETA: 0s - loss: 14442.2695 - accuracy: 0.50 - ETA: 0s - loss: 7539.0259 - accuracy: 0.6250 - 0s 17ms/step - loss: 6690.7676 - accuracy: 0.6332 - val_loss: 6282.3740 - val_accuracy: 0.6516\n",
      "Epoch 776/1000\n",
      "23/23 [==============================] - ETA: 0s - loss: 14441.9443 - accuracy: 0.50 - ETA: 0s - loss: 7226.4907 - accuracy: 0.6250 - 0s 14ms/step - loss: 6690.5942 - accuracy: 0.6332 - val_loss: 6282.2124 - val_accuracy: 0.6516\n",
      "Epoch 777/1000\n",
      "23/23 [==============================] - ETA: 0s - loss: 14441.6230 - accuracy: 0.50 - ETA: 0s - loss: 7880.4146 - accuracy: 0.6229 - 0s 12ms/step - loss: 6690.4199 - accuracy: 0.6332 - val_loss: 6282.0518 - val_accuracy: 0.6516\n",
      "Epoch 778/1000\n",
      "23/23 [==============================] - ETA: 0s - loss: 14441.2959 - accuracy: 0.50 - ETA: 0s - loss: 7833.5000 - accuracy: 0.6205 - ETA: 0s - loss: 7880.2095 - accuracy: 0.622 - 1s 24ms/step - loss: 6690.2461 - accuracy: 0.6332 - val_loss: 6281.8921 - val_accuracy: 0.6516\n",
      "Epoch 779/1000\n",
      "23/23 [==============================] - ETA: 0s - loss: 14440.9717 - accuracy: 0.50 - ETA: 0s - loss: 7025.1035 - accuracy: 0.6215 - 0s 11ms/step - loss: 6690.0713 - accuracy: 0.6332 - val_loss: 6281.7305 - val_accuracy: 0.6516\n",
      "Epoch 780/1000\n",
      "23/23 [==============================] - ETA: 0s - loss: 14440.6445 - accuracy: 0.50 - ETA: 0s - loss: 7232.5781 - accuracy: 0.6217 - 0s 21ms/step - loss: 6689.8975 - accuracy: 0.6332 - val_loss: 6281.5688 - val_accuracy: 0.6516\n",
      "Epoch 781/1000\n",
      "23/23 [==============================] - ETA: 0s - loss: 14440.3223 - accuracy: 0.50 - ETA: 0s - loss: 7879.5947 - accuracy: 0.6229 - 0s 19ms/step - loss: 6689.7241 - accuracy: 0.6332 - val_loss: 6281.4092 - val_accuracy: 0.6516\n",
      "Epoch 782/1000\n",
      "23/23 [==============================] - ETA: 0s - loss: 14439.9971 - accuracy: 0.50 - ETA: 0s - loss: 7024.5688 - accuracy: 0.6215 - 0s 12ms/step - loss: 6689.5498 - accuracy: 0.6332 - val_loss: 6281.2476 - val_accuracy: 0.6516\n",
      "Epoch 783/1000\n",
      "23/23 [==============================] - ETA: 0s - loss: 14439.6738 - accuracy: 0.50 - ETA: 0s - loss: 7225.1948 - accuracy: 0.6250 - ETA: 0s - loss: 7024.3916 - accuracy: 0.621 - ETA: 0s - loss: 7232.0220 - accuracy: 0.621 - 1s 29ms/step - loss: 6689.3755 - accuracy: 0.6332 - val_loss: 6281.0864 - val_accuracy: 0.6516\n",
      "Epoch 784/1000\n",
      "23/23 [==============================] - ETA: 0s - loss: 14439.3506 - accuracy: 0.50 - ETA: 0s - loss: 7225.0093 - accuracy: 0.6250 - 0s 13ms/step - loss: 6689.2017 - accuracy: 0.6332 - val_loss: 6280.9248 - val_accuracy: 0.6516\n",
      "Epoch 785/1000\n",
      "23/23 [==============================] - ETA: 0s - loss: 14439.0273 - accuracy: 0.50 - ETA: 1s - loss: 8502.6602 - accuracy: 0.5781 - ETA: 1s - loss: 11253.4502 - accuracy: 0.59 - ETA: 1s - loss: 9306.0830 - accuracy: 0.6250 - ETA: 0s - loss: 7727.3857 - accuracy: 0.640 - 1s 37ms/step - loss: 6689.0264 - accuracy: 0.6332 - val_loss: 6280.7642 - val_accuracy: 0.6516\n",
      "Epoch 786/1000\n",
      "23/23 [==============================] - ETA: 0s - loss: 14438.6992 - accuracy: 0.50 - ETA: 0s - loss: 7878.5708 - accuracy: 0.6229 - 1s 36ms/step - loss: 6688.8525 - accuracy: 0.6332 - val_loss: 6280.6030 - val_accuracy: 0.6516\n",
      "Epoch 787/1000\n",
      "23/23 [==============================] - ETA: 0s - loss: 14438.3750 - accuracy: 0.50 - ETA: 0s - loss: 7536.6743 - accuracy: 0.6250 - 0s 17ms/step - loss: 6688.6802 - accuracy: 0.6332 - val_loss: 6280.4429 - val_accuracy: 0.6516\n",
      "Epoch 788/1000\n",
      "23/23 [==============================] - ETA: 0s - loss: 14438.0508 - accuracy: 0.50 - ETA: 0s - loss: 7536.4780 - accuracy: 0.6250 - ETA: 0s - loss: 7224.2690 - accuracy: 0.625 - ETA: 0s - loss: 7023.5005 - accuracy: 0.621 - 1s 29ms/step - loss: 6688.5049 - accuracy: 0.6332 - val_loss: 6280.2812 - val_accuracy: 0.6516\n",
      "Epoch 789/1000\n",
      "23/23 [==============================] - ETA: 0s - loss: 14437.7266 - accuracy: 0.50 - ETA: 0s - loss: 7023.3223 - accuracy: 0.6215 - 0s 11ms/step - loss: 6688.3311 - accuracy: 0.6332 - val_loss: 6280.1216 - val_accuracy: 0.6516\n",
      "Epoch 790/1000\n",
      "23/23 [==============================] - ETA: 0s - loss: 14437.4023 - accuracy: 0.50 - ETA: 0s - loss: 7102.2710 - accuracy: 0.6310 - 1s 28ms/step - loss: 6688.1577 - accuracy: 0.6332 - val_loss: 6279.9595 - val_accuracy: 0.6516\n",
      "Epoch 791/1000\n",
      "23/23 [==============================] - ETA: 0s - loss: 14437.0762 - accuracy: 0.50 - ETA: 0s - loss: 7535.8901 - accuracy: 0.6250 - 0s 14ms/step - loss: 6687.9824 - accuracy: 0.6332 - val_loss: 6279.7998 - val_accuracy: 0.6516\n",
      "Epoch 792/1000\n",
      "23/23 [==============================] - ETA: 0s - loss: 14436.7539 - accuracy: 0.50 - ETA: 0s - loss: 7535.6943 - accuracy: 0.6250 - 1s 28ms/step - loss: 6687.8091 - accuracy: 0.6332 - val_loss: 6279.6377 - val_accuracy: 0.6516\n",
      "Epoch 793/1000\n",
      "23/23 [==============================] - ETA: 0s - loss: 14436.4258 - accuracy: 0.50 - ETA: 0s - loss: 7535.4980 - accuracy: 0.6250 - 0s 12ms/step - loss: 6687.6343 - accuracy: 0.6332 - val_loss: 6279.4761 - val_accuracy: 0.6516\n",
      "Epoch 794/1000\n",
      "23/23 [==============================] - ETA: 0s - loss: 14436.1055 - accuracy: 0.50 - ETA: 0s - loss: 7101.5298 - accuracy: 0.6310 - 0s 12ms/step - loss: 6687.4600 - accuracy: 0.6332 - val_loss: 6279.3159 - val_accuracy: 0.6516\n",
      "Epoch 795/1000\n",
      "23/23 [==============================] - ETA: 0s - loss: 14435.7793 - accuracy: 0.50 - ETA: 0s - loss: 7925.9565 - accuracy: 0.6298 - 0s 18ms/step - loss: 6687.2861 - accuracy: 0.6332 - val_loss: 6279.1548 - val_accuracy: 0.6516\n",
      "Epoch 796/1000\n"
     ]
    },
    {
     "name": "stdout",
     "output_type": "stream",
     "text": [
      "23/23 [==============================] - ETA: 0s - loss: 14435.4541 - accuracy: 0.50 - ETA: 0s - loss: 7030.1221 - accuracy: 0.6281 - 0s 10ms/step - loss: 6687.1123 - accuracy: 0.6332 - val_loss: 6278.9941 - val_accuracy: 0.6516\n",
      "Epoch 797/1000\n",
      "23/23 [==============================] - ETA: 0s - loss: 14435.1309 - accuracy: 0.50 - ETA: 0s - loss: 7229.4229 - accuracy: 0.6217 - 0s 18ms/step - loss: 6686.9390 - accuracy: 0.6332 - val_loss: 6278.8325 - val_accuracy: 0.6516\n",
      "Epoch 798/1000\n",
      "23/23 [==============================] - ETA: 0s - loss: 14434.8066 - accuracy: 0.50 - ETA: 0s - loss: 7876.1152 - accuracy: 0.6229 - 0s 15ms/step - loss: 6686.7651 - accuracy: 0.6332 - val_loss: 6278.6724 - val_accuracy: 0.6516\n",
      "Epoch 799/1000\n",
      "23/23 [==============================] - ETA: 0s - loss: 14434.4824 - accuracy: 0.50 - ETA: 0s - loss: 6686.5908 - accuracy: 0.6332 - 0s 11ms/step - loss: 6686.5908 - accuracy: 0.6332 - val_loss: 6278.5112 - val_accuracy: 0.6516\n",
      "Epoch 800/1000\n",
      "23/23 [==============================] - ETA: 0s - loss: 14434.1562 - accuracy: 0.50 - ETA: 0s - loss: 6686.4155 - accuracy: 0.6332 - 0s 10ms/step - loss: 6686.4155 - accuracy: 0.6332 - val_loss: 6278.3506 - val_accuracy: 0.6516\n",
      "Epoch 801/1000\n",
      "23/23 [==============================] - ETA: 0s - loss: 14433.8311 - accuracy: 0.50 - ETA: 0s - loss: 7029.2158 - accuracy: 0.6281 - 0s 15ms/step - loss: 6686.2417 - accuracy: 0.6332 - val_loss: 6278.1904 - val_accuracy: 0.6516\n",
      "Epoch 802/1000\n",
      "23/23 [==============================] - ETA: 0s - loss: 14433.5088 - accuracy: 0.50 - ETA: 0s - loss: 7924.5049 - accuracy: 0.6298 - ETA: 0s - loss: 7533.7339 - accuracy: 0.625 - 0s 21ms/step - loss: 6686.0674 - accuracy: 0.6332 - val_loss: 6278.0288 - val_accuracy: 0.6516\n",
      "Epoch 803/1000\n",
      "23/23 [==============================] - ETA: 0s - loss: 14433.1816 - accuracy: 0.50 - ETA: 0s - loss: 6685.8945 - accuracy: 0.6332 - 0s 10ms/step - loss: 6685.8945 - accuracy: 0.6332 - val_loss: 6277.8682 - val_accuracy: 0.6516\n",
      "Epoch 804/1000\n",
      "23/23 [==============================] - ETA: 0s - loss: 14432.8584 - accuracy: 0.50 - ETA: 0s - loss: 7028.6709 - accuracy: 0.6281 - 0s 12ms/step - loss: 6685.7192 - accuracy: 0.6332 - val_loss: 6277.7080 - val_accuracy: 0.6516\n",
      "Epoch 805/1000\n",
      "23/23 [==============================] - ETA: 0s - loss: 14432.5322 - accuracy: 0.50 - ETA: 0s - loss: 7221.1211 - accuracy: 0.6250 - 0s 21ms/step - loss: 6685.5454 - accuracy: 0.6332 - val_loss: 6277.5459 - val_accuracy: 0.6516\n",
      "Epoch 806/1000\n",
      "23/23 [==============================] - ETA: 0s - loss: 14432.2100 - accuracy: 0.50 - ETA: 0s - loss: 7099.3096 - accuracy: 0.6310 - 0s 11ms/step - loss: 6685.3721 - accuracy: 0.6332 - val_loss: 6277.3848 - val_accuracy: 0.6516\n",
      "Epoch 807/1000\n",
      "23/23 [==============================] - ETA: 0s - loss: 14431.8848 - accuracy: 0.50 - ETA: 0s - loss: 6859.5957 - accuracy: 0.6321 - 0s 11ms/step - loss: 6685.1963 - accuracy: 0.6332 - val_loss: 6277.2256 - val_accuracy: 0.6516\n",
      "Epoch 808/1000\n",
      "23/23 [==============================] - ETA: 0s - loss: 14431.5605 - accuracy: 0.50 - ETA: 0s - loss: 7027.9463 - accuracy: 0.6281 - 0s 12ms/step - loss: 6685.0229 - accuracy: 0.6332 - val_loss: 6277.0635 - val_accuracy: 0.6516\n",
      "Epoch 809/1000\n",
      "23/23 [==============================] - ETA: 0s - loss: 14431.2344 - accuracy: 0.50 - ETA: 0s - loss: 7027.7642 - accuracy: 0.6281 - 1s 22ms/step - loss: 6684.8491 - accuracy: 0.6332 - val_loss: 6276.9019 - val_accuracy: 0.6516\n",
      "Epoch 810/1000\n",
      "23/23 [==============================] - ETA: 0s - loss: 14430.9102 - accuracy: 0.50 - 0s 13ms/step - loss: 6684.6738 - accuracy: 0.6332 - val_loss: 6276.7417 - val_accuracy: 0.6516\n",
      "Epoch 811/1000\n",
      "23/23 [==============================] - ETA: 0s - loss: 14430.5840 - accuracy: 0.50 - ETA: 0s - loss: 8010.3906 - accuracy: 0.6458 - ETA: 0s - loss: 7722.1274 - accuracy: 0.640 - 0s 17ms/step - loss: 6684.5005 - accuracy: 0.6332 - val_loss: 6276.5801 - val_accuracy: 0.6516\n",
      "Epoch 812/1000\n",
      "23/23 [==============================] - ETA: 0s - loss: 14430.2588 - accuracy: 0.50 - ETA: 0s - loss: 7098.1973 - accuracy: 0.6310 - 0s 12ms/step - loss: 6684.3262 - accuracy: 0.6332 - val_loss: 6276.4189 - val_accuracy: 0.6516\n",
      "Epoch 813/1000\n",
      "23/23 [==============================] - ETA: 0s - loss: 14429.9307 - accuracy: 0.50 - ETA: 0s - loss: 6684.1528 - accuracy: 0.6332 - 0s 10ms/step - loss: 6684.1528 - accuracy: 0.6332 - val_loss: 6276.2583 - val_accuracy: 0.6516\n",
      "Epoch 814/1000\n",
      "23/23 [==============================] - ETA: 0s - loss: 14429.6094 - accuracy: 0.50 - ETA: 0s - loss: 8009.7681 - accuracy: 0.6458 - ETA: 0s - loss: 7721.5205 - accuracy: 0.640 - ETA: 0s - loss: 7588.4409 - accuracy: 0.633 - ETA: 0s - loss: 7219.4541 - accuracy: 0.625 - 1s 25ms/step - loss: 6683.9790 - accuracy: 0.6332 - val_loss: 6276.0977 - val_accuracy: 0.6516\n",
      "Epoch 815/1000\n",
      "23/23 [==============================] - ETA: 0s - loss: 14429.2871 - accuracy: 0.50 - ETA: 0s - loss: 6683.8042 - accuracy: 0.6332 - 0s 10ms/step - loss: 6683.8042 - accuracy: 0.6332 - val_loss: 6275.9365 - val_accuracy: 0.6516\n",
      "Epoch 816/1000\n",
      "23/23 [==============================] - ETA: 0s - loss: 14428.9629 - accuracy: 0.50 - ETA: 0s - loss: 7026.4946 - accuracy: 0.6281 - 0s 12ms/step - loss: 6683.6299 - accuracy: 0.6332 - val_loss: 6275.7759 - val_accuracy: 0.6516\n",
      "Epoch 817/1000\n",
      "23/23 [==============================] - ETA: 0s - loss: 14428.6367 - accuracy: 0.50 - ETA: 0s - loss: 7825.6440 - accuracy: 0.6205 - ETA: 0s - loss: 7872.2241 - accuracy: 0.622 - ETA: 0s - loss: 6683.4546 - accuracy: 0.633 - 1s 22ms/step - loss: 6683.4546 - accuracy: 0.6332 - val_loss: 6275.6152 - val_accuracy: 0.6516\n",
      "Epoch 818/1000\n",
      "23/23 [==============================] - ETA: 0s - loss: 14428.3135 - accuracy: 0.50 - 0s 9ms/step - loss: 6683.2817 - accuracy: 0.6332 - val_loss: 6275.4536 - val_accuracy: 0.6516\n",
      "Epoch 819/1000\n",
      "23/23 [==============================] - ETA: 0s - loss: 14427.9902 - accuracy: 0.50 - ETA: 0s - loss: 7225.3364 - accuracy: 0.6217 - 0s 10ms/step - loss: 6683.1074 - accuracy: 0.6332 - val_loss: 6275.2930 - val_accuracy: 0.6516\n",
      "Epoch 820/1000\n",
      "23/23 [==============================] - ETA: 0s - loss: 14427.6650 - accuracy: 0.50 - ETA: 0s - loss: 6857.2793 - accuracy: 0.6321 - 0s 13ms/step - loss: 6682.9336 - accuracy: 0.6332 - val_loss: 6275.1323 - val_accuracy: 0.6516\n",
      "Epoch 821/1000\n",
      "23/23 [==============================] - ETA: 0s - loss: 14427.3428 - accuracy: 0.50 - ETA: 0s - loss: 7871.4062 - accuracy: 0.6229 - ETA: 0s - loss: 7218.1577 - accuracy: 0.625 - 0s 21ms/step - loss: 6682.7603 - accuracy: 0.6332 - val_loss: 6274.9717 - val_accuracy: 0.6516\n",
      "Epoch 822/1000\n",
      "23/23 [==============================] - ETA: 0s - loss: 14427.0156 - accuracy: 0.50 - ETA: 0s - loss: 6682.5850 - accuracy: 0.6332 - 0s 10ms/step - loss: 6682.5850 - accuracy: 0.6332 - val_loss: 6274.8105 - val_accuracy: 0.6516\n",
      "Epoch 823/1000\n",
      "23/23 [==============================] - ETA: 0s - loss: 14426.6924 - accuracy: 0.50 - ETA: 0s - loss: 6856.7451 - accuracy: 0.6321 - 0s 12ms/step - loss: 6682.4116 - accuracy: 0.6332 - val_loss: 6274.6494 - val_accuracy: 0.6516\n",
      "Epoch 824/1000\n",
      "23/23 [==============================] - ETA: 0s - loss: 14426.3691 - accuracy: 0.50 - ETA: 0s - loss: 6856.5669 - accuracy: 0.6321 - 0s 12ms/step - loss: 6682.2378 - accuracy: 0.6332 - val_loss: 6274.4897 - val_accuracy: 0.6516\n",
      "Epoch 825/1000\n",
      "23/23 [==============================] - ETA: 0s - loss: 14426.0449 - accuracy: 0.50 - ETA: 0s - loss: 7248.8125 - accuracy: 0.6302 - ETA: 0s - loss: 7870.5864 - accuracy: 0.622 - ETA: 0s - loss: 7024.8618 - accuracy: 0.628 - 0s 21ms/step - loss: 6682.0625 - accuracy: 0.6332 - val_loss: 6274.3276 - val_accuracy: 0.6516\n",
      "Epoch 826/1000\n",
      "23/23 [==============================] - ETA: 0s - loss: 14425.7207 - accuracy: 0.50 - ETA: 0s - loss: 7224.0371 - accuracy: 0.6217 - 0s 12ms/step - loss: 6681.8892 - accuracy: 0.6332 - val_loss: 6274.1665 - val_accuracy: 0.6516\n",
      "Epoch 827/1000\n",
      "23/23 [==============================] - ETA: 0s - loss: 14425.3906 - accuracy: 0.50 - ETA: 0s - loss: 6856.0317 - accuracy: 0.6321 - 0s 10ms/step - loss: 6681.7153 - accuracy: 0.6332 - val_loss: 6274.0059 - val_accuracy: 0.6516\n",
      "Epoch 828/1000\n"
     ]
    },
    {
     "name": "stdout",
     "output_type": "stream",
     "text": [
      "23/23 [==============================] - ETA: 0s - loss: 14425.0684 - accuracy: 0.50 - ETA: 0s - loss: 6681.5396 - accuracy: 0.6332 - 0s 11ms/step - loss: 6681.5396 - accuracy: 0.6332 - val_loss: 6273.8442 - val_accuracy: 0.6516\n",
      "Epoch 829/1000\n",
      "23/23 [==============================] - ETA: 0s - loss: 14424.7480 - accuracy: 0.50 - ETA: 0s - loss: 7918.9053 - accuracy: 0.6298 - ETA: 0s - loss: 6855.6753 - accuracy: 0.632 - ETA: 0s - loss: 6681.3667 - accuracy: 0.633 - 1s 23ms/step - loss: 6681.3667 - accuracy: 0.6332 - val_loss: 6273.6836 - val_accuracy: 0.6516\n",
      "Epoch 830/1000\n",
      "23/23 [==============================] - ETA: 0s - loss: 14424.4209 - accuracy: 0.50 - ETA: 0s - loss: 6855.4966 - accuracy: 0.6321 - 0s 10ms/step - loss: 6681.1924 - accuracy: 0.6332 - val_loss: 6273.5239 - val_accuracy: 0.6516\n",
      "Epoch 831/1000\n",
      "23/23 [==============================] - ETA: 0s - loss: 14424.0938 - accuracy: 0.50 - ETA: 0s - loss: 6681.0176 - accuracy: 0.6332 - 0s 10ms/step - loss: 6681.0176 - accuracy: 0.6332 - val_loss: 6273.3613 - val_accuracy: 0.6516\n",
      "Epoch 832/1000\n",
      "23/23 [==============================] - ETA: 0s - loss: 14423.7734 - accuracy: 0.50 - ETA: 0s - loss: 6855.1401 - accuracy: 0.6321 - 0s 18ms/step - loss: 6680.8438 - accuracy: 0.6332 - val_loss: 6273.2007 - val_accuracy: 0.6516\n",
      "Epoch 833/1000\n",
      "23/23 [==============================] - ETA: 0s - loss: 14423.4473 - accuracy: 0.50 - ETA: 0s - loss: 7015.4824 - accuracy: 0.6215 - 0s 15ms/step - loss: 6680.6704 - accuracy: 0.6332 - val_loss: 6273.0405 - val_accuracy: 0.6516\n",
      "Epoch 834/1000\n",
      "23/23 [==============================] - ETA: 0s - loss: 14423.1191 - accuracy: 0.50 - 0s 9ms/step - loss: 6680.4966 - accuracy: 0.6332 - val_loss: 6272.8789 - val_accuracy: 0.6516\n",
      "Epoch 835/1000\n",
      "23/23 [==============================] - ETA: 0s - loss: 14422.7979 - accuracy: 0.50 - ETA: 0s - loss: 6680.3218 - accuracy: 0.6332 - 0s 10ms/step - loss: 6680.3218 - accuracy: 0.6332 - val_loss: 6272.7183 - val_accuracy: 0.6516\n",
      "Epoch 836/1000\n",
      "23/23 [==============================] - ETA: 0s - loss: 14422.4746 - accuracy: 0.50 - ETA: 0s - loss: 7014.9487 - accuracy: 0.6215 - 0s 17ms/step - loss: 6680.1489 - accuracy: 0.6332 - val_loss: 6272.5566 - val_accuracy: 0.6516\n",
      "Epoch 837/1000\n",
      "23/23 [==============================] - ETA: 0s - loss: 14422.1455 - accuracy: 0.50 - ETA: 0s - loss: 7215.1934 - accuracy: 0.6250 - 0s 14ms/step - loss: 6679.9727 - accuracy: 0.6332 - val_loss: 6272.3960 - val_accuracy: 0.6516\n",
      "Epoch 838/1000\n",
      "23/23 [==============================] - ETA: 0s - loss: 14421.8232 - accuracy: 0.50 - ETA: 0s - loss: 7093.3853 - accuracy: 0.6310 - 0s 11ms/step - loss: 6679.7998 - accuracy: 0.6332 - val_loss: 6272.2344 - val_accuracy: 0.6516\n",
      "Epoch 839/1000\n",
      "23/23 [==============================] - ETA: 0s - loss: 14421.4941 - accuracy: 0.50 - ETA: 0s - loss: 7093.1992 - accuracy: 0.6310 - 0s 14ms/step - loss: 6679.6250 - accuracy: 0.6332 - val_loss: 6272.0737 - val_accuracy: 0.6516\n",
      "Epoch 840/1000\n",
      "23/23 [==============================] - ETA: 0s - loss: 14421.1719 - accuracy: 0.50 - ETA: 0s - loss: 7916.6226 - accuracy: 0.6298 - ETA: 0s - loss: 7821.0112 - accuracy: 0.620 - 1s 27ms/step - loss: 6679.4512 - accuracy: 0.6332 - val_loss: 6271.9131 - val_accuracy: 0.6516\n",
      "Epoch 841/1000\n",
      "23/23 [==============================] - ETA: 0s - loss: 14420.8506 - accuracy: 0.50 - ETA: 0s - loss: 7867.3096 - accuracy: 0.6229 - 0s 15ms/step - loss: 6679.2764 - accuracy: 0.6332 - val_loss: 6271.7524 - val_accuracy: 0.6516\n",
      "Epoch 842/1000\n",
      "23/23 [==============================] - ETA: 0s - loss: 14420.5234 - accuracy: 0.50 - 0s 10ms/step - loss: 6679.1030 - accuracy: 0.6332 - val_loss: 6271.5918 - val_accuracy: 0.6516\n",
      "Epoch 843/1000\n",
      "23/23 [==============================] - ETA: 0s - loss: 14420.1992 - accuracy: 0.50 - ETA: 0s - loss: 7013.7017 - accuracy: 0.6215 - 0s 11ms/step - loss: 6678.9292 - accuracy: 0.6332 - val_loss: 6271.4316 - val_accuracy: 0.6516\n",
      "Epoch 844/1000\n",
      "23/23 [==============================] - ETA: 0s - loss: 14419.8750 - accuracy: 0.50 - ETA: 0s - loss: 7021.4150 - accuracy: 0.6281 - 0s 12ms/step - loss: 6678.7539 - accuracy: 0.6332 - val_loss: 6271.2700 - val_accuracy: 0.6516\n",
      "Epoch 845/1000\n",
      "23/23 [==============================] - ETA: 0s - loss: 14419.5508 - accuracy: 0.50 - ETA: 0s - loss: 7220.5093 - accuracy: 0.6217 - 1s 23ms/step - loss: 6678.5811 - accuracy: 0.6332 - val_loss: 6271.1094 - val_accuracy: 0.6516\n",
      "Epoch 846/1000\n",
      "23/23 [==============================] - ETA: 0s - loss: 14419.2246 - accuracy: 0.50 - 0s 9ms/step - loss: 6678.4062 - accuracy: 0.6332 - val_loss: 6270.9478 - val_accuracy: 0.6516\n",
      "Epoch 847/1000\n",
      "23/23 [==============================] - ETA: 0s - loss: 14418.9014 - accuracy: 0.50 - ETA: 0s - loss: 7020.8721 - accuracy: 0.6281 - 0s 12ms/step - loss: 6678.2329 - accuracy: 0.6332 - val_loss: 6270.7871 - val_accuracy: 0.6516\n",
      "Epoch 848/1000\n",
      "23/23 [==============================] - ETA: 0s - loss: 14418.5742 - accuracy: 0.50 - ETA: 0s - loss: 7219.9521 - accuracy: 0.6217 - 0s 20ms/step - loss: 6678.0591 - accuracy: 0.6332 - val_loss: 6270.6260 - val_accuracy: 0.6516\n",
      "Epoch 849/1000\n",
      "23/23 [==============================] - ETA: 0s - loss: 14418.2520 - accuracy: 0.50 - ETA: 0s - loss: 7212.9717 - accuracy: 0.6250 - 0s 13ms/step - loss: 6677.8843 - accuracy: 0.6332 - val_loss: 6270.4644 - val_accuracy: 0.6516\n",
      "Epoch 850/1000\n",
      "23/23 [==============================] - ETA: 0s - loss: 14417.9268 - accuracy: 0.50 - ETA: 0s - loss: 6851.9316 - accuracy: 0.6321 - 0s 11ms/step - loss: 6677.7100 - accuracy: 0.6332 - val_loss: 6270.3047 - val_accuracy: 0.6516\n",
      "Epoch 851/1000\n",
      "23/23 [==============================] - ETA: 0s - loss: 14417.6016 - accuracy: 0.50 - ETA: 0s - loss: 7020.1460 - accuracy: 0.6281 - 0s 11ms/step - loss: 6677.5366 - accuracy: 0.6332 - val_loss: 6270.1426 - val_accuracy: 0.6516\n",
      "Epoch 852/1000\n",
      "23/23 [==============================] - ETA: 0s - loss: 14417.2793 - accuracy: 0.50 - ETA: 0s - loss: 7012.0967 - accuracy: 0.6215 - 0s 22ms/step - loss: 6677.3623 - accuracy: 0.6332 - val_loss: 6269.9810 - val_accuracy: 0.6516\n",
      "Epoch 853/1000\n",
      "23/23 [==============================] - ETA: 0s - loss: 14416.9541 - accuracy: 0.50 - ETA: 0s - loss: 6851.3970 - accuracy: 0.6321 - 0s 11ms/step - loss: 6677.1875 - accuracy: 0.6332 - val_loss: 6269.8218 - val_accuracy: 0.6516\n",
      "Epoch 854/1000\n",
      "23/23 [==============================] - ETA: 0s - loss: 14416.6299 - accuracy: 0.50 - ETA: 0s - loss: 7212.0454 - accuracy: 0.6250 - 0s 11ms/step - loss: 6677.0137 - accuracy: 0.6332 - val_loss: 6269.6602 - val_accuracy: 0.6516\n",
      "Epoch 855/1000\n",
      "23/23 [==============================] - ETA: 0s - loss: 14416.3047 - accuracy: 0.50 - ETA: 0s - loss: 6851.0405 - accuracy: 0.6321 - 0s 11ms/step - loss: 6676.8398 - accuracy: 0.6332 - val_loss: 6269.4985 - val_accuracy: 0.6516\n",
      "Epoch 856/1000\n",
      "23/23 [==============================] - ETA: 0s - loss: 14415.9785 - accuracy: 0.50 - ETA: 0s - loss: 7218.4663 - accuracy: 0.6217 - 0s 18ms/step - loss: 6676.6650 - accuracy: 0.6332 - val_loss: 6269.3389 - val_accuracy: 0.6516\n",
      "Epoch 857/1000\n",
      "23/23 [==============================] - ETA: 0s - loss: 14415.6523 - accuracy: 0.50 - ETA: 0s - loss: 7522.9531 - accuracy: 0.6250 - 0s 16ms/step - loss: 6676.4912 - accuracy: 0.6332 - val_loss: 6269.1772 - val_accuracy: 0.6516\n",
      "Epoch 858/1000\n",
      "23/23 [==============================] - ETA: 0s - loss: 14415.3311 - accuracy: 0.50 - ETA: 0s - loss: 6850.5063 - accuracy: 0.6321 - 0s 12ms/step - loss: 6676.3179 - accuracy: 0.6332 - val_loss: 6269.0166 - val_accuracy: 0.6516\n",
      "Epoch 859/1000\n",
      "23/23 [==============================] - ETA: 0s - loss: 14415.0049 - accuracy: 0.50 - ETA: 0s - loss: 7089.4961 - accuracy: 0.6310 - 0s 12ms/step - loss: 6676.1411 - accuracy: 0.6332 - val_loss: 6268.8555 - val_accuracy: 0.6516\n",
      "Epoch 860/1000\n",
      "23/23 [==============================] - ETA: 0s - loss: 14414.6797 - accuracy: 0.50 - ETA: 0s - loss: 7217.7236 - accuracy: 0.6217 - 0s 22ms/step - loss: 6675.9688 - accuracy: 0.6332 - val_loss: 6268.6948 - val_accuracy: 0.6516\n",
      "Epoch 861/1000\n",
      "23/23 [==============================] - ETA: 0s - loss: 14414.3545 - accuracy: 0.50 - ETA: 0s - loss: 7210.7485 - accuracy: 0.6250 - 0s 12ms/step - loss: 6675.7954 - accuracy: 0.6332 - val_loss: 6268.5337 - val_accuracy: 0.6516\n"
     ]
    },
    {
     "name": "stdout",
     "output_type": "stream",
     "text": [
      "Epoch 862/1000\n",
      "23/23 [==============================] - ETA: 0s - loss: 14414.0332 - accuracy: 0.50 - ETA: 0s - loss: 7018.1499 - accuracy: 0.6281 - 0s 11ms/step - loss: 6675.6201 - accuracy: 0.6332 - val_loss: 6268.3735 - val_accuracy: 0.6516\n",
      "Epoch 863/1000\n",
      "23/23 [==============================] - ETA: 0s - loss: 14413.7070 - accuracy: 0.50 - ETA: 0s - loss: 7088.7568 - accuracy: 0.6310 - 0s 13ms/step - loss: 6675.4463 - accuracy: 0.6332 - val_loss: 6268.2124 - val_accuracy: 0.6516\n",
      "Epoch 864/1000\n",
      "23/23 [==============================] - ETA: 0s - loss: 14413.3818 - accuracy: 0.50 - ETA: 0s - loss: 7210.1924 - accuracy: 0.6250 - 0s 20ms/step - loss: 6675.2725 - accuracy: 0.6332 - val_loss: 6268.0513 - val_accuracy: 0.6516\n",
      "Epoch 865/1000\n",
      "23/23 [==============================] - ETA: 0s - loss: 14413.0576 - accuracy: 0.50 - ETA: 0s - loss: 6849.2578 - accuracy: 0.6321 - 0s 10ms/step - loss: 6675.0977 - accuracy: 0.6332 - val_loss: 6267.8901 - val_accuracy: 0.6516\n",
      "Epoch 866/1000\n",
      "23/23 [==============================] - ETA: 0s - loss: 14412.7305 - accuracy: 0.50 - ETA: 0s - loss: 7088.2021 - accuracy: 0.6310 - 0s 11ms/step - loss: 6674.9248 - accuracy: 0.6332 - val_loss: 6267.7300 - val_accuracy: 0.6516\n",
      "Epoch 867/1000\n",
      "23/23 [==============================] - ETA: 0s - loss: 14412.4102 - accuracy: 0.50 - ETA: 0s - loss: 7017.2437 - accuracy: 0.6281 - 0s 13ms/step - loss: 6674.7505 - accuracy: 0.6332 - val_loss: 6267.5679 - val_accuracy: 0.6516\n",
      "Epoch 868/1000\n",
      "23/23 [==============================] - ETA: 0s - loss: 14412.0859 - accuracy: 0.50 - ETA: 0s - loss: 7861.7812 - accuracy: 0.6229 - ETA: 0s - loss: 7520.7964 - accuracy: 0.625 - 1s 33ms/step - loss: 6674.5752 - accuracy: 0.6332 - val_loss: 6267.4077 - val_accuracy: 0.6516\n",
      "Epoch 869/1000\n",
      "23/23 [==============================] - ETA: 0s - loss: 14411.7607 - accuracy: 0.50 - ETA: 0s - loss: 7216.0527 - accuracy: 0.6217 - 0s 11ms/step - loss: 6674.4028 - accuracy: 0.6332 - val_loss: 6267.2471 - val_accuracy: 0.6516\n",
      "Epoch 870/1000\n",
      "23/23 [==============================] - ETA: 0s - loss: 14411.4355 - accuracy: 0.50 - ETA: 0s - loss: 6674.2275 - accuracy: 0.6332 - 0s 11ms/step - loss: 6674.2275 - accuracy: 0.6332 - val_loss: 6267.0850 - val_accuracy: 0.6516\n",
      "Epoch 871/1000\n",
      "23/23 [==============================] - ETA: 0s - loss: 14411.1123 - accuracy: 0.50 - ETA: 0s - loss: 7520.2090 - accuracy: 0.6250 - 1s 23ms/step - loss: 6674.0537 - accuracy: 0.6332 - val_loss: 6266.9248 - val_accuracy: 0.6516\n",
      "Epoch 872/1000\n",
      "23/23 [==============================] - ETA: 0s - loss: 14410.7900 - accuracy: 0.50 - ETA: 0s - loss: 7215.4951 - accuracy: 0.6217 - 0s 11ms/step - loss: 6673.8789 - accuracy: 0.6332 - val_loss: 6266.7627 - val_accuracy: 0.6516\n",
      "Epoch 873/1000\n",
      "23/23 [==============================] - ETA: 0s - loss: 14410.4648 - accuracy: 0.50 - ETA: 0s - loss: 7016.1548 - accuracy: 0.6281 - 0s 11ms/step - loss: 6673.7051 - accuracy: 0.6332 - val_loss: 6266.6025 - val_accuracy: 0.6516\n",
      "Epoch 874/1000\n",
      "23/23 [==============================] - ETA: 0s - loss: 14410.1367 - accuracy: 0.50 - ETA: 0s - loss: 7086.7212 - accuracy: 0.6310 - 0s 11ms/step - loss: 6673.5312 - accuracy: 0.6332 - val_loss: 6266.4424 - val_accuracy: 0.6516\n",
      "Epoch 875/1000\n",
      "23/23 [==============================] - ETA: 0s - loss: 14409.8125 - accuracy: 0.50 - ETA: 0s - loss: 7007.9990 - accuracy: 0.6215 - 1s 25ms/step - loss: 6673.3574 - accuracy: 0.6332 - val_loss: 6266.2812 - val_accuracy: 0.6516\n",
      "Epoch 876/1000\n",
      "23/23 [==============================] - ETA: 0s - loss: 14409.4893 - accuracy: 0.50 - ETA: 0s - loss: 7086.3521 - accuracy: 0.6310 - 0s 11ms/step - loss: 6673.1841 - accuracy: 0.6332 - val_loss: 6266.1196 - val_accuracy: 0.6516\n",
      "Epoch 877/1000\n",
      "23/23 [==============================] - ETA: 0s - loss: 14409.1650 - accuracy: 0.50 - ETA: 0s - loss: 6673.0093 - accuracy: 0.6332 - 0s 11ms/step - loss: 6673.0093 - accuracy: 0.6332 - val_loss: 6265.9595 - val_accuracy: 0.6516\n",
      "Epoch 878/1000\n",
      "23/23 [==============================] - ETA: 0s - loss: 14408.8398 - accuracy: 0.50 - ETA: 0s - loss: 6672.8345 - accuracy: 0.6332 - 0s 12ms/step - loss: 6672.8345 - accuracy: 0.6332 - val_loss: 6265.7979 - val_accuracy: 0.6516\n",
      "Epoch 879/1000\n",
      "23/23 [==============================] - ETA: 0s - loss: 14408.5166 - accuracy: 0.50 - 0s 18ms/step - loss: 6672.6602 - accuracy: 0.6332 - val_loss: 6265.6367 - val_accuracy: 0.6516\n",
      "Epoch 880/1000\n",
      "23/23 [==============================] - ETA: 0s - loss: 14408.1914 - accuracy: 0.50 - ETA: 0s - loss: 7518.4453 - accuracy: 0.6250 - 0s 14ms/step - loss: 6672.4878 - accuracy: 0.6332 - val_loss: 6265.4761 - val_accuracy: 0.6516\n",
      "Epoch 881/1000\n",
      "23/23 [==============================] - ETA: 0s - loss: 14407.8613 - accuracy: 0.50 - ETA: 0s - loss: 6672.3125 - accuracy: 0.6332 - 0s 12ms/step - loss: 6672.3125 - accuracy: 0.6332 - val_loss: 6265.3145 - val_accuracy: 0.6516\n",
      "Epoch 882/1000\n",
      "23/23 [==============================] - ETA: 0s - loss: 14407.5400 - accuracy: 0.50 - ETA: 0s - loss: 6672.1377 - accuracy: 0.6332 - 0s 12ms/step - loss: 6672.1377 - accuracy: 0.6332 - val_loss: 6265.1543 - val_accuracy: 0.6516\n",
      "Epoch 883/1000\n",
      "23/23 [==============================] - ETA: 0s - loss: 14407.2139 - accuracy: 0.50 - ETA: 0s - loss: 7014.3408 - accuracy: 0.6281 - 0s 22ms/step - loss: 6671.9639 - accuracy: 0.6332 - val_loss: 6264.9937 - val_accuracy: 0.6516\n",
      "Epoch 884/1000\n",
      "23/23 [==============================] - ETA: 0s - loss: 14406.8906 - accuracy: 0.50 - ETA: 0s - loss: 7213.2671 - accuracy: 0.6217 - 0s 12ms/step - loss: 6671.7905 - accuracy: 0.6332 - val_loss: 6264.8330 - val_accuracy: 0.6516\n",
      "Epoch 885/1000\n",
      "23/23 [==============================] - ETA: 0s - loss: 14406.5674 - accuracy: 0.50 - ETA: 0s - loss: 7084.6851 - accuracy: 0.6310 - 0s 11ms/step - loss: 6671.6167 - accuracy: 0.6332 - val_loss: 6264.6714 - val_accuracy: 0.6516\n",
      "Epoch 886/1000\n",
      "23/23 [==============================] - ETA: 0s - loss: 14406.2412 - accuracy: 0.50 - ETA: 0s - loss: 7084.5000 - accuracy: 0.6310 - 0s 20ms/step - loss: 6671.4429 - accuracy: 0.6332 - val_loss: 6264.5103 - val_accuracy: 0.6516\n",
      "Epoch 887/1000\n",
      "23/23 [==============================] - ETA: 0s - loss: 14405.9160 - accuracy: 0.50 - ETA: 0s - loss: 7857.8921 - accuracy: 0.6229 - 0s 15ms/step - loss: 6671.2686 - accuracy: 0.6332 - val_loss: 6264.3501 - val_accuracy: 0.6516\n",
      "Epoch 888/1000\n",
      "23/23 [==============================] - ETA: 0s - loss: 14405.5938 - accuracy: 0.50 - ETA: 0s - loss: 7212.5239 - accuracy: 0.6217 - 0s 16ms/step - loss: 6671.0933 - accuracy: 0.6332 - val_loss: 6264.1885 - val_accuracy: 0.6516\n",
      "Epoch 889/1000\n",
      "23/23 [==============================] - ETA: 0s - loss: 14405.2705 - accuracy: 0.50 - ETA: 0s - loss: 7212.3389 - accuracy: 0.6217 - 0s 15ms/step - loss: 6670.9204 - accuracy: 0.6332 - val_loss: 6264.0273 - val_accuracy: 0.6516\n",
      "Epoch 890/1000\n",
      "23/23 [==============================] - ETA: 0s - loss: 14404.9434 - accuracy: 0.50 - ETA: 0s - loss: 7857.2769 - accuracy: 0.6229 - 0s 12ms/step - loss: 6670.7461 - accuracy: 0.6332 - val_loss: 6263.8667 - val_accuracy: 0.6516\n",
      "Epoch 891/1000\n",
      "23/23 [==============================] - ETA: 0s - loss: 14404.6221 - accuracy: 0.50 - ETA: 0s - loss: 9343.1074 - accuracy: 0.6313 - ETA: 0s - loss: 7573.4077 - accuracy: 0.633 - 1s 23ms/step - loss: 6670.5718 - accuracy: 0.6332 - val_loss: 6263.7056 - val_accuracy: 0.6516\n",
      "Epoch 892/1000\n",
      "23/23 [==============================] - ETA: 0s - loss: 14404.2910 - accuracy: 0.50 - ETA: 0s - loss: 7205.0073 - accuracy: 0.6250 - 0s 15ms/step - loss: 6670.3975 - accuracy: 0.6332 - val_loss: 6263.5454 - val_accuracy: 0.6516\n",
      "Epoch 893/1000\n",
      "23/23 [==============================] - ETA: 0s - loss: 14403.9688 - accuracy: 0.50 - ETA: 0s - loss: 7004.7915 - accuracy: 0.6215 - 1s 23ms/step - loss: 6670.2227 - accuracy: 0.6332 - val_loss: 6263.3843 - val_accuracy: 0.6516\n",
      "Epoch 894/1000\n",
      "23/23 [==============================] - ETA: 0s - loss: 14403.6465 - accuracy: 0.50 - ETA: 0s - loss: 7515.7017 - accuracy: 0.6250 - 0s 17ms/step - loss: 6670.0498 - accuracy: 0.6332 - val_loss: 6263.2236 - val_accuracy: 0.6516\n",
      "Epoch 895/1000\n"
     ]
    },
    {
     "name": "stdout",
     "output_type": "stream",
     "text": [
      "23/23 [==============================] - ETA: 0s - loss: 14403.3203 - accuracy: 0.50 - ETA: 0s - loss: 7905.2153 - accuracy: 0.6298 - 0s 12ms/step - loss: 6669.8750 - accuracy: 0.6332 - val_loss: 6263.0635 - val_accuracy: 0.6516\n",
      "Epoch 896/1000\n",
      "23/23 [==============================] - ETA: 0s - loss: 14402.9961 - accuracy: 0.50 - ETA: 0s - loss: 6669.7002 - accuracy: 0.6332 - 0s 19ms/step - loss: 6669.7002 - accuracy: 0.6332 - val_loss: 6262.9019 - val_accuracy: 0.6516\n",
      "Epoch 897/1000\n",
      "23/23 [==============================] - ETA: 0s - loss: 14402.6709 - accuracy: 0.50 - ETA: 0s - loss: 7204.0820 - accuracy: 0.6250 - 0s 18ms/step - loss: 6669.5273 - accuracy: 0.6332 - val_loss: 6262.7407 - val_accuracy: 0.6516\n",
      "Epoch 898/1000\n",
      "23/23 [==============================] - ETA: 0s - loss: 14402.3457 - accuracy: 0.50 - 0s 10ms/step - loss: 6669.3525 - accuracy: 0.6332 - val_loss: 6262.5801 - val_accuracy: 0.6516\n",
      "Epoch 899/1000\n",
      "23/23 [==============================] - ETA: 0s - loss: 14402.0205 - accuracy: 0.50 - ETA: 0s - loss: 6843.1973 - accuracy: 0.6321 - 0s 10ms/step - loss: 6669.1782 - accuracy: 0.6332 - val_loss: 6262.4185 - val_accuracy: 0.6516\n",
      "Epoch 900/1000\n",
      "23/23 [==============================] - ETA: 0s - loss: 14401.6973 - accuracy: 0.50 - ETA: 0s - loss: 7011.2578 - accuracy: 0.6281 - 0s 12ms/step - loss: 6669.0049 - accuracy: 0.6332 - val_loss: 6262.2578 - val_accuracy: 0.6516\n",
      "Epoch 901/1000\n",
      "23/23 [==============================] - ETA: 0s - loss: 14401.3730 - accuracy: 0.50 - ETA: 0s - loss: 7081.7231 - accuracy: 0.6310 - 0s 12ms/step - loss: 6668.8311 - accuracy: 0.6332 - val_loss: 6262.0962 - val_accuracy: 0.6516\n",
      "Epoch 902/1000\n",
      "23/23 [==============================] - ETA: 0s - loss: 14401.0479 - accuracy: 0.50 - ETA: 0s - loss: 7081.5381 - accuracy: 0.6310 - 1s 22ms/step - loss: 6668.6562 - accuracy: 0.6332 - val_loss: 6261.9365 - val_accuracy: 0.6516\n",
      "Epoch 903/1000\n",
      "23/23 [==============================] - ETA: 0s - loss: 14400.7256 - accuracy: 0.50 - ETA: 0s - loss: 7808.3193 - accuracy: 0.6205 - 0s 12ms/step - loss: 6668.4814 - accuracy: 0.6332 - val_loss: 6261.7749 - val_accuracy: 0.6516\n",
      "Epoch 904/1000\n",
      "23/23 [==============================] - ETA: 0s - loss: 14400.4004 - accuracy: 0.50 - ETA: 0s - loss: 7903.3486 - accuracy: 0.6298 - 0s 12ms/step - loss: 6668.3086 - accuracy: 0.6332 - val_loss: 6261.6138 - val_accuracy: 0.6516\n",
      "Epoch 905/1000\n",
      "23/23 [==============================] - ETA: 0s - loss: 14400.0771 - accuracy: 0.50 - ETA: 0s - loss: 9339.8564 - accuracy: 0.6313 - ETA: 0s - loss: 7903.1411 - accuracy: 0.629 - ETA: 0s - loss: 7209.3667 - accuracy: 0.621 - 1s 22ms/step - loss: 6668.1333 - accuracy: 0.6332 - val_loss: 6261.4536 - val_accuracy: 0.6516\n",
      "Epoch 906/1000\n",
      "23/23 [==============================] - ETA: 0s - loss: 14399.7510 - accuracy: 0.50 - ETA: 0s - loss: 7080.7969 - accuracy: 0.6310 - 0s 12ms/step - loss: 6667.9595 - accuracy: 0.6332 - val_loss: 6261.2925 - val_accuracy: 0.6516\n",
      "Epoch 907/1000\n",
      "23/23 [==============================] - ETA: 0s - loss: 14399.4258 - accuracy: 0.50 - ETA: 0s - loss: 7080.6123 - accuracy: 0.6310 - 0s 12ms/step - loss: 6667.7861 - accuracy: 0.6332 - val_loss: 6261.1309 - val_accuracy: 0.6516\n",
      "Epoch 908/1000\n",
      "23/23 [==============================] - ETA: 0s - loss: 14399.1016 - accuracy: 0.50 - ETA: 0s - loss: 7853.5918 - accuracy: 0.6229 - ETA: 0s - loss: 7009.8062 - accuracy: 0.628 - 1s 23ms/step - loss: 6667.6113 - accuracy: 0.6332 - val_loss: 6260.9707 - val_accuracy: 0.6516\n",
      "Epoch 909/1000\n",
      "23/23 [==============================] - ETA: 0s - loss: 14398.7773 - accuracy: 0.50 - ETA: 0s - loss: 7080.2417 - accuracy: 0.6310 - 0s 11ms/step - loss: 6667.4370 - accuracy: 0.6332 - val_loss: 6260.8105 - val_accuracy: 0.6516\n",
      "Epoch 910/1000\n",
      "23/23 [==============================] - ETA: 0s - loss: 14398.4512 - accuracy: 0.50 - ETA: 0s - loss: 6667.2637 - accuracy: 0.6332 - 0s 11ms/step - loss: 6667.2637 - accuracy: 0.6332 - val_loss: 6260.6494 - val_accuracy: 0.6516\n",
      "Epoch 911/1000\n",
      "23/23 [==============================] - ETA: 0s - loss: 14398.1289 - accuracy: 0.50 - ETA: 0s - loss: 7079.8721 - accuracy: 0.6310 - 0s 11ms/step - loss: 6667.0898 - accuracy: 0.6332 - val_loss: 6260.4878 - val_accuracy: 0.6516\n",
      "Epoch 912/1000\n",
      "23/23 [==============================] - ETA: 0s - loss: 14397.8027 - accuracy: 0.50 - ETA: 0s - loss: 7009.0811 - accuracy: 0.6281 - 1s 24ms/step - loss: 6666.9155 - accuracy: 0.6332 - val_loss: 6260.3262 - val_accuracy: 0.6516\n",
      "Epoch 913/1000\n",
      "23/23 [==============================] - ETA: 0s - loss: 14397.4785 - accuracy: 0.50 - ETA: 0s - loss: 7008.8999 - accuracy: 0.6281 - 0s 11ms/step - loss: 6666.7417 - accuracy: 0.6332 - val_loss: 6260.1655 - val_accuracy: 0.6516\n",
      "Epoch 914/1000\n",
      "23/23 [==============================] - ETA: 0s - loss: 14397.1553 - accuracy: 0.50 - ETA: 0s - loss: 6840.5239 - accuracy: 0.6321 - 0s 11ms/step - loss: 6666.5674 - accuracy: 0.6332 - val_loss: 6260.0044 - val_accuracy: 0.6516\n",
      "Epoch 915/1000\n",
      "23/23 [==============================] - ETA: 0s - loss: 14396.8311 - accuracy: 0.50 - ETA: 0s - loss: 7207.5098 - accuracy: 0.6217 - 0s 16ms/step - loss: 6666.3921 - accuracy: 0.6332 - val_loss: 6259.8442 - val_accuracy: 0.6516\n",
      "Epoch 916/1000\n",
      "23/23 [==============================] - ETA: 0s - loss: 14396.5020 - accuracy: 0.50 - ETA: 0s - loss: 7078.9463 - accuracy: 0.6310 - 0s 12ms/step - loss: 6666.2188 - accuracy: 0.6332 - val_loss: 6259.6836 - val_accuracy: 0.6516\n",
      "Epoch 917/1000\n",
      "23/23 [==============================] - ETA: 0s - loss: 14396.1777 - accuracy: 0.50 - ETA: 0s - loss: 7200.3770 - accuracy: 0.6250 - ETA: 0s - loss: 6666.0449 - accuracy: 0.633 - 1s 23ms/step - loss: 6666.0449 - accuracy: 0.6332 - val_loss: 6259.5215 - val_accuracy: 0.6516\n",
      "Epoch 918/1000\n",
      "23/23 [==============================] - ETA: 0s - loss: 14395.8564 - accuracy: 0.50 - ETA: 0s - loss: 7078.5757 - accuracy: 0.6310 - 0s 12ms/step - loss: 6665.8701 - accuracy: 0.6332 - val_loss: 6259.3613 - val_accuracy: 0.6516\n",
      "Epoch 919/1000\n",
      "23/23 [==============================] - ETA: 0s - loss: 14395.5303 - accuracy: 0.50 - ETA: 0s - loss: 6665.6968 - accuracy: 0.6332 - 0s 12ms/step - loss: 6665.6968 - accuracy: 0.6332 - val_loss: 6259.2002 - val_accuracy: 0.6516\n",
      "Epoch 920/1000\n",
      "23/23 [==============================] - ETA: 0s - loss: 14395.2051 - accuracy: 0.50 - ETA: 0s - loss: 7007.6289 - accuracy: 0.6281 - ETA: 0s - loss: 6839.4536 - accuracy: 0.632 - 1s 24ms/step - loss: 6665.5220 - accuracy: 0.6332 - val_loss: 6259.0391 - val_accuracy: 0.6516\n",
      "Epoch 921/1000\n",
      "23/23 [==============================] - ETA: 0s - loss: 14394.8809 - accuracy: 0.50 - ETA: 0s - loss: 7850.9292 - accuracy: 0.6229 - 0s 12ms/step - loss: 6665.3477 - accuracy: 0.6332 - val_loss: 6258.8784 - val_accuracy: 0.6516\n",
      "Epoch 922/1000\n",
      "23/23 [==============================] - ETA: 0s - loss: 14394.5537 - accuracy: 0.50 - ETA: 0s - loss: 7510.2124 - accuracy: 0.6250 - 0s 12ms/step - loss: 6665.1738 - accuracy: 0.6332 - val_loss: 6258.7178 - val_accuracy: 0.6516\n",
      "Epoch 923/1000\n",
      "23/23 [==============================] - ETA: 0s - loss: 14394.2354 - accuracy: 0.50 - ETA: 0s - loss: 7077.6509 - accuracy: 0.6310 - 0s 19ms/step - loss: 6665.0005 - accuracy: 0.6332 - val_loss: 6258.5562 - val_accuracy: 0.6516\n",
      "Epoch 924/1000\n",
      "23/23 [==============================] - ETA: 0s - loss: 14393.9062 - accuracy: 0.50 - ETA: 0s - loss: 7804.0903 - accuracy: 0.6205 - 0s 15ms/step - loss: 6664.8267 - accuracy: 0.6332 - val_loss: 6258.3955 - val_accuracy: 0.6516\n",
      "Epoch 925/1000\n",
      "23/23 [==============================] - ETA: 0s - loss: 14393.5820 - accuracy: 0.50 - ETA: 0s - loss: 6838.5625 - accuracy: 0.6321 - 0s 11ms/step - loss: 6664.6509 - accuracy: 0.6332 - val_loss: 6258.2339 - val_accuracy: 0.6516\n",
      "Epoch 926/1000\n",
      "23/23 [==============================] - ETA: 0s - loss: 14393.2578 - accuracy: 0.50 - ETA: 0s - loss: 7077.0952 - accuracy: 0.6310 - 0s 12ms/step - loss: 6664.4775 - accuracy: 0.6332 - val_loss: 6258.0737 - val_accuracy: 0.6516\n",
      "Epoch 927/1000\n",
      "23/23 [==============================] - ETA: 0s - loss: 14392.9336 - accuracy: 0.50 - ETA: 0s - loss: 6998.7339 - accuracy: 0.6215 - 1s 23ms/step - loss: 6664.3042 - accuracy: 0.6332 - val_loss: 6257.9131 - val_accuracy: 0.6516\n"
     ]
    },
    {
     "name": "stdout",
     "output_type": "stream",
     "text": [
      "Epoch 928/1000\n",
      "23/23 [==============================] - ETA: 0s - loss: 14392.6123 - accuracy: 0.50 - ETA: 0s - loss: 7205.0972 - accuracy: 0.6217 - 0s 12ms/step - loss: 6664.1299 - accuracy: 0.6332 - val_loss: 6257.7510 - val_accuracy: 0.6516\n",
      "Epoch 929/1000\n",
      "23/23 [==============================] - ETA: 0s - loss: 14392.2852 - accuracy: 0.50 - ETA: 0s - loss: 7005.9976 - accuracy: 0.6281 - 0s 12ms/step - loss: 6663.9565 - accuracy: 0.6332 - val_loss: 6257.5908 - val_accuracy: 0.6516\n",
      "Epoch 930/1000\n",
      "23/23 [==============================] - ETA: 0s - loss: 14391.9590 - accuracy: 0.50 - ETA: 0s - loss: 7076.3550 - accuracy: 0.6310 - 0s 12ms/step - loss: 6663.7808 - accuracy: 0.6332 - val_loss: 6257.4297 - val_accuracy: 0.6516\n",
      "Epoch 931/1000\n",
      "23/23 [==============================] - ETA: 0s - loss: 14391.6367 - accuracy: 0.50 - ETA: 0s - loss: 7005.6343 - accuracy: 0.6281 - 1s 22ms/step - loss: 6663.6074 - accuracy: 0.6332 - val_loss: 6257.2695 - val_accuracy: 0.6516\n",
      "Epoch 932/1000\n",
      "23/23 [==============================] - ETA: 0s - loss: 14391.3125 - accuracy: 0.50 - ETA: 0s - loss: 7075.9858 - accuracy: 0.6310 - 0s 11ms/step - loss: 6663.4341 - accuracy: 0.6332 - val_loss: 6257.1084 - val_accuracy: 0.6516\n",
      "Epoch 933/1000\n",
      "23/23 [==============================] - ETA: 0s - loss: 14390.9854 - accuracy: 0.50 - ETA: 0s - loss: 7802.2773 - accuracy: 0.6205 - 0s 12ms/step - loss: 6663.2588 - accuracy: 0.6332 - val_loss: 6256.9478 - val_accuracy: 0.6516\n",
      "Epoch 934/1000\n",
      "23/23 [==============================] - ETA: 0s - loss: 14390.6621 - accuracy: 0.50 - ETA: 0s - loss: 7005.0889 - accuracy: 0.6281 - 0s 11ms/step - loss: 6663.0845 - accuracy: 0.6332 - val_loss: 6256.7856 - val_accuracy: 0.6516\n",
      "Epoch 935/1000\n",
      "23/23 [==============================] - ETA: 0s - loss: 14390.3359 - accuracy: 0.50 - ETA: 0s - loss: 7197.0439 - accuracy: 0.6250 - 1s 22ms/step - loss: 6662.9111 - accuracy: 0.6332 - val_loss: 6256.6245 - val_accuracy: 0.6516\n",
      "Epoch 936/1000\n",
      "23/23 [==============================] - ETA: 0s - loss: 14390.0137 - accuracy: 0.50 - ETA: 0s - loss: 7203.6118 - accuracy: 0.6217 - 0s 11ms/step - loss: 6662.7363 - accuracy: 0.6332 - val_loss: 6256.4644 - val_accuracy: 0.6516\n",
      "Epoch 937/1000\n",
      "23/23 [==============================] - ETA: 0s - loss: 14389.6875 - accuracy: 0.50 - ETA: 0s - loss: 7004.5459 - accuracy: 0.6281 - 0s 11ms/step - loss: 6662.5625 - accuracy: 0.6332 - val_loss: 6256.3037 - val_accuracy: 0.6516\n",
      "Epoch 938/1000\n",
      "23/23 [==============================] - ETA: 0s - loss: 14389.3633 - accuracy: 0.50 - ETA: 0s - loss: 6836.2466 - accuracy: 0.6321 - 0s 14ms/step - loss: 6662.3887 - accuracy: 0.6332 - val_loss: 6256.1426 - val_accuracy: 0.6516\n",
      "Epoch 939/1000\n",
      "23/23 [==============================] - ETA: 0s - loss: 14389.0410 - accuracy: 0.50 - ETA: 0s - loss: 7506.8799 - accuracy: 0.6250 - ETA: 0s - loss: 7196.3027 - accuracy: 0.625 - ETA: 0s - loss: 7074.6890 - accuracy: 0.631 - 1s 26ms/step - loss: 6662.2139 - accuracy: 0.6332 - val_loss: 6255.9819 - val_accuracy: 0.6516\n",
      "Epoch 940/1000\n",
      "23/23 [==============================] - ETA: 0s - loss: 14388.7168 - accuracy: 0.50 - ETA: 0s - loss: 7074.5044 - accuracy: 0.6310 - 0s 12ms/step - loss: 6662.0405 - accuracy: 0.6332 - val_loss: 6255.8218 - val_accuracy: 0.6516\n",
      "Epoch 941/1000\n",
      "23/23 [==============================] - ETA: 0s - loss: 14388.3887 - accuracy: 0.50 - ETA: 0s - loss: 7074.3179 - accuracy: 0.6310 - 0s 13ms/step - loss: 6661.8657 - accuracy: 0.6332 - val_loss: 6255.6597 - val_accuracy: 0.6516\n",
      "Epoch 942/1000\n",
      "23/23 [==============================] - ETA: 0s - loss: 14388.0645 - accuracy: 0.50 - ETA: 0s - loss: 7074.1338 - accuracy: 0.6310 - 1s 22ms/step - loss: 6661.6914 - accuracy: 0.6332 - val_loss: 6255.4990 - val_accuracy: 0.6516\n",
      "Epoch 943/1000\n",
      "23/23 [==============================] - ETA: 0s - loss: 14387.7383 - accuracy: 0.50 - ETA: 0s - loss: 7003.4570 - accuracy: 0.6281 - 0s 19ms/step - loss: 6661.5171 - accuracy: 0.6332 - val_loss: 6255.3389 - val_accuracy: 0.6516\n",
      "Epoch 944/1000\n",
      "23/23 [==============================] - ETA: 0s - loss: 14387.4150 - accuracy: 0.50 - ETA: 0s - loss: 6835.1768 - accuracy: 0.6321 - 0s 14ms/step - loss: 6661.3438 - accuracy: 0.6332 - val_loss: 6255.1772 - val_accuracy: 0.6516\n",
      "Epoch 945/1000\n",
      "23/23 [==============================] - ETA: 0s - loss: 14387.0879 - accuracy: 0.50 - ETA: 0s - loss: 7003.0947 - accuracy: 0.6281 - 1s 23ms/step - loss: 6661.1699 - accuracy: 0.6332 - val_loss: 6255.0151 - val_accuracy: 0.6516\n",
      "Epoch 946/1000\n",
      "23/23 [==============================] - ETA: 0s - loss: 14386.7627 - accuracy: 0.50 - ETA: 0s - loss: 7195.0073 - accuracy: 0.6250 - 0s 14ms/step - loss: 6660.9966 - accuracy: 0.6332 - val_loss: 6254.8555 - val_accuracy: 0.6516\n",
      "Epoch 947/1000\n",
      "23/23 [==============================] - ETA: 0s - loss: 14386.4424 - accuracy: 0.50 - ETA: 0s - loss: 7002.7314 - accuracy: 0.6281 - 0s 13ms/step - loss: 6660.8208 - accuracy: 0.6332 - val_loss: 6254.6948 - val_accuracy: 0.6516\n",
      "Epoch 948/1000\n",
      "23/23 [==============================] - ETA: 0s - loss: 14386.1191 - accuracy: 0.50 - ETA: 0s - loss: 6834.4629 - accuracy: 0.6321 - 0s 13ms/step - loss: 6660.6470 - accuracy: 0.6332 - val_loss: 6254.5337 - val_accuracy: 0.6516\n",
      "Epoch 949/1000\n",
      "23/23 [==============================] - ETA: 0s - loss: 14385.7910 - accuracy: 0.50 - ETA: 0s - loss: 7002.3696 - accuracy: 0.6281 - 1s 24ms/step - loss: 6660.4736 - accuracy: 0.6332 - val_loss: 6254.3730 - val_accuracy: 0.6516\n",
      "Epoch 950/1000\n",
      "23/23 [==============================] - ETA: 0s - loss: 14385.4658 - accuracy: 0.50 - ETA: 0s - loss: 7002.1875 - accuracy: 0.6281 - 0s 12ms/step - loss: 6660.2988 - accuracy: 0.6332 - val_loss: 6254.2109 - val_accuracy: 0.6516\n",
      "Epoch 951/1000\n",
      "23/23 [==============================] - ETA: 0s - loss: 14385.1455 - accuracy: 0.50 - ETA: 0s - loss: 6994.4565 - accuracy: 0.6215 - 0s 12ms/step - loss: 6660.1245 - accuracy: 0.6332 - val_loss: 6254.0498 - val_accuracy: 0.6516\n",
      "Epoch 952/1000\n",
      "23/23 [==============================] - ETA: 0s - loss: 14384.8174 - accuracy: 0.50 - ETA: 0s - loss: 6659.9512 - accuracy: 0.6332 - 0s 12ms/step - loss: 6659.9512 - accuracy: 0.6332 - val_loss: 6253.8887 - val_accuracy: 0.6516\n",
      "Epoch 953/1000\n",
      "23/23 [==============================] - ETA: 0s - loss: 14384.4922 - accuracy: 0.50 - ETA: 0s - loss: 8315.0625 - accuracy: 0.6406 - ETA: 0s - loss: 7561.3018 - accuracy: 0.633 - ETA: 0s - loss: 7072.0967 - accuracy: 0.631 - 1s 25ms/step - loss: 6659.7759 - accuracy: 0.6332 - val_loss: 6253.7280 - val_accuracy: 0.6516\n",
      "Epoch 954/1000\n",
      "23/23 [==============================] - ETA: 0s - loss: 14384.1699 - accuracy: 0.50 - ETA: 0s - loss: 6659.6030 - accuracy: 0.6332 - 0s 11ms/step - loss: 6659.6030 - accuracy: 0.6332 - val_loss: 6253.5674 - val_accuracy: 0.6516\n",
      "Epoch 955/1000\n",
      "23/23 [==============================] - ETA: 0s - loss: 14383.8447 - accuracy: 0.50 - ETA: 0s - loss: 7001.2812 - accuracy: 0.6281 - 0s 13ms/step - loss: 6659.4287 - accuracy: 0.6332 - val_loss: 6253.4062 - val_accuracy: 0.6516\n",
      "Epoch 956/1000\n",
      "23/23 [==============================] - ETA: 0s - loss: 14383.5195 - accuracy: 0.50 - ETA: 0s - loss: 7001.0986 - accuracy: 0.6281 - 0s 13ms/step - loss: 6659.2539 - accuracy: 0.6332 - val_loss: 6253.2461 - val_accuracy: 0.6516\n",
      "Epoch 957/1000\n",
      "23/23 [==============================] - ETA: 0s - loss: 14383.1973 - accuracy: 0.50 - ETA: 0s - loss: 7071.3569 - accuracy: 0.6310 - 0s 12ms/step - loss: 6659.0811 - accuracy: 0.6332 - val_loss: 6253.0850 - val_accuracy: 0.6516\n",
      "Epoch 958/1000\n",
      "23/23 [==============================] - ETA: 0s - loss: 14382.8691 - accuracy: 0.50 - ETA: 0s - loss: 7892.1479 - accuracy: 0.6298 - ETA: 0s - loss: 7071.1719 - accuracy: 0.631 - 1s 22ms/step - loss: 6658.9058 - accuracy: 0.6332 - val_loss: 6252.9238 - val_accuracy: 0.6516\n",
      "Epoch 959/1000\n",
      "23/23 [==============================] - ETA: 0s - loss: 14382.5469 - accuracy: 0.50 - ETA: 0s - loss: 7070.9873 - accuracy: 0.6310 - 0s 12ms/step - loss: 6658.7324 - accuracy: 0.6332 - val_loss: 6252.7632 - val_accuracy: 0.6516\n",
      "Epoch 960/1000\n",
      "23/23 [==============================] - ETA: 0s - loss: 14382.2236 - accuracy: 0.50 - ETA: 0s - loss: 6832.3247 - accuracy: 0.6321 - 1s 22ms/step - loss: 6658.5576 - accuracy: 0.6332 - val_loss: 6252.6025 - val_accuracy: 0.6516\n"
     ]
    },
    {
     "name": "stdout",
     "output_type": "stream",
     "text": [
      "Epoch 961/1000\n",
      "23/23 [==============================] - ETA: 0s - loss: 14381.8975 - accuracy: 0.50 - ETA: 0s - loss: 7192.2275 - accuracy: 0.6250 - 0s 14ms/step - loss: 6658.3833 - accuracy: 0.6332 - val_loss: 6252.4409 - val_accuracy: 0.6516\n",
      "Epoch 962/1000\n",
      "23/23 [==============================] - ETA: 0s - loss: 14381.5703 - accuracy: 0.50 - ETA: 0s - loss: 6831.9683 - accuracy: 0.6321 - 0s 11ms/step - loss: 6658.2095 - accuracy: 0.6332 - val_loss: 6252.2808 - val_accuracy: 0.6516\n",
      "Epoch 963/1000\n",
      "23/23 [==============================] - ETA: 0s - loss: 14381.2480 - accuracy: 0.50 - ETA: 0s - loss: 6999.8291 - accuracy: 0.6281 - 0s 11ms/step - loss: 6658.0352 - accuracy: 0.6332 - val_loss: 6252.1196 - val_accuracy: 0.6516\n",
      "Epoch 964/1000\n",
      "23/23 [==============================] - ETA: 0s - loss: 14380.9238 - accuracy: 0.50 - ETA: 0s - loss: 7796.0322 - accuracy: 0.6205 - 1s 22ms/step - loss: 6657.8608 - accuracy: 0.6332 - val_loss: 6251.9585 - val_accuracy: 0.6516\n",
      "Epoch 965/1000\n",
      "23/23 [==============================] - ETA: 0s - loss: 14380.5996 - accuracy: 0.50 - ETA: 0s - loss: 7501.7842 - accuracy: 0.6250 - 0s 13ms/step - loss: 6657.6875 - accuracy: 0.6332 - val_loss: 6251.7983 - val_accuracy: 0.6516\n",
      "Epoch 966/1000\n",
      "23/23 [==============================] - ETA: 0s - loss: 14380.2764 - accuracy: 0.50 - ETA: 0s - loss: 7069.6919 - accuracy: 0.6310 - 0s 16ms/step - loss: 6657.5142 - accuracy: 0.6332 - val_loss: 6251.6362 - val_accuracy: 0.6516\n",
      "Epoch 967/1000\n",
      "23/23 [==============================] - ETA: 0s - loss: 14379.9492 - accuracy: 0.50 - ETA: 0s - loss: 7841.5112 - accuracy: 0.6229 - 1s 23ms/step - loss: 6657.3384 - accuracy: 0.6332 - val_loss: 6251.4756 - val_accuracy: 0.6516\n",
      "Epoch 968/1000\n",
      "23/23 [==============================] - ETA: 0s - loss: 14379.6240 - accuracy: 0.50 - ETA: 0s - loss: 7190.9316 - accuracy: 0.6250 - 0s 21ms/step - loss: 6657.1646 - accuracy: 0.6332 - val_loss: 6251.3140 - val_accuracy: 0.6516\n",
      "Epoch 969/1000\n",
      "23/23 [==============================] - ETA: 0s - loss: 14379.2998 - accuracy: 0.50 - ETA: 0s - loss: 7069.1353 - accuracy: 0.6310 - 0s 12ms/step - loss: 6656.9907 - accuracy: 0.6332 - val_loss: 6251.1533 - val_accuracy: 0.6516\n",
      "Epoch 970/1000\n",
      "23/23 [==============================] - ETA: 0s - loss: 14378.9785 - accuracy: 0.50 - ETA: 0s - loss: 6656.8154 - accuracy: 0.6332 - 0s 13ms/step - loss: 6656.8154 - accuracy: 0.6332 - val_loss: 6250.9932 - val_accuracy: 0.6516\n",
      "Epoch 971/1000\n",
      "23/23 [==============================] - ETA: 0s - loss: 14378.6514 - accuracy: 0.50 - ETA: 0s - loss: 7794.6221 - accuracy: 0.6205 - 0s 19ms/step - loss: 6656.6421 - accuracy: 0.6332 - val_loss: 6250.8320 - val_accuracy: 0.6516\n",
      "Epoch 972/1000\n",
      "23/23 [==============================] - ETA: 0s - loss: 14378.3262 - accuracy: 0.50 - ETA: 0s - loss: 6998.1968 - accuracy: 0.6281 - 0s 11ms/step - loss: 6656.4688 - accuracy: 0.6332 - val_loss: 6250.6719 - val_accuracy: 0.6516\n",
      "Epoch 973/1000\n",
      "23/23 [==============================] - ETA: 0s - loss: 14378.0039 - accuracy: 0.50 - ETA: 0s - loss: 6830.0078 - accuracy: 0.6321 - 0s 11ms/step - loss: 6656.2939 - accuracy: 0.6332 - val_loss: 6250.5107 - val_accuracy: 0.6516\n",
      "Epoch 974/1000\n",
      "23/23 [==============================] - ETA: 0s - loss: 14377.6797 - accuracy: 0.50 - ETA: 0s - loss: 7068.2104 - accuracy: 0.6310 - 0s 13ms/step - loss: 6656.1201 - accuracy: 0.6332 - val_loss: 6250.3481 - val_accuracy: 0.6516\n",
      "Epoch 975/1000\n",
      "23/23 [==============================] - ETA: 0s - loss: 14377.3525 - accuracy: 0.50 - ETA: 0s - loss: 7888.6216 - accuracy: 0.6298 - ETA: 0s - loss: 6655.9458 - accuracy: 0.633 - 0s 22ms/step - loss: 6655.9458 - accuracy: 0.6332 - val_loss: 6250.1885 - val_accuracy: 0.6516\n",
      "Epoch 976/1000\n",
      "23/23 [==============================] - ETA: 0s - loss: 14377.0293 - accuracy: 0.50 - ETA: 0s - loss: 6997.4712 - accuracy: 0.6281 - 0s 12ms/step - loss: 6655.7710 - accuracy: 0.6332 - val_loss: 6250.0269 - val_accuracy: 0.6516\n",
      "Epoch 977/1000\n",
      "23/23 [==============================] - ETA: 0s - loss: 14376.7061 - accuracy: 0.50 - ETA: 0s - loss: 7067.6553 - accuracy: 0.6310 - 0s 20ms/step - loss: 6655.5986 - accuracy: 0.6332 - val_loss: 6249.8667 - val_accuracy: 0.6516\n",
      "Epoch 978/1000\n",
      "23/23 [==============================] - ETA: 0s - loss: 14376.3789 - accuracy: 0.50 - 0s 20ms/step - loss: 6655.4238 - accuracy: 0.6332 - val_loss: 6249.7051 - val_accuracy: 0.6516\n",
      "Epoch 979/1000\n",
      "23/23 [==============================] - ETA: 0s - loss: 14376.0566 - accuracy: 0.50 - ETA: 0s - loss: 7499.0405 - accuracy: 0.6250 - 0s 13ms/step - loss: 6655.2505 - accuracy: 0.6332 - val_loss: 6249.5449 - val_accuracy: 0.6516\n",
      "Epoch 980/1000\n",
      "23/23 [==============================] - ETA: 0s - loss: 14375.7314 - accuracy: 0.50 - 0s 11ms/step - loss: 6655.0752 - accuracy: 0.6332 - val_loss: 6249.3833 - val_accuracy: 0.6516\n",
      "Epoch 981/1000\n",
      "23/23 [==============================] - ETA: 0s - loss: 14375.4043 - accuracy: 0.50 - ETA: 0s - loss: 6996.5649 - accuracy: 0.6281 - 0s 12ms/step - loss: 6654.9014 - accuracy: 0.6332 - val_loss: 6249.2212 - val_accuracy: 0.6516\n",
      "Epoch 982/1000\n",
      "23/23 [==============================] - ETA: 0s - loss: 14375.0811 - accuracy: 0.50 - ETA: 0s - loss: 7188.3389 - accuracy: 0.6250 - 1s 24ms/step - loss: 6654.7271 - accuracy: 0.6332 - val_loss: 6249.0615 - val_accuracy: 0.6516\n",
      "Epoch 983/1000\n",
      "23/23 [==============================] - ETA: 0s - loss: 14374.7578 - accuracy: 0.50 - ETA: 0s - loss: 6996.2002 - accuracy: 0.6281 - 0s 12ms/step - loss: 6654.5518 - accuracy: 0.6332 - val_loss: 6248.8999 - val_accuracy: 0.6516\n",
      "Epoch 984/1000\n",
      "23/23 [==============================] - ETA: 0s - loss: 14374.4297 - accuracy: 0.50 - ETA: 0s - loss: 6828.0474 - accuracy: 0.6321 - 0s 12ms/step - loss: 6654.3799 - accuracy: 0.6332 - val_loss: 6248.7397 - val_accuracy: 0.6516\n",
      "Epoch 985/1000\n",
      "23/23 [==============================] - ETA: 0s - loss: 14374.1074 - accuracy: 0.50 - ETA: 0s - loss: 6827.8677 - accuracy: 0.6321 - 0s 11ms/step - loss: 6654.2036 - accuracy: 0.6332 - val_loss: 6248.5776 - val_accuracy: 0.6516\n",
      "Epoch 986/1000\n",
      "23/23 [==============================] - ETA: 0s - loss: 14373.7842 - accuracy: 0.50 - ETA: 0s - loss: 7791.6011 - accuracy: 0.6205 - 0s 13ms/step - loss: 6654.0308 - accuracy: 0.6332 - val_loss: 6248.4180 - val_accuracy: 0.6516\n",
      "Epoch 987/1000\n",
      "23/23 [==============================] - ETA: 0s - loss: 14373.4570 - accuracy: 0.50 - ETA: 0s - loss: 6995.4756 - accuracy: 0.6281 - ETA: 0s - loss: 7065.8037 - accuracy: 0.631 - 1s 23ms/step - loss: 6653.8564 - accuracy: 0.6332 - val_loss: 6248.2563 - val_accuracy: 0.6516\n",
      "Epoch 988/1000\n",
      "23/23 [==============================] - ETA: 0s - loss: 14373.1318 - accuracy: 0.50 - ETA: 0s - loss: 6827.3340 - accuracy: 0.6321 - 0s 12ms/step - loss: 6653.6826 - accuracy: 0.6332 - val_loss: 6248.0962 - val_accuracy: 0.6516\n",
      "Epoch 989/1000\n",
      "23/23 [==============================] - ETA: 0s - loss: 14372.8057 - accuracy: 0.50 - ETA: 0s - loss: 6653.5083 - accuracy: 0.6332 - 0s 12ms/step - loss: 6653.5083 - accuracy: 0.6332 - val_loss: 6247.9355 - val_accuracy: 0.6516\n",
      "Epoch 990/1000\n",
      "23/23 [==============================] - ETA: 0s - loss: 14372.4834 - accuracy: 0.50 - ETA: 0s - loss: 6826.9771 - accuracy: 0.6321 - 1s 23ms/step - loss: 6653.3345 - accuracy: 0.6332 - val_loss: 6247.7744 - val_accuracy: 0.6516\n",
      "Epoch 991/1000\n",
      "23/23 [==============================] - ETA: 0s - loss: 14372.1582 - accuracy: 0.50 - ETA: 0s - loss: 7065.0625 - accuracy: 0.6310 - 0s 13ms/step - loss: 6653.1597 - accuracy: 0.6332 - val_loss: 6247.6138 - val_accuracy: 0.6516\n",
      "Epoch 992/1000\n",
      "23/23 [==============================] - ETA: 0s - loss: 14371.8340 - accuracy: 0.50 - ETA: 0s - loss: 6994.5693 - accuracy: 0.6281 - 0s 12ms/step - loss: 6652.9863 - accuracy: 0.6332 - val_loss: 6247.4526 - val_accuracy: 0.6516\n",
      "Epoch 993/1000\n",
      "23/23 [==============================] - ETA: 0s - loss: 14371.5117 - accuracy: 0.50 - ETA: 0s - loss: 6994.3882 - accuracy: 0.6281 - 1s 22ms/step - loss: 6652.8125 - accuracy: 0.6332 - val_loss: 6247.2910 - val_accuracy: 0.6516\n",
      "Epoch 994/1000\n"
     ]
    },
    {
     "name": "stdout",
     "output_type": "stream",
     "text": [
      "23/23 [==============================] - ETA: 0s - loss: 14371.1875 - accuracy: 0.50 - ETA: 0s - loss: 7186.1162 - accuracy: 0.6250 - 0s 17ms/step - loss: 6652.6387 - accuracy: 0.6332 - val_loss: 6247.1299 - val_accuracy: 0.6516\n",
      "Epoch 995/1000\n",
      "23/23 [==============================] - ETA: 0s - loss: 14370.8604 - accuracy: 0.50 - ETA: 0s - loss: 6986.6172 - accuracy: 0.6215 - 0s 12ms/step - loss: 6652.4648 - accuracy: 0.6332 - val_loss: 6246.9707 - val_accuracy: 0.6516\n",
      "Epoch 996/1000\n",
      "23/23 [==============================] - ETA: 0s - loss: 14370.5361 - accuracy: 0.50 - ETA: 0s - loss: 6825.9082 - accuracy: 0.6321 - 0s 12ms/step - loss: 6652.2900 - accuracy: 0.6332 - val_loss: 6246.8091 - val_accuracy: 0.6516\n",
      "Epoch 997/1000\n",
      "23/23 [==============================] - ETA: 0s - loss: 14370.2109 - accuracy: 0.50 - ETA: 0s - loss: 6825.7300 - accuracy: 0.6321 - 1s 22ms/step - loss: 6652.1162 - accuracy: 0.6332 - val_loss: 6246.6470 - val_accuracy: 0.6516\n",
      "Epoch 998/1000\n",
      "23/23 [==============================] - ETA: 0s - loss: 14369.8896 - accuracy: 0.50 - 0s 11ms/step - loss: 6651.9409 - accuracy: 0.6332 - val_loss: 6246.4873 - val_accuracy: 0.6516\n",
      "Epoch 999/1000\n",
      "23/23 [==============================] - ETA: 0s - loss: 14369.5625 - accuracy: 0.50 - ETA: 0s - loss: 7063.5825 - accuracy: 0.6310 - 0s 11ms/step - loss: 6651.7676 - accuracy: 0.6332 - val_loss: 6246.3257 - val_accuracy: 0.6516\n",
      "Epoch 1000/1000\n",
      "23/23 [==============================] - ETA: 0s - loss: 14369.2412 - accuracy: 0.50 - ETA: 0s - loss: 7063.3975 - accuracy: 0.6310 - 0s 13ms/step - loss: 6651.5938 - accuracy: 0.6332 - val_loss: 6246.1641 - val_accuracy: 0.6516\n"
     ]
    },
    {
     "data": {
      "text/html": [
       "<span style=\"color:#4527A0\"><h1 style=\"font-size:18px\">Trial complete</h1></span>"
      ],
      "text/plain": [
       "<IPython.core.display.HTML object>"
      ]
     },
     "metadata": {},
     "output_type": "display_data"
    },
    {
     "data": {
      "text/html": [
       "<span style=\"color:#4527A0\"><h1 style=\"font-size:18px\">Trial summary</h1></span>"
      ],
      "text/plain": [
       "<IPython.core.display.HTML object>"
      ]
     },
     "metadata": {},
     "output_type": "display_data"
    },
    {
     "data": {
      "text/html": [
       "<span style=\"color:cyan\"> |-Trial ID: 444b462e321f923fef9ed98b782e8657</span>"
      ],
      "text/plain": [
       "<IPython.core.display.HTML object>"
      ]
     },
     "metadata": {},
     "output_type": "display_data"
    },
    {
     "data": {
      "text/html": [
       "<span style=\"color:cyan\"> |-Score: 0.6516128778457642</span>"
      ],
      "text/plain": [
       "<IPython.core.display.HTML object>"
      ]
     },
     "metadata": {},
     "output_type": "display_data"
    },
    {
     "data": {
      "text/html": [
       "<span style=\"color:cyan\"> |-Best step: 507</span>"
      ],
      "text/plain": [
       "<IPython.core.display.HTML object>"
      ]
     },
     "metadata": {},
     "output_type": "display_data"
    },
    {
     "data": {
      "text/html": [
       "<span style=\"color:#7E57C2\"><h2 style=\"font-size:16px\">Hyperparameters:</h2></span>"
      ],
      "text/plain": [
       "<IPython.core.display.HTML object>"
      ]
     },
     "metadata": {},
     "output_type": "display_data"
    },
    {
     "data": {
      "text/html": [
       "<span style=\"color:cyan\"> |-classification_head_2/dropout: 0</span>"
      ],
      "text/plain": [
       "<IPython.core.display.HTML object>"
      ]
     },
     "metadata": {},
     "output_type": "display_data"
    },
    {
     "data": {
      "text/html": [
       "<span style=\"color:blue\"> |-learning_rate: 1e-05</span>"
      ],
      "text/plain": [
       "<IPython.core.display.HTML object>"
      ]
     },
     "metadata": {},
     "output_type": "display_data"
    },
    {
     "data": {
      "text/html": [
       "<span style=\"color:cyan\"> |-optimizer: adadelta</span>"
      ],
      "text/plain": [
       "<IPython.core.display.HTML object>"
      ]
     },
     "metadata": {},
     "output_type": "display_data"
    },
    {
     "data": {
      "text/html": [
       "<span style=\"color:blue\"> |-structured_data_block_2/dense_block_1/dropout: 0.0</span>"
      ],
      "text/plain": [
       "<IPython.core.display.HTML object>"
      ]
     },
     "metadata": {},
     "output_type": "display_data"
    },
    {
     "data": {
      "text/html": [
       "<span style=\"color:cyan\"> |-structured_data_block_2/dense_block_1/num_layers: 1</span>"
      ],
      "text/plain": [
       "<IPython.core.display.HTML object>"
      ]
     },
     "metadata": {},
     "output_type": "display_data"
    },
    {
     "data": {
      "text/html": [
       "<span style=\"color:blue\"> |-structured_data_block_2/dense_block_1/units_0: 128</span>"
      ],
      "text/plain": [
       "<IPython.core.display.HTML object>"
      ]
     },
     "metadata": {},
     "output_type": "display_data"
    },
    {
     "data": {
      "text/html": [
       "<span style=\"color:cyan\"> |-structured_data_block_2/dense_block_1/units_1: 128</span>"
      ],
      "text/plain": [
       "<IPython.core.display.HTML object>"
      ]
     },
     "metadata": {},
     "output_type": "display_data"
    },
    {
     "data": {
      "text/html": [
       "<span style=\"color:blue\"> |-structured_data_block_2/dense_block_1/units_2: 256</span>"
      ],
      "text/plain": [
       "<IPython.core.display.HTML object>"
      ]
     },
     "metadata": {},
     "output_type": "display_data"
    },
    {
     "data": {
      "text/html": [
       "<span style=\"color:cyan\"> |-structured_data_block_2/dense_block_1/use_batchnorm: False</span>"
      ],
      "text/plain": [
       "<IPython.core.display.HTML object>"
      ]
     },
     "metadata": {},
     "output_type": "display_data"
    },
    {
     "data": {
      "text/html": [
       "<span style=\"color:#4527A0\"><h1 style=\"font-size:18px\">Starting new trial</h1></span>"
      ],
      "text/plain": [
       "<IPython.core.display.HTML object>"
      ]
     },
     "metadata": {},
     "output_type": "display_data"
    },
    {
     "name": "stdout",
     "output_type": "stream",
     "text": [
      "Epoch 1/1000\n",
      "23/23 [==============================] - ETA: 0s - loss: 0.7142 - accuracy: 0.56 - ETA: 0s - loss: 0.8110 - accuracy: 0.50 - ETA: 0s - loss: 0.7933 - accuracy: 0.52 - 1s 30ms/step - loss: 0.7961 - accuracy: 0.5299 - val_loss: 0.6560 - val_accuracy: 0.6839\n",
      "Epoch 2/1000\n",
      "23/23 [==============================] - ETA: 0s - loss: 0.9002 - accuracy: 0.50 - ETA: 0s - loss: 0.7455 - accuracy: 0.57 - ETA: 0s - loss: 0.7363 - accuracy: 0.56 - ETA: 0s - loss: 0.7293 - accuracy: 0.57 - 0s 12ms/step - loss: 0.7293 - accuracy: 0.5761 - val_loss: 0.6636 - val_accuracy: 0.7032\n",
      "Epoch 3/1000\n",
      "23/23 [==============================] - ETA: 0s - loss: 0.7593 - accuracy: 0.43 - ETA: 0s - loss: 0.7422 - accuracy: 0.59 - ETA: 0s - loss: 0.7431 - accuracy: 0.58 - 0s 11ms/step - loss: 0.7267 - accuracy: 0.6019 - val_loss: 0.6538 - val_accuracy: 0.7161\n",
      "Epoch 4/1000\n",
      "23/23 [==============================] - ETA: 0s - loss: 0.7375 - accuracy: 0.50 - ETA: 0s - loss: 0.7965 - accuracy: 0.54 - ETA: 0s - loss: 0.7660 - accuracy: 0.55 - 0s 10ms/step - loss: 0.7492 - accuracy: 0.5774 - val_loss: 0.6486 - val_accuracy: 0.7032\n",
      "Epoch 5/1000\n",
      "23/23 [==============================] - ETA: 0s - loss: 0.8984 - accuracy: 0.50 - ETA: 0s - loss: 0.7611 - accuracy: 0.58 - ETA: 0s - loss: 0.7844 - accuracy: 0.57 - ETA: 0s - loss: 0.7679 - accuracy: 0.58 - ETA: 0s - loss: 0.7526 - accuracy: 0.58 - 0s 19ms/step - loss: 0.7434 - accuracy: 0.5870 - val_loss: 0.6434 - val_accuracy: 0.6774\n",
      "Epoch 6/1000\n",
      "23/23 [==============================] - ETA: 0s - loss: 0.6966 - accuracy: 0.56 - ETA: 0s - loss: 0.7323 - accuracy: 0.57 - ETA: 0s - loss: 0.7360 - accuracy: 0.57 - 0s 12ms/step - loss: 0.7244 - accuracy: 0.5842 - val_loss: 0.6338 - val_accuracy: 0.6968\n",
      "Epoch 7/1000\n",
      "23/23 [==============================] - ETA: 0s - loss: 0.7323 - accuracy: 0.62 - ETA: 0s - loss: 0.7244 - accuracy: 0.59 - ETA: 0s - loss: 0.7152 - accuracy: 0.59 - 0s 12ms/step - loss: 0.6943 - accuracy: 0.6182 - val_loss: 0.6403 - val_accuracy: 0.6323\n",
      "Epoch 8/1000\n",
      "23/23 [==============================] - ETA: 0s - loss: 0.9369 - accuracy: 0.56 - ETA: 0s - loss: 0.6980 - accuracy: 0.60 - ETA: 0s - loss: 0.7261 - accuracy: 0.58 - ETA: 0s - loss: 0.7215 - accuracy: 0.59 - 0s 17ms/step - loss: 0.7099 - accuracy: 0.6073 - val_loss: 0.6431 - val_accuracy: 0.6194\n",
      "Epoch 9/1000\n",
      "23/23 [==============================] - ETA: 0s - loss: 0.8406 - accuracy: 0.50 - ETA: 0s - loss: 0.7452 - accuracy: 0.59 - ETA: 0s - loss: 0.7461 - accuracy: 0.56 - ETA: 0s - loss: 0.7001 - accuracy: 0.60 - 0s 15ms/step - loss: 0.7001 - accuracy: 0.6046 - val_loss: 0.6363 - val_accuracy: 0.6129\n",
      "Epoch 10/1000\n",
      "23/23 [==============================] - ETA: 0s - loss: 0.7101 - accuracy: 0.53 - ETA: 0s - loss: 0.7275 - accuracy: 0.57 - ETA: 0s - loss: 0.7012 - accuracy: 0.58 - 0s 16ms/step - loss: 0.6965 - accuracy: 0.6005 - val_loss: 0.6319 - val_accuracy: 0.6645\n",
      "Epoch 11/1000\n",
      "23/23 [==============================] - ETA: 0s - loss: 0.7283 - accuracy: 0.53 - ETA: 0s - loss: 0.6967 - accuracy: 0.58 - ETA: 0s - loss: 0.7164 - accuracy: 0.61 - ETA: 0s - loss: 0.7108 - accuracy: 0.61 - ETA: 0s - loss: 0.6888 - accuracy: 0.61 - 0s 18ms/step - loss: 0.6753 - accuracy: 0.6209 - val_loss: 0.6134 - val_accuracy: 0.6839\n",
      "Epoch 12/1000\n",
      "23/23 [==============================] - ETA: 0s - loss: 0.8213 - accuracy: 0.43 - ETA: 0s - loss: 0.7350 - accuracy: 0.61 - ETA: 0s - loss: 0.7268 - accuracy: 0.60 - 0s 13ms/step - loss: 0.7146 - accuracy: 0.6155 - val_loss: 0.6187 - val_accuracy: 0.6710\n",
      "Epoch 13/1000\n",
      "23/23 [==============================] - ETA: 0s - loss: 0.8767 - accuracy: 0.50 - ETA: 0s - loss: 0.7341 - accuracy: 0.59 - ETA: 0s - loss: 0.7187 - accuracy: 0.59 - 0s 12ms/step - loss: 0.6961 - accuracy: 0.6060 - val_loss: 0.6147 - val_accuracy: 0.6839\n",
      "Epoch 14/1000\n",
      "23/23 [==============================] - ETA: 0s - loss: 0.8436 - accuracy: 0.53 - ETA: 0s - loss: 0.7310 - accuracy: 0.56 - ETA: 0s - loss: 0.7123 - accuracy: 0.59 - 0s 17ms/step - loss: 0.7014 - accuracy: 0.6087 - val_loss: 0.6219 - val_accuracy: 0.6774\n",
      "Epoch 15/1000\n",
      "23/23 [==============================] - ETA: 0s - loss: 0.6453 - accuracy: 0.62 - ETA: 0s - loss: 0.6864 - accuracy: 0.60 - ETA: 0s - loss: 0.6755 - accuracy: 0.61 - 0s 13ms/step - loss: 0.6679 - accuracy: 0.6291 - val_loss: 0.6202 - val_accuracy: 0.6774\n",
      "Epoch 16/1000\n",
      "23/23 [==============================] - ETA: 0s - loss: 0.7751 - accuracy: 0.56 - ETA: 0s - loss: 0.7018 - accuracy: 0.62 - ETA: 0s - loss: 0.7116 - accuracy: 0.61 - 0s 13ms/step - loss: 0.6957 - accuracy: 0.6264 - val_loss: 0.6144 - val_accuracy: 0.6774\n",
      "Epoch 17/1000\n",
      "23/23 [==============================] - ETA: 0s - loss: 0.7469 - accuracy: 0.56 - ETA: 0s - loss: 0.7252 - accuracy: 0.60 - ETA: 0s - loss: 0.7231 - accuracy: 0.61 - ETA: 0s - loss: 0.7238 - accuracy: 0.61 - 0s 18ms/step - loss: 0.7100 - accuracy: 0.6223 - val_loss: 0.6022 - val_accuracy: 0.6968\n",
      "Epoch 18/1000\n",
      "23/23 [==============================] - ETA: 0s - loss: 0.6459 - accuracy: 0.56 - ETA: 0s - loss: 0.7319 - accuracy: 0.59 - ETA: 0s - loss: 0.7248 - accuracy: 0.57 - ETA: 0s - loss: 0.7034 - accuracy: 0.59 - 0s 15ms/step - loss: 0.7006 - accuracy: 0.5992 - val_loss: 0.6001 - val_accuracy: 0.6903\n",
      "Epoch 19/1000\n",
      "23/23 [==============================] - ETA: 0s - loss: 0.8684 - accuracy: 0.46 - ETA: 0s - loss: 0.7265 - accuracy: 0.58 - ETA: 0s - loss: 0.7343 - accuracy: 0.59 - 0s 13ms/step - loss: 0.7075 - accuracy: 0.6128 - val_loss: 0.6012 - val_accuracy: 0.6968\n",
      "Epoch 20/1000\n",
      "23/23 [==============================] - ETA: 0s - loss: 1.0230 - accuracy: 0.53 - ETA: 0s - loss: 0.7248 - accuracy: 0.60 - ETA: 0s - loss: 0.6981 - accuracy: 0.61 - 0s 17ms/step - loss: 0.6839 - accuracy: 0.6182 - val_loss: 0.6069 - val_accuracy: 0.6903\n",
      "Epoch 21/1000\n",
      "23/23 [==============================] - ETA: 0s - loss: 0.7043 - accuracy: 0.56 - ETA: 0s - loss: 0.6999 - accuracy: 0.60 - ETA: 0s - loss: 0.7165 - accuracy: 0.57 - ETA: 0s - loss: 0.6933 - accuracy: 0.59 - 0s 15ms/step - loss: 0.6765 - accuracy: 0.6223 - val_loss: 0.6068 - val_accuracy: 0.6968\n",
      "Epoch 22/1000\n",
      "23/23 [==============================] - ETA: 0s - loss: 0.7191 - accuracy: 0.56 - ETA: 0s - loss: 0.7040 - accuracy: 0.62 - ETA: 0s - loss: 0.6881 - accuracy: 0.61 - 0s 15ms/step - loss: 0.6711 - accuracy: 0.6399 - val_loss: 0.6045 - val_accuracy: 0.6968\n",
      "Epoch 23/1000\n",
      "23/23 [==============================] - ETA: 0s - loss: 0.8567 - accuracy: 0.46 - ETA: 0s - loss: 0.7314 - accuracy: 0.59 - ETA: 0s - loss: 0.7289 - accuracy: 0.59 - 0s 18ms/step - loss: 0.7029 - accuracy: 0.6087 - val_loss: 0.6054 - val_accuracy: 0.6903\n",
      "Epoch 24/1000\n",
      "23/23 [==============================] - ETA: 0s - loss: 0.6737 - accuracy: 0.53 - ETA: 0s - loss: 0.6687 - accuracy: 0.61 - ETA: 0s - loss: 0.6754 - accuracy: 0.60 - 0s 14ms/step - loss: 0.6660 - accuracy: 0.6250 - val_loss: 0.6098 - val_accuracy: 0.6839\n",
      "Epoch 25/1000\n",
      "23/23 [==============================] - ETA: 0s - loss: 0.7077 - accuracy: 0.56 - ETA: 0s - loss: 0.7234 - accuracy: 0.58 - ETA: 0s - loss: 0.7027 - accuracy: 0.60 - ETA: 0s - loss: 0.6928 - accuracy: 0.61 - 0s 14ms/step - loss: 0.6928 - accuracy: 0.6128 - val_loss: 0.6049 - val_accuracy: 0.6903\n",
      "Epoch 26/1000\n",
      "23/23 [==============================] - ETA: 0s - loss: 0.7127 - accuracy: 0.56 - ETA: 0s - loss: 0.6876 - accuracy: 0.61 - ETA: 0s - loss: 0.6806 - accuracy: 0.61 - ETA: 0s - loss: 0.6758 - accuracy: 0.62 - 0s 16ms/step - loss: 0.6775 - accuracy: 0.6223 - val_loss: 0.6088 - val_accuracy: 0.6903\n",
      "Epoch 27/1000\n",
      "23/23 [==============================] - ETA: 0s - loss: 0.8236 - accuracy: 0.50 - ETA: 0s - loss: 0.6919 - accuracy: 0.61 - ETA: 0s - loss: 0.6843 - accuracy: 0.62 - 0s 14ms/step - loss: 0.6706 - accuracy: 0.6386 - val_loss: 0.6008 - val_accuracy: 0.6968\n",
      "Epoch 28/1000\n",
      "23/23 [==============================] - ETA: 0s - loss: 0.7432 - accuracy: 0.53 - ETA: 0s - loss: 0.6781 - accuracy: 0.59 - ETA: 0s - loss: 0.6736 - accuracy: 0.61 - 0s 13ms/step - loss: 0.6655 - accuracy: 0.6250 - val_loss: 0.6014 - val_accuracy: 0.6968\n"
     ]
    },
    {
     "data": {
      "text/html": [
       "<span style=\"color:#4527A0\"><h1 style=\"font-size:18px\">Trial complete</h1></span>"
      ],
      "text/plain": [
       "<IPython.core.display.HTML object>"
      ]
     },
     "metadata": {},
     "output_type": "display_data"
    },
    {
     "data": {
      "text/html": [
       "<span style=\"color:#4527A0\"><h1 style=\"font-size:18px\">Trial summary</h1></span>"
      ],
      "text/plain": [
       "<IPython.core.display.HTML object>"
      ]
     },
     "metadata": {},
     "output_type": "display_data"
    },
    {
     "data": {
      "text/html": [
       "<span style=\"color:cyan\"> |-Trial ID: 7f25bb73ef9807883d0964c822650519</span>"
      ],
      "text/plain": [
       "<IPython.core.display.HTML object>"
      ]
     },
     "metadata": {},
     "output_type": "display_data"
    },
    {
     "data": {
      "text/html": [
       "<span style=\"color:cyan\"> |-Score: 0.7161290049552917</span>"
      ],
      "text/plain": [
       "<IPython.core.display.HTML object>"
      ]
     },
     "metadata": {},
     "output_type": "display_data"
    },
    {
     "data": {
      "text/html": [
       "<span style=\"color:cyan\"> |-Best step: 2</span>"
      ],
      "text/plain": [
       "<IPython.core.display.HTML object>"
      ]
     },
     "metadata": {},
     "output_type": "display_data"
    },
    {
     "data": {
      "text/html": [
       "<span style=\"color:#7E57C2\"><h2 style=\"font-size:16px\">Hyperparameters:</h2></span>"
      ],
      "text/plain": [
       "<IPython.core.display.HTML object>"
      ]
     },
     "metadata": {},
     "output_type": "display_data"
    },
    {
     "data": {
      "text/html": [
       "<span style=\"color:cyan\"> |-classification_head_2/dropout: 0</span>"
      ],
      "text/plain": [
       "<IPython.core.display.HTML object>"
      ]
     },
     "metadata": {},
     "output_type": "display_data"
    },
    {
     "data": {
      "text/html": [
       "<span style=\"color:blue\"> |-learning_rate: 0.001</span>"
      ],
      "text/plain": [
       "<IPython.core.display.HTML object>"
      ]
     },
     "metadata": {},
     "output_type": "display_data"
    },
    {
     "data": {
      "text/html": [
       "<span style=\"color:cyan\"> |-optimizer: adam</span>"
      ],
      "text/plain": [
       "<IPython.core.display.HTML object>"
      ]
     },
     "metadata": {},
     "output_type": "display_data"
    },
    {
     "data": {
      "text/html": [
       "<span style=\"color:blue\"> |-structured_data_block_2/dense_block_1/dropout: 0.5</span>"
      ],
      "text/plain": [
       "<IPython.core.display.HTML object>"
      ]
     },
     "metadata": {},
     "output_type": "display_data"
    },
    {
     "data": {
      "text/html": [
       "<span style=\"color:cyan\"> |-structured_data_block_2/dense_block_1/num_layers: 3</span>"
      ],
      "text/plain": [
       "<IPython.core.display.HTML object>"
      ]
     },
     "metadata": {},
     "output_type": "display_data"
    },
    {
     "data": {
      "text/html": [
       "<span style=\"color:blue\"> |-structured_data_block_2/dense_block_1/units_0: 512</span>"
      ],
      "text/plain": [
       "<IPython.core.display.HTML object>"
      ]
     },
     "metadata": {},
     "output_type": "display_data"
    },
    {
     "data": {
      "text/html": [
       "<span style=\"color:cyan\"> |-structured_data_block_2/dense_block_1/units_1: 16</span>"
      ],
      "text/plain": [
       "<IPython.core.display.HTML object>"
      ]
     },
     "metadata": {},
     "output_type": "display_data"
    },
    {
     "data": {
      "text/html": [
       "<span style=\"color:blue\"> |-structured_data_block_2/dense_block_1/units_2: 256</span>"
      ],
      "text/plain": [
       "<IPython.core.display.HTML object>"
      ]
     },
     "metadata": {},
     "output_type": "display_data"
    },
    {
     "data": {
      "text/html": [
       "<span style=\"color:cyan\"> |-structured_data_block_2/dense_block_1/use_batchnorm: True</span>"
      ],
      "text/plain": [
       "<IPython.core.display.HTML object>"
      ]
     },
     "metadata": {},
     "output_type": "display_data"
    },
    {
     "data": {
      "text/html": [
       "<span style=\"color:#4527A0\"><h1 style=\"font-size:18px\">Starting new trial</h1></span>"
      ],
      "text/plain": [
       "<IPython.core.display.HTML object>"
      ]
     },
     "metadata": {},
     "output_type": "display_data"
    },
    {
     "name": "stdout",
     "output_type": "stream",
     "text": [
      "Epoch 1/1000\n",
      "23/23 [==============================] - ETA: 0s - loss: 0.6838 - accuracy: 0.62 - ETA: 0s - loss: 0.7842 - accuracy: 0.49 - ETA: 0s - loss: 0.7691 - accuracy: 0.54 - 1s 26ms/step - loss: 0.7464 - accuracy: 0.5720 - val_loss: 0.6793 - val_accuracy: 0.6452\n",
      "Epoch 2/1000\n",
      "23/23 [==============================] - ETA: 0s - loss: 0.7646 - accuracy: 0.53 - ETA: 0s - loss: 0.7531 - accuracy: 0.57 - ETA: 0s - loss: 0.7601 - accuracy: 0.58 - 0s 11ms/step - loss: 0.7488 - accuracy: 0.5938 - val_loss: 0.6375 - val_accuracy: 0.7290\n",
      "Epoch 3/1000\n",
      "23/23 [==============================] - ETA: 0s - loss: 0.7680 - accuracy: 0.50 - ETA: 0s - loss: 0.7859 - accuracy: 0.55 - ETA: 0s - loss: 0.7987 - accuracy: 0.55 - ETA: 0s - loss: 0.7542 - accuracy: 0.58 - 0s 15ms/step - loss: 0.7252 - accuracy: 0.6046 - val_loss: 0.6461 - val_accuracy: 0.6710\n",
      "Epoch 4/1000\n",
      "23/23 [==============================] - ETA: 0s - loss: 0.7859 - accuracy: 0.50 - ETA: 0s - loss: 0.7723 - accuracy: 0.56 - ETA: 0s - loss: 0.7496 - accuracy: 0.56 - ETA: 0s - loss: 0.7292 - accuracy: 0.57 - ETA: 0s - loss: 0.7254 - accuracy: 0.58 - 0s 19ms/step - loss: 0.7083 - accuracy: 0.5897 - val_loss: 0.6222 - val_accuracy: 0.6903\n",
      "Epoch 5/1000\n",
      "23/23 [==============================] - ETA: 0s - loss: 0.6442 - accuracy: 0.59 - ETA: 0s - loss: 0.6996 - accuracy: 0.60 - ETA: 0s - loss: 0.7064 - accuracy: 0.59 - ETA: 0s - loss: 0.6884 - accuracy: 0.61 - 0s 16ms/step - loss: 0.6802 - accuracy: 0.6168 - val_loss: 0.6219 - val_accuracy: 0.6839\n",
      "Epoch 6/1000\n",
      "23/23 [==============================] - ETA: 0s - loss: 0.6458 - accuracy: 0.56 - ETA: 0s - loss: 0.7458 - accuracy: 0.57 - ETA: 0s - loss: 0.7338 - accuracy: 0.58 - ETA: 0s - loss: 0.6980 - accuracy: 0.62 - 0s 14ms/step - loss: 0.6980 - accuracy: 0.6209 - val_loss: 0.6057 - val_accuracy: 0.6968\n",
      "Epoch 7/1000\n",
      "23/23 [==============================] - ETA: 0s - loss: 0.7505 - accuracy: 0.65 - ETA: 0s - loss: 0.7092 - accuracy: 0.60 - ETA: 0s - loss: 0.7141 - accuracy: 0.59 - ETA: 0s - loss: 0.6830 - accuracy: 0.62 - 0s 13ms/step - loss: 0.6801 - accuracy: 0.6304 - val_loss: 0.6107 - val_accuracy: 0.7097\n",
      "Epoch 8/1000\n",
      "23/23 [==============================] - ETA: 0s - loss: 0.7553 - accuracy: 0.53 - ETA: 0s - loss: 0.7055 - accuracy: 0.57 - ETA: 0s - loss: 0.6932 - accuracy: 0.58 - ETA: 0s - loss: 0.7008 - accuracy: 0.58 - ETA: 0s - loss: 0.6763 - accuracy: 0.59 - ETA: 0s - loss: 0.6707 - accuracy: 0.60 - 1s 23ms/step - loss: 0.6669 - accuracy: 0.6155 - val_loss: 0.6112 - val_accuracy: 0.7032\n",
      "Epoch 9/1000\n",
      "23/23 [==============================] - ETA: 0s - loss: 0.6518 - accuracy: 0.62 - ETA: 0s - loss: 0.6941 - accuracy: 0.58 - ETA: 0s - loss: 0.6911 - accuracy: 0.58 - ETA: 0s - loss: 0.6580 - accuracy: 0.61 - 0s 15ms/step - loss: 0.6525 - accuracy: 0.6318 - val_loss: 0.6059 - val_accuracy: 0.6903\n",
      "Epoch 10/1000\n",
      "23/23 [==============================] - ETA: 0s - loss: 0.7519 - accuracy: 0.46 - ETA: 0s - loss: 0.7023 - accuracy: 0.59 - ETA: 0s - loss: 0.6960 - accuracy: 0.59 - ETA: 0s - loss: 0.6977 - accuracy: 0.58 - ETA: 0s - loss: 0.6826 - accuracy: 0.60 - 1s 22ms/step - loss: 0.6743 - accuracy: 0.6087 - val_loss: 0.6029 - val_accuracy: 0.6774\n",
      "Epoch 11/1000\n",
      "23/23 [==============================] - ETA: 0s - loss: 0.6620 - accuracy: 0.56 - ETA: 0s - loss: 0.6763 - accuracy: 0.61 - ETA: 0s - loss: 0.6731 - accuracy: 0.61 - ETA: 0s - loss: 0.6504 - accuracy: 0.63 - 0s 17ms/step - loss: 0.6422 - accuracy: 0.6481 - val_loss: 0.5956 - val_accuracy: 0.6903\n",
      "Epoch 12/1000\n",
      "23/23 [==============================] - ETA: 0s - loss: 0.7943 - accuracy: 0.53 - ETA: 0s - loss: 0.7093 - accuracy: 0.59 - ETA: 0s - loss: 0.6932 - accuracy: 0.62 - ETA: 0s - loss: 0.6874 - accuracy: 0.62 - 0s 15ms/step - loss: 0.6763 - accuracy: 0.6386 - val_loss: 0.6068 - val_accuracy: 0.6774\n",
      "Epoch 13/1000\n",
      "23/23 [==============================] - ETA: 0s - loss: 0.8142 - accuracy: 0.56 - ETA: 0s - loss: 0.7515 - accuracy: 0.54 - ETA: 0s - loss: 0.6955 - accuracy: 0.60 - ETA: 0s - loss: 0.6806 - accuracy: 0.61 - ETA: 0s - loss: 0.6836 - accuracy: 0.61 - ETA: 0s - loss: 0.6717 - accuracy: 0.61 - 1s 23ms/step - loss: 0.6489 - accuracy: 0.6413 - val_loss: 0.6099 - val_accuracy: 0.6645\n",
      "Epoch 14/1000\n",
      "23/23 [==============================] - ETA: 0s - loss: 0.6413 - accuracy: 0.56 - ETA: 0s - loss: 0.6718 - accuracy: 0.61 - ETA: 0s - loss: 0.6746 - accuracy: 0.61 - ETA: 0s - loss: 0.6654 - accuracy: 0.62 - 0s 17ms/step - loss: 0.6461 - accuracy: 0.6318 - val_loss: 0.6007 - val_accuracy: 0.6710\n",
      "Epoch 15/1000\n",
      "23/23 [==============================] - ETA: 0s - loss: 0.8896 - accuracy: 0.43 - ETA: 0s - loss: 0.7108 - accuracy: 0.58 - ETA: 0s - loss: 0.6835 - accuracy: 0.61 - ETA: 0s - loss: 0.6530 - accuracy: 0.63 - 0s 21ms/step - loss: 0.6369 - accuracy: 0.6454 - val_loss: 0.6086 - val_accuracy: 0.7161\n",
      "Epoch 16/1000\n",
      "23/23 [==============================] - ETA: 0s - loss: 0.7240 - accuracy: 0.53 - ETA: 0s - loss: 0.7302 - accuracy: 0.56 - ETA: 0s - loss: 0.7391 - accuracy: 0.59 - ETA: 0s - loss: 0.7173 - accuracy: 0.59 - ETA: 0s - loss: 0.6844 - accuracy: 0.61 - ETA: 0s - loss: 0.6674 - accuracy: 0.62 - 1s 22ms/step - loss: 0.6674 - accuracy: 0.6291 - val_loss: 0.6033 - val_accuracy: 0.6839\n",
      "Epoch 17/1000\n",
      "23/23 [==============================] - ETA: 0s - loss: 0.6588 - accuracy: 0.56 - ETA: 0s - loss: 0.6582 - accuracy: 0.65 - ETA: 0s - loss: 0.6750 - accuracy: 0.63 - ETA: 0s - loss: 0.6749 - accuracy: 0.63 - ETA: 0s - loss: 0.6684 - accuracy: 0.62 - ETA: 0s - loss: 0.6652 - accuracy: 0.62 - 1s 25ms/step - loss: 0.6437 - accuracy: 0.6427 - val_loss: 0.5822 - val_accuracy: 0.6839\n",
      "Epoch 18/1000\n",
      "23/23 [==============================] - ETA: 0s - loss: 0.6999 - accuracy: 0.62 - ETA: 0s - loss: 0.6919 - accuracy: 0.60 - ETA: 0s - loss: 0.6648 - accuracy: 0.62 - ETA: 0s - loss: 0.6463 - accuracy: 0.63 - 0s 16ms/step - loss: 0.6463 - accuracy: 0.6345 - val_loss: 0.5970 - val_accuracy: 0.7161\n",
      "Epoch 19/1000\n",
      "23/23 [==============================] - ETA: 0s - loss: 0.7286 - accuracy: 0.62 - ETA: 0s - loss: 0.6704 - accuracy: 0.63 - ETA: 0s - loss: 0.6654 - accuracy: 0.62 - ETA: 0s - loss: 0.6482 - accuracy: 0.63 - 0s 15ms/step - loss: 0.6482 - accuracy: 0.6359 - val_loss: 0.5867 - val_accuracy: 0.7290\n",
      "Epoch 20/1000\n",
      "23/23 [==============================] - ETA: 0s - loss: 0.7045 - accuracy: 0.56 - ETA: 0s - loss: 0.6843 - accuracy: 0.61 - ETA: 0s - loss: 0.6823 - accuracy: 0.61 - ETA: 0s - loss: 0.6670 - accuracy: 0.62 - 0s 16ms/step - loss: 0.6634 - accuracy: 0.6318 - val_loss: 0.5958 - val_accuracy: 0.7226\n",
      "Epoch 21/1000\n",
      "23/23 [==============================] - ETA: 0s - loss: 0.7054 - accuracy: 0.53 - ETA: 0s - loss: 0.6925 - accuracy: 0.60 - ETA: 0s - loss: 0.6791 - accuracy: 0.60 - ETA: 0s - loss: 0.6494 - accuracy: 0.63 - 0s 13ms/step - loss: 0.6494 - accuracy: 0.6359 - val_loss: 0.5846 - val_accuracy: 0.7226\n",
      "Epoch 22/1000\n",
      "23/23 [==============================] - ETA: 0s - loss: 0.7445 - accuracy: 0.50 - ETA: 0s - loss: 0.6676 - accuracy: 0.62 - ETA: 0s - loss: 0.6520 - accuracy: 0.63 - 0s 16ms/step - loss: 0.6388 - accuracy: 0.6481 - val_loss: 0.5978 - val_accuracy: 0.6903\n",
      "Epoch 23/1000\n",
      "23/23 [==============================] - ETA: 0s - loss: 0.7415 - accuracy: 0.50 - ETA: 0s - loss: 0.6776 - accuracy: 0.61 - ETA: 0s - loss: 0.6593 - accuracy: 0.62 - ETA: 0s - loss: 0.6414 - accuracy: 0.63 - 0s 20ms/step - loss: 0.6367 - accuracy: 0.6440 - val_loss: 0.5910 - val_accuracy: 0.6968\n",
      "Epoch 24/1000\n",
      "23/23 [==============================] - ETA: 0s - loss: 0.6519 - accuracy: 0.56 - ETA: 0s - loss: 0.6686 - accuracy: 0.60 - ETA: 0s - loss: 0.6649 - accuracy: 0.60 - ETA: 0s - loss: 0.6501 - accuracy: 0.61 - 0s 15ms/step - loss: 0.6488 - accuracy: 0.6196 - val_loss: 0.5907 - val_accuracy: 0.7161\n",
      "Epoch 25/1000\n",
      "23/23 [==============================] - ETA: 0s - loss: 0.6768 - accuracy: 0.59 - ETA: 0s - loss: 0.6727 - accuracy: 0.63 - ETA: 0s - loss: 0.6685 - accuracy: 0.63 - ETA: 0s - loss: 0.6492 - accuracy: 0.63 - 0s 15ms/step - loss: 0.6394 - accuracy: 0.6454 - val_loss: 0.5927 - val_accuracy: 0.7161\n",
      "Epoch 26/1000\n"
     ]
    },
    {
     "name": "stdout",
     "output_type": "stream",
     "text": [
      "23/23 [==============================] - ETA: 0s - loss: 0.6533 - accuracy: 0.59 - ETA: 0s - loss: 0.6532 - accuracy: 0.61 - ETA: 0s - loss: 0.6515 - accuracy: 0.61 - 0s 12ms/step - loss: 0.6467 - accuracy: 0.6345 - val_loss: 0.5982 - val_accuracy: 0.7032\n",
      "Epoch 27/1000\n",
      "23/23 [==============================] - ETA: 0s - loss: 0.6988 - accuracy: 0.56 - ETA: 0s - loss: 0.6770 - accuracy: 0.60 - ETA: 0s - loss: 0.6686 - accuracy: 0.60 - ETA: 0s - loss: 0.6438 - accuracy: 0.63 - 0s 12ms/step - loss: 0.6438 - accuracy: 0.6359 - val_loss: 0.5970 - val_accuracy: 0.6903\n"
     ]
    },
    {
     "data": {
      "text/html": [
       "<span style=\"color:#4527A0\"><h1 style=\"font-size:18px\">Trial complete</h1></span>"
      ],
      "text/plain": [
       "<IPython.core.display.HTML object>"
      ]
     },
     "metadata": {},
     "output_type": "display_data"
    },
    {
     "data": {
      "text/html": [
       "<span style=\"color:#4527A0\"><h1 style=\"font-size:18px\">Trial summary</h1></span>"
      ],
      "text/plain": [
       "<IPython.core.display.HTML object>"
      ]
     },
     "metadata": {},
     "output_type": "display_data"
    },
    {
     "data": {
      "text/html": [
       "<span style=\"color:cyan\"> |-Trial ID: a6fe566a1c48e4a100e3d267ae0e82c4</span>"
      ],
      "text/plain": [
       "<IPython.core.display.HTML object>"
      ]
     },
     "metadata": {},
     "output_type": "display_data"
    },
    {
     "data": {
      "text/html": [
       "<span style=\"color:cyan\"> |-Score: 0.7290322780609131</span>"
      ],
      "text/plain": [
       "<IPython.core.display.HTML object>"
      ]
     },
     "metadata": {},
     "output_type": "display_data"
    },
    {
     "data": {
      "text/html": [
       "<span style=\"color:cyan\"> |-Best step: 1</span>"
      ],
      "text/plain": [
       "<IPython.core.display.HTML object>"
      ]
     },
     "metadata": {},
     "output_type": "display_data"
    },
    {
     "data": {
      "text/html": [
       "<span style=\"color:#7E57C2\"><h2 style=\"font-size:16px\">Hyperparameters:</h2></span>"
      ],
      "text/plain": [
       "<IPython.core.display.HTML object>"
      ]
     },
     "metadata": {},
     "output_type": "display_data"
    },
    {
     "data": {
      "text/html": [
       "<span style=\"color:cyan\"> |-classification_head_2/dropout: 0</span>"
      ],
      "text/plain": [
       "<IPython.core.display.HTML object>"
      ]
     },
     "metadata": {},
     "output_type": "display_data"
    },
    {
     "data": {
      "text/html": [
       "<span style=\"color:blue\"> |-learning_rate: 0.001</span>"
      ],
      "text/plain": [
       "<IPython.core.display.HTML object>"
      ]
     },
     "metadata": {},
     "output_type": "display_data"
    },
    {
     "data": {
      "text/html": [
       "<span style=\"color:cyan\"> |-optimizer: adam</span>"
      ],
      "text/plain": [
       "<IPython.core.display.HTML object>"
      ]
     },
     "metadata": {},
     "output_type": "display_data"
    },
    {
     "data": {
      "text/html": [
       "<span style=\"color:blue\"> |-structured_data_block_2/dense_block_1/dropout: 0.25</span>"
      ],
      "text/plain": [
       "<IPython.core.display.HTML object>"
      ]
     },
     "metadata": {},
     "output_type": "display_data"
    },
    {
     "data": {
      "text/html": [
       "<span style=\"color:cyan\"> |-structured_data_block_2/dense_block_1/num_layers: 3</span>"
      ],
      "text/plain": [
       "<IPython.core.display.HTML object>"
      ]
     },
     "metadata": {},
     "output_type": "display_data"
    },
    {
     "data": {
      "text/html": [
       "<span style=\"color:blue\"> |-structured_data_block_2/dense_block_1/units_0: 32</span>"
      ],
      "text/plain": [
       "<IPython.core.display.HTML object>"
      ]
     },
     "metadata": {},
     "output_type": "display_data"
    },
    {
     "data": {
      "text/html": [
       "<span style=\"color:cyan\"> |-structured_data_block_2/dense_block_1/units_1: 512</span>"
      ],
      "text/plain": [
       "<IPython.core.display.HTML object>"
      ]
     },
     "metadata": {},
     "output_type": "display_data"
    },
    {
     "data": {
      "text/html": [
       "<span style=\"color:blue\"> |-structured_data_block_2/dense_block_1/units_2: 256</span>"
      ],
      "text/plain": [
       "<IPython.core.display.HTML object>"
      ]
     },
     "metadata": {},
     "output_type": "display_data"
    },
    {
     "data": {
      "text/html": [
       "<span style=\"color:cyan\"> |-structured_data_block_2/dense_block_1/use_batchnorm: True</span>"
      ],
      "text/plain": [
       "<IPython.core.display.HTML object>"
      ]
     },
     "metadata": {},
     "output_type": "display_data"
    },
    {
     "data": {
      "text/html": [
       "<span style=\"color:#4527A0\"><h1 style=\"font-size:18px\">Starting new trial</h1></span>"
      ],
      "text/plain": [
       "<IPython.core.display.HTML object>"
      ]
     },
     "metadata": {},
     "output_type": "display_data"
    },
    {
     "name": "stdout",
     "output_type": "stream",
     "text": [
      "Epoch 1/1000\n",
      "23/23 [==============================] - ETA: 0s - loss: 13583.3066 - accuracy: 0.43 - ETA: 0s - loss: 7840.9624 - accuracy: 0.5142 - ETA: 0s - loss: 7359.0073 - accuracy: 0.509 - 1s 29ms/step - loss: 7350.5820 - accuracy: 0.5190 - val_loss: 4051.2859 - val_accuracy: 0.6710\n",
      "Epoch 2/1000\n",
      "23/23 [==============================] - ETA: 0s - loss: 16613.4785 - accuracy: 0.53 - ETA: 0s - loss: 8389.6289 - accuracy: 0.5039 - ETA: 0s - loss: 7203.0942 - accuracy: 0.544 - 0s 10ms/step - loss: 6406.7485 - accuracy: 0.5584 - val_loss: 2134.9011 - val_accuracy: 0.6387\n",
      "Epoch 3/1000\n",
      "23/23 [==============================] - ETA: 0s - loss: 6182.6475 - accuracy: 0.437 - ETA: 0s - loss: 5205.2012 - accuracy: 0.528 - ETA: 0s - loss: 5084.1377 - accuracy: 0.533 - 0s 12ms/step - loss: 4917.0991 - accuracy: 0.5435 - val_loss: 1835.8818 - val_accuracy: 0.6452\n",
      "Epoch 4/1000\n",
      "23/23 [==============================] - ETA: 0s - loss: 4879.7217 - accuracy: 0.531 - ETA: 0s - loss: 5261.3745 - accuracy: 0.517 - ETA: 0s - loss: 5118.1143 - accuracy: 0.500 - 0s 12ms/step - loss: 4783.1626 - accuracy: 0.5054 - val_loss: 1891.1077 - val_accuracy: 0.6323\n",
      "Epoch 5/1000\n",
      "23/23 [==============================] - ETA: 0s - loss: 10429.7695 - accuracy: 0.46 - ETA: 0s - loss: 4514.5347 - accuracy: 0.5966 - ETA: 0s - loss: 3937.2007 - accuracy: 0.560 - 0s 11ms/step - loss: 3763.9133 - accuracy: 0.5693 - val_loss: 1404.4351 - val_accuracy: 0.6968\n",
      "Epoch 6/1000\n",
      "23/23 [==============================] - ETA: 0s - loss: 4630.6226 - accuracy: 0.468 - ETA: 0s - loss: 3686.9939 - accuracy: 0.570 - ETA: 0s - loss: 4300.8584 - accuracy: 0.541 - 0s 11ms/step - loss: 4203.5693 - accuracy: 0.5652 - val_loss: 1236.3542 - val_accuracy: 0.6581\n",
      "Epoch 7/1000\n",
      "23/23 [==============================] - ETA: 0s - loss: 5676.4814 - accuracy: 0.500 - ETA: 0s - loss: 3437.7490 - accuracy: 0.539 - ETA: 0s - loss: 3169.8540 - accuracy: 0.534 - ETA: 0s - loss: 2959.8469 - accuracy: 0.554 - ETA: 0s - loss: 3065.2991 - accuracy: 0.554 - 0s 17ms/step - loss: 2975.8809 - accuracy: 0.5543 - val_loss: 972.4794 - val_accuracy: 0.6516\n",
      "Epoch 8/1000\n",
      "23/23 [==============================] - ETA: 0s - loss: 2568.8804 - accuracy: 0.406 - ETA: 0s - loss: 2921.0156 - accuracy: 0.525 - ETA: 0s - loss: 2827.6492 - accuracy: 0.564 - 0s 11ms/step - loss: 2873.3870 - accuracy: 0.5571 - val_loss: 377.2246 - val_accuracy: 0.6452\n",
      "Epoch 9/1000\n",
      "23/23 [==============================] - ETA: 0s - loss: 2859.0276 - accuracy: 0.500 - ETA: 0s - loss: 2606.8672 - accuracy: 0.500 - ETA: 0s - loss: 2583.3179 - accuracy: 0.554 - 0s 15ms/step - loss: 2408.1074 - accuracy: 0.5543 - val_loss: 251.7698 - val_accuracy: 0.6387\n",
      "Epoch 10/1000\n",
      "23/23 [==============================] - ETA: 0s - loss: 5405.8643 - accuracy: 0.562 - ETA: 0s - loss: 2411.8218 - accuracy: 0.539 - ETA: 0s - loss: 2242.1936 - accuracy: 0.556 - 0s 11ms/step - loss: 2130.9707 - accuracy: 0.5530 - val_loss: 327.1518 - val_accuracy: 0.6710\n",
      "Epoch 11/1000\n",
      "23/23 [==============================] - ETA: 0s - loss: 5052.0713 - accuracy: 0.500 - ETA: 0s - loss: 2265.5349 - accuracy: 0.525 - ETA: 0s - loss: 1872.4796 - accuracy: 0.534 - 0s 13ms/step - loss: 1892.9949 - accuracy: 0.5462 - val_loss: 233.5375 - val_accuracy: 0.6903\n",
      "Epoch 12/1000\n",
      "23/23 [==============================] - ETA: 0s - loss: 1026.6899 - accuracy: 0.593 - ETA: 0s - loss: 2206.2756 - accuracy: 0.500 - ETA: 0s - loss: 1835.3887 - accuracy: 0.525 - 0s 11ms/step - loss: 1801.1067 - accuracy: 0.5299 - val_loss: 150.4534 - val_accuracy: 0.6387\n",
      "Epoch 13/1000\n",
      "23/23 [==============================] - ETA: 0s - loss: 4358.1064 - accuracy: 0.406 - ETA: 0s - loss: 2396.4497 - accuracy: 0.521 - ETA: 0s - loss: 2198.9670 - accuracy: 0.519 - 0s 11ms/step - loss: 2188.2673 - accuracy: 0.5272 - val_loss: 99.3232 - val_accuracy: 0.4968\n",
      "Epoch 14/1000\n",
      "23/23 [==============================] - ETA: 0s - loss: 1312.9797 - accuracy: 0.375 - ETA: 0s - loss: 1183.4741 - accuracy: 0.534 - ETA: 0s - loss: 1554.4830 - accuracy: 0.524 - ETA: 0s - loss: 1470.4609 - accuracy: 0.533 - 0s 18ms/step - loss: 1386.5728 - accuracy: 0.5503 - val_loss: 138.8517 - val_accuracy: 0.4194\n",
      "Epoch 15/1000\n",
      "23/23 [==============================] - ETA: 0s - loss: 3940.1304 - accuracy: 0.500 - ETA: 0s - loss: 1459.9796 - accuracy: 0.556 - ETA: 0s - loss: 1458.4625 - accuracy: 0.547 - 0s 12ms/step - loss: 1365.3365 - accuracy: 0.5557 - val_loss: 190.7636 - val_accuracy: 0.4516\n",
      "Epoch 16/1000\n",
      "23/23 [==============================] - ETA: 0s - loss: 1800.6517 - accuracy: 0.500 - ETA: 0s - loss: 1155.3654 - accuracy: 0.534 - ETA: 0s - loss: 994.0020 - accuracy: 0.526 - 0s 12ms/step - loss: 1025.7047 - accuracy: 0.5476 - val_loss: 15.9346 - val_accuracy: 0.6774\n",
      "Epoch 17/1000\n",
      "23/23 [==============================] - ETA: 0s - loss: 1941.1257 - accuracy: 0.437 - ETA: 0s - loss: 1490.3134 - accuracy: 0.546 - ETA: 0s - loss: 1279.6714 - accuracy: 0.525 - ETA: 0s - loss: 1298.1123 - accuracy: 0.508 - ETA: 0s - loss: 1269.0861 - accuracy: 0.528 - 0s 19ms/step - loss: 1127.1416 - accuracy: 0.5326 - val_loss: 49.6703 - val_accuracy: 0.6839\n",
      "Epoch 18/1000\n",
      "23/23 [==============================] - ETA: 0s - loss: 1172.6768 - accuracy: 0.468 - ETA: 0s - loss: 985.5830 - accuracy: 0.524 - ETA: 0s - loss: 950.9248 - accuracy: 0.53 - 0s 13ms/step - loss: 887.9312 - accuracy: 0.5421 - val_loss: 38.8967 - val_accuracy: 0.6839\n",
      "Epoch 19/1000\n",
      "23/23 [==============================] - ETA: 0s - loss: 1599.7349 - accuracy: 0.500 - ETA: 0s - loss: 1195.2928 - accuracy: 0.559 - ETA: 0s - loss: 975.5626 - accuracy: 0.520 - 0s 11ms/step - loss: 889.3108 - accuracy: 0.5245 - val_loss: 12.3821 - val_accuracy: 0.6452\n",
      "Epoch 20/1000\n",
      "23/23 [==============================] - ETA: 0s - loss: 539.7383 - accuracy: 0.50 - ETA: 0s - loss: 874.0820 - accuracy: 0.52 - ETA: 0s - loss: 946.0046 - accuracy: 0.54 - ETA: 0s - loss: 914.9230 - accuracy: 0.54 - ETA: 0s - loss: 876.6708 - accuracy: 0.55 - 0s 18ms/step - loss: 853.5455 - accuracy: 0.5530 - val_loss: 17.2368 - val_accuracy: 0.6194\n",
      "Epoch 21/1000\n",
      "23/23 [==============================] - ETA: 0s - loss: 679.3862 - accuracy: 0.40 - ETA: 0s - loss: 850.0244 - accuracy: 0.57 - ETA: 0s - loss: 848.8176 - accuracy: 0.55 - 0s 15ms/step - loss: 788.4487 - accuracy: 0.5516 - val_loss: 8.7472 - val_accuracy: 0.6903\n",
      "Epoch 22/1000\n",
      "23/23 [==============================] - ETA: 0s - loss: 1605.4067 - accuracy: 0.562 - ETA: 0s - loss: 812.4999 - accuracy: 0.513 - ETA: 0s - loss: 765.4642 - accuracy: 0.52 - 0s 12ms/step - loss: 663.5941 - accuracy: 0.5367 - val_loss: 16.7040 - val_accuracy: 0.6387\n",
      "Epoch 23/1000\n",
      "23/23 [==============================] - ETA: 0s - loss: 692.5885 - accuracy: 0.50 - ETA: 0s - loss: 549.7552 - accuracy: 0.55 - ETA: 0s - loss: 558.3302 - accuracy: 0.54 - ETA: 0s - loss: 569.6948 - accuracy: 0.55 - ETA: 0s - loss: 597.6197 - accuracy: 0.53 - 0s 19ms/step - loss: 596.2050 - accuracy: 0.5394 - val_loss: 3.5804 - val_accuracy: 0.3419\n",
      "Epoch 24/1000\n",
      "23/23 [==============================] - ETA: 0s - loss: 973.6820 - accuracy: 0.31 - ETA: 0s - loss: 562.9997 - accuracy: 0.52 - ETA: 0s - loss: 543.6298 - accuracy: 0.54 - 0s 12ms/step - loss: 515.3706 - accuracy: 0.5408 - val_loss: 2.0800 - val_accuracy: 0.3161\n",
      "Epoch 25/1000\n",
      "23/23 [==============================] - ETA: 0s - loss: 760.7195 - accuracy: 0.65 - ETA: 0s - loss: 478.1034 - accuracy: 0.57 - ETA: 0s - loss: 446.5914 - accuracy: 0.53 - 0s 12ms/step - loss: 411.8504 - accuracy: 0.5489 - val_loss: 1.7396 - val_accuracy: 0.3226\n",
      "Epoch 26/1000\n",
      "23/23 [==============================] - ETA: 0s - loss: 988.4243 - accuracy: 0.56 - ETA: 0s - loss: 456.3904 - accuracy: 0.54 - ETA: 0s - loss: 470.4471 - accuracy: 0.53 - ETA: 0s - loss: 396.1897 - accuracy: 0.54 - ETA: 0s - loss: 508.0854 - accuracy: 0.53 - 0s 21ms/step - loss: 471.7333 - accuracy: 0.5462 - val_loss: 3.7327 - val_accuracy: 0.3484\n",
      "Epoch 27/1000\n",
      "23/23 [==============================] - ETA: 0s - loss: 597.1420 - accuracy: 0.46 - ETA: 0s - loss: 339.9118 - accuracy: 0.54 - ETA: 0s - loss: 371.2028 - accuracy: 0.54 - 0s 12ms/step - loss: 384.4413 - accuracy: 0.5394 - val_loss: 3.6950 - val_accuracy: 0.3613\n",
      "Epoch 28/1000\n"
     ]
    },
    {
     "name": "stdout",
     "output_type": "stream",
     "text": [
      "23/23 [==============================] - ETA: 0s - loss: 394.9611 - accuracy: 0.50 - ETA: 0s - loss: 274.3474 - accuracy: 0.53 - ETA: 0s - loss: 317.2906 - accuracy: 0.53 - 0s 10ms/step - loss: 303.7571 - accuracy: 0.5258 - val_loss: 1.1173 - val_accuracy: 0.3419\n",
      "Epoch 29/1000\n",
      "23/23 [==============================] - ETA: 0s - loss: 145.3119 - accuracy: 0.62 - ETA: 0s - loss: 283.9205 - accuracy: 0.53 - ETA: 0s - loss: 345.1318 - accuracy: 0.52 - ETA: 0s - loss: 352.6815 - accuracy: 0.51 - 0s 16ms/step - loss: 322.4294 - accuracy: 0.5299 - val_loss: 0.6940 - val_accuracy: 0.3613\n",
      "Epoch 30/1000\n",
      "23/23 [==============================] - ETA: 0s - loss: 338.1970 - accuracy: 0.43 - ETA: 0s - loss: 398.0079 - accuracy: 0.50 - ETA: 0s - loss: 348.3431 - accuracy: 0.52 - 0s 12ms/step - loss: 357.0768 - accuracy: 0.5217 - val_loss: 0.6954 - val_accuracy: 0.3613\n",
      "Epoch 31/1000\n",
      "23/23 [==============================] - ETA: 0s - loss: 495.7398 - accuracy: 0.50 - ETA: 0s - loss: 243.7696 - accuracy: 0.52 - ETA: 0s - loss: 231.5072 - accuracy: 0.48 - 0s 13ms/step - loss: 228.6404 - accuracy: 0.5027 - val_loss: 0.6933 - val_accuracy: 0.3742\n",
      "Epoch 32/1000\n",
      "23/23 [==============================] - ETA: 0s - loss: 339.8367 - accuracy: 0.50 - ETA: 0s - loss: 452.5829 - accuracy: 0.43 - ETA: 0s - loss: 370.7778 - accuracy: 0.46 - ETA: 0s - loss: 351.7361 - accuracy: 0.47 - ETA: 0s - loss: 325.8594 - accuracy: 0.48 - ETA: 0s - loss: 289.9990 - accuracy: 0.50 - 1s 25ms/step - loss: 289.9990 - accuracy: 0.5027 - val_loss: 0.6939 - val_accuracy: 0.3613\n",
      "Epoch 33/1000\n",
      "23/23 [==============================] - ETA: 0s - loss: 172.5670 - accuracy: 0.59 - ETA: 0s - loss: 262.6908 - accuracy: 0.52 - ETA: 0s - loss: 285.5268 - accuracy: 0.53 - 0s 12ms/step - loss: 288.2380 - accuracy: 0.5312 - val_loss: 0.6904 - val_accuracy: 0.6387\n",
      "Epoch 34/1000\n",
      "23/23 [==============================] - ETA: 0s - loss: 357.8653 - accuracy: 0.31 - ETA: 0s - loss: 180.2175 - accuracy: 0.49 - ETA: 0s - loss: 163.2431 - accuracy: 0.53 - 0s 12ms/step - loss: 174.9472 - accuracy: 0.5353 - val_loss: 0.6875 - val_accuracy: 0.6387\n",
      "Epoch 35/1000\n",
      "23/23 [==============================] - ETA: 0s - loss: 135.2242 - accuracy: 0.65 - ETA: 0s - loss: 156.6494 - accuracy: 0.58 - ETA: 0s - loss: 132.2064 - accuracy: 0.60 - ETA: 0s - loss: 131.6436 - accuracy: 0.59 - ETA: 0s - loss: 126.8270 - accuracy: 0.59 - 0s 20ms/step - loss: 126.8270 - accuracy: 0.5978 - val_loss: 0.6885 - val_accuracy: 0.6387\n",
      "Epoch 36/1000\n",
      "23/23 [==============================] - ETA: 0s - loss: 1346.2369 - accuracy: 0.375 - ETA: 0s - loss: 205.7099 - accuracy: 0.588 - ETA: 0s - loss: 210.3897 - accuracy: 0.57 - 0s 13ms/step - loss: 195.0609 - accuracy: 0.5788 - val_loss: 0.6887 - val_accuracy: 0.6387\n",
      "Epoch 37/1000\n",
      "23/23 [==============================] - ETA: 0s - loss: 140.5086 - accuracy: 0.59 - ETA: 0s - loss: 267.4933 - accuracy: 0.60 - ETA: 0s - loss: 228.1537 - accuracy: 0.56 - 0s 11ms/step - loss: 232.5908 - accuracy: 0.5693 - val_loss: 0.6881 - val_accuracy: 0.6387\n",
      "Epoch 38/1000\n",
      "23/23 [==============================] - ETA: 0s - loss: 535.6040 - accuracy: 0.40 - ETA: 0s - loss: 332.6221 - accuracy: 0.46 - ETA: 0s - loss: 267.8958 - accuracy: 0.55 - ETA: 0s - loss: 184.2770 - accuracy: 0.56 - ETA: 0s - loss: 161.9315 - accuracy: 0.58 - 0s 19ms/step - loss: 154.2094 - accuracy: 0.5815 - val_loss: 0.6863 - val_accuracy: 0.6387\n",
      "Epoch 39/1000\n",
      "23/23 [==============================] - ETA: 0s - loss: 232.6507 - accuracy: 0.34 - ETA: 0s - loss: 237.9785 - accuracy: 0.56 - ETA: 0s - loss: 149.9706 - accuracy: 0.56 - 0s 15ms/step - loss: 165.7168 - accuracy: 0.5639 - val_loss: 0.6841 - val_accuracy: 0.6387\n",
      "Epoch 40/1000\n",
      "23/23 [==============================] - ETA: 0s - loss: 227.4068 - accuracy: 0.53 - ETA: 0s - loss: 204.0868 - accuracy: 0.56 - ETA: 0s - loss: 165.6871 - accuracy: 0.54 - 0s 12ms/step - loss: 152.6416 - accuracy: 0.5516 - val_loss: 0.6812 - val_accuracy: 0.6387\n",
      "Epoch 41/1000\n",
      "23/23 [==============================] - ETA: 0s - loss: 131.5546 - accuracy: 0.53 - ETA: 0s - loss: 207.4209 - accuracy: 0.54 - ETA: 0s - loss: 170.2132 - accuracy: 0.54 - 0s 11ms/step - loss: 162.5505 - accuracy: 0.5543 - val_loss: 0.6788 - val_accuracy: 0.6387\n",
      "Epoch 42/1000\n",
      "23/23 [==============================] - ETA: 0s - loss: 106.6070 - accuracy: 0.31 - ETA: 0s - loss: 101.3619 - accuracy: 0.56 - ETA: 0s - loss: 106.8207 - accuracy: 0.55 - ETA: 0s - loss: 87.1545 - accuracy: 0.5609 - 0s 15ms/step - loss: 78.5689 - accuracy: 0.5693 - val_loss: 0.6776 - val_accuracy: 0.6387\n",
      "Epoch 43/1000\n",
      "23/23 [==============================] - ETA: 0s - loss: 178.4028 - accuracy: 0.46 - ETA: 0s - loss: 93.0694 - accuracy: 0.5719 - ETA: 0s - loss: 100.2273 - accuracy: 0.59 - 0s 12ms/step - loss: 101.9184 - accuracy: 0.5829 - val_loss: 0.6775 - val_accuracy: 0.6387\n",
      "Epoch 44/1000\n",
      "23/23 [==============================] - ETA: 0s - loss: 111.1159 - accuracy: 0.53 - ETA: 0s - loss: 95.1716 - accuracy: 0.5469 - ETA: 0s - loss: 88.5742 - accuracy: 0.563 - 0s 10ms/step - loss: 86.5163 - accuracy: 0.5611 - val_loss: 0.6769 - val_accuracy: 0.6387\n",
      "Epoch 45/1000\n",
      "23/23 [==============================] - ETA: 0s - loss: 99.9923 - accuracy: 0.562 - ETA: 0s - loss: 134.7113 - accuracy: 0.61 - ETA: 0s - loss: 96.9886 - accuracy: 0.5969 - ETA: 0s - loss: 96.9579 - accuracy: 0.595 - 0s 18ms/step - loss: 94.2258 - accuracy: 0.5938 - val_loss: 0.6752 - val_accuracy: 0.6387\n",
      "Epoch 46/1000\n",
      "23/23 [==============================] - ETA: 0s - loss: 461.3608 - accuracy: 0.59 - ETA: 0s - loss: 102.8337 - accuracy: 0.60 - ETA: 0s - loss: 102.1139 - accuracy: 0.56 - 0s 12ms/step - loss: 87.1292 - accuracy: 0.5747 - val_loss: 0.6744 - val_accuracy: 0.6387\n",
      "Epoch 47/1000\n",
      "23/23 [==============================] - ETA: 0s - loss: 73.3248 - accuracy: 0.625 - ETA: 0s - loss: 113.4733 - accuracy: 0.57 - ETA: 0s - loss: 105.2900 - accuracy: 0.56 - 0s 11ms/step - loss: 99.0211 - accuracy: 0.5761 - val_loss: 0.6726 - val_accuracy: 0.6387\n",
      "Epoch 48/1000\n",
      "23/23 [==============================] - ETA: 0s - loss: 106.1181 - accuracy: 0.46 - ETA: 0s - loss: 86.0793 - accuracy: 0.5994 - ETA: 0s - loss: 66.6398 - accuracy: 0.588 - 1s 43ms/step - loss: 65.4461 - accuracy: 0.5774 - val_loss: 0.6722 - val_accuracy: 0.6387\n",
      "Epoch 49/1000\n",
      "23/23 [==============================] - ETA: 0s - loss: 42.9682 - accuracy: 0.468 - ETA: 0s - loss: 75.4969 - accuracy: 0.576 - ETA: 0s - loss: 76.7566 - accuracy: 0.584 - 1s 33ms/step - loss: 72.8586 - accuracy: 0.5856 - val_loss: 0.6713 - val_accuracy: 0.6387\n",
      "Epoch 50/1000\n",
      "23/23 [==============================] - ETA: 0s - loss: 9.3971 - accuracy: 0.53 - ETA: 0s - loss: 58.1617 - accuracy: 0.590 - ETA: 0s - loss: 68.5789 - accuracy: 0.575 - 1s 27ms/step - loss: 68.4278 - accuracy: 0.5842 - val_loss: 0.6705 - val_accuracy: 0.6387\n",
      "Epoch 51/1000\n",
      "23/23 [==============================] - ETA: 0s - loss: 10.5295 - accuracy: 0.593 - ETA: 0s - loss: 62.5550 - accuracy: 0.597 - ETA: 0s - loss: 82.2190 - accuracy: 0.555 - 1s 28ms/step - loss: 88.1480 - accuracy: 0.5639 - val_loss: 0.6686 - val_accuracy: 0.6387\n",
      "Epoch 52/1000\n",
      "23/23 [==============================] - ETA: 0s - loss: 310.7811 - accuracy: 0.46 - ETA: 0s - loss: 64.5358 - accuracy: 0.5852 - ETA: 0s - loss: 56.6346 - accuracy: 0.580 - 1s 28ms/step - loss: 55.3902 - accuracy: 0.5829 - val_loss: 0.6670 - val_accuracy: 0.6387\n",
      "Epoch 53/1000\n",
      "23/23 [==============================] - ETA: 0s - loss: 223.1562 - accuracy: 0.40 - ETA: 0s - loss: 121.7102 - accuracy: 0.48 - ETA: 0s - loss: 74.2815 - accuracy: 0.5511 - ETA: 0s - loss: 90.9022 - accuracy: 0.576 - 1s 43ms/step - loss: 85.2055 - accuracy: 0.5815 - val_loss: 0.6662 - val_accuracy: 0.6387\n",
      "Epoch 54/1000\n",
      "23/23 [==============================] - ETA: 0s - loss: 25.4009 - accuracy: 0.500 - ETA: 0s - loss: 83.4548 - accuracy: 0.640 - ETA: 0s - loss: 62.7834 - accuracy: 0.589 - 1s 32ms/step - loss: 56.4836 - accuracy: 0.5747 - val_loss: 0.6659 - val_accuracy: 0.6387\n",
      "Epoch 55/1000\n",
      "23/23 [==============================] - ETA: 0s - loss: 36.5103 - accuracy: 0.500 - ETA: 0s - loss: 62.7211 - accuracy: 0.579 - ETA: 0s - loss: 57.5549 - accuracy: 0.578 - 1s 26ms/step - loss: 54.7113 - accuracy: 0.5842 - val_loss: 0.6646 - val_accuracy: 0.6387\n"
     ]
    },
    {
     "name": "stdout",
     "output_type": "stream",
     "text": [
      "Epoch 56/1000\n",
      "23/23 [==============================] - ETA: 0s - loss: 76.0030 - accuracy: 0.437 - ETA: 0s - loss: 77.9504 - accuracy: 0.625 - ETA: 0s - loss: 70.3705 - accuracy: 0.582 - 1s 38ms/step - loss: 64.6074 - accuracy: 0.5897 - val_loss: 0.6639 - val_accuracy: 0.6387\n",
      "Epoch 57/1000\n",
      "23/23 [==============================] - ETA: 0s - loss: 390.9388 - accuracy: 0.46 - ETA: 0s - loss: 73.6390 - accuracy: 0.6042 - ETA: 0s - loss: 67.8132 - accuracy: 0.570 - ETA: 0s - loss: 64.6672 - accuracy: 0.581 - ETA: 0s - loss: 50.2791 - accuracy: 0.585 - 1s 42ms/step - loss: 49.2847 - accuracy: 0.5883 - val_loss: 0.6632 - val_accuracy: 0.6387\n",
      "Epoch 58/1000\n",
      "23/23 [==============================] - ETA: 0s - loss: 301.7588 - accuracy: 0.37 - ETA: 0s - loss: 101.3436 - accuracy: 0.55 - ETA: 0s - loss: 73.8310 - accuracy: 0.5781 - 1s 28ms/step - loss: 70.8107 - accuracy: 0.5856 - val_loss: 0.6624 - val_accuracy: 0.6387\n",
      "Epoch 59/1000\n",
      "23/23 [==============================] - ETA: 0s - loss: 21.0325 - accuracy: 0.531 - ETA: 0s - loss: 80.5007 - accuracy: 0.603 - ETA: 0s - loss: 58.8225 - accuracy: 0.589 - 1s 35ms/step - loss: 52.4861 - accuracy: 0.5965 - val_loss: 0.6616 - val_accuracy: 0.6387\n",
      "Epoch 60/1000\n",
      "23/23 [==============================] - ETA: 0s - loss: 113.5458 - accuracy: 0.46 - ETA: 0s - loss: 92.5229 - accuracy: 0.5719 - ETA: 0s - loss: 79.7136 - accuracy: 0.559 - 1s 38ms/step - loss: 96.8711 - accuracy: 0.5598 - val_loss: 0.6605 - val_accuracy: 0.6387\n",
      "Epoch 61/1000\n",
      "23/23 [==============================] - ETA: 0s - loss: 3.8379 - accuracy: 0.59 - ETA: 0s - loss: 24.6406 - accuracy: 0.599 - ETA: 0s - loss: 50.6201 - accuracy: 0.605 - 1s 45ms/step - loss: 47.1306 - accuracy: 0.6087 - val_loss: 0.6595 - val_accuracy: 0.6387\n",
      "Epoch 62/1000\n",
      "23/23 [==============================] - ETA: 0s - loss: 72.2816 - accuracy: 0.468 - ETA: 0s - loss: 97.9897 - accuracy: 0.593 - ETA: 0s - loss: 59.7751 - accuracy: 0.596 - 1s 32ms/step - loss: 59.6461 - accuracy: 0.6019 - val_loss: 0.6593 - val_accuracy: 0.6387\n",
      "Epoch 63/1000\n",
      "23/23 [==============================] - ETA: 0s - loss: 12.0892 - accuracy: 0.468 - ETA: 0s - loss: 52.3094 - accuracy: 0.562 - ETA: 0s - loss: 56.3839 - accuracy: 0.574 - 0s 9ms/step - loss: 54.6167 - accuracy: 0.5720 - val_loss: 0.6593 - val_accuracy: 0.6387\n",
      "Epoch 64/1000\n",
      "23/23 [==============================] - ETA: 0s - loss: 40.8928 - accuracy: 0.562 - ETA: 0s - loss: 31.5008 - accuracy: 0.596 - ETA: 0s - loss: 23.4625 - accuracy: 0.582 - ETA: 0s - loss: 26.5464 - accuracy: 0.586 - 0s 19ms/step - loss: 25.6340 - accuracy: 0.5815 - val_loss: 0.6588 - val_accuracy: 0.6387\n",
      "Epoch 65/1000\n",
      "23/23 [==============================] - ETA: 0s - loss: 24.1200 - accuracy: 0.468 - ETA: 0s - loss: 31.8086 - accuracy: 0.600 - ETA: 0s - loss: 44.8556 - accuracy: 0.580 - 0s 12ms/step - loss: 43.8177 - accuracy: 0.5802 - val_loss: 0.6587 - val_accuracy: 0.6387\n",
      "Epoch 66/1000\n",
      "23/23 [==============================] - ETA: 0s - loss: 313.9688 - accuracy: 0.50 - ETA: 0s - loss: 42.3349 - accuracy: 0.5885 - ETA: 0s - loss: 34.2010 - accuracy: 0.586 - 0s 10ms/step - loss: 33.7494 - accuracy: 0.5883 - val_loss: 0.6584 - val_accuracy: 0.6387\n",
      "Epoch 67/1000\n",
      "23/23 [==============================] - ETA: 0s - loss: 3.1035 - accuracy: 0.53 - ETA: 0s - loss: 32.3055 - accuracy: 0.573 - ETA: 0s - loss: 41.7419 - accuracy: 0.585 - 0s 9ms/step - loss: 41.6408 - accuracy: 0.5815 - val_loss: 0.6580 - val_accuracy: 0.6387\n",
      "Epoch 68/1000\n",
      "23/23 [==============================] - ETA: 0s - loss: 26.5256 - accuracy: 0.437 - ETA: 0s - loss: 26.2490 - accuracy: 0.576 - ETA: 0s - loss: 29.7209 - accuracy: 0.571 - 0s 11ms/step - loss: 30.9050 - accuracy: 0.5788 - val_loss: 0.6580 - val_accuracy: 0.6387\n",
      "Epoch 69/1000\n",
      "23/23 [==============================] - ETA: 0s - loss: 28.0286 - accuracy: 0.500 - ETA: 0s - loss: 34.6905 - accuracy: 0.559 - ETA: 0s - loss: 48.1684 - accuracy: 0.564 - 0s 10ms/step - loss: 40.6950 - accuracy: 0.5747 - val_loss: 0.6580 - val_accuracy: 0.6387\n",
      "Epoch 70/1000\n",
      "23/23 [==============================] - ETA: 0s - loss: 24.6788 - accuracy: 0.468 - ETA: 0s - loss: 55.7893 - accuracy: 0.601 - ETA: 0s - loss: 39.2170 - accuracy: 0.608 - 0s 17ms/step - loss: 38.2921 - accuracy: 0.6060 - val_loss: 0.6582 - val_accuracy: 0.6387\n",
      "Epoch 71/1000\n",
      "23/23 [==============================] - ETA: 0s - loss: 11.4110 - accuracy: 0.437 - ETA: 0s - loss: 25.7051 - accuracy: 0.603 - ETA: 0s - loss: 26.4542 - accuracy: 0.593 - 0s 12ms/step - loss: 26.2341 - accuracy: 0.5938 - val_loss: 0.6584 - val_accuracy: 0.6387\n",
      "Epoch 72/1000\n",
      "23/23 [==============================] - ETA: 0s - loss: 3.7964 - accuracy: 0.50 - ETA: 0s - loss: 15.5731 - accuracy: 0.591 - ETA: 0s - loss: 22.0575 - accuracy: 0.584 - 0s 10ms/step - loss: 22.5597 - accuracy: 0.5802 - val_loss: 0.6583 - val_accuracy: 0.6387\n",
      "Epoch 73/1000\n",
      "23/23 [==============================] - ETA: 0s - loss: 9.9063 - accuracy: 0.46 - ETA: 0s - loss: 74.9314 - accuracy: 0.593 - ETA: 0s - loss: 53.0505 - accuracy: 0.589 - 0s 10ms/step - loss: 49.0107 - accuracy: 0.5897 - val_loss: 0.6582 - val_accuracy: 0.6387\n",
      "Epoch 74/1000\n",
      "23/23 [==============================] - ETA: 0s - loss: 35.6460 - accuracy: 0.406 - ETA: 0s - loss: 58.4732 - accuracy: 0.576 - ETA: 0s - loss: 60.0459 - accuracy: 0.572 - ETA: 0s - loss: 65.3951 - accuracy: 0.579 - ETA: 0s - loss: 52.2678 - accuracy: 0.595 - 0s 18ms/step - loss: 52.2678 - accuracy: 0.5951 - val_loss: 0.6580 - val_accuracy: 0.6387\n",
      "Epoch 75/1000\n",
      "23/23 [==============================] - ETA: 0s - loss: 6.6858 - accuracy: 0.53 - ETA: 0s - loss: 22.0955 - accuracy: 0.640 - ETA: 0s - loss: 15.4393 - accuracy: 0.583 - 0s 12ms/step - loss: 17.3093 - accuracy: 0.5883 - val_loss: 0.6576 - val_accuracy: 0.6387\n",
      "Epoch 76/1000\n",
      "23/23 [==============================] - ETA: 0s - loss: 11.7910 - accuracy: 0.500 - ETA: 0s - loss: 8.1198 - accuracy: 0.588 - ETA: 0s - loss: 21.6387 - accuracy: 0.600 - 0s 9ms/step - loss: 21.8938 - accuracy: 0.5951 - val_loss: 0.6573 - val_accuracy: 0.6387\n",
      "Epoch 77/1000\n",
      "23/23 [==============================] - ETA: 0s - loss: 238.0120 - accuracy: 0.43 - ETA: 0s - loss: 60.4649 - accuracy: 0.5710 - ETA: 0s - loss: 47.6878 - accuracy: 0.587 - ETA: 0s - loss: 46.0358 - accuracy: 0.583 - ETA: 0s - loss: 38.6104 - accuracy: 0.590 - 0s 19ms/step - loss: 34.3249 - accuracy: 0.5924 - val_loss: 0.6572 - val_accuracy: 0.6387\n",
      "Epoch 78/1000\n",
      "23/23 [==============================] - ETA: 0s - loss: 51.7272 - accuracy: 0.562 - ETA: 0s - loss: 21.7482 - accuracy: 0.625 - ETA: 0s - loss: 52.1977 - accuracy: 0.609 - 0s 15ms/step - loss: 38.1829 - accuracy: 0.6060 - val_loss: 0.6567 - val_accuracy: 0.6387\n",
      "Epoch 79/1000\n",
      "23/23 [==============================] - ETA: 0s - loss: 12.8750 - accuracy: 0.531 - ETA: 0s - loss: 77.3107 - accuracy: 0.588 - ETA: 0s - loss: 49.5296 - accuracy: 0.595 - 0s 10ms/step - loss: 47.4554 - accuracy: 0.5938 - val_loss: 0.6567 - val_accuracy: 0.6387\n",
      "Epoch 80/1000\n",
      "23/23 [==============================] - ETA: 0s - loss: 1.3383 - accuracy: 0.56 - ETA: 0s - loss: 29.0017 - accuracy: 0.593 - ETA: 0s - loss: 29.8937 - accuracy: 0.601 - ETA: 0s - loss: 27.7122 - accuracy: 0.599 - 0s 17ms/step - loss: 24.8334 - accuracy: 0.6005 - val_loss: 0.6564 - val_accuracy: 0.6387\n",
      "Epoch 81/1000\n",
      "23/23 [==============================] - ETA: 0s - loss: 16.0739 - accuracy: 0.500 - ETA: 0s - loss: 12.6841 - accuracy: 0.640 - ETA: 0s - loss: 8.9195 - accuracy: 0.615 - 0s 14ms/step - loss: 9.8818 - accuracy: 0.5992 - val_loss: 0.6561 - val_accuracy: 0.6387\n",
      "Epoch 82/1000\n",
      "23/23 [==============================] - ETA: 0s - loss: 36.7779 - accuracy: 0.468 - ETA: 0s - loss: 11.6660 - accuracy: 0.615 - ETA: 0s - loss: 14.1305 - accuracy: 0.607 - 0s 10ms/step - loss: 13.0085 - accuracy: 0.6073 - val_loss: 0.6559 - val_accuracy: 0.6387\n",
      "Epoch 83/1000\n",
      "23/23 [==============================] - ETA: 0s - loss: 24.4744 - accuracy: 0.500 - ETA: 0s - loss: 14.6862 - accuracy: 0.606 - ETA: 0s - loss: 13.6740 - accuracy: 0.614 - ETA: 0s - loss: 13.1237 - accuracy: 0.611 - 0s 16ms/step - loss: 13.1237 - accuracy: 0.6114 - val_loss: 0.6559 - val_accuracy: 0.6387\n",
      "Epoch 84/1000\n"
     ]
    },
    {
     "name": "stdout",
     "output_type": "stream",
     "text": [
      "23/23 [==============================] - ETA: 0s - loss: 51.2629 - accuracy: 0.468 - ETA: 0s - loss: 16.6514 - accuracy: 0.632 - ETA: 0s - loss: 19.9077 - accuracy: 0.593 - 0s 14ms/step - loss: 20.4165 - accuracy: 0.5883 - val_loss: 0.6557 - val_accuracy: 0.6387\n",
      "Epoch 85/1000\n",
      "23/23 [==============================] - ETA: 0s - loss: 10.7789 - accuracy: 0.406 - ETA: 0s - loss: 8.3483 - accuracy: 0.596 - ETA: 0s - loss: 8.3006 - accuracy: 0.59 - 0s 10ms/step - loss: 21.1208 - accuracy: 0.5992 - val_loss: 0.6557 - val_accuracy: 0.6387\n",
      "Epoch 86/1000\n",
      "23/23 [==============================] - ETA: 0s - loss: 2.5449 - accuracy: 0.50 - ETA: 0s - loss: 18.5565 - accuracy: 0.608 - ETA: 0s - loss: 17.9849 - accuracy: 0.604 - 0s 12ms/step - loss: 17.3303 - accuracy: 0.6046 - val_loss: 0.6559 - val_accuracy: 0.6387\n",
      "Epoch 87/1000\n",
      "23/23 [==============================] - ETA: 0s - loss: 5.5536 - accuracy: 0.50 - ETA: 0s - loss: 26.6343 - accuracy: 0.585 - ETA: 0s - loss: 23.7538 - accuracy: 0.585 - 0s 13ms/step - loss: 22.4124 - accuracy: 0.5897 - val_loss: 0.6559 - val_accuracy: 0.6387\n",
      "Epoch 88/1000\n",
      "23/23 [==============================] - ETA: 0s - loss: 4.8016 - accuracy: 0.46 - ETA: 0s - loss: 11.3729 - accuracy: 0.648 - ETA: 0s - loss: 15.3618 - accuracy: 0.619 - ETA: 0s - loss: 18.8602 - accuracy: 0.625 - 0s 14ms/step - loss: 17.2353 - accuracy: 0.6236 - val_loss: 0.6558 - val_accuracy: 0.6387\n",
      "Epoch 89/1000\n",
      "23/23 [==============================] - ETA: 0s - loss: 1.7460 - accuracy: 0.43 - ETA: 0s - loss: 14.4696 - accuracy: 0.602 - ETA: 0s - loss: 14.3314 - accuracy: 0.600 - 0s 9ms/step - loss: 14.3314 - accuracy: 0.6005 - val_loss: 0.6558 - val_accuracy: 0.6387\n",
      "Epoch 90/1000\n",
      "23/23 [==============================] - ETA: 0s - loss: 13.9438 - accuracy: 0.437 - ETA: 0s - loss: 18.2675 - accuracy: 0.617 - ETA: 0s - loss: 21.3225 - accuracy: 0.591 - ETA: 0s - loss: 18.2179 - accuracy: 0.590 - 0s 14ms/step - loss: 17.9056 - accuracy: 0.5924 - val_loss: 0.6556 - val_accuracy: 0.6387\n",
      "Epoch 91/1000\n",
      "23/23 [==============================] - ETA: 0s - loss: 11.5104 - accuracy: 0.468 - ETA: 0s - loss: 11.1189 - accuracy: 0.625 - ETA: 0s - loss: 12.0195 - accuracy: 0.595 - 0s 12ms/step - loss: 14.6593 - accuracy: 0.5992 - val_loss: 0.6555 - val_accuracy: 0.6387\n",
      "Epoch 92/1000\n",
      "23/23 [==============================] - ETA: 0s - loss: 7.9751 - accuracy: 0.50 - ETA: 0s - loss: 6.9725 - accuracy: 0.60 - ETA: 0s - loss: 7.1471 - accuracy: 0.61 - 0s 9ms/step - loss: 6.8916 - accuracy: 0.6141 - val_loss: 0.6554 - val_accuracy: 0.6387\n",
      "Epoch 93/1000\n",
      "23/23 [==============================] - ETA: 0s - loss: 14.8368 - accuracy: 0.500 - ETA: 0s - loss: 17.4121 - accuracy: 0.596 - ETA: 0s - loss: 14.9427 - accuracy: 0.603 - 0s 14ms/step - loss: 13.1123 - accuracy: 0.6073 - val_loss: 0.6554 - val_accuracy: 0.6387\n",
      "Epoch 94/1000\n",
      "23/23 [==============================] - ETA: 0s - loss: 22.8234 - accuracy: 0.468 - ETA: 0s - loss: 11.9242 - accuracy: 0.614 - ETA: 0s - loss: 11.4455 - accuracy: 0.592 - 0s 13ms/step - loss: 16.2536 - accuracy: 0.5951 - val_loss: 0.6555 - val_accuracy: 0.6387\n",
      "Epoch 95/1000\n",
      "23/23 [==============================] - ETA: 0s - loss: 6.6697 - accuracy: 0.46 - ETA: 0s - loss: 24.7575 - accuracy: 0.621 - ETA: 0s - loss: 18.5481 - accuracy: 0.618 - 0s 11ms/step - loss: 16.6420 - accuracy: 0.6182 - val_loss: 0.6556 - val_accuracy: 0.6387\n",
      "Epoch 96/1000\n",
      "23/23 [==============================] - ETA: 0s - loss: 7.3667 - accuracy: 0.50 - ETA: 0s - loss: 10.4061 - accuracy: 0.590 - ETA: 0s - loss: 8.9174 - accuracy: 0.592 - 0s 10ms/step - loss: 9.5953 - accuracy: 0.5938 - val_loss: 0.6555 - val_accuracy: 0.6387\n",
      "Epoch 97/1000\n",
      "23/23 [==============================] - ETA: 0s - loss: 6.7831 - accuracy: 0.50 - ETA: 0s - loss: 27.2862 - accuracy: 0.640 - ETA: 0s - loss: 25.1656 - accuracy: 0.593 - ETA: 0s - loss: 17.9446 - accuracy: 0.600 - 0s 15ms/step - loss: 16.1412 - accuracy: 0.6005 - val_loss: 0.6556 - val_accuracy: 0.6387\n",
      "Epoch 98/1000\n",
      "23/23 [==============================] - ETA: 0s - loss: 4.8541 - accuracy: 0.53 - ETA: 0s - loss: 7.9349 - accuracy: 0.61 - ETA: 0s - loss: 8.6803 - accuracy: 0.59 - ETA: 0s - loss: 9.4282 - accuracy: 0.59 - 0s 14ms/step - loss: 9.6402 - accuracy: 0.5951 - val_loss: 0.6556 - val_accuracy: 0.6387\n",
      "Epoch 99/1000\n",
      "23/23 [==============================] - ETA: 0s - loss: 1.7225 - accuracy: 0.50 - ETA: 0s - loss: 5.9870 - accuracy: 0.59 - ETA: 0s - loss: 6.9021 - accuracy: 0.60 - 0s 10ms/step - loss: 6.7573 - accuracy: 0.6060 - val_loss: 0.6555 - val_accuracy: 0.6387\n",
      "Epoch 100/1000\n",
      "23/23 [==============================] - ETA: 0s - loss: 18.2982 - accuracy: 0.468 - ETA: 0s - loss: 9.1338 - accuracy: 0.621 - ETA: 0s - loss: 8.3012 - accuracy: 0.59 - ETA: 0s - loss: 7.7715 - accuracy: 0.59 - ETA: 0s - loss: 9.3771 - accuracy: 0.60 - ETA: 0s - loss: 9.5467 - accuracy: 0.60 - 1s 25ms/step - loss: 10.1810 - accuracy: 0.6019 - val_loss: 0.6555 - val_accuracy: 0.6387\n",
      "Epoch 101/1000\n",
      "23/23 [==============================] - ETA: 0s - loss: 11.3605 - accuracy: 0.562 - ETA: 0s - loss: 3.0628 - accuracy: 0.660 - ETA: 0s - loss: 3.3119 - accuracy: 0.61 - ETA: 0s - loss: 4.9547 - accuracy: 0.61 - ETA: 0s - loss: 9.1550 - accuracy: 0.59 - 0s 18ms/step - loss: 9.1550 - accuracy: 0.5992 - val_loss: 0.6554 - val_accuracy: 0.6387\n",
      "Epoch 102/1000\n",
      "23/23 [==============================] - ETA: 0s - loss: 0.8565 - accuracy: 0.53 - ETA: 0s - loss: 5.5358 - accuracy: 0.62 - ETA: 0s - loss: 9.0636 - accuracy: 0.61 - 0s 11ms/step - loss: 9.0728 - accuracy: 0.6114 - val_loss: 0.6555 - val_accuracy: 0.6387\n",
      "Epoch 103/1000\n",
      "23/23 [==============================] - ETA: 0s - loss: 5.1712 - accuracy: 0.50 - ETA: 0s - loss: 13.2734 - accuracy: 0.631 - ETA: 0s - loss: 12.6057 - accuracy: 0.606 - ETA: 0s - loss: 9.6569 - accuracy: 0.606 - ETA: 0s - loss: 9.6992 - accuracy: 0.60 - 0s 18ms/step - loss: 9.6992 - accuracy: 0.6073 - val_loss: 0.6554 - val_accuracy: 0.6387\n",
      "Epoch 104/1000\n",
      "23/23 [==============================] - ETA: 0s - loss: 20.0042 - accuracy: 0.468 - ETA: 0s - loss: 14.0074 - accuracy: 0.640 - ETA: 0s - loss: 12.8356 - accuracy: 0.575 - ETA: 0s - loss: 14.3576 - accuracy: 0.587 - 0s 14ms/step - loss: 14.3576 - accuracy: 0.5870 - val_loss: 0.6555 - val_accuracy: 0.6387\n",
      "Epoch 105/1000\n",
      "23/23 [==============================] - ETA: 0s - loss: 6.9209 - accuracy: 0.53 - ETA: 0s - loss: 6.3965 - accuracy: 0.59 - ETA: 0s - loss: 8.3543 - accuracy: 0.58 - 0s 10ms/step - loss: 11.8447 - accuracy: 0.5883 - val_loss: 0.6555 - val_accuracy: 0.6387\n",
      "Epoch 106/1000\n",
      "23/23 [==============================] - ETA: 0s - loss: 41.7692 - accuracy: 0.468 - ETA: 0s - loss: 10.0292 - accuracy: 0.593 - ETA: 0s - loss: 7.1791 - accuracy: 0.596 - 0s 17ms/step - loss: 6.9309 - accuracy: 0.5951 - val_loss: 0.6553 - val_accuracy: 0.6387\n",
      "Epoch 107/1000\n",
      "23/23 [==============================] - ETA: 0s - loss: 29.2507 - accuracy: 0.531 - ETA: 0s - loss: 9.1145 - accuracy: 0.625 - ETA: 0s - loss: 8.2617 - accuracy: 0.61 - 0s 13ms/step - loss: 6.3918 - accuracy: 0.6182 - val_loss: 0.6552 - val_accuracy: 0.6387\n",
      "Epoch 108/1000\n",
      "23/23 [==============================] - ETA: 0s - loss: 2.5322 - accuracy: 0.53 - ETA: 0s - loss: 11.0649 - accuracy: 0.565 - 0s 9ms/step - loss: 9.1149 - accuracy: 0.5938 - val_loss: 0.6550 - val_accuracy: 0.6387\n",
      "Epoch 109/1000\n",
      "23/23 [==============================] - ETA: 0s - loss: 11.6584 - accuracy: 0.500 - ETA: 0s - loss: 11.9247 - accuracy: 0.637 - ETA: 0s - loss: 7.7797 - accuracy: 0.610 - 0s 15ms/step - loss: 7.3440 - accuracy: 0.6114 - val_loss: 0.6551 - val_accuracy: 0.6387\n",
      "Epoch 110/1000\n",
      "23/23 [==============================] - ETA: 0s - loss: 0.6851 - accuracy: 0.53 - ETA: 0s - loss: 12.0285 - accuracy: 0.621 - ETA: 0s - loss: 19.3616 - accuracy: 0.591 - 0s 15ms/step - loss: 15.7135 - accuracy: 0.6005 - val_loss: 0.6551 - val_accuracy: 0.6387\n",
      "Epoch 111/1000\n",
      "23/23 [==============================] - ETA: 0s - loss: 11.7348 - accuracy: 0.500 - ETA: 0s - loss: 2.2756 - accuracy: 0.660 - ETA: 0s - loss: 4.0390 - accuracy: 0.61 - 0s 11ms/step - loss: 3.1221 - accuracy: 0.6114 - val_loss: 0.6550 - val_accuracy: 0.6387\n",
      "Epoch 112/1000\n"
     ]
    },
    {
     "name": "stdout",
     "output_type": "stream",
     "text": [
      "23/23 [==============================] - ETA: 0s - loss: 14.0057 - accuracy: 0.500 - ETA: 0s - loss: 6.3535 - accuracy: 0.605 - ETA: 0s - loss: 13.6456 - accuracy: 0.604 - 0s 9ms/step - loss: 12.7597 - accuracy: 0.6073 - val_loss: 0.6550 - val_accuracy: 0.6387\n",
      "Epoch 113/1000\n",
      "23/23 [==============================] - ETA: 0s - loss: 2.8012 - accuracy: 0.46 - ETA: 0s - loss: 1.6207 - accuracy: 0.61 - ETA: 0s - loss: 5.7126 - accuracy: 0.60 - 0s 17ms/step - loss: 7.6163 - accuracy: 0.6114 - val_loss: 0.6550 - val_accuracy: 0.6387\n",
      "Epoch 114/1000\n",
      "23/23 [==============================] - ETA: 0s - loss: 1.8327 - accuracy: 0.50 - ETA: 0s - loss: 14.7646 - accuracy: 0.603 - ETA: 0s - loss: 15.9184 - accuracy: 0.586 - 0s 14ms/step - loss: 13.4843 - accuracy: 0.5938 - val_loss: 0.6549 - val_accuracy: 0.6387\n",
      "Epoch 115/1000\n",
      "23/23 [==============================] - ETA: 0s - loss: 1.3936 - accuracy: 0.53 - ETA: 0s - loss: 13.5738 - accuracy: 0.615 - ETA: 0s - loss: 9.7578 - accuracy: 0.611 - 0s 10ms/step - loss: 7.9973 - accuracy: 0.6155 - val_loss: 0.6551 - val_accuracy: 0.6387\n",
      "Epoch 116/1000\n",
      "23/23 [==============================] - ETA: 0s - loss: 0.8534 - accuracy: 0.50 - ETA: 0s - loss: 15.3571 - accuracy: 0.616 - ETA: 0s - loss: 11.6728 - accuracy: 0.604 - 0s 10ms/step - loss: 10.8054 - accuracy: 0.6073 - val_loss: 0.6551 - val_accuracy: 0.6387\n",
      "Epoch 117/1000\n",
      "23/23 [==============================] - ETA: 0s - loss: 2.7840 - accuracy: 0.46 - ETA: 0s - loss: 4.0596 - accuracy: 0.60 - ETA: 0s - loss: 10.9096 - accuracy: 0.598 - 0s 10ms/step - loss: 10.7498 - accuracy: 0.5992 - val_loss: 0.6551 - val_accuracy: 0.6387\n",
      "Epoch 118/1000\n",
      "23/23 [==============================] - ETA: 0s - loss: 8.5333 - accuracy: 0.46 - ETA: 0s - loss: 4.7613 - accuracy: 0.54 - ETA: 0s - loss: 11.1655 - accuracy: 0.605 - ETA: 0s - loss: 20.2412 - accuracy: 0.599 - 0s 18ms/step - loss: 16.1358 - accuracy: 0.6046 - val_loss: 0.6552 - val_accuracy: 0.6387\n",
      "Epoch 119/1000\n",
      "23/23 [==============================] - ETA: 0s - loss: 0.7054 - accuracy: 0.50 - ETA: 0s - loss: 4.1431 - accuracy: 0.63 - ETA: 0s - loss: 4.3342 - accuracy: 0.60 - 0s 12ms/step - loss: 7.0287 - accuracy: 0.6033 - val_loss: 0.6553 - val_accuracy: 0.6387\n",
      "Epoch 120/1000\n",
      "23/23 [==============================] - ETA: 0s - loss: 0.7086 - accuracy: 0.50 - ETA: 0s - loss: 5.6055 - accuracy: 0.61 - ETA: 0s - loss: 5.2878 - accuracy: 0.61 - 0s 9ms/step - loss: 5.2590 - accuracy: 0.6141 - val_loss: 0.6554 - val_accuracy: 0.6387\n",
      "Epoch 121/1000\n",
      "23/23 [==============================] - ETA: 0s - loss: 0.6668 - accuracy: 0.56 - ETA: 0s - loss: 3.8556 - accuracy: 0.61 - ETA: 0s - loss: 3.3779 - accuracy: 0.61 - 0s 11ms/step - loss: 3.2743 - accuracy: 0.6101 - val_loss: 0.6554 - val_accuracy: 0.6387\n",
      "Epoch 122/1000\n",
      "23/23 [==============================] - ETA: 0s - loss: 10.3268 - accuracy: 0.531 - ETA: 0s - loss: 6.1826 - accuracy: 0.643 - ETA: 0s - loss: 5.4528 - accuracy: 0.65 - ETA: 0s - loss: 6.6230 - accuracy: 0.58 - ETA: 0s - loss: 6.6524 - accuracy: 0.59 - 0s 18ms/step - loss: 5.6288 - accuracy: 0.5978 - val_loss: 0.6554 - val_accuracy: 0.6387\n",
      "Epoch 123/1000\n",
      "23/23 [==============================] - ETA: 0s - loss: 2.0258 - accuracy: 0.50 - ETA: 0s - loss: 8.7155 - accuracy: 0.60 - ETA: 0s - loss: 5.7372 - accuracy: 0.60 - 0s 10ms/step - loss: 5.2622 - accuracy: 0.6114 - val_loss: 0.6555 - val_accuracy: 0.6387\n",
      "Epoch 124/1000\n",
      "23/23 [==============================] - ETA: 0s - loss: 3.7001 - accuracy: 0.50 - ETA: 0s - loss: 13.1985 - accuracy: 0.596 - ETA: 0s - loss: 8.7218 - accuracy: 0.607 - 0s 11ms/step - loss: 8.7218 - accuracy: 0.6073 - val_loss: 0.6556 - val_accuracy: 0.6387\n"
     ]
    },
    {
     "data": {
      "text/html": [
       "<span style=\"color:#4527A0\"><h1 style=\"font-size:18px\">Trial complete</h1></span>"
      ],
      "text/plain": [
       "<IPython.core.display.HTML object>"
      ]
     },
     "metadata": {},
     "output_type": "display_data"
    },
    {
     "data": {
      "text/html": [
       "<span style=\"color:#4527A0\"><h1 style=\"font-size:18px\">Trial summary</h1></span>"
      ],
      "text/plain": [
       "<IPython.core.display.HTML object>"
      ]
     },
     "metadata": {},
     "output_type": "display_data"
    },
    {
     "data": {
      "text/html": [
       "<span style=\"color:cyan\"> |-Trial ID: 607610f2615971d3f2a4a07928b2d2db</span>"
      ],
      "text/plain": [
       "<IPython.core.display.HTML object>"
      ]
     },
     "metadata": {},
     "output_type": "display_data"
    },
    {
     "data": {
      "text/html": [
       "<span style=\"color:cyan\"> |-Score: 0.6967741847038269</span>"
      ],
      "text/plain": [
       "<IPython.core.display.HTML object>"
      ]
     },
     "metadata": {},
     "output_type": "display_data"
    },
    {
     "data": {
      "text/html": [
       "<span style=\"color:cyan\"> |-Best step: 4</span>"
      ],
      "text/plain": [
       "<IPython.core.display.HTML object>"
      ]
     },
     "metadata": {},
     "output_type": "display_data"
    },
    {
     "data": {
      "text/html": [
       "<span style=\"color:#7E57C2\"><h2 style=\"font-size:16px\">Hyperparameters:</h2></span>"
      ],
      "text/plain": [
       "<IPython.core.display.HTML object>"
      ]
     },
     "metadata": {},
     "output_type": "display_data"
    },
    {
     "data": {
      "text/html": [
       "<span style=\"color:cyan\"> |-classification_head_2/dropout: 0</span>"
      ],
      "text/plain": [
       "<IPython.core.display.HTML object>"
      ]
     },
     "metadata": {},
     "output_type": "display_data"
    },
    {
     "data": {
      "text/html": [
       "<span style=\"color:blue\"> |-learning_rate: 0.001</span>"
      ],
      "text/plain": [
       "<IPython.core.display.HTML object>"
      ]
     },
     "metadata": {},
     "output_type": "display_data"
    },
    {
     "data": {
      "text/html": [
       "<span style=\"color:cyan\"> |-optimizer: adam</span>"
      ],
      "text/plain": [
       "<IPython.core.display.HTML object>"
      ]
     },
     "metadata": {},
     "output_type": "display_data"
    },
    {
     "data": {
      "text/html": [
       "<span style=\"color:blue\"> |-structured_data_block_2/dense_block_1/dropout: 0.5</span>"
      ],
      "text/plain": [
       "<IPython.core.display.HTML object>"
      ]
     },
     "metadata": {},
     "output_type": "display_data"
    },
    {
     "data": {
      "text/html": [
       "<span style=\"color:cyan\"> |-structured_data_block_2/dense_block_1/num_layers: 3</span>"
      ],
      "text/plain": [
       "<IPython.core.display.HTML object>"
      ]
     },
     "metadata": {},
     "output_type": "display_data"
    },
    {
     "data": {
      "text/html": [
       "<span style=\"color:blue\"> |-structured_data_block_2/dense_block_1/units_0: 64</span>"
      ],
      "text/plain": [
       "<IPython.core.display.HTML object>"
      ]
     },
     "metadata": {},
     "output_type": "display_data"
    },
    {
     "data": {
      "text/html": [
       "<span style=\"color:cyan\"> |-structured_data_block_2/dense_block_1/units_1: 64</span>"
      ],
      "text/plain": [
       "<IPython.core.display.HTML object>"
      ]
     },
     "metadata": {},
     "output_type": "display_data"
    },
    {
     "data": {
      "text/html": [
       "<span style=\"color:blue\"> |-structured_data_block_2/dense_block_1/units_2: 1024</span>"
      ],
      "text/plain": [
       "<IPython.core.display.HTML object>"
      ]
     },
     "metadata": {},
     "output_type": "display_data"
    },
    {
     "data": {
      "text/html": [
       "<span style=\"color:cyan\"> |-structured_data_block_2/dense_block_1/use_batchnorm: False</span>"
      ],
      "text/plain": [
       "<IPython.core.display.HTML object>"
      ]
     },
     "metadata": {},
     "output_type": "display_data"
    },
    {
     "data": {
      "text/html": [
       "<span style=\"color:#4527A0\"><h1 style=\"font-size:18px\">Starting new trial</h1></span>"
      ],
      "text/plain": [
       "<IPython.core.display.HTML object>"
      ]
     },
     "metadata": {},
     "output_type": "display_data"
    },
    {
     "name": "stdout",
     "output_type": "stream",
     "text": [
      "Epoch 1/1000\n",
      "23/23 [==============================] - ETA: 0s - loss: 0.9061 - accuracy: 0.50 - ETA: 0s - loss: 0.7395 - accuracy: 0.55 - 1s 31ms/step - loss: 0.7086 - accuracy: 0.5883 - val_loss: 0.6739 - val_accuracy: 0.6774\n",
      "Epoch 2/1000\n",
      "23/23 [==============================] - ETA: 0s - loss: 0.9752 - accuracy: 0.50 - ETA: 0s - loss: 0.7649 - accuracy: 0.57 - 0s 8ms/step - loss: 0.7359 - accuracy: 0.5965 - val_loss: 0.6632 - val_accuracy: 0.6903\n",
      "Epoch 3/1000\n",
      "23/23 [==============================] - ETA: 0s - loss: 0.6987 - accuracy: 0.46 - ETA: 0s - loss: 0.7088 - accuracy: 0.60 - 0s 8ms/step - loss: 0.6798 - accuracy: 0.6291 - val_loss: 0.6612 - val_accuracy: 0.6452\n",
      "Epoch 4/1000\n",
      "23/23 [==============================] - ETA: 0s - loss: 0.7987 - accuracy: 0.46 - ETA: 0s - loss: 0.7128 - accuracy: 0.55 - 0s 8ms/step - loss: 0.6812 - accuracy: 0.6005 - val_loss: 0.6485 - val_accuracy: 0.6774\n",
      "Epoch 5/1000\n",
      "23/23 [==============================] - ETA: 0s - loss: 0.6903 - accuracy: 0.56 - ETA: 0s - loss: 0.6900 - accuracy: 0.61 - 0s 9ms/step - loss: 0.6806 - accuracy: 0.6209 - val_loss: 0.6332 - val_accuracy: 0.6774\n",
      "Epoch 6/1000\n",
      "23/23 [==============================] - ETA: 0s - loss: 0.8045 - accuracy: 0.50 - ETA: 0s - loss: 0.6784 - accuracy: 0.59 - 0s 9ms/step - loss: 0.6576 - accuracy: 0.6155 - val_loss: 0.6219 - val_accuracy: 0.6774\n",
      "Epoch 7/1000\n",
      "23/23 [==============================] - ETA: 0s - loss: 0.6880 - accuracy: 0.50 - ETA: 0s - loss: 0.6728 - accuracy: 0.60 - 0s 9ms/step - loss: 0.6555 - accuracy: 0.6277 - val_loss: 0.6108 - val_accuracy: 0.6968\n",
      "Epoch 8/1000\n",
      "23/23 [==============================] - ETA: 0s - loss: 0.8479 - accuracy: 0.53 - ETA: 0s - loss: 0.6979 - accuracy: 0.61 - 0s 8ms/step - loss: 0.6728 - accuracy: 0.6413 - val_loss: 0.6194 - val_accuracy: 0.6774\n",
      "Epoch 9/1000\n",
      "23/23 [==============================] - ETA: 0s - loss: 0.6767 - accuracy: 0.56 - ETA: 0s - loss: 0.6842 - accuracy: 0.60 - ETA: 0s - loss: 0.6821 - accuracy: 0.61 - 0s 15ms/step - loss: 0.6699 - accuracy: 0.6291 - val_loss: 0.6260 - val_accuracy: 0.6645\n",
      "Epoch 10/1000\n",
      "23/23 [==============================] - ETA: 0s - loss: 0.7073 - accuracy: 0.62 - ETA: 0s - loss: 0.6824 - accuracy: 0.61 - ETA: 0s - loss: 0.6629 - accuracy: 0.62 - 0s 11ms/step - loss: 0.6550 - accuracy: 0.6332 - val_loss: 0.6257 - val_accuracy: 0.6839\n",
      "Epoch 11/1000\n",
      "23/23 [==============================] - ETA: 0s - loss: 0.6751 - accuracy: 0.56 - ETA: 0s - loss: 0.6506 - accuracy: 0.63 - ETA: 0s - loss: 0.6395 - accuracy: 0.64 - 0s 11ms/step - loss: 0.6395 - accuracy: 0.6454 - val_loss: 0.6084 - val_accuracy: 0.7097\n",
      "Epoch 12/1000\n",
      "23/23 [==============================] - ETA: 0s - loss: 0.6813 - accuracy: 0.56 - ETA: 0s - loss: 0.6509 - accuracy: 0.64 - ETA: 0s - loss: 0.6431 - accuracy: 0.64 - 0s 16ms/step - loss: 0.6384 - accuracy: 0.6495 - val_loss: 0.6099 - val_accuracy: 0.6839\n",
      "Epoch 13/1000\n",
      "23/23 [==============================] - ETA: 0s - loss: 0.6978 - accuracy: 0.59 - ETA: 0s - loss: 0.6646 - accuracy: 0.62 - ETA: 0s - loss: 0.6493 - accuracy: 0.63 - 0s 12ms/step - loss: 0.6472 - accuracy: 0.6345 - val_loss: 0.6180 - val_accuracy: 0.6839\n",
      "Epoch 14/1000\n",
      "23/23 [==============================] - ETA: 0s - loss: 0.8278 - accuracy: 0.43 - ETA: 0s - loss: 0.6966 - accuracy: 0.58 - 0s 10ms/step - loss: 0.6643 - accuracy: 0.6155 - val_loss: 0.6136 - val_accuracy: 0.6839\n",
      "Epoch 15/1000\n",
      "23/23 [==============================] - ETA: 0s - loss: 0.6959 - accuracy: 0.50 - ETA: 0s - loss: 0.6903 - accuracy: 0.61 - 0s 9ms/step - loss: 0.6714 - accuracy: 0.6209 - val_loss: 0.6185 - val_accuracy: 0.6903\n",
      "Epoch 16/1000\n",
      "23/23 [==============================] - ETA: 0s - loss: 0.7331 - accuracy: 0.46 - ETA: 0s - loss: 0.6702 - accuracy: 0.61 - 0s 8ms/step - loss: 0.6550 - accuracy: 0.6318 - val_loss: 0.6097 - val_accuracy: 0.6903\n",
      "Epoch 17/1000\n",
      "23/23 [==============================] - ETA: 0s - loss: 0.6527 - accuracy: 0.59 - ETA: 0s - loss: 0.7183 - accuracy: 0.56 - ETA: 0s - loss: 0.6928 - accuracy: 0.60 - ETA: 0s - loss: 0.6896 - accuracy: 0.60 - ETA: 0s - loss: 0.6801 - accuracy: 0.62 - 0s 18ms/step - loss: 0.6606 - accuracy: 0.6399 - val_loss: 0.6142 - val_accuracy: 0.6839\n",
      "Epoch 18/1000\n",
      "23/23 [==============================] - ETA: 0s - loss: 0.7166 - accuracy: 0.53 - ETA: 0s - loss: 0.6640 - accuracy: 0.62 - 0s 10ms/step - loss: 0.6474 - accuracy: 0.6277 - val_loss: 0.6235 - val_accuracy: 0.7097\n",
      "Epoch 19/1000\n",
      "23/23 [==============================] - ETA: 0s - loss: 0.7699 - accuracy: 0.50 - ETA: 0s - loss: 0.6709 - accuracy: 0.61 - 0s 9ms/step - loss: 0.6536 - accuracy: 0.6209 - val_loss: 0.6115 - val_accuracy: 0.6903\n",
      "Epoch 20/1000\n",
      "23/23 [==============================] - ETA: 0s - loss: 0.7535 - accuracy: 0.43 - ETA: 0s - loss: 0.6699 - accuracy: 0.62 - ETA: 0s - loss: 0.6768 - accuracy: 0.61 - ETA: 0s - loss: 0.6388 - accuracy: 0.65 - 0s 15ms/step - loss: 0.6388 - accuracy: 0.6549 - val_loss: 0.6119 - val_accuracy: 0.7032\n",
      "Epoch 21/1000\n",
      "23/23 [==============================] - ETA: 0s - loss: 0.6346 - accuracy: 0.68 - ETA: 0s - loss: 0.6600 - accuracy: 0.63 - 0s 11ms/step - loss: 0.6451 - accuracy: 0.6508 - val_loss: 0.6113 - val_accuracy: 0.7032\n"
     ]
    },
    {
     "data": {
      "text/html": [
       "<span style=\"color:#4527A0\"><h1 style=\"font-size:18px\">Trial complete</h1></span>"
      ],
      "text/plain": [
       "<IPython.core.display.HTML object>"
      ]
     },
     "metadata": {},
     "output_type": "display_data"
    },
    {
     "data": {
      "text/html": [
       "<span style=\"color:#4527A0\"><h1 style=\"font-size:18px\">Trial summary</h1></span>"
      ],
      "text/plain": [
       "<IPython.core.display.HTML object>"
      ]
     },
     "metadata": {},
     "output_type": "display_data"
    },
    {
     "data": {
      "text/html": [
       "<span style=\"color:cyan\"> |-Trial ID: 6182afc20d331689f222058ecb298f80</span>"
      ],
      "text/plain": [
       "<IPython.core.display.HTML object>"
      ]
     },
     "metadata": {},
     "output_type": "display_data"
    },
    {
     "data": {
      "text/html": [
       "<span style=\"color:cyan\"> |-Score: 0.7096773982048035</span>"
      ],
      "text/plain": [
       "<IPython.core.display.HTML object>"
      ]
     },
     "metadata": {},
     "output_type": "display_data"
    },
    {
     "data": {
      "text/html": [
       "<span style=\"color:cyan\"> |-Best step: 10</span>"
      ],
      "text/plain": [
       "<IPython.core.display.HTML object>"
      ]
     },
     "metadata": {},
     "output_type": "display_data"
    },
    {
     "data": {
      "text/html": [
       "<span style=\"color:#7E57C2\"><h2 style=\"font-size:16px\">Hyperparameters:</h2></span>"
      ],
      "text/plain": [
       "<IPython.core.display.HTML object>"
      ]
     },
     "metadata": {},
     "output_type": "display_data"
    },
    {
     "data": {
      "text/html": [
       "<span style=\"color:cyan\"> |-classification_head_2/dropout: 0</span>"
      ],
      "text/plain": [
       "<IPython.core.display.HTML object>"
      ]
     },
     "metadata": {},
     "output_type": "display_data"
    },
    {
     "data": {
      "text/html": [
       "<span style=\"color:blue\"> |-learning_rate: 0.001</span>"
      ],
      "text/plain": [
       "<IPython.core.display.HTML object>"
      ]
     },
     "metadata": {},
     "output_type": "display_data"
    },
    {
     "data": {
      "text/html": [
       "<span style=\"color:cyan\"> |-optimizer: adam</span>"
      ],
      "text/plain": [
       "<IPython.core.display.HTML object>"
      ]
     },
     "metadata": {},
     "output_type": "display_data"
    },
    {
     "data": {
      "text/html": [
       "<span style=\"color:blue\"> |-structured_data_block_2/dense_block_1/dropout: 0.25</span>"
      ],
      "text/plain": [
       "<IPython.core.display.HTML object>"
      ]
     },
     "metadata": {},
     "output_type": "display_data"
    },
    {
     "data": {
      "text/html": [
       "<span style=\"color:cyan\"> |-structured_data_block_2/dense_block_1/num_layers: 2</span>"
      ],
      "text/plain": [
       "<IPython.core.display.HTML object>"
      ]
     },
     "metadata": {},
     "output_type": "display_data"
    },
    {
     "data": {
      "text/html": [
       "<span style=\"color:blue\"> |-structured_data_block_2/dense_block_1/units_0: 32</span>"
      ],
      "text/plain": [
       "<IPython.core.display.HTML object>"
      ]
     },
     "metadata": {},
     "output_type": "display_data"
    },
    {
     "data": {
      "text/html": [
       "<span style=\"color:cyan\"> |-structured_data_block_2/dense_block_1/units_1: 128</span>"
      ],
      "text/plain": [
       "<IPython.core.display.HTML object>"
      ]
     },
     "metadata": {},
     "output_type": "display_data"
    },
    {
     "data": {
      "text/html": [
       "<span style=\"color:blue\"> |-structured_data_block_2/dense_block_1/units_2: 32</span>"
      ],
      "text/plain": [
       "<IPython.core.display.HTML object>"
      ]
     },
     "metadata": {},
     "output_type": "display_data"
    },
    {
     "data": {
      "text/html": [
       "<span style=\"color:cyan\"> |-structured_data_block_2/dense_block_1/use_batchnorm: True</span>"
      ],
      "text/plain": [
       "<IPython.core.display.HTML object>"
      ]
     },
     "metadata": {},
     "output_type": "display_data"
    },
    {
     "data": {
      "text/html": [
       "<span style=\"color:#4527A0\"><h1 style=\"font-size:18px\">Starting new trial</h1></span>"
      ],
      "text/plain": [
       "<IPython.core.display.HTML object>"
      ]
     },
     "metadata": {},
     "output_type": "display_data"
    },
    {
     "name": "stdout",
     "output_type": "stream",
     "text": [
      "Epoch 1/1000\n",
      "23/23 [==============================] - ETA: 0s - loss: 8297.7715 - accuracy: 0.500 - ETA: 0s - loss: 5860.1802 - accuracy: 0.500 - 1s 23ms/step - loss: 4881.0488 - accuracy: 0.5095 - val_loss: 1181.3521 - val_accuracy: 0.6903\n",
      "Epoch 2/1000\n",
      "23/23 [==============================] - ETA: 0s - loss: 10809.1270 - accuracy: 0.43 - ETA: 0s - loss: 4135.9351 - accuracy: 0.4922 - ETA: 0s - loss: 3565.4565 - accuracy: 0.504 - 0s 9ms/step - loss: 3565.4565 - accuracy: 0.5041 - val_loss: 142.4299 - val_accuracy: 0.6452\n",
      "Epoch 3/1000\n",
      "23/23 [==============================] - ETA: 0s - loss: 1558.1412 - accuracy: 0.500 - ETA: 0s - loss: 1583.7202 - accuracy: 0.562 - ETA: 0s - loss: 1820.0469 - accuracy: 0.520 - 0s 10ms/step - loss: 1820.0469 - accuracy: 0.5204 - val_loss: 81.4874 - val_accuracy: 0.6129\n",
      "Epoch 4/1000\n",
      "23/23 [==============================] - ETA: 0s - loss: 1250.9023 - accuracy: 0.531 - ETA: 0s - loss: 1162.6292 - accuracy: 0.546 - ETA: 0s - loss: 1057.6266 - accuracy: 0.535 - 0s 14ms/step - loss: 1016.9598 - accuracy: 0.5394 - val_loss: 0.6708 - val_accuracy: 0.6387\n",
      "Epoch 5/1000\n",
      "23/23 [==============================] - ETA: 0s - loss: 4385.1602 - accuracy: 0.468 - ETA: 0s - loss: 973.1700 - accuracy: 0.518 - ETA: 0s - loss: 933.4868 - accuracy: 0.48 - 0s 12ms/step - loss: 824.0793 - accuracy: 0.5014 - val_loss: 0.6822 - val_accuracy: 0.6387\n",
      "Epoch 6/1000\n",
      "23/23 [==============================] - ETA: 0s - loss: 676.0863 - accuracy: 0.56 - ETA: 0s - loss: 912.1735 - accuracy: 0.54 - ETA: 0s - loss: 686.4973 - accuracy: 0.55 - 0s 12ms/step - loss: 666.8735 - accuracy: 0.5625 - val_loss: 0.6783 - val_accuracy: 0.6387\n",
      "Epoch 7/1000\n",
      "23/23 [==============================] - ETA: 0s - loss: 1408.4159 - accuracy: 0.531 - ETA: 0s - loss: 655.0576 - accuracy: 0.589 - ETA: 0s - loss: 487.4814 - accuracy: 0.58 - ETA: 0s - loss: 469.5594 - accuracy: 0.57 - ETA: 0s - loss: 444.9077 - accuracy: 0.58 - ETA: 0s - loss: 416.3287 - accuracy: 0.58 - 1s 23ms/step - loss: 416.3287 - accuracy: 0.5829 - val_loss: 0.6716 - val_accuracy: 0.6387\n",
      "Epoch 8/1000\n",
      "23/23 [==============================] - ETA: 0s - loss: 197.8275 - accuracy: 0.56 - ETA: 0s - loss: 239.3031 - accuracy: 0.63 - ETA: 0s - loss: 195.2690 - accuracy: 0.59 - ETA: 0s - loss: 182.1091 - accuracy: 0.59 - 0s 13ms/step - loss: 182.1091 - accuracy: 0.5910 - val_loss: 0.6631 - val_accuracy: 0.6387\n",
      "Epoch 9/1000\n",
      "23/23 [==============================] - ETA: 0s - loss: 100.2122 - accuracy: 0.59 - ETA: 0s - loss: 70.5909 - accuracy: 0.5729 - ETA: 0s - loss: 70.1277 - accuracy: 0.588 - ETA: 0s - loss: 135.5811 - accuracy: 0.59 - 0s 19ms/step - loss: 133.0493 - accuracy: 0.5938 - val_loss: 0.6588 - val_accuracy: 0.6387\n",
      "Epoch 10/1000\n",
      "23/23 [==============================] - ETA: 0s - loss: 61.8826 - accuracy: 0.468 - ETA: 0s - loss: 186.0733 - accuracy: 0.60 - ETA: 0s - loss: 159.0748 - accuracy: 0.58 - ETA: 0s - loss: 123.1592 - accuracy: 0.57 - 0s 14ms/step - loss: 122.9622 - accuracy: 0.5761 - val_loss: 0.6573 - val_accuracy: 0.6387\n",
      "Epoch 11/1000\n",
      "23/23 [==============================] - ETA: 0s - loss: 24.0181 - accuracy: 0.562 - ETA: 0s - loss: 129.3610 - accuracy: 0.59 - ETA: 0s - loss: 159.7825 - accuracy: 0.58 - ETA: 0s - loss: 152.9734 - accuracy: 0.59 - 0s 19ms/step - loss: 152.9734 - accuracy: 0.5910 - val_loss: 0.6570 - val_accuracy: 0.6387\n",
      "Epoch 12/1000\n",
      "23/23 [==============================] - ETA: 0s - loss: 55.7622 - accuracy: 0.468 - ETA: 0s - loss: 81.6259 - accuracy: 0.609 - ETA: 0s - loss: 56.7347 - accuracy: 0.598 - 0s 13ms/step - loss: 68.3726 - accuracy: 0.5978 - val_loss: 0.6568 - val_accuracy: 0.6387\n",
      "Epoch 13/1000\n",
      "23/23 [==============================] - ETA: 0s - loss: 48.3464 - accuracy: 0.406 - ETA: 0s - loss: 97.1489 - accuracy: 0.593 - ETA: 0s - loss: 107.3368 - accuracy: 0.57 - 0s 13ms/step - loss: 114.8722 - accuracy: 0.5842 - val_loss: 0.6573 - val_accuracy: 0.6387\n",
      "Epoch 14/1000\n",
      "23/23 [==============================] - ETA: 0s - loss: 17.2609 - accuracy: 0.500 - ETA: 0s - loss: 27.6138 - accuracy: 0.596 - ETA: 0s - loss: 17.9271 - accuracy: 0.606 - 0s 10ms/step - loss: 17.9271 - accuracy: 0.6060 - val_loss: 0.6573 - val_accuracy: 0.6387\n",
      "Epoch 15/1000\n",
      "23/23 [==============================] - ETA: 0s - loss: 135.8922 - accuracy: 0.50 - ETA: 0s - loss: 31.7371 - accuracy: 0.6108 - ETA: 0s - loss: 21.3406 - accuracy: 0.610 - 0s 10ms/step - loss: 20.5854 - accuracy: 0.6087 - val_loss: 0.6571 - val_accuracy: 0.6387\n",
      "Epoch 16/1000\n",
      "23/23 [==============================] - ETA: 0s - loss: 13.1328 - accuracy: 0.500 - ETA: 0s - loss: 24.5412 - accuracy: 0.618 - ETA: 0s - loss: 27.2448 - accuracy: 0.614 - 0s 10ms/step - loss: 27.6522 - accuracy: 0.6155 - val_loss: 0.6566 - val_accuracy: 0.6387\n",
      "Epoch 17/1000\n",
      "23/23 [==============================] - ETA: 0s - loss: 0.6689 - accuracy: 0.50 - ETA: 0s - loss: 46.0212 - accuracy: 0.609 - ETA: 0s - loss: 33.7107 - accuracy: 0.602 - 0s 11ms/step - loss: 31.3863 - accuracy: 0.6073 - val_loss: 0.6563 - val_accuracy: 0.6387\n",
      "Epoch 18/1000\n",
      "23/23 [==============================] - ETA: 0s - loss: 53.9074 - accuracy: 0.500 - ETA: 0s - loss: 24.2501 - accuracy: 0.613 - 0s 9ms/step - loss: 33.4754 - accuracy: 0.6101 - val_loss: 0.6568 - val_accuracy: 0.6387\n",
      "Epoch 19/1000\n",
      "23/23 [==============================] - ETA: 0s - loss: 70.9563 - accuracy: 0.500 - ETA: 0s - loss: 63.2900 - accuracy: 0.612 - ETA: 0s - loss: 58.4702 - accuracy: 0.615 - ETA: 0s - loss: 45.6928 - accuracy: 0.608 - 0s 16ms/step - loss: 41.7743 - accuracy: 0.6101 - val_loss: 0.6570 - val_accuracy: 0.6387\n",
      "Epoch 20/1000\n",
      "23/23 [==============================] - ETA: 0s - loss: 4.8899 - accuracy: 0.50 - ETA: 0s - loss: 42.8452 - accuracy: 0.610 - ETA: 0s - loss: 23.9306 - accuracy: 0.608 - 0s 13ms/step - loss: 25.8547 - accuracy: 0.6101 - val_loss: 0.6569 - val_accuracy: 0.6387\n",
      "Epoch 21/1000\n",
      "23/23 [==============================] - ETA: 0s - loss: 0.7651 - accuracy: 0.46 - ETA: 0s - loss: 18.7522 - accuracy: 0.633 - ETA: 0s - loss: 11.2204 - accuracy: 0.604 - ETA: 0s - loss: 6.8514 - accuracy: 0.609 - 0s 17ms/step - loss: 7.0175 - accuracy: 0.6073 - val_loss: 0.6568 - val_accuracy: 0.6387\n",
      "Epoch 22/1000\n",
      "23/23 [==============================] - ETA: 0s - loss: 14.5172 - accuracy: 0.531 - ETA: 0s - loss: 4.6418 - accuracy: 0.621 - ETA: 0s - loss: 4.4022 - accuracy: 0.60 - 0s 14ms/step - loss: 3.8830 - accuracy: 0.6114 - val_loss: 0.6564 - val_accuracy: 0.6387\n",
      "Epoch 23/1000\n",
      "23/23 [==============================] - ETA: 0s - loss: 12.3498 - accuracy: 0.500 - ETA: 0s - loss: 16.4674 - accuracy: 0.610 - ETA: 0s - loss: 22.4357 - accuracy: 0.610 - 0s 12ms/step - loss: 20.7228 - accuracy: 0.6114 - val_loss: 0.6564 - val_accuracy: 0.6387\n",
      "Epoch 24/1000\n",
      "23/23 [==============================] - ETA: 0s - loss: 6.4327 - accuracy: 0.50 - ETA: 0s - loss: 12.4336 - accuracy: 0.604 - ETA: 0s - loss: 13.7142 - accuracy: 0.610 - 0s 11ms/step - loss: 13.1463 - accuracy: 0.6114 - val_loss: 0.6565 - val_accuracy: 0.6387\n",
      "Epoch 25/1000\n",
      "23/23 [==============================] - ETA: 0s - loss: 0.6908 - accuracy: 0.53 - ETA: 0s - loss: 11.5465 - accuracy: 0.619 - ETA: 0s - loss: 6.2778 - accuracy: 0.619 - 0s 10ms/step - loss: 6.7534 - accuracy: 0.6182 - val_loss: 0.6565 - val_accuracy: 0.6387\n",
      "Epoch 26/1000\n",
      "23/23 [==============================] - ETA: 0s - loss: 0.7213 - accuracy: 0.50 - ETA: 0s - loss: 7.2996 - accuracy: 0.60 - ETA: 0s - loss: 7.1744 - accuracy: 0.61 - 0s 15ms/step - loss: 7.1976 - accuracy: 0.6128 - val_loss: 0.6563 - val_accuracy: 0.6387\n",
      "Epoch 27/1000\n",
      "23/23 [==============================] - ETA: 0s - loss: 0.6873 - accuracy: 0.53 - ETA: 0s - loss: 35.7930 - accuracy: 0.602 - ETA: 0s - loss: 31.7012 - accuracy: 0.607 - 0s 13ms/step - loss: 29.0017 - accuracy: 0.6087 - val_loss: 0.6561 - val_accuracy: 0.6387\n",
      "Epoch 28/1000\n",
      "23/23 [==============================] - ETA: 0s - loss: 0.7017 - accuracy: 0.50 - ETA: 0s - loss: 1.1952 - accuracy: 0.61 - ETA: 0s - loss: 1.2572 - accuracy: 0.60 - 0s 11ms/step - loss: 1.2032 - accuracy: 0.6073 - val_loss: 0.6562 - val_accuracy: 0.6387\n",
      "Epoch 29/1000\n"
     ]
    },
    {
     "name": "stdout",
     "output_type": "stream",
     "text": [
      "23/23 [==============================] - ETA: 0s - loss: 0.6874 - accuracy: 0.53 - ETA: 0s - loss: 0.6811 - accuracy: 0.61 - ETA: 0s - loss: 5.8711 - accuracy: 0.61 - 0s 13ms/step - loss: 5.6450 - accuracy: 0.6128 - val_loss: 0.6562 - val_accuracy: 0.6387\n",
      "Epoch 30/1000\n",
      "23/23 [==============================] - ETA: 0s - loss: 0.7066 - accuracy: 0.50 - ETA: 0s - loss: 5.9572 - accuracy: 0.61 - ETA: 0s - loss: 5.8352 - accuracy: 0.60 - ETA: 0s - loss: 13.2120 - accuracy: 0.608 - 0s 14ms/step - loss: 12.1248 - accuracy: 0.6101 - val_loss: 0.6562 - val_accuracy: 0.6387\n",
      "Epoch 31/1000\n",
      "23/23 [==============================] - ETA: 0s - loss: 0.7218 - accuracy: 0.50 - ETA: 0s - loss: 6.5440 - accuracy: 0.60 - ETA: 0s - loss: 4.4705 - accuracy: 0.60 - 0s 12ms/step - loss: 5.4278 - accuracy: 0.6101 - val_loss: 0.6562 - val_accuracy: 0.6387\n",
      "Epoch 32/1000\n",
      "23/23 [==============================] - ETA: 0s - loss: 0.7188 - accuracy: 0.50 - ETA: 0s - loss: 13.1407 - accuracy: 0.609 - ETA: 0s - loss: 7.9161 - accuracy: 0.608 - 0s 10ms/step - loss: 7.3389 - accuracy: 0.6101 - val_loss: 0.6564 - val_accuracy: 0.6387\n",
      "Epoch 33/1000\n",
      "23/23 [==============================] - ETA: 0s - loss: 0.7142 - accuracy: 0.50 - ETA: 0s - loss: 4.9994 - accuracy: 0.61 - ETA: 0s - loss: 4.6621 - accuracy: 0.61 - ETA: 0s - loss: 4.9341 - accuracy: 0.61 - 0s 17ms/step - loss: 3.8193 - accuracy: 0.6128 - val_loss: 0.6562 - val_accuracy: 0.6387\n",
      "Epoch 34/1000\n",
      "23/23 [==============================] - ETA: 0s - loss: 0.7025 - accuracy: 0.50 - ETA: 0s - loss: 2.6400 - accuracy: 0.61 - ETA: 0s - loss: 3.1752 - accuracy: 0.60 - 0s 12ms/step - loss: 2.7814 - accuracy: 0.6114 - val_loss: 0.6561 - val_accuracy: 0.6387\n",
      "Epoch 35/1000\n",
      "23/23 [==============================] - ETA: 0s - loss: 0.7157 - accuracy: 0.50 - ETA: 0s - loss: 8.3164 - accuracy: 0.60 - ETA: 0s - loss: 8.2104 - accuracy: 0.61 - 0s 10ms/step - loss: 7.8829 - accuracy: 0.6128 - val_loss: 0.6561 - val_accuracy: 0.6387\n",
      "Epoch 36/1000\n",
      "23/23 [==============================] - ETA: 0s - loss: 0.7191 - accuracy: 0.50 - ETA: 0s - loss: 1.4351 - accuracy: 0.63 - ETA: 0s - loss: 20.5588 - accuracy: 0.599 - ETA: 0s - loss: 19.5117 - accuracy: 0.598 - 0s 17ms/step - loss: 17.6206 - accuracy: 0.6046 - val_loss: 0.6561 - val_accuracy: 0.6387\n",
      "Epoch 37/1000\n",
      "23/23 [==============================] - ETA: 0s - loss: 0.7153 - accuracy: 0.50 - ETA: 0s - loss: 0.7221 - accuracy: 0.60 - ETA: 0s - loss: 1.0028 - accuracy: 0.60 - 0s 12ms/step - loss: 0.9726 - accuracy: 0.6101 - val_loss: 0.6561 - val_accuracy: 0.6387\n",
      "Epoch 38/1000\n",
      "23/23 [==============================] - ETA: 0s - loss: 0.6963 - accuracy: 0.50 - ETA: 0s - loss: 2.6930 - accuracy: 0.60 - ETA: 0s - loss: 2.4739 - accuracy: 0.60 - 0s 11ms/step - loss: 2.3158 - accuracy: 0.6087 - val_loss: 0.6562 - val_accuracy: 0.6387\n",
      "Epoch 39/1000\n",
      "23/23 [==============================] - ETA: 0s - loss: 0.7166 - accuracy: 0.50 - ETA: 0s - loss: 7.1622 - accuracy: 0.60 - ETA: 0s - loss: 5.5155 - accuracy: 0.60 - ETA: 0s - loss: 4.8463 - accuracy: 0.60 - 0s 16ms/step - loss: 6.8245 - accuracy: 0.6087 - val_loss: 0.6560 - val_accuracy: 0.6387\n",
      "Epoch 40/1000\n",
      "23/23 [==============================] - ETA: 0s - loss: 0.7123 - accuracy: 0.50 - ETA: 0s - loss: 5.0696 - accuracy: 0.60 - ETA: 0s - loss: 3.4462 - accuracy: 0.60 - 0s 12ms/step - loss: 12.0600 - accuracy: 0.6087 - val_loss: 0.6559 - val_accuracy: 0.6387\n",
      "Epoch 41/1000\n",
      "23/23 [==============================] - ETA: 0s - loss: 7.0000 - accuracy: 0.50 - ETA: 0s - loss: 10.5048 - accuracy: 0.612 - ETA: 0s - loss: 5.8781 - accuracy: 0.614 - 0s 10ms/step - loss: 5.8781 - accuracy: 0.6141 - val_loss: 0.6559 - val_accuracy: 0.6387\n",
      "Epoch 42/1000\n",
      "23/23 [==============================] - ETA: 0s - loss: 0.7233 - accuracy: 0.50 - ETA: 0s - loss: 0.9452 - accuracy: 0.60 - ETA: 0s - loss: 6.5367 - accuracy: 0.60 - 0s 17ms/step - loss: 6.0261 - accuracy: 0.6101 - val_loss: 0.6560 - val_accuracy: 0.6387\n",
      "Epoch 43/1000\n",
      "23/23 [==============================] - ETA: 0s - loss: 0.7144 - accuracy: 0.50 - ETA: 0s - loss: 2.1668 - accuracy: 0.61 - ETA: 0s - loss: 1.6406 - accuracy: 0.61 - 0s 13ms/step - loss: 2.0489 - accuracy: 0.6073 - val_loss: 0.6559 - val_accuracy: 0.6387\n",
      "Epoch 44/1000\n",
      "23/23 [==============================] - ETA: 0s - loss: 0.7185 - accuracy: 0.50 - ETA: 0s - loss: 8.3501 - accuracy: 0.62 - ETA: 0s - loss: 5.0180 - accuracy: 0.60 - 0s 10ms/step - loss: 10.4357 - accuracy: 0.6114 - val_loss: 0.6559 - val_accuracy: 0.6387\n",
      "Epoch 45/1000\n",
      "23/23 [==============================] - ETA: 0s - loss: 13.9731 - accuracy: 0.468 - ETA: 0s - loss: 3.2123 - accuracy: 0.606 - 0s 9ms/step - loss: 2.8308 - accuracy: 0.6087 - val_loss: 0.6558 - val_accuracy: 0.6387\n",
      "Epoch 46/1000\n",
      "23/23 [==============================] - ETA: 0s - loss: 0.7165 - accuracy: 0.50 - ETA: 0s - loss: 0.6967 - accuracy: 0.63 - ETA: 0s - loss: 0.6696 - accuracy: 0.66 - ETA: 0s - loss: 0.6823 - accuracy: 0.60 - ETA: 0s - loss: 0.6779 - accuracy: 0.60 - 0s 18ms/step - loss: 0.6778 - accuracy: 0.6114 - val_loss: 0.6559 - val_accuracy: 0.6387\n",
      "Epoch 47/1000\n",
      "23/23 [==============================] - ETA: 0s - loss: 12.4222 - accuracy: 0.500 - ETA: 0s - loss: 3.0944 - accuracy: 0.606 - ETA: 0s - loss: 1.9907 - accuracy: 0.61 - 0s 11ms/step - loss: 1.9337 - accuracy: 0.6101 - val_loss: 0.6560 - val_accuracy: 0.6387\n",
      "Epoch 48/1000\n",
      "23/23 [==============================] - ETA: 0s - loss: 0.7121 - accuracy: 0.50 - ETA: 0s - loss: 6.9039 - accuracy: 0.60 - ETA: 0s - loss: 3.7849 - accuracy: 0.60 - 0s 10ms/step - loss: 3.6499 - accuracy: 0.6073 - val_loss: 0.6560 - val_accuracy: 0.6387\n",
      "Epoch 49/1000\n",
      "23/23 [==============================] - ETA: 0s - loss: 0.7203 - accuracy: 0.50 - ETA: 0s - loss: 9.0631 - accuracy: 0.61 - ETA: 0s - loss: 5.8642 - accuracy: 0.61 - 0s 15ms/step - loss: 5.6390 - accuracy: 0.6128 - val_loss: 0.6558 - val_accuracy: 0.6387\n",
      "Epoch 50/1000\n",
      "23/23 [==============================] - ETA: 0s - loss: 0.7204 - accuracy: 0.50 - ETA: 0s - loss: 0.8256 - accuracy: 0.61 - ETA: 0s - loss: 7.3196 - accuracy: 0.61 - 0s 12ms/step - loss: 7.6869 - accuracy: 0.6128 - val_loss: 0.6558 - val_accuracy: 0.6387\n",
      "Epoch 51/1000\n",
      "23/23 [==============================] - ETA: 0s - loss: 0.7112 - accuracy: 0.50 - ETA: 0s - loss: 0.7640 - accuracy: 0.60 - ETA: 0s - loss: 1.6706 - accuracy: 0.61 - 0s 10ms/step - loss: 1.6706 - accuracy: 0.6114 - val_loss: 0.6559 - val_accuracy: 0.6387\n",
      "Epoch 52/1000\n",
      "23/23 [==============================] - ETA: 0s - loss: 0.7171 - accuracy: 0.50 - ETA: 0s - loss: 0.6628 - accuracy: 0.61 - ETA: 0s - loss: 0.8448 - accuracy: 0.61 - 0s 15ms/step - loss: 0.8283 - accuracy: 0.6114 - val_loss: 0.6560 - val_accuracy: 0.6387\n",
      "Epoch 53/1000\n",
      "23/23 [==============================] - ETA: 0s - loss: 0.7010 - accuracy: 0.50 - ETA: 0s - loss: 1.4523 - accuracy: 0.65 - ETA: 0s - loss: 1.1321 - accuracy: 0.60 - ETA: 0s - loss: 0.9898 - accuracy: 0.60 - 0s 16ms/step - loss: 0.9458 - accuracy: 0.6128 - val_loss: 0.6560 - val_accuracy: 0.6387\n",
      "Epoch 54/1000\n",
      "23/23 [==============================] - ETA: 0s - loss: 0.7141 - accuracy: 0.50 - ETA: 0s - loss: 1.6362 - accuracy: 0.61 - ETA: 0s - loss: 2.1136 - accuracy: 0.61 - 0s 11ms/step - loss: 2.0510 - accuracy: 0.6128 - val_loss: 0.6559 - val_accuracy: 0.6387\n",
      "Epoch 55/1000\n",
      "23/23 [==============================] - ETA: 0s - loss: 0.7139 - accuracy: 0.50 - ETA: 0s - loss: 0.9222 - accuracy: 0.60 - ETA: 0s - loss: 0.8888 - accuracy: 0.60 - 0s 15ms/step - loss: 0.8691 - accuracy: 0.6101 - val_loss: 0.6559 - val_accuracy: 0.6387\n"
     ]
    },
    {
     "data": {
      "text/html": [
       "<span style=\"color:#4527A0\"><h1 style=\"font-size:18px\">Trial complete</h1></span>"
      ],
      "text/plain": [
       "<IPython.core.display.HTML object>"
      ]
     },
     "metadata": {},
     "output_type": "display_data"
    },
    {
     "data": {
      "text/html": [
       "<span style=\"color:#4527A0\"><h1 style=\"font-size:18px\">Trial summary</h1></span>"
      ],
      "text/plain": [
       "<IPython.core.display.HTML object>"
      ]
     },
     "metadata": {},
     "output_type": "display_data"
    },
    {
     "data": {
      "text/html": [
       "<span style=\"color:cyan\"> |-Trial ID: 2d43e97edac888114da89d0ef0b768fe</span>"
      ],
      "text/plain": [
       "<IPython.core.display.HTML object>"
      ]
     },
     "metadata": {},
     "output_type": "display_data"
    },
    {
     "data": {
      "text/html": [
       "<span style=\"color:cyan\"> |-Score: 0.6903225779533386</span>"
      ],
      "text/plain": [
       "<IPython.core.display.HTML object>"
      ]
     },
     "metadata": {},
     "output_type": "display_data"
    },
    {
     "data": {
      "text/html": [
       "<span style=\"color:cyan\"> |-Best step: 0</span>"
      ],
      "text/plain": [
       "<IPython.core.display.HTML object>"
      ]
     },
     "metadata": {},
     "output_type": "display_data"
    },
    {
     "data": {
      "text/html": [
       "<span style=\"color:#7E57C2\"><h2 style=\"font-size:16px\">Hyperparameters:</h2></span>"
      ],
      "text/plain": [
       "<IPython.core.display.HTML object>"
      ]
     },
     "metadata": {},
     "output_type": "display_data"
    },
    {
     "data": {
      "text/html": [
       "<span style=\"color:cyan\"> |-classification_head_2/dropout: 0</span>"
      ],
      "text/plain": [
       "<IPython.core.display.HTML object>"
      ]
     },
     "metadata": {},
     "output_type": "display_data"
    },
    {
     "data": {
      "text/html": [
       "<span style=\"color:blue\"> |-learning_rate: 0.001</span>"
      ],
      "text/plain": [
       "<IPython.core.display.HTML object>"
      ]
     },
     "metadata": {},
     "output_type": "display_data"
    },
    {
     "data": {
      "text/html": [
       "<span style=\"color:cyan\"> |-optimizer: adam</span>"
      ],
      "text/plain": [
       "<IPython.core.display.HTML object>"
      ]
     },
     "metadata": {},
     "output_type": "display_data"
    },
    {
     "data": {
      "text/html": [
       "<span style=\"color:blue\"> |-structured_data_block_2/dense_block_1/dropout: 0.5</span>"
      ],
      "text/plain": [
       "<IPython.core.display.HTML object>"
      ]
     },
     "metadata": {},
     "output_type": "display_data"
    },
    {
     "data": {
      "text/html": [
       "<span style=\"color:cyan\"> |-structured_data_block_2/dense_block_1/num_layers: 3</span>"
      ],
      "text/plain": [
       "<IPython.core.display.HTML object>"
      ]
     },
     "metadata": {},
     "output_type": "display_data"
    },
    {
     "data": {
      "text/html": [
       "<span style=\"color:blue\"> |-structured_data_block_2/dense_block_1/units_0: 256</span>"
      ],
      "text/plain": [
       "<IPython.core.display.HTML object>"
      ]
     },
     "metadata": {},
     "output_type": "display_data"
    },
    {
     "data": {
      "text/html": [
       "<span style=\"color:cyan\"> |-structured_data_block_2/dense_block_1/units_1: 32</span>"
      ],
      "text/plain": [
       "<IPython.core.display.HTML object>"
      ]
     },
     "metadata": {},
     "output_type": "display_data"
    },
    {
     "data": {
      "text/html": [
       "<span style=\"color:blue\"> |-structured_data_block_2/dense_block_1/units_2: 512</span>"
      ],
      "text/plain": [
       "<IPython.core.display.HTML object>"
      ]
     },
     "metadata": {},
     "output_type": "display_data"
    },
    {
     "data": {
      "text/html": [
       "<span style=\"color:cyan\"> |-structured_data_block_2/dense_block_1/use_batchnorm: False</span>"
      ],
      "text/plain": [
       "<IPython.core.display.HTML object>"
      ]
     },
     "metadata": {},
     "output_type": "display_data"
    },
    {
     "data": {
      "text/html": [
       "<span style=\"color:#4527A0\"><h1 style=\"font-size:18px\">Starting new trial</h1></span>"
      ],
      "text/plain": [
       "<IPython.core.display.HTML object>"
      ]
     },
     "metadata": {},
     "output_type": "display_data"
    },
    {
     "name": "stdout",
     "output_type": "stream",
     "text": [
      "Epoch 1/1000\n",
      "23/23 [==============================] - ETA: 0s - loss: 5022.7090 - accuracy: 0.531 - ETA: 0s - loss: 2802.3191 - accuracy: 0.564 - 1s 25ms/step - loss: 2339.3042 - accuracy: 0.5802 - val_loss: 1601.3984 - val_accuracy: 0.3613\n",
      "Epoch 2/1000\n",
      "23/23 [==============================] - ETA: 0s - loss: 2170.5308 - accuracy: 0.500 - ETA: 0s - loss: 1789.2599 - accuracy: 0.535 - 0s 8ms/step - loss: 1860.4518 - accuracy: 0.5408 - val_loss: 885.8283 - val_accuracy: 0.6516\n",
      "Epoch 3/1000\n",
      "23/23 [==============================] - ETA: 0s - loss: 2810.0957 - accuracy: 0.531 - ETA: 0s - loss: 1921.2819 - accuracy: 0.491 - 0s 8ms/step - loss: 2170.8623 - accuracy: 0.5625 - val_loss: 2828.2373 - val_accuracy: 0.6516\n",
      "Epoch 4/1000\n",
      "23/23 [==============================] - ETA: 0s - loss: 7543.0303 - accuracy: 0.531 - ETA: 0s - loss: 2943.7695 - accuracy: 0.508 - 0s 8ms/step - loss: 2322.7754 - accuracy: 0.5272 - val_loss: 1202.6515 - val_accuracy: 0.7161\n",
      "Epoch 5/1000\n",
      "23/23 [==============================] - ETA: 0s - loss: 3403.0044 - accuracy: 0.593 - ETA: 0s - loss: 1452.6562 - accuracy: 0.555 - 0s 7ms/step - loss: 1344.3971 - accuracy: 0.5652 - val_loss: 1591.8030 - val_accuracy: 0.6968\n",
      "Epoch 6/1000\n",
      "23/23 [==============================] - ETA: 0s - loss: 4608.7559 - accuracy: 0.468 - ETA: 0s - loss: 1354.9882 - accuracy: 0.536 - ETA: 0s - loss: 1076.1483 - accuracy: 0.585 - 0s 10ms/step - loss: 1076.1483 - accuracy: 0.5856 - val_loss: 284.5391 - val_accuracy: 0.6710\n",
      "Epoch 7/1000\n",
      "23/23 [==============================] - ETA: 0s - loss: 808.5739 - accuracy: 0.53 - ETA: 0s - loss: 1295.5470 - accuracy: 0.580 - 0s 8ms/step - loss: 1572.6094 - accuracy: 0.6101 - val_loss: 2038.3450 - val_accuracy: 0.6581\n",
      "Epoch 8/1000\n",
      "23/23 [==============================] - ETA: 0s - loss: 5310.4927 - accuracy: 0.500 - ETA: 0s - loss: 2576.7632 - accuracy: 0.535 - 0s 8ms/step - loss: 2187.5198 - accuracy: 0.5516 - val_loss: 1341.0676 - val_accuracy: 0.6516\n",
      "Epoch 9/1000\n",
      "23/23 [==============================] - ETA: 0s - loss: 3891.5791 - accuracy: 0.562 - ETA: 0s - loss: 1392.0806 - accuracy: 0.502 - ETA: 0s - loss: 1278.4905 - accuracy: 0.535 - 0s 11ms/step - loss: 1085.1300 - accuracy: 0.5557 - val_loss: 400.3285 - val_accuracy: 0.6774\n",
      "Epoch 10/1000\n",
      "23/23 [==============================] - ETA: 0s - loss: 1315.6882 - accuracy: 0.500 - ETA: 0s - loss: 838.9977 - accuracy: 0.589 - 0s 11ms/step - loss: 800.6510 - accuracy: 0.6060 - val_loss: 580.5479 - val_accuracy: 0.6710\n",
      "Epoch 11/1000\n",
      "23/23 [==============================] - ETA: 0s - loss: 1628.8212 - accuracy: 0.500 - ETA: 0s - loss: 1041.0253 - accuracy: 0.593 - 0s 9ms/step - loss: 943.5956 - accuracy: 0.6033 - val_loss: 1166.4110 - val_accuracy: 0.6581\n",
      "Epoch 12/1000\n",
      "23/23 [==============================] - ETA: 0s - loss: 2911.8071 - accuracy: 0.468 - ETA: 0s - loss: 1132.9080 - accuracy: 0.593 - ETA: 0s - loss: 1117.0679 - accuracy: 0.584 - 0s 14ms/step - loss: 1536.5461 - accuracy: 0.5815 - val_loss: 2547.7451 - val_accuracy: 0.6710\n",
      "Epoch 13/1000\n",
      "23/23 [==============================] - ETA: 0s - loss: 6494.7119 - accuracy: 0.500 - ETA: 0s - loss: 1827.3481 - accuracy: 0.552 - 0s 9ms/step - loss: 1597.6826 - accuracy: 0.5707 - val_loss: 1050.0929 - val_accuracy: 0.6710\n",
      "Epoch 14/1000\n",
      "23/23 [==============================] - ETA: 0s - loss: 2544.8354 - accuracy: 0.500 - ETA: 0s - loss: 1339.0161 - accuracy: 0.562 - 0s 10ms/step - loss: 1388.4391 - accuracy: 0.5910 - val_loss: 1508.6757 - val_accuracy: 0.6581\n",
      "Epoch 15/1000\n",
      "23/23 [==============================] - ETA: 0s - loss: 3992.9546 - accuracy: 0.500 - ETA: 0s - loss: 1409.0692 - accuracy: 0.562 - 0s 10ms/step - loss: 1310.3695 - accuracy: 0.5897 - val_loss: 884.6867 - val_accuracy: 0.6839\n",
      "Epoch 16/1000\n",
      "23/23 [==============================] - ETA: 0s - loss: 2143.2334 - accuracy: 0.500 - ETA: 0s - loss: 1400.8770 - accuracy: 0.550 - 0s 9ms/step - loss: 1366.5161 - accuracy: 0.5815 - val_loss: 1037.0179 - val_accuracy: 0.6839\n"
     ]
    },
    {
     "data": {
      "text/html": [
       "<span style=\"color:#4527A0\"><h1 style=\"font-size:18px\">Trial complete</h1></span>"
      ],
      "text/plain": [
       "<IPython.core.display.HTML object>"
      ]
     },
     "metadata": {},
     "output_type": "display_data"
    },
    {
     "data": {
      "text/html": [
       "<span style=\"color:#4527A0\"><h1 style=\"font-size:18px\">Trial summary</h1></span>"
      ],
      "text/plain": [
       "<IPython.core.display.HTML object>"
      ]
     },
     "metadata": {},
     "output_type": "display_data"
    },
    {
     "data": {
      "text/html": [
       "<span style=\"color:cyan\"> |-Trial ID: f13fa7bb05fb5125a901173a749cc078</span>"
      ],
      "text/plain": [
       "<IPython.core.display.HTML object>"
      ]
     },
     "metadata": {},
     "output_type": "display_data"
    },
    {
     "data": {
      "text/html": [
       "<span style=\"color:cyan\"> |-Score: 0.7161290049552917</span>"
      ],
      "text/plain": [
       "<IPython.core.display.HTML object>"
      ]
     },
     "metadata": {},
     "output_type": "display_data"
    },
    {
     "data": {
      "text/html": [
       "<span style=\"color:cyan\"> |-Best step: 3</span>"
      ],
      "text/plain": [
       "<IPython.core.display.HTML object>"
      ]
     },
     "metadata": {},
     "output_type": "display_data"
    },
    {
     "data": {
      "text/html": [
       "<span style=\"color:#7E57C2\"><h2 style=\"font-size:16px\">Hyperparameters:</h2></span>"
      ],
      "text/plain": [
       "<IPython.core.display.HTML object>"
      ]
     },
     "metadata": {},
     "output_type": "display_data"
    },
    {
     "data": {
      "text/html": [
       "<span style=\"color:cyan\"> |-classification_head_2/dropout: 0</span>"
      ],
      "text/plain": [
       "<IPython.core.display.HTML object>"
      ]
     },
     "metadata": {},
     "output_type": "display_data"
    },
    {
     "data": {
      "text/html": [
       "<span style=\"color:blue\"> |-learning_rate: 0.001</span>"
      ],
      "text/plain": [
       "<IPython.core.display.HTML object>"
      ]
     },
     "metadata": {},
     "output_type": "display_data"
    },
    {
     "data": {
      "text/html": [
       "<span style=\"color:cyan\"> |-optimizer: adam</span>"
      ],
      "text/plain": [
       "<IPython.core.display.HTML object>"
      ]
     },
     "metadata": {},
     "output_type": "display_data"
    },
    {
     "data": {
      "text/html": [
       "<span style=\"color:blue\"> |-structured_data_block_2/dense_block_1/dropout: 0.0</span>"
      ],
      "text/plain": [
       "<IPython.core.display.HTML object>"
      ]
     },
     "metadata": {},
     "output_type": "display_data"
    },
    {
     "data": {
      "text/html": [
       "<span style=\"color:cyan\"> |-structured_data_block_2/dense_block_1/num_layers: 1</span>"
      ],
      "text/plain": [
       "<IPython.core.display.HTML object>"
      ]
     },
     "metadata": {},
     "output_type": "display_data"
    },
    {
     "data": {
      "text/html": [
       "<span style=\"color:blue\"> |-structured_data_block_2/dense_block_1/units_0: 1024</span>"
      ],
      "text/plain": [
       "<IPython.core.display.HTML object>"
      ]
     },
     "metadata": {},
     "output_type": "display_data"
    },
    {
     "data": {
      "text/html": [
       "<span style=\"color:cyan\"> |-structured_data_block_2/dense_block_1/units_1: 512</span>"
      ],
      "text/plain": [
       "<IPython.core.display.HTML object>"
      ]
     },
     "metadata": {},
     "output_type": "display_data"
    },
    {
     "data": {
      "text/html": [
       "<span style=\"color:blue\"> |-structured_data_block_2/dense_block_1/units_2: 128</span>"
      ],
      "text/plain": [
       "<IPython.core.display.HTML object>"
      ]
     },
     "metadata": {},
     "output_type": "display_data"
    },
    {
     "data": {
      "text/html": [
       "<span style=\"color:cyan\"> |-structured_data_block_2/dense_block_1/use_batchnorm: False</span>"
      ],
      "text/plain": [
       "<IPython.core.display.HTML object>"
      ]
     },
     "metadata": {},
     "output_type": "display_data"
    },
    {
     "name": "stdout",
     "output_type": "stream",
     "text": [
      "INFO:tensorflow:Oracle triggered exit\n",
      "Epoch 1/28\n",
      "28/28 [==============================] - ETA: 0s - loss: 9543.0635 - accuracy: 0.500 - ETA: 0s - loss: 5843.4956 - accuracy: 0.550 - ETA: 0s - loss: 5067.1890 - accuracy: 0.593 - 0s 4ms/step - loss: 4638.2241 - accuracy: 0.6004\n",
      "Epoch 2/28\n",
      "28/28 [==============================] - ETA: 0s - loss: 4356.4062 - accuracy: 0.531 - ETA: 0s - loss: 2760.1492 - accuracy: 0.390 - ETA: 0s - loss: 1722.5406 - accuracy: 0.525 - 0s 5ms/step - loss: 1452.4241 - accuracy: 0.5241\n",
      "Epoch 3/28\n",
      "28/28 [==============================] - ETA: 0s - loss: 1767.3944 - accuracy: 0.531 - ETA: 0s - loss: 649.2703 - accuracy: 0.542 - 0s 3ms/step - loss: 536.0134 - accuracy: 0.5522\n",
      "Epoch 4/28\n",
      "28/28 [==============================] - ETA: 0s - loss: 364.8928 - accuracy: 0.56 - ETA: 0s - loss: 312.8702 - accuracy: 0.57 - ETA: 0s - loss: 229.1692 - accuracy: 0.59 - 0s 4ms/step - loss: 225.7779 - accuracy: 0.5937\n",
      "Epoch 5/28\n",
      "28/28 [==============================] - ETA: 0s - loss: 823.9685 - accuracy: 0.50 - ETA: 0s - loss: 470.9823 - accuracy: 0.55 - ETA: 0s - loss: 476.0576 - accuracy: 0.58 - 0s 5ms/step - loss: 463.2161 - accuracy: 0.5836\n",
      "Epoch 6/28\n",
      "28/28 [==============================] - ETA: 0s - loss: 182.0639 - accuracy: 0.50 - ETA: 0s - loss: 333.5712 - accuracy: 0.60 - ETA: 0s - loss: 300.4545 - accuracy: 0.59 - 0s 5ms/step - loss: 280.0973 - accuracy: 0.5915\n",
      "Epoch 7/28\n",
      "28/28 [==============================] - ETA: 0s - loss: 1067.5281 - accuracy: 0.531 - ETA: 0s - loss: 441.8646 - accuracy: 0.586 - ETA: 0s - loss: 499.2130 - accuracy: 0.58 - 0s 5ms/step - loss: 417.5185 - accuracy: 0.5746\n",
      "Epoch 8/28\n",
      "28/28 [==============================] - ETA: 0s - loss: 130.2811 - accuracy: 0.59 - ETA: 0s - loss: 192.1621 - accuracy: 0.62 - 0s 3ms/step - loss: 160.4168 - accuracy: 0.6352\n",
      "Epoch 9/28\n",
      "28/28 [==============================] - ETA: 0s - loss: 560.5625 - accuracy: 0.46 - ETA: 0s - loss: 648.4435 - accuracy: 0.54 - 0s 3ms/step - loss: 621.4908 - accuracy: 0.5870\n",
      "Epoch 10/28\n",
      "28/28 [==============================] - ETA: 0s - loss: 331.8824 - accuracy: 0.56 - ETA: 0s - loss: 349.3586 - accuracy: 0.61 - 0s 3ms/step - loss: 284.8098 - accuracy: 0.6442\n",
      "Epoch 11/28\n",
      "28/28 [==============================] - ETA: 0s - loss: 992.0887 - accuracy: 0.53 - ETA: 0s - loss: 449.9184 - accuracy: 0.53 - 0s 3ms/step - loss: 349.5241 - accuracy: 0.5746\n",
      "Epoch 12/28\n",
      "28/28 [==============================] - ETA: 0s - loss: 345.7457 - accuracy: 0.50 - ETA: 0s - loss: 207.5471 - accuracy: 0.53 - 0s 3ms/step - loss: 196.1386 - accuracy: 0.5881\n",
      "Epoch 13/28\n",
      "28/28 [==============================] - ETA: 0s - loss: 311.6465 - accuracy: 0.56 - ETA: 0s - loss: 244.2901 - accuracy: 0.60 - 0s 3ms/step - loss: 278.6338 - accuracy: 0.6364\n",
      "Epoch 14/28\n",
      "28/28 [==============================] - ETA: 0s - loss: 181.4230 - accuracy: 0.59 - ETA: 0s - loss: 498.6915 - accuracy: 0.57 - 0s 3ms/step - loss: 409.7153 - accuracy: 0.5825\n",
      "Epoch 15/28\n",
      "28/28 [==============================] - ETA: 0s - loss: 262.9855 - accuracy: 0.50 - ETA: 0s - loss: 223.9351 - accuracy: 0.62 - 0s 3ms/step - loss: 227.7812 - accuracy: 0.6352\n",
      "Epoch 16/28\n",
      "28/28 [==============================] - ETA: 0s - loss: 279.8094 - accuracy: 0.56 - ETA: 0s - loss: 411.6983 - accuracy: 0.55 - 0s 3ms/step - loss: 347.3461 - accuracy: 0.5960\n",
      "Epoch 17/28\n",
      "28/28 [==============================] - ETA: 0s - loss: 195.4897 - accuracy: 0.50 - ETA: 0s - loss: 280.7612 - accuracy: 0.58 - 0s 3ms/step - loss: 253.0306 - accuracy: 0.6049\n",
      "Epoch 18/28\n",
      "28/28 [==============================] - ETA: 0s - loss: 180.3107 - accuracy: 0.62 - ETA: 0s - loss: 456.6961 - accuracy: 0.57 - 0s 3ms/step - loss: 556.9144 - accuracy: 0.6184\n",
      "Epoch 19/28\n",
      "28/28 [==============================] - ETA: 0s - loss: 274.9028 - accuracy: 0.50 - ETA: 0s - loss: 396.7045 - accuracy: 0.60 - 0s 3ms/step - loss: 330.8600 - accuracy: 0.6162\n",
      "Epoch 20/28\n",
      "28/28 [==============================] - ETA: 0s - loss: 331.5417 - accuracy: 0.53 - ETA: 0s - loss: 224.9937 - accuracy: 0.60 - 0s 3ms/step - loss: 181.5546 - accuracy: 0.6240\n",
      "Epoch 21/28\n",
      "28/28 [==============================] - ETA: 0s - loss: 494.1346 - accuracy: 0.46 - ETA: 0s - loss: 210.9760 - accuracy: 0.59 - 0s 3ms/step - loss: 198.7455 - accuracy: 0.6195\n",
      "Epoch 22/28\n",
      "28/28 [==============================] - ETA: 0s - loss: 617.0383 - accuracy: 0.56 - ETA: 0s - loss: 734.9830 - accuracy: 0.53 - 0s 3ms/step - loss: 588.5345 - accuracy: 0.5679\n",
      "Epoch 23/28\n",
      "28/28 [==============================] - ETA: 0s - loss: 430.1123 - accuracy: 0.50 - ETA: 0s - loss: 502.3492 - accuracy: 0.60 - 0s 3ms/step - loss: 400.6112 - accuracy: 0.6016\n",
      "Epoch 24/28\n",
      "28/28 [==============================] - ETA: 0s - loss: 556.3339 - accuracy: 0.59 - ETA: 0s - loss: 494.7109 - accuracy: 0.58 - 0s 3ms/step - loss: 418.7124 - accuracy: 0.5971\n",
      "Epoch 25/28\n",
      "28/28 [==============================] - ETA: 0s - loss: 241.7528 - accuracy: 0.56 - ETA: 0s - loss: 247.8560 - accuracy: 0.60 - 0s 3ms/step - loss: 224.6916 - accuracy: 0.6184\n",
      "Epoch 26/28\n",
      "28/28 [==============================] - ETA: 0s - loss: 1016.6407 - accuracy: 0.468 - ETA: 0s - loss: 702.0521 - accuracy: 0.603 - 0s 3ms/step - loss: 597.9857 - accuracy: 0.6285\n",
      "Epoch 27/28\n",
      "28/28 [==============================] - ETA: 0s - loss: 429.2984 - accuracy: 0.53 - ETA: 0s - loss: 289.8460 - accuracy: 0.58 - ETA: 0s - loss: 256.7558 - accuracy: 0.59 - 0s 4ms/step - loss: 250.9698 - accuracy: 0.6049\n",
      "Epoch 28/28\n",
      "28/28 [==============================] - ETA: 0s - loss: 793.6230 - accuracy: 0.53 - ETA: 0s - loss: 312.6227 - accuracy: 0.62 - 0s 3ms/step - loss: 286.8067 - accuracy: 0.6364\n"
     ]
    }
   ],
   "source": [
    "clf.fit(x = arquivo_treino, y = nome_alvo)"
   ]
  },
  {
   "cell_type": "code",
   "execution_count": 13,
   "metadata": {},
   "outputs": [
    {
     "name": "stdout",
     "output_type": "stream",
     "text": [
      "28/28 [==============================] - ETA: 0s - loss: 654.3024 - accuracy: 0.62 - ETA: 0s - loss: 295.1201 - accuracy: 0.64 - 0s 2ms/step - loss: 278.9536 - accuracy: 0.6498\n",
      "Accuracy: [278.95355224609375, 0.6498316526412964]\n"
     ]
    }
   ],
   "source": [
    "print('Accuracy: {accuracy}'.format(accuracy = clf.evaluate(x = arquivo_treino, y = nome_alvo)))"
   ]
  },
  {
   "cell_type": "code",
   "execution_count": 14,
   "metadata": {},
   "outputs": [
    {
     "name": "stdout",
     "output_type": "stream",
     "text": [
      "WARNING:tensorflow:Unresolved object in checkpoint: (root).optimizer.iter\n"
     ]
    },
    {
     "name": "stderr",
     "output_type": "stream",
     "text": [
      "2020-08-06 21:35:32,890 [WARNING]  Unresolved object in checkpoint: (root).optimizer.iter\n"
     ]
    },
    {
     "name": "stdout",
     "output_type": "stream",
     "text": [
      "WARNING:tensorflow:Unresolved object in checkpoint: (root).optimizer.beta_1\n"
     ]
    },
    {
     "name": "stderr",
     "output_type": "stream",
     "text": [
      "2020-08-06 21:35:32,893 [WARNING]  Unresolved object in checkpoint: (root).optimizer.beta_1\n"
     ]
    },
    {
     "name": "stdout",
     "output_type": "stream",
     "text": [
      "WARNING:tensorflow:Unresolved object in checkpoint: (root).optimizer.beta_2\n"
     ]
    },
    {
     "name": "stderr",
     "output_type": "stream",
     "text": [
      "2020-08-06 21:35:32,895 [WARNING]  Unresolved object in checkpoint: (root).optimizer.beta_2\n"
     ]
    },
    {
     "name": "stdout",
     "output_type": "stream",
     "text": [
      "WARNING:tensorflow:Unresolved object in checkpoint: (root).optimizer.decay\n"
     ]
    },
    {
     "name": "stderr",
     "output_type": "stream",
     "text": [
      "2020-08-06 21:35:32,901 [WARNING]  Unresolved object in checkpoint: (root).optimizer.decay\n"
     ]
    },
    {
     "name": "stdout",
     "output_type": "stream",
     "text": [
      "WARNING:tensorflow:Unresolved object in checkpoint: (root).optimizer.learning_rate\n"
     ]
    },
    {
     "name": "stderr",
     "output_type": "stream",
     "text": [
      "2020-08-06 21:35:32,905 [WARNING]  Unresolved object in checkpoint: (root).optimizer.learning_rate\n"
     ]
    },
    {
     "name": "stdout",
     "output_type": "stream",
     "text": [
      "WARNING:tensorflow:A checkpoint was restored (e.g. tf.train.Checkpoint.restore or tf.keras.Model.load_weights) but not all checkpointed values were used. See above for specific issues. Use expect_partial() on the load status object, e.g. tf.train.Checkpoint.restore(...).expect_partial(), to silence these warnings, or use assert_consumed() to make the check explicit. See https://www.tensorflow.org/guide/checkpoint#loading_mechanics for details.\n"
     ]
    },
    {
     "name": "stderr",
     "output_type": "stream",
     "text": [
      "2020-08-06 21:35:32,909 [WARNING]  A checkpoint was restored (e.g. tf.train.Checkpoint.restore or tf.keras.Model.load_weights) but not all checkpointed values were used. See above for specific issues. Use expect_partial() on the load status object, e.g. tf.train.Checkpoint.restore(...).expect_partial(), to silence these warnings, or use assert_consumed() to make the check explicit. See https://www.tensorflow.org/guide/checkpoint#loading_mechanics for details.\n"
     ]
    },
    {
     "name": "stdout",
     "output_type": "stream",
     "text": [
      "28/28 [==============================] - ETA: 0s - loss: 654.3024 - accuracy: 0.62 - ETA: 0s - loss: 312.2855 - accuracy: 0.62 - 0s 3ms/step - loss: 278.9536 - accuracy: 0.6498\n"
     ]
    },
    {
     "data": {
      "text/plain": [
       "[278.95355224609375, 0.6498316526412964]"
      ]
     },
     "execution_count": 14,
     "metadata": {},
     "output_type": "execute_result"
    }
   ],
   "source": [
    "clf.evaluate(x = arquivo_treino, y = nome_alvo)"
   ]
  },
  {
   "cell_type": "code",
   "execution_count": null,
   "metadata": {},
   "outputs": [],
   "source": []
  }
 ],
 "metadata": {
  "kernelspec": {
   "display_name": "Python 3",
   "language": "python",
   "name": "python3"
  },
  "language_info": {
   "codemirror_mode": {
    "name": "ipython",
    "version": 3
   },
   "file_extension": ".py",
   "mimetype": "text/x-python",
   "name": "python",
   "nbconvert_exporter": "python",
   "pygments_lexer": "ipython3",
   "version": "3.7.6"
  }
 },
 "nbformat": 4,
 "nbformat_minor": 4
}
