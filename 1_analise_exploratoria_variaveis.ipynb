{
 "cells": [
  {
   "cell_type": "code",
   "execution_count": 1,
   "metadata": {},
   "outputs": [
    {
     "name": "stderr",
     "output_type": "stream",
     "text": [
      "2020-06-28 21:57:35,528 [INFO]  NumExpr defaulting to 4 threads.\n"
     ]
    }
   ],
   "source": [
    "import pandas as pd\n",
    "import numpy as np\n",
    "import matplotlib.pyplot as plt\n",
    "import warnings\n",
    "pd.options.mode.chained_assignment = None\n",
    "warnings.filterwarnings('ignore')\n",
    "\n",
    "#Minhas Bibliotecas\n",
    "import DatasetAnalise as faa\n",
    "import CreateVariables as facv\n",
    "import SolveNullsAndPreparationData as fanp"
   ]
  },
  {
   "cell_type": "markdown",
   "metadata": {},
   "source": [
    "# Carrega as bases necessárias"
   ]
  },
  {
   "cell_type": "code",
   "execution_count": 2,
   "metadata": {},
   "outputs": [
    {
     "data": {
      "text/html": [
       "<div>\n",
       "<style scoped>\n",
       "    .dataframe tbody tr th:only-of-type {\n",
       "        vertical-align: middle;\n",
       "    }\n",
       "\n",
       "    .dataframe tbody tr th {\n",
       "        vertical-align: top;\n",
       "    }\n",
       "\n",
       "    .dataframe thead th {\n",
       "        text-align: right;\n",
       "    }\n",
       "</style>\n",
       "<table border=\"1\" class=\"dataframe\">\n",
       "  <thead>\n",
       "    <tr style=\"text-align: right;\">\n",
       "      <th></th>\n",
       "      <th>Survived</th>\n",
       "      <th>PassengerId</th>\n",
       "      <th>Pclass</th>\n",
       "      <th>Name</th>\n",
       "      <th>Sex</th>\n",
       "      <th>Age</th>\n",
       "      <th>SibSp</th>\n",
       "      <th>Parch</th>\n",
       "      <th>Ticket</th>\n",
       "      <th>Fare</th>\n",
       "      <th>Cabin</th>\n",
       "      <th>Embarked</th>\n",
       "    </tr>\n",
       "  </thead>\n",
       "  <tbody>\n",
       "    <tr>\n",
       "      <th>0</th>\n",
       "      <td>0</td>\n",
       "      <td>1</td>\n",
       "      <td>3</td>\n",
       "      <td>Braund, Mr. Owen Harris</td>\n",
       "      <td>male</td>\n",
       "      <td>22.0</td>\n",
       "      <td>1</td>\n",
       "      <td>0</td>\n",
       "      <td>A/5 21171</td>\n",
       "      <td>7.2500</td>\n",
       "      <td>NaN</td>\n",
       "      <td>S</td>\n",
       "    </tr>\n",
       "    <tr>\n",
       "      <th>1</th>\n",
       "      <td>1</td>\n",
       "      <td>2</td>\n",
       "      <td>1</td>\n",
       "      <td>Cumings, Mrs. John Bradley (Florence Briggs Th...</td>\n",
       "      <td>female</td>\n",
       "      <td>38.0</td>\n",
       "      <td>1</td>\n",
       "      <td>0</td>\n",
       "      <td>PC 17599</td>\n",
       "      <td>71.2833</td>\n",
       "      <td>C85</td>\n",
       "      <td>C</td>\n",
       "    </tr>\n",
       "    <tr>\n",
       "      <th>2</th>\n",
       "      <td>1</td>\n",
       "      <td>3</td>\n",
       "      <td>3</td>\n",
       "      <td>Heikkinen, Miss. Laina</td>\n",
       "      <td>female</td>\n",
       "      <td>26.0</td>\n",
       "      <td>0</td>\n",
       "      <td>0</td>\n",
       "      <td>STON/O2. 3101282</td>\n",
       "      <td>7.9250</td>\n",
       "      <td>NaN</td>\n",
       "      <td>S</td>\n",
       "    </tr>\n",
       "    <tr>\n",
       "      <th>3</th>\n",
       "      <td>1</td>\n",
       "      <td>4</td>\n",
       "      <td>1</td>\n",
       "      <td>Futrelle, Mrs. Jacques Heath (Lily May Peel)</td>\n",
       "      <td>female</td>\n",
       "      <td>35.0</td>\n",
       "      <td>1</td>\n",
       "      <td>0</td>\n",
       "      <td>113803</td>\n",
       "      <td>53.1000</td>\n",
       "      <td>C123</td>\n",
       "      <td>S</td>\n",
       "    </tr>\n",
       "    <tr>\n",
       "      <th>4</th>\n",
       "      <td>0</td>\n",
       "      <td>5</td>\n",
       "      <td>3</td>\n",
       "      <td>Allen, Mr. William Henry</td>\n",
       "      <td>male</td>\n",
       "      <td>35.0</td>\n",
       "      <td>0</td>\n",
       "      <td>0</td>\n",
       "      <td>373450</td>\n",
       "      <td>8.0500</td>\n",
       "      <td>NaN</td>\n",
       "      <td>S</td>\n",
       "    </tr>\n",
       "    <tr>\n",
       "      <th>...</th>\n",
       "      <td>...</td>\n",
       "      <td>...</td>\n",
       "      <td>...</td>\n",
       "      <td>...</td>\n",
       "      <td>...</td>\n",
       "      <td>...</td>\n",
       "      <td>...</td>\n",
       "      <td>...</td>\n",
       "      <td>...</td>\n",
       "      <td>...</td>\n",
       "      <td>...</td>\n",
       "      <td>...</td>\n",
       "    </tr>\n",
       "    <tr>\n",
       "      <th>886</th>\n",
       "      <td>0</td>\n",
       "      <td>887</td>\n",
       "      <td>2</td>\n",
       "      <td>Montvila, Rev. Juozas</td>\n",
       "      <td>male</td>\n",
       "      <td>27.0</td>\n",
       "      <td>0</td>\n",
       "      <td>0</td>\n",
       "      <td>211536</td>\n",
       "      <td>13.0000</td>\n",
       "      <td>NaN</td>\n",
       "      <td>S</td>\n",
       "    </tr>\n",
       "    <tr>\n",
       "      <th>887</th>\n",
       "      <td>1</td>\n",
       "      <td>888</td>\n",
       "      <td>1</td>\n",
       "      <td>Graham, Miss. Margaret Edith</td>\n",
       "      <td>female</td>\n",
       "      <td>19.0</td>\n",
       "      <td>0</td>\n",
       "      <td>0</td>\n",
       "      <td>112053</td>\n",
       "      <td>30.0000</td>\n",
       "      <td>B42</td>\n",
       "      <td>S</td>\n",
       "    </tr>\n",
       "    <tr>\n",
       "      <th>888</th>\n",
       "      <td>0</td>\n",
       "      <td>889</td>\n",
       "      <td>3</td>\n",
       "      <td>Johnston, Miss. Catherine Helen \"Carrie\"</td>\n",
       "      <td>female</td>\n",
       "      <td>NaN</td>\n",
       "      <td>1</td>\n",
       "      <td>2</td>\n",
       "      <td>W./C. 6607</td>\n",
       "      <td>23.4500</td>\n",
       "      <td>NaN</td>\n",
       "      <td>S</td>\n",
       "    </tr>\n",
       "    <tr>\n",
       "      <th>889</th>\n",
       "      <td>1</td>\n",
       "      <td>890</td>\n",
       "      <td>1</td>\n",
       "      <td>Behr, Mr. Karl Howell</td>\n",
       "      <td>male</td>\n",
       "      <td>26.0</td>\n",
       "      <td>0</td>\n",
       "      <td>0</td>\n",
       "      <td>111369</td>\n",
       "      <td>30.0000</td>\n",
       "      <td>C148</td>\n",
       "      <td>C</td>\n",
       "    </tr>\n",
       "    <tr>\n",
       "      <th>890</th>\n",
       "      <td>0</td>\n",
       "      <td>891</td>\n",
       "      <td>3</td>\n",
       "      <td>Dooley, Mr. Patrick</td>\n",
       "      <td>male</td>\n",
       "      <td>32.0</td>\n",
       "      <td>0</td>\n",
       "      <td>0</td>\n",
       "      <td>370376</td>\n",
       "      <td>7.7500</td>\n",
       "      <td>NaN</td>\n",
       "      <td>Q</td>\n",
       "    </tr>\n",
       "  </tbody>\n",
       "</table>\n",
       "<p>891 rows × 12 columns</p>\n",
       "</div>"
      ],
      "text/plain": [
       "     Survived  PassengerId  Pclass  \\\n",
       "0           0            1       3   \n",
       "1           1            2       1   \n",
       "2           1            3       3   \n",
       "3           1            4       1   \n",
       "4           0            5       3   \n",
       "..        ...          ...     ...   \n",
       "886         0          887       2   \n",
       "887         1          888       1   \n",
       "888         0          889       3   \n",
       "889         1          890       1   \n",
       "890         0          891       3   \n",
       "\n",
       "                                                  Name     Sex   Age  SibSp  \\\n",
       "0                              Braund, Mr. Owen Harris    male  22.0      1   \n",
       "1    Cumings, Mrs. John Bradley (Florence Briggs Th...  female  38.0      1   \n",
       "2                               Heikkinen, Miss. Laina  female  26.0      0   \n",
       "3         Futrelle, Mrs. Jacques Heath (Lily May Peel)  female  35.0      1   \n",
       "4                             Allen, Mr. William Henry    male  35.0      0   \n",
       "..                                                 ...     ...   ...    ...   \n",
       "886                              Montvila, Rev. Juozas    male  27.0      0   \n",
       "887                       Graham, Miss. Margaret Edith  female  19.0      0   \n",
       "888           Johnston, Miss. Catherine Helen \"Carrie\"  female   NaN      1   \n",
       "889                              Behr, Mr. Karl Howell    male  26.0      0   \n",
       "890                                Dooley, Mr. Patrick    male  32.0      0   \n",
       "\n",
       "     Parch            Ticket     Fare Cabin Embarked  \n",
       "0        0         A/5 21171   7.2500   NaN        S  \n",
       "1        0          PC 17599  71.2833   C85        C  \n",
       "2        0  STON/O2. 3101282   7.9250   NaN        S  \n",
       "3        0            113803  53.1000  C123        S  \n",
       "4        0            373450   8.0500   NaN        S  \n",
       "..     ...               ...      ...   ...      ...  \n",
       "886      0            211536  13.0000   NaN        S  \n",
       "887      0            112053  30.0000   B42        S  \n",
       "888      2        W./C. 6607  23.4500   NaN        S  \n",
       "889      0            111369  30.0000  C148        C  \n",
       "890      0            370376   7.7500   NaN        Q  \n",
       "\n",
       "[891 rows x 12 columns]"
      ]
     },
     "execution_count": 2,
     "metadata": {},
     "output_type": "execute_result"
    }
   ],
   "source": [
    "#Dados de entradas de treino\n",
    "df = pd.read_csv('bases/train.csv')\n",
    "\n",
    "#Coloca a coluna de resposta no final\n",
    "df = faa.colocaAlvoComeco(df, 'Survived')\n",
    "\n",
    "#Dados de entrada de teste\n",
    "df_test = pd.read_csv('bases/test.csv')\n",
    "\n",
    "#Dados das soluções dos dados de teste (modelo de submissão)\n",
    "df_gender = pd.read_csv('submissoes/gender_submission.csv')\n",
    "\n",
    "df"
   ]
  },
  {
   "cell_type": "markdown",
   "metadata": {},
   "source": [
    "# Analise dos dados (consistência e distribuição)"
   ]
  },
  {
   "cell_type": "code",
   "execution_count": 3,
   "metadata": {},
   "outputs": [
    {
     "name": "stdout",
     "output_type": "stream",
     "text": [
      "Survived         int64\n",
      "PassengerId      int64\n",
      "Pclass           int64\n",
      "Name            object\n",
      "Sex             object\n",
      "Age            float64\n",
      "SibSp            int64\n",
      "Parch            int64\n",
      "Ticket          object\n",
      "Fare           float64\n",
      "Cabin           object\n",
      "Embarked        object\n",
      "dtype: object\n",
      "************\n",
      "PassengerId      int64\n",
      "Pclass           int64\n",
      "Name            object\n",
      "Sex             object\n",
      "Age            float64\n",
      "SibSp            int64\n",
      "Parch            int64\n",
      "Ticket          object\n",
      "Fare           float64\n",
      "Cabin           object\n",
      "Embarked        object\n",
      "dtype: object\n",
      "************\n"
     ]
    }
   ],
   "source": [
    "#Vê como é o tipo dos dados\n",
    "print(df.dtypes)\n",
    "print('************')\n",
    "print(df_test.dtypes)\n",
    "print('************')"
   ]
  },
  {
   "cell_type": "code",
   "execution_count": 4,
   "metadata": {},
   "outputs": [
    {
     "name": "stdout",
     "output_type": "stream",
     "text": [
      "Colunas que podem ser nulas, e nulos simultâneos:\n",
      "-Treino:\n",
      "[\"['Cabin']\", \"['Age', 'Cabin']\", \"['Age']\", \"['Embarked']\"]\n",
      "-------\n",
      "-Teste:\n",
      "[\"['Cabin']\", \"['Age', 'Cabin']\", \"['Age']\", \"['Fare', 'Cabin']\"]\n",
      "-------\n"
     ]
    }
   ],
   "source": [
    "#Verifica quais valores podem ser nulos simultaneamente\n",
    "print('Colunas que podem ser nulas, e nulos simultâneos:')\n",
    "print('-Treino:')\n",
    "faa.printNullRows(df)\n",
    "print('-Teste:')\n",
    "faa.printNullRows(df_test)"
   ]
  },
  {
   "cell_type": "code",
   "execution_count": 5,
   "metadata": {},
   "outputs": [
    {
     "name": "stdout",
     "output_type": "stream",
     "text": [
      "Name:\n",
      "Quantidade: Total / Nulos / Distintos\n",
      "-Treino: 891 / 0 / 891\n",
      "-Teste: 418 / 0 / 418\n",
      "-------\n",
      "Ticket:\n",
      "Quantidade: Total / Nulos / Distintos\n",
      "-Treino: 891 / 0 / 681\n",
      "-Teste: 418 / 0 / 363\n",
      "-------\n",
      "Cabin:\n",
      "Quantidade: Total / Nulos / Distintos\n",
      "-Treino: 891 / 687 / 147\n",
      "-Teste: 418 / 327 / 76\n",
      "-------\n",
      "Survived:\n",
      "Quantidade: Total / Nulos / Distintos\n",
      "-Treino: 891 / 0 / 2\n",
      "-Teste: 891 / 0 / 2\n",
      "-------\n"
     ]
    }
   ],
   "source": [
    "#Checa novamente a quantidade de nulo e a distribuição dos dados em valores distintos\n",
    "#É a primeira analise que faço pq não preciso supor nada sobre as variáveis\n",
    "\n",
    "faa.distinctValues(df, df_test, 'Name', flag_print = False) #Qualitativa Nominal (O que tirar daqui?)\n",
    "faa.distinctValues(df, df_test, 'Ticket', flag_print = False) #Qualitativa Nominal/Ordinal?\n",
    "faa.distinctValues(df, df_test, 'Cabin', flag_print = False) #Qualitativa Nominal/Ordinal?\n",
    "faa.distinctValues(df, df, 'Survived', flag_print = False) #É importante olhar a distribuição da resposta também!!!"
   ]
  },
  {
   "cell_type": "code",
   "execution_count": 6,
   "metadata": {},
   "outputs": [
    {
     "name": "stdout",
     "output_type": "stream",
     "text": [
      "*******************Sex*******************\n",
      "Não-Nulos Treino: 891\n",
      "Não-Nulos Teste: 418\n"
     ]
    },
    {
     "data": {
      "image/png": "[encoded data removed]",
      "text/plain": [
       "<Figure size 432x288 with 2 Axes>"
      ]
     },
     "metadata": {
      "needs_background": "light"
     },
     "output_type": "display_data"
    },
    {
     "name": "stdout",
     "output_type": "stream",
     "text": [
      "------Nulos------\n",
      "Treino: 0 / 0.0\n",
      "Teste: 0 / 0.0\n",
      " \n",
      "------Quantidade de valores distintos------\n",
      "Treino: 2 / 0.0022\n",
      "Teste: 2 / 0.0048\n",
      " \n"
     ]
    },
    {
     "data": {
      "image/png": "[encoded data removed]",
      "text/plain": [
       "<Figure size 432x288 with 1 Axes>"
      ]
     },
     "metadata": {
      "needs_background": "light"
     },
     "output_type": "display_data"
    },
    {
     "name": "stdout",
     "output_type": "stream",
     "text": [
      "Ganho de Informação: 0.2177\n",
      "Ganho de Informação por Bit: 0.2177\n"
     ]
    }
   ],
   "source": [
    "faa.analiseVariableDiscreteUnsorted(df, df_test, 'Sex')\n",
    "faa.plotConditionalProb(df, 'Sex', 'Survived')"
   ]
  },
  {
   "cell_type": "code",
   "execution_count": 7,
   "metadata": {},
   "outputs": [
    {
     "name": "stdout",
     "output_type": "stream",
     "text": [
      "*******************Embarked*******************\n",
      "Não-Nulos Treino: 889\n",
      "Não-Nulos Teste: 418\n"
     ]
    },
    {
     "data": {
      "image/png": "[encoded data removed]",
      "text/plain": [
       "<Figure size 432x288 with 2 Axes>"
      ]
     },
     "metadata": {
      "needs_background": "light"
     },
     "output_type": "display_data"
    },
    {
     "name": "stdout",
     "output_type": "stream",
     "text": [
      "------Nulos------\n",
      "Treino: 2 / 0.0022\n",
      "Teste: 0 / 0.0\n",
      " \n",
      "------Quantidade de valores distintos------\n",
      "Treino: 3 / 0.0034\n",
      "Teste: 3 / 0.0072\n",
      " \n"
     ]
    },
    {
     "data": {
      "image/png": "[encoded data removed]",
      "text/plain": [
       "<Figure size 432x288 with 1 Axes>"
      ]
     },
     "metadata": {
      "needs_background": "light"
     },
     "output_type": "display_data"
    },
    {
     "name": "stdout",
     "output_type": "stream",
     "text": [
      "Ganho de Informação: 0.021\n",
      "Ganho de Informação por Bit: 0.0132\n"
     ]
    }
   ],
   "source": [
    "faa.analiseVariableDiscreteUnsorted(df, df_test, 'Embarked')\n",
    "faa.plotConditionalProb(df, 'Embarked', 'Survived')"
   ]
  },
  {
   "cell_type": "code",
   "execution_count": 8,
   "metadata": {},
   "outputs": [
    {
     "name": "stdout",
     "output_type": "stream",
     "text": [
      "*******************Pclass*******************\n",
      "             count      mean       std  min  25%  50%  75%  max\n",
      "Pclass       891.0  2.308642  0.836071  1.0  2.0  3.0  3.0  3.0\n",
      "Pclass_test  418.0  2.265550  0.841838  1.0  1.0  3.0  3.0  3.0\n"
     ]
    },
    {
     "data": {
      "image/png": "[encoded data removed]",
      "text/plain": [
       "<Figure size 432x288 with 1 Axes>"
      ]
     },
     "metadata": {
      "needs_background": "light"
     },
     "output_type": "display_data"
    },
    {
     "name": "stdout",
     "output_type": "stream",
     "text": [
      "------Nulos------\n",
      "Treino: 0 / 0.0\n",
      "Teste: 0 / 0.0\n",
      " \n",
      "------Quantidade de valores distintos------\n",
      "Treino: 3 / 0.0034\n",
      "Teste: 3 / 0.0072\n",
      " \n"
     ]
    },
    {
     "data": {
      "image/png": "[encoded data removed]",
      "text/plain": [
       "<Figure size 432x288 with 1 Axes>"
      ]
     },
     "metadata": {
      "needs_background": "light"
     },
     "output_type": "display_data"
    },
    {
     "name": "stdout",
     "output_type": "stream",
     "text": [
      "Ganho de Informação: 0.0838\n",
      "Ganho de Informação por Bit: 0.0529\n"
     ]
    }
   ],
   "source": [
    "faa.analiseVariableContinuousOrDiscreteSorted(df, df_test, 'Pclass', is_continuous = False)\n",
    "faa.plotConditionalProbContinuousOrDiscreteSorted(df, 'Pclass', 'Survived', bins = 3)"
   ]
  },
  {
   "cell_type": "code",
   "execution_count": 9,
   "metadata": {},
   "outputs": [
    {
     "name": "stdout",
     "output_type": "stream",
     "text": [
      "*******************Age*******************\n",
      "          count       mean        std   min     25%   50%   75%   max\n",
      "Age       714.0  29.699118  14.526497  0.42  20.125  28.0  38.0  80.0\n",
      "Age_test  332.0  30.272590  14.181209  0.17  21.000  27.0  39.0  76.0\n"
     ]
    },
    {
     "data": {
      "image/png": "[encoded data removed]",
      "text/plain": [
       "<Figure size 432x288 with 1 Axes>"
      ]
     },
     "metadata": {
      "needs_background": "light"
     },
     "output_type": "display_data"
    },
    {
     "name": "stdout",
     "output_type": "stream",
     "text": [
      "------Nulos------\n",
      "Treino: 177 / 0.1987\n",
      "Teste: 86 / 0.2057\n",
      " \n",
      "------Quantidade de valores distintos------\n",
      "Treino: 88 / 0.1232\n",
      "Teste: 79 / 0.238\n",
      " \n"
     ]
    },
    {
     "data": {
      "image/png": "[encoded data removed]",
      "text/plain": [
       "<Figure size 432x288 with 1 Axes>"
      ]
     },
     "metadata": {
      "needs_background": "light"
     },
     "output_type": "display_data"
    },
    {
     "name": "stdout",
     "output_type": "stream",
     "text": [
      "Ganho de Informação: 0.0375\n",
      "Ganho de Informação por Bit: 0.0162\n"
     ]
    }
   ],
   "source": [
    "faa.analiseVariableContinuousOrDiscreteSorted(df, df_test, 'Age', is_continuous = True)\n",
    "faa.plotConditionalProbContinuousOrDiscreteSorted(df, 'Age', 'Survived', bins = 5)"
   ]
  },
  {
   "cell_type": "code",
   "execution_count": 10,
   "metadata": {},
   "outputs": [
    {
     "name": "stdout",
     "output_type": "stream",
     "text": [
      "*******************SibSp*******************\n",
      "            count      mean       std  min  25%  50%  75%  max\n",
      "SibSp       891.0  0.523008  1.102743  0.0  0.0  0.0  1.0  8.0\n",
      "SibSp_test  418.0  0.447368  0.896760  0.0  0.0  0.0  1.0  8.0\n"
     ]
    },
    {
     "data": {
      "image/png": "[encoded data removed]",
      "text/plain": [
       "<Figure size 432x288 with 1 Axes>"
      ]
     },
     "metadata": {
      "needs_background": "light"
     },
     "output_type": "display_data"
    },
    {
     "name": "stdout",
     "output_type": "stream",
     "text": [
      "------Nulos------\n",
      "Treino: 0 / 0.0\n",
      "Teste: 0 / 0.0\n",
      " \n",
      "------Quantidade de valores distintos------\n",
      "Treino: 7 / 0.0079\n",
      "Teste: 7 / 0.0167\n",
      " \n"
     ]
    },
    {
     "data": {
      "image/png": "[encoded data removed]",
      "text/plain": [
       "<Figure size 432x288 with 1 Axes>"
      ]
     },
     "metadata": {
      "needs_background": "light"
     },
     "output_type": "display_data"
    },
    {
     "name": "stdout",
     "output_type": "stream",
     "text": [
      "Ganho de Informação: 0.0304\n",
      "Ganho de Informação por Bit: 0.0152\n"
     ]
    }
   ],
   "source": [
    "faa.analiseVariableContinuousOrDiscreteSorted(df, df_test, 'SibSp', is_continuous = False)\n",
    "faa.plotConditionalProbContinuousOrDiscreteSorted(df, 'SibSp', 'Survived', bins = 4)"
   ]
  },
  {
   "cell_type": "code",
   "execution_count": 11,
   "metadata": {},
   "outputs": [
    {
     "name": "stdout",
     "output_type": "stream",
     "text": [
      "*******************Parch*******************\n",
      "            count      mean       std  min  25%  50%  75%  max\n",
      "Parch       891.0  0.381594  0.806057  0.0  0.0  0.0  0.0  6.0\n",
      "Parch_test  418.0  0.392344  0.981429  0.0  0.0  0.0  0.0  9.0\n"
     ]
    },
    {
     "data": {
      "image/png": "[encoded data removed]",
      "text/plain": [
       "<Figure size 432x288 with 1 Axes>"
      ]
     },
     "metadata": {
      "needs_background": "light"
     },
     "output_type": "display_data"
    },
    {
     "name": "stdout",
     "output_type": "stream",
     "text": [
      "------Nulos------\n",
      "Treino: 0 / 0.0\n",
      "Teste: 0 / 0.0\n",
      " \n",
      "------Quantidade de valores distintos------\n",
      "Treino: 7 / 0.0079\n",
      "Teste: 8 / 0.0191\n",
      " \n"
     ]
    },
    {
     "data": {
      "image/png": "[encoded data removed]",
      "text/plain": [
       "<Figure size 432x288 with 1 Axes>"
      ]
     },
     "metadata": {
      "needs_background": "light"
     },
     "output_type": "display_data"
    },
    {
     "name": "stdout",
     "output_type": "stream",
     "text": [
      "Ganho de Informação: 0.0228\n",
      "Ganho de Informação por Bit: 0.0114\n"
     ]
    }
   ],
   "source": [
    "faa.analiseVariableContinuousOrDiscreteSorted(df, df_test, 'Parch', is_continuous = False)\n",
    "faa.plotConditionalProbContinuousOrDiscreteSorted(df, 'Parch', 'Survived', bins = 4)"
   ]
  },
  {
   "cell_type": "code",
   "execution_count": 12,
   "metadata": {},
   "outputs": [
    {
     "name": "stdout",
     "output_type": "stream",
     "text": [
      "*******************Fare*******************\n",
      "           count       mean        std  min     25%      50%   75%       max\n",
      "Fare       891.0  32.204208  49.693429  0.0  7.9104  14.4542  31.0  512.3292\n",
      "Fare_test  417.0  35.627188  55.907576  0.0  7.8958  14.4542  31.5  512.3292\n"
     ]
    },
    {
     "data": {
      "image/png": "[encoded data removed]",
      "text/plain": [
       "<Figure size 432x288 with 1 Axes>"
      ]
     },
     "metadata": {
      "needs_background": "light"
     },
     "output_type": "display_data"
    },
    {
     "name": "stdout",
     "output_type": "stream",
     "text": [
      "------Nulos------\n",
      "Treino: 0 / 0.0\n",
      "Teste: 1 / 0.0024\n",
      " \n",
      "------Quantidade de valores distintos------\n",
      "Treino: 248 / 0.2783\n",
      "Teste: 169 / 0.4053\n",
      " \n"
     ]
    },
    {
     "data": {
      "image/png": "[encoded data removed]",
      "text/plain": [
       "<Figure size 432x288 with 1 Axes>"
      ]
     },
     "metadata": {
      "needs_background": "light"
     },
     "output_type": "display_data"
    },
    {
     "name": "stdout",
     "output_type": "stream",
     "text": [
      "Ganho de Informação: 0.1096\n",
      "Ganho de Informação por Bit: 0.0472\n"
     ]
    }
   ],
   "source": [
    "faa.analiseVariableContinuousOrDiscreteSorted(df, df_test, 'Fare', is_continuous = True)\n",
    "faa.plotConditionalProbContinuousOrDiscreteSorted(df, 'Fare', 'Survived', bins = 5)"
   ]
  },
  {
   "cell_type": "code",
   "execution_count": 13,
   "metadata": {},
   "outputs": [
    {
     "name": "stdout",
     "output_type": "stream",
     "text": [
      "*******************Survived*******************\n",
      "Não-Nulos Treino: 891\n",
      "Não-Nulos Teste: 891\n"
     ]
    },
    {
     "data": {
      "image/png": "[encoded data removed]",
      "text/plain": [
       "<Figure size 432x288 with 2 Axes>"
      ]
     },
     "metadata": {
      "needs_background": "light"
     },
     "output_type": "display_data"
    },
    {
     "name": "stdout",
     "output_type": "stream",
     "text": [
      "------Nulos------\n",
      "Treino: 0 / 0.0\n",
      "Teste: 0 / 0.0\n",
      " \n",
      "------Quantidade de valores distintos------\n",
      "Treino: 2 / 0.0022\n",
      "Teste: 2 / 0.0022\n",
      " \n"
     ]
    }
   ],
   "source": [
    "faa.analiseVariableDiscreteUnsorted(df, df, 'Survived')"
   ]
  },
  {
   "cell_type": "markdown",
   "metadata": {},
   "source": [
    "# Conclusões até aqui:"
   ]
  },
  {
   "cell_type": "code",
   "execution_count": 14,
   "metadata": {},
   "outputs": [],
   "source": [
    "#-Cabin:\n",
    "#Todas as cabines são distintas, mas parece ser possível ordená-las por cabines mais próximas\n",
    "#Olhar as pessoas na mesma cabine\n",
    "#Cabine pares ficavam de um lado do navio e as impares do outro\n",
    "\n",
    "#-Ticket:\n",
    "#Existem pessoas com o mesmo ticket. O que significa pessoas com o mesmo ticket?\n",
    "#RESPOSTA: Compraram junto, então podem estar juntos sem ser da mesma familia (babás e cuidadores)\n",
    "\n",
    "#-Name:\n",
    "#O que fazer com o nome? São todos valores distintos, não vai dar informação nenhuma usando assim\n",
    "#RESPOSTA: Pelo menos, podemos olhar o Título que a pessoa tinha\n",
    "\n",
    "#O que fazer com os valores nulos de Age (tem alguns), Fare (tem alguns) e Cabin (tem muitos) e Embarked (tem alguns)?\n",
    "#OBS: Tentar fazer uma estimativa deles olhando a parte do dataset que está completa?\n",
    "#RESPOSTA: Fare e Embarked tem quase nenhum nulo, então podemos usar média ou moda sem muitos problemas\n",
    "#RESPOSTA: Age temos alguns nulos, mas não são maioria, então podemos usar as outras informações do dataset e fazer um modelo\n",
    "#VANTAGEM: Podemos ampliar os dados pq não vamos usar Survived, então podemos juntar df e df_test para modelar a coluna Age\n",
    "#DÚVIDA: Cabin tem muitos nulos (mais da maioria) mas tb há uma quantidade considerável de não nulos (20%)\n",
    "         #então será que não vale a pena pensar em como usar?\n",
    "#IDEIA PARA CABIN: Fazer um modelo com tudo, excluindo Cabin, com um bom modelo dessa forma, input a prob desse modelo nos\n",
    "                    #valores com Cabin (Ensemble) e fazer um segundo modelo para os dados com Cabin usando o Ensemble\n",
    "#VANTAGEM: Assim parece que a prob do modelo anterior vai carregar a informação que conhecemos do dataset completo para esse\n",
    "            #dataset reduzido"
   ]
  },
  {
   "cell_type": "markdown",
   "metadata": {},
   "source": [
    "# Dataset v0"
   ]
  },
  {
   "cell_type": "code",
   "execution_count": 15,
   "metadata": {},
   "outputs": [],
   "source": [
    "#Muda como se descrimina o sexo\n",
    "df2 = facv.simplificaStringSexo(df)\n",
    "df_test2 = facv.simplificaStringSexo(df_test)"
   ]
  },
  {
   "cell_type": "code",
   "execution_count": 17,
   "metadata": {},
   "outputs": [
    {
     "name": "stdout",
     "output_type": "stream",
     "text": [
      "----------------------\n",
      "Age\n",
      "Acurácia Esperada (R^2): -0.4 ± 0.9\n",
      "Erro Esperado: 14.432386793451787\n",
      "----------------------\n",
      "Fare\n",
      "Acurácia Esperada (R^2): -0.6 ± 0.6\n",
      "Erro Esperado: 51.88530134901873\n"
     ]
    }
   ],
   "source": [
    "#Tratamento básicos dos nulo (Tem que juntar os dois dfs pra ficar coerente)\n",
    "df2, df_test2 = fanp.completeWithMean(df2, df_test2, 'Age', force_int = True)\n",
    "df2, df_test2 = fanp.completeWithSpecificValue(df2, df_test2, 'Cabin', specific_value = 'NAO_SEI')\n",
    "df2, df_test2 = fanp.completeWithMostFrequent(df2, df_test2, 'Embarked')\n",
    "df2, df_test2 = fanp.completeWithMean(df2, df_test2, 'Fare', force_int = False)"
   ]
  },
  {
   "cell_type": "code",
   "execution_count": 18,
   "metadata": {},
   "outputs": [
    {
     "name": "stdout",
     "output_type": "stream",
     "text": [
      "<class 'pandas.core.frame.DataFrame'>\n",
      "RangeIndex: 891 entries, 0 to 890\n",
      "Data columns (total 12 columns):\n",
      "Survived       891 non-null int64\n",
      "PassengerId    891 non-null int64\n",
      "Pclass         891 non-null int64\n",
      "Name           891 non-null object\n",
      "Sex            891 non-null object\n",
      "Age            891 non-null float64\n",
      "SibSp          891 non-null int64\n",
      "Parch          891 non-null int64\n",
      "Ticket         891 non-null object\n",
      "Fare           891 non-null float64\n",
      "Cabin          891 non-null object\n",
      "Embarked       891 non-null object\n",
      "dtypes: float64(2), int64(5), object(5)\n",
      "memory usage: 83.7+ KB\n"
     ]
    }
   ],
   "source": [
    "#Remove as colunas que são muito complicados a princípio\n",
    "df2.info()\n",
    "colunas_dropar = ['PassengerId', 'Name', 'Ticket', 'Cabin']\n",
    "df2, df_test2 = fanp.dropColumns(df2, df_test2, colunas_dropar)"
   ]
  },
  {
   "cell_type": "code",
   "execution_count": 19,
   "metadata": {},
   "outputs": [],
   "source": [
    "#Dummeriza as variaveis (Tem que juntar os dois dfs pra dummerizar mesmo pra ficar coerente)\n",
    "\n",
    "#lista_dumerizar = ['Pclass', 'Sex', 'Embarked'] #(Dúvida: se dumerizar Pclass perde a ordem, não perde?)\n",
    "lista_dumerizar = ['Sex', 'Embarked']\n",
    "df2, df_test2 = fanp.dummerizaVariaveis(df2, df_test2, 'Survived', lista_dumerizar)"
   ]
  },
  {
   "cell_type": "code",
   "execution_count": 20,
   "metadata": {},
   "outputs": [
    {
     "data": {
      "text/html": [
       "<div>\n",
       "<style scoped>\n",
       "    .dataframe tbody tr th:only-of-type {\n",
       "        vertical-align: middle;\n",
       "    }\n",
       "\n",
       "    .dataframe tbody tr th {\n",
       "        vertical-align: top;\n",
       "    }\n",
       "\n",
       "    .dataframe thead th {\n",
       "        text-align: right;\n",
       "    }\n",
       "</style>\n",
       "<table border=\"1\" class=\"dataframe\">\n",
       "  <thead>\n",
       "    <tr style=\"text-align: right;\">\n",
       "      <th></th>\n",
       "      <th>Pclass</th>\n",
       "      <th>Age</th>\n",
       "      <th>SibSp</th>\n",
       "      <th>Parch</th>\n",
       "      <th>Fare</th>\n",
       "      <th>Sex_F</th>\n",
       "      <th>Sex_M</th>\n",
       "      <th>Embarked_C</th>\n",
       "      <th>Embarked_Q</th>\n",
       "      <th>Embarked_S</th>\n",
       "    </tr>\n",
       "  </thead>\n",
       "  <tbody>\n",
       "    <tr>\n",
       "      <th>0</th>\n",
       "      <td>3</td>\n",
       "      <td>34.5</td>\n",
       "      <td>0</td>\n",
       "      <td>0</td>\n",
       "      <td>7.8292</td>\n",
       "      <td>0</td>\n",
       "      <td>1</td>\n",
       "      <td>0</td>\n",
       "      <td>1</td>\n",
       "      <td>0</td>\n",
       "    </tr>\n",
       "    <tr>\n",
       "      <th>1</th>\n",
       "      <td>3</td>\n",
       "      <td>47.0</td>\n",
       "      <td>1</td>\n",
       "      <td>0</td>\n",
       "      <td>7.0000</td>\n",
       "      <td>1</td>\n",
       "      <td>0</td>\n",
       "      <td>0</td>\n",
       "      <td>0</td>\n",
       "      <td>1</td>\n",
       "    </tr>\n",
       "    <tr>\n",
       "      <th>2</th>\n",
       "      <td>2</td>\n",
       "      <td>62.0</td>\n",
       "      <td>0</td>\n",
       "      <td>0</td>\n",
       "      <td>9.6875</td>\n",
       "      <td>0</td>\n",
       "      <td>1</td>\n",
       "      <td>0</td>\n",
       "      <td>1</td>\n",
       "      <td>0</td>\n",
       "    </tr>\n",
       "    <tr>\n",
       "      <th>3</th>\n",
       "      <td>3</td>\n",
       "      <td>27.0</td>\n",
       "      <td>0</td>\n",
       "      <td>0</td>\n",
       "      <td>8.6625</td>\n",
       "      <td>0</td>\n",
       "      <td>1</td>\n",
       "      <td>0</td>\n",
       "      <td>0</td>\n",
       "      <td>1</td>\n",
       "    </tr>\n",
       "    <tr>\n",
       "      <th>4</th>\n",
       "      <td>3</td>\n",
       "      <td>22.0</td>\n",
       "      <td>1</td>\n",
       "      <td>1</td>\n",
       "      <td>12.2875</td>\n",
       "      <td>1</td>\n",
       "      <td>0</td>\n",
       "      <td>0</td>\n",
       "      <td>0</td>\n",
       "      <td>1</td>\n",
       "    </tr>\n",
       "    <tr>\n",
       "      <th>...</th>\n",
       "      <td>...</td>\n",
       "      <td>...</td>\n",
       "      <td>...</td>\n",
       "      <td>...</td>\n",
       "      <td>...</td>\n",
       "      <td>...</td>\n",
       "      <td>...</td>\n",
       "      <td>...</td>\n",
       "      <td>...</td>\n",
       "      <td>...</td>\n",
       "    </tr>\n",
       "    <tr>\n",
       "      <th>413</th>\n",
       "      <td>3</td>\n",
       "      <td>30.0</td>\n",
       "      <td>0</td>\n",
       "      <td>0</td>\n",
       "      <td>8.0500</td>\n",
       "      <td>0</td>\n",
       "      <td>1</td>\n",
       "      <td>0</td>\n",
       "      <td>0</td>\n",
       "      <td>1</td>\n",
       "    </tr>\n",
       "    <tr>\n",
       "      <th>414</th>\n",
       "      <td>1</td>\n",
       "      <td>39.0</td>\n",
       "      <td>0</td>\n",
       "      <td>0</td>\n",
       "      <td>108.9000</td>\n",
       "      <td>1</td>\n",
       "      <td>0</td>\n",
       "      <td>1</td>\n",
       "      <td>0</td>\n",
       "      <td>0</td>\n",
       "    </tr>\n",
       "    <tr>\n",
       "      <th>415</th>\n",
       "      <td>3</td>\n",
       "      <td>38.5</td>\n",
       "      <td>0</td>\n",
       "      <td>0</td>\n",
       "      <td>7.2500</td>\n",
       "      <td>0</td>\n",
       "      <td>1</td>\n",
       "      <td>0</td>\n",
       "      <td>0</td>\n",
       "      <td>1</td>\n",
       "    </tr>\n",
       "    <tr>\n",
       "      <th>416</th>\n",
       "      <td>3</td>\n",
       "      <td>30.0</td>\n",
       "      <td>0</td>\n",
       "      <td>0</td>\n",
       "      <td>8.0500</td>\n",
       "      <td>0</td>\n",
       "      <td>1</td>\n",
       "      <td>0</td>\n",
       "      <td>0</td>\n",
       "      <td>1</td>\n",
       "    </tr>\n",
       "    <tr>\n",
       "      <th>417</th>\n",
       "      <td>3</td>\n",
       "      <td>30.0</td>\n",
       "      <td>1</td>\n",
       "      <td>1</td>\n",
       "      <td>22.3583</td>\n",
       "      <td>0</td>\n",
       "      <td>1</td>\n",
       "      <td>1</td>\n",
       "      <td>0</td>\n",
       "      <td>0</td>\n",
       "    </tr>\n",
       "  </tbody>\n",
       "</table>\n",
       "<p>418 rows × 10 columns</p>\n",
       "</div>"
      ],
      "text/plain": [
       "     Pclass   Age  SibSp  Parch      Fare  Sex_F  Sex_M  Embarked_C  \\\n",
       "0         3  34.5      0      0    7.8292      0      1           0   \n",
       "1         3  47.0      1      0    7.0000      1      0           0   \n",
       "2         2  62.0      0      0    9.6875      0      1           0   \n",
       "3         3  27.0      0      0    8.6625      0      1           0   \n",
       "4         3  22.0      1      1   12.2875      1      0           0   \n",
       "..      ...   ...    ...    ...       ...    ...    ...         ...   \n",
       "413       3  30.0      0      0    8.0500      0      1           0   \n",
       "414       1  39.0      0      0  108.9000      1      0           1   \n",
       "415       3  38.5      0      0    7.2500      0      1           0   \n",
       "416       3  30.0      0      0    8.0500      0      1           0   \n",
       "417       3  30.0      1      1   22.3583      0      1           1   \n",
       "\n",
       "     Embarked_Q  Embarked_S  \n",
       "0             1           0  \n",
       "1             0           1  \n",
       "2             1           0  \n",
       "3             0           1  \n",
       "4             0           1  \n",
       "..          ...         ...  \n",
       "413           0           1  \n",
       "414           0           0  \n",
       "415           0           1  \n",
       "416           0           1  \n",
       "417           0           0  \n",
       "\n",
       "[418 rows x 10 columns]"
      ]
     },
     "execution_count": 20,
     "metadata": {},
     "output_type": "execute_result"
    }
   ],
   "source": [
    "df_test2"
   ]
  },
  {
   "cell_type": "code",
   "execution_count": 21,
   "metadata": {},
   "outputs": [],
   "source": [
    "#Coloca a variavel de interesse no final de novo\n",
    "df2 = faa.colocaAlvoComeco(df2, 'Survived')"
   ]
  },
  {
   "cell_type": "code",
   "execution_count": 22,
   "metadata": {},
   "outputs": [
    {
     "data": {
      "text/html": [
       "<div>\n",
       "<style scoped>\n",
       "    .dataframe tbody tr th:only-of-type {\n",
       "        vertical-align: middle;\n",
       "    }\n",
       "\n",
       "    .dataframe tbody tr th {\n",
       "        vertical-align: top;\n",
       "    }\n",
       "\n",
       "    .dataframe thead th {\n",
       "        text-align: right;\n",
       "    }\n",
       "</style>\n",
       "<table border=\"1\" class=\"dataframe\">\n",
       "  <thead>\n",
       "    <tr style=\"text-align: right;\">\n",
       "      <th></th>\n",
       "      <th>Survived</th>\n",
       "      <th>Pclass</th>\n",
       "      <th>Age</th>\n",
       "      <th>SibSp</th>\n",
       "      <th>Parch</th>\n",
       "      <th>Fare</th>\n",
       "      <th>Sex_F</th>\n",
       "      <th>Sex_M</th>\n",
       "      <th>Embarked_C</th>\n",
       "      <th>Embarked_Q</th>\n",
       "      <th>Embarked_S</th>\n",
       "    </tr>\n",
       "  </thead>\n",
       "  <tbody>\n",
       "    <tr>\n",
       "      <th>0</th>\n",
       "      <td>0</td>\n",
       "      <td>3</td>\n",
       "      <td>22.0</td>\n",
       "      <td>1</td>\n",
       "      <td>0</td>\n",
       "      <td>7.2500</td>\n",
       "      <td>0</td>\n",
       "      <td>1</td>\n",
       "      <td>0</td>\n",
       "      <td>0</td>\n",
       "      <td>1</td>\n",
       "    </tr>\n",
       "    <tr>\n",
       "      <th>1</th>\n",
       "      <td>1</td>\n",
       "      <td>1</td>\n",
       "      <td>38.0</td>\n",
       "      <td>1</td>\n",
       "      <td>0</td>\n",
       "      <td>71.2833</td>\n",
       "      <td>1</td>\n",
       "      <td>0</td>\n",
       "      <td>1</td>\n",
       "      <td>0</td>\n",
       "      <td>0</td>\n",
       "    </tr>\n",
       "    <tr>\n",
       "      <th>2</th>\n",
       "      <td>1</td>\n",
       "      <td>3</td>\n",
       "      <td>26.0</td>\n",
       "      <td>0</td>\n",
       "      <td>0</td>\n",
       "      <td>7.9250</td>\n",
       "      <td>1</td>\n",
       "      <td>0</td>\n",
       "      <td>0</td>\n",
       "      <td>0</td>\n",
       "      <td>1</td>\n",
       "    </tr>\n",
       "    <tr>\n",
       "      <th>3</th>\n",
       "      <td>1</td>\n",
       "      <td>1</td>\n",
       "      <td>35.0</td>\n",
       "      <td>1</td>\n",
       "      <td>0</td>\n",
       "      <td>53.1000</td>\n",
       "      <td>1</td>\n",
       "      <td>0</td>\n",
       "      <td>0</td>\n",
       "      <td>0</td>\n",
       "      <td>1</td>\n",
       "    </tr>\n",
       "    <tr>\n",
       "      <th>4</th>\n",
       "      <td>0</td>\n",
       "      <td>3</td>\n",
       "      <td>35.0</td>\n",
       "      <td>0</td>\n",
       "      <td>0</td>\n",
       "      <td>8.0500</td>\n",
       "      <td>0</td>\n",
       "      <td>1</td>\n",
       "      <td>0</td>\n",
       "      <td>0</td>\n",
       "      <td>1</td>\n",
       "    </tr>\n",
       "    <tr>\n",
       "      <th>...</th>\n",
       "      <td>...</td>\n",
       "      <td>...</td>\n",
       "      <td>...</td>\n",
       "      <td>...</td>\n",
       "      <td>...</td>\n",
       "      <td>...</td>\n",
       "      <td>...</td>\n",
       "      <td>...</td>\n",
       "      <td>...</td>\n",
       "      <td>...</td>\n",
       "      <td>...</td>\n",
       "    </tr>\n",
       "    <tr>\n",
       "      <th>886</th>\n",
       "      <td>0</td>\n",
       "      <td>2</td>\n",
       "      <td>27.0</td>\n",
       "      <td>0</td>\n",
       "      <td>0</td>\n",
       "      <td>13.0000</td>\n",
       "      <td>0</td>\n",
       "      <td>1</td>\n",
       "      <td>0</td>\n",
       "      <td>0</td>\n",
       "      <td>1</td>\n",
       "    </tr>\n",
       "    <tr>\n",
       "      <th>887</th>\n",
       "      <td>1</td>\n",
       "      <td>1</td>\n",
       "      <td>19.0</td>\n",
       "      <td>0</td>\n",
       "      <td>0</td>\n",
       "      <td>30.0000</td>\n",
       "      <td>1</td>\n",
       "      <td>0</td>\n",
       "      <td>0</td>\n",
       "      <td>0</td>\n",
       "      <td>1</td>\n",
       "    </tr>\n",
       "    <tr>\n",
       "      <th>888</th>\n",
       "      <td>0</td>\n",
       "      <td>3</td>\n",
       "      <td>30.0</td>\n",
       "      <td>1</td>\n",
       "      <td>2</td>\n",
       "      <td>23.4500</td>\n",
       "      <td>1</td>\n",
       "      <td>0</td>\n",
       "      <td>0</td>\n",
       "      <td>0</td>\n",
       "      <td>1</td>\n",
       "    </tr>\n",
       "    <tr>\n",
       "      <th>889</th>\n",
       "      <td>1</td>\n",
       "      <td>1</td>\n",
       "      <td>26.0</td>\n",
       "      <td>0</td>\n",
       "      <td>0</td>\n",
       "      <td>30.0000</td>\n",
       "      <td>0</td>\n",
       "      <td>1</td>\n",
       "      <td>1</td>\n",
       "      <td>0</td>\n",
       "      <td>0</td>\n",
       "    </tr>\n",
       "    <tr>\n",
       "      <th>890</th>\n",
       "      <td>0</td>\n",
       "      <td>3</td>\n",
       "      <td>32.0</td>\n",
       "      <td>0</td>\n",
       "      <td>0</td>\n",
       "      <td>7.7500</td>\n",
       "      <td>0</td>\n",
       "      <td>1</td>\n",
       "      <td>0</td>\n",
       "      <td>1</td>\n",
       "      <td>0</td>\n",
       "    </tr>\n",
       "  </tbody>\n",
       "</table>\n",
       "<p>891 rows × 11 columns</p>\n",
       "</div>"
      ],
      "text/plain": [
       "     Survived  Pclass   Age  SibSp  Parch     Fare  Sex_F  Sex_M  Embarked_C  \\\n",
       "0           0       3  22.0      1      0   7.2500      0      1           0   \n",
       "1           1       1  38.0      1      0  71.2833      1      0           1   \n",
       "2           1       3  26.0      0      0   7.9250      1      0           0   \n",
       "3           1       1  35.0      1      0  53.1000      1      0           0   \n",
       "4           0       3  35.0      0      0   8.0500      0      1           0   \n",
       "..        ...     ...   ...    ...    ...      ...    ...    ...         ...   \n",
       "886         0       2  27.0      0      0  13.0000      0      1           0   \n",
       "887         1       1  19.0      0      0  30.0000      1      0           0   \n",
       "888         0       3  30.0      1      2  23.4500      1      0           0   \n",
       "889         1       1  26.0      0      0  30.0000      0      1           1   \n",
       "890         0       3  32.0      0      0   7.7500      0      1           0   \n",
       "\n",
       "     Embarked_Q  Embarked_S  \n",
       "0             0           1  \n",
       "1             0           0  \n",
       "2             0           1  \n",
       "3             0           1  \n",
       "4             0           1  \n",
       "..          ...         ...  \n",
       "886           0           1  \n",
       "887           0           1  \n",
       "888           0           1  \n",
       "889           0           0  \n",
       "890           1           0  \n",
       "\n",
       "[891 rows x 11 columns]"
      ]
     },
     "execution_count": 22,
     "metadata": {},
     "output_type": "execute_result"
    }
   ],
   "source": [
    "#Salva esses dados tratados\n",
    "df2.to_csv('bases/train_v0.csv', index = False)\n",
    "df_test2.to_csv('bases/test_v0.csv', index = False)\n",
    "df2"
   ]
  },
  {
   "cell_type": "code",
   "execution_count": null,
   "metadata": {},
   "outputs": [],
   "source": []
  }
 ],
 "metadata": {
  "kernelspec": {
   "display_name": "Python 3",
   "language": "python",
   "name": "python3"
  },
  "language_info": {
   "codemirror_mode": {
    "name": "ipython",
    "version": 3
   },
   "file_extension": ".py",
   "mimetype": "text/x-python",
   "name": "python",
   "nbconvert_exporter": "python",
   "pygments_lexer": "ipython3",
   "version": "3.7.6"
  }
 },
 "nbformat": 4,
 "nbformat_minor": 4
}
